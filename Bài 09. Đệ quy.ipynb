{
 "cells": [
  {
   "cell_type": "markdown",
   "metadata": {},
   "source": [
    "# Bài 09. Đệ quy"
   ]
  },
  {
   "cell_type": "markdown",
   "metadata": {},
   "source": [
    "Trong bài trước, chúng ta đã cùng tìm hiểu thế nào là hàm các cách sử dụng hàm cho ta được lợi ích gì. Tiếp tục trong phần này, chúng ta sẽ tìm hiểu về một kĩ thuật trong lập trình nữa, đó là đệ quy. Đệ quy, tiếng anh gọi là Recursion, là một kĩ thuật, một khái niệm gắn liền với khái niệm hàm. Trong lập trình, kĩ thuật đệ quy rất hay được dùng vì tính cô đọng, xúc tích. Sau khi đọc bài này, chúng ta sẽ biết được:\n",
    "- Đệ quy là gì ?\n",
    "- Các loại đệ quy ?\n",
    "- Khi nào dùng đệ quy ?\n",
    "- Sức mạnh và nhược điểm của đệ quy.\n",
    "- Vận dụng đệ quy vào việc giải một số bài toán lập trình."
   ]
  },
  {
   "cell_type": "markdown",
   "metadata": {},
   "source": [
    "## Nội dung\n",
    "1. **Đệ quy là gì ?**\n",
    "2. **Các loại đệ quy**\n",
    "3. **Ưu điểm và nhược điểm**.\n",
    "4. **Một số bài toán kinh điển**\n",
    "5. **Kết luận**.\n",
    "-----"
   ]
  },
  {
   "cell_type": "markdown",
   "metadata": {},
   "source": [
    "## 1. Đệ quy là gì ?"
   ]
  },
  {
   "cell_type": "markdown",
   "metadata": {},
   "source": [
    "### Định nghĩa"
   ]
  },
  {
   "cell_type": "markdown",
   "metadata": {},
   "source": [
    "Một hàm được gọi là đệ quy khi bên trong thân hàm có lời gọi hàm lại chính nó một cách tường minh \n",
    "hay gián tiếp.\n",
    "\n"
   ]
  },
  {
   "cell_type": "markdown",
   "metadata": {},
   "source": [
    "## 2. Các loại đệ quy"
   ]
  },
  {
   "cell_type": "markdown",
   "metadata": {},
   "source": []
  },
  {
   "cell_type": "markdown",
   "metadata": {},
   "source": []
  },
  {
   "cell_type": "markdown",
   "metadata": {},
   "source": [
    "## 3. Ưu điểm và nhược điểm"
   ]
  },
  {
   "cell_type": "markdown",
   "metadata": {},
   "source": []
  },
  {
   "cell_type": "markdown",
   "metadata": {},
   "source": []
  },
  {
   "cell_type": "markdown",
   "metadata": {},
   "source": [
    "## 5. Một số bài toán kinh điển"
   ]
  },
  {
   "cell_type": "markdown",
   "metadata": {},
   "source": []
  },
  {
   "cell_type": "markdown",
   "metadata": {},
   "source": []
  },
  {
   "cell_type": "markdown",
   "metadata": {},
   "source": [
    "## 6. Kết luận"
   ]
  },
  {
   "cell_type": "markdown",
   "metadata": {},
   "source": []
  },
  {
   "cell_type": "markdown",
   "metadata": {},
   "source": []
  }
 ],
 "metadata": {
  "kernelspec": {
   "display_name": "Python 3",
   "language": "python",
   "name": "python3"
  },
  "language_info": {
   "codemirror_mode": {
    "name": "ipython",
    "version": 3
   },
   "file_extension": ".py",
   "mimetype": "text/x-python",
   "name": "python",
   "nbconvert_exporter": "python",
   "pygments_lexer": "ipython3",
   "version": "3.7.5"
  },
  "latex_envs": {
   "LaTeX_envs_menu_present": true,
   "autoclose": false,
   "autocomplete": true,
   "bibliofile": "biblio.bib",
   "cite_by": "apalike",
   "current_citInitial": 1,
   "eqLabelWithNumbers": true,
   "eqNumInitial": 1,
   "hotkeys": {
    "equation": "Ctrl-E",
    "itemize": "Ctrl-I"
   },
   "labels_anchors": false,
   "latex_user_defs": false,
   "report_style_numbering": false,
   "user_envs_cfg": false
  },
  "toc": {
   "base_numbering": 1,
   "nav_menu": {},
   "number_sections": false,
   "sideBar": true,
   "skip_h1_title": true,
   "title_cell": "Table of Contents",
   "title_sidebar": "Contents",
   "toc_cell": false,
   "toc_position": {},
   "toc_section_display": true,
   "toc_window_display": true
  }
 },
 "nbformat": 4,
 "nbformat_minor": 2
}
