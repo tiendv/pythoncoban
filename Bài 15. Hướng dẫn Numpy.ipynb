{
 "cells": [
  {
   "cell_type": "markdown",
   "metadata": {},
   "source": [
    "# Bài 15. Hướng dẫn Numpy"
   ]
  },
  {
   "cell_type": "markdown",
   "metadata": {},
   "source": [
    "Numpy là một thư viện thiết yếu cho **tính toán khoa học(scientific computing)** với Python. Bên cạnh việc hữu dụng trong tính toán nó còn được dùng như một **container nhiều chiều để chứa dữ liệu**. Kiểu dữ liệu bất kì đề được đều có thể lưu trự bằng mảng nhiều chiều trong Numpy. Điều này cho phép Numpy kết hợp liên tục và nhanh chóng với nhiều loại cơ sở dữ liệu\n",
    "\n",
    "![Numpy](images/bai15/numpy.png)"
   ]
  },
  {
   "cell_type": "markdown",
   "metadata": {},
   "source": [
    "## Nội dung\n",
    "1. **Numpy là gì ?**\n",
    "3. **Các hàm thông dụng**.\n",
    "4. **Một số ví dụ**.\n",
    "5. **Kết luận**\n",
    "6. **Luyện tập**\n",
    "----"
   ]
  },
  {
   "cell_type": "markdown",
   "metadata": {},
   "source": [
    "## 1. Numpy là gì ?"
   ]
  },
  {
   "cell_type": "markdown",
   "metadata": {},
   "source": [
    "Numpy là một thư viện cho Python, giúp ta dễ dàng hơn khi làm việc với những dữ liệu nhiều chiều như arrays hay matrices. Cùng với đó, nó cung cấp một loạt các hàm để thực hiện các phép toán trên các cấu trúc dữ liệu này. Đây là một tóm tắt ngắn về nó:\n",
    "\n",
    "![History of Numpy](images/bai15/hisnumpy.png)\n",
    "\n",
    "- Tác giả: Travis Oliphant\n",
    "\n",
    "- Ra mắt lần đầu tiên vào năm 1994 dưới tên là Matrix Object in Python sau này đổi tên thành NumPy vào 2005.\n",
    "\n",
    "- Ổn định.\n",
    "\n",
    "- Viết bởi ngôn ngữ lập trình Python, C.\n",
    "\n",
    "Đọc thêm: [Travis E. Oliphant, \"NumPy and SciPy: History and Ideas for the Future\"](https://www.slideshare.net/shoheihido/sci-pyhistory)\n",
    "\n",
    "Chúng ta thường dùng Numpy cùng với các thư viện Pandas, Matplotlib. Cái tên **Numpy** được hình thành từ **Num**erical và **Py**thon."
   ]
  },
  {
   "cell_type": "markdown",
   "metadata": {},
   "source": [
    "Đối tượng mảng trong Numpy là đối tượng mà ta sẽ làm việc xuyên suốt, nó cho phép chúng lưu giữ các dữ liệu high-dimension như image(ảnh).\n",
    "\n",
    "Dưới đây là các đối tượng với số chiều là $1, 2, 3$.\n",
    "\n",
    "![Multidimension Array](images/bai15/mularr.png)\n",
    "\n",
    "Kiểu dữ liệu của các phần tử trong array của numpy có thể là số nguyên *int*, có thể là kiểu số thực *float*, ..."
   ]
  },
  {
   "cell_type": "markdown",
   "metadata": {},
   "source": [
    "## 2. Cài đặt Numpy"
   ]
  },
  {
   "cell_type": "markdown",
   "metadata": {},
   "source": [
    "**Bước 01**: Cài đặt Anaconda Distribution phù hợp với OS(Operating System) đang dùng. \n",
    "- Đối với Ubuntu: [How To Install Anaconda on Ubuntu 18.04 [Quickstart]](https://www.digitalocean.com/community/tutorials/how-to-install-anaconda-on-ubuntu-18-04-quickstart)\n",
    "\n",
    "- Đối với Windows: [Installing on Windows\n",
    "](https://docs.anaconda.com/anaconda/install/windows/)"
   ]
  },
  {
   "cell_type": "markdown",
   "metadata": {},
   "source": [
    "**Bước 02**: Tạo môi trường ảo:\n",
    "- Đối với `Ubuntu`: Nhấn tổ hợp phím `Ctrl` + `Alt` + `T` để mở Terminal.\n",
    "- Đối với `Windows`: Mở **Anaconda Prompt**.\n",
    "- Tiếp tục gõ các lệnh sau:\n",
    "\n",
    "```\n",
    "# Cập nhật hệ thống\n",
    "sudo apt-get update\n",
    "\n",
    "# Tạo môi trường ảo\n",
    "conda create -n numpy_env python==3.7.5\n",
    "\n",
    "# kích hoạt môi trường ảo vừa tạo\n",
    "conda activate numpy_env\n",
    "\n",
    "```"
   ]
  },
  {
   "cell_type": "markdown",
   "metadata": {},
   "source": [
    "**Bước 03**: Cài đặt package numpy và jupyter notebook vào môi trường ảo đã kích hoạt\n",
    "```\n",
    "# Cài đặt packages qua pip(python packages manager)\n",
    "pip install numpy jupyter\n",
    "```"
   ]
  },
  {
   "cell_type": "markdown",
   "metadata": {},
   "source": [
    "## 3. Các hàm thông dụng"
   ]
  },
  {
   "cell_type": "markdown",
   "metadata": {},
   "source": [
    "Chúng ta sẽ tìm một hiểu một số cách thức làm việc với đối tượng mảng của numpy như các thao tác tạo lập mảng, các phép toán."
   ]
  },
  {
   "cell_type": "markdown",
   "metadata": {},
   "source": [
    "### Mảng một chiều"
   ]
  },
  {
   "cell_type": "markdown",
   "metadata": {},
   "source": [
    "#### Tạo mảng một chiều\n",
    "Chúng ta dùng hàm `np.array()` để tạo ra các đối tượng `ndarray` trong numpy.\n",
    "\n",
    "Bên trong `array()` ta truyền vào đó danh sách chứa các giá trị mà ta muốn xây dựng. Ví dụ dưới đây sẽ khai báo một mảng một chiều trong numpy."
   ]
  },
  {
   "cell_type": "code",
   "execution_count": 18,
   "metadata": {},
   "outputs": [
    {
     "name": "stdout",
     "output_type": "stream",
     "text": [
      "<class 'numpy.ndarray'>\n",
      "[1 2 3 4]\n"
     ]
    }
   ],
   "source": [
    "# Import thư viện numpy vào và dùng nó dưới tên gọi là np\n",
    "import numpy as np\n",
    "\n",
    "# Tạo mảng một chiều bằng phương thức array()\n",
    "myarray = np.array([1, 2, 3, 4])\n",
    "\n",
    "# Xem kiểu dữ liệu của myarray\n",
    "print(type(myarray))\n",
    "\n",
    "# Xuất dữ liệu của mảng myarray ra ngoài màn hình\n",
    "print(myarray)"
   ]
  },
  {
   "cell_type": "markdown",
   "metadata": {},
   "source": [
    "#### Tạo mảng chỉ rõ kiểu dữ liệu"
   ]
  },
  {
   "cell_type": "code",
   "execution_count": 21,
   "metadata": {},
   "outputs": [
    {
     "name": "stdout",
     "output_type": "stream",
     "text": [
      "<class 'numpy.ndarray'>\n",
      "[[1.+2.j 2.+0.j 3.+0.j 4.+0.j]]\n"
     ]
    }
   ],
   "source": [
    "# Import thư viện numpy vào và dùng nó dưới tên gọi là np\n",
    "import numpy as np\n",
    "\n",
    "# Tạo mảng một chiều bằng phương thức array()\n",
    "myarray = np.array([[1+2j, 2, 3, 4]], dtype=complex)\n",
    "\n",
    "# Xem kiểu dữ liệu của myarray\n",
    "print(type(myarray))\n",
    "\n",
    "# Xuất dữ liệu của mảng myarray ra ngoài màn hình\n",
    "print(myarray)"
   ]
  },
  {
   "cell_type": "markdown",
   "metadata": {},
   "source": [
    "Dưới đây là một số kiểu dữ liệu được dùng cho đối tượng thuộc lớp đối tượng `ndarray`:\n",
    "- `np.int64` : kiểu số nguyên 64 bit không dấu.\n",
    "- `np.float32` : số dấu chấm động với độ chính xác kép.\n",
    "- `np.complex` : số phức.\n",
    "- `np.bool` : có giá trị True hoặc False.\n",
    "- `np.object` : kiểu đối tượng\n",
    "- `np.string_` : kiểu dữ liệu chuỗi có độ dài cố định.\n",
    "- `np.unicode_` : kiểu unicode có độ dài cố định"
   ]
  },
  {
   "cell_type": "markdown",
   "metadata": {},
   "source": [
    "#### Tạo mảng bằng phương thức`arange()`"
   ]
  },
  {
   "cell_type": "code",
   "execution_count": 10,
   "metadata": {},
   "outputs": [
    {
     "name": "stdout",
     "output_type": "stream",
     "text": [
      "[1 2 3 4 5 6 7 8 9]\n"
     ]
    },
    {
     "data": {
      "text/plain": [
       "numpy.ndarray"
      ]
     },
     "execution_count": 10,
     "metadata": {},
     "output_type": "execute_result"
    }
   ],
   "source": [
    "my_arr = np.arange(1,10)\n",
    "print(my_arr)\n",
    "type(my_arr)"
   ]
  },
  {
   "cell_type": "code",
   "execution_count": null,
   "metadata": {},
   "outputs": [],
   "source": []
  },
  {
   "cell_type": "markdown",
   "metadata": {},
   "source": [
    "#### Cộng với một đại lượng vô hướng"
   ]
  },
  {
   "cell_type": "code",
   "execution_count": null,
   "metadata": {},
   "outputs": [],
   "source": []
  },
  {
   "cell_type": "markdown",
   "metadata": {},
   "source": [
    "#### Nhân với một đại lượng vô hướng"
   ]
  },
  {
   "cell_type": "markdown",
   "metadata": {},
   "source": []
  },
  {
   "cell_type": "markdown",
   "metadata": {},
   "source": [
    "#### Phép toán đối với hai mảng một chiều"
   ]
  },
  {
   "cell_type": "markdown",
   "metadata": {},
   "source": []
  },
  {
   "cell_type": "markdown",
   "metadata": {},
   "source": []
  },
  {
   "cell_type": "markdown",
   "metadata": {},
   "source": [
    "### Mảng hai chiều"
   ]
  },
  {
   "cell_type": "markdown",
   "metadata": {},
   "source": [
    "#### Tạo mảng hai chiều"
   ]
  },
  {
   "cell_type": "code",
   "execution_count": null,
   "metadata": {},
   "outputs": [],
   "source": [
    "import numpy as np\n",
    "\n",
    "# Tạo mảng hai chiều\n"
   ]
  },
  {
   "cell_type": "markdown",
   "metadata": {},
   "source": [
    "#### Ma trận là mảng hai chiều"
   ]
  },
  {
   "cell_type": "markdown",
   "metadata": {},
   "source": []
  },
  {
   "cell_type": "code",
   "execution_count": 5,
   "metadata": {},
   "outputs": [],
   "source": [
    "from PIL import Image\n",
    "import numpy as np\n",
    "\n",
    "w, h = 512, 512\n",
    "data = np.zeros((h, w, 3), dtype=np.uint8)\n",
    "data[0:256, 256:513] = [255, 0, 0] # red patch in upper left\n",
    "\n",
    "img = Image.fromarray(data, 'RGB')\n",
    "\n",
    "img.show()"
   ]
  },
  {
   "cell_type": "markdown",
   "metadata": {},
   "source": [
    "#### Các ma trận đặc biệt"
   ]
  },
  {
   "cell_type": "code",
   "execution_count": null,
   "metadata": {},
   "outputs": [],
   "source": []
  },
  {
   "cell_type": "markdown",
   "metadata": {},
   "source": [
    "#### Cộng một số với ma trận"
   ]
  },
  {
   "cell_type": "code",
   "execution_count": null,
   "metadata": {},
   "outputs": [],
   "source": []
  },
  {
   "cell_type": "markdown",
   "metadata": {},
   "source": [
    "#### Cộng hai ma trận"
   ]
  },
  {
   "cell_type": "code",
   "execution_count": null,
   "metadata": {},
   "outputs": [],
   "source": []
  },
  {
   "cell_type": "markdown",
   "metadata": {},
   "source": [
    "#### Nhân hai ma trận"
   ]
  },
  {
   "cell_type": "code",
   "execution_count": null,
   "metadata": {},
   "outputs": [],
   "source": []
  },
  {
   "cell_type": "markdown",
   "metadata": {},
   "source": [
    "#### Ma trận chuyển vị"
   ]
  },
  {
   "cell_type": "code",
   "execution_count": null,
   "metadata": {},
   "outputs": [],
   "source": []
  },
  {
   "cell_type": "markdown",
   "metadata": {},
   "source": [
    "#### Ma trận nghịch đảo"
   ]
  },
  {
   "cell_type": "code",
   "execution_count": null,
   "metadata": {},
   "outputs": [],
   "source": []
  },
  {
   "cell_type": "markdown",
   "metadata": {},
   "source": [
    "#### Visualize mảng hai chiều"
   ]
  },
  {
   "cell_type": "code",
   "execution_count": null,
   "metadata": {},
   "outputs": [],
   "source": [
    "from PIL import Image\n",
    "import numpy as np\n",
    "\n",
    "w, h = 512, 512\n",
    "data = np.zeros((h, w, 3), dtype=np.uint8)\n",
    "data[0:256, 256:513] = [255, 0, 0] # red patch in upper left\n",
    "\n",
    "img = Image.fromarray(data, 'RGB')\n",
    "\n",
    "img.show()"
   ]
  },
  {
   "cell_type": "code",
   "execution_count": null,
   "metadata": {},
   "outputs": [],
   "source": []
  },
  {
   "cell_type": "markdown",
   "metadata": {},
   "source": [
    "### Mảng nhiều chiều"
   ]
  },
  {
   "cell_type": "markdown",
   "metadata": {},
   "source": [
    "#### Khái báo tổng quát cho mảng"
   ]
  },
  {
   "cell_type": "markdown",
   "metadata": {},
   "source": []
  },
  {
   "cell_type": "markdown",
   "metadata": {},
   "source": [
    "#### Các thuộc tính quan trọng của `ndarray`"
   ]
  },
  {
   "cell_type": "markdown",
   "metadata": {},
   "source": []
  },
  {
   "cell_type": "code",
   "execution_count": null,
   "metadata": {},
   "outputs": [],
   "source": []
  },
  {
   "cell_type": "markdown",
   "metadata": {},
   "source": [
    "#### Visualize mảng nhiều chiều"
   ]
  },
  {
   "cell_type": "code",
   "execution_count": null,
   "metadata": {},
   "outputs": [],
   "source": []
  },
  {
   "cell_type": "markdown",
   "metadata": {},
   "source": [
    "## 4. Một vài ví dụ"
   ]
  },
  {
   "cell_type": "code",
   "execution_count": null,
   "metadata": {},
   "outputs": [],
   "source": []
  },
  {
   "cell_type": "code",
   "execution_count": null,
   "metadata": {},
   "outputs": [],
   "source": []
  },
  {
   "cell_type": "code",
   "execution_count": null,
   "metadata": {},
   "outputs": [],
   "source": []
  },
  {
   "cell_type": "code",
   "execution_count": null,
   "metadata": {},
   "outputs": [],
   "source": []
  },
  {
   "cell_type": "code",
   "execution_count": null,
   "metadata": {},
   "outputs": [],
   "source": []
  },
  {
   "cell_type": "markdown",
   "metadata": {},
   "source": [
    "**Tham khảo**\n",
    "\n",
    "[Python NumPy Tutorial – NumPy ndarray & NumPy Array](https://data-flair.training/blogs/python-numpy-tutorial/)\n",
    "\n",
    "[Python Numpy Tutorial](https://www.datacamp.com/community/tutorials/python-numpy-tutorial#visualize)\n",
    "\n",
    "[FundaML 1: Làm việc với mảng một chiều - Machine Learning cơ bản](https://machinelearningcoban.com/2017/10/12/fundaml_vectors/)\n",
    "\n",
    "[FundaML 2: Làm việc với ma trận - Machine Learning cơ bản](https://machinelearningcoban.com/2017/10/20/fundaml_matrices/)\n",
    "\n",
    "[FundaML 3: Làm việc với các mảng ngẫu nhiên - Machine Learning cơ bản](https://machinelearningcoban.com/2017/10/20/fundaml_vectors/)\n",
    "\n",
    "**Cheat Sheet**: [Python For Data Science Cheat Sheet NumPy Basics](https://s3.amazonaws.com/assets.datacamp.com/blog_assets/Numpy_Python_Cheat_Sheet.pdf)"
   ]
  }
 ],
 "metadata": {
  "kernelspec": {
   "display_name": "Python 3",
   "language": "python",
   "name": "python3"
  },
  "language_info": {
   "codemirror_mode": {
    "name": "ipython",
    "version": 3
   },
   "file_extension": ".py",
   "mimetype": "text/x-python",
   "name": "python",
   "nbconvert_exporter": "python",
   "pygments_lexer": "ipython3",
   "version": "3.7.5"
  },
  "latex_envs": {
   "LaTeX_envs_menu_present": true,
   "autoclose": false,
   "autocomplete": true,
   "bibliofile": "biblio.bib",
   "cite_by": "apalike",
   "current_citInitial": 1,
   "eqLabelWithNumbers": true,
   "eqNumInitial": 1,
   "hotkeys": {
    "equation": "Ctrl-E",
    "itemize": "Ctrl-I"
   },
   "labels_anchors": false,
   "latex_user_defs": false,
   "report_style_numbering": false,
   "user_envs_cfg": false
  },
  "toc": {
   "base_numbering": 1,
   "nav_menu": {},
   "number_sections": false,
   "sideBar": true,
   "skip_h1_title": true,
   "title_cell": "Table of Contents",
   "title_sidebar": "Contents",
   "toc_cell": false,
   "toc_position": {
    "height": "calc(100% - 180px)",
    "left": "10px",
    "top": "150px",
    "width": "289.517px"
   },
   "toc_section_display": true,
   "toc_window_display": true
  }
 },
 "nbformat": 4,
 "nbformat_minor": 2
}
