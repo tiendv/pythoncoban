{
 "cells": [
  {
   "cell_type": "markdown",
   "metadata": {},
   "source": [
    "# Chapter 01. Getting Started \n"
   ]
  },
  {
   "cell_type": "markdown",
   "metadata": {},
   "source": [
    "- Trong chương này chúng ta sẽ cài đặt môi trường (evironment) để lập trình Python, cụ thể là Anaconda Navigator.\n",
    "- Cách sử dụng Jupyter Notebook để note lại trong quá trình học.\n",
    "- Viết chương trình đầu tiên: Hello World !"
   ]
  },
  {
   "cell_type": "markdown",
   "metadata": {},
   "source": [
    "## Nội dung:\n",
    "1. **Cài đặt Anaconda trên các hệ điều hành khác nhau**\n",
    "1. **Cái nhìn đầu tiên về Anaconda Environment và Cách sử dụng cơ bản Jupyter Notebook**\n",
    "3. **Chương trình đầu tiên: `Hello World`**\n",
    "5. **Kết luận**"
   ]
  },
  {
   "cell_type": "markdown",
   "metadata": {},
   "source": [
    "## 1. Cài đặt Anaconda trên các hệ điều hành khác nhau"
   ]
  },
  {
   "cell_type": "markdown",
   "metadata": {},
   "source": [
    "#### Các câu hỏi thường gặp :"
   ]
  },
  {
   "cell_type": "markdown",
   "metadata": {},
   "source": [
    "- Để học một ngôn ngữ lập trình nào thì ta đều phải tìm hiểu xem ngôn ngữ ấy là gì ? Tại sao ta phải học ngôn ngữ đấy ? Và khi học ngôn ngữ đấy rồi thì làm được cái chi ?\n",
    "- Bên cạnh các câu hỏi \"rắc rối\" đó thì vấn đề thường gặp phải ở lập trình viên đó là **môi trường lập trình (programming environment)**.\n",
    "- Phải dùng môi trường nào, IDE nào để lập trình trên nó ? Cụ thể ở đây đó là Khi lập trình Python thì sử dụng môi trường nào, IDE nào ? Sử dụng cái nào thì tốt hơn ? Có rất nhiều thứ liên quan mà ta cần làm rõ."
   ]
  },
  {
   "cell_type": "markdown",
   "metadata": {},
   "source": [
    "![Why Python ?](images\\chapter01\\whypython.png)"
   ]
  },
  {
   "cell_type": "markdown",
   "metadata": {},
   "source": [
    "#### Giải đáp câu hỏi:"
   ]
  },
  {
   "cell_type": "markdown",
   "metadata": {},
   "source": [
    "- **Python là một ngôn ngữ lập trình đầy sức mạnh (powerful) và mang tính xu hướng toàn cầu**, với Python ta có thể làm nhiều việc:\n",
    "    + Lập trình bình thường cho các bài học ở trường lớp\n",
    "    + Lập trình Web, làm game\n",
    "    + Được hỗ trợ nhiều thư viện và cộng đồng lập trình viên Python rất lớn nên không sợ thiếu source code và mentor.\n",
    "    + Là ngôn ngữ chủ yếu được dùng trong **Machine Learning** và **Data Science**\n",
    "    + Vần vân và mây mây ...\n",
    "- Hầu như lập trình viên nào cũng điều sử dụng Python cả, cho nên đây là quy luật tất yếu, muốn học chuyên sâu và nhiều thì phải bắt kịp trend nhé (dù trend này lâu lắm rồi).\n",
    "- Đọc thêm: **[Uses of Python](https://www.educba.com/uses-of-python/)**"
   ]
  },
  {
   "cell_type": "markdown",
   "metadata": {},
   "source": [
    "- **Về môi trường lập trình**: có rất nhiều môi trường cho bạn lập trình Python. Đây là điều hiển nhiên, ví dụ như C/C++ thì các môi trường như: Visual Studio, CodeBlocks, DevC, DevC++, ... Ở Python, ta có các môi trường thường được dùng nhiều nhất như sau: Anaconda Navigator, Pycharm, IDE Python, PyDev, Itom,... \n",
    "- **Quá nhiều nơi tốt** để đưa ra lựa chọn IDE mà mình sắp phải làm việc trong thời gian sắp tới, nhiều suy nghĩ trong đầu đặt ra là liệu sử dụng môi trường nào tốt hơn, môi trường nào sẽ thích hợp cho mình học môn mình sắp học,... ?\n",
    "- Ở đây, thống nhất về tư tưởng, chúng ta sử dụng môi trường Anaconda Navigator (chính nè) và Pycharm (phụ thôi) để lập trình ngôn ngữ Python. Sở dĩ chọn Anaconda Navigator vì đây là môi trường được sử dụng nhiều nhất để lập trình Python, trong môi trường này còn cung cấp nhiều IDE thú vị để lập trình có thể ghi lại kết quả khi chạy chương trình, cụ thể Jupyter Notebook. Còn Pycharm là dùng khi lập trình trực tiếp với các chương trình, project chia thành nhiều file, khi đó Pycharm quản lí sẽ dễ dàng hơn."
   ]
  },
  {
   "cell_type": "markdown",
   "metadata": {},
   "source": [
    "### Cài đặt Anaconda Navigator"
   ]
  },
  {
   "cell_type": "markdown",
   "metadata": {},
   "source": [
    "Để cài đặt Anaconda Navigator, trước hết bạn xem hệ điều hành (Operating System) mà bạn đang dùng là gì. Vì ta phải xác định đúng hệ điều hành để chọn bản cài đặt cho phù hợp."
   ]
  },
  {
   "cell_type": "markdown",
   "metadata": {},
   "source": [
    "#### Với hệ điều hành Windows:"
   ]
  },
  {
   "cell_type": "markdown",
   "metadata": {},
   "source": [
    "**Step 1:** Truy cập vào trang web: https://www.anaconda.com/distribution/#windows để download tập tin cài đặt."
   ]
  },
  {
   "cell_type": "markdown",
   "metadata": {},
   "source": [
    "![image.png](images\\chapter01\\installanaconda0.png)"
   ]
  },
  {
   "cell_type": "markdown",
   "metadata": {},
   "source": [
    "Hãy tải phiên bản **Python 3.7 , chọn 64-Bit Graphical Installer (486 MB)** để download tập tin về máy (Nếu máy của bạn sự dụng hệ điều hành Windows 64-bit thì làm y vậy còn nếu là **32-bit** thì chọn phiên bản **Python 3.7 32-Bit Graphical Installer (418 MB)**)."
   ]
  },
  {
   "cell_type": "markdown",
   "metadata": {},
   "source": [
    "**Step 2:** Cài đặt sau khi đã tải installer(các bước như sau)"
   ]
  },
  {
   "cell_type": "markdown",
   "metadata": {},
   "source": [
    "![image.png](images\\chapter01\\installanaconda1.png)"
   ]
  },
  {
   "cell_type": "markdown",
   "metadata": {},
   "source": [
    "- **Double-Click** chuột vào tập tin."
   ]
  },
  {
   "cell_type": "markdown",
   "metadata": {},
   "source": [
    "![image.png](images\\chapter01\\installanaconda2.png)"
   ]
  },
  {
   "cell_type": "markdown",
   "metadata": {},
   "source": [
    "- Chọn **`Next`**"
   ]
  },
  {
   "cell_type": "markdown",
   "metadata": {},
   "source": [
    "![image.png](images\\chapter01\\installanaconda3.png)"
   ]
  },
  {
   "cell_type": "markdown",
   "metadata": {},
   "source": [
    "- Chọn **`Agree`**"
   ]
  },
  {
   "cell_type": "markdown",
   "metadata": {},
   "source": [
    "![image.png](images\\chapter01\\installanaconda4.png)"
   ]
  },
  {
   "cell_type": "markdown",
   "metadata": {},
   "source": [
    "- Chọn **Just Me (recommended)** sau đó nhấn **`Next`**"
   ]
  },
  {
   "cell_type": "markdown",
   "metadata": {},
   "source": [
    "![image.png](images\\chapter01\\installanaconda5.png)"
   ]
  },
  {
   "cell_type": "markdown",
   "metadata": {},
   "source": [
    "- Tại **`Destination Folder`**, ta chọn đường dẫn mà ta sẽ cài đặt Anaconda Navigator, cài đặt cái gì ? **Everything is answer**. Hãy chọn noi bạn muốn cài đặt, nhớ là nó chiếm cũng kha khá bộ nhớ đó. Sau khi chọn đường dẫn xong, nhấn **`Next`**."
   ]
  },
  {
   "cell_type": "markdown",
   "metadata": {},
   "source": [
    "![image.png](images\\chapter01\\installanaconda6.png)"
   ]
  },
  {
   "cell_type": "markdown",
   "metadata": {},
   "source": [
    "- Chọn **`Install`** mà **không tick** vào option nào cả ! Sau đó là quá trình tự cài đặt, hãy kiên nhẫn chờ đợi."
   ]
  },
  {
   "cell_type": "markdown",
   "metadata": {},
   "source": [
    "![image.png](images/chapter01/installanaconda7.png)"
   ]
  },
  {
   "cell_type": "markdown",
   "metadata": {},
   "source": [
    "- Sau khi chờ khoảng vài phút thì cài xong:"
   ]
  },
  {
   "cell_type": "markdown",
   "metadata": {},
   "source": [
    "![image.png](images\\chapter01\\installanaconda8.png)"
   ]
  },
  {
   "cell_type": "markdown",
   "metadata": {},
   "source": [
    "- Chọn **`Next`**"
   ]
  },
  {
   "cell_type": "markdown",
   "metadata": {},
   "source": [
    "![image.png](images\\chapter01\\installanaconda9.png)"
   ]
  },
  {
   "cell_type": "markdown",
   "metadata": {},
   "source": [
    "- Chọn **`Next`** nữa:"
   ]
  },
  {
   "cell_type": "markdown",
   "metadata": {},
   "source": [
    "![image.png](images\\chapter01\\installanaconda10.png)"
   ]
  },
  {
   "cell_type": "markdown",
   "metadata": {},
   "source": [
    "- Chọn **`Finish`** để hoàn tất việc cài đặt."
   ]
  },
  {
   "cell_type": "markdown",
   "metadata": {},
   "source": [
    "**Step 3**: Kiểm tra xem cài đặt thế nào"
   ]
  },
  {
   "cell_type": "markdown",
   "metadata": {},
   "source": [
    "- Sau khi đã cài đặt **thành công qua mắt** thì ta cần check lại xem việc cài đặt đó như thế nào, có thật là thành công hay không ? Cách đơn giản để test đó là vào **Anaconda Prompt** rồi chạy thử code Python."
   ]
  },
  {
   "cell_type": "markdown",
   "metadata": {},
   "source": [
    "![image.png](images\\chapter01\\testwindows.png)"
   ]
  },
  {
   "cell_type": "markdown",
   "metadata": {},
   "source": [
    "![image.png](images\\chapter01\\testwindows1.png)"
   ]
  },
  {
   "cell_type": "markdown",
   "metadata": {},
   "source": [
    "- Gõ vào command: **`python`**, nó sẽ trông như vầy:"
   ]
  },
  {
   "cell_type": "markdown",
   "metadata": {},
   "source": [
    "![image.png](images\\chapter01\\testwindows2.png)"
   ]
  },
  {
   "cell_type": "markdown",
   "metadata": {},
   "source": [
    "- Gõ vào lệnh sau: **`import this`**"
   ]
  },
  {
   "cell_type": "markdown",
   "metadata": {},
   "source": [
    "![image.png](images\\chapter01\\testwindows3.png)"
   ]
  },
  {
   "cell_type": "markdown",
   "metadata": {},
   "source": [
    "- **Có lẽ là một đoạn thơ hay là một đoạn văn sẽ phản hồi lại lệnh bạn vữa gõ. Nếu nó phản hồi, thì bạn đã cài thành công rồi đấy. Nếu không phản hồi thì suy nghĩ lại coi mình có làm gì sai không nhé.**\n",
    "- Để thoát khỏi chương trình Python,  gõ vào lệnh **`exit()`**"
   ]
  },
  {
   "cell_type": "markdown",
   "metadata": {},
   "source": [
    "![image.png](images\\chapter01\\testwindows4.png)"
   ]
  },
  {
   "cell_type": "markdown",
   "metadata": {},
   "source": [
    "#### Với hệ điều hành Ubuntu (Linux thu hẹp):"
   ]
  },
  {
   "cell_type": "markdown",
   "metadata": {},
   "source": [
    "**Ubuntu** với đặc trưng là **command line** trên **Terminal** nên chúng ta sẽ cài đặt qua các command line trên Terminal nhé. Để cài đặt Anaconda sử dụng các command line sau (theo thứ tự):"
   ]
  },
  {
   "cell_type": "markdown",
   "metadata": {},
   "source": [
    "**Step 1**: Tìm phiên bản Anaconda Navigator mới nhất tính đến thời điểm hiện tại. Từ trình duyệt web, hãy truy cập trang [Anaconda Distribution](https://www.anaconda.com/distribution/#download-section) và tìm Python version 3.7 với môi trường cần cài đặt là Linux (hình con chim cánh cụt. Sau đó copy **Bash script** của file đó ( bash script là kiểu như đường dẫn của tập tin)."
   ]
  },
  {
   "cell_type": "markdown",
   "metadata": {},
   "source": [
    "![image.png](images\\chapter01\\installubuntu0.png)"
   ]
  },
  {
   "cell_type": "markdown",
   "metadata": {},
   "source": [
    "![image.png](images\\chapter01\\installubuntu1.png)"
   ]
  },
  {
   "cell_type": "markdown",
   "metadata": {},
   "source": [
    "- Chỉ cần chọn  **copy link address** là ta đã lấy được **bash script** của file. Tại thời điểm này (10/09/2019) thì bash script cần copy có dạng: **`https://repo.anaconda.com/archive/Anaconda3-2019.07-Linux-x86_64.sh`**."
   ]
  },
  {
   "cell_type": "markdown",
   "metadata": {},
   "source": [
    "**Step 2**: Tải Anaconda Bash Script. Đăng nhập vào máy của của bạn với tư cách là người dùng **sudo non-root**, di chuyển vào thư mục **/tmp** và sử dụng **curl** để tải xuống liên kết bạn đã sao chép từ trang web Anaconda:"
   ]
  },
  {
   "cell_type": "code",
   "execution_count": 1,
   "metadata": {},
   "outputs": [],
   "source": [
    "# cd /tmp\n",
    "# curl -O https://repo.anaconda.com/archive/Anaconda3-2019.07-Linux-x86_64.sh"
   ]
  },
  {
   "cell_type": "markdown",
   "metadata": {},
   "source": [
    "*Lưu ý: bỏ dấu **#** và copy code nhé và `shift`+`paste` nhé*"
   ]
  },
  {
   "cell_type": "markdown",
   "metadata": {},
   "source": [
    "**Step 3**: Xác minh tính toàn vẹn dữ liệu của trình cài đặt."
   ]
  },
  {
   "cell_type": "code",
   "execution_count": 2,
   "metadata": {},
   "outputs": [],
   "source": [
    "# sha256sum Anaconda3-2019.07-Linux-x86_64.sh"
   ]
  },
  {
   "cell_type": "markdown",
   "metadata": {},
   "source": [
    "Output sẽ có dạng như vầy: "
   ]
  },
  {
   "cell_type": "markdown",
   "metadata": {},
   "source": [
    "```\n",
    "45c851b7497cc14d5ca060064394569f724b67d9b5f98a926ed49b834a6bb73a  Anaconda3-2019.07-Linux-x86_64.sh\n",
    "```"
   ]
  },
  {
   "cell_type": "markdown",
   "metadata": {},
   "source": [
    "**Step 4**: Run the Anaconda Script. "
   ]
  },
  {
   "cell_type": "code",
   "execution_count": 3,
   "metadata": {},
   "outputs": [],
   "source": [
    "# bash Anaconda3-2019.07-Linux-x86_64.sh"
   ]
  },
  {
   "cell_type": "markdown",
   "metadata": {},
   "source": [
    "Bạn sẽ nhận được lại phản hồi như sau:"
   ]
  },
  {
   "cell_type": "code",
   "execution_count": null,
   "metadata": {},
   "outputs": [],
   "source": []
  },
  {
   "cell_type": "markdown",
   "metadata": {},
   "source": [
    "Nhấn **`yes`** để hoàn tất cài đặt."
   ]
  },
  {
   "cell_type": "markdown",
   "metadata": {},
   "source": [
    "**Step 5**: Hoàn tất quá trình cài đặt. Khi bạn đồng ý với license, bạn sẽ được nhắc chọn vị trí cài đặt. Bạn có thể nhấn **ENTER** để chấp nhận vị trí mặc định hoặc chỉ định một vị trí khác."
   ]
  },
  {
   "cell_type": "markdown",
   "metadata": {},
   "source": [
    "![image.png](images\\chapter01\\installubuntu3.png)"
   ]
  },
  {
   "cell_type": "markdown",
   "metadata": {},
   "source": [
    "Tại thời điểm này, việc cài đặt sẽ tiến hành. Lưu ý rằng quá trình cài đặt mất một thời gian."
   ]
  },
  {
   "cell_type": "markdown",
   "metadata": {},
   "source": [
    "**Step 6**: Thiết lập tùy chọn. Sau khi cài đặt hoàn tất, bạn sẽ nhận được hiển thị như sau:"
   ]
  },
  {
   "cell_type": "markdown",
   "metadata": {},
   "source": [
    "![image.png](images\\chapter01\\installubuntu4.png)"
   ]
  },
  {
   "cell_type": "markdown",
   "metadata": {},
   "source": [
    "Theo khuyến cáo thì bạn nên accept bằng cách gõ **`yes`** để mặc định dùng **conda** comments."
   ]
  },
  {
   "cell_type": "markdown",
   "metadata": {},
   "source": [
    "**Step 7**: Kích hoạt cài đặt. Bây giờ bạn có thể kích hoạt cài đặt bằng lệnh sau:"
   ]
  },
  {
   "cell_type": "code",
   "execution_count": 4,
   "metadata": {},
   "outputs": [],
   "source": [
    "# source ~/.bashrc"
   ]
  },
  {
   "cell_type": "markdown",
   "metadata": {},
   "source": [
    "**Step 8**: Test installation. Sử dụng conda comment để kiểm tra việc cài đặt và kích hoạt."
   ]
  },
  {
   "cell_type": "code",
   "execution_count": 5,
   "metadata": {},
   "outputs": [],
   "source": [
    "# conda list"
   ]
  },
  {
   "cell_type": "markdown",
   "metadata": {},
   "source": [
    "Bạn sẽ thấy được tất cả các packages mà đã được cài đặt trong Anaconda."
   ]
  },
  {
   "cell_type": "markdown",
   "metadata": {},
   "source": [
    "**Step 9**: Thiết lập môi trường làm việc cụ thể. Anaconda là một môi trường lớn cực kì màm ở đó ta có thể thoải mái tạo ra các nơi để ta chơi một các dễ dàng. Cụ thể ở đây ta sẽ tạo ra một môi trường phục vụ cho việc làm học tập Python nhé:"
   ]
  },
  {
   "cell_type": "code",
   "execution_count": 6,
   "metadata": {},
   "outputs": [],
   "source": [
    "# conda create --name my_env python=3.7"
   ]
  },
  {
   "cell_type": "markdown",
   "metadata": {},
   "source": [
    "Dòng code trên sẽ tạo ra một môi trường có tên là **`my_env`** và install cho chúng ta Python version 3.7 vào môi trường **`my_env`** . Bạn có thể tùy ý đặt tên môi trường theo sở thích và lựa chọn package để cài đặt vào môi trường."
   ]
  },
  {
   "cell_type": "markdown",
   "metadata": {},
   "source": [
    "Kích hoạt môi trường vừa mới tạo ra:"
   ]
  },
  {
   "cell_type": "code",
   "execution_count": 7,
   "metadata": {},
   "outputs": [],
   "source": [
    "# conda activate my_env"
   ]
  },
  {
   "cell_type": "markdown",
   "metadata": {},
   "source": [
    "- **Command prompt prefix** của bạn sẽ thay đổi để báo rằng bạn đang ở trong môi trường ảo nào của Anaconda và bạn bây giờ bạn đã hoàn tất việc cài đặt Anaconda trên Ubuntu rồi nhé."
   ]
  },
  {
   "cell_type": "markdown",
   "metadata": {},
   "source": [
    "Sau khi đã cài đặt được môi trường Anaconda, ta có thể code được rồi. Tuy nhiên đây chưa phải là lúc để học Python. Hãy tìm hiểu một chút về **Anaconda Enviroment** và **Jupyter Notebook**."
   ]
  },
  {
   "cell_type": "markdown",
   "metadata": {},
   "source": [
    "## 2. Cái nhìn đầu tiên về Anaconda Environment và Cách sử dụng Jupyter Notebook"
   ]
  },
  {
   "cell_type": "markdown",
   "metadata": {},
   "source": [
    "Nói về **Anaconda Navigator** thì **giao diện (interface)** của nó rất thân thiện và trực quan từ cái nhìn đầu tiên (trên Windows - vì tôi sử dụng hệ điều hành Windows là chủ yếu)."
   ]
  },
  {
   "cell_type": "markdown",
   "metadata": {},
   "source": [
    "![image.png](images\\chapter01\\interfaceanaconda0.png)"
   ]
  },
  {
   "cell_type": "markdown",
   "metadata": {},
   "source": [
    "- Ở cửa sổ **Home**, Anaconda Navigator chứa nhiều môi trường khác nhau: `JupyterLab`, `Jupyter NoteBook`, `Spyder`, `Glueviz`, `Orange 3`, `RStudio`, `VSCode`. Mỗi một môi trường này có những thuận lợi khác nhau mà ta có thể sử dụng khi gặp bài toán nào đó cần giải quyết.\n",
    "- Chọn cửa sổ **Environment**, ta sẽ thấy như sau: "
   ]
  },
  {
   "cell_type": "markdown",
   "metadata": {},
   "source": [
    "![image.png](images\\chapter01\\interfaceanaconda1.png)"
   ]
  },
  {
   "cell_type": "markdown",
   "metadata": {},
   "source": [
    "- Bên trong **Environments** có thể có rất nhiều môi trường nhỏ hơn nữa (ở đây tạm gọi là môi trường con), bạn có thể thoải mái thêm, xóa các môi trường con được hiển thị tại đó.\n",
    "- **Trong lúc lập trình bạn chỉ làm việc với `một` môi trường nào đó trong tập hợp môi trường có sẵn**.\n",
    "- Ví dụ ở hình trên, thì Environments của mình có 2 môi trường, một cái là có sẵn (được cài trong lúc cài đặt Anaconda), một cái là do mình tạo ra để làm việc gì đó.\n",
    "- Đối với các bạn mới cài đặt Anacodna Navigator thì chỉ có 1 môi trường thôi, cụ thể là **base(root)** là môi trường được tạo ra trong lúc cài đặt Anaconda. Bên phải là **danh sách các packages** mà ta đã cài đặt vào môi trường. Các packages này theo dòng thời gian ta lập trình có thể được cập nhật (update) hay cài mới hẳn, và sẽ thêm vào một số packages sao cho phù hợp với bài toán ta cần xử lý.\n",
    "- Việc **phân chia môi trường con** giúp bạn có thể sử dụng môi trường với những thư viện được cài đặt phù hợp và chuyên biệt hóa cho một nhiệm vụ nào đó."
   ]
  },
  {
   "cell_type": "markdown",
   "metadata": {},
   "source": [
    "- Quay lại với vấn đề, đó là Jupyter NoteBook. `Jupyter Notebook` là một môi trường cho phép bạn **vừa học vừa note** lại điều bạn vừa học (đơn giản lắm).\n",
    "- Để mở Jupyter Notebook:\n",
    "    + Đối với Windows Operating System: vào **Anaconda Prompt**, gõ lệnh này vào: **`jupyter notebook`**.\n",
    "    + Đối với Ubuntu Operating System: vào **Terminal** và chuyển hướng đến nơi mình muốn làm việc, sau đó gõ **`jupyter notebook`**."
   ]
  },
  {
   "cell_type": "markdown",
   "metadata": {},
   "source": [
    "- Sau lệnh này, ta thấy giao diện của Jupyter hiện ra như sau:"
   ]
  },
  {
   "cell_type": "markdown",
   "metadata": {},
   "source": [
    "![image.png](images\\chapter01\\interfacejupyter0.png)"
   ]
  },
  {
   "cell_type": "markdown",
   "metadata": {},
   "source": [
    "- Hãy tạo một thư mục với tên do bạn yêu thích để ta lưu các bài học bằng file jupyter sẽ được học (trong các chương sau).\n",
    "- Ví dụ ở đây mình tạo ra một folder có tên là **`Learning Python`**:"
   ]
  },
  {
   "cell_type": "markdown",
   "metadata": {},
   "source": [
    "![image.png](images\\chapter01\\interfacejupyter1.png)"
   ]
  },
  {
   "cell_type": "markdown",
   "metadata": {},
   "source": [
    "- Chọn **Folder** và đặt tên thư mục là **`Learning Python`**:"
   ]
  },
  {
   "cell_type": "markdown",
   "metadata": {},
   "source": [
    "![image.png](images\\chapter01\\interfacejupyter2.png)"
   ]
  },
  {
   "cell_type": "markdown",
   "metadata": {},
   "source": [
    "![image.png](images\\chapter01\\interfacejupyter3.png)"
   ]
  },
  {
   "cell_type": "markdown",
   "metadata": {},
   "source": [
    "![image.png](images\\chapter01\\interfacejupyter4.png)"
   ]
  },
  {
   "cell_type": "markdown",
   "metadata": {},
   "source": [
    "- Sau khi rename ta đã tạo có được thư mục với tên **`Learning Python`**."
   ]
  },
  {
   "cell_type": "markdown",
   "metadata": {},
   "source": [
    "![image.png](images\\chapter01\\interfacejupyter5.png)"
   ]
  },
  {
   "cell_type": "markdown",
   "metadata": {},
   "source": [
    "- Vào thư mục này và tạo một file jupyter có tên là **`Hello World.ipynb`**  (thách thức cho các bạn). Sau khi tạo xong, hãy mở file đấy bằng cách double-click vào tên file. **Giao diện ban đầu của nơi bạn code và note** sẽ như vầy:"
   ]
  },
  {
   "cell_type": "markdown",
   "metadata": {},
   "source": [
    "![image.png](images\\chapter01\\interfacejupyter6.png)"
   ]
  },
  {
   "cell_type": "markdown",
   "metadata": {},
   "source": [
    "![image.png](images\\chapter01\\interfacejupyter7.png)"
   ]
  },
  {
   "cell_type": "markdown",
   "metadata": {},
   "source": [
    "Sau khi mở file này ta đã hoàn thành **quá trình cơ bản nhất của việc sử dụng Jupyter Notebook để tạo ra một file**. Tiếp theo ta sẽ xem làm sao mà ta viết chương trình đầu tiên Hello World !. Một chương trình khá là truyền thống trong lập trình."
   ]
  },
  {
   "cell_type": "markdown",
   "metadata": {},
   "source": [
    "## 3. Chương trình đầu tiên: `Hello World`"
   ]
  },
  {
   "cell_type": "markdown",
   "metadata": {},
   "source": [
    "- Trước khi code, ta hãy quan sát **các đối tượng** bên trong môi trường jupyter mà ta sắp làm việc:"
   ]
  },
  {
   "cell_type": "markdown",
   "metadata": {},
   "source": [
    "![image.png](images\\chapter01\\instruction0.png)"
   ]
  },
  {
   "cell_type": "markdown",
   "metadata": {},
   "source": [
    "![image.png](images\\chapter01\\instruction1.png)"
   ]
  },
  {
   "cell_type": "markdown",
   "metadata": {},
   "source": [
    "- **Đối tượng** mà ta sẽ làm việc xuyên suốt trong quá trình lập trình trên môi trường jupyter notebook là **`Cell`**. Cell lại có 2 loại:\n",
    "    + **`Markdown`**: dùng để ghi các các dạng dữ liệu, ví dụ: text, image, table,... Ngôn ngữ markdown có nguồn gốc từ ngôn ngữ HTML dùng để ghi các dữ liệu mà đã được biết trước (theo thuật ngữ tin học thì gọi là compile-time).\n",
    "    + **`Code`**: Dùng để code thôi, code bằng ngôn ngừ lập trình Python hoặc R. Nhưng ở đây ta chỉ bàn về ngôn ngữ Python. Khi thực thi đoạn code bên trong Cell Code thì ngay lập tức ta được output của chương trình trong Cell Code bên dưới đấy (run-time)"
   ]
  },
  {
   "cell_type": "markdown",
   "metadata": {},
   "source": [
    "**Bây giờ đã đến lúc code, nhưng mà code ở đâu ?**"
   ]
  },
  {
   "cell_type": "markdown",
   "metadata": {},
   "source": [
    "![image.png](images\\chapter01\\instruction2.png)"
   ]
  },
  {
   "cell_type": "markdown",
   "metadata": {},
   "source": [
    "- Kí hiệu **`In[]:`** là nơi chúng ta code bằng ngôn ngữ lập trình Python. Bây giờ chúng ta bắt đầu viết chương trình đầu tiên nhé, **in ra màn hình câu thông báo: Hello World !**:"
   ]
  },
  {
   "cell_type": "code",
   "execution_count": 8,
   "metadata": {},
   "outputs": [
    {
     "name": "stdout",
     "output_type": "stream",
     "text": [
      "Hello World !\n"
     ]
    }
   ],
   "source": [
    "# Chương trình đầu tiên in ra màn hình lời chào: Hello World !\n",
    "print(\"Hello World !\")"
   ]
  },
  {
   "cell_type": "markdown",
   "metadata": {},
   "source": [
    "- Để **run** chương trình (cụ thể ở đây là đoạn code chỉ có 2 dòng) ta nhấn tổ hợp phím **`Shift`** + **`Enter`** hoặc vào thanh công cụ **`Cell`** chọn **`Run Cell`** hoặc đơn thuần chỉ cần chọn vào Button **`Run`** có sẵn ở giao diện.\n",
    "- Ở dòng 1: Đó là một câu command dạo không ảnh hướng đến chương trình.\n",
    "- Ở dòng 2: Đây chính là dòng mà khi thực thi nó sẽ tạo ra output như bên dưới: \"Hello World !\""
   ]
  },
  {
   "cell_type": "markdown",
   "metadata": {},
   "source": [
    "- Giải thích:\n",
    "    + Mỗi một đối tượng **Cell** có thể là Cell dùng để code hoặc là cell dùng để viết những thứ khác lên.\n",
    "    + Nếu là **Cell code** thì mình thoải mái viết code mà ta muốn code.\n",
    "    + Nếu là **Cell note** thì mình sẽ ghi lại, giải thích, chú thích, dẫn dắt để giúp người đọc người nghe biết mình đang sắp làm gì và mình có thể diễn giải trực tiếp cùng với code.\n",
    "    + The combination of **`code` and `note`** là ưu điểm của Jupyter Notebook giúp ta thoải mái lập trình và ghi lại nhật kí của ta trong quá trình suy nghĩ giải quyết vấn đề, không chỉ đơn thuần là code mà còn là tiếng lòng của lập trình viên."
   ]
  },
  {
   "cell_type": "markdown",
   "metadata": {},
   "source": [
    "#### Vừa code vừa note với Hello World !"
   ]
  },
  {
   "cell_type": "markdown",
   "metadata": {},
   "source": [
    "![image.png](images\\chapter01\\HelloWorld.png)"
   ]
  },
  {
   "cell_type": "markdown",
   "metadata": {},
   "source": [
    "- Trông có vẽ hấp dẫn hơn nhiều phải không ? Đó là sức mạnh của Notebook đấy.\n",
    "- Khi nào bạn muốn làm gì đó mà không biết phải là sao thì có thể tra cứu trên google. Tra cứu ở đâu ? \n",
    "    + https://mechasolution.vn/Blog/bai-3-su-dung-jupyter-notebook-cho-python\n",
    "    + https://cafeforty.wordpress.com/2018/12/20/cach-su-dung-co-ban-cua-trinh-soan-thao-web-da-chuc-nang-jupyter-notebook/\n",
    "    + https://jupyter-notebook-beginner-guide.readthedocs.io/en/latest/execute.html\n",
    "- Các tutorial ở trên đều rất hay nhưng mình chưa đọc :) . Các bạn có nhu cầu xuất hiện thì tham khảo nhé."
   ]
  },
  {
   "cell_type": "markdown",
   "metadata": {},
   "source": [
    "### Quay trở lại việc chính: Python"
   ]
  },
  {
   "cell_type": "markdown",
   "metadata": {},
   "source": [
    "- Sau tất cả, khi bạn đọc được đến đây và không có gì trắc trở trong quá trình hướng dẫn của mình thì xin chúc mừng bạn. Bạn có vẽ chưa gặp may lắm. Nếu bạn có gặp trở ngại và đã tìm được cách giải quyết thì mình thật lòng chúc mừng nhen ;)\n",
    "- Điều mà ta cần bàn nhiều nhất ở đây không phải là môi trường lập trình mà là ta đã thấy được hình hài đầu tiên của chương trình viết bằng ngôn ngữ Python.\n",
    "- Rất đơn giản phải không, chỉ vỏn vẹn 2 vòng, chính xác thì cần 1 vòng thôi chứ :)."
   ]
  },
  {
   "cell_type": "markdown",
   "metadata": {},
   "source": [
    "## 4. Kết luận"
   ]
  },
  {
   "cell_type": "markdown",
   "metadata": {},
   "source": [
    "- Qua chương *1. Getting Started*, chúng ta đã biết thêm khá nhiều thứ, đó là Anaconda Navigator, một môi trường mà gần như là rất hot bây giờ (2019).\n",
    "- Nhưng mục tiêu của chúng ta vẫn là **viết được chương trình Hello World !**. Chúng ta đã làm được\n",
    "- Thực sự chương trình này không xa lạ hay gây khó khăn gì đối với các bạn đã từng học lập trình. Nhưng đây là điều cần thiết vì nó đem lại cái nhìn đầu tiên về Python. **Liệu Python có dễ dàng hay không khi chương trình đầu tiên chỉ có 1 dòng code  ?**\n",
    "-  **Kết thúc chương 1  tại đây, đến chương 2 chúng ta sẽ tìm hiểu về các đối tượng trong ngôn ngữ Python mà ta sẽ làm việc, cụ thể là khái niệm biến và kiểu dữ liệu.**"
   ]
  },
  {
   "cell_type": "markdown",
   "metadata": {},
   "source": [
    "### Thách thức:"
   ]
  },
  {
   "cell_type": "markdown",
   "metadata": {},
   "source": [
    "- Hãy tham khảo link cài đặt **Pycharm** [ở đây](https://www.jetbrains.com/help/pycharm/installation-guide.html) và hãy cài đặt viết chương trình đầu tiên Hello World ! nhé."
   ]
  }
 ],
 "metadata": {
  "kernelspec": {
   "display_name": "Python 3",
   "language": "python",
   "name": "python3"
  },
  "language_info": {
   "codemirror_mode": {
    "name": "ipython",
    "version": 3
   },
   "file_extension": ".py",
   "mimetype": "text/x-python",
   "name": "python",
   "nbconvert_exporter": "python",
   "pygments_lexer": "ipython3",
   "version": "3.7.5"
  },
  "latex_envs": {
   "LaTeX_envs_menu_present": true,
   "autoclose": false,
   "autocomplete": true,
   "bibliofile": "biblio.bib",
   "cite_by": "apalike",
   "current_citInitial": 1,
   "eqLabelWithNumbers": true,
   "eqNumInitial": 1,
   "hotkeys": {
    "equation": "Ctrl-E",
    "itemize": "Ctrl-I"
   },
   "labels_anchors": false,
   "latex_user_defs": false,
   "report_style_numbering": false,
   "user_envs_cfg": false
  },
  "toc": {
   "base_numbering": 1,
   "nav_menu": {},
   "number_sections": false,
   "sideBar": true,
   "skip_h1_title": true,
   "title_cell": "Table of Contents",
   "title_sidebar": "Contents",
   "toc_cell": false,
   "toc_position": {},
   "toc_section_display": true,
   "toc_window_display": true
  }
 },
 "nbformat": 4,
 "nbformat_minor": 2
}
