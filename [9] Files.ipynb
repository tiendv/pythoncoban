{
 "cells": [
  {
   "cell_type": "markdown",
   "metadata": {},
   "source": [
    "# Bài 10. Làm việc với Files"
   ]
  },
  {
   "cell_type": "markdown",
   "metadata": {},
   "source": [
    "- Ngoài việc nhập xuất dữ liệu qua bàn phím, màn hình chúng ta còn có các luồng nhập xuất khác, điển hình là việc đọc và ghi dữ liệu với file.\n",
    "\n",
    "- File ở đây là một tập tin mà bạn thường gặp, ví dụ như một file word *.xdoc*, file excel *.xxl*, file ảnh *.png*, *jpeg*, ...\n",
    "\n",
    "- **Trong phần này ta sẽ tìm hiểu về các thao tác `nhập`, `xuất`, `xử lí` dữ liệu trên file và ví dụ cụ thể.** "
   ]
  },
  {
   "cell_type": "markdown",
   "metadata": {},
   "source": [
    "## Nội dung\n",
    "1. Tại sao nên làm việc với file ?\n",
    "2. Flow làm việc với Files.\n",
    "3. Các thao tác cơ bản khi làm việc với file.\n",
    "4. Tìm hiểu thư viện os.\n",
    "5. Kết luận\n",
    "\n",
    "----"
   ]
  },
  {
   "cell_type": "markdown",
   "metadata": {},
   "source": [
    "## 1. Tại sao nên làm việc với file ?"
   ]
  },
  {
   "cell_type": "markdown",
   "metadata": {},
   "source": [
    "Từ lúc đầu đến giờ chúng ta chỉ nhập dữ liệu qua bàn phim hoặc là trong chương trình chúng ta đã cung cấp dữ liệu có sẵn. Việc nhập dữ liệu này có hạn chế, đó là khi chương trình phức tạp cần được kiểm tra nhiều lần thì phải nhập đi nhập lại các giá trị để test xem chương trình có thực thi đúng hay không, vừa tốt sức lực và thời gian.\n",
    "\n",
    "Một hạn chế nữa đó là việc xuất dữ liệu sẽ bị mất, nghĩa là không lưu lại dữ liệu đầu ra, sau này nếu muốn kiểm tra lại thì phải thực thi lại chương trình, chúng ta nhập liệu rồi lại quan sát kết quả, dẫn đến việc tốn thời gian và sức lực.\n",
    "\n",
    "$\\Rightarrow$ **Tóm lại**: với việc nhập liệu và xuất liệu từ đầu đến giờ, chúng ta mất thơi gian và sức lực."
   ]
  },
  {
   "cell_type": "markdown",
   "metadata": {},
   "source": [
    "Files là một đối tượng có khả năng lưu trữ dữ liệu. Chúng ta có thể dùng file để đọc dữ liệu vào chương trình và viết dữ liệu từ chương trình ra file. \n",
    "\n",
    "Chúng ta chỉ cần viết một đoạn chương trình cho việc đọc dữ liệu từ file nào đó cần thiết, như thế là khi chạy chương trình, chúng ta không cần nhập dữ liệu, vì dữ liệu đã được nhập từ file rồi.\n",
    "\n",
    "Đương nhiên ta cũng sẽ viết một đoạn chương trình nữa cho việc viết dữ liệu đầu ra cho file. Như vậy khi muốn xem output của chương trình như thế nào thì chỉ cần mở file đó và xem, không cần phải chạy lại lần nữa.\n",
    "\n",
    "$\\Rightarrow$ **Tóm lại**: Files giúp chúng ta nhẹ nhàng hơn trong việc nhập xuất dữ liệu."
   ]
  },
  {
   "cell_type": "markdown",
   "metadata": {},
   "source": [
    "Một điểm ưu việc của file nữa, đó là file đóng gói dữ liệu lại thành một đối tượng, dễ dàng trong việc gửi, nhận thông tin qua lại. Ví dụ, thay vì gửi một danh sách các học sinh trong trường từng dòng một thì ta sẽ tạo một file excel lưu giữ toàn bộ thông tin của các học sinh. Khi đó việc gửi thông tin của học sinh chỉ là việc gửi một file excel duy nhất. \n",
    "\n",
    "**$\\Rightarrow$ That' so awesome !!**"
   ]
  },
  {
   "cell_type": "markdown",
   "metadata": {},
   "source": [
    "## 2. Flow làm việc với files"
   ]
  },
  {
   "cell_type": "markdown",
   "metadata": {},
   "source": [
    "- File lưu trữ dữ liệu, vì vậy để lấy được dữ liệu làm việc ta phải **mở file**.\n",
    "\n",
    "- Sau khi mở được file ta thực hiện các thao tác **đọc dữ liệu trong file**. \n",
    "\n",
    "- Tiếp tục ta dùng dữ liệu đã được đọc vào chương trình để thực hiện các tác vụ gì đấy.\n",
    "\n",
    "- Sau khi **hoàn thành các thao tác xử lý** thì ta lưu trữ giá trị output đầu ra của chương trình thì ta **đóng file** mà chúng ta mở để đọc dữ liệu. \n",
    "\n",
    "*Ngoài ra, chúng ta có thể lưu trữ dữ liệu đầu ra vào trong một file mới để dễ dàng cho việc kiểm tra.*"
   ]
  },
  {
   "cell_type": "markdown",
   "metadata": {},
   "source": [
    "![Flow working with files](images/bai10/flowworingwithfiles.png)"
   ]
  },
  {
   "cell_type": "markdown",
   "metadata": {},
   "source": [
    "## 3. Các thao tác cơ bản khi làm việc với files"
   ]
  },
  {
   "cell_type": "markdown",
   "metadata": {},
   "source": [
    "### 3.1 Mở và đóng file"
   ]
  },
  {
   "cell_type": "markdown",
   "metadata": {},
   "source": [
    "**Cách 1**: `open(filename, mode)`"
   ]
  },
  {
   "cell_type": "markdown",
   "metadata": {},
   "source": [
    "- Ta sử dụng phương thức `open()` được xây dựng sẵn để `mở file` cần xử lí.\n",
    "- Phương thức `open()` trả về giá trị là một đối tượng file.\n",
    "- Cú pháp (syntax): \n",
    "\n",
    "```\n",
    "                                    open(filename, mode)\n",
    "```"
   ]
  },
  {
   "cell_type": "markdown",
   "metadata": {},
   "source": [
    "- Trong đó: \n",
    "    + `filename` là **đường dẫn** của file được lưu trong máy.\n",
    "    + `mode` là **chế độ làm việc** sau khi mở file ( mở để đọc dữ liệu từ file hay là để ghi dữ liệu lên file).\n",
    "- Có nhiều cho ta lựa chọn:\n",
    "    + Chế độ mở file và chỉ đọc dữ liệu từ tập tin: `open(filename, 'r')`\n",
    "    + Chế độ mở file và chỉ ghi dữ liệu lên file, trước đó nó xóa tất cả dữ liệu trên file: `open(filename, 'w')`\n",
    "    + Chế độ mở file và chỉ ghi tiếp tục dữ liệu lên file, không làm mất dữ liệu trước đó: `open(filename, 'a')`\n",
    "    + Chế độ mở cho cả đọc và viết: `open(filename, 'r+')`\n",
    "- *Nếu không chỉ rõ chế độ, chương trình sẽ mặc định mode là `'r'`.*"
   ]
  },
  {
   "cell_type": "markdown",
   "metadata": {},
   "source": [
    "- Normally, files are opened in text mode, that means, you read and write strings from and to the file, which are encoded in a specific encoding. \n",
    "- If encoding is not specified, the default is platform dependent (see open()).\n",
    "- `'b'` appended to the mode opens the file in binary mode: now the data is read and written in the form of bytes objects.\n",
    "- This mode should be used for all files that don’t contain text."
   ]
  },
  {
   "cell_type": "code",
   "execution_count": 1,
   "metadata": {},
   "outputs": [],
   "source": [
    "# Mở file\n",
    "filename = \"images/bai10/input.txt\"\n",
    "f = open(filename, 'r')"
   ]
  },
  {
   "cell_type": "code",
   "execution_count": 2,
   "metadata": {},
   "outputs": [
    {
     "name": "stdout",
     "output_type": "stream",
     "text": [
      "r\n"
     ]
    }
   ],
   "source": [
    "# Xem chế độ mở file\n",
    "print(f.mode)"
   ]
  },
  {
   "cell_type": "code",
   "execution_count": 3,
   "metadata": {},
   "outputs": [
    {
     "name": "stdout",
     "output_type": "stream",
     "text": [
      "images/bai10/input.txt\n"
     ]
    }
   ],
   "source": [
    "# Xem tên tập tin \n",
    "print(f.name)"
   ]
  },
  {
   "cell_type": "code",
   "execution_count": 4,
   "metadata": {
    "scrolled": true
   },
   "outputs": [
    {
     "data": {
      "text/plain": [
       "False"
      ]
     },
     "execution_count": 4,
     "metadata": {},
     "output_type": "execute_result"
    }
   ],
   "source": [
    "# Kiểm tra xem file đã đóng chưa\n",
    "f.closed"
   ]
  },
  {
   "cell_type": "code",
   "execution_count": 5,
   "metadata": {},
   "outputs": [
    {
     "data": {
      "text/plain": [
       "True"
      ]
     },
     "execution_count": 5,
     "metadata": {},
     "output_type": "execute_result"
    }
   ],
   "source": [
    "# Đóng file\n",
    "f.close()\n",
    "\n",
    "# Kiểm traxem việc đóng file có thành công hay không\n",
    "f.closed"
   ]
  },
  {
   "cell_type": "markdown",
   "metadata": {},
   "source": [
    "**Cách 2**: `with open() as`\n",
    "\n",
    "Cách này sẽ đảm bảo khi làm việc xong thì file sẽ được đóng một cách tự động, sẽ không xảy ra mất mát khi chúng ta quên đi thao tác đóng tập tin."
   ]
  },
  {
   "cell_type": "code",
   "execution_count": 6,
   "metadata": {},
   "outputs": [
    {
     "name": "stdout",
     "output_type": "stream",
     "text": [
      "File closed\n"
     ]
    }
   ],
   "source": [
    "filename = \"images/bai10/input.txt\"\n",
    "with open(filename,'r') as rf:\n",
    "    pass\n",
    "\n",
    "if rf.closed:\n",
    "    print(\"File closed\")\n",
    "else:\n",
    "    print(\"File yet closed\")"
   ]
  },
  {
   "cell_type": "markdown",
   "metadata": {},
   "source": [
    "### 3.2 Các thao tác"
   ]
  },
  {
   "cell_type": "markdown",
   "metadata": {},
   "source": [
    "#### Đọc dữ liệu từ file `(read from file)`"
   ]
  },
  {
   "cell_type": "markdown",
   "metadata": {},
   "source": [
    "**`read()`**"
   ]
  },
  {
   "cell_type": "code",
   "execution_count": 7,
   "metadata": {},
   "outputs": [
    {
     "name": "stdout",
     "output_type": "stream",
     "text": [
      "Danh sách động vật cần bảo tồn:\n",
      "1. Chim cánh cụt\n",
      "2. Sếu đầu đỏ\n",
      "3. Gấu trắng Bắc Cực\n",
      "4. Cá Voi\n",
      "5. Tiến Nguyễn\n"
     ]
    }
   ],
   "source": [
    "filename = \"images/bai10/input.txt\"\n",
    "with open(filename,'r', encoding = 'utf8') as rf:\n",
    "    contents = rf.read()\n",
    "    print(contents)"
   ]
  },
  {
   "cell_type": "markdown",
   "metadata": {},
   "source": [
    "**`readline()`**: đọc duy nhất 1 dòng trong tập tin."
   ]
  },
  {
   "cell_type": "code",
   "execution_count": 8,
   "metadata": {},
   "outputs": [
    {
     "name": "stdout",
     "output_type": "stream",
     "text": [
      "Danh sách động vật cần bảo tồn:\n",
      "1. Chim cánh cụt\n"
     ]
    }
   ],
   "source": [
    "filename = \"images/bai10/input.txt\"\n",
    "\n",
    "with open(filename,'r', encoding = 'utf8') as rf:\n",
    "    contents = rf.readline()\n",
    "    print(contents, end=\"\")\n",
    "    contents = rf.readline()\n",
    "    print(contents, end=\"\")"
   ]
  },
  {
   "cell_type": "code",
   "execution_count": 9,
   "metadata": {},
   "outputs": [
    {
     "name": "stdout",
     "output_type": "stream",
     "text": [
      "Danh sách động vật cần bảo tồn:\n",
      "1. Chim cánh cụt\n",
      "2. Sếu đầu đỏ\n",
      "3. Gấu trắng Bắc Cực\n",
      "4. Cá Voi\n",
      "5. Tiến Nguyễn"
     ]
    }
   ],
   "source": [
    "filename = \"images/bai10/input.txt\"\n",
    "\n",
    "with open(filename,'r', encoding = 'utf8') as rf:\n",
    "    for line in rf:\n",
    "        print(line,end=\"\")"
   ]
  },
  {
   "cell_type": "markdown",
   "metadata": {},
   "source": [
    "**`read(size)`**: đọc dữ liệu từ tập tin với số lượng kí tự cụ thể là *size*."
   ]
  },
  {
   "cell_type": "code",
   "execution_count": 10,
   "metadata": {},
   "outputs": [
    {
     "name": "stdout",
     "output_type": "stream",
     "text": [
      "Danh sách "
     ]
    }
   ],
   "source": [
    "filename = \"images/bai10/input.txt\"\n",
    "\n",
    "with open(filename,'r', encoding = 'utf8') as rf:\n",
    "    content = rf.read(10)\n",
    "    print(content, end=\"\")"
   ]
  },
  {
   "cell_type": "code",
   "execution_count": 11,
   "metadata": {},
   "outputs": [
    {
     "name": "stdout",
     "output_type": "stream",
     "text": [
      "Danh sách động vật cần bảo tồn:\n",
      "1. Chim cá"
     ]
    }
   ],
   "source": [
    "filename = \"images/bai10/input.txt\"\n",
    "\n",
    "with open(filename,'r', encoding='utf8') as rf:\n",
    "    content = rf.readline()\n",
    "    print(content,end=\"\")\n",
    "    content = rf.read(10)\n",
    "    print(content, end=\"\")"
   ]
  },
  {
   "cell_type": "code",
   "execution_count": 12,
   "metadata": {},
   "outputs": [
    {
     "name": "stdout",
     "output_type": "stream",
     "text": [
      "Danh sách động vật cần bảo tồn:\n",
      "1. Chim cánh cụt\n",
      "2. Sếu đầu đỏ\n",
      "3. Gấu trắng Bắc Cực\n",
      "4. Cá Voi\n",
      "5. Tiến Nguyễn"
     ]
    }
   ],
   "source": [
    "filename = \"images/bai10/input.txt\"\n",
    "\n",
    "with open(filename,'r', encoding = 'utf8') as rf:\n",
    "    size_of_read = 10\n",
    "    while len(contents) > 0:\n",
    "        contents = rf.read(size_of_read)\n",
    "        print(contents, end=\"\")"
   ]
  },
  {
   "cell_type": "markdown",
   "metadata": {},
   "source": [
    "**`tell()`**: xem vị trí con trỏ trong file đang ở đâu."
   ]
  },
  {
   "cell_type": "code",
   "execution_count": 13,
   "metadata": {},
   "outputs": [
    {
     "name": "stdout",
     "output_type": "stream",
     "text": [
      "0\n",
      "11\n",
      "45\n"
     ]
    }
   ],
   "source": [
    "filename = \"images/bai10/input.txt\"\n",
    "\n",
    "with open(filename,'r', encoding = 'utf8') as rf:\n",
    "    print(rf.tell())\n",
    "    \n",
    "    rf.read(10)\n",
    "    print(rf.tell())\n",
    "    \n",
    "    rf.readline()\n",
    "    print(rf.tell())"
   ]
  },
  {
   "cell_type": "markdown",
   "metadata": {},
   "source": [
    "#### Viết dữ liệu lên file `(write to file)`"
   ]
  },
  {
   "cell_type": "markdown",
   "metadata": {},
   "source": [
    "- Mở trong chế độ `write to file` cho thao tác ghi lên file, nếu file không có sẵn (không tồn tại) thì tự động tạo một file có tên y chang vậy mà rỗng."
   ]
  },
  {
   "cell_type": "code",
   "execution_count": 14,
   "metadata": {},
   "outputs": [],
   "source": [
    "filename = \"images/bai10/input2.txt\"\n",
    "\n",
    "with open(filename,'w', encoding='utf8') as wf:\n",
    "    pass"
   ]
  },
  {
   "cell_type": "markdown",
   "metadata": {},
   "source": [
    "**`write()`**"
   ]
  },
  {
   "cell_type": "code",
   "execution_count": 15,
   "metadata": {},
   "outputs": [],
   "source": [
    "# Viết lên file\n",
    "filename = \"images/bai10/input2.txt\"\n",
    "\n",
    "with open(filename, 'w', encoding='utf8') as wf:\n",
    "    wf.write(\"Gods of Egypt\")\n",
    "    wf.write(\"\\nHorus: the main character\")"
   ]
  },
  {
   "cell_type": "markdown",
   "metadata": {},
   "source": [
    "**`seek()`**"
   ]
  },
  {
   "cell_type": "code",
   "execution_count": 16,
   "metadata": {},
   "outputs": [
    {
     "name": "stdout",
     "output_type": "stream",
     "text": [
      "Mùa hạng đẹp vì có em ở bên anh\n"
     ]
    }
   ],
   "source": [
    "# Viết dữ liệu lên file nhưng chọn vị trí viết\n",
    "filename = \"images/bai10/input2.txt\"\n",
    "\n",
    "with open(filename,'w', encoding='utf8') as wf:\n",
    "    wf.write(\"Mùa đông đẹp vì có em ở bên anh\")\n",
    "    wf.seek(4)\n",
    "    wf.write(\" hạ\")\n",
    "    \n",
    "with open(filename, 'r', encoding='utf8') as r:\n",
    "    contents = r.read()\n",
    "    print(contents)"
   ]
  },
  {
   "cell_type": "markdown",
   "metadata": {},
   "source": [
    "#### Lưu dữ liệu vào tập tin"
   ]
  },
  {
   "cell_type": "markdown",
   "metadata": {},
   "source": [
    "Thật sự, khi làm việc với file, chúng ta không chỉ làm việc với file đó mà chúng ta thường lấy dữ liệu từ file đó để phục vụ cho một việc làm cụ thể nào đó. \n",
    "\n",
    "Ví dụ như chúng ta đọc vào máy của chúng ta một hình ảnh, chúng ta đóng vai là một người xử lý ảnh bằng ngôn ngữ lập trình, chúng ta muốn làm mờ tấm ảnh để thu được một tấm ảnh mới *ảo* hơn tấm ảnh gốc. Dĩ nhiên chúng ta vẫn làm được những điều này nhưng khi đã làm mờ được tấm ảnh mà chúng ta không lưu lại thì các thao tác trên vẫn vô dụng.\n",
    "\n",
    "$\\Rightarrow$ **Vì vậy phải save lại những thứ mà mình tạo ra.**"
   ]
  },
  {
   "cell_type": "code",
   "execution_count": 17,
   "metadata": {},
   "outputs": [],
   "source": [
    "import cv2\n",
    "import numpy as np\n",
    "\n",
    "filename = \"images/bai10/dog.png\"\n",
    "n = 45\n",
    "\n",
    "# Mở file + đọc dữ liệu từ file \n",
    "img = cv2.imread(filename)\n",
    "\n",
    "# Xử lý dữ liệu từ file\n",
    "num_rows, num_cols = img.shape[:2]\n",
    "rotation_matrix = cv2.getRotationMatrix2D((num_cols/2, num_rows/2), n, 1)\n",
    "img_rotation = cv2.warpAffine(img, rotation_matrix, (num_cols, num_rows))\n",
    "\n",
    "# Hiển thị ảnh gốc và ảnh sau xử lý\n",
    "cv2.imshow(f'Rotated image', img_rotation)\n",
    "cv2.imshow('Original image', img)\n",
    "\n",
    "# Lưu ảnh đã được xử lý\n",
    "cv2.imwrite('images/bai10/rotated-dog.png', img_rotation)\n",
    "\n",
    "cv2.waitKey()\n",
    "cv2.destroyAllWindows()"
   ]
  },
  {
   "cell_type": "markdown",
   "metadata": {},
   "source": [
    "Bạn sẽ nhận được hai hình ảnh hiện thị như dưới đây.\n",
    "\n",
    "![Saving files](images/bai10/savefile.png)"
   ]
  },
  {
   "cell_type": "markdown",
   "metadata": {},
   "source": [
    "#### Xóa tập tin"
   ]
  },
  {
   "cell_type": "markdown",
   "metadata": {},
   "source": [
    "Thay vì bạn vào trực tiếp nơi lưu trữ các tập tin bạn cần xóa để xóa folder hay tập tin đó, bạn cũng có thể **lập trình để xóa folder hay tập tin đó**."
   ]
  },
  {
   "cell_type": "markdown",
   "metadata": {},
   "source": [
    "**Xóa folder**\n",
    "\n",
    "Cú pháp:\n",
    "```python\n",
    "import os\n",
    "os.rmdir(\"path of folder\")\n",
    "```\n",
    "\n",
    "`rmdir()` viết tắt của cụm từ **remove directory**(xóa đường dẫn)."
   ]
  },
  {
   "cell_type": "markdown",
   "metadata": {},
   "source": [
    "Giả sử chúng ta có một tập tin có đường dẫn là `D:\\google-drive\\Java\\example` như hình bên dưới. \n",
    "\n",
    "![remove folder](images/bai10/remove-folder.png)"
   ]
  },
  {
   "cell_type": "markdown",
   "metadata": {},
   "source": [
    "Để xóa folder example ta thực thi lệnh sau:"
   ]
  },
  {
   "cell_type": "code",
   "execution_count": 18,
   "metadata": {},
   "outputs": [
    {
     "ename": "FileNotFoundError",
     "evalue": "[Errno 2] No such file or directory: 'D:/google-drive/Java/example'",
     "output_type": "error",
     "traceback": [
      "\u001b[0;31m---------------------------------------------------------------------------\u001b[0m",
      "\u001b[0;31mFileNotFoundError\u001b[0m                         Traceback (most recent call last)",
      "\u001b[0;32m<ipython-input-18-c6b8990cb0d8>\u001b[0m in \u001b[0;36m<module>\u001b[0;34m\u001b[0m\n\u001b[1;32m      1\u001b[0m \u001b[0;32mimport\u001b[0m \u001b[0mos\u001b[0m\u001b[0;34m\u001b[0m\u001b[0;34m\u001b[0m\u001b[0m\n\u001b[0;32m----> 2\u001b[0;31m \u001b[0mos\u001b[0m\u001b[0;34m.\u001b[0m\u001b[0mrmdir\u001b[0m\u001b[0;34m(\u001b[0m\u001b[0;34m\"D:/google-drive/Java/example\"\u001b[0m\u001b[0;34m)\u001b[0m\u001b[0;34m\u001b[0m\u001b[0;34m\u001b[0m\u001b[0m\n\u001b[0m",
      "\u001b[0;31mFileNotFoundError\u001b[0m: [Errno 2] No such file or directory: 'D:/google-drive/Java/example'"
     ]
    }
   ],
   "source": [
    "import os\n",
    "os.rmdir(\"D:/google-drive/Java/example\")"
   ]
  },
  {
   "cell_type": "markdown",
   "metadata": {},
   "source": [
    "Kiểm tra lại ta thấy folder ta muốn xóa đã được xóa hoàn toàn.\n",
    "\n",
    "![test remove folder successfully](images/bai10/remove-folder1.png)"
   ]
  },
  {
   "cell_type": "markdown",
   "metadata": {},
   "source": [
    "**Xóa tập tin**"
   ]
  },
  {
   "cell_type": "markdown",
   "metadata": {},
   "source": [
    "Tương tự như cách xóa folder, xóa file ta cũng cần đường dẫn cụ thể của file. Ở đây, chúng ta tạo một file có tên là example.py có đường dẫn lưu trong máy là: `F:\\Documents\\example.py` như hình bên dưới\n",
    "\n",
    "![Remove File](images/bai10/remove-file.png)\n",
    "\n",
    "Thực thi đoạn lệnh sau để xóa tập tin này như sau:"
   ]
  },
  {
   "cell_type": "code",
   "execution_count": null,
   "metadata": {},
   "outputs": [],
   "source": [
    "import os\n",
    "if os.path.exists(\"F:/Documents/example.py\"):\n",
    "  os.remove(\"F:/Documents/example.py\")\n",
    "else:\n",
    "  print(\"The file does not exist\")"
   ]
  },
  {
   "cell_type": "markdown",
   "metadata": {},
   "source": [
    "Kiểm tra lại ta thấy tác vụ đã thực hiện thành công.\n",
    "\n",
    "![Test remove file](images/bai10/test-remove-file.png)"
   ]
  },
  {
   "cell_type": "markdown",
   "metadata": {},
   "source": [
    "## 4. Tìm hiểu thư viện os"
   ]
  },
  {
   "cell_type": "markdown",
   "metadata": {},
   "source": []
  },
  {
   "cell_type": "markdown",
   "metadata": {},
   "source": []
  },
  {
   "cell_type": "markdown",
   "metadata": {},
   "source": [
    "## 5. Kết luận"
   ]
  },
  {
   "cell_type": "markdown",
   "metadata": {},
   "source": [
    "File vừa là nơi lưu trữ dữ liệu mà còn giúp cho thao tác nhập liệu dễ dàng, không cần phải nhập đi nhập lại các con số cho việc kiểm lỗi của một chương trình. "
   ]
  },
  {
   "cell_type": "markdown",
   "metadata": {},
   "source": []
  },
  {
   "cell_type": "markdown",
   "metadata": {},
   "source": [
    "### Tham khảo\n",
    "- [Python Tutorial: File Objects - Reading and Writing to Files](https://www.youtube.com/watch?v=Uh2ebFW8OYM)\n",
    "- [Python Delete File](https://www.w3schools.com/python/python_file_remove.asp)"
   ]
  },
  {
   "cell_type": "code",
   "execution_count": null,
   "metadata": {},
   "outputs": [],
   "source": []
  }
 ],
 "metadata": {
  "kernelspec": {
   "display_name": "Python 3",
   "language": "python",
   "name": "python3"
  },
  "language_info": {
   "codemirror_mode": {
    "name": "ipython",
    "version": 3
   },
   "file_extension": ".py",
   "mimetype": "text/x-python",
   "name": "python",
   "nbconvert_exporter": "python",
   "pygments_lexer": "ipython3",
   "version": "3.7.5"
  },
  "latex_envs": {
   "LaTeX_envs_menu_present": true,
   "autoclose": false,
   "autocomplete": true,
   "bibliofile": "biblio.bib",
   "cite_by": "apalike",
   "current_citInitial": 1,
   "eqLabelWithNumbers": true,
   "eqNumInitial": 1,
   "hotkeys": {
    "equation": "Ctrl-E",
    "itemize": "Ctrl-I"
   },
   "labels_anchors": false,
   "latex_user_defs": false,
   "report_style_numbering": false,
   "user_envs_cfg": false
  },
  "toc": {
   "base_numbering": 1,
   "nav_menu": {},
   "number_sections": false,
   "sideBar": true,
   "skip_h1_title": true,
   "title_cell": "Table of Contents",
   "title_sidebar": "Contents",
   "toc_cell": false,
   "toc_position": {
    "height": "calc(100% - 180px)",
    "left": "10px",
    "top": "150px",
    "width": "223.188px"
   },
   "toc_section_display": true,
   "toc_window_display": true
  }
 },
 "nbformat": 4,
 "nbformat_minor": 2
}
