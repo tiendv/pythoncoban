{
 "cells": [
  {
   "cell_type": "markdown",
   "metadata": {},
   "source": [
    "# Bài 06. Dictionaries và Sets"
   ]
  },
  {
   "cell_type": "markdown",
   "metadata": {},
   "source": [
    "Chúng ta đã tìm hiểu các cấu trúc dữ liệu dạng danh danh sách có thứ tự như tuple, list trong Python. Trong chương này chúng ta sẽ tiếp tục tìm hiểu về các cấu trúc dữ liệu có **dạng danh sách** trong Python, nhưng các loại này không phân ra thứ tự cụ thể cho các phần tử bên trong nó.\n",
    "\n",
    "Hiểu được cấu trúc dữ liệu dictionaries và tuple giúp cho chúng ta có thể mô tả thế giới thực vào trong máy tính. Ngoài ra, phân biệt giữa list, tuple, dictionaries, sets cũng là điều quan trọng."
   ]
  },
  {
   "cell_type": "markdown",
   "metadata": {},
   "source": [
    "## Nội dung\n",
    "\n",
    "1. Dictionaries.\n",
    "2. Sets.\n",
    "3. Lists, Tuples, Dictionaries, Sets\n",
    "3. Sơ lược về Python JSON.\n",
    "4. Kết luận.\n",
    "5. Bài tập.\n",
    "----"
   ]
  },
  {
   "cell_type": "markdown",
   "metadata": {},
   "source": [
    "## 1. Dictionaries - Từ điển"
   ]
  },
  {
   "cell_type": "markdown",
   "metadata": {},
   "source": [
    "### Dictionaries là gì ?"
   ]
  },
  {
   "cell_type": "markdown",
   "metadata": {},
   "source": [
    "Một dictionary hay tiếng việt gọi là từ điển là một tập các phần tử không có thứ tự. Mỗi một phần tử bên trong dictionary là được gọi là key, mỗi một key này lại ánh xạ(mapping) đến một giá trị cụ thể.\n",
    "\n",
    "Khái niệm kiểu dữ liệu Dictionary trong lập trình giống như các quyển sách từ điển anh việt vậy. Một quyển từ điển sẽ chứa rất nhiều từ. Tương ứng với mỗi một từ sẽ có một cách diễn giải kèm theo.\n",
    "![Dictionaries](images/bai06/dictionaries.png)\n",
    "\n",
    "Dựa trên ý tưởng đó, dictionaries thể hiện một ánh xạ từ tập khóa K và tập giá trị V. \n",
    "- K ở đây là các từ điển mà ta muốn tra cứu, thường gọi là key.\n",
    "- V là tập các sự diễn giải tương ứng với key.\n",
    "\n",
    "Mối quan hệ keys-value là mối quan hệ phổ biến thường gặp trong cả thế giới thực và lập trình, vì vậy dictionaries có tầm quan trọng.\n",
    "\n",
    "![Mapping](images/bai06/mapping.png)\n",
    "\n",
    "**Các đặt điểm của một đối tượng dictionary cần nhớ**:\n",
    "- Các phần tử trong dict(viết tắt của dictionary) là các key, mỗi một key lại ánh xạ đến một value(chỉ một value) nên các key bên trong dict phải khác nhau đôi một.\n",
    "- Không thể dùng vị trí(index) các phần tử khi khai báo để truy cập đến các phần tử bên trong dictionary vì dictionary không có thứ tự(unorder).\n",
    "- *Tuy không thể dùng index để truy xuất các phần tử bên trong dictionaries, ta vẫn có thể dùng key để truy xuất đến các giá trị, nghĩa là index của các giá trị bên trong dictionaries chính là tập khóa K*."
   ]
  },
  {
   "cell_type": "markdown",
   "metadata": {},
   "source": [
    "### Ví dụ"
   ]
  },
  {
   "cell_type": "markdown",
   "metadata": {},
   "source": [
    "Để khai báo một dictionaries trong Python ta đặt các cặp giá trị **`keys,value`** bên trong dấu ngoặc `{}` và phân cách nhau bởi dấu phẩy `,`.\n",
    "\n",
    "Ví dụ dưới đây khai báo một đối tượng từ điển anh-việt nho nhỏ:"
   ]
  },
  {
   "cell_type": "code",
   "execution_count": 1,
   "metadata": {},
   "outputs": [
    {
     "data": {
      "text/plain": [
       "dict"
      ]
     },
     "execution_count": 1,
     "metadata": {},
     "output_type": "execute_result"
    }
   ],
   "source": [
    "mydict = {'hello':'xin chào', 'sorry': 'xin lỗi', 'goodbye': 'tạm biệt'}\n",
    "type(mydict)"
   ]
  },
  {
   "cell_type": "markdown",
   "metadata": {},
   "source": [
    "Hàm `type()` dùng để xem kiểu dữ liệu của đối tượng. Dựa vào thông tin khai báo ta sẽ tập khóa K và tập giá trị V như sau:\n",
    "- K = ['hello','sorry','goodbye']\n",
    "- V = ['xin chào', 'xin lỗi', 'tạm biệt']\n",
    "- Một ánh xạ(cụ thể là toàn ánh) sẽ được thiết lập giữa hai tập K và V, cụ thể $f:K \\rightarrow V$ sao cho $f(K[i]) = V[i], \\forall i = 1,2,...$\n",
    "\n",
    "Để xem thông tin toàn bộ dictionary ta chỉ cần xuất nó ra màn hình."
   ]
  },
  {
   "cell_type": "code",
   "execution_count": 2,
   "metadata": {},
   "outputs": [
    {
     "name": "stdout",
     "output_type": "stream",
     "text": [
      "{'hello': 'xin chào', 'sorry': 'xin lỗi', 'goodbye': 'tạm biệt'}\n"
     ]
    }
   ],
   "source": [
    "print(mydict)"
   ]
  },
  {
   "cell_type": "markdown",
   "metadata": {},
   "source": [
    "### Các thao tác trên Dictionaries."
   ]
  },
  {
   "cell_type": "markdown",
   "metadata": {},
   "source": [
    "Tương tự như lists, tuples, dictionaries ta cũng các thao tác cơ bản, đó là truy cập vào các phần tử trong dictionaries, thay đổi giá trị các phần tử, vòng lặp trên dictionaries, lấy chiều dài của dictionaries, truy cập vào các keys, truy cập đến các values, thêm một cặp key-value vào dictionaries, xóa một cặp key-value, copy một dictionary,..."
   ]
  },
  {
   "cell_type": "markdown",
   "metadata": {},
   "source": [
    "#### Truy cập các phần tử trong dict\n",
    "Để truy xuất/truy cập đến các phần tử(phần tử trong dictionary là một cặp `key-value`) ta dùng toán tử `[]`và kèm theo **`key của value`** của nó vào bên trong dấu `[]`."
   ]
  },
  {
   "cell_type": "code",
   "execution_count": 3,
   "metadata": {},
   "outputs": [
    {
     "name": "stdout",
     "output_type": "stream",
     "text": [
      "{'dang': 50, 'khang': 80, 'dung': 46, 'tien': 60}\n",
      "Cân nặng(kg) của Đăng là:  50\n"
     ]
    }
   ],
   "source": [
    "mydict = {'dang': 50, 'khang': 80, 'dung': 46, 'tien':60}\n",
    "print(mydict)\n",
    "print(\"Cân nặng(kg) của Đăng là: \",mydict['dang'])"
   ]
  },
  {
   "cell_type": "markdown",
   "metadata": {},
   "source": [
    "Còn một cách nữa để lấy giá trị khi bạn biết được key tương ứng, đó là hàm dùng **`get()`**, như dưới đây:"
   ]
  },
  {
   "cell_type": "code",
   "execution_count": 4,
   "metadata": {
    "scrolled": true
   },
   "outputs": [
    {
     "name": "stdout",
     "output_type": "stream",
     "text": [
      "Cân nặng(kg) của Tiến là:  60\n"
     ]
    }
   ],
   "source": [
    "x = mydict.get(\"tien\")\n",
    "print(\"Cân nặng(kg) của Tiến là: \", x)"
   ]
  },
  {
   "cell_type": "markdown",
   "metadata": {},
   "source": [
    "#### Thay đổi giá trị bên trong dict\n",
    "Sau khi truy cập được giá trị bên trong dict(viết tắt của từ dictionary) ta gán giá trị ma ta muốn thay đổi vào. Khi đó dict sẽ thay đổi.\n",
    "\n",
    "Giả sử ta muốn thay đổi giá trị ứng với key là `'khang'` từ $80$ thành $90$."
   ]
  },
  {
   "cell_type": "code",
   "execution_count": 5,
   "metadata": {},
   "outputs": [
    {
     "name": "stdout",
     "output_type": "stream",
     "text": [
      "{'dang': 50, 'khang': 90, 'dung': 46, 'tien': 60}\n"
     ]
    }
   ],
   "source": [
    "mydict['khang'] = 90\n",
    "print(mydict)"
   ]
  },
  {
   "cell_type": "markdown",
   "metadata": {},
   "source": [
    "#### Sử dụng vòng lặp để duyệt dict\n",
    "Duyệt dictionary tức là lần lượt đi qua tất cả các phần tử bên trong dict bằng vòng lặp for, while.\n",
    "\n",
    "Quan sát ví dụ đưới đây:"
   ]
  },
  {
   "cell_type": "code",
   "execution_count": 6,
   "metadata": {},
   "outputs": [
    {
     "name": "stdout",
     "output_type": "stream",
     "text": [
      "benz\n",
      "bicycle\n",
      "car\n"
     ]
    }
   ],
   "source": [
    "numberdict = {'benz':10000, 'bicycle':100, 'car': 10000}\n",
    "for x in numberdict:\n",
    "    print(x)"
   ]
  },
  {
   "cell_type": "markdown",
   "metadata": {},
   "source": [
    "Trong ví dụ trên ta dùng biến x để lần lượt **duyệt qua các keys** bên trong `numberdict`, mỗi lần lặp ta in ra key đang duyệt.\n",
    "\n",
    "Một cách khác ta sẽ tìm ra danh sách các keys của dictonary rồi truy cập đến danh sách keys vừa tìm:"
   ]
  },
  {
   "cell_type": "code",
   "execution_count": 7,
   "metadata": {},
   "outputs": [
    {
     "name": "stdout",
     "output_type": "stream",
     "text": [
      "benz\n",
      "bicycle\n",
      "car\n"
     ]
    }
   ],
   "source": [
    "for key in numberdict.keys():\n",
    "    print(key)"
   ]
  },
  {
   "cell_type": "markdown",
   "metadata": {},
   "source": [
    "**Làm sao để truy cập vào các giá trị của dictionary ?**"
   ]
  },
  {
   "cell_type": "code",
   "execution_count": 8,
   "metadata": {},
   "outputs": [
    {
     "name": "stdout",
     "output_type": "stream",
     "text": [
      "10000\n",
      "100\n",
      "10000\n"
     ]
    }
   ],
   "source": [
    "for value in numberdict.values():\n",
    "    print(value)"
   ]
  },
  {
   "cell_type": "markdown",
   "metadata": {},
   "source": [
    "Đối tượng `numberdict` gọi thực hiện phương thức `values()`, giá trị trả về của hàm này là một danh sách(list) các giá trị value được keys bên trong dict ánh xạ đến."
   ]
  },
  {
   "cell_type": "markdown",
   "metadata": {},
   "source": [
    "#### Truy xuất đến các cặp key-value bằng phương thức `items()`."
   ]
  },
  {
   "cell_type": "code",
   "execution_count": 9,
   "metadata": {},
   "outputs": [
    {
     "name": "stdout",
     "output_type": "stream",
     "text": [
      "Tên xe: benz, giá: $10000\n",
      "Tên xe: bicycle, giá: $100\n",
      "Tên xe: car, giá: $10000\n"
     ]
    }
   ],
   "source": [
    "for key, value in numberdict.items():\n",
    "    print(f\"Tên xe: {key}, giá: ${value}\")"
   ]
  },
  {
   "cell_type": "markdown",
   "metadata": {},
   "source": [
    "Phương thức này là sự kết hợp của `keys()` và `values()` để duyệt qua tất cả các phần tử bên trong dict. Mỗi một lần lặp là một cặp key-value sẽ được truy xuất đến."
   ]
  },
  {
   "cell_type": "markdown",
   "metadata": {},
   "source": [
    "#### Kiểm tra xem có tồn tại key có giá trị là `k` bên trong dict"
   ]
  },
  {
   "cell_type": "markdown",
   "metadata": {},
   "source": [
    "Đôi khi chúng ta không biết trước được hết tất cả các key bên trong dict, nếu chúng truy xuất trực tiếp như các ví dụ trên thì rõ ràng sẽ sinh ra lỗi nếu vô tình giá trị key mà ta truyền vào bên trong không có trong dict.\n"
   ]
  },
  {
   "cell_type": "code",
   "execution_count": 10,
   "metadata": {},
   "outputs": [
    {
     "ename": "KeyError",
     "evalue": "'noname'",
     "output_type": "error",
     "traceback": [
      "\u001b[1;31m---------------------------------------------------------------------------\u001b[0m",
      "\u001b[1;31mKeyError\u001b[0m                                  Traceback (most recent call last)",
      "\u001b[1;32m<ipython-input-10-b25adb340e5c>\u001b[0m in \u001b[0;36m<module>\u001b[1;34m\u001b[0m\n\u001b[0;32m      1\u001b[0m \u001b[0mk\u001b[0m \u001b[1;33m=\u001b[0m \u001b[1;34m'noname'\u001b[0m\u001b[1;33m\u001b[0m\u001b[1;33m\u001b[0m\u001b[0m\n\u001b[1;32m----> 2\u001b[1;33m \u001b[0mprint\u001b[0m\u001b[1;33m(\u001b[0m\u001b[0mnumberdict\u001b[0m\u001b[1;33m[\u001b[0m\u001b[0mk\u001b[0m\u001b[1;33m]\u001b[0m\u001b[1;33m)\u001b[0m\u001b[1;33m\u001b[0m\u001b[1;33m\u001b[0m\u001b[0m\n\u001b[0m",
      "\u001b[1;31mKeyError\u001b[0m: 'noname'"
     ]
    }
   ],
   "source": [
    "k = 'noname'\n",
    "print(numberdict[k])"
   ]
  },
  {
   "cell_type": "markdown",
   "metadata": {},
   "source": [
    "Một cách khắc phục, ngăn không cho chương trình crash(dừng đột ngột) đó là là kiểm tra có key k bên trong dict hay không, có thì mới truy xuất."
   ]
  },
  {
   "cell_type": "code",
   "execution_count": 11,
   "metadata": {},
   "outputs": [
    {
     "name": "stdout",
     "output_type": "stream",
     "text": [
      "Error !\n"
     ]
    }
   ],
   "source": [
    "k = 'noname'\n",
    "if k in numberdict.keys():\n",
    "    print(numberdict[k])\n",
    "else:\n",
    "    print(\"Error !\")"
   ]
  },
  {
   "cell_type": "markdown",
   "metadata": {},
   "source": [
    "#### Lấy chiều dài của dict\n",
    "Sử dụng hàm dựng sẵn là `len()` để lấy chiều dài của dictionary.\n",
    "Chú ý, chiều dài của dictionary là số lượng phần tử bên trong dictionary đó chứa."
   ]
  },
  {
   "cell_type": "code",
   "execution_count": 12,
   "metadata": {},
   "outputs": [
    {
     "name": "stdout",
     "output_type": "stream",
     "text": [
      "Số lượng phần tử bên trong dictionary là: 3\n"
     ]
    }
   ],
   "source": [
    "print(\"Số lượng phần tử bên trong dictionary là:\", len(numberdict))"
   ]
  },
  {
   "cell_type": "markdown",
   "metadata": {},
   "source": [
    "#### Thêm phần tử vào dict và xóa phần tử khỏi dict\n",
    "\n",
    "Thêm phần tử vào dict chính là thêm một key vào dict kèm theo đó là value ứng với key mà ta cần thêm. Ví dụ dưới đây ta thêm cặp key-value có giá trị là `'wheelchair':1000`."
   ]
  },
  {
   "cell_type": "code",
   "execution_count": 13,
   "metadata": {},
   "outputs": [
    {
     "name": "stdout",
     "output_type": "stream",
     "text": [
      "{'benz': 10000, 'bicycle': 100, 'car': 10000, 'wheelchair': 1000}\n"
     ]
    }
   ],
   "source": [
    "numberdict['wheelchair'] = 1000\n",
    "print(numberdict)"
   ]
  },
  {
   "cell_type": "markdown",
   "metadata": {},
   "source": [
    "Xóa phần tử ra khỏi dict chính là xóa bỏ key bên được lưu trong dict. Phương thức **`pop()`** giúp cho chúng ta làm điều này, hàm `pop()` nhận đối số đầu vào là key của phần tử mà bạn muốn xóa khỏi danh sách."
   ]
  },
  {
   "cell_type": "code",
   "execution_count": 14,
   "metadata": {},
   "outputs": [
    {
     "name": "stdout",
     "output_type": "stream",
     "text": [
      "{'benz': 10000, 'car': 10000, 'wheelchair': 1000}\n"
     ]
    }
   ],
   "source": [
    "k = 'bicycle'\n",
    "if k in numberdict:\n",
    "    numberdict.pop('bicycle')\n",
    "    print(numberdict)\n",
    "else:\n",
    "    print(f\"No key {k}\")"
   ]
  },
  {
   "cell_type": "markdown",
   "metadata": {},
   "source": [
    "Ngoài ra ta còn **có thể xóa phần tử nằm ở vị trí cuối cùng** bên trong dict bằng phương thức **`popitem()`**."
   ]
  },
  {
   "cell_type": "code",
   "execution_count": 15,
   "metadata": {},
   "outputs": [
    {
     "name": "stdout",
     "output_type": "stream",
     "text": [
      "{'benz': 10000, 'car': 10000}\n"
     ]
    }
   ],
   "source": [
    "numberdict.popitem()\n",
    "print(numberdict)"
   ]
  },
  {
   "cell_type": "markdown",
   "metadata": {},
   "source": [
    "Một chiêu nữa, để xóa các phần tử bên trong dict là dùng keyword **`del`**. Đây là keyword dùng để xóa đi tên biến mà ta đã khai báo."
   ]
  },
  {
   "cell_type": "code",
   "execution_count": 16,
   "metadata": {},
   "outputs": [
    {
     "name": "stdout",
     "output_type": "stream",
     "text": [
      "{'car': 10000}\n"
     ]
    }
   ],
   "source": [
    "del numberdict['benz']\n",
    "print(numberdict)"
   ]
  },
  {
   "cell_type": "markdown",
   "metadata": {},
   "source": [
    "#### Copy hoàn toàn nội dung của một dictionary sang một dictionary mới."
   ]
  },
  {
   "cell_type": "code",
   "execution_count": 17,
   "metadata": {},
   "outputs": [
    {
     "name": "stdout",
     "output_type": "stream",
     "text": [
      "{1: 'chim cánh cụt', 2: 'gấu bắc cực', 3: 'cá heo'}\n"
     ]
    }
   ],
   "source": [
    "mydict = {1:'chim cánh cụt', 2:'gấu bắc cực', 3:'cá heo'}\n",
    "copy_dict = mydict.copy()\n",
    "print(copy_dict)"
   ]
  },
  {
   "cell_type": "markdown",
   "metadata": {},
   "source": [
    "Tại sao chúng ta không dùng lệnh gán trực tiếp **`copy_dict = mydict`** ?\n",
    "\n",
    "*Mọi thứ trong Python đều là đối tượng, mỗi một đối tượng(giá trị) sẽ được lưu trữ trong một một vùng nhớ nào đó. Các biến chẳng qua là tham chiếu đến vùng nhớ chứa giá trị(đối tượng). Việc gán biến này bằng biến khác, ví dụ như `copy_dict = mydict` thực sự chỉ là gán nơi mà mydict đang tham chiếu cho `copy_list`, hay nói đúng hơn là gán địa chỉ của biến `mydict` đang giữ cho biến `copy_dict`. Khi đó cả hai biến `copy_dict` và `mydict` đang cùng tham chiếu đến một vùng nhớ, không thực sự tạo ra một đối tượng mới. Còn nữa, hiện tượng shadow(cái bóng) này rất không tốt, nên cận thận rơi vào tình huống này.*"
   ]
  },
  {
   "cell_type": "markdown",
   "metadata": {},
   "source": [
    "#### Dict lồng Dict (Nested)"
   ]
  },
  {
   "cell_type": "markdown",
   "metadata": {},
   "source": []
  },
  {
   "cell_type": "code",
   "execution_count": null,
   "metadata": {},
   "outputs": [],
   "source": []
  },
  {
   "cell_type": "markdown",
   "metadata": {},
   "source": []
  },
  {
   "cell_type": "markdown",
   "metadata": {},
   "source": [
    "### Hàm khởi tạo `dict()`"
   ]
  },
  {
   "cell_type": "markdown",
   "metadata": {},
   "source": []
  },
  {
   "cell_type": "markdown",
   "metadata": {},
   "source": [
    "### Các phương thức của lớp đối tượng Dictionaries"
   ]
  },
  {
   "cell_type": "markdown",
   "metadata": {},
   "source": [
    "![](images/chapter06/methods_of_dictionaries.png)\n",
    "<p style = \"text-align: center\"><i><a href=\"https://www.w3schools.com/python/python_ref_set.asp\">W3 School</a></p>"
   ]
  },
  {
   "cell_type": "markdown",
   "metadata": {},
   "source": [
    "#### `clear()`\n",
    "Xóa tất cả các phần tử từ dictionary"
   ]
  },
  {
   "cell_type": "code",
   "execution_count": 18,
   "metadata": {},
   "outputs": [
    {
     "ename": "SyntaxError",
     "evalue": "invalid syntax (<ipython-input-18-705c40c5cb11>, line 1)",
     "output_type": "error",
     "traceback": [
      "\u001b[1;36m  File \u001b[1;32m\"<ipython-input-18-705c40c5cb11>\"\u001b[1;36m, line \u001b[1;32m1\u001b[0m\n\u001b[1;33m    cl_dict = {1:'Tien', '', '', }\u001b[0m\n\u001b[1;37m                           ^\u001b[0m\n\u001b[1;31mSyntaxError\u001b[0m\u001b[1;31m:\u001b[0m invalid syntax\n"
     ]
    }
   ],
   "source": [
    "cl_dict = {1:'Tien', '', '', } "
   ]
  },
  {
   "cell_type": "markdown",
   "metadata": {},
   "source": [
    "#### `copy()`\n",
    "Trả về một đối tượng dictionary mới chứa nội dung hoàn toàn giống với đối tượng gọi thực hiện phương thức."
   ]
  },
  {
   "cell_type": "code",
   "execution_count": null,
   "metadata": {},
   "outputs": [],
   "source": []
  },
  {
   "cell_type": "markdown",
   "metadata": {},
   "source": [
    "#### `fromkeys()`\n",
    "Trả về một đối tượng dictionary với các phần tử có giá trị và key cụ thể."
   ]
  },
  {
   "cell_type": "code",
   "execution_count": null,
   "metadata": {},
   "outputs": [],
   "source": []
  },
  {
   "cell_type": "markdown",
   "metadata": {},
   "source": [
    "#### `get()`\n",
    "Trả về giá trị của một key cụ thể."
   ]
  },
  {
   "cell_type": "code",
   "execution_count": null,
   "metadata": {},
   "outputs": [],
   "source": []
  },
  {
   "cell_type": "markdown",
   "metadata": {},
   "source": [
    "#### `items()`\n",
    "Trả về một danh sách chứa các tuple, mỗi tuple gồm hai phần tử tương ứng với cặp key-value."
   ]
  },
  {
   "cell_type": "code",
   "execution_count": null,
   "metadata": {},
   "outputs": [],
   "source": []
  },
  {
   "cell_type": "markdown",
   "metadata": {},
   "source": [
    "#### `keys()`\n",
    "Trả về danh sách(list) chứa các key của dictionray."
   ]
  },
  {
   "cell_type": "code",
   "execution_count": null,
   "metadata": {},
   "outputs": [],
   "source": []
  },
  {
   "cell_type": "markdown",
   "metadata": {},
   "source": [
    "#### `pop()`\n",
    "Xóa một phần tử với key cụ thể."
   ]
  },
  {
   "cell_type": "code",
   "execution_count": null,
   "metadata": {},
   "outputs": [],
   "source": []
  },
  {
   "cell_type": "markdown",
   "metadata": {},
   "source": [
    "#### `popitem()`\n",
    "Xóa phần tử cuối cùng được chèn vào dict."
   ]
  },
  {
   "cell_type": "code",
   "execution_count": null,
   "metadata": {},
   "outputs": [],
   "source": []
  },
  {
   "cell_type": "markdown",
   "metadata": {},
   "source": [
    "#### `setdefault()`"
   ]
  },
  {
   "cell_type": "code",
   "execution_count": null,
   "metadata": {},
   "outputs": [],
   "source": []
  },
  {
   "cell_type": "markdown",
   "metadata": {},
   "source": [
    "#### `update()`"
   ]
  },
  {
   "cell_type": "code",
   "execution_count": null,
   "metadata": {},
   "outputs": [],
   "source": []
  },
  {
   "cell_type": "markdown",
   "metadata": {},
   "source": [
    "#### `values()`"
   ]
  },
  {
   "cell_type": "code",
   "execution_count": null,
   "metadata": {},
   "outputs": [],
   "source": []
  },
  {
   "cell_type": "markdown",
   "metadata": {},
   "source": [
    "## 2. Sets - Tập hợp"
   ]
  },
  {
   "cell_type": "markdown",
   "metadata": {},
   "source": [
    "### Sets là gì ?"
   ]
  },
  {
   "cell_type": "markdown",
   "metadata": {},
   "source": [
    "Sets(tập hợp) là một collection(bộ sưu tập) các phần tử không có thứ tự, không có chỉ mục. Sets khác với Dictionaries ở chỗ Sets chỉ có tập giá trị V chính là các phần tử bên trong sets, còn ở Dictionaries có thêm tập khóa K.\n",
    "\n",
    "Chính vì các đặt trưng không có thứ tự, không được đánh chỉ mục nên ta hơi nhọc nhằn trong việc truy xuất đến các phần tử bên trong dict. Nhưng Sets có ..."
   ]
  },
  {
   "cell_type": "markdown",
   "metadata": {},
   "source": [
    "### Các thao tác trên Sets"
   ]
  },
  {
   "cell_type": "markdown",
   "metadata": {},
   "source": []
  },
  {
   "cell_type": "markdown",
   "metadata": {},
   "source": []
  },
  {
   "cell_type": "markdown",
   "metadata": {},
   "source": [
    "### Hàm khởi tạo set()"
   ]
  },
  {
   "cell_type": "markdown",
   "metadata": {},
   "source": []
  },
  {
   "cell_type": "markdown",
   "metadata": {},
   "source": [
    "### 2.4 Các phương thức của lớp đối tượng Sets"
   ]
  },
  {
   "cell_type": "markdown",
   "metadata": {},
   "source": [
    "![Method os Sets](images/bai06/methods_of_sets.png)\n",
    "<p style = \"text-align: center\"><i><a href=\"https://www.w3schools.com/python/python_ref_set.asp\">W3 School</a></p>\n",
    "    "
   ]
  },
  {
   "cell_type": "markdown",
   "metadata": {},
   "source": [
    "#### `add()`"
   ]
  },
  {
   "cell_type": "code",
   "execution_count": null,
   "metadata": {},
   "outputs": [],
   "source": []
  },
  {
   "cell_type": "markdown",
   "metadata": {},
   "source": [
    "#### `clear()`"
   ]
  },
  {
   "cell_type": "code",
   "execution_count": null,
   "metadata": {},
   "outputs": [],
   "source": []
  },
  {
   "cell_type": "markdown",
   "metadata": {},
   "source": [
    "#### `copy()`"
   ]
  },
  {
   "cell_type": "code",
   "execution_count": null,
   "metadata": {},
   "outputs": [],
   "source": []
  },
  {
   "cell_type": "markdown",
   "metadata": {},
   "source": [
    "#### `difference()`"
   ]
  },
  {
   "cell_type": "code",
   "execution_count": null,
   "metadata": {},
   "outputs": [],
   "source": []
  },
  {
   "cell_type": "markdown",
   "metadata": {},
   "source": [
    "#### `difference_update()`"
   ]
  },
  {
   "cell_type": "code",
   "execution_count": null,
   "metadata": {},
   "outputs": [],
   "source": []
  },
  {
   "cell_type": "markdown",
   "metadata": {},
   "source": [
    "#### `discard()`"
   ]
  },
  {
   "cell_type": "code",
   "execution_count": null,
   "metadata": {},
   "outputs": [],
   "source": []
  },
  {
   "cell_type": "markdown",
   "metadata": {},
   "source": [
    "#### `intersection()`"
   ]
  },
  {
   "cell_type": "code",
   "execution_count": null,
   "metadata": {},
   "outputs": [],
   "source": []
  },
  {
   "cell_type": "markdown",
   "metadata": {},
   "source": [
    "#### `intersection_update()`"
   ]
  },
  {
   "cell_type": "code",
   "execution_count": null,
   "metadata": {},
   "outputs": [],
   "source": []
  },
  {
   "cell_type": "markdown",
   "metadata": {},
   "source": [
    "#### `isdisjoint()`"
   ]
  },
  {
   "cell_type": "code",
   "execution_count": null,
   "metadata": {},
   "outputs": [],
   "source": []
  },
  {
   "cell_type": "markdown",
   "metadata": {},
   "source": [
    "#### `issubset()`"
   ]
  },
  {
   "cell_type": "code",
   "execution_count": null,
   "metadata": {},
   "outputs": [],
   "source": []
  },
  {
   "cell_type": "markdown",
   "metadata": {},
   "source": [
    "#### `issuperset()`"
   ]
  },
  {
   "cell_type": "code",
   "execution_count": null,
   "metadata": {},
   "outputs": [],
   "source": []
  },
  {
   "cell_type": "markdown",
   "metadata": {},
   "source": [
    "#### `pop()`"
   ]
  },
  {
   "cell_type": "code",
   "execution_count": null,
   "metadata": {},
   "outputs": [],
   "source": []
  },
  {
   "cell_type": "markdown",
   "metadata": {},
   "source": [
    "#### `remove()`"
   ]
  },
  {
   "cell_type": "code",
   "execution_count": null,
   "metadata": {},
   "outputs": [],
   "source": []
  },
  {
   "cell_type": "markdown",
   "metadata": {},
   "source": [
    "#### `symmetric_difference()`"
   ]
  },
  {
   "cell_type": "code",
   "execution_count": null,
   "metadata": {},
   "outputs": [],
   "source": []
  },
  {
   "cell_type": "markdown",
   "metadata": {},
   "source": [
    "#### `symmetric_difference_update()`"
   ]
  },
  {
   "cell_type": "code",
   "execution_count": null,
   "metadata": {},
   "outputs": [],
   "source": []
  },
  {
   "cell_type": "markdown",
   "metadata": {},
   "source": [
    "#### `union()`"
   ]
  },
  {
   "cell_type": "code",
   "execution_count": null,
   "metadata": {},
   "outputs": [],
   "source": []
  },
  {
   "cell_type": "markdown",
   "metadata": {},
   "source": [
    "#### `update()`"
   ]
  },
  {
   "cell_type": "code",
   "execution_count": null,
   "metadata": {},
   "outputs": [],
   "source": []
  },
  {
   "cell_type": "markdown",
   "metadata": {},
   "source": [
    "## 3. Lists, Tuples, Dictionaries, Sets"
   ]
  },
  {
   "cell_type": "markdown",
   "metadata": {},
   "source": [
    "### Là cấu trúc dữ liệu dạng tập danh sách."
   ]
  },
  {
   "cell_type": "markdown",
   "metadata": {},
   "source": []
  },
  {
   "cell_type": "markdown",
   "metadata": {},
   "source": []
  },
  {
   "cell_type": "markdown",
   "metadata": {},
   "source": [
    "### 3.2 Khác nhau giữa chúng"
   ]
  },
  {
   "cell_type": "markdown",
   "metadata": {},
   "source": []
  },
  {
   "cell_type": "markdown",
   "metadata": {},
   "source": [
    "## 4. Sơ lược về Python JSON."
   ]
  },
  {
   "cell_type": "markdown",
   "metadata": {},
   "source": [
    "### `JSON` là gì ?"
   ]
  },
  {
   "cell_type": "markdown",
   "metadata": {},
   "source": [
    "Tên đầy đủ của JSON là Javascript Object Notation. Nó là một tập lệnh(thực thi) được làm bằng văn bản trong ngôn ngữ lập trình, được sử dụng để **lưu trữ và chuyển dữ liệu**.\n",
    "\n",
    "Python hỗ trợ JSON thông qua package tích hợp có tên là json. Để sử dụng tính năng này, chúng ta import json trong chương trình. Văn bản trong JSON được thực hiện thông qua chuỗi trích dẫn có chứa giá trị trong ánh xạ key-value trong {}. Nó tương tự như từ điển trong Python. JSON hiển thị một API tương tự như người dùng mô-đun soái ca và thư viện tiêu chuẩn và Python vốn hỗ trợ các tính năng JSON. Ví dụ\n",
    "\n",
    "bộ lọc"
   ]
  },
  {
   "cell_type": "markdown",
   "metadata": {},
   "source": [
    "### Parse JSON - Chuyển từ JSON sang Python"
   ]
  },
  {
   "cell_type": "markdown",
   "metadata": {},
   "source": [
    "Nếu bạn có một chuỗi JSON, bạn có thể parse(chia cắt) chuỗi này bằng cách sử dụng phương thức **`json.loads()`**.\n",
    "\n",
    "**Kết quả trả về là một dictionary lưu giữa các từ được parse từ chuỗi.**"
   ]
  },
  {
   "cell_type": "code",
   "execution_count": 8,
   "metadata": {},
   "outputs": [
    {
     "name": "stdout",
     "output_type": "stream",
     "text": [
      "{'name': 'John', 'age': 30, 'city': 'New York'}\n"
     ]
    }
   ],
   "source": [
    "import json\n",
    "\n",
    "# some JSON:\n",
    "x =  '{ \"name\":\"John\", \"age\":30, \"city\":\"New York\"}'\n",
    "\n",
    "# parse x:\n",
    "y = json.loads(x)\n",
    "\n",
    "# the result is a Python dictionary:\n",
    "print(y)"
   ]
  },
  {
   "cell_type": "markdown",
   "metadata": {},
   "source": [
    "### Chuyển từ Python sang JSON"
   ]
  },
  {
   "cell_type": "markdown",
   "metadata": {},
   "source": [
    "Nếu bạn có một đối tượng trong Python, bạn có thể chuyển đổi nó thành một chuỗi JSON bằng cách sử dụng phương thức **`json.dumps()`**."
   ]
  },
  {
   "cell_type": "code",
   "execution_count": 9,
   "metadata": {},
   "outputs": [
    {
     "name": "stdout",
     "output_type": "stream",
     "text": [
      "{\"name\": \"John\", \"age\": 30, \"city\": \"New York\"}\n"
     ]
    }
   ],
   "source": [
    "import json\n",
    "\n",
    "# a Python object (dict):\n",
    "x = {\n",
    "  \"name\": \"John\",\n",
    "  \"age\": 30,\n",
    "  \"city\": \"New York\"\n",
    "}\n",
    "\n",
    "# convert into JSON:\n",
    "y = json.dumps(x)\n",
    "\n",
    "# the result is a JSON string:\n",
    "print(y)"
   ]
  },
  {
   "cell_type": "markdown",
   "metadata": {},
   "source": [
    "Ngoài ra, chúng ta cũng có thể chuyển đổi các các đối tượng có kiểu dữ liệu dưới đầy về dạng JSON.\n",
    "- list\n",
    "- tuple\n",
    "- string\n",
    "- int\n",
    "- float\n",
    "- True\n",
    "- False\n",
    "- None"
   ]
  },
  {
   "cell_type": "code",
   "execution_count": 10,
   "metadata": {},
   "outputs": [
    {
     "name": "stdout",
     "output_type": "stream",
     "text": [
      "{\"name\": \"John\", \"age\": 30}\n",
      "[\"apple\", \"bananas\"]\n",
      "[\"apple\", \"bananas\"]\n",
      "\"hello\"\n",
      "42\n",
      "31.76\n",
      "true\n",
      "false\n",
      "null\n"
     ]
    }
   ],
   "source": [
    "import json\n",
    "\n",
    "print(json.dumps({\"name\": \"John\", \"age\": 30}))\n",
    "print(json.dumps([\"apple\", \"bananas\"]))\n",
    "print(json.dumps((\"apple\", \"bananas\")))\n",
    "print(json.dumps(\"hello\"))\n",
    "print(json.dumps(42))\n",
    "print(json.dumps(31.76))\n",
    "print(json.dumps(True))\n",
    "print(json.dumps(False))\n",
    "print(json.dumps(None))"
   ]
  },
  {
   "cell_type": "markdown",
   "metadata": {},
   "source": [
    "Khi chúng ta chuyển từ Python sang JSON, các đối tượng Python được chuyển tương ứng như sau:\n",
    "![JSON coverting](images/bai06/JSON2.png)"
   ]
  },
  {
   "cell_type": "markdown",
   "metadata": {},
   "source": [
    "### Định dạng kết quả"
   ]
  },
  {
   "cell_type": "markdown",
   "metadata": {},
   "source": [
    "Ví dụ trên in một chuỗi JSON, nhưng nó không dễ đọc, không có thụt vô thụt ra và cũng không có ngắt dòng rõ ràng.\n",
    "\n",
    "Phương thức **json.dumps()** có các tham số để hiển thị kết quả dễ dàng hơn."
   ]
  },
  {
   "cell_type": "code",
   "execution_count": 13,
   "metadata": {},
   "outputs": [
    {
     "name": "stdout",
     "output_type": "stream",
     "text": [
      "{\n",
      "    \"name\": \"John\",\n",
      "    \"age\": 30,\n",
      "    \"married\": true,\n",
      "    \"divorced\": false,\n",
      "    \"children\": [\n",
      "        \"Ann\",\n",
      "        \"Billy\"\n",
      "    ],\n",
      "    \"pets\": null,\n",
      "    \"cars\": [\n",
      "        {\n",
      "            \"model\": \"BMW 230\",\n",
      "            \"mpg\": 27.5\n",
      "        },\n",
      "        {\n",
      "            \"model\": \"Ford Edge\",\n",
      "            \"mpg\": 24.1\n",
      "        }\n",
      "    ]\n",
      "}\n"
     ]
    }
   ],
   "source": [
    "import json\n",
    "\n",
    "x = {\n",
    "  \"name\": \"John\",\n",
    "  \"age\": 30,\n",
    "  \"married\": True,\n",
    "  \"divorced\": False,\n",
    "  \"children\": (\"Ann\",\"Billy\"),\n",
    "  \"pets\": None,\n",
    "  \"cars\": [\n",
    "    {\"model\": \"BMW 230\", \"mpg\": 27.5},\n",
    "    {\"model\": \"Ford Edge\", \"mpg\": 24.1}\n",
    "  ]\n",
    "}\n",
    "\n",
    "print(json.dumps(x, indent = 4))"
   ]
  },
  {
   "cell_type": "markdown",
   "metadata": {},
   "source": [
    "### Ví dụ"
   ]
  },
  {
   "cell_type": "markdown",
   "metadata": {},
   "source": []
  },
  {
   "cell_type": "markdown",
   "metadata": {},
   "source": [
    "### JSON được dùng ở đâu"
   ]
  },
  {
   "cell_type": "markdown",
   "metadata": {},
   "source": []
  },
  {
   "cell_type": "markdown",
   "metadata": {},
   "source": [
    "## 5. Kết luận"
   ]
  },
  {
   "cell_type": "markdown",
   "metadata": {},
   "source": [
    "Trong phần này, chúng ta đã tìm hiểu hai loại cấu trúc dữ liệu dạng danh sách còn lại trong Python đó là Dictionaries và Sets. Lists, Tuples, Dictionaries, Sets là các cấu dữ liệu có sẵn trong Python, được thường xuyên trong việc lập trình xử lý các bài toán. Vì vậy, nếu bạn chưa hiểu rõ về nó có thể tham khảo thêm các tutorials ở bên dưới. Ngoài ra chúng ta cũng tìm hiểu được thêm kiểu dữ liệu `JSON` rất hay dùng trong Python.\n",
    "\n",
    "Các tutorial tham khảo:\n",
    "- [Python JSON](https://www.w3schools.com/python/python_json.asp).\n",
    "- [Python Dictionaries](https://www.w3schools.com/python/python_dictionaries.asp).\n",
    "- [Python Sets](https://www.w3schools.com/python/python_sets.asp).\n",
    "- [Python Data Structures – Lists, Tuples, Sets, Dictionaries](https://data-flair.training/blogs/python-data-structures-tutorial/).\n"
   ]
  },
  {
   "cell_type": "markdown",
   "metadata": {},
   "source": [
    "## 6. Bài tập"
   ]
  },
  {
   "cell_type": "markdown",
   "metadata": {},
   "source": [
    "----\n",
    "**Bài 01**: Viết chương trình lặp lại việc yêu cầu người dùng nhập **product_names** và **prices**. Lưu giữ tất cả những giá trị được nhập này vào bên trong một dictionaries với *key = product_name* và giá trị tương ứng với key là *prices*. Khi người dùng hoàn tất việc nhập, cho phép họ lặp đi lặp lại việc **truy xuất giá trị price** bằng tên sản phầm **product_name** mà họ nhập vào, nếu tên sản phẩm không có trong từ điển thì in ra thông điệp phản hồi hợp lý."
   ]
  },
  {
   "cell_type": "code",
   "execution_count": 19,
   "metadata": {},
   "outputs": [],
   "source": [
    "# Code bài 01"
   ]
  },
  {
   "cell_type": "markdown",
   "metadata": {},
   "source": [
    "----\n",
    "**Bài 02**: Sử dụng dictionary được tạo trong bài 01, thêm chức năng là cho phép người dùng nhập thêm giá trị $x$ với đơn vị là dollar, sau đó xuất ra tất cả các sản phẩm cùng với giá trị của nó trong dictionary mà nhỏ hơn giá trị $x$ vừa nhập."
   ]
  },
  {
   "cell_type": "code",
   "execution_count": 20,
   "metadata": {},
   "outputs": [],
   "source": [
    "# Code bài 02"
   ]
  },
  {
   "cell_type": "markdown",
   "metadata": {},
   "source": [
    "----\n",
    "**Bài 03**: Sử dụng dictionary từ lưu trữ cặp key-value, với key là thứ tự tháng trong năm, value tương ứng với key là số ngày trong tháng ở năm 2019. Thực hiện các thao tác sau:\n",
    "- Yêu cầu người dùng nhập vào tên một tháng, sau đó xuất ra số ngày trong tháng.\n",
    "- In tất cả tháng theo thứ tự alphabetical.\n",
    "- In tất cả các tháng mà có số ngày là 31.\n",
    "- In các cặp giá trị key-value được sắp xếp tăng dần bởi số ngày trong mỗi tháng."
   ]
  },
  {
   "cell_type": "markdown",
   "metadata": {},
   "source": [
    "-----\n",
    "**Bài 04**: Viết chương trình sử dụng một dictonary chứa 10 tên người dùng password của họ. Chương trình sẽ yêu cầu người dùng nhập `username` và `password`. Nếu `username` không có trong dictionay, chương trình sẽ phản hồi cho biết không có tên người nào có username như vây, ngược lại đã có username nhưng họ nhập password sai thì phản hồi thông điệp báo là không nhập đúng password, trường hợp cuối cùng tất cả đều đúng thì xuất ra thông điệp báo rằng họ đã đăng nhập thành công."
   ]
  },
  {
   "cell_type": "code",
   "execution_count": 21,
   "metadata": {},
   "outputs": [],
   "source": [
    "# Code bài 04"
   ]
  },
  {
   "cell_type": "markdown",
   "metadata": {},
   "source": [
    "----\n",
    "**Bài 05**: Tạo ra danh sách số có kích thước là $25$ . Sau đó tạo ra một dictionary mà các giá trị key là số trong danh sách đã tạo và những giá trị tương ứng là số lần số xuất hiện của số đó trong danh sách. In ra 3 số xuất hiện nhiều nhất."
   ]
  },
  {
   "cell_type": "code",
   "execution_count": 22,
   "metadata": {},
   "outputs": [],
   "source": [
    "# Code bài 05"
   ]
  }
 ],
 "metadata": {
  "kernelspec": {
   "display_name": "Python 3",
   "language": "python",
   "name": "python3"
  },
  "language_info": {
   "codemirror_mode": {
    "name": "ipython",
    "version": 3
   },
   "file_extension": ".py",
   "mimetype": "text/x-python",
   "name": "python",
   "nbconvert_exporter": "python",
   "pygments_lexer": "ipython3",
   "version": "3.7.5"
  },
  "latex_envs": {
   "LaTeX_envs_menu_present": true,
   "autoclose": false,
   "autocomplete": true,
   "bibliofile": "biblio.bib",
   "cite_by": "apalike",
   "current_citInitial": 1,
   "eqLabelWithNumbers": true,
   "eqNumInitial": 1,
   "hotkeys": {
    "equation": "Ctrl-E",
    "itemize": "Ctrl-I"
   },
   "labels_anchors": false,
   "latex_user_defs": false,
   "report_style_numbering": false,
   "user_envs_cfg": false
  },
  "toc": {
   "base_numbering": 1,
   "nav_menu": {},
   "number_sections": false,
   "sideBar": true,
   "skip_h1_title": true,
   "title_cell": "Table of Contents",
   "title_sidebar": "Contents",
   "toc_cell": false,
   "toc_position": {
    "height": "calc(100% - 180px)",
    "left": "10px",
    "top": "150px",
    "width": "236px"
   },
   "toc_section_display": true,
   "toc_window_display": true
  }
 },
 "nbformat": 4,
 "nbformat_minor": 2
}
