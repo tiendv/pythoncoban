{
 "cells": [
  {
   "cell_type": "markdown",
   "metadata": {},
   "source": [
    "# Bài 06. Dictionaries và Sets"
   ]
  },
  {
   "cell_type": "markdown",
   "metadata": {},
   "source": [
    "Chúng ta đã tìm hiểu các cấu trúc dữ liệu dạng danh danh sách có thứ tự như tuple, list trong Python. Trong chương này chúng ta sẽ tiếp tục tìm hiểu về các cấu trúc dữ liệu có **dạng danh sách** trong Python, nhưng các loại này không phân ra thứ tự cụ thể cho các phần tử bên trong nó.\n",
    "\n",
    "Hiểu được cấu trúc dữ liệu dictionaries và tuple giúp cho chúng ta có thể mô tả thế giới thực vào trong máy tính. Ngoài ra, phân biệt giữa list, tuple, dictionaries, sets cũng là điều quan trọng."
   ]
  },
  {
   "cell_type": "markdown",
   "metadata": {},
   "source": [
    "## Nội dung\n",
    "\n",
    "1. Dictionaries.\n",
    "2. Sets.\n",
    "3. Lists, Tuples, Dictionaries, Sets\n",
    "3. Sơ lược về Python JSON.\n",
    "4. Kết luận.\n",
    "5. Bài tập.\n",
    "----"
   ]
  },
  {
   "cell_type": "markdown",
   "metadata": {},
   "source": [
    "## 1. Dictionaries - Từ điển"
   ]
  },
  {
   "cell_type": "markdown",
   "metadata": {},
   "source": [
    "### 1.1 Dictionaries là gì ?"
   ]
  },
  {
   "cell_type": "markdown",
   "metadata": {},
   "source": [
    "Một dictionary hay tiếng việt gọi là từ điển là một tập các phần tử không có thứ tự. Mỗi một phần tử bên trong dictionary là được gọi là key, mỗi một key này lại ánh xạ(mapping) đến một giá trị cụ thể.\n",
    "\n",
    "Khái niệm kiểu dữ liệu Dictionary trong lập trình giống như các quyển sách từ điển anh việt vậy. Một quyển từ điển sẽ chứa rất nhiều từ. Tương ứng với mỗi một từ sẽ có một cách diễn giải kèm theo.\n",
    "![Dictionaries](images/chapter06/dictionaries.png)\n",
    "\n",
    "Dựa trên ý tưởng đó, dictionaries thể hiện một ánh xạ từ tập khóa K và tập giá trị V. \n",
    "- K ở đây là các từ điển mà ta muốn tra cứu, thường gọi là key.\n",
    "- V là tập các sự diễn giải tương ứng với key.\n",
    "\n",
    "Mối quan hệ keys-value là mối quan hệ phổ biến thường gặp trong cả thế giới thực và lập trình, vì vậy dictionaries có tầm quan trọng.\n",
    "\n",
    "![Mapping](images/chapter06/mapping.png)\n",
    "\n",
    "**Các đặt điểm của một đối tượng dictionary cần nhớ**:\n",
    "- Các phần tử trong dict(viết tắt của dictionary) là các key, mỗi một key lại ánh xạ đến một value(chỉ một value) nên các key bên trong dict phải khác nhau đôi một.\n",
    "- Không thể dùng vị trí(index) các phần tử khi khai báo để truy cập đến các phần tử bên trong dictionary vì dictionary không có thứ tự(unorder).\n",
    "- *Tuy không thể dùng index để truy xuất các phần tử bên trong dictionaries, ta vẫn có thể dùng key để truy xuất đến các giá trị, nghĩa là index của các giá trị bên trong dictionaries chính là tập khóa K*."
   ]
  },
  {
   "cell_type": "markdown",
   "metadata": {},
   "source": [
    "### 1.2 Ví dụ"
   ]
  },
  {
   "cell_type": "markdown",
   "metadata": {},
   "source": [
    "Để khai báo một dictionaries trong Python ta đặt các cặp giá trị **`keys,value`** bên trong dấu ngoặc `{}` và phân cách nhau bởi dấu phẩy `,`.\n",
    "\n",
    "Ví dụ dưới đây khai báo một đối tượng từ điển anh-việt nho nhỏ:"
   ]
  },
  {
   "cell_type": "code",
   "execution_count": 1,
   "metadata": {},
   "outputs": [
    {
     "data": {
      "text/plain": [
       "dict"
      ]
     },
     "execution_count": 1,
     "metadata": {},
     "output_type": "execute_result"
    }
   ],
   "source": [
    "mydict = {'hello':'xin chào', 'sorry': 'xin lỗi', 'goodbye': 'tạm biệt'}\n",
    "type(mydict)"
   ]
  },
  {
   "cell_type": "markdown",
   "metadata": {},
   "source": [
    "Hàm `type()` dùng để xem kiểu dữ liệu của đối tượng. Dựa vào thông tin khai báo ta sẽ tập khóa K và tập giá trị V như sau:\n",
    "- K = ['hello','sorry','goodbye']\n",
    "- V = ['xin chào', 'xin lỗi', 'tạm biệt']\n",
    "- Một ánh xạ(cụ thể là toàn ánh) sẽ được thiết lập giữa hai tập K và V, cụ thể $f:K \\rightarrow V$ sao cho $f(K[i]) = V[i], \\forall i = 1,2,...$\n",
    "\n",
    "Để xem thông tin toàn bộ dictionary ta chỉ cần xuất nó ra màn hình."
   ]
  },
  {
   "cell_type": "code",
   "execution_count": 2,
   "metadata": {},
   "outputs": [
    {
     "name": "stdout",
     "output_type": "stream",
     "text": [
      "{'hello': 'xin chào', 'sorry': 'xin lỗi', 'goodbye': 'tạm biệt'}\n"
     ]
    }
   ],
   "source": [
    "print(mydict)"
   ]
  },
  {
   "cell_type": "markdown",
   "metadata": {},
   "source": [
    "### 1.3 Các thao tác trên Dictionaries."
   ]
  },
  {
   "cell_type": "markdown",
   "metadata": {},
   "source": [
    "Tương tự như lists, tuples, dictionaries ta cũng các thao tác cơ bản, đó là truy cập vào các phần tử trong dictionaries, thay đổi giá trị các phần tử, vòng lặp trên dictionaries, lấy chiều dài của dictionaries, truy cập vào các keys, truy cập đến các values, thêm một cặp key-value vào dictionaries, xóa một cặp key-value, copy một dictionary,..."
   ]
  },
  {
   "cell_type": "markdown",
   "metadata": {},
   "source": [
    "#### Truy cập các phần tử trong dict\n",
    "Để truy xuất/truy cập đến các phần tử(phần tử trong dictionary là một cặp `key-value`) ta dùng toán tử `[]`và kèm theo **`key của value`** của nó vào bên trong dấu `[]`."
   ]
  },
  {
   "cell_type": "code",
   "execution_count": 3,
   "metadata": {},
   "outputs": [
    {
     "name": "stdout",
     "output_type": "stream",
     "text": [
      "{'dang': 50, 'khang': 80, 'dung': 46, 'tien': 60}\n",
      "Cân nặng(kg) của Đăng là:  50\n"
     ]
    }
   ],
   "source": [
    "mydict = {'dang': 50, 'khang': 80, 'dung': 46, 'tien':60}\n",
    "print(mydict)\n",
    "print(\"Cân nặng(kg) của Đăng là: \",mydict['dang'])"
   ]
  },
  {
   "cell_type": "markdown",
   "metadata": {},
   "source": [
    "Còn một cách nữa để lấy giá trị khi bạn biết được key tương ứng, đó là hàm dùng **`get()`**, như dưới đây:"
   ]
  },
  {
   "cell_type": "code",
   "execution_count": 4,
   "metadata": {
    "scrolled": true
   },
   "outputs": [
    {
     "name": "stdout",
     "output_type": "stream",
     "text": [
      "Cân nặng(kg) của Tiến là:  60\n"
     ]
    }
   ],
   "source": [
    "x = mydict.get(\"tien\")\n",
    "print(\"Cân nặng(kg) của Tiến là: \", x)"
   ]
  },
  {
   "cell_type": "markdown",
   "metadata": {},
   "source": [
    "#### Thay đổi giá trị bên trong dict\n",
    "Sau khi truy cập được giá trị bên trong dict(viết tắt của từ dictionary) ta gán giá trị ma ta muốn thay đổi vào. Khi đó dict sẽ thay đổi.\n",
    "\n",
    "Giả sử ta muốn thay đổi giá trị ứng với key là `'khang'` từ $80$ thành $90$."
   ]
  },
  {
   "cell_type": "code",
   "execution_count": 5,
   "metadata": {},
   "outputs": [
    {
     "name": "stdout",
     "output_type": "stream",
     "text": [
      "{'dang': 50, 'khang': 90, 'dung': 46, 'tien': 60}\n"
     ]
    }
   ],
   "source": [
    "mydict['khang'] = 90\n",
    "print(mydict)"
   ]
  },
  {
   "cell_type": "markdown",
   "metadata": {},
   "source": [
    "#### Sử dụng vòng lặp để duyệt dict\n",
    "Duyệt dictionary tức là lần lượt đi qua tất cả các phần tử bên trong dict bằng vòng lặp for, while.\n",
    "\n",
    "Quan sát ví dụ đưới đây:"
   ]
  },
  {
   "cell_type": "code",
   "execution_count": 6,
   "metadata": {},
   "outputs": [
    {
     "name": "stdout",
     "output_type": "stream",
     "text": [
      "benz\n",
      "bicycle\n",
      "car\n"
     ]
    }
   ],
   "source": [
    "numberdict = {'benz':10000, 'bicycle':100, 'car': 10000}\n",
    "for x in numberdict:\n",
    "    print(x)"
   ]
  },
  {
   "cell_type": "markdown",
   "metadata": {},
   "source": [
    "Trong ví dụ trên ta dùng biến x để lần lượt **duyệt qua các keys** bên trong `numberdict`, mỗi lần lặp ta in ra key đang duyệt.\n",
    "\n",
    "Một cách khác ta sẽ tìm ra danh sách các keys của dictonary rồi truy cập đến danh sách keys vừa tìm:"
   ]
  },
  {
   "cell_type": "code",
   "execution_count": 7,
   "metadata": {},
   "outputs": [
    {
     "name": "stdout",
     "output_type": "stream",
     "text": [
      "benz\n",
      "bicycle\n",
      "car\n"
     ]
    }
   ],
   "source": [
    "for key in numberdict.keys():\n",
    "    print(key)"
   ]
  },
  {
   "cell_type": "markdown",
   "metadata": {},
   "source": [
    "**Làm sao để truy cập vào các giá trị của dictionary ?**"
   ]
  },
  {
   "cell_type": "code",
   "execution_count": 8,
   "metadata": {},
   "outputs": [
    {
     "name": "stdout",
     "output_type": "stream",
     "text": [
      "10000\n",
      "100\n",
      "10000\n"
     ]
    }
   ],
   "source": [
    "for value in numberdict.values():\n",
    "    print(value)"
   ]
  },
  {
   "cell_type": "markdown",
   "metadata": {},
   "source": [
    "Đối tượng `numberdict` gọi thực hiện phương thức `values()`, giá trị trả về của hàm này là một danh sách(list) các giá trị value được keys bên trong dict ánh xạ đến."
   ]
  },
  {
   "cell_type": "markdown",
   "metadata": {},
   "source": [
    "#### Truy xuất đến các cặp key-value bằng phương thức `items()`."
   ]
  },
  {
   "cell_type": "code",
   "execution_count": 9,
   "metadata": {},
   "outputs": [
    {
     "name": "stdout",
     "output_type": "stream",
     "text": [
      "Tên xe: benz, giá: $10000\n",
      "Tên xe: bicycle, giá: $100\n",
      "Tên xe: car, giá: $10000\n"
     ]
    }
   ],
   "source": [
    "for key, value in numberdict.items():\n",
    "    print(f\"Tên xe: {key}, giá: ${value}\")"
   ]
  },
  {
   "cell_type": "markdown",
   "metadata": {},
   "source": [
    "Phương thức này là sự kết hợp của `keys()` và `values()` để duyệt qua tất cả các phần tử bên trong dict. Mỗi một lần lặp là một cặp key-value sẽ được truy xuất đến."
   ]
  },
  {
   "cell_type": "markdown",
   "metadata": {},
   "source": [
    "#### Kiểm tra xem có tồn tại key có giá trị là `k` bên trong dict"
   ]
  },
  {
   "cell_type": "markdown",
   "metadata": {},
   "source": [
    "Đôi khi chúng ta không biết trước được hết tất cả các key bên trong dict, nếu chúng truy xuất trực tiếp như các ví dụ trên thì rõ ràng sẽ sinh ra lỗi nếu vô tình giá trị key mà ta truyền vào bên trong không có trong dict.\n"
   ]
  },
  {
   "cell_type": "code",
   "execution_count": 10,
   "metadata": {},
   "outputs": [
    {
     "ename": "KeyError",
     "evalue": "'noname'",
     "output_type": "error",
     "traceback": [
      "\u001b[1;31m---------------------------------------------------------------------------\u001b[0m",
      "\u001b[1;31mKeyError\u001b[0m                                  Traceback (most recent call last)",
      "\u001b[1;32m<ipython-input-10-b25adb340e5c>\u001b[0m in \u001b[0;36m<module>\u001b[1;34m\u001b[0m\n\u001b[0;32m      1\u001b[0m \u001b[0mk\u001b[0m \u001b[1;33m=\u001b[0m \u001b[1;34m'noname'\u001b[0m\u001b[1;33m\u001b[0m\u001b[1;33m\u001b[0m\u001b[0m\n\u001b[1;32m----> 2\u001b[1;33m \u001b[0mprint\u001b[0m\u001b[1;33m(\u001b[0m\u001b[0mnumberdict\u001b[0m\u001b[1;33m[\u001b[0m\u001b[0mk\u001b[0m\u001b[1;33m]\u001b[0m\u001b[1;33m)\u001b[0m\u001b[1;33m\u001b[0m\u001b[1;33m\u001b[0m\u001b[0m\n\u001b[0m",
      "\u001b[1;31mKeyError\u001b[0m: 'noname'"
     ]
    }
   ],
   "source": [
    "k = 'noname'\n",
    "print(numberdict[k])"
   ]
  },
  {
   "cell_type": "markdown",
   "metadata": {},
   "source": [
    "Một cách khắc phục, ngăn không cho chương trình crash(dừng đột ngột) đó là là kiểm tra có key k bên trong dict hay không, có thì mới truy xuất."
   ]
  },
  {
   "cell_type": "code",
   "execution_count": 11,
   "metadata": {},
   "outputs": [
    {
     "name": "stdout",
     "output_type": "stream",
     "text": [
      "Error !\n"
     ]
    }
   ],
   "source": [
    "k = 'noname'\n",
    "if k in numberdict.keys():\n",
    "    print(numberdict[k])\n",
    "else:\n",
    "    print(\"Error !\")"
   ]
  },
  {
   "cell_type": "markdown",
   "metadata": {},
   "source": [
    "#### Lấy chiều dài của dict\n",
    "Sử dụng hàm dựng sẵn là `len()` để lấy chiều dài của dictionary.\n",
    "Chú ý, chiều dài của dictionary là số lượng phần tử bên trong dictionary đó chứa."
   ]
  },
  {
   "cell_type": "code",
   "execution_count": 12,
   "metadata": {},
   "outputs": [
    {
     "name": "stdout",
     "output_type": "stream",
     "text": [
      "Số lượng phần tử bên trong dictionary là: 3\n"
     ]
    }
   ],
   "source": [
    "print(\"Số lượng phần tử bên trong dictionary là:\", len(numberdict))"
   ]
  },
  {
   "cell_type": "markdown",
   "metadata": {},
   "source": [
    "#### Thêm phần tử vào dict và xóa phần tử khỏi dict\n",
    "\n",
    "Thêm phần tử vào dict chính là thêm một key vào dict kèm theo đó là value ứng với key mà ta cần thêm. Ví dụ dưới đây ta thêm cặp key-value có giá trị là `'wheelchair':1000`."
   ]
  },
  {
   "cell_type": "code",
   "execution_count": 13,
   "metadata": {},
   "outputs": [
    {
     "name": "stdout",
     "output_type": "stream",
     "text": [
      "{'benz': 10000, 'bicycle': 100, 'car': 10000, 'wheelchair': 1000}\n"
     ]
    }
   ],
   "source": [
    "numberdict['wheelchair'] = 1000\n",
    "print(numberdict)"
   ]
  },
  {
   "cell_type": "markdown",
   "metadata": {},
   "source": [
    "Xóa phần tử ra khỏi dict chính là xóa bỏ key bên được lưu trong dict. Phương thức **`pop()`** giúp cho chúng ta làm điều này, hàm `pop()` nhận đối số đầu vào là key của phần tử mà bạn muốn xóa khỏi danh sách."
   ]
  },
  {
   "cell_type": "code",
   "execution_count": 14,
   "metadata": {},
   "outputs": [
    {
     "name": "stdout",
     "output_type": "stream",
     "text": [
      "{'benz': 10000, 'car': 10000, 'wheelchair': 1000}\n"
     ]
    }
   ],
   "source": [
    "k = 'bicycle'\n",
    "if k in numberdict:\n",
    "    numberdict.pop('bicycle')\n",
    "    print(numberdict)\n",
    "else:\n",
    "    print(f\"No key {k}\")"
   ]
  },
  {
   "cell_type": "markdown",
   "metadata": {},
   "source": [
    "Ngoài ra ta còn **có thể xóa phần tử nằm ở vị trí cuối cùng** bên trong dict bằng phương thức **`popitem()`**."
   ]
  },
  {
   "cell_type": "code",
   "execution_count": 15,
   "metadata": {},
   "outputs": [
    {
     "name": "stdout",
     "output_type": "stream",
     "text": [
      "{'benz': 10000, 'car': 10000}\n"
     ]
    }
   ],
   "source": [
    "numberdict.popitem()\n",
    "print(numberdict)"
   ]
  },
  {
   "cell_type": "markdown",
   "metadata": {},
   "source": [
    "Một chiêu nữa, để xóa các phần tử bên trong dict là dùng keyword **`del`**. Đây là keyword dùng để xóa đi tên biến mà ta đã khai báo."
   ]
  },
  {
   "cell_type": "code",
   "execution_count": 16,
   "metadata": {},
   "outputs": [
    {
     "name": "stdout",
     "output_type": "stream",
     "text": [
      "{'car': 10000}\n"
     ]
    }
   ],
   "source": [
    "del numberdict['benz']\n",
    "print(numberdict)"
   ]
  },
  {
   "cell_type": "markdown",
   "metadata": {},
   "source": [
    "#### Copy hoàn toàn nội dung của một dictionary sang một dictionary mới."
   ]
  },
  {
   "cell_type": "code",
   "execution_count": 17,
   "metadata": {},
   "outputs": [
    {
     "name": "stdout",
     "output_type": "stream",
     "text": [
      "{1: 'chim cánh cụt', 2: 'gấu bắc cực', 3: 'cá heo'}\n"
     ]
    }
   ],
   "source": [
    "mydict = {1:'chim cánh cụt', 2:'gấu bắc cực', 3:'cá heo'}\n",
    "copy_dict = mydict.copy()\n",
    "print(copy_dict)"
   ]
  },
  {
   "cell_type": "markdown",
   "metadata": {},
   "source": [
    "Tại sao chúng ta không dùng lệnh gán trực tiếp **`copy_dict = mydict`** ?\n",
    "\n",
    "*Mọi thứ trong Python đều là đối tượng, mỗi một đối tượng(giá trị) sẽ được lưu trữ trong một một vùng nhớ nào đó. Các biến chẳng qua là tham chiếu đến vùng nhớ chứa giá trị(đối tượng). Việc gán biến này bằng biến khác, ví dụ như `copy_dict = mydict` thực sự chỉ là gán nơi mà mydict đang tham chiếu cho `copy_list`, hay nói đúng hơn là gán địa chỉ của biến `mydict` đang giữ cho biến `copy_dict`. Khi đó cả hai biến `copy_dict` và `mydict` đang cùng tham chiếu đến một vùng nhớ, không thực sự tạo ra một đối tượng mới. Còn nữa, hiện tượng shadow(cái bóng) này rất không tốt, nên cận thận rơi vào tình huống này.*"
   ]
  },
  {
   "cell_type": "markdown",
   "metadata": {},
   "source": [
    "#### Dict lồng Dict (Nested)"
   ]
  },
  {
   "cell_type": "markdown",
   "metadata": {},
   "source": []
  },
  {
   "cell_type": "code",
   "execution_count": null,
   "metadata": {},
   "outputs": [],
   "source": []
  },
  {
   "cell_type": "markdown",
   "metadata": {},
   "source": []
  },
  {
   "cell_type": "markdown",
   "metadata": {},
   "source": [
    "### 1.4 Phương phức `dict()`"
   ]
  },
  {
   "cell_type": "markdown",
   "metadata": {},
   "source": []
  },
  {
   "cell_type": "markdown",
   "metadata": {},
   "source": [
    "### 1.5 Các phương thức của lớp đối tượng Dictionaries"
   ]
  },
  {
   "cell_type": "markdown",
   "metadata": {},
   "source": [
    "![](images/chapter06/methods_of_dictionaries.png)\n",
    "<p style = \"text-align: center\"><i><a href=\"https://www.w3schools.com/python/python_ref_set.asp\">W3 School</a></p>"
   ]
  },
  {
   "cell_type": "markdown",
   "metadata": {},
   "source": [
    "#### `clear()`\n",
    "Xóa tất cả các phần tử từ dictionary"
   ]
  },
  {
   "cell_type": "code",
   "execution_count": 18,
   "metadata": {},
   "outputs": [
    {
     "ename": "SyntaxError",
     "evalue": "invalid syntax (<ipython-input-18-705c40c5cb11>, line 1)",
     "output_type": "error",
     "traceback": [
      "\u001b[1;36m  File \u001b[1;32m\"<ipython-input-18-705c40c5cb11>\"\u001b[1;36m, line \u001b[1;32m1\u001b[0m\n\u001b[1;33m    cl_dict = {1:'Tien', '', '', }\u001b[0m\n\u001b[1;37m                           ^\u001b[0m\n\u001b[1;31mSyntaxError\u001b[0m\u001b[1;31m:\u001b[0m invalid syntax\n"
     ]
    }
   ],
   "source": [
    "cl_dict = {1:'Tien', '', '', } "
   ]
  },
  {
   "cell_type": "markdown",
   "metadata": {},
   "source": [
    "#### `copy()`\n",
    "Trả về một đối tượng dictionary mới chứa nội dung hoàn toàn giống với đối tượng gọi thực hiện phương thức."
   ]
  },
  {
   "cell_type": "code",
   "execution_count": null,
   "metadata": {},
   "outputs": [],
   "source": []
  },
  {
   "cell_type": "markdown",
   "metadata": {},
   "source": [
    "#### `fromkeys()`\n",
    "Trả về một đối tượng dictionary với các phần tử có giá trị và key cụ thể."
   ]
  },
  {
   "cell_type": "code",
   "execution_count": null,
   "metadata": {},
   "outputs": [],
   "source": []
  },
  {
   "cell_type": "markdown",
   "metadata": {},
   "source": [
    "#### `get()`\n",
    "Trả về giá trị của một key cụ thể."
   ]
  },
  {
   "cell_type": "code",
   "execution_count": null,
   "metadata": {},
   "outputs": [],
   "source": []
  },
  {
   "cell_type": "markdown",
   "metadata": {},
   "source": [
    "#### `items()`\n",
    "Trả về một danh sách chứa các tuple, mỗi tuple gồm hai phần tử tương ứng với cặp key-value."
   ]
  },
  {
   "cell_type": "code",
   "execution_count": null,
   "metadata": {},
   "outputs": [],
   "source": []
  },
  {
   "cell_type": "markdown",
   "metadata": {},
   "source": [
    "#### `keys()`\n",
    "Trả về danh sách(list) chứa các key của dictionray."
   ]
  },
  {
   "cell_type": "code",
   "execution_count": null,
   "metadata": {},
   "outputs": [],
   "source": []
  },
  {
   "cell_type": "markdown",
   "metadata": {},
   "source": [
    "#### `pop()`\n",
    "Xóa một phần tử với key cụ thể."
   ]
  },
  {
   "cell_type": "code",
   "execution_count": null,
   "metadata": {},
   "outputs": [],
   "source": []
  },
  {
   "cell_type": "markdown",
   "metadata": {},
   "source": [
    "#### `popitem()`\n",
    "Xóa phần tử cuối cùng được chèn vào dict."
   ]
  },
  {
   "cell_type": "code",
   "execution_count": null,
   "metadata": {},
   "outputs": [],
   "source": []
  },
  {
   "cell_type": "markdown",
   "metadata": {},
   "source": [
    "#### `setdefault()`"
   ]
  },
  {
   "cell_type": "code",
   "execution_count": null,
   "metadata": {},
   "outputs": [],
   "source": []
  },
  {
   "cell_type": "markdown",
   "metadata": {},
   "source": [
    "#### `update()`"
   ]
  },
  {
   "cell_type": "code",
   "execution_count": null,
   "metadata": {},
   "outputs": [],
   "source": []
  },
  {
   "cell_type": "markdown",
   "metadata": {},
   "source": [
    "#### `values()`"
   ]
  },
  {
   "cell_type": "code",
   "execution_count": null,
   "metadata": {},
   "outputs": [],
   "source": []
  },
  {
   "cell_type": "markdown",
   "metadata": {},
   "source": [
    "## 2. Sets - Tập hợp"
   ]
  },
  {
   "cell_type": "markdown",
   "metadata": {},
   "source": [
    "### 2.1 Sets là gì ?"
   ]
  },
  {
   "cell_type": "markdown",
   "metadata": {},
   "source": [
    "Sets(tập hợp) là một collection(bộ sưu tập) các phần tử không có thứ tự, không có chỉ mục. Sets khác với Dictionaries ở chỗ Sets chỉ có tập giá trị V chính là các phần tử bên trong sets, còn ở Dictionaries có thêm tập khóa K.\n",
    "\n",
    "Chính vì các đặt trưng không có thứ tự, không được đánh chỉ mục nên ta hơi nhọc nhằn trong việc truy xuất đến các phần tử bên trong dict. Nhưng Sets có ..."
   ]
  },
  {
   "cell_type": "markdown",
   "metadata": {},
   "source": [
    "### 2.2 Các thao tác trên Sets"
   ]
  },
  {
   "cell_type": "markdown",
   "metadata": {},
   "source": []
  },
  {
   "cell_type": "markdown",
   "metadata": {},
   "source": []
  },
  {
   "cell_type": "markdown",
   "metadata": {},
   "source": [
    "### 2.3 Constructor Set()"
   ]
  },
  {
   "cell_type": "markdown",
   "metadata": {},
   "source": []
  },
  {
   "cell_type": "markdown",
   "metadata": {},
   "source": [
    "### 2.4 Các phương thức của lớp đối tượng Sets"
   ]
  },
  {
   "cell_type": "markdown",
   "metadata": {},
   "source": [
    "![Method os Sets](images/chapter06/methods_of_sets.png)\n",
    "<p style = \"text-align: center\"><i><a href=\"https://www.w3schools.com/python/python_ref_set.asp\">W3 School</a></p>\n",
    "    "
   ]
  },
  {
   "cell_type": "markdown",
   "metadata": {},
   "source": [
    "#### `add()`"
   ]
  },
  {
   "cell_type": "code",
   "execution_count": null,
   "metadata": {},
   "outputs": [],
   "source": []
  },
  {
   "cell_type": "markdown",
   "metadata": {},
   "source": [
    "#### `clear()`"
   ]
  },
  {
   "cell_type": "code",
   "execution_count": null,
   "metadata": {},
   "outputs": [],
   "source": []
  },
  {
   "cell_type": "markdown",
   "metadata": {},
   "source": [
    "#### `copy()`"
   ]
  },
  {
   "cell_type": "code",
   "execution_count": null,
   "metadata": {},
   "outputs": [],
   "source": []
  },
  {
   "cell_type": "markdown",
   "metadata": {},
   "source": [
    "#### `difference()`"
   ]
  },
  {
   "cell_type": "code",
   "execution_count": null,
   "metadata": {},
   "outputs": [],
   "source": []
  },
  {
   "cell_type": "markdown",
   "metadata": {},
   "source": [
    "#### `difference_update()`"
   ]
  },
  {
   "cell_type": "code",
   "execution_count": null,
   "metadata": {},
   "outputs": [],
   "source": []
  },
  {
   "cell_type": "markdown",
   "metadata": {},
   "source": [
    "#### `discard()`"
   ]
  },
  {
   "cell_type": "code",
   "execution_count": null,
   "metadata": {},
   "outputs": [],
   "source": []
  },
  {
   "cell_type": "markdown",
   "metadata": {},
   "source": [
    "#### `intersection()`"
   ]
  },
  {
   "cell_type": "code",
   "execution_count": null,
   "metadata": {},
   "outputs": [],
   "source": []
  },
  {
   "cell_type": "markdown",
   "metadata": {},
   "source": [
    "#### `intersection_update()`"
   ]
  },
  {
   "cell_type": "code",
   "execution_count": null,
   "metadata": {},
   "outputs": [],
   "source": []
  },
  {
   "cell_type": "markdown",
   "metadata": {},
   "source": [
    "#### `isdisjoint()`"
   ]
  },
  {
   "cell_type": "code",
   "execution_count": null,
   "metadata": {},
   "outputs": [],
   "source": []
  },
  {
   "cell_type": "markdown",
   "metadata": {},
   "source": [
    "#### `issubset()`"
   ]
  },
  {
   "cell_type": "code",
   "execution_count": null,
   "metadata": {},
   "outputs": [],
   "source": []
  },
  {
   "cell_type": "markdown",
   "metadata": {},
   "source": [
    "#### `issuperset()`"
   ]
  },
  {
   "cell_type": "code",
   "execution_count": null,
   "metadata": {},
   "outputs": [],
   "source": []
  },
  {
   "cell_type": "markdown",
   "metadata": {},
   "source": [
    "#### `pop()`"
   ]
  },
  {
   "cell_type": "code",
   "execution_count": null,
   "metadata": {},
   "outputs": [],
   "source": []
  },
  {
   "cell_type": "markdown",
   "metadata": {},
   "source": [
    "#### `remove()`"
   ]
  },
  {
   "cell_type": "code",
   "execution_count": null,
   "metadata": {},
   "outputs": [],
   "source": []
  },
  {
   "cell_type": "markdown",
   "metadata": {},
   "source": [
    "#### `symmetric_difference()`"
   ]
  },
  {
   "cell_type": "code",
   "execution_count": null,
   "metadata": {},
   "outputs": [],
   "source": []
  },
  {
   "cell_type": "markdown",
   "metadata": {},
   "source": [
    "#### `symmetric_difference_update()`"
   ]
  },
  {
   "cell_type": "code",
   "execution_count": null,
   "metadata": {},
   "outputs": [],
   "source": []
  },
  {
   "cell_type": "markdown",
   "metadata": {},
   "source": [
    "#### `union()`"
   ]
  },
  {
   "cell_type": "code",
   "execution_count": null,
   "metadata": {},
   "outputs": [],
   "source": []
  },
  {
   "cell_type": "markdown",
   "metadata": {},
   "source": [
    "#### `update()`"
   ]
  },
  {
   "cell_type": "code",
   "execution_count": null,
   "metadata": {},
   "outputs": [],
   "source": []
  },
  {
   "cell_type": "markdown",
   "metadata": {},
   "source": [
    "## 3. Lists, Tuples, Dictionaries, Sets"
   ]
  },
  {
   "cell_type": "markdown",
   "metadata": {},
   "source": [
    "### 3.1 Là cấu trúc dữ liệu dạng tập danh sách."
   ]
  },
  {
   "cell_type": "markdown",
   "metadata": {},
   "source": []
  },
  {
   "cell_type": "markdown",
   "metadata": {},
   "source": []
  },
  {
   "cell_type": "markdown",
   "metadata": {},
   "source": [
    "### 3.2 Khác nhau giữa chúng"
   ]
  },
  {
   "cell_type": "markdown",
   "metadata": {},
   "source": []
  },
  {
   "cell_type": "markdown",
   "metadata": {},
   "source": [
    "## 4. Sơ lược về Python JSON."
   ]
  },
  {
   "cell_type": "markdown",
   "metadata": {},
   "source": [
    "### 4.1 `JSON` là gì ?"
   ]
  },
  {
   "cell_type": "markdown",
   "metadata": {},
   "source": [
    "Tên đầy đủ của JSON là Javascript Object Notation. Nó là một tập lệnh(thực thi) được làm bằng văn bản trong ngôn ngữ lập trình, được sử dụng để **lưu trữ và chuyển dữ liệu**.\n",
    "\n",
    "Python hỗ trợ JSON thông qua package tích hợp có tên là json. Để sử dụng tính năng này, chúng ta import json trong chương trình. Văn bản trong JSON được thực hiện thông qua chuỗi trích dẫn có chứa giá trị trong ánh xạ key-value trong {}. Nó tương tự như từ điển trong Python. JSON hiển thị một API tương tự như người dùng mô-đun soái ca và thư viện tiêu chuẩn và Python vốn hỗ trợ các tính năng JSON. Ví dụ\n",
    "\n",
    "bộ lọc"
   ]
  },
  {
   "cell_type": "markdown",
   "metadata": {},
   "source": [
    "### 4.1 Parse JSON - Convert from JSON to Python"
   ]
  },
  {
   "cell_type": "markdown",
   "metadata": {},
   "source": [
    "Nếu bạn có một chuỗi JSON, bạn có thể parse(chia cắt) chuỗi này bằng cách sử dụng phương thức **`json.loads()`**.\n",
    "\n",
    "**Kết quả trả về là một dictionary lưu giữa các từ được parse từ chuỗi.**"
   ]
  },
  {
   "cell_type": "code",
   "execution_count": 8,
   "metadata": {},
   "outputs": [
    {
     "name": "stdout",
     "output_type": "stream",
     "text": [
      "{'name': 'John', 'age': 30, 'city': 'New York'}\n"
     ]
    }
   ],
   "source": [
    "import json\n",
    "\n",
    "# some JSON:\n",
    "x =  '{ \"name\":\"John\", \"age\":30, \"city\":\"New York\"}'\n",
    "\n",
    "# parse x:\n",
    "y = json.loads(x)\n",
    "\n",
    "# the result is a Python dictionary:\n",
    "print(y)"
   ]
  },
  {
   "cell_type": "markdown",
   "metadata": {},
   "source": [
    "### 4. 2 Convert from Python to JSON"
   ]
  },
  {
   "cell_type": "markdown",
   "metadata": {},
   "source": [
    "Nếu bạn có một đối tượng trong Python, bạn có thể chuyển đổi nó thành một chuỗi JSON bằng cách sử dụng phương thức **`json.dumps()`**."
   ]
  },
  {
   "cell_type": "code",
   "execution_count": 9,
   "metadata": {},
   "outputs": [
    {
     "name": "stdout",
     "output_type": "stream",
     "text": [
      "{\"name\": \"John\", \"age\": 30, \"city\": \"New York\"}\n"
     ]
    }
   ],
   "source": [
    "import json\n",
    "\n",
    "# a Python object (dict):\n",
    "x = {\n",
    "  \"name\": \"John\",\n",
    "  \"age\": 30,\n",
    "  \"city\": \"New York\"\n",
    "}\n",
    "\n",
    "# convert into JSON:\n",
    "y = json.dumps(x)\n",
    "\n",
    "# the result is a JSON string:\n",
    "print(y)"
   ]
  },
  {
   "cell_type": "markdown",
   "metadata": {},
   "source": [
    "Ngoài ra, chúng ta cũng có thể chuyển đổi các các đối tượng có kiểu dữ liệu dưới đầy về dạng JSON.\n",
    "- list\n",
    "- tuple\n",
    "- string\n",
    "- int\n",
    "- float\n",
    "- True\n",
    "- False\n",
    "- None"
   ]
  },
  {
   "cell_type": "code",
   "execution_count": 10,
   "metadata": {},
   "outputs": [
    {
     "name": "stdout",
     "output_type": "stream",
     "text": [
      "{\"name\": \"John\", \"age\": 30}\n",
      "[\"apple\", \"bananas\"]\n",
      "[\"apple\", \"bananas\"]\n",
      "\"hello\"\n",
      "42\n",
      "31.76\n",
      "true\n",
      "false\n",
      "null\n"
     ]
    }
   ],
   "source": [
    "import json\n",
    "\n",
    "print(json.dumps({\"name\": \"John\", \"age\": 30}))\n",
    "print(json.dumps([\"apple\", \"bananas\"]))\n",
    "print(json.dumps((\"apple\", \"bananas\")))\n",
    "print(json.dumps(\"hello\"))\n",
    "print(json.dumps(42))\n",
    "print(json.dumps(31.76))\n",
    "print(json.dumps(True))\n",
    "print(json.dumps(False))\n",
    "print(json.dumps(None))"
   ]
  },
  {
   "cell_type": "markdown",
   "metadata": {},
   "source": [
    "Khi chúng ta chuyển từ Python sang JSON, các đối tượng Python được chuyển tương ứng như sau:\n",
    "![JSON coverting](images/chapter06/JSON2.png)"
   ]
  },
  {
   "cell_type": "markdown",
   "metadata": {},
   "source": [
    "### 4.3 Format the result"
   ]
  },
  {
   "cell_type": "markdown",
   "metadata": {},
   "source": [
    "Ví dụ trên in một chuỗi JSON, nhưng nó không dễ đọc, không có thụt vô thụt ra và cũng không có ngắt dòng rõ ràng.\n",
    "\n",
    "Phương thức **json.dumps()** có các tham số để hiển thị kết quả dễ dàng hơn."
   ]
  },
  {
   "cell_type": "code",
   "execution_count": 13,
   "metadata": {},
   "outputs": [
    {
     "name": "stdout",
     "output_type": "stream",
     "text": [
      "{\n",
      "    \"name\": \"John\",\n",
      "    \"age\": 30,\n",
      "    \"married\": true,\n",
      "    \"divorced\": false,\n",
      "    \"children\": [\n",
      "        \"Ann\",\n",
      "        \"Billy\"\n",
      "    ],\n",
      "    \"pets\": null,\n",
      "    \"cars\": [\n",
      "        {\n",
      "            \"model\": \"BMW 230\",\n",
      "            \"mpg\": 27.5\n",
      "        },\n",
      "        {\n",
      "            \"model\": \"Ford Edge\",\n",
      "            \"mpg\": 24.1\n",
      "        }\n",
      "    ]\n",
      "}\n"
     ]
    }
   ],
   "source": [
    "import json\n",
    "\n",
    "x = {\n",
    "  \"name\": \"John\",\n",
    "  \"age\": 30,\n",
    "  \"married\": True,\n",
    "  \"divorced\": False,\n",
    "  \"children\": (\"Ann\",\"Billy\"),\n",
    "  \"pets\": None,\n",
    "  \"cars\": [\n",
    "    {\"model\": \"BMW 230\", \"mpg\": 27.5},\n",
    "    {\"model\": \"Ford Edge\", \"mpg\": 24.1}\n",
    "  ]\n",
    "}\n",
    "\n",
    "print(json.dumps(x, indent = 4))"
   ]
  },
  {
   "cell_type": "markdown",
   "metadata": {},
   "source": []
  },
  {
   "cell_type": "markdown",
   "metadata": {},
   "source": []
  },
  {
   "cell_type": "markdown",
   "metadata": {},
   "source": []
  },
  {
   "cell_type": "markdown",
   "metadata": {},
   "source": []
  },
  {
   "cell_type": "markdown",
   "metadata": {},
   "source": []
  },
  {
   "cell_type": "markdown",
   "metadata": {},
   "source": [
    "### 4.2 Ví dụ"
   ]
  },
  {
   "cell_type": "markdown",
   "metadata": {},
   "source": []
  },
  {
   "cell_type": "markdown",
   "metadata": {},
   "source": [
    "### Cách sự dụng JSON"
   ]
  },
  {
   "cell_type": "markdown",
   "metadata": {},
   "source": []
  },
  {
   "cell_type": "markdown",
   "metadata": {},
   "source": [
    "## 5. Kết luận"
   ]
  },
  {
   "cell_type": "markdown",
   "metadata": {},
   "source": [
    "\n",
    "\n",
    "Các tutorial tham khảo:\n",
    "- [Python JSON](https://www.w3schools.com/python/python_json.asp).\n",
    "- [Python Dictionaries](https://www.w3schools.com/python/python_dictionaries.asp).\n",
    "- [Python Sets](https://www.w3schools.com/python/python_sets.asp).\n",
    "- [Python Data Structures – Lists, Tuples, Sets, Dictionaries](https://data-flair.training/blogs/python-data-structures-tutorial/).\n"
   ]
  },
  {
   "cell_type": "markdown",
   "metadata": {},
   "source": [
    "## 6. Bài tập"
   ]
  },
  {
   "cell_type": "markdown",
   "metadata": {},
   "source": []
  },
  {
   "cell_type": "markdown",
   "metadata": {},
   "source": []
  },
  {
   "cell_type": "markdown",
   "metadata": {},
   "source": []
  },
  {
   "cell_type": "markdown",
   "metadata": {},
   "source": []
  },
  {
   "cell_type": "markdown",
   "metadata": {},
   "source": [
    "**Bài 01**: Write a program that repeatedly asks the user to enter product names and prices. Store all of these in a dictionary whose keys are the product names and whose values are the prices. When the user is done entering products and prices, allow them to repeatedly enter a product name and print the corresponding price or a message if the product is not in the dictionary."
   ]
  },
  {
   "cell_type": "code",
   "execution_count": 19,
   "metadata": {},
   "outputs": [],
   "source": [
    "# Code bài 01"
   ]
  },
  {
   "cell_type": "markdown",
   "metadata": {},
   "source": [
    "**Bài 02**. Using the dictionary created in the previous problem, allow the user to enter a dollar amount and print out all the products whose price is less than that amount."
   ]
  },
  {
   "cell_type": "code",
   "execution_count": 20,
   "metadata": {},
   "outputs": [],
   "source": [
    "# Code bài 02"
   ]
  },
  {
   "cell_type": "markdown",
   "metadata": {},
   "source": [
    "**Bài 03**. For this problem, use the dictionary from the beginning of this chapter whose keys are month names and whose values are the number of days in the corresponding months.\n",
    "   + (a) Ask the user to enter a month name and use the dictionary to tell them how many days are in the month.\n",
    "   + (b) Print out all of the keys in alphabetical order.\n",
    "   + (c) Print out all of the months with 31 days.\n",
    "   + (d) Print out the (key-value) pairs sorted by the number of days in each month\n",
    "   + (e) Modify the program from part (a) and the dictionary so that the user does not have to know how to spell the month name exactly. That is, all they have to do is spell the first three letters of the month name correctly."
   ]
  },
  {
   "cell_type": "markdown",
   "metadata": {},
   "source": [
    "**Bài 04**: Write a program that uses a dictionary that contains ten user names and passwords. The program should ask the user to enter their username and password. If the username is not in the dictionary, the program should indicate that the person is not a valid user of the system. If the username is in the dictionary, but the user does not enter the right password, the program should say that the password is invalid. If the password is correct, then the program should tell the user that they are now logged in to the system."
   ]
  },
  {
   "cell_type": "code",
   "execution_count": 21,
   "metadata": {},
   "outputs": [],
   "source": [
    "# Code bài 04"
   ]
  },
  {
   "cell_type": "markdown",
   "metadata": {},
   "source": [
    "**Bài 05**: Create a 5 × 5 list of numbers. Then write a program that creates a dictionary whose keys are the numbers and whose values are the how many times the number occurs. Then print the three most common numbers."
   ]
  },
  {
   "cell_type": "code",
   "execution_count": 22,
   "metadata": {},
   "outputs": [],
   "source": [
    "# Code bài 05"
   ]
  },
  {
   "cell_type": "markdown",
   "metadata": {},
   "source": [
    "**Bài 06**: Below are the notes used in music:\n",
    "                            `C C# D D# E F F# G G# A A# B`\n",
    "                            \n",
    "**The notes for the C major chord are C, E, G. A mathematical way to get this is that E is 4 steps past C and G is 7 steps past C. This works for any base. For example, the notes for D major are D, F#, A. We can represent the major chord steps as a list with two elements: [4,7] . The corresponding lists for some other chord types are shown below**: \n",
    "```\n",
    "    Minor             [3,7]                      Dominant seventh           [4,7,10]\n",
    "    Augmented fifth   [4,8]                      Minor seventh              [3,7,10]\n",
    "    Minor fifth       [4,6]                      Major seventh              [4,7,11]\n",
    "    Major sixth       [4,7,9]                    Diminished seventh         [3,6,10]           \n",
    "    Minor sixth       [3,7,9]\n",
    "```\n",
    "Write a program that asks the user for the key and the chord type and prints out the notes of the chord. Use a dictionary whose keys are the (musical) keys and whose values are the lists of steps."
   ]
  },
  {
   "cell_type": "code",
   "execution_count": 23,
   "metadata": {},
   "outputs": [],
   "source": [
    "# Code bài 06"
   ]
  },
  {
   "cell_type": "markdown",
   "metadata": {},
   "source": [
    "**Bài 07**: Suppose you are given the following list of strings: `L = [ ' aabaabac ' , ' cabaabca ' , ' aaabbcba ' , ' aabacbab ' , ' acababba ' ]` Patterns like this show up in many places, including DNA sequencing. The user has a string of their own with only some letters filled in and the rest as asterisks. An example is `a**a****`. The user would like to know which of the strings in the list fit with their pattern. In the example just given, the matching strings are the first and fourth. One way to solve this problem is to create a dictionary whose keys are the indices in the user’s string of the non-asterisk characters and whose values are those characters. Write a program implementing this approach (or some other approach) to find the strings that match a user-entered string."
   ]
  },
  {
   "cell_type": "code",
   "execution_count": 24,
   "metadata": {},
   "outputs": [],
   "source": [
    "# Code bài 07"
   ]
  },
  {
   "cell_type": "markdown",
   "metadata": {},
   "source": [
    "**Bài 07**: \n",
    "```python\n",
    "+ (a) Write a program that converts Roman numerals into ordinary numbers. Here are the conversions: M=1000, D=500, C=100, L=50, X=10, V=5 I=1. Don’t forget about things like IV being 4 and XL being 40. \n",
    "+ (b) Write a program that converts ordinary numbers into Roman numerals.\n",
    "```"
   ]
  },
  {
   "cell_type": "code",
   "execution_count": 25,
   "metadata": {},
   "outputs": [],
   "source": [
    "# Code bài 07"
   ]
  }
 ],
 "metadata": {
  "kernelspec": {
   "display_name": "Python 3",
   "language": "python",
   "name": "python3"
  },
  "language_info": {
   "codemirror_mode": {
    "name": "ipython",
    "version": 3
   },
   "file_extension": ".py",
   "mimetype": "text/x-python",
   "name": "python",
   "nbconvert_exporter": "python",
   "pygments_lexer": "ipython3",
   "version": "3.7.5"
  },
  "latex_envs": {
   "LaTeX_envs_menu_present": true,
   "autoclose": false,
   "autocomplete": true,
   "bibliofile": "biblio.bib",
   "cite_by": "apalike",
   "current_citInitial": 1,
   "eqLabelWithNumbers": true,
   "eqNumInitial": 1,
   "hotkeys": {
    "equation": "Ctrl-E",
    "itemize": "Ctrl-I"
   },
   "labels_anchors": false,
   "latex_user_defs": false,
   "report_style_numbering": false,
   "user_envs_cfg": false
  },
  "toc": {
   "base_numbering": 1,
   "nav_menu": {},
   "number_sections": false,
   "sideBar": true,
   "skip_h1_title": true,
   "title_cell": "Table of Contents",
   "title_sidebar": "Contents",
   "toc_cell": false,
   "toc_position": {
    "height": "calc(100% - 180px)",
    "left": "10px",
    "top": "150px",
    "width": "180px"
   },
   "toc_section_display": true,
   "toc_window_display": true
  }
 },
 "nbformat": 4,
 "nbformat_minor": 2
}
