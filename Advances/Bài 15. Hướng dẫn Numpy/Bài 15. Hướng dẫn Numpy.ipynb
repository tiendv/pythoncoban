{
 "cells": [
  {
   "cell_type": "markdown",
   "metadata": {},
   "source": [
    "# Bài 15. Hướng dẫn Numpy"
   ]
  },
  {
   "cell_type": "markdown",
   "metadata": {},
   "source": [
    "Numpy là một thư viện được dùng cho việc **tính toán khoa học(scientific computing)** trong  Python. Bên cạnh việc hữu dụng trong tính toán nó còn được dùng như một **container nhiều chiều để chứa dữ liệu**. Kiểu dữ liệu bất kì đề được đều có thể lưu trự bằng mảng nhiều chiều trong Numpy. \n",
    "\n",
    "![Numpy](images/bai15/numpy.png)"
   ]
  },
  {
   "cell_type": "markdown",
   "metadata": {},
   "source": [
    "## Nội dung\n",
    "1. **Numpy là gì ?**\n",
    "2. **Cài đặt Numpy**\n",
    "3. **Làm việc với Numpy**.\n",
    "4. **Một số ví dụ**.\n",
    "5. **Kết luận**\n",
    "6. **Luyện tập**\n",
    "----"
   ]
  },
  {
   "cell_type": "markdown",
   "metadata": {},
   "source": [
    "## 1. Numpy là gì ?"
   ]
  },
  {
   "cell_type": "markdown",
   "metadata": {},
   "source": [
    "Numpy là một thư viện cho Python, giúp ta dễ dàng hơn khi làm việc với những dữ liệu nhiều chiều như arrays hay matrices. Cùng với đó, nó cung cấp một loạt các hàm để thực hiện các phép toán trên các cấu trúc dữ liệu này. Dưới đây là một tóm tắt ngắn về lịch sử về nó:\n",
    "\n",
    "![History of Numpy](images/bai15/hisnumpy.png)\n",
    "\n",
    "\n",
    "Đọc thêm: [Travis E. Oliphant, \"NumPy and SciPy: History and Ideas for the Future\"](https://www.slideshare.net/shoheihido/sci-pyhistory)\n",
    "\n",
    "Chúng ta thường dùng Numpy cùng với các thư viện Pandas, Matplotlib. Cái tên **Numpy** được hình thành từ **Num**erical và **Py**thon."
   ]
  },
  {
   "cell_type": "markdown",
   "metadata": {},
   "source": [
    "Đối tượng mảng trong Numpy là đối tượng mà ta sẽ làm việc xuyên suốt, nó cho phép chúng lưu giữ các dữ liệu high-dimension như image(ảnh).\n",
    "\n",
    "Dưới đây là các đối tượng với số chiều là $1, 2, 3$.\n",
    "\n",
    "![Multidimension Array](images/bai15/mularr.png)\n",
    "\n",
    "Kiểu dữ liệu của các phần tử trong array của numpy có thể là số nguyên *int*, có thể là kiểu số thực *float*, ..."
   ]
  },
  {
   "cell_type": "markdown",
   "metadata": {},
   "source": [
    "## 2. Cài đặt Numpy"
   ]
  },
  {
   "cell_type": "markdown",
   "metadata": {},
   "source": [
    "**Bước 01**: Cài đặt Anaconda Distribution phù hợp với OS(Operating System) đang dùng. \n",
    "- Đối với Ubuntu: [How To Install Anaconda on Ubuntu 18.04 [Quickstart]](https://www.digitalocean.com/community/tutorials/how-to-install-anaconda-on-ubuntu-18-04-quickstart)\n",
    "\n",
    "- Đối với Windows: [Installing on Windows\n",
    "](https://docs.anaconda.com/anaconda/install/windows/)"
   ]
  },
  {
   "cell_type": "markdown",
   "metadata": {},
   "source": [
    "**Bước 02**: Tạo môi trường ảo:\n",
    "- Đối với `Ubuntu`: Nhấn tổ hợp phím `Ctrl` + `Alt` + `T` để mở Terminal.\n",
    "- Đối với `Windows`: Mở **Anaconda Prompt**.\n",
    "- Tiếp tục gõ các lệnh sau:\n",
    "\n",
    "```\n",
    "# Cập nhật hệ thống\n",
    "sudo apt-get update\n",
    "\n",
    "# Tạo môi trường ảo\n",
    "conda create -n numpy_env python==3.7.5\n",
    "\n",
    "# kích hoạt môi trường ảo vừa tạo\n",
    "conda activate numpy_env\n",
    "\n",
    "```"
   ]
  },
  {
   "cell_type": "markdown",
   "metadata": {},
   "source": [
    "**Bước 03**: Cài đặt package numpy và jupyter notebook vào môi trường ảo đã kích hoạt\n",
    "```\n",
    "# Cài đặt packages numpy và jupyter qua pip(python packages manager)\n",
    "pip install numpy jupyter\n",
    "```"
   ]
  },
  {
   "cell_type": "markdown",
   "metadata": {},
   "source": [
    "## 3. Làm việc với Numpy"
   ]
  },
  {
   "cell_type": "markdown",
   "metadata": {},
   "source": [
    "Chúng ta sẽ tìm một hiểu một số cách thức làm việc với đối tượng mảng của numpy như các thao tác tạo lập mảng, các phép toán."
   ]
  },
  {
   "cell_type": "code",
   "execution_count": 1,
   "metadata": {},
   "outputs": [],
   "source": [
    "# Import thư viện numpy vào và dùng nó dưới tên gọi là np\n",
    "import numpy as np"
   ]
  },
  {
   "cell_type": "markdown",
   "metadata": {},
   "source": [
    "### Mảng một chiều"
   ]
  },
  {
   "cell_type": "markdown",
   "metadata": {},
   "source": [
    "#### Tạo mảng một chiều\n",
    "Chúng ta dùng hàm `np.array()` để tạo ra các đối tượng `ndarray` trong numpy.\n",
    "\n",
    "Bên trong `array()` ta truyền vào đó danh sách chứa các giá trị mà ta muốn xây dựng. Ví dụ dưới đây sẽ khai báo một mảng một chiều trong numpy."
   ]
  },
  {
   "cell_type": "code",
   "execution_count": 2,
   "metadata": {},
   "outputs": [
    {
     "name": "stdout",
     "output_type": "stream",
     "text": [
      "<class 'numpy.ndarray'>\n",
      "[1 2 3 4]\n"
     ]
    }
   ],
   "source": [
    "# Tạo mảng một chiều bằng phương thức array()\n",
    "myarray = np.array([1, 2, 3, 4])\n",
    "\n",
    "# Xem kiểu dữ liệu của myarray\n",
    "print(type(myarray))\n",
    "\n",
    "# Xuất dữ liệu của mảng myarray ra ngoài màn hình\n",
    "print(myarray)"
   ]
  },
  {
   "cell_type": "markdown",
   "metadata": {},
   "source": [
    "####  Kiểu dữ liệu của phần tử trong mảng"
   ]
  },
  {
   "cell_type": "code",
   "execution_count": 3,
   "metadata": {},
   "outputs": [
    {
     "name": "stdout",
     "output_type": "stream",
     "text": [
      "<class 'numpy.ndarray'>\n",
      "[[1. 2. 3. 4.]]\n"
     ]
    }
   ],
   "source": [
    "# Import thư viện numpy vào và dùng nó dưới tên gọi là np\n",
    "import numpy as np\n",
    "\n",
    "# Tạo mảng một chiều bằng phương thức array()\n",
    "myarray = np.array([[1, 2, 3, 4]], dtype=np.float32)\n",
    "\n",
    "# Xem kiểu dữ liệu của myarray\n",
    "print(type(myarray))\n",
    "\n",
    "# Xuất dữ liệu của mảng myarray ra ngoài màn hình\n",
    "print(myarray)"
   ]
  },
  {
   "cell_type": "markdown",
   "metadata": {},
   "source": [
    "Dưới đây là một số kiểu dữ liệu được dùng cho đối tượng thuộc lớp đối tượng `ndarray`:\n",
    "- `np.int64` : kiểu số nguyên 64 bit không dấu.\n",
    "- `np.float32` : số dấu chấm động với độ chính xác kép.\n",
    "- `np.complex` : số phức.\n",
    "- `np.bool` : có giá trị True hoặc False.\n",
    "- `np.object` : kiểu đối tượng\n",
    "- `np.string_` : kiểu dữ liệu chuỗi có độ dài cố định.\n",
    "- `np.unicode_` : kiểu unicode có độ dài cố định"
   ]
  },
  {
   "cell_type": "markdown",
   "metadata": {},
   "source": [
    "#### Tạo mảng bằng phương thức`arange()`"
   ]
  },
  {
   "cell_type": "code",
   "execution_count": 4,
   "metadata": {},
   "outputs": [
    {
     "name": "stdout",
     "output_type": "stream",
     "text": [
      "<class 'numpy.ndarray'>\n",
      "[-1  0  1  2  3  4  5  6  7  8  9]\n"
     ]
    }
   ],
   "source": [
    "# Tạo mảng một chiều có giá trị của phần tử đầu tiền là -1, các phần tử tiếp theo cách nhau 1 đơn vị.\n",
    "my_array = np.arange(-1, 10)\n",
    "\n",
    "print(type(my_array))\n",
    "\n",
    "print(my_array)"
   ]
  },
  {
   "cell_type": "markdown",
   "metadata": {},
   "source": [
    "Ngoài ra, ta cũng có thể chỉ ra bước nhảy cho dãy số được tạo ra bằng cú pháp:\n",
    "\n",
    "```\n",
    "np.arange(first, end, step)\n",
    "```\n",
    "\n",
    "Dưới đây là ví dụ tạo ra cấp số cộng với bước nhảy(công sai) là 2"
   ]
  },
  {
   "cell_type": "code",
   "execution_count": 5,
   "metadata": {},
   "outputs": [
    {
     "name": "stdout",
     "output_type": "stream",
     "text": [
      "<class 'numpy.ndarray'>\n",
      "[-1  1  3  5  7  9]\n"
     ]
    }
   ],
   "source": [
    "my_array = np.arange(-1, 10, 2)\n",
    "\n",
    "print(type(my_array))\n",
    "\n",
    "print(my_array)"
   ]
  },
  {
   "cell_type": "markdown",
   "metadata": {},
   "source": [
    "#### Chỉ mục của các phần tử bên trong mảng"
   ]
  },
  {
   "cell_type": "markdown",
   "metadata": {},
   "source": [
    "Chỉ mục của các phần tử bên trong mảng một chiều là số nguyên, bắt đầu từ 0 cho đến vị trí cuối cùng. Nếu mảng một chiều có 10 phần tử thì các phần tử sẽ được đánh số từ $0 \\rightarrow 9$, với $0$ là index(chỉ mục) của phần tử đầu tiên, $9$ là chỉ mục của phần tử cuối cùng trong mảng.\n",
    "\n",
    "![Index of elements in array](images/bai15/arrayindex.png)\n",
    "\n",
    "Ta có thể truy cập đến 1 hay nhiều phần tử trong mảng bằng việc chỉ ra chỉ mục của phần tử cần truy xuất bên trong dấu ngoặc vuông `[]`."
   ]
  },
  {
   "cell_type": "code",
   "execution_count": 6,
   "metadata": {},
   "outputs": [
    {
     "name": "stdout",
     "output_type": "stream",
     "text": [
      "[1.  1.5 2.  2.5 3.  3.5 4.  4.5 5.  5.5 6.  6.5 7.  7.5 8.  8.5 9.  9.5]\n",
      "Giá trị của phần tử có chỉ mục là 3 là:  2.5\n"
     ]
    }
   ],
   "source": [
    "a = np.arange(1, 10, 0.5)\n",
    "print(a)\n",
    "\n",
    "index = 3\n",
    "print(f\"Giá trị của phần tử có chỉ mục là {index} là: \", a[index])"
   ]
  },
  {
   "cell_type": "markdown",
   "metadata": {},
   "source": [
    "#### Tạo mảng một chiều toàn giá trị `0, 1`."
   ]
  },
  {
   "cell_type": "code",
   "execution_count": 7,
   "metadata": {},
   "outputs": [
    {
     "name": "stdout",
     "output_type": "stream",
     "text": [
      "[0. 0. 0. 0. 0.]\n"
     ]
    }
   ],
   "source": [
    "# Tạo mảng một chiều có độ dài là 5, giá trị các phần tử đều là 0.\n",
    "zero_array = np.zeros(5)\n",
    "print(zero_array)"
   ]
  },
  {
   "cell_type": "code",
   "execution_count": 8,
   "metadata": {},
   "outputs": [
    {
     "name": "stdout",
     "output_type": "stream",
     "text": [
      "[1. 1. 1. 1. 1.]\n"
     ]
    }
   ],
   "source": [
    "# Tạo mảng một chiều có độ dài là 5, giá trị các phần tử đều là 1.\n",
    "one_array = np.ones(5)\n",
    "print(one_array)"
   ]
  },
  {
   "cell_type": "markdown",
   "metadata": {},
   "source": [
    "#### Cộng với một đại lượng vô hướng"
   ]
  },
  {
   "cell_type": "code",
   "execution_count": 9,
   "metadata": {},
   "outputs": [
    {
     "name": "stdout",
     "output_type": "stream",
     "text": [
      "[11 12 14 15 20]\n",
      "[11 12 14 15 20]\n",
      "<class 'numpy.ndarray'> <class 'numpy.ndarray'>\n"
     ]
    }
   ],
   "source": [
    "# Khai báo hai mảng một chiều có kích thước là 5\n",
    "a = np.array([1, 2, 4 ,5, 10])\n",
    "z = 10\n",
    "\n",
    "b = a + z\n",
    "c = z + a\n",
    "print(b)\n",
    "print(c)\n",
    "print(type(b), type(c))"
   ]
  },
  {
   "cell_type": "markdown",
   "metadata": {},
   "source": [
    "#### Nhân với một đại lượng vô hướng"
   ]
  },
  {
   "cell_type": "code",
   "execution_count": 10,
   "metadata": {},
   "outputs": [
    {
     "name": "stdout",
     "output_type": "stream",
     "text": [
      "[ 10  20  40  50 100]\n",
      "[ 10  20  40  50 100]\n",
      "<class 'numpy.ndarray'> <class 'numpy.ndarray'>\n"
     ]
    }
   ],
   "source": [
    "# Khai báo hai mảng một chiều có kích thước là 5\n",
    "a = np.array([1, 2, 4 ,5, 10])\n",
    "z = 10\n",
    "\n",
    "b = a * z\n",
    "c = z * a\n",
    "print(b)\n",
    "print(c)\n",
    "print(type(b), type(c))"
   ]
  },
  {
   "cell_type": "markdown",
   "metadata": {},
   "source": [
    "#### Cộng hai mảng một chiều"
   ]
  },
  {
   "cell_type": "code",
   "execution_count": 11,
   "metadata": {},
   "outputs": [
    {
     "name": "stdout",
     "output_type": "stream",
     "text": [
      "[ 0  4  4  6 -2]\n",
      "<class 'numpy.ndarray'>\n"
     ]
    }
   ],
   "source": [
    "# Khai báo hai mảng một chiều có kích thước là 5\n",
    "a = np.array([1, 2, 4 ,5, 10])\n",
    "b = np.array([-1, 2, 0, 1, -12])\n",
    "\n",
    "c = a + b\n",
    "print(c)\n",
    "print(type(c))"
   ]
  },
  {
   "cell_type": "markdown",
   "metadata": {},
   "source": [
    "#### Nhân hai mảng một chiều"
   ]
  },
  {
   "cell_type": "code",
   "execution_count": 12,
   "metadata": {},
   "outputs": [
    {
     "name": "stdout",
     "output_type": "stream",
     "text": [
      "[  -1    4    0    5 -120]\n",
      "<class 'numpy.ndarray'>\n"
     ]
    }
   ],
   "source": [
    "# Khai báo hai mảng một chiều có kích thước là 5\n",
    "a = np.array([1, 2, 4 ,5, 10])\n",
    "b = np.array([-1, 2, 0, 1, -12])\n",
    "\n",
    "c = a * b\n",
    "print(c)\n",
    "print(type(c))"
   ]
  },
  {
   "cell_type": "markdown",
   "metadata": {},
   "source": [
    "#### Tích có hướng hai vector\n",
    "\n",
    "![Tích có hướng](images/bai15/crossproduct.png)"
   ]
  },
  {
   "cell_type": "code",
   "execution_count": 13,
   "metadata": {},
   "outputs": [
    {
     "name": "stdout",
     "output_type": "stream",
     "text": [
      "Tích có hướng giữa hai vector [1 2 3] và [-1  0  1] là:  [ 2 -4  2]\n"
     ]
    }
   ],
   "source": [
    "a = np.array([1, 2 ,3])\n",
    "b = np.arange(-1, 2, 1)\n",
    "\n",
    "c = np.cross(a, b)\n",
    "\n",
    "print(f\"Tích có hướng giữa hai vector {a} và {b} là: \" , c)"
   ]
  },
  {
   "cell_type": "markdown",
   "metadata": {},
   "source": [
    "#### Chọn ra các phần tử thỏa tính chất"
   ]
  },
  {
   "cell_type": "code",
   "execution_count": 14,
   "metadata": {
    "scrolled": true
   },
   "outputs": [
    {
     "name": "stdout",
     "output_type": "stream",
     "text": [
      "[-5 -4 -3 -2 -1  0  1  2  3  4]\n",
      "Các phần tử dương bên trong mảng: [1 2 3 4]\n",
      "Các phần tử lẻ bên trong mảng: [-4 -2  0  2  4]\n",
      "Các phần tử lẻ bên trong mảng: [2 4]\n"
     ]
    }
   ],
   "source": [
    "my_array = np.arange(-5, 5)\n",
    "print(my_array)\n",
    "\n",
    "# Chọn ra các phần tử dương bên trong mảng \n",
    "print(\"Các phần tử dương bên trong mảng:\", my_array[my_array > 0])\n",
    "\n",
    "# Chọn ra các phần tử chẵn bên trong mảng\n",
    "print(\"Các phần tử lẻ bên trong mảng:\", my_array[my_array % 2 == 0])\n",
    "\n",
    "# Chọn ra các phần tử dương chẵn trong mảng.\n",
    "print(\"Các phần tử lẻ bên trong mảng:\", my_array[(my_array % 2 == 0) * (my_array > 0)])"
   ]
  },
  {
   "cell_type": "markdown",
   "metadata": {},
   "source": [
    "#### Các hàm thống kê"
   ]
  },
  {
   "cell_type": "code",
   "execution_count": 15,
   "metadata": {},
   "outputs": [
    {
     "name": "stdout",
     "output_type": "stream",
     "text": [
      "[  1   3   4  12  12 -10]\n",
      "Tổng các phần tử trong mảng: 22\n",
      "Giá trị nhỏ nhất trong mảng: -10\n",
      "Giá trị trung bình: 3.6666666666666665\n",
      "Trung vị: 3.6666666666666665\n",
      "Độ lệch chuẩn: 7.4535599249993\n"
     ]
    }
   ],
   "source": [
    "arr = np.array([1, 3, 4, 12, 12, -10])\n",
    "print(arr)\n",
    "\n",
    "sum_arr = arr.sum()\n",
    "print(\"Tổng các phần tử trong mảng:\", sum_arr)\n",
    "\n",
    "min_arr = arr.min()\n",
    "print(\"Giá trị nhỏ nhất trong mảng:\", min_arr)\n",
    "\n",
    "mean_arr = arr.mean()\n",
    "print(\"Giá trị trung bình:\", mean_arr)\n",
    "\n",
    "median_arr = arr.mean()\n",
    "print(\"Trung vị:\", mean_arr)\n",
    "\n",
    "standard = np.std(arr)\n",
    "print(\"Độ lệch chuẩn:\", standard)"
   ]
  },
  {
   "cell_type": "markdown",
   "metadata": {},
   "source": [
    "#### Gộp mảng một chiều"
   ]
  },
  {
   "cell_type": "code",
   "execution_count": 16,
   "metadata": {},
   "outputs": [
    {
     "name": "stdout",
     "output_type": "stream",
     "text": [
      "Mảng gộp từ a và b:  [1 2 3 4 5 6 7 8]\n"
     ]
    }
   ],
   "source": [
    "a = np.array([1, 2, 3, 4])\n",
    "b = np.array([5, 6, 7, 8])\n",
    "\n",
    "# Gộp hai mảng a và b \n",
    "c = np.concatenate((a, b))\n",
    "print(\"Mảng gộp từ a và b: \", c)"
   ]
  },
  {
   "cell_type": "markdown",
   "metadata": {},
   "source": [
    "#### Tách mảng một chiều"
   ]
  },
  {
   "cell_type": "code",
   "execution_count": 17,
   "metadata": {},
   "outputs": [
    {
     "name": "stdout",
     "output_type": "stream",
     "text": [
      "[1 2 3 4 5 6 7 8]\n",
      "Mảng c tách thành 2 phần: \n",
      " [1 2 3 4] \n",
      " [5 6 7 8]\n",
      "Mảng c tách thành 4 phần: \n",
      " [1 2] \n",
      " [3 4] \n",
      " [5 6] \n",
      " [7 8]\n"
     ]
    }
   ],
   "source": [
    "c = np.arange(1,9)\n",
    "\n",
    "print(c)\n",
    "# Tách mảng c thành hai mảng có số phần tử bằng nhau.\n",
    "a, b = np.hsplit(c, 2)\n",
    "print(\"Mảng c tách thành 2 phần: \\n\", a, '\\n',b)\n",
    "\n",
    "# Tách mảng c thành 4 mảng có số phần tử bằng nhau\n",
    "a, b, c, d = np.hsplit(c, 4)\n",
    "print(\"Mảng c tách thành 4 phần: \\n\", a, '\\n', b, '\\n', c, '\\n', d)"
   ]
  },
  {
   "cell_type": "markdown",
   "metadata": {},
   "source": [
    "#### Visualize mảng một chiều"
   ]
  },
  {
   "cell_type": "code",
   "execution_count": 15,
   "metadata": {},
   "outputs": [],
   "source": []
  },
  {
   "cell_type": "markdown",
   "metadata": {},
   "source": [
    "### Mảng hai chiều"
   ]
  },
  {
   "cell_type": "markdown",
   "metadata": {},
   "source": [
    "#### Tạo mảng hai chiều"
   ]
  },
  {
   "cell_type": "code",
   "execution_count": 19,
   "metadata": {},
   "outputs": [
    {
     "name": "stdout",
     "output_type": "stream",
     "text": [
      "[[ 1  2  3]\n",
      " [-3  1  2]]\n",
      "<class 'numpy.ndarray'>\n"
     ]
    }
   ],
   "source": [
    "# Tạo mảng hai chiều/ma trận các số nguyên\n",
    "my_matrix = np.array([[1, 2, 3], [-3, 1 ,2]], dtype=np.int64)\n",
    "print(my_matrix)\n",
    "\n",
    "print(type(my_matrix))"
   ]
  },
  {
   "cell_type": "markdown",
   "metadata": {},
   "source": [
    "#### Truy cập đến các phần tử trong ma trận"
   ]
  },
  {
   "cell_type": "markdown",
   "metadata": {},
   "source": [
    "Vị trí của một phần tử bên trong ma trận được xác định bởi vị trí hàng và cột. Khi biến được phần tử đó đang nằm ở hàng nào, cột nào, ta có thể truy cập."
   ]
  },
  {
   "cell_type": "code",
   "execution_count": 20,
   "metadata": {},
   "outputs": [
    {
     "name": "stdout",
     "output_type": "stream",
     "text": [
      "[[ 1 -1  3]\n",
      " [ 0  1  2]\n",
      " [ 0  0  9]]\n",
      "Giá trị của phần tử tại vị trí [21] là  0\n"
     ]
    }
   ],
   "source": [
    "my_array = np.array([[1, -1, 3], [0, 1, 2], [0, 0, 9]])\n",
    "\n",
    "print(my_array)\n",
    "row = 2\n",
    "col = 1\n",
    "print(f\"Giá trị của phần tử tại vị trí [{row}{col}] là \", my_array[row, col])"
   ]
  },
  {
   "cell_type": "code",
   "execution_count": 21,
   "metadata": {
    "scrolled": true
   },
   "outputs": [
    {
     "name": "stdout",
     "output_type": "stream",
     "text": [
      "[[ 1 -1  3]\n",
      " [ 0  1  2]\n",
      " [ 0  0  9]]\n",
      "[ 1 -1  3]\n",
      "[3 2 9]\n",
      "[[ 1 -1  3]\n",
      " [ 0  1  2]]\n"
     ]
    }
   ],
   "source": [
    "my_array = np.array([[1, -1, 3], [0, 1, 2], [0, 0, 9]])\n",
    "print(my_array)\n",
    "\n",
    "# Truy cập đến các phần tử nằm bên trong hàng thứ 1 của ma trận\n",
    "print(my_array[0,:])\n",
    "\n",
    "# Truy cập đến các phần tử nằm bên trong cột thứ 2 của ma trận\n",
    "print(my_array[:,2])\n",
    "\n",
    "# Một cách truy cập khác\n",
    "print(my_array[0:2, 0:3])"
   ]
  },
  {
   "cell_type": "markdown",
   "metadata": {},
   "source": [
    "#### Đường chéo chính"
   ]
  },
  {
   "cell_type": "code",
   "execution_count": 22,
   "metadata": {},
   "outputs": [
    {
     "name": "stdout",
     "output_type": "stream",
     "text": [
      "[[ 1  2  3  4  5]\n",
      " [ 6  7  8  9 10]\n",
      " [11 12 13 14 15]\n",
      " [16 17 18 19 20]]\n",
      "Đường chéo chính của ma trận trên là:  [ 1  7 13 19]\n"
     ]
    }
   ],
   "source": [
    "# Định ngĩa của một ma trận là tập hợp có thứ tự các phần tử trong ma trận mà phần tử đó có chỉ số hàng bằng chỉ số cột.\n",
    "\n",
    "my_matrix = np.arange(1, 21)\n",
    "# Tạo ma trận có kích thước (4, 5)\n",
    "my_matrix = my_matrix.reshape(4,5)\n",
    "\n",
    "print(my_matrix)\n",
    "\n",
    "# Tìm các phần tử trên đường chéo chính.\n",
    "print(f\"Đường chéo chính của ma trận trên là: \", (my_matrix.diagonal()))"
   ]
  },
  {
   "cell_type": "markdown",
   "metadata": {},
   "source": [
    "#### Các dạng ma trận đặc biệt"
   ]
  },
  {
   "cell_type": "markdown",
   "metadata": {},
   "source": [
    "**Định nghĩa**:\n",
    "\n",
    "- *Ma trận không* là ma trận toàn là phần tử 0.\n",
    "\n",
    "- *Ma trận đơn vị(intensity matrix)* là ma trận có tất cả các phần tử nằm trên đường chéo chính là 1, các phần tử nằm ngoài đường chéo chính là 0.\n",
    "\n",
    "- *Ma trận đường chéo (diagonal matrix)* là ma trận mà tất cả các phần tử nằm ngoài đường chéo chính có giá trị là 0. Ma trận đơn vị là ma trận đường chéo."
   ]
  },
  {
   "cell_type": "code",
   "execution_count": 23,
   "metadata": {},
   "outputs": [
    {
     "name": "stdout",
     "output_type": "stream",
     "text": [
      "Ma trận không vừa tạo: \n",
      " [[0. 0. 0.]\n",
      " [0. 0. 0.]]\n",
      "Ma trận đơn vị vừa tạo: \n",
      " [[1. 0. 0. 0.]\n",
      " [0. 1. 0. 0.]\n",
      " [0. 0. 1. 0.]\n",
      " [0. 0. 0. 1.]]\n",
      "Ma trận đường chéo được xây dựng từ [1, 3, 4]\n",
      " [[1 0 0]\n",
      " [0 3 0]\n",
      " [0 0 4]]\n"
     ]
    }
   ],
   "source": [
    "# Ma trận không có kích thước (2, 3)\n",
    "z_matrix = np.zeros((2, 3))\n",
    "\n",
    "print(\"Ma trận không vừa tạo: \\n\", \n",
    "      z_matrix)\n",
    "\n",
    "# Tạo ma trận đơn vị cấp 4\n",
    "i_matrix = np.eye(4)\n",
    "print(\"Ma trận đơn vị vừa tạo: \\n\", \n",
    "      i_matrix)\n",
    "\n",
    "# Tạo ma trận đường chéo có các phần tử nằm trên đường chéo chính là (1, 3, 4)\n",
    "my_list = [1, 3, 4]\n",
    "d_matrix = np.diag(my_list)\n",
    "print(f\"Ma trận đường chéo được xây dựng từ {my_list}\\n\",\n",
    "      d_matrix)"
   ]
  },
  {
   "cell_type": "markdown",
   "metadata": {},
   "source": [
    "#### Cộng hai ma trận"
   ]
  },
  {
   "cell_type": "code",
   "execution_count": 24,
   "metadata": {},
   "outputs": [
    {
     "name": "stdout",
     "output_type": "stream",
     "text": [
      "Ma trận a:\n",
      " [[ 1  2  3  4]\n",
      " [ 0  1  2  3]\n",
      " [-1 -1  0 -1]]\n",
      "Ma trận b:\n",
      " [[ 0 -2  1  0]\n",
      " [ 0  1 -2  4]\n",
      " [ 1  9  0 -2]]\n",
      "Tổng của hai ma trận: \n",
      " [[ 1  0  4  4]\n",
      " [ 0  2  0  7]\n",
      " [ 0  8  0 -3]]\n"
     ]
    }
   ],
   "source": [
    "a = np.array([[1, 2 , 3 , 4], [0, 1, 2 ,3], [-1, -1, 0, -1]])\n",
    "b = np.array([[0, -2, 1, 0], [0, 1, -2 ,4], [1, 9, 0, -2]])\n",
    "\n",
    "print(\"Ma trận a:\\n\", a)\n",
    "print(\"Ma trận b:\\n\", b)\n",
    "\n",
    "# Lưu ý: phép cộng hai ma trận có nghĩa khi và chỉ khi hai ma trận có cùng kích thức: a.shape = b.shape\n",
    "c = np.add(a, b)\n",
    "print(\"Tổng của hai ma trận: \\n\", c)"
   ]
  },
  {
   "cell_type": "markdown",
   "metadata": {},
   "source": [
    "#### Nhân hai ma trận"
   ]
  },
  {
   "cell_type": "code",
   "execution_count": 25,
   "metadata": {},
   "outputs": [
    {
     "name": "stdout",
     "output_type": "stream",
     "text": [
      "Ma trận a:\n",
      " [[ 1  2  4]\n",
      " [ 0  2  3]\n",
      " [-1  0 -1]]\n",
      "Ma trận b:\n",
      " [[ 0 -2  1]\n",
      " [ 0  1 -2]\n",
      " [ 1  0 -2]]\n",
      "Tích của hai ma trận: \n",
      " [[  4   0 -11]\n",
      " [  3   2 -10]\n",
      " [ -1   2   1]]\n"
     ]
    }
   ],
   "source": [
    "a = np.array([[1, 2, 4], [0, 2 ,3], [-1, 0, -1]])\n",
    "b = np.array([[0, -2, 1], [0, 1, -2], [1, 0, -2]])\n",
    "\n",
    "print(\"Ma trận a:\\n\", a)\n",
    "print(\"Ma trận b:\\n\", b)\n",
    "\n",
    "# Lưu ý: phép cộng hai ma trận có nghĩa khi và chỉ khi hai ma trận có cùng kích thức: a.shape = b.shape\n",
    "c = np.dot(a, b)\n",
    "# Hoặc là c = a * b\n",
    "print(\"Tích của hai ma trận: \\n\", c)"
   ]
  },
  {
   "cell_type": "markdown",
   "metadata": {},
   "source": [
    "#### Ma trận chuyển vị"
   ]
  },
  {
   "cell_type": "code",
   "execution_count": 37,
   "metadata": {},
   "outputs": [
    {
     "name": "stdout",
     "output_type": "stream",
     "text": [
      "Ma trận ban đầu \n",
      " [[ 1  2  3]\n",
      " [-1 -2 10]]\n",
      "Ma trận chuyển vị của ma trận trên là \n",
      " [[ 1 -1]\n",
      " [ 2 -2]\n",
      " [ 3 10]]\n"
     ]
    }
   ],
   "source": [
    "# Ma trận chuyển vị của ma trận A có kích thước mxn là ma trận B có kích thước nxm,\n",
    "# trong đó các phần tử b_ij = a_ji\n",
    "\n",
    "A = np.array([[1, 2, 3], [-1, -2, 10]])\n",
    "print(\"Ma trận ban đầu \\n\", A)\n",
    "\n",
    "C = A.T\n",
    "print(f\"Ma trận chuyển vị của ma trận trên là \\n\", C)"
   ]
  },
  {
   "cell_type": "markdown",
   "metadata": {},
   "source": [
    "#### Ma trận nghịch đảo"
   ]
  },
  {
   "cell_type": "code",
   "execution_count": 27,
   "metadata": {
    "scrolled": true
   },
   "outputs": [
    {
     "name": "stdout",
     "output_type": "stream",
     "text": [
      "[[ 1.  2.  2.]\n",
      " [-1.  2.  1.]\n",
      " [ 1.  1. 10.]]\n",
      "Ma trận nghịch đảo của ma trận A là: \n",
      " [[ 0.54285717 -0.51428574 -0.05714286]\n",
      " [ 0.31428573  0.22857143 -0.08571429]\n",
      " [-0.08571429  0.02857143  0.11428571]]\n",
      "Tích hai ma trận A và B \n",
      " [[ 1.0000001e+00 -2.6077032e-08  0.0000000e+00]\n",
      " [-7.4505806e-09  1.0000001e+00 -7.4505806e-09]\n",
      " [ 4.4703484e-08 -4.0978193e-08  1.0000000e+00]]\n"
     ]
    }
   ],
   "source": [
    "# Định nghĩa: ma trận vuông A có kích thước nxn khả nghịch khi và chỉ khi \n",
    "# tồn tại ma trận vuông B có kích thước nxn sao cho: AB = BA = I, I là ma trận đơn vị.\n",
    "\n",
    "# Khi đó B được gọi là ma trận nghịch đảo của ma trận A,  A là ma trận nghịch đảo của ma trận B. \n",
    "\n",
    "A = np.array([[1, 2, 2], [-1, 2, 1], [1, 1, 10]], dtype=np.float32)\n",
    "B = np.linalg.inv(A)\n",
    "\n",
    "print(A)\n",
    "print(\"Ma trận nghịch đảo của ma trận A là: \\n\", B)\n",
    "\n",
    "print(\"Tích hai ma trận A và B \\n\", np.dot(A, B))"
   ]
  },
  {
   "cell_type": "markdown",
   "metadata": {},
   "source": [
    "#### Hàm thống kê `sum()`"
   ]
  },
  {
   "cell_type": "code",
   "execution_count": 28,
   "metadata": {},
   "outputs": [
    {
     "name": "stdout",
     "output_type": "stream",
     "text": [
      "Ma trận: \n",
      " [[ 1  2 10]\n",
      " [-1 10 -1]\n",
      " [ 0 -1 10]]\n",
      "Tổng các phần tử trong ma trận: 30\n",
      "Tổng các phần tử tính theo từng cột là: [ 0 11 19]\n",
      "Tổng các phần tử tính theo từng hàng là: [13  8  9]\n",
      "Tổng các phần tử nằm trên cột 1 là  11\n",
      "Tổng các phần tử nằm trên hàng 2 là 9\n"
     ]
    }
   ],
   "source": [
    "my_matrix = np.array([[1, 2, 10], [-1, 10, -1], [0, -1, 10]])\n",
    "print(\"Ma trận: \\n\", my_matrix)\n",
    "\n",
    "# Tổng các phần tử trong ma trận\n",
    "sum_matrix = my_matrix.sum()\n",
    "print(\"Tổng các phần tử trong ma trận:\", sum_matrix)\n",
    "\n",
    "# Tổng các phần tử tính theo cột\n",
    "csum_matrix = my_matrix.sum(axis=0)\n",
    "print(\"Tổng các phần tử tính theo từng cột là:\", csum_matrix)\n",
    "\n",
    "# Tổng các phần tử tính theo hàng\n",
    "rsum_matrix = my_matrix.sum(axis=1)\n",
    "print(\"Tổng các phần tử tính theo từng hàng là:\", rsum_matrix)\n",
    "\n",
    "# Tổng các phần tử nằm trên cột X\n",
    "X = 1\n",
    "xsum_matrix = my_matrix[:,X].sum()\n",
    "print(f\"Tổng các phần tử nằm trên cột {X} là \", xsum_matrix)\n",
    "\n",
    "# Tổng các phần tử nằm trên hàng Y\n",
    "Y = 2\n",
    "ysum_matrix = my_matrix[Y,:].sum()\n",
    "print(f\"Tổng các phần tử nằm trên hàng {Y} là\", ysum_matrix)"
   ]
  },
  {
   "cell_type": "markdown",
   "metadata": {},
   "source": [
    "#### Hàm thống kê `min()`"
   ]
  },
  {
   "cell_type": "code",
   "execution_count": 29,
   "metadata": {},
   "outputs": [
    {
     "name": "stdout",
     "output_type": "stream",
     "text": [
      "Ma trận: \n",
      " [[ 1  2 10]\n",
      " [-1 10 -1]\n",
      " [ 0 -1 10]]\n",
      "Giá trị nhỏ nhất của phần tử trong ma trận: -1\n",
      "Giá trị nhỏ nhất tính theo từng cột trong ma trận: [-1 -1 -1]\n",
      "Giá trị nhỏ nhất tính theo từng hàng trong ma trận: [ 1 -1 -1]\n",
      "Giá trị nhỏ nhất của các phần tử nằm ở cột 1 là  -1\n",
      "Giá trị nhỏ nhất của các phần tử nằm ở hàng 2 là  -1\n"
     ]
    }
   ],
   "source": [
    "my_matrix = np.array([[1, 2, 10], [-1, 10, -1], [0, -1, 10]])\n",
    "print(\"Ma trận: \\n\", my_matrix)\n",
    "\n",
    "# Giá trị nhỏ nhất trong ma trận\n",
    "min_matrix = my_matrix.min()\n",
    "print(\"Giá trị nhỏ nhất của phần tử trong ma trận:\", min_matrix)\n",
    "\n",
    "# Giá trị nhỏ nhất trong tính theo từng cột của ma trận.\n",
    "cmin_matrix = my_matrix.min(axis=0)\n",
    "print(\"Giá trị nhỏ nhất tính theo từng cột trong ma trận:\", cmin_matrix)\n",
    "\n",
    "# Giá trị nhỏ nhất trong tính theo từng hàng của ma trận.\n",
    "rmin_matrix = my_matrix.min(axis=1)\n",
    "print(\"Giá trị nhỏ nhất tính theo từng hàng trong ma trận:\", rmin_matrix)\n",
    "\n",
    "# Giá trị nhỏ nhất ở cột X\n",
    "X = 1\n",
    "xmin_matrix = my_matrix[:,X].min()\n",
    "print(f\"Giá trị nhỏ nhất của các phần tử nằm ở cột {X} là \", xmin_matrix)\n",
    "\n",
    "# Giá trị nhỏ nhất ở hàng Y.\n",
    "Y = 2\n",
    "ymin_matrix = my_matrix[Y, :].min()\n",
    "print(f\"Giá trị nhỏ nhất của các phần tử nằm ở hàng {Y} là \", ymin_matrix)"
   ]
  },
  {
   "cell_type": "markdown",
   "metadata": {},
   "source": [
    "#### Hàm thống kê `max()`"
   ]
  },
  {
   "cell_type": "code",
   "execution_count": 30,
   "metadata": {
    "scrolled": true
   },
   "outputs": [
    {
     "name": "stdout",
     "output_type": "stream",
     "text": [
      "Ma trận: \n",
      " [[ 1  2 10]\n",
      " [-1 10 -1]\n",
      " [ 0 -1 10]]\n",
      "Giá trị lớn nhất của phần tử trong ma trận: -1\n",
      "Giá trị lớn nhất tính theo từng cột trong ma trận: [ 1 10 10]\n",
      "Giá trị lớn nhất tính theo từng hàng trong ma trận: [10 10 10]\n",
      "Giá trị lớn nhất của các phần tử nằm ở cột 1 là  10\n",
      "Giá trị lớn nhất của các phần tử nằm ở hàng 2 là  10\n"
     ]
    }
   ],
   "source": [
    "my_matrix = np.array([[1, 2, 10], [-1, 10, -1], [0, -1, 10]])\n",
    "print(\"Ma trận: \\n\", my_matrix)\n",
    "\n",
    "# Giá trị lớn nhất trong ma trận\n",
    "max_matrix = my_matrix.max()\n",
    "print(\"Giá trị lớn nhất của phần tử trong ma trận:\", min_matrix)\n",
    "\n",
    "# Giá trị lớn nhất trong tính theo từng cột của ma trận.\n",
    "cmax_matrix = my_matrix.max(axis=0)\n",
    "print(\"Giá trị lớn nhất tính theo từng cột trong ma trận:\", cmax_matrix)\n",
    "\n",
    "# Giá trị lớn nhất trong tính theo từng hàng của ma trận.\n",
    "rmax_matrix = my_matrix.max(axis=1)\n",
    "print(\"Giá trị lớn nhất tính theo từng hàng trong ma trận:\", rmax_matrix)\n",
    "\n",
    "# Giá trị lớn nhất ở cột X\n",
    "X = 1\n",
    "xmax_matrix = my_matrix[:,X].max()\n",
    "print(f\"Giá trị lớn nhất của các phần tử nằm ở cột {X} là \", xmax_matrix)\n",
    "\n",
    "# Giá trị lớn nhất ở hàng Y.\n",
    "Y = 2\n",
    "ymax_matrix = my_matrix[Y, :].max()\n",
    "print(f\"Giá trị lớn nhất của các phần tử nằm ở hàng {Y} là \", ymax_matrix)"
   ]
  },
  {
   "cell_type": "markdown",
   "metadata": {},
   "source": [
    "#### Hàm thống kê `mean()`"
   ]
  },
  {
   "cell_type": "code",
   "execution_count": 31,
   "metadata": {},
   "outputs": [
    {
     "name": "stdout",
     "output_type": "stream",
     "text": [
      "Ma trận: \n",
      " [[ 1  2 10]\n",
      " [-1 10 -1]\n",
      " [ 0 -1 10]]\n",
      "Giá trị trung bình của phần tử trong ma trận: 3.3333333333333335\n",
      "Giá trị trung bình tính theo từng cột là: [0.         3.66666667 6.33333333]\n",
      "Giá trị trung bình tính theo từng hàng là: [4.33333333 2.66666667 3.        ]\n",
      "Giá trị trung bình của các phần tử nằm ở cột 1 là  3.6666666666666665\n",
      "Giá trị trung bình của các phần tử nằm ở hàng 1 là  3.0\n"
     ]
    }
   ],
   "source": [
    "my_matrix = np.array([[1, 2, 10], [-1, 10, -1], [0, -1, 10]])\n",
    "print(\"Ma trận: \\n\", my_matrix)\n",
    "\n",
    "# Giá trị trung bình các phần tử trong ma trận\n",
    "mean_matrix = my_matrix.mean()\n",
    "print(\"Giá trị trung bình của phần tử trong ma trận:\", mean_matrix)\n",
    "\n",
    "# Giá trị trung bình các phần tử theo từng cột\n",
    "cmean_matrix = my_matrix.mean(axis=0)\n",
    "print(\"Giá trị trung bình tính theo từng cột là:\", cmean_matrix)\n",
    "\n",
    "# Giá trị trung bình các phần tử theo từng hàng\n",
    "rmean_matrix = my_matrix.mean(axis=1)\n",
    "print(\"Giá trị trung bình tính theo từng hàng là:\", rmean_matrix)\n",
    "\n",
    "# Giá trị trung bình của các phần tử nằm ở cột X\n",
    "X = 1\n",
    "xmean_matrix = my_matrix[:,X].mean()\n",
    "print(f\"Giá trị trung bình của các phần tử nằm ở cột {X} là \", xmean_matrix)\n",
    "\n",
    "# Giá trị trung bình của các phần tử nằm ở cột X\n",
    "Y = 2\n",
    "ymean_matrix = my_matrix[Y, :].mean()\n",
    "print(f\"Giá trị trung bình của các phần tử nằm ở hàng {X} là \", ymean_matrix)"
   ]
  },
  {
   "cell_type": "markdown",
   "metadata": {},
   "source": [
    "#### Hàm thống kê `var()`\n",
    "\n",
    "Variant(tiếng việt: phương sai) được tính bằng tổng bình phương các độ lệch trung tâm."
   ]
  },
  {
   "cell_type": "code",
   "execution_count": 32,
   "metadata": {},
   "outputs": [
    {
     "name": "stdout",
     "output_type": "stream",
     "text": [
      "Ma trận: \n",
      " [[1 2 3]\n",
      " [4 5 6]]\n",
      "Phương sai của các phần tử trong ma trận: 2.9166666666666665\n"
     ]
    }
   ],
   "source": [
    "my_matrix = np.arange(1, 7).reshape(2, 3)\n",
    "print(\"Ma trận: \\n\", my_matrix)\n",
    "# var() tính giá trị phương sai của các phần tử trong ma trận\n",
    "variant_matrix = my_matrix.var()\n",
    "print(\"Phương sai của các phần tử trong ma trận:\", variant_matrix)"
   ]
  },
  {
   "cell_type": "markdown",
   "metadata": {},
   "source": [
    "#### Hàm thống kê `std()`\n",
    "\n",
    "Standart deviation(tiếng việt: Độ lệch chuẩn) được tính bằng căn bậc hai của `variant`. Độ lệch chuẩn thể hiện độ lệch trugn bình của toàn bộ dữ liệu, hay chính xác đó là sự phân tán của dữ liệu."
   ]
  },
  {
   "cell_type": "code",
   "execution_count": 33,
   "metadata": {},
   "outputs": [
    {
     "name": "stdout",
     "output_type": "stream",
     "text": [
      "Ma trận: \n",
      " [[1 2 3]\n",
      " [4 5 6]]\n",
      "Độ lệch chuẩn của các phần tử trong ma trận: 1.707825127659933\n"
     ]
    }
   ],
   "source": [
    "my_matrix = np.arange(1, 7).reshape(2, 3)\n",
    "print(\"Ma trận: \\n\", my_matrix)\n",
    "# var() tính giá trị phương sai của các phần tử trong ma trận\n",
    "variant_matrix = my_matrix.std()\n",
    "print(\"Độ lệch chuẩn của các phần tử trong ma trận:\", variant_matrix)"
   ]
  },
  {
   "cell_type": "markdown",
   "metadata": {},
   "source": [
    "#### Hàm thống kê `correlate()\n",
    "\n",
    "Correlate() là một ma trận thể hiện tương quan giữa các biến."
   ]
  },
  {
   "cell_type": "code",
   "execution_count": null,
   "metadata": {},
   "outputs": [],
   "source": []
  },
  {
   "cell_type": "markdown",
   "metadata": {},
   "source": [
    "#### Hàm thống kê `corrcoef()`"
   ]
  },
  {
   "cell_type": "code",
   "execution_count": 34,
   "metadata": {},
   "outputs": [
    {
     "name": "stdout",
     "output_type": "stream",
     "text": [
      "Ma trận: \n",
      " [[ 1  2  3]\n",
      " [-1 -1 10]\n",
      " [ 0  9  6]]\n",
      "Hệ số tương quan của ma trận: \n",
      " [[1.         0.8660254  0.65465367]\n",
      " [0.8660254  1.         0.18898224]\n",
      " [0.65465367 0.18898224 1.        ]]\n"
     ]
    }
   ],
   "source": [
    "my_matrix = np.array([[1, 2, 3], [-1, -1, 10], [0, 9, 6]])\n",
    "print(\"Ma trận: \\n\", my_matrix)\n",
    "\n",
    "# corrcoef() tính giá trị phương sai của các phần tử trong ma trận\n",
    "corre = np.corrcoef(my_matrix)\n",
    "print(\"Hệ số tương quan của ma trận: \\n\", corre)"
   ]
  },
  {
   "cell_type": "markdown",
   "metadata": {},
   "source": [
    "Đọc thêm: [Thống kê trong Numpy](https://docs.scipy.org/doc/numpy-1.17.0/reference/routines.statistics.html)"
   ]
  },
  {
   "cell_type": "markdown",
   "metadata": {},
   "source": [
    "#### Visualize mảng hai chiều"
   ]
  },
  {
   "cell_type": "code",
   "execution_count": 35,
   "metadata": {},
   "outputs": [],
   "source": [
    "# Bổ xung sau    "
   ]
  },
  {
   "cell_type": "markdown",
   "metadata": {},
   "source": [
    "### Mảng nhiều chiều"
   ]
  },
  {
   "cell_type": "markdown",
   "metadata": {},
   "source": [
    "#### Khai báo mảng nhiều chiều"
   ]
  },
  {
   "cell_type": "markdown",
   "metadata": {},
   "source": [
    "Chúng ta có thể tạo ra các đối tượng mảng nhiều chiều, 3 chiều, 4 chiều, ..., n chiều.\n",
    "\n",
    "Ví dụ, ta muốn tạo một mảng 3 chiều hay nói chính xác hơn là một volume, thì ta sẽ tạo một ma trận với mỗi phần tử trong ma trận là một mảng một chiều có độ dài như nhau."
   ]
  },
  {
   "cell_type": "code",
   "execution_count": 53,
   "metadata": {},
   "outputs": [
    {
     "name": "stdout",
     "output_type": "stream",
     "text": [
      "[[[ 0  1  2  3]\n",
      "  [ 4  5  6  7]]\n",
      "\n",
      " [[ 8  9 10 11]\n",
      "  [12 13 14 15]]\n",
      "\n",
      " [[16 17 18 19]\n",
      "  [20 21 22 23]]]\n"
     ]
    }
   ],
   "source": [
    "my_array = range(0, 24)\n",
    "\n",
    "my_array = np.array(my_array).reshape(3, 2, 4)\n",
    "print(my_array)"
   ]
  },
  {
   "cell_type": "markdown",
   "metadata": {},
   "source": [
    "#### shape và `reshape()`"
   ]
  },
  {
   "cell_type": "markdown",
   "metadata": {},
   "source": [
    "Chắc hẵn bạn đang thắc mắc shape là gì và reshape là gì khi được dùng ở bên trên mà không nói chi tiết. Sau đây là ý nghĩa của thuộc tính `shape` và phương phức `reshape()`.\n",
    "\n",
    "**Mỗi đối tượng thuộc lớp đối tượng `numpy.ndarrray` đều có thuộc tính `shape`, xác định các kích thước của đối tượng.**\n",
    "\n",
    "**Bên cạnh đó, ta có thể thay đổi được giá trị của thuộc tính `shape` bằng phương thức `reshape()`, mục đích của reshape() là thay đổi hình dáng, kích thước của mảng nhiều chiều.**"
   ]
  },
  {
   "cell_type": "code",
   "execution_count": 62,
   "metadata": {},
   "outputs": [
    {
     "name": "stdout",
     "output_type": "stream",
     "text": [
      "[ 0  1  2  3  4  5  6  7  8  9 10 11]\n",
      "Số chiều ban đầu của mảng:  1\n",
      "[[ 0  1  2  3]\n",
      " [ 4  5  6  7]\n",
      " [ 8  9 10 11]]\n",
      "Số chiều của mảng sau khi áp dụng hàm reshape() :  2\n"
     ]
    }
   ],
   "source": [
    "array = list(range(0,12))\n",
    "\n",
    "# Tạo một đối tượng mảng hai chiều \n",
    "array = np.array(array)\n",
    "print(array)\n",
    "print(\"Số chiều ban đầu của mảng: \", array.ndim)\n",
    "\n",
    "# Thay đổi hình dạng của mảng từ 1 chiều sang 2 chiều: ma trận 3x4\n",
    "array = array.reshape(3, 4)\n",
    "print(array)\n",
    "print(\"Số chiều của mảng sau khi áp dụng hàm reshape() : \", array.ndim)"
   ]
  },
  {
   "cell_type": "markdown",
   "metadata": {},
   "source": [
    "#### Visualize mảng nhiều chiều"
   ]
  },
  {
   "cell_type": "markdown",
   "metadata": {},
   "source": []
  },
  {
   "cell_type": "markdown",
   "metadata": {},
   "source": [
    "### Radom trong Numpy"
   ]
  },
  {
   "cell_type": "markdown",
   "metadata": {},
   "source": [
    "## 4. Áp dụng"
   ]
  },
  {
   "cell_type": "markdown",
   "metadata": {},
   "source": []
  },
  {
   "cell_type": "markdown",
   "metadata": {},
   "source": []
  },
  {
   "cell_type": "markdown",
   "metadata": {},
   "source": []
  },
  {
   "cell_type": "markdown",
   "metadata": {},
   "source": [
    "## 5. Kết luận"
   ]
  },
  {
   "cell_type": "markdown",
   "metadata": {},
   "source": []
  },
  {
   "cell_type": "markdown",
   "metadata": {},
   "source": [
    "**Tham khảo**\n",
    "\n",
    "[Python NumPy Tutorial – NumPy ndarray & NumPy Array](https://data-flair.training/blogs/python-numpy-tutorial/)\n",
    "\n",
    "[Python Numpy Tutorial](https://www.datacamp.com/community/tutorials/python-numpy-tutorial#visualize)\n",
    "\n",
    "[FundaML 1: Làm việc với mảng một chiều - Machine Learning cơ bản](https://machinelearningcoban.com/2017/10/12/fundaml_vectors/)\n",
    "\n",
    "[FundaML 2: Làm việc với ma trận - Machine Learning cơ bản](https://machinelearningcoban.com/2017/10/20/fundaml_matrices/)\n",
    "\n",
    "[FundaML 3: Làm việc với các mảng ngẫu nhiên - Machine Learning cơ bản](https://machinelearningcoban.com/2017/10/20/fundaml_vectors/)\n",
    "\n",
    "**Cheat Sheet**: [Python For Data Science Cheat Sheet NumPy Basics](https://s3.amazonaws.com/assets.datacamp.com/blog_assets/Numpy_Python_Cheat_Sheet.pdf)"
   ]
  }
 ],
 "metadata": {
  "kernelspec": {
   "display_name": "Python 3",
   "language": "python",
   "name": "python3"
  },
  "language_info": {
   "codemirror_mode": {
    "name": "ipython",
    "version": 3
   },
   "file_extension": ".py",
   "mimetype": "text/x-python",
   "name": "python",
   "nbconvert_exporter": "python",
   "pygments_lexer": "ipython3",
   "version": "3.7.5"
  },
  "latex_envs": {
   "LaTeX_envs_menu_present": true,
   "autoclose": false,
   "autocomplete": true,
   "bibliofile": "biblio.bib",
   "cite_by": "apalike",
   "current_citInitial": 1,
   "eqLabelWithNumbers": true,
   "eqNumInitial": 1,
   "hotkeys": {
    "equation": "Ctrl-E",
    "itemize": "Ctrl-I"
   },
   "labels_anchors": false,
   "latex_user_defs": false,
   "report_style_numbering": false,
   "user_envs_cfg": false
  },
  "toc": {
   "base_numbering": 1,
   "nav_menu": {},
   "number_sections": false,
   "sideBar": true,
   "skip_h1_title": true,
   "title_cell": "Table of Contents",
   "title_sidebar": "Contents",
   "toc_cell": false,
   "toc_position": {
    "height": "calc(100% - 180px)",
    "left": "10px",
    "top": "150px",
    "width": "228px"
   },
   "toc_section_display": true,
   "toc_window_display": true
  }
 },
 "nbformat": 4,
 "nbformat_minor": 2
}
