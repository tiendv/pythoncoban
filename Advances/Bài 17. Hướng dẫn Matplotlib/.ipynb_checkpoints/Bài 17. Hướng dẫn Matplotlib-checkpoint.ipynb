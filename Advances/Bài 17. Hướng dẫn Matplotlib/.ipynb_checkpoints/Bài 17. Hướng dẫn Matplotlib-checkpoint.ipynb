{
 "cells": [
  {
   "cell_type": "markdown",
   "metadata": {},
   "source": [
    "# Bài 17. Hướng dẫn Matplotlib"
   ]
  },
  {
   "cell_type": "markdown",
   "metadata": {},
   "source": [
    "Chém gió"
   ]
  },
  {
   "cell_type": "markdown",
   "metadata": {},
   "source": [
    "## Nội dung\n",
    "1. Matplotlib là gì ?\n",
    "2. Tại sao cần trực quan hóa dữ liệu.\n",
    "3. Sử dụng Maplotlib.\n",
    "4. Một số ví dụ\n",
    "5. Kết luận.\n",
    "6. Luyện tập.\n",
    "---"
   ]
  },
  {
   "cell_type": "markdown",
   "metadata": {},
   "source": [
    "## 1. Matplotlib là gì ?"
   ]
  },
  {
   "cell_type": "markdown",
   "metadata": {},
   "source": [
    "Matplotlib là một thư viện biểu diễn dữ liệu 2 chiều, giúp cho việc quan sát dữ liệu dễ dàng hơn qua các biểu đồ. Matplotlib giống như Matlab trong việc biểu diễn dữ liệu nhưng Matlab không miễn phí, không mang tính thú vị khi lập trình. Vì vậy, matplotlib trong Python được sử dụng vì đây là một thư viện mạnh mẽ, miễn phí và dễ dàng để hiển thị dữ liệu."
   ]
  },
  {
   "cell_type": "markdown",
   "metadata": {},
   "source": [
    "Dưới đây là bản đồ thể hiện toàn bộ các vấn đề của Matplotlib.\n",
    "\n",
    "![Anatomy of Matplotlib](images/bai17/mapmatplot.png)"
   ]
  },
  {
   "cell_type": "markdown",
   "metadata": {},
   "source": [
    "Hai đối tượng mà chúng ta quan tâm chủ yếu đó là Figure và Axe.\n",
    "- Figure là nơi chúng ta bắt đầu làm việc trong quá trình trực quan hóa.\n",
    "- Figure chứa một hoặc nhiều Axe.\n",
    "- Mỗi một Axe được hiểu như một biểu đồ, chứa các đối tượng như titles, sticks, labels,...\n",
    "\n",
    "- **Thường khi trực quan hóa dữ liệu Figure của chúng chỉ có một Axe nên ta xem Axe như là Figure nhưng thực sự Figure có thể chứa nhiều Axe để thể hiện nhiều tính chất, sự thay đổi của các dữ liệu,...**."
   ]
  },
  {
   "cell_type": "markdown",
   "metadata": {},
   "source": [
    "## 2. Tại sao cần trực quan hóa dữ liệu"
   ]
  },
  {
   "cell_type": "markdown",
   "metadata": {},
   "source": [
    "### Định nghĩa trực quan hóa dữ liệu"
   ]
  },
  {
   "cell_type": "markdown",
   "metadata": {},
   "source": [
    "Trực quan hóa dữ liệu là cách thức biểu diễn thông tin và dữ liệu lên trên đồ họa máy tính. Bằng cách sử dụng các yếu tố trực quan như biểu đồ, đồ thị và bản đồ, các công cụ trực quan hóa dữ liệu cho người xem dễ dàng hiểu được các đặc điểm, tính chất của dữ liệu như xu hướng, ngoại lệ và mẫu trong dữ liệu.\n",
    "\n",
    "Trong thế giới của Dữ liệu lớn, các công cụ và công nghệ trực quan hóa dữ liệu là rất cần thiết để phân tích lượng thông tin khổng lồ và đưa ra quyết định dựa trên dữ liệu."
   ]
  },
  {
   "cell_type": "markdown",
   "metadata": {},
   "source": [
    "### Giá trị của dữ liệu dựa vào cách nó được biểu diễn"
   ]
  },
  {
   "cell_type": "markdown",
   "metadata": {},
   "source": [
    "Trực quan hóa dữ liệu là một phần quan trọng của hoạt động kinh doanh khi các tổ chức hiện nay thu thập một lượng dữ liệu khổng lồ. Các cảm biến trên toàn thế giới đang thu thập dữ liệu khí hậu, dữ liệu người dùng thông qua nhấp chuột, dữ liệu xe hơi để dự đoán vô lăng,... Tất cả những dữ liệu này được thu thập giữ những hiểu biết quan trọng cho doanh nghiệp và việc trực quan hóa giúp cho chúng ta có thể hiểu được tính chất của dữ liệu từ đơn giản đến phức tạp.\n",
    "\n",
    "**Data is only as good as it’s presented**."
   ]
  },
  {
   "cell_type": "markdown",
   "metadata": {},
   "source": [
    "### Chúng ta dễ tiếp thu dữ liệu hình ảnh hơn là dữ liệu dạng số học."
   ]
  },
  {
   "cell_type": "markdown",
   "metadata": {},
   "source": [
    "Visualization là cách dễ nhất để phân tích và tiếp thu thông tin. Hình ảnh giúp dễ dàng hiểu được vấn đề phức tạp. Chúng giúp xác định các mẫu, mối quan hệ và các ngoại lệ trong dữ liệu. Nó giúp hiểu các vấn đề kinh doanh tốt hơn và nhanh chóng. Nó giúp xây dựng một câu chuyện hấp dẫn dựa trên hình ảnh. Thông tin chi tiết thu thập được từ hình ảnh giúp trong việc xây dựng chiến lược cho các doanh nghiệp. Nó cũng là tiền thân của nhiều phân tích dữ liệu cấp cao cho Phân tích dữ liệu khám phá (EDA) và Machine Learning (ML).\n",
    "\n",
    "\n",
    "![Dễ tiếp thu hình ảnh](images/bai17/advancdvisual.png)\n",
    "\n",
    "**Human beings are visual creatures. Countless studies show how our brain is wired for the visual, and processes everything faster when it is through the eye.**"
   ]
  },
  {
   "cell_type": "markdown",
   "metadata": {},
   "source": [
    "## 3. Sử dụng Matplotlib"
   ]
  },
  {
   "cell_type": "markdown",
   "metadata": {},
   "source": [
    "### Cài đặt Matplotlib"
   ]
  },
  {
   "cell_type": "markdown",
   "metadata": {},
   "source": [
    "Mở commandline và gõ dòng lệnh sau:\n",
    "\n",
    "```\n",
    "pip install matplotlib\n",
    "```\n",
    "\n",
    "Sau đó, pip sẽ cài đặt thư viện matplolib vào trong môi trường mà chúng ta làm việc. Chúng ta có thể dùng câu lệnh import để đưa sử dụng thư viện."
   ]
  },
  {
   "cell_type": "code",
   "execution_count": 1,
   "metadata": {},
   "outputs": [],
   "source": [
    "import matplotlib.pyplot as plt"
   ]
  },
  {
   "cell_type": "markdown",
   "metadata": {},
   "source": [
    "### Các hàm thông dụng"
   ]
  },
  {
   "cell_type": "markdown",
   "metadata": {},
   "source": []
  },
  {
   "cell_type": "markdown",
   "metadata": {},
   "source": []
  },
  {
   "cell_type": "markdown",
   "metadata": {},
   "source": []
  },
  {
   "cell_type": "markdown",
   "metadata": {},
   "source": []
  },
  {
   "cell_type": "markdown",
   "metadata": {},
   "source": []
  },
  {
   "cell_type": "markdown",
   "metadata": {},
   "source": []
  },
  {
   "cell_type": "markdown",
   "metadata": {},
   "source": [
    "## 5. Kết luận"
   ]
  },
  {
   "cell_type": "code",
   "execution_count": null,
   "metadata": {},
   "outputs": [],
   "source": []
  },
  {
   "cell_type": "code",
   "execution_count": null,
   "metadata": {},
   "outputs": [],
   "source": []
  },
  {
   "cell_type": "markdown",
   "metadata": {},
   "source": [
    "## 6. Luyện tập"
   ]
  },
  {
   "cell_type": "code",
   "execution_count": null,
   "metadata": {},
   "outputs": [],
   "source": []
  }
 ],
 "metadata": {
  "kernelspec": {
   "display_name": "Python 3",
   "language": "python",
   "name": "python3"
  },
  "language_info": {
   "codemirror_mode": {
    "name": "ipython",
    "version": 3
   },
   "file_extension": ".py",
   "mimetype": "text/x-python",
   "name": "python",
   "nbconvert_exporter": "python",
   "pygments_lexer": "ipython3",
   "version": "3.7.5"
  },
  "latex_envs": {
   "LaTeX_envs_menu_present": true,
   "autoclose": false,
   "autocomplete": true,
   "bibliofile": "biblio.bib",
   "cite_by": "apalike",
   "current_citInitial": 1,
   "eqLabelWithNumbers": true,
   "eqNumInitial": 1,
   "hotkeys": {
    "equation": "Ctrl-E",
    "itemize": "Ctrl-I"
   },
   "labels_anchors": false,
   "latex_user_defs": false,
   "report_style_numbering": false,
   "user_envs_cfg": false
  },
  "toc": {
   "base_numbering": 1,
   "nav_menu": {},
   "number_sections": false,
   "sideBar": true,
   "skip_h1_title": true,
   "title_cell": "Table of Contents",
   "title_sidebar": "Contents",
   "toc_cell": false,
   "toc_position": {},
   "toc_section_display": true,
   "toc_window_display": true
  }
 },
 "nbformat": 4,
 "nbformat_minor": 2
}
