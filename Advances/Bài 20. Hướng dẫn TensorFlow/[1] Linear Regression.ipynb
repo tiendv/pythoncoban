{
 "cells": [
  {
   "cell_type": "markdown",
   "metadata": {},
   "source": [
    "## Hồi quy tuyến tính"
   ]
  },
  {
   "cell_type": "markdown",
   "metadata": {},
   "source": [
    "## Nội dung\n",
    "1. Mô hình toán học của hồi quy tuyến tính.\n",
    "2. Xây dựng mô hình hồi quy tuyến tính với TF.\n",
    "-----"
   ]
  },
  {
   "cell_type": "markdown",
   "metadata": {},
   "source": [
    "## 1. Mô hình toán học của hồi quy tuyến tính"
   ]
  },
  {
   "cell_type": "markdown",
   "metadata": {},
   "source": [
    "Linear Regression là thuật toán đơn giản nhất trong các thuật toán cơ bản của Machine Learning. Nó cơ bản vì chúng ta đã bắt gặp nó rất nhiều ở phổ thông. Thường thì khi nghe đến nó thì có vẽ rất lạ nhưng thật sự bạn đã gặp nó nhưng chưa ai nói cho bạn tên của nó là Hồi Quy tuyến tính.\n",
    "\n",
    "Đây là thuật toán thuộc lớp thuật toán Supervised Learning, từ tập dữ liệu ban đầu đã được gán nhãn hãy đi xây dựng một mô hình sau cho với mỗi input đầu vào bất kì thì mô hình cho ra giá trị output gần với giá trị ngoài thực tế nhất."
   ]
  },
  {
   "cell_type": "markdown",
   "metadata": {},
   "source": [
    "### Các vấn đề"
   ]
  },
  {
   "cell_type": "markdown",
   "metadata": {},
   "source": [
    "**Bài toán dân số** là bài toán khá là nóng, mục tiêu của bài toán khi thu thập được thông tin về dân số của từng năm từ thời điểm trở về trước ta mong muốn ước lượng chính xác nhất có thể dân số của thế giới trong các năm tiếp theo ?"
   ]
  },
  {
   "cell_type": "markdown",
   "metadata": {},
   "source": [
    "**Bài toán giá nhà ở** cũng rất thực tế, một căn nhà có các đặt điểm như số tầng, diện tích căn nhà, khoảng cách đến thành phố,... Đương nhiên càng nhiều tầng, càng diện tích lớn, càng gần thành phố thì giá nhà càng lớn. Vì vậy nhiệm vụ của chúng ta là tìm ra mối quan hệ giữa Giá tiền và các đặc trưng Số tầng, Diện tích, Khoảng cách,... Mối quan hệ đó chính là mô hình của thuật toán Linear Regression."
   ]
  },
  {
   "cell_type": "markdown",
   "metadata": {},
   "source": [
    "### Mô hình toán học"
   ]
  },
  {
   "cell_type": "markdown",
   "metadata": {},
   "source": []
  },
  {
   "cell_type": "code",
   "execution_count": null,
   "metadata": {},
   "outputs": [],
   "source": []
  },
  {
   "cell_type": "markdown",
   "metadata": {},
   "source": [
    "## 2. Xây dựng mô hình hồi quy tuyến tính với TF"
   ]
  },
  {
   "cell_type": "markdown",
   "metadata": {},
   "source": [
    "Chúng ta sẽ đưa mô hình toán học ở trên thành các dòng code ! Cool. Chúng ta dùng thư viện tensorflow dựa theo flow làm việc truyền thống của Machine Learning."
   ]
  },
  {
   "cell_type": "markdown",
   "metadata": {},
   "source": [
    "#### Import thư viện cần thiết"
   ]
  },
  {
   "cell_type": "code",
   "execution_count": 1,
   "metadata": {},
   "outputs": [
    {
     "name": "stderr",
     "output_type": "stream",
     "text": [
      "C:\\Users\\PC\\Anaconda3\\envs\\OpenCV_env\\lib\\site-packages\\tensorboard\\compat\\tensorflow_stub\\dtypes.py:541: FutureWarning: Passing (type, 1) or '1type' as a synonym of type is deprecated; in a future version of numpy, it will be understood as (type, (1,)) / '(1,)type'.\n",
      "  _np_qint8 = np.dtype([(\"qint8\", np.int8, 1)])\n",
      "C:\\Users\\PC\\Anaconda3\\envs\\OpenCV_env\\lib\\site-packages\\tensorboard\\compat\\tensorflow_stub\\dtypes.py:542: FutureWarning: Passing (type, 1) or '1type' as a synonym of type is deprecated; in a future version of numpy, it will be understood as (type, (1,)) / '(1,)type'.\n",
      "  _np_quint8 = np.dtype([(\"quint8\", np.uint8, 1)])\n",
      "C:\\Users\\PC\\Anaconda3\\envs\\OpenCV_env\\lib\\site-packages\\tensorboard\\compat\\tensorflow_stub\\dtypes.py:543: FutureWarning: Passing (type, 1) or '1type' as a synonym of type is deprecated; in a future version of numpy, it will be understood as (type, (1,)) / '(1,)type'.\n",
      "  _np_qint16 = np.dtype([(\"qint16\", np.int16, 1)])\n",
      "C:\\Users\\PC\\Anaconda3\\envs\\OpenCV_env\\lib\\site-packages\\tensorboard\\compat\\tensorflow_stub\\dtypes.py:544: FutureWarning: Passing (type, 1) or '1type' as a synonym of type is deprecated; in a future version of numpy, it will be understood as (type, (1,)) / '(1,)type'.\n",
      "  _np_quint16 = np.dtype([(\"quint16\", np.uint16, 1)])\n",
      "C:\\Users\\PC\\Anaconda3\\envs\\OpenCV_env\\lib\\site-packages\\tensorboard\\compat\\tensorflow_stub\\dtypes.py:545: FutureWarning: Passing (type, 1) or '1type' as a synonym of type is deprecated; in a future version of numpy, it will be understood as (type, (1,)) / '(1,)type'.\n",
      "  _np_qint32 = np.dtype([(\"qint32\", np.int32, 1)])\n",
      "C:\\Users\\PC\\Anaconda3\\envs\\OpenCV_env\\lib\\site-packages\\tensorboard\\compat\\tensorflow_stub\\dtypes.py:550: FutureWarning: Passing (type, 1) or '1type' as a synonym of type is deprecated; in a future version of numpy, it will be understood as (type, (1,)) / '(1,)type'.\n",
      "  np_resource = np.dtype([(\"resource\", np.ubyte, 1)])\n"
     ]
    }
   ],
   "source": [
    "from __future__ import print_function\n",
    "\n",
    "import tensorflow as tf\n",
    "import numpy as np\n",
    "import matplotlib.pyplot as plt\n",
    "import numpy.random as rd"
   ]
  },
  {
   "cell_type": "markdown",
   "metadata": {},
   "source": [
    "Giải thích:\n",
    "- Dòng 1: import thư viện tensorflow và đặt tên sử dụng là `tf`,\n",
    "- Dòng 2: import thư viện numpy và đặt tên cho nó là `np`, dùng để lưu trữ dataset.\n",
    "- Dòng 3: import package `pyplot` và đặt tên cho nó là `plt`, dùng để trực quan hóa dữ liệu.\n",
    "- Dòng 4: import package `random` và đặt tên cho nó là `rd`, dùng để sinh dữ liệu nhiễu ngẫu nhiên trong ví dụ này."
   ]
  },
  {
   "cell_type": "markdown",
   "metadata": {},
   "source": [
    "#### Chuẩn bị dataset"
   ]
  },
  {
   "cell_type": "code",
   "execution_count": 2,
   "metadata": {},
   "outputs": [],
   "source": [
    "train_X = np.asarray([3.3, 4.4, 5.5, 6.71, 6.93, 4.168, 9.779, 6.182, 7.59, 2.167,\n",
    "                         7.042, 10.791, 5.313, 7.997, 5.654, 9.27, 3.1])\n",
    "train_Y = np.asarray([1.7, 2.76, 2.09, 3.19, 1.694, 1.573, 3.366, 2.596, 2.53, 1.221,\n",
    "                         2.827, 3.465, 1.65, 2.904, 2.42, 2.94, 1.3])\n",
    "n_samples = train_X.shape[0]"
   ]
  },
  {
   "cell_type": "markdown",
   "metadata": {},
   "source": [
    "Tiếp theo ta đi trực quan hóa dữ liệu trước khi đi xây dựng mô hình."
   ]
  },
  {
   "cell_type": "code",
   "execution_count": 3,
   "metadata": {
    "scrolled": true
   },
   "outputs": [
    {
     "data": {
      "image/png": "[encoded data removed]",
      "text/plain": [
       "<Figure size 648x432 with 1 Axes>"
      ]
     },
     "metadata": {
      "needs_background": "light"
     },
     "output_type": "display_data"
    }
   ],
   "source": [
    "fig, ax = plt.subplots(figsize=(9,6))\n",
    "\n",
    "ax.scatter(train_X, train_Y)\n",
    "ax.set_title('Dataset', fontsize=20)\n",
    "plt.xlabel('X', fontsize=14)\n",
    "plt.ylabel('Y', fontsize=14)\n",
    "\n",
    "plt.xlim(1, 12)\n",
    "plt.ylim(1, 4)\n",
    "\n",
    "plt.show()"
   ]
  },
  {
   "cell_type": "markdown",
   "metadata": {},
   "source": [
    "Cool ! Dường như chúng có hình dáng của một đường thẳng, chúng ta bắt đầu đi xây dựng mô hình, trước hết là thiết lập các tham số cho việc huấn luyện."
   ]
  },
  {
   "cell_type": "markdown",
   "metadata": {},
   "source": [
    "#### Thiết lập các tham số huấn luyện"
   ]
  },
  {
   "cell_type": "code",
   "execution_count": 4,
   "metadata": {},
   "outputs": [],
   "source": [
    "# Parameters\n",
    "learning_rate = 0.01\n",
    "training_epochs = 1000\n",
    "display_step = 50"
   ]
  },
  {
   "cell_type": "markdown",
   "metadata": {},
   "source": [
    "Giải thích:\n",
    "- Dòng 1: chúng ta đặt learning_rate $\\eta$ có giá trị là 0.01, tốc độ học của mô hình thường xuất hiện trong Gradient Descent.\n",
    "- Dòng 2: training_epochs là số lần duyệt qua toàn bộ dữ liệu, tức là với bộ dữ liệu đã được tạo ở trên chúng ta sẽ dùng nó để huấn luyện cho mô hình, và quá trình huấn luyện ta phải duyệt qua toàn bộ dữ liệu nhiều lần, một lần duyệt qua toàn bộ dữ liệu chúng ta gọi là một epoch. Còn nữa, trong mỗi lần duyệt tập dữ liệu, ta lại chọn ra k điểm dữ liệu để huấn luyện. That's so awsome !"
   ]
  },
  {
   "cell_type": "markdown",
   "metadata": {},
   "source": [
    "#### Xây dựng mô hình bằng tensorflow"
   ]
  },
  {
   "cell_type": "code",
   "execution_count": 5,
   "metadata": {},
   "outputs": [
    {
     "name": "stderr",
     "output_type": "stream",
     "text": [
      "WARNING: Logging before flag parsing goes to stderr.\n",
      "W0107 08:37:04.276227 12832 deprecation.py:323] From C:\\Users\\PC\\Anaconda3\\envs\\OpenCV_env\\lib\\site-packages\\tensorflow_core\\python\\ops\\math_grad.py:1375: where (from tensorflow.python.ops.array_ops) is deprecated and will be removed in a future version.\n",
      "Instructions for updating:\n",
      "Use tf.where in 2.0, which has the same broadcast rule as np.where\n"
     ]
    }
   ],
   "source": [
    "# tf Graph Input\n",
    "X = tf.placeholder(\"float\")\n",
    "Y = tf.placeholder(\"float\")\n",
    "\n",
    "# Set model weights - randomize\n",
    "W = tf.Variable(rd.randn(), name=\"weight\")\n",
    "b = tf.Variable(rd.randn(), name=\"bias\")\n",
    "\n",
    "# Construct a linear model\n",
    "pred = tf.add(tf.multiply(X, W), b)\n",
    "\n",
    "# Mean squared error\n",
    "cost = tf.reduce_sum(tf.pow(pred-Y, 2))/(2*n_samples)\n",
    "# Gradient descent\n",
    "optimizer = tf.train.GradientDescentOptimizer(learning_rate).minimize(cost)\n",
    "\n",
    "# Initializing the variables\n",
    "init = tf.global_variables_initializer()"
   ]
  },
  {
   "cell_type": "markdown",
   "metadata": {},
   "source": [
    "#### Tiến hành huấn luyện mô hình và lưu model"
   ]
  },
  {
   "cell_type": "code",
   "execution_count": 31,
   "metadata": {},
   "outputs": [
    {
     "name": "stdout",
     "output_type": "stream",
     "text": [
      "Epoch 50 : cost = 0.0031714123 W = 0.39702615 b = -0.2591529\n",
      "Epoch 100 : cost = 0.0025159155 W = 0.38825762 b = -0.19607279\n",
      "Epoch 150 : cost = 0.001968579 W = 0.38001063 b = -0.13674451\n",
      "Epoch 200 : cost = 0.0015149842 W = 0.37225413 b = -0.08094475\n",
      "Epoch 250 : cost = 0.001142493 W = 0.36495894 b = -0.028463485\n",
      "Epoch 300 : cost = 0.00084004155 W = 0.35809752 b = 0.020896437\n",
      "Epoch 350 : cost = 0.0005979267 W = 0.35164443 b = 0.06732069\n",
      "Epoch 400 : cost = 0.00040768486 W = 0.34557492 b = 0.1109838\n",
      "Epoch 450 : cost = 0.00026189987 W = 0.3398664 b = 0.15205006\n",
      "Epoch 500 : cost = 0.00015409976 W = 0.33449754 b = 0.19067396\n",
      "Epoch 550 : cost = 7.864739e-05 W = 0.3294479 b = 0.22700071\n",
      "Epoch 600 : cost = 3.0623414e-05 W = 0.3246985 b = 0.26116702\n",
      "Epoch 650 : cost = 5.748861e-06 W = 0.32023156 b = 0.2933014\n",
      "Epoch 700 : cost = 3.047426e-07 W = 0.31603044 b = 0.32352448\n",
      "Epoch 750 : cost = 1.1064108e-05 W = 0.31207913 b = 0.35195\n",
      "Epoch 800 : cost = 3.523077e-05 W = 0.30836275 b = 0.37868538\n",
      "Epoch 850 : cost = 7.0385635e-05 W = 0.30486733 b = 0.4038307\n",
      "Epoch 900 : cost = 0.000114441355 W = 0.30158 b = 0.42747992\n",
      "Epoch 950 : cost = 0.00016559921 W = 0.29848814 b = 0.44972256\n",
      "Epoch 1000 : cost = 0.00022231643 W = 0.2955801 b = 0.47064278\n",
      "()\n"
     ]
    }
   ],
   "source": [
    "# Starting the Tensorflow Session \n",
    "with tf.Session() as sess: \n",
    "      \n",
    "    # Initializing the Variables \n",
    "    sess.run(init) \n",
    "      \n",
    "    # Iterating through all the epochs \n",
    "    for epoch in range(training_epochs): \n",
    "          \n",
    "        # Feeding each data point into the optimizer using Feed Dictionary \n",
    "        for (x, y) in zip(train_X, train_Y): \n",
    "            sess.run(optimizer, feed_dict = {X : x, Y : y}) \n",
    "          \n",
    "        # Displaying the result after every 50 epochs \n",
    "        if (epoch + 1) % 50 == 0: \n",
    "            # Calculating the cost a every epoch \n",
    "            c = sess.run(cost, feed_dict = {X : x, Y : y}) \n",
    "            print(\"Epoch\", (epoch + 1), \": cost =\", c, \"W =\", sess.run(W), \"b =\", sess.run(b)) \n",
    "      \n",
    "    # Storing necessary values to be used outside the Session \n",
    "    training_cost = sess.run(cost, feed_dict ={X: x, Y: y}) \n",
    "    weight = sess.run(W)\n",
    "    bias = sess.run(b)\n",
    "    \n",
    "    predictions = sess.run(W) * train_X + sess.run(b)"
   ]
  },
  {
   "cell_type": "markdown",
   "metadata": {},
   "source": [
    "#### Tính lỗi trung bình trên tập dữ liệu huấn luyện"
   ]
  },
  {
   "cell_type": "code",
   "execution_count": 12,
   "metadata": {},
   "outputs": [
    {
     "name": "stdout",
     "output_type": "stream",
     "text": [
      "Training cost = 0.00022231643 Weight = 0.2955801 bias = 0.47064278 \n",
      "\n"
     ]
    }
   ],
   "source": [
    "print(\"Training cost =\", training_cost, \"Weight =\", weight, \"bias =\", bias, '\\n') "
   ]
  },
  {
   "cell_type": "markdown",
   "metadata": {},
   "source": [
    "#### Biểu diễn model lên đồ thị: linear line"
   ]
  },
  {
   "cell_type": "code",
   "execution_count": 13,
   "metadata": {},
   "outputs": [
    {
     "data": {
      "image/png": "[encoded data removed]",
      "text/plain": [
       "<Figure size 432x288 with 1 Axes>"
      ]
     },
     "metadata": {
      "needs_background": "light"
     },
     "output_type": "display_data"
    }
   ],
   "source": [
    "plt.plot(train_X, train_Y, 'ro', label ='Original data') \n",
    "plt.plot(train_X, predictions, label ='Fitted line') \n",
    "plt.title('Linear Regression Result') \n",
    "plt.legend() \n",
    "plt.show() "
   ]
  },
  {
   "cell_type": "markdown",
   "metadata": {},
   "source": [
    "#### Lưu mô hình"
   ]
  },
  {
   "cell_type": "markdown",
   "metadata": {},
   "source": [
    "Do mô hình của chúng là một đường thẳng được xác định bởi các hệ số $b_0, b$ nên ta cũng không cần phải làm các thao tác đặc biệt về mặc lưu mô hình mà chỉ cần lưu trữ hai hệ số này là được. "
   ]
  },
  {
   "cell_type": "code",
   "execution_count": 35,
   "metadata": {},
   "outputs": [
    {
     "name": "stdout",
     "output_type": "stream",
     "text": [
      "[0.2955801  0.47064278]\n"
     ]
    }
   ],
   "source": [
    "mymodel = np.array([weight, bias])\n",
    "print(mymodel)"
   ]
  },
  {
   "cell_type": "markdown",
   "metadata": {},
   "source": [
    "#### Kiểm thử "
   ]
  },
  {
   "cell_type": "code",
   "execution_count": 43,
   "metadata": {},
   "outputs": [
    {
     "name": "stdout",
     "output_type": "stream",
     "text": [
      "The mean arverage lost is  1.1132872893381014\n"
     ]
    }
   ],
   "source": [
    "# Testing example, as requested (Issue #2)\n",
    "test_X = np.array([6.83, 4.668, 8.9, 7.91, 5.7, 8.7, 3.1, 2.1])\n",
    "test_Y = np.array([1.84, 2.273, 3.2, 2.831, 2.92, 3.24, 1.35, 1.03])\n",
    "\n",
    "test_predictions = weight * test_X + bias\n",
    "\n",
    "lost = 0\n",
    "for i in range(0, len(test_X)):\n",
    "    lost = lost + (test_predictions[i] - test_Y[i])**2\n",
    "\n",
    "lost = np.sqrt(lost)\n",
    "print(\"The mean arverage lost is \", lost)"
   ]
  },
  {
   "cell_type": "code",
   "execution_count": null,
   "metadata": {},
   "outputs": [],
   "source": []
  },
  {
   "cell_type": "code",
   "execution_count": null,
   "metadata": {},
   "outputs": [],
   "source": []
  }
 ],
 "metadata": {
  "kernelspec": {
   "display_name": "Python 3",
   "language": "python",
   "name": "python3"
  },
  "language_info": {
   "codemirror_mode": {
    "name": "ipython",
    "version": 3
   },
   "file_extension": ".py",
   "mimetype": "text/x-python",
   "name": "python",
   "nbconvert_exporter": "python",
   "pygments_lexer": "ipython3",
   "version": "3.7.5"
  },
  "latex_envs": {
   "LaTeX_envs_menu_present": true,
   "autoclose": false,
   "autocomplete": true,
   "bibliofile": "biblio.bib",
   "cite_by": "apalike",
   "current_citInitial": 1,
   "eqLabelWithNumbers": true,
   "eqNumInitial": 1,
   "hotkeys": {
    "equation": "Ctrl-E",
    "itemize": "Ctrl-I"
   },
   "labels_anchors": false,
   "latex_user_defs": false,
   "report_style_numbering": false,
   "user_envs_cfg": false
  },
  "toc": {
   "base_numbering": 1,
   "nav_menu": {},
   "number_sections": false,
   "sideBar": true,
   "skip_h1_title": true,
   "title_cell": "Table of Contents",
   "title_sidebar": "Contents",
   "toc_cell": false,
   "toc_position": {
    "height": "calc(100% - 180px)",
    "left": "10px",
    "top": "150px",
    "width": "273.188px"
   },
   "toc_section_display": true,
   "toc_window_display": true
  }
 },
 "nbformat": 4,
 "nbformat_minor": 2
}
