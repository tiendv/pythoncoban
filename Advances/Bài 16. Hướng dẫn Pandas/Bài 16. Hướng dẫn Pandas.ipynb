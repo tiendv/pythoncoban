{
 "cells": [
  {
   "cell_type": "markdown",
   "metadata": {},
   "source": [
    "# Bài 16. Hướng dẫn Pandas"
   ]
  },
  {
   "cell_type": "markdown",
   "metadata": {},
   "source": [
    "Pandas là thư viện mã nguồn mở, dùng cho việc thao tác dữ liệu với hiệu quả cao đồng thời còn cho phép phần tích dữ liệu bằng việc sử dụng các cấu trúc dữ liệu mạnh mẽ. Cái teen `Pandas` xuất phát từ cụm từ `Panel Data` - dữ liệu bảng. Trong thống kê và kinh tế, cụm từ này có nghĩa là các phép đo lên dữ liệu nhiều chiều. \n",
    "\n",
    "Đọc thêm: [What Is Panel Data?](https://www.thoughtco.com/panel-data-definition-in-economic-research-1147034)\n",
    "\n",
    "Vào năm 2008, Wes McKinney bắt đầu phát triển Pandas khi nhu cầu về hiệu suất cao, công cụ linh hoạt cho việc phân tích dữ liệu. \n",
    "\n",
    "Trước khi có Pandas, Python dùng cho việc phân tích dữ liệu nhưng đòi hỏi các chuyên gia để có thể đưa ra quyết định. Khi Pandas ra rời, nó giải quyết được vấn đề hạn chế về nhân lực, chúng ta có thể đạt được năm bước kinh điển trong việc xử lý và phân tích dữ liệu, đó là:\n",
    "```\n",
    "load dữ liệu -> preparision -> manipulation -> model -> analyze\n",
    "```\n",
    "\n",
    "Python với Pandas được dùng hầu hết trong các lĩnh vực thương mại và học thuật gồm có tài chính, kinh tế, Thống kê, phân tích,..\n",
    "\n",
    "Pandas cho phép ta làm việc với các nguồn dữ liệu từ file cvs, file excel thậm chí dữ liệu từ trang web trên mạng."
   ]
  },
  {
   "cell_type": "markdown",
   "metadata": {},
   "source": [
    "## Nội dung\n",
    "1. Tại sao Pandas ?\n",
    "2. \n",
    "\n",
    "---"
   ]
  },
  {
   "cell_type": "markdown",
   "metadata": {},
   "source": [
    "### 1. Tại sao Pandas"
   ]
  },
  {
   "cell_type": "markdown",
   "metadata": {},
   "source": [
    "Pandas is an open source python library that is built on top of NumPy. It allows you do fast analysis as well as data cleaning and preparation. An easy way to think of Pandas is by simply looking at it as Python’s version of Microsoft’s Excel.\n",
    "\n",
    "[Pandas](https://pandas.pydata.org/) là thư viện python mã nguồn mỡ, được xây dựng dựa trên [Numpy](https://numpy.org/), "
   ]
  },
  {
   "cell_type": "code",
   "execution_count": null,
   "metadata": {},
   "outputs": [],
   "source": []
  }
 ],
 "metadata": {
  "kernelspec": {
   "display_name": "Python 3",
   "language": "python",
   "name": "python3"
  },
  "language_info": {
   "codemirror_mode": {
    "name": "ipython",
    "version": 3
   },
   "file_extension": ".py",
   "mimetype": "text/x-python",
   "name": "python",
   "nbconvert_exporter": "python",
   "pygments_lexer": "ipython3",
   "version": "3.7.5"
  },
  "latex_envs": {
   "LaTeX_envs_menu_present": true,
   "autoclose": false,
   "autocomplete": true,
   "bibliofile": "biblio.bib",
   "cite_by": "apalike",
   "current_citInitial": 1,
   "eqLabelWithNumbers": true,
   "eqNumInitial": 1,
   "hotkeys": {
    "equation": "Ctrl-E",
    "itemize": "Ctrl-I"
   },
   "labels_anchors": false,
   "latex_user_defs": false,
   "report_style_numbering": false,
   "user_envs_cfg": false
  },
  "toc": {
   "base_numbering": 1,
   "nav_menu": {},
   "number_sections": false,
   "sideBar": true,
   "skip_h1_title": true,
   "title_cell": "Table of Contents",
   "title_sidebar": "Contents",
   "toc_cell": false,
   "toc_position": {
    "height": "calc(100% - 180px)",
    "left": "10px",
    "top": "150px",
    "width": "165px"
   },
   "toc_section_display": true,
   "toc_window_display": true
  }
 },
 "nbformat": 4,
 "nbformat_minor": 2
}
