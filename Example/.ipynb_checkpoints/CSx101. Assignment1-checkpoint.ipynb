{
 "cells": [
  {
   "cell_type": "markdown",
   "metadata": {
    "colab_type": "text",
    "id": "bszK2CKxtPlv"
   },
   "source": [
    "**Bài Thang đo nhiệt độ KFC**\n",
    "- Với đầu vào là độ F, yêu cầu của đề bài là chuyển sang độ C và K. Chúng ta chỉ cần sử dụng 2 công thức đơn giản là: $c = (f-32)/1.8$ và $k = c + 273.15$\n",
    "- Tuy nhiên, một vấn đề gây khó khăn cho bài này đó là độ chính xác  (**precision**). Lý do chính ở đây là testcase của bài này được generate từ code C++ với kiểu dữ liệu float có khả năng biểu diễn số thực với precision từ 6-9 chữ số (**significant digits**).\n",
    "- Thêm vào đó, câu lệnh xuất của C++ (e.g.: cout) có precision mặc định là 6 chữ số. Tức là, nó giả định rằng toàn bộ biến kiểu số thực chỉ quan trọng đến 6 significant digits và sẽ cắt bỏ toàn bộ chữ số còn lại phía sau.\n",
    "- Trong khi đó, số thực trong Python lại có khả năng biểu diễn với precision cao hơn.\n",
    "- Có thể dùng package decimal để đặt lại precision thành 6 significant digits.\n",
    "- Ở đây, đối với các trường hợp in thừa các số không phía sau (e.g.: 1.23400), ta dùng **normalize()** để bỏ đi các số không thừa này (e.g.: 1.234).\n",
    "- Lệnh **input()** nhập một dòng dữ liệu từ thiết bị nhập chuẩn cho kết quả là xâu ký tự\n",
    "- Lệnh **print(*e*)** xuất dữ liệu từ biểu thức *e* ra thiết bị xuất chuẩn"
   ]
  },
  {
   "cell_type": "code",
   "execution_count": 0,
   "metadata": {
    "colab": {
     "base_uri": "https://localhost:8080/",
     "height": 207
    },
    "colab_type": "code",
    "executionInfo": {
     "elapsed": 806,
     "status": "ok",
     "timestamp": 1573288275599,
     "user": {
      "displayName": "Đình Duy Lê",
      "photoUrl": "https://lh3.googleusercontent.com/a-/AAuE7mAJqPigKbm0ADKZ-Fqr0Yq2wZjzZOoY_V6EEWu0fw=s64",
      "userId": "12450389915184303909"
     },
     "user_tz": -420
    },
    "id": "al1tCDeD99rL",
    "outputId": "90b3a319-64e9-44c1-8106-820044e2cbff"
   },
   "outputs": [
    {
     "name": "stdout",
     "output_type": "stream",
     "text": [
      "False\n",
      "False\n",
      "Float representation:  3.3000000000000003\n",
      "Float representation:  5.551115123125783e-17\n",
      "Context(prec=10, rounding=ROUND_HALF_EVEN, Emin=-999999, Emax=999999, capitals=1, clamp=0, flags=[InvalidOperation, Inexact, FloatOperation, Rounded], traps=[InvalidOperation, DivisionByZero, Overflow])\n",
      "Float val: 0.14285714285714285\n",
      "Decimal object construction: 0.142857142857142849212692681248881854116916656494140625\n",
      "Decimal object normalize: 0.142857142857142849212692681249\n",
      "Decimal object arithmetic operation: 0.142857142857142849212692681249\n",
      "Using decimal evaluation: 0.142857142857142857142857142857\n"
     ]
    }
   ],
   "source": [
    "# làm quen với Decimal \n",
    "from decimal import *\n",
    "\n",
    "# vì sao kết quả trả về là False?\n",
    "print((1.1 + 2.2) == 3.3)\n",
    "print(0.1 + 0.1 + 0.1 - 0.3 == 0)\n",
    "\n",
    "# lí do là biểu diễn số thực liên quan đến số chữ số thập phân\n",
    "print(\"Float representation: \", 1.1 + 2.2)\n",
    "print(\"Float representation: \", 0.1 + 0.1 + 0.1 - 0.3)\n",
    "\n",
    "# in ra context\n",
    "print(getcontext())\n",
    "\n",
    "print(\"Float val:\", float(1/7))\n",
    "\n",
    "# The significance of a new Decimal is determined solely by the number of digits input. \n",
    "# Context precision and rounding only come into play during arithmetic operations.\n",
    "\n",
    "# đặt số chữ số thập phân về 6\n",
    "getcontext().prec = 6\n",
    "\n",
    "# prec không được áp dụng ở đây\n",
    "print(\"Decimal object construction:\", Decimal(float(1/7)))\n",
    "\n",
    "# khi tính toán - prec sẽ được áp dụng\n",
    "print(\"Decimal object normalize:\", Decimal(float(1/7)).normalize())\n",
    "print(\"Decimal object arithmetic operation:\", Decimal(float(1/7))+ Decimal(0))\n",
    "print(\"Using decimal evaluation:\", Decimal(1) / Decimal(7))\n",
    "\n",
    "# hãy thử lại đoạn code trên với giá trị prec lớn, ví dụ 30\n",
    "# để thấy dùng Decimal trước hay sau sẽ có kết quả khác nhau\n",
    "#getcontext().prec = 30\n"
   ]
  },
  {
   "cell_type": "code",
   "execution_count": 0,
   "metadata": {
    "colab": {},
    "colab_type": "code",
    "id": "BfJM67S6tET-"
   },
   "outputs": [],
   "source": [
    "from decimal import *\n",
    "\n",
    "getcontext().prec = 6\n",
    "f = Decimal(input())\n",
    "c = (f - Decimal(32)) / Decimal(1.8)\n",
    "k = Decimal(c) + Decimal(273.15)\n",
    "\n",
    "print(c.normalize(), k.normalize())"
   ]
  },
  {
   "cell_type": "code",
   "execution_count": 0,
   "metadata": {
    "colab": {
     "base_uri": "https://localhost:8080/",
     "height": 51
    },
    "colab_type": "code",
    "executionInfo": {
     "elapsed": 9230,
     "status": "ok",
     "timestamp": 1573286499375,
     "user": {
      "displayName": "Đình Duy Lê",
      "photoUrl": "https://lh3.googleusercontent.com/a-/AAuE7mAJqPigKbm0ADKZ-Fqr0Yq2wZjzZOoY_V6EEWu0fw=s64",
      "userId": "12450389915184303909"
     },
     "user_tz": -420
    },
    "id": "vDquNWvTHJuo",
    "outputId": "a28c85c6-4ca1-4995-c4b1-66cc4fe99f4f"
   },
   "outputs": [
    {
     "name": "stdout",
     "output_type": "stream",
     "text": [
      "658.400000001\n",
      "348 621.15\n"
     ]
    }
   ],
   "source": [
    "from decimal import *\n",
    "\n",
    "f = float(input())\n",
    "c = (f - 32) /1.8\n",
    "k = c + 273.15\n",
    "\n",
    "getcontext().prec = 6\n",
    "\n",
    "print(Decimal(c).normalize(), Decimal(k).normalize())"
   ]
  },
  {
   "cell_type": "markdown",
   "metadata": {
    "colab_type": "text",
    "id": "cmpI-1KalASP"
   },
   "source": [
    "**Bài Độ đo áp suất SI/PSI**\n",
    "- Sử dụng phép toán $pound * (0.453592 / 2.54^2)$ để đổi từ đơn vị $pound/inch^2$ sang đơn vị $kg/cm^2$\n",
    "- Việc xử lý precision sẽ tượng tự câu trên"
   ]
  },
  {
   "cell_type": "code",
   "execution_count": 0,
   "metadata": {
    "colab": {
     "base_uri": "https://localhost:8080/",
     "height": 52
    },
    "colab_type": "code",
    "executionInfo": {
     "elapsed": 212917,
     "status": "ok",
     "timestamp": 1573289254088,
     "user": {
      "displayName": "An Phạm Nguyễn Trường",
      "photoUrl": "",
      "userId": "02420839282458544611"
     },
     "user_tz": -420
    },
    "id": "Er7K3_zytLyP",
    "outputId": "d1466397-ae61-446c-f44e-4823f6649d9c"
   },
   "outputs": [
    {
     "name": "stdout",
     "output_type": "stream",
     "text": [
      "15\n",
      "1.05460\n"
     ]
    }
   ],
   "source": [
    "from decimal import *\n",
    "\n",
    "psi = float(input())\n",
    "\n",
    "kgscm = (psi*0.453592) / (2.54 * 2.54)\n",
    "\n",
    "getcontext().prec = 6\n",
    "\n",
    "print(Decimal(kgscm).normalize())"
   ]
  },
  {
   "cell_type": "markdown",
   "metadata": {
    "colab_type": "text",
    "id": "nRYFqPf6xdx3"
   },
   "source": [
    "**Bài Gà và chó**\n",
    "\n",
    "Gọi $x,y$ lần lượt là số con gà, chó.\n",
    "\n",
    "Ta có xxx là tổng số con $\\Rightarrow$ $x + y = xxx$.\n",
    "\n",
    "yyy là tổng số chân $\\Rightarrow$ $2x + 4y = yyy$.\n",
    "\n",
    "Giải hệ phương trình ta được:\n",
    "\n",
    "$x = (4xxx - yyy)/2$\n",
    "\n",
    "$y = xxx - x$\n",
    "\n",
    "*Lưu ý:* \n",
    "1. phép chia \"/\" trong python sẽ trả về kiểu float. Do đó, để có kết quả là số nguyên ta sử dụng phép chia nguyên \"//\" .\n",
    "2. Sử dụng phương thức **split()** để tách riêng các dữ liệu được nhập trên cùng dòng.\n",
    "3. Phương thức **map(*type, obj*)** sẽ chuyển kiểu dữ liệu của tất cả thành phần trong *obj* về kiểu *type*. Ở ví dụ này vận dụng **map** chuyển kiểu 2 dữ liệu nhập vào thành kiểu *int*\n"
   ]
  },
  {
   "cell_type": "code",
   "execution_count": 0,
   "metadata": {
    "colab": {
     "base_uri": "https://localhost:8080/",
     "height": 51
    },
    "colab_type": "code",
    "executionInfo": {
     "elapsed": 5253,
     "status": "ok",
     "timestamp": 1573179929073,
     "user": {
      "displayName": "Dũng Nguyễn Minh",
      "photoUrl": "https://lh3.googleusercontent.com/a-/AAuE7mBl-Q7yrG43LtygCtZ4M_CNwg12pH9hT6k-nXg9Yg=s64",
      "userId": "14324160334199709352"
     },
     "user_tz": -420
    },
    "id": "fS7UZWOuzuja",
    "outputId": "5563dbb7-29de-441e-e19c-86540a62bd99"
   },
   "outputs": [
    {
     "name": "stdout",
     "output_type": "stream",
     "text": [
      "36 100\n",
      "22 14\n"
     ]
    }
   ],
   "source": [
    "xxx,yyy = map(int, input().split())\n",
    "x= (4*xxx - yyy) // 2\n",
    "y = xxx - x\n",
    "print(x, y)"
   ]
  },
  {
   "cell_type": "markdown",
   "metadata": {
    "colab_type": "text",
    "id": "UasLzUfF2bMu"
   },
   "source": [
    "**Bài Phân loại tam giác**\n",
    "\n",
    "Gọi $a,b,c$ lần lượt là độ dài 3 cạnh.\n",
    "\n",
    "* Điều kiện để là một tam giác: Tổng độ dài 2 cạnh bất kì phải lớn hơn \n",
    "độ dài cạnh còn lại. Hay $a<b+c$ và $b<a+c$ và $c<a+b$.\n",
    "\n",
    "* Điều kiện là một tam giác vuông. Áp dụng định lí Pytago ta có:\n",
    "$a^2 = b^2+c^2$ hoặc $b^2=a^2+c^2$ hoặc $c^2=a^2+b^2$.\n",
    "\n",
    "* Điều kiện là một tam giác đều: $a=b=c$.\n",
    "\n",
    "* Điều kiện là một tam giác cân: $a=b$ hoặc $b=c$ hoặc $a=c$.\n",
    "\n",
    "\n",
    "*Lưu ý: Do tam giác đều là trường hợp đặc biệt của tam giác cân nên ta kiểm tra tam giác đều trước.*\n",
    "\n",
    "Để tính diện tích tam giác khi biết độ dài 3 cạnh, ta áp dụng công thức Heron: $S = \\sqrt{p(p-a)(p-b)(p-c)}$\n",
    "\n",
    "Với $p$ là nửa chu vi của tam giác: $p = \\frac{(a+b+c)}{2}$\n",
    "\n",
    "*Lưu ý: Sử dụng hàm **sqrt()** trong thư viện math để tính căn bậc hai. Để ý trường hợp khi diện tích ra số nguyên nhưng hàm làm tròn **round()** sẽ trả về số thực.*"
   ]
  },
  {
   "cell_type": "code",
   "execution_count": 0,
   "metadata": {
    "colab": {
     "base_uri": "https://localhost:8080/",
     "height": 85
    },
    "colab_type": "code",
    "executionInfo": {
     "elapsed": 6929,
     "status": "ok",
     "timestamp": 1573182768501,
     "user": {
      "displayName": "Dũng Nguyễn Minh",
      "photoUrl": "https://lh3.googleusercontent.com/a-/AAuE7mBl-Q7yrG43LtygCtZ4M_CNwg12pH9hT6k-nXg9Yg=s64",
      "userId": "14324160334199709352"
     },
     "user_tz": -420
    },
    "id": "PlCCcWJC_mqo",
    "outputId": "682bd6c2-3e79-46f9-e08c-ddd3e6ea472d"
   },
   "outputs": [
    {
     "name": "stdout",
     "output_type": "stream",
     "text": [
      "2\n",
      "3\n",
      "4\n",
      "Tam giac thuong, dien tich = 2.9\n"
     ]
    }
   ],
   "source": [
    "from  math import sqrt\n",
    "a = int(input())\n",
    "b = int(input())\n",
    "c = int(input())\n",
    "\n",
    "if a<b+c and b<a+c and c<a+b:\n",
    "    #Tinh dien tich\n",
    "    p = (a+b+c)/2\n",
    "    s = round(sqrt(p*(p-a)*(p-b)*(p-c)),2)\n",
    "    if s == int(s):\n",
    "        s = int(s)\n",
    "    #Kiem tra tam giac\n",
    "    if a*a==b*b+c*c or b*b==a*a+c*c or c*c== a*a+b*b:\n",
    "        print(\"Tam giac vuong, dien tich = {}\".format(s))\n",
    "    elif a==b==c:\n",
    "        print(\"Tam giac deu, dien tich = {}\".format(s))\n",
    "    elif a==b or b==c or a==c:\n",
    "        print(\"Tam giac can, dien tich = {}\".format(s))\n",
    "    else:\n",
    "        print(\"Tam giac thuong, dien tich = {}\".format(s))\n",
    "else:\n",
    "    print(\"Khong phai tam giac\")"
   ]
  },
  {
   "cell_type": "markdown",
   "metadata": {
    "colab_type": "text",
    "id": "1UvUbqqO0CQx"
   },
   "source": [
    "**Bài Bài kiểm tra**\n",
    "\n",
    "Để dễ xử lý, ta giả định các bàn trong lớp học được xếp cạnh nhau theo chiều ngang và mỗi bàn có 2 **chỗ ngồi**, các chỗ ngồi này sẽ được đánh số bắt đầu từ 0 và tăng dần. Với trường hợp bài kiểm tra có $k$ (e.g.: $k=2$) đề khác nhau, thì lớp học sẽ được biểu diễn như hình dưới:\n",
    ">Chỉ số chỗ ngồi | 0 | 1 | 2 | 3 | 4 | 5 | 6 | 7 | ... |\n",
    ">--- | --- | --- | --- | --- | --- | --- | --- | --- | --- |\n",
    ">Mã đề | 1 | 2 | 1 | 2 | 1 | 2 | 1 | 2 | ...|\n",
    "\n",
    "Giả sử, Alice đang ngồi ở chỗ có chỉ số 4, thì 2 chỗ ngồi có cùng đề và gần Alice nhất là 2 (tức $4 - k$)  và 6 (tức $4 + k$).\n",
    "\n",
    "Bây giờ, việc ta cần làm là chuyển cách tổ chức bàn học trong đề bài sang cách tổ chức nói trên. Gọi p là dãy bàn mà Alice đang ngồi, q (bằng 1 hoặc 2) là vị trí bàn, k là chỉ số chỗ ngồi tương ứng theo cách tổ chức mới. Lúc này, $k=(p-1)*2+q$. Ngược lại, $p=k\\ div\\ 2+1$ và $q=k\\ mod\\ 2+1$.\n"
   ]
  },
  {
   "cell_type": "code",
   "execution_count": 0,
   "metadata": {
    "colab": {},
    "colab_type": "code",
    "id": "_7zBsGmVcDm8"
   },
   "outputs": [],
   "source": [
    "n = int(input())\n",
    "k = int(input())\n",
    "p = int(input())\n",
    "q = int(input())\n",
    "\n",
    "ith = (p-1) * 2 + (q-1)\n",
    "\n",
    "before = ith - k\n",
    "after = ith + k\n",
    "\n",
    "if before >= 0:\n",
    "    print(before//2+1, before%2+1)\n",
    "elif after <= n-1:\n",
    "    print(after//2+1, after%2+1)\n",
    "else:\n",
    "    print(-1)"
   ]
  },
  {
   "cell_type": "markdown",
   "metadata": {
    "colab_type": "text",
    "id": "otyrrLSFgHYh"
   },
   "source": [
    "**Bài Đường sắt trên cao**\n",
    "\n",
    "Đối với bài tập này, cần chú ý đến việc đoàn tàu có 2 hướng chạy: hướng đi và hướng về. Để xác định đoàn tàu đang chạy theo hướng đi hay hướng về, ta sẽ kiểm tra tính chẵn lẻ của phép toán $t\\ div\\ k$. Nếu $t\\ div\\ k$ chẵn suy ra đoàn tàu đang chạy theo hướng đi, ngược lại đang theo hướng về. Nếu đoàn tàu đang chạy theo hướng đi thì ga hiện tại sẽ bằng $t\\ mod\\ k$, ngược lại sẽ là $k - t\\ mod\\ k$\n",
    "\n",
    "Ví dụ này sử dụng một cách  khác, không sử dụng hàm **map**, để chuyển tất cả kiểu các thành phần dữ liệu của một đối tượng"
   ]
  },
  {
   "cell_type": "code",
   "execution_count": 1,
   "metadata": {
    "colab": {
     "base_uri": "https://localhost:8080/",
     "height": 51
    },
    "colab_type": "code",
    "executionInfo": {
     "elapsed": 7773,
     "status": "ok",
     "timestamp": 1573487566962,
     "user": {
      "displayName": "Đình Duy Lê",
      "photoUrl": "https://lh3.googleusercontent.com/a-/AAuE7mAJqPigKbm0ADKZ-Fqr0Yq2wZjzZOoY_V6EEWu0fw=s64",
      "userId": "12450389915184303909"
     },
     "user_tz": -420
    },
    "id": "1pymdpD1gMO-",
    "outputId": "a6560c21-a7aa-4dd4-e51c-35a8cb7d5d09"
   },
   "outputs": [
    {
     "name": "stdout",
     "output_type": "stream",
     "text": [
      "5 8\n",
      "2\n"
     ]
    }
   ],
   "source": [
    "k, t = [int(x) for x in input().split()]\n",
    "\n",
    "if (t // k) % 2 == 0:\n",
    "    print(t % k)\n",
    "else:\n",
    "    print(k - t % k)"
   ]
  },
  {
   "cell_type": "markdown",
   "metadata": {
    "colab_type": "text",
    "id": "pmqz97TZA-BN"
   },
   "source": [
    "**Bài Tổng ước số**\n",
    "\n",
    "Để tính tổng ước số của $n$. Ta lần lượt kiểm tra các ứng viên ước số $i$ bằng cách xem xét $n / i$ ($i$ từ 1 ➜ $n$), nếu $n$ chia hết cho $i$ thì ta sẽ cộng vào tổng. Ngược lại thì không.\n",
    "\n",
    "\n",
    "Mà $n$ không chia hết cho các số thuộc nửa đoạn $[n/2 + 1,n)$ nên chỉ cần xem xét $i$ từ 1 ➜ $n/2$."
   ]
  },
  {
   "cell_type": "code",
   "execution_count": 0,
   "metadata": {
    "colab": {
     "base_uri": "https://localhost:8080/",
     "height": 51
    },
    "colab_type": "code",
    "executionInfo": {
     "elapsed": 8160,
     "status": "ok",
     "timestamp": 1573183931322,
     "user": {
      "displayName": "Dũng Nguyễn Minh",
      "photoUrl": "https://lh3.googleusercontent.com/a-/AAuE7mBl-Q7yrG43LtygCtZ4M_CNwg12pH9hT6k-nXg9Yg=s64",
      "userId": "14324160334199709352"
     },
     "user_tz": -420
    },
    "id": "t2QruFxTEXKX",
    "outputId": "20696dc3-ea52-4ee8-ea77-87d0c58d8f5b"
   },
   "outputs": [
    {
     "name": "stdout",
     "output_type": "stream",
     "text": [
      "27\n",
      "13\n"
     ]
    }
   ],
   "source": [
    "n = int(input())\n",
    "s = 0\n",
    "for i in range(1,n//2 + 1):\n",
    "    if not n%i:\n",
    "        s = s + i\n",
    "print(s)"
   ]
  },
  {
   "cell_type": "markdown",
   "metadata": {
    "colab_type": "text",
    "id": "eOZl0aawHcSH"
   },
   "source": [
    "**Bài Số Fibonacci**\n",
    "\n",
    "Dãy Fibonacci là dãy vô hạn các số tự nhiên bắt đầu bằng 1 và 1, sau đó các số tiếp theo sẽ bằng tổng của 2 số liền trước nó.\n",
    "\n",
    "Công thức truy hồi của dãy Fibonacci:\n",
    "\n",
    "![alt text](https://wikimedia.org/api/rest_v1/media/math/render/svg/6693d2c78bc8132bb9b65be861148ca574a738ef)\n",
    "\n",
    "\n",
    "Cụ thể, các số đầu tiên của dãy Fibonacci là 1, 1, 2, 3, 5, 8, 13, 21, 34, 55, 89, 144, 233, 377, 610...\n",
    "\n",
    "Gọi $f$ là số fibonacci thứ n cần tìm.\n",
    "Đặt $f_1 = 1$, $f_2 = 1$ lần lượt là số fibonacci thứ 1 và 2.\n",
    "\n",
    "Số fibonacci thứ 3: $f=  f_1 + f_2 = 2$ \n",
    "\n",
    "Số fibonacci thứ 4: $f = f_2 + f_3$. Nếu ta gán  $f_1 = f_2$ và $f_2 = f$ thì $f= f_1 + f_2=3$.\n",
    "\n",
    "\n",
    "Vậy, để tìm số fibonacci thứ $n$ ta lặp $n - 2$ lần.\n",
    "\n",
    "$f = f_1 + f_2$\n",
    "\n",
    "$f_1 = f_2$\n",
    "\n",
    "$f_2 = f$\n",
    "\n",
    "Sau khi kết thúc vòng lặp, $f$ là kết quả cần tìm.\n",
    "\n",
    "\n"
   ]
  },
  {
   "cell_type": "code",
   "execution_count": 0,
   "metadata": {
    "colab": {
     "base_uri": "https://localhost:8080/",
     "height": 51
    },
    "colab_type": "code",
    "executionInfo": {
     "elapsed": 9213,
     "status": "ok",
     "timestamp": 1573186331372,
     "user": {
      "displayName": "Dũng Nguyễn Minh",
      "photoUrl": "https://lh3.googleusercontent.com/a-/AAuE7mBl-Q7yrG43LtygCtZ4M_CNwg12pH9hT6k-nXg9Yg=s64",
      "userId": "14324160334199709352"
     },
     "user_tz": -420
    },
    "id": "tpeSXUNdHmQH",
    "outputId": "9b8069be-4f9d-47b5-a7f5-cab26f4b0577"
   },
   "outputs": [
    {
     "name": "stdout",
     "output_type": "stream",
     "text": [
      "6\n",
      "8\n"
     ]
    }
   ],
   "source": [
    "n = int(input())\n",
    "f1 = f2 = f= 1\n",
    "if 1 <= n <= 30:\n",
    "    for i in range(n-2):\n",
    "        f = f1 + f2\n",
    "        f1 = f2\n",
    "        f2 = f\n",
    "    print(f)\n",
    "else:\n",
    "    print(\"So {} khong nam trong khoang [1,30].\".format(n))\n"
   ]
  }
 ],
 "metadata": {
  "colab": {
   "collapsed_sections": [],
   "name": "CSx101.Assignment1.ipynb",
   "provenance": []
  },
  "kernelspec": {
   "display_name": "Python 3",
   "language": "python",
   "name": "python3"
  },
  "language_info": {
   "codemirror_mode": {
    "name": "ipython",
    "version": 3
   },
   "file_extension": ".py",
   "mimetype": "text/x-python",
   "name": "python",
   "nbconvert_exporter": "python",
   "pygments_lexer": "ipython3",
   "version": "3.7.5"
  },
  "latex_envs": {
   "LaTeX_envs_menu_present": true,
   "autoclose": false,
   "autocomplete": true,
   "bibliofile": "biblio.bib",
   "cite_by": "apalike",
   "current_citInitial": 1,
   "eqLabelWithNumbers": true,
   "eqNumInitial": 1,
   "hotkeys": {
    "equation": "Ctrl-E",
    "itemize": "Ctrl-I"
   },
   "labels_anchors": false,
   "latex_user_defs": false,
   "report_style_numbering": false,
   "user_envs_cfg": false
  },
  "toc": {
   "base_numbering": 1,
   "nav_menu": {},
   "number_sections": false,
   "sideBar": true,
   "skip_h1_title": true,
   "title_cell": "Table of Contents",
   "title_sidebar": "Contents",
   "toc_cell": false,
   "toc_position": {},
   "toc_section_display": true,
   "toc_window_display": false
  }
 },
 "nbformat": 4,
 "nbformat_minor": 1
}
