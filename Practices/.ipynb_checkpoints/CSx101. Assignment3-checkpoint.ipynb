{
 "cells": [
  {
   "cell_type": "markdown",
   "metadata": {},
   "source": [
    "## Problem 01. Cuộc đua của nhà Vua\n",
    "Cho một bàn cờ có kích thước $n \\times n$. Mỗi hàng được đánh số từ $1$ đến $n$(từ dưới lên trên). Mỗi cột được đánh số từ $1$ đến $n$(từ trái qua phải). Vì vậy, mỗi ô trong bàn cờ sẽ có tọa độ là $(r, c)$ với $r$ là vị trí của hàng, $c$ là vị trí của cột.\n",
    "\n",
    "**Vua trắng** bắt đầu từ vị trí $(1, 1)$ còn **Vua đen** bắt đầu từ vị trí $(n, n)$. Một kho báu xuất hiện ngẫu nhiên ở vị trí $(x, y)$ trong bàn cờ. Mỗi vị Vua sẽ tìm cách đến vị trí của kho báo đó, ai tới trước sẽ giành chiến thằng.\n",
    "\n",
    "Tương tự như cờ vua, **Vua trắng** sẽ đi trước rối tới lượt **Vua đen** và cứ thế luân phiên nhau. Mỗi lần chỉ di chuyển đến ô liền kề nó nhất. Nếu Vua đang ở vị trí $(a, b)$ thì có thể di chuyển đến một trong các vị trí $(a + 1, b), (a-1, b), (a, b+1), (a, b-1), (a+1, b-1), (a+1, b+1), (a-1, b-1)$ hoặc $(a-1, b+1)$. Tất nhiên không được di chuyển ra khỏi bàn cờ.\n",
    "\n",
    "Điểm khác biệt là **các vị vua có thể đứng ở những vị trí kế nhau hoặc thậm chí là trùng vị trí với nhau**.\n",
    "\n",
    "Người chiến thằng là người đến vị trí kho báu đầu tiên. Bạn hãy xác định người chiến thằng.\n",
    "\n",
    "**INPUT**:\n",
    "\n",
    "Dòng đầu tiên là một số nguyên $n (2 \\leq n \\leq 10^{18})$ - kích thước bàn cờ.\n",
    "\n",
    "Dòng thứ 2 gồm hai số $x, y(1 \\leq x, y \\leq n)$ - Tọa độ xuất hiện của kho báu.\n",
    "\n",
    "**OUTPUT**:\n",
    "\n",
    "Nếu Vua trắng thắng, xuất `White`.\n",
    "\n",
    "Ngược lại xuất `Black`.\n",
    "\n",
    "Ví dụ:\n",
    "- Input: \n",
    "```python\n",
    "4 \n",
    "2 3\n",
    "```\n",
    "- Output: White\n",
    "\n",
    "**Giải thích**:\n",
    "\n",
    "Các bước đánh tối ưu như sau:\n",
    "\n",
    "- B1: Vua trắng di chuyển từ (1,1) đến (2,2)\n",
    "- B2: Vua đen di chuyển từ (4,4) đến (3,3)\n",
    "- B3: Vua trắng di chuyển từ (2,2) đến (2,3). Chạm vị trí kho báu nên Vua trắng thắng, xuất White.\n",
    "![Cuộc đua vua](images/cuocduavua.png)"
   ]
  },
  {
   "cell_type": "code",
   "execution_count": 1,
   "metadata": {},
   "outputs": [],
   "source": [
    "# Code problem 01"
   ]
  },
  {
   "cell_type": "markdown",
   "metadata": {},
   "source": [
    "-----\n",
    "## Problem 02. Số điện thoại\n",
    "Một dãy số là một số điện thoại nếu dãy số đó gồm 11 số có dạng \"8xxxxxxxxxxx\", với x là những số ngẫu nhiên từ 0 đến 9. Ví dụ \"80123456789\" và \"80000000000\" là số điện thoại. Trong khi \"8012345678\" và \"79000000000\" thì không phải.\n",
    "\n",
    "Bạn có \n",
    "n\n",
    " thẻ bài, mỗi thẻ bài được đánh số ngẫu nhiên từ 0 đến 9. Nhiệm vụ của bạn là sắp xếp chúng thành những dãy số điện thoại.\n",
    "\n",
    "**INPUT**:\n",
    "\n",
    "Dòng đầu tiên là một số nguyên $n(1 \\leq n \\leq 1000)$ - số lượng thẻ bài.\n",
    "\n",
    "Dòng thứ hai ghi chuỗi $n$ chữ số: $a_1, a_2, ..., a_n(0 \\leq a_i \\leq 9)$ - số được đánh trên thẻ bài(Các chữ số viết liền nhau)\n",
    "\n",
    "**OUTPUT**:\n",
    "\n",
    "In ra màn hình số lượng tối đa số điện thoại có thể xếp được."
   ]
  },
  {
   "cell_type": "code",
   "execution_count": 1,
   "metadata": {},
   "outputs": [],
   "source": [
    "# Code problem 02"
   ]
  },
  {
   "cell_type": "markdown",
   "metadata": {},
   "source": [
    "---\n",
    "## Problem 03. Trộm Laptop\n",
    "Tối hôm qua, trên địa bàn Tp.HCM đã xảy ra một vụ trộm tại một cửa hàng bán laptop. Do chủ cửa hàng kịp thời phát giác nên tên trộm chỉ kịp lấy đi một số laptop có ở cửa hàng.\n",
    "\n",
    "Tất cả những laptop ở cửa hàng được đánh số thứ tự tăng dần, bắt đầu từ $x$. Ví dụ, nếu $x = 5$ và cửa hàng có 4 laptop thì những laptop đó sẽ được đánh số lần lượt là $5, 6, 7, 8$. Nếu x = 10 và cửa hàng có $9$ laptop thì những laptop đó sẽ được đánh số lần lượt là $10, 11, 12, 13, 14, 15, 16, 17, 18$.\n",
    "\n",
    "Sau vụ trộm, chỉ còn lại $n$ laptop và chúng có số thứ tự là $a_1, a_2, ..., a_n$.  Không may thay, tất cả nhân viên ở cửa hàng không nhớ số $x$ cũng như số lượng laptop có trong cửa hàng lúc chưa xảy ra vụ trộm. Nhiệm vụ của bạn là tìm ra số lượng **tối thiểu** laptop có thể bị mất trộm vào ngày hôm qua.\n",
    "\n",
    "**INPUT**:\n",
    "\n",
    "Dòng đầu tiên là số nguyên $n(1 \\leq n \\leq 1000)$- số lượng laptop còn lại sau vụ trộm.\n",
    "\n",
    "Dòng thứ hai gồm $n$ số nguyên riêng biệt $a_1, a_2, ..., a_n( 1\\leq a_i \\leq 10^9)$ - số thứ tự của những laptop còn lại sau vụ trộm(được sắp xếp theo thứ tự lộn xộn).\n",
    "\n",
    "**OUTPUT**:\n",
    "\n",
    "In ra màn hình số lượng tối thiểu laptop có thể bị mất trộm vào ngày hôm qua."
   ]
  },
  {
   "cell_type": "code",
   "execution_count": 2,
   "metadata": {},
   "outputs": [],
   "source": [
    "# Code problem 03"
   ]
  },
  {
   "cell_type": "markdown",
   "metadata": {},
   "source": [
    "## Problem 04. Chuỗi bằng nhau\n",
    "Cho hai chuỗi $s, t$ chỉ gồm các kí tự Latin và có độ dài bằng nhau. Bạn có thể thực hiện nhiều lần biến đổi trên hai chuỗi đó.\n",
    "\n",
    "Một phép biến đổi bạn được phép thay thế **một** kí tự ở vị trí **bất kỳ** trong chuỗi đó thành kí tự liền kề với nó(trái hoặc phải).\n",
    "\n",
    "Ví dụ, bạn có chuỗi $s = \"acbc\"$, bạn có thể thực hiện những phép biến đổi sau:\n",
    "- Thay $s_2 = s_1$, kết quả thu được: $\"aabc\"$.\n",
    "- Thay $s_1 = s_2$, kết quả thu được: $\"ccbc\"$.\n",
    "- Thay $s_3 = s_2$ hoặc $s_3 = s_4$, kết quả thu được: $\"accc\"$.\n",
    "- Thay $s_2 = s_3$, kết quả thu được: $\"abbc\"$.\n",
    "- Thay $s_4 = s_3$, kết quả thu được: $\"acbb\"$.\n",
    "\n",
    "Lưu ý: bạn được phép thực hiện nhiều phép biến đổi trên cả hai chuỗi $s, t$.\n",
    "\n",
    "Nhiệm vụ của bạn là sau khi thực hiện một loạt các phép biến đổi theo quy tắc trên cho hai chuỗi $s$ và $t$ thì ta có thể thu được hai chuỗi bằng nhau hay không ?\n",
    "\n",
    "**INPUT**:\n",
    "\n",
    "Dòng đầu tiên là một số nguyên $q (1 \\leq q \\leq 100)$ - số lượng testcase. Với mỗi testcase theo sau bởi 2 dòng:\n",
    "\n",
    "- Dòng đầu tiên là một chuỗi $s (1 \\leq |s| \\leq 100)$ - chỉ gồm các chữ cái Latin viết thường.\n",
    "- Dòng thứ hai là một chuỗi $t (1 \\leq |t| \\leq 100, |t| = |s|)$ - chỉ gồm các chữ cái Latin viết thường.\n",
    "\n",
    "**OUTPUT**:\n",
    "\n",
    "Ứng với mỗi testcase xuất trên 1 dòng.\n",
    "\n",
    "Nếu có thể biến chuỗi $s$ và $t$ thành chuỗi bằng nhau, xuất `YES`. Ngược lại, xuất `NO`."
   ]
  },
  {
   "cell_type": "code",
   "execution_count": 3,
   "metadata": {},
   "outputs": [],
   "source": [
    "# Code problem 04"
   ]
  },
  {
   "cell_type": "markdown",
   "metadata": {},
   "source": [
    "----\n",
    "## Problem 05. Lan's Language\n",
    "an đang học ở một trường ngoại ngữ ở Tp.HCM. Lan rất yêu thích ngôn ngữ, đặc biệt là ngữ pháp. Khi  bước vào năm thứ 3, Lan quyết định tạo ra một ngôn ngữ mới dễ sử dụng nhất có thể đủ để nói chuyện với bạn bè. Ngôn ngữ mới của Lan có tên là *Lan's Language* và thỏa theo những ngữ pháp sau:\n",
    "- Có 3 loại từ trong Lan's Language: *danh từ, động từ và tính từ*. Mỗi từ trong Lan's Language thuộc một trong 3 loại từ đó.\n",
    "- Có 2 giới tính: Nam và Nữ. Mỗi từ trong Lan's Language thuộc một trong 2 giới tính đó.\n",
    "- Tính từ nam là những từ kết thúc với **-lios** và Tính từ nữ là những từ kết thúc với **-liala**.\n",
    "- Danh từ nam là những từ kết thúc với **-etr** và  Danh từ nữ là những từ kết thúc với **-etra**.\n",
    "- Động từ nam là những từ kết thúc với **-initis** và  Động từ nữ là những từ kết thúc với **-inites**.\n",
    "- Các từ trong Lan's Language luôn kết thúc bằng $1$ trong các đuôi trên.\n",
    "- Các từ mà chỉ có mỗi đuôi như *\"lios\", \"liala\", \"etr\"...* cũng thuộc Lan's Language.\n",
    "- Không có dấu câu, ngữ pháp chia thì và các dạng biến đổi từ trong Lan's Language.\n",
    "- Một câu trong Lan's Language là một từ hợp lệ (thỏa những tính chất trong Lan's Language) hoặc là một *mệnh đề* hợp lệ.\n",
    "\n",
    "Một mệnh đề hợp lệ trong Lan's language phải thỏa 2 điều kiện sau:\n",
    "- Những từ trong mệnh đề phải **hợp lệ** và được sắp xếp theo thứ tự: *Tính từ + Danh từ + Động từ*. Trong đó: Tính từ có thể có $1$ hoặc **nhiều** hoặc **không có** nhưng phải đứng **trước** Danh từ. Chỉ có duy **nhất một** Danh từ trong câu. Động từ có thể có $1$ hoặc **nhiều** hoặc **không có** nhưng phải đứng **sau** Danh từ.\n",
    "- Tất cả các từ trong mệnh đề phải cùng giới tính.\n",
    "\n",
    "Cho một câu gồm một chuỗi các từ, nhiệm vụ của bạn là viết một chương trình kiểm tra xem câu được nhập vào có thỏa mãn những tính chất của Lan's language hay không? \n",
    "\n",
    "**INPUT**:\n",
    "\n",
    "Dòng đầu tiên là **một** hoặc **nhiều từ** được viết thường bằng những kí tự Latin. Tổng số kí tự nhập vào không quá \n",
    "10\n",
    "5\n",
    " (bao gồm cả khoảng trắng).\n",
    "\n",
    "**OUTPUT**:\n",
    "\n",
    "Nếu câu nhập vào thỏa mãn những tính chất của Lan's language, xuất YES\n",
    "Ngược lại xuất NO."
   ]
  },
  {
   "cell_type": "code",
   "execution_count": 4,
   "metadata": {},
   "outputs": [],
   "source": [
    "# Code problem 05"
   ]
  },
  {
   "cell_type": "markdown",
   "metadata": {},
   "source": [
    "------\n",
    "## Problem 06. Cuộc thi\n",
    "Có $n$ thí sinh tham gia vòng loại ở một cuộc thi lập trình. Để được vào vòng chung kết, các thí sinh phải có số điểm là một số nguyên dương và phải lớn hơn hoặc bằng số điểm của người đang đứng ở vị trí thứ $k$ trong bảng xếp hạng.\n",
    "\n",
    "Nhiệm vụ của bạn là tìm xem có bao nhiêu thí sinh tham dự vòng chung kết.\n",
    "\n",
    "**INPUT**:\n",
    "\n",
    "Dòng đầu tiên gồm hai số nguyên $n, k(1 \\leq k \\leq n \\leq 50)$.\n",
    "\n",
    "Dòng thứ hai là một chuỗi số nguyên cách nhau $a_1, a_2, a_3, ..., a_n(0 \\leq a_i \\leq 100)$ - điểm số của các thí sinh trên bằng xếp hạng được xếp theo thứ tự không tăng.\n",
    "\n",
    "**OUTPUT**:\n",
    "\n",
    "Số lượng thí sinh lọt vào vòng chung kết."
   ]
  },
  {
   "cell_type": "code",
   "execution_count": 5,
   "metadata": {},
   "outputs": [],
   "source": [
    "# Code problem 06"
   ]
  },
  {
   "cell_type": "markdown",
   "metadata": {},
   "source": [
    "-----\n",
    "## Problem 07. Chuỗi con cân bằng\n",
    "Cho một chuỗi s với độ dài n, chỉ chứa k kí tự đầu tiên của bảng chữ cái alphabet. Tất cả các kí tự của s đều được viết in hoa.\n",
    "\n",
    "Chuỗi con của chuỗi s là chuỗi có thể có được bằng cách xóa một số kí tự thuộc s và các kí tự còn lại không hề bị thay đổi vị trí. Chẳng hạn, 'ADE' và 'BD' là chuỗi con của 'ABCDE', trong khi 'DEA' thì không phải.\n",
    "\n",
    "Chuỗi con của s được gọi là cân bằng nếu tần số xuất hiện của k kí tự đầu tiên trong bảng chữ cái ở trong chuỗi này là như nhau.\n",
    "\n",
    " Tìm độ dài chuỗi con cân bằng dài nhất của s\n",
    "\n",
    "**INPUT**:\n",
    "\n",
    "Dòng đầu tiên chứa $n (1 \\leq n \\leq 105)$ và $k (1 \\leq k \\leq 26)$.\n",
    "\n",
    "Dòng thứ 2 chứa chuỗi $s$.\n",
    "\n",
    "**OUTPUT**:\n",
    "\n",
    "Độ dài chuỗi con dài nhất thỏa điều kiện đề bài"
   ]
  },
  {
   "cell_type": "code",
   "execution_count": 6,
   "metadata": {},
   "outputs": [],
   "source": [
    "# Code problem 07"
   ]
  },
  {
   "cell_type": "markdown",
   "metadata": {},
   "source": [
    "-----\n",
    "## Problem 08. Trộn dãy\n",
    "Cho 2 dãy số nguyên a có na số và b có nb số, mỗi dãy đã được sắp xếp theo thứ tự tăng dần. Hãy trộn hai dãy này lại để kết quả cuối cùng là một dãy tăng dần với  các phần tử là các phần tử của a và b.\n",
    "\n",
    "**INPUT**:\n",
    "\n",
    "Dòng đầu tiên chứa kích thước của hai mảng nhập vào $n_a, n_b (1 \\leq na, nb \\leq 100000)$\n",
    "\n",
    "Hai dòng tiếp theo lần lượt chứa các phần tử của mảng a và b.\n",
    "\n",
    "**OUTPUT**:\n",
    "Mảng được trộn từ hai mảng theo quy tắc đã cho."
   ]
  },
  {
   "cell_type": "code",
   "execution_count": 7,
   "metadata": {},
   "outputs": [],
   "source": [
    "# Code problem 08"
   ]
  },
  {
   "cell_type": "markdown",
   "metadata": {},
   "source": [
    "----\n",
    "## Problem 09. Số có hậu\n",
    "im thích các phim và truyện kết thúc có hậu. Một lần gặp may với số n và từ đó Jim rất có cảm tình với tất cả các số nguyên kết thúc bằng $n$, coi chúng là những số có hậu. Ví dụ với $n = 25$ thì các số $625, 553325,1025$ là những số có hậu, còn $3255$ – không có hậu!\n",
    "\n",
    "Jim không thích các ràng buộc và hạn chế. Nhưng trong thế giới thực của chúng ta ràng buộc và hạn chế là điều tất yếu. Một người bạn của Jim khuyên chỉ nên quan tâm đến các số nguyên không vượt quá $m$ và dĩ nhiên, Jim muốn biết có bao nhiêu số có hậu không vượt quá $m$.\n",
    "\n",
    "**INPUT**:\n",
    "\n",
    "Vào từ thiết bị nhập chuẩn gồm một dòng chứa $2$ số nguyên $n$ và $m(1 \\leq n \\leq m \\leq 2 \\times 10^9)$.\n",
    "\n",
    "**OUTPUT**:\n",
    "\n",
    "số lượng số có hậu tìm được."
   ]
  },
  {
   "cell_type": "code",
   "execution_count": 8,
   "metadata": {},
   "outputs": [],
   "source": [
    "# Code problem 09"
   ]
  },
  {
   "cell_type": "markdown",
   "metadata": {},
   "source": [
    "----\n",
    "## Problem 10. Số đối xứng\n",
    "Một số nguyên dương ở hệ 10 được gọi là **palindrome** nếu đọc từ trái sang phải cũng giống như đọc từ phải sang trái.\n",
    "\n",
    "Cho số nguyên dương $n$ có không quá $10^6$ chữ số và không có các số 0 không có nghĩa. Hãy tìm số palindrome nhỏ nhất lớn hơn $n$.\n",
    "\n",
    "**INPUT**:\n",
    "\n",
    "Vào từ thiết bị nhập chuẩn gồm một dòng chứa số nguyên n.\n",
    "\n",
    "**OUTPUT**: \n",
    "\n",
    "Số palindrome nhỏ nhất lớn hơn $n$."
   ]
  },
  {
   "cell_type": "code",
   "execution_count": null,
   "metadata": {},
   "outputs": [],
   "source": [
    "# Code problem 10"
   ]
  }
 ],
 "metadata": {
  "kernelspec": {
   "display_name": "Python 3",
   "language": "python",
   "name": "python3"
  },
  "language_info": {
   "codemirror_mode": {
    "name": "ipython",
    "version": 3
   },
   "file_extension": ".py",
   "mimetype": "text/x-python",
   "name": "python",
   "nbconvert_exporter": "python",
   "pygments_lexer": "ipython3",
   "version": "3.7.5"
  },
  "latex_envs": {
   "LaTeX_envs_menu_present": true,
   "autoclose": false,
   "autocomplete": true,
   "bibliofile": "biblio.bib",
   "cite_by": "apalike",
   "current_citInitial": 1,
   "eqLabelWithNumbers": true,
   "eqNumInitial": 1,
   "hotkeys": {
    "equation": "Ctrl-E",
    "itemize": "Ctrl-I"
   },
   "labels_anchors": false,
   "latex_user_defs": false,
   "report_style_numbering": false,
   "user_envs_cfg": false
  },
  "toc": {
   "base_numbering": 1,
   "nav_menu": {},
   "number_sections": false,
   "sideBar": true,
   "skip_h1_title": true,
   "title_cell": "Table of Contents",
   "title_sidebar": "Contents",
   "toc_cell": false,
   "toc_position": {},
   "toc_section_display": true,
   "toc_window_display": false
  }
 },
 "nbformat": 4,
 "nbformat_minor": 2
}
