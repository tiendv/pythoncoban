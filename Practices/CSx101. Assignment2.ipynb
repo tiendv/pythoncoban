{
 "cells": [
  {
   "attachments": {},
   "cell_type": "markdown",
   "metadata": {},
   "source": [
    "## Problem 01. Kéo cắt giấy\n",
    "Để trang trí phòng phục vụ tổ chức sinh nhật cho một người bạn Alice lấy một tờ giấy màu thủ công kẻ ô vuông kích thước n×m (n hàng và m cột), cắt thành hình lò xo xoắn theo hướng phải sang trái và có độ rộng của đường bằng 1:\n",
    "- Bắt đầu từ biên phải cột 0 cắt lên trên cho đến khi cách lề trên một ô,\n",
    "- Cắt sang phải theo đường biên dưới cho đến khi cách lề phải một ô,\n",
    "- Cắt xuống dưới, rồi sang trái, sau đó lên trên,  . . . để có băng giấy độ rộng 1 ô,\n",
    "- Quá trình cắt sẽ dừng khi không cách cắt tiếp mà không làm đứt băng giấy.\n",
    "\n",
    "![Kéo cắt giấy](images/keocatgiay.png)\n",
    "**Hãy tính tổng độ dài đường cắt theo đơn vị ô.**\n",
    "\n",
    "Dữ liệu: Vào từ thiết bị nhập chuẩn gồm một dòng chứa 2 số nguyên n và m $(2 ≤ n, m ≤ 10^9)$.\n",
    "\n",
    "Kết quả: Đưa ra thiết bị xuất chuẩn một số nguyên – độ dài đường cắt."
   ]
  },
  {
   "cell_type": "code",
   "execution_count": 3,
   "metadata": {},
   "outputs": [],
   "source": [
    "# Code problem 01"
   ]
  },
  {
   "cell_type": "markdown",
   "metadata": {},
   "source": [
    "----\n",
    "## Problem 02. Số gần như may mắn\n",
    "Số may mắn là các số nguyên dương chỉ chứa các chữ số là 4 hoặc 7.\n",
    "\n",
    "Bình thích sự may mắn, tuy nhiên số lượng số may mắn không nhiều. Chính vì thế, Bình định nghĩa ra một loại số mới, gọi là số gần may mắn với điều kiện số chữ số may mắn trong số đó là một số may mắn.\n",
    "\n",
    "**INPUT**\n",
    "Một số nguyên dương n $(n <= 10^{18})$.\n",
    "\n",
    "**OUTPUT**\n",
    "In ra `YES` nếu số đó là một số gần may mắn, ngược lại in `NO`."
   ]
  },
  {
   "cell_type": "code",
   "execution_count": 2,
   "metadata": {},
   "outputs": [],
   "source": [
    "# Code problem 02"
   ]
  },
  {
   "cell_type": "markdown",
   "metadata": {},
   "source": [
    "----\n",
    "## Problem 03. Ma trận cốt lõi\n",
    "Bình có một ma trận 5x5, bao gồm 24 số không và 1 số một với thứ tự ngẫu nhiên. Chỉ số các hàng và cột của ma trận được đánh số lần lượt từ 1 đến 5.\n",
    "\n",
    "Bình là một người rất kĩ tính và chỉ thích những thứ gì cân bằng và đồng đều. Chính vì vậy, anh ấy chỉ thích các ma trận mà có vị trí số một nằm ở giữa. Các bước hợp lệ để thay đổi một ma trận bao gồm: hoán vị hai hàng liền kề của ma trận và hoán vị hai cột liền kề của ma trận.\n",
    "\n",
    "Hãy giúp Bình tìm số bước hợp lệ tối thiểu để biến một ma trận thỏa mãn sở thích của anh ấy.\n",
    "\n",
    "**INPUT**:\n",
    "Một ma trận 5x5 chứa 24 số không và 1 số một.\n",
    "\n",
    "**OUTPUT**:\n",
    "Số bước hợp lệ tối thiểu để biến đổi ma trận."
   ]
  },
  {
   "cell_type": "code",
   "execution_count": 4,
   "metadata": {},
   "outputs": [],
   "source": [
    "# Code bài 03"
   ]
  },
  {
   "cell_type": "markdown",
   "metadata": {},
   "source": [
    "-----\n",
    "## Problem 04. Xếp que diêm\n",
    "Một phương trình đúng (PTĐ) được định nghĩa là phương trình có dạng $a + b = c$, trong đó $a, b, c >0$.\n",
    "\n",
    "Ví dụ: phương trình $2 + 2 = 4(|| + || = ||||)$ và $1 + 2 = 3(| + ||  = |||)$ là PTĐ.\n",
    "\n",
    "Còn $1 + 2 = 4(| + || = |||)$, $2 +  2 = 3(|| + || = |||)$ và $0 + 1 = 1( + | = |)$ không là PTĐ.\n",
    "\n",
    "Bây giờ bạn có $n$ que diêm. Bạn muốn sử dụng tất cả các số que diêm đó để xếp thành một PTĐ. Không may thay, có một số trường hợp bạn không thể xếp được nếu bạn dùng tất cả $n$ quy diêm. Nhưng nếu bạn ra chợ mua thêm $k$ que diêm nữa thì bạn có thể xếp được.\n",
    "\n",
    "Ví dụ, $n = 2$, bạn cần mua thêm 2 cây diêm nữa để xếp thành $| + | = ||$, $n = 5$, bạn cần mua thêm 1 cây diêm nữa để xếp thành $|| + | = |||$.\n",
    "![1 + 1 = 2 que diêm](images/1+1=2.png)\n",
    "\n",
    "Nhiệm vụ của bạn là tìm ra số que diêm cần mua ít nhất để có thể xếp thành PTĐ.\n",
    "\n",
    "**INPUT**:\n",
    "\n",
    "Dòng đầu tiên là một số nguyên $q(1 <= q <= 100)$ - số lượng testcase.\n",
    "\n",
    "$q$ dòng tiếp theo, mỗi dòng là một số nguyên n $(2 <= n <= 10^9 )$ - số lượng quê diêm có ban đầu.\n",
    "\n",
    "**OUTPUT**:\n",
    "\n",
    "Với mỗi testcase xuất ra trên một dòng số lượng que diêm tối thiểu cần phải mua để có thể xếp thành PTĐ."
   ]
  },
  {
   "cell_type": "code",
   "execution_count": 5,
   "metadata": {},
   "outputs": [],
   "source": [
    "# Code problem 04"
   ]
  },
  {
   "cell_type": "markdown",
   "metadata": {},
   "source": [
    "-----\n",
    "## Problem 05. Rạp phim\n",
    "Một rạp phim có diện tích sàn là n x m. Nhân lễ kỉ niệm, người ta cần lót gạch cho sàn của rạp bằng các viên gạch hình vuông với cạnh có kích thước là a. Xác định số lượng viên gạch cần ít nhất để phủ toàn bộ sàn, biết rằng diện tích toàn bộ số gạch được dùng có thể lớn hơn diện tích thực tế của sàn và các viên gạch phải được giữ nguyên, không được cắt ra.\n",
    "\n",
    "**INPUT**:\n",
    "\n",
    "Ba số nguyên dương n, m, a\n",
    "\n",
    "**OUTPUT**:\n",
    "\n",
    "Số lượng gạch ít nhất cần để lót sàn."
   ]
  },
  {
   "cell_type": "code",
   "execution_count": 6,
   "metadata": {},
   "outputs": [],
   "source": [
    "# Code problem 05"
   ]
  },
  {
   "cell_type": "markdown",
   "metadata": {},
   "source": [
    "----\n",
    "## Problem 06. Dưa hấu\n",
    "An và Bình rất thích ăn dưa hấu vì thế họ đi ra chợ chọn mua một trái to và chín nhất.  Về đến nhà, một vấn đề nảy sinh đó là việc chia phần trái dưa hấu cho cả 2, không chỉ thế, do 2 người bạn chỉ thích những con số chẵn, vì thế cần chia quả dưa hấu làm sao cho mỗi phần có khối lượng là một con số chẵn. Hãy giúp An và Bình kiểm tra xem có thể chia quả dưa hấu này hay không.\n",
    "\n",
    "**INPUT**:\n",
    "\n",
    "Một số nguyên không âm\n",
    "\n",
    "**OUTPUT**:\n",
    "\n",
    "Xuất `YES` nếu có thể chia, ngược lại `NO`."
   ]
  },
  {
   "cell_type": "code",
   "execution_count": 7,
   "metadata": {},
   "outputs": [],
   "source": [
    "# Code problem 06"
   ]
  },
  {
   "cell_type": "markdown",
   "metadata": {},
   "source": [
    "-----\n",
    "## Problem 07. Số nguyên tố lớn thứ 2\n",
    "Số nguyên tố là số nguyên lớn hơn 1, chỉ chia hết cho 1 và chính nó.\n",
    "\n",
    "Yêu cầu: cho số nguyên dương N, hãy chỉ ra số nguyên tố lớn thứ 2 không vượt quá N.\n",
    "\n",
    "Ví dụ: với N = 10, số nguyên tố lớn thứ 2 không vượt quá 10 là 5\n",
    "\n",
    "Dữ liệu nhập từ thiết bị nhập chuẩn gồm 1 số nguyên dương N (3 < N ≤ 1014)\n",
    "\n",
    "Kết quả ghi ra thiết bị xuất chuẩn số tìm được."
   ]
  },
  {
   "cell_type": "code",
   "execution_count": 8,
   "metadata": {},
   "outputs": [],
   "source": [
    "# Code problem 07"
   ]
  },
  {
   "cell_type": "markdown",
   "metadata": {},
   "source": [
    "----\n",
    "## Problem 08. Bán hàng\n",
    "Nam đang là quản lí một cửa hàng nhỏ trong thị trấn. Cửa hàng của Nam có $n$ hàng hóa, mỗi hàng hóa thứ $i$ có giá $a_i$ đồng.\n",
    "\n",
    "Mỗi ngày, có rất nhiều khách hàng ghé cửa hàng của Nam và liên tục hỏi giá của từng sản phẩm. Do có quá nhiều hàng hóa nên Nam không thể nào nhớ hết giá của chúng. Vì thế, Nam đã quyết định bán đồng giá tất cả các hàng hóa trong cửa hàng của mình.\n",
    "\n",
    "Tuy nhiên, để không lỗ vốn, Nam muốn sau khi tất cả $n$ hàng hóa trong cửa hàng được bán hết thì thu được tổng số tiền bằng (hoặc lớn hơn) so với tổng giá hàng hóa bán với giá gốc.\n",
    "\n",
    "Mặt khác, Nam không muốn mất khách nếu giá bán quá lớn. Vì vậy, Nam phải bán $n$ hàng hóa với giá tối thiểu sao cho tổng số tiền thu được sau khi bán hết hàng hóa có trong cửa hàng phải bằng (hoặc lớn hơn tối thiểu) so với tổng giá hàng hóa bán với giá gốc.\n",
    "\n",
    "Với mỗi testcase các bạn hãy giúp Nam tìm ra giá bán phù hợp.\n",
    "**INPUT**:\n",
    "\n",
    "Dòng đầu tiên là số nguyên $q(q <= q <= 100)$ - số lượng testcase. Theo sau mỗi $q$ dòng là:\n",
    "\n",
    "Dòng đầu tiên của testcase là một số nguyên $n(1 <= q <= 100)$ - số lượng hàng hóa. Dòng thứ hai gồm $n$ số nguyên $a_1, a_2, a_3, ..., a_n(1 <= a_i <= 10^7)$ - $a_i$ giá gốc của hàng hóa thứ $i$.\n",
    "\n",
    "**OUTPUT**:\n",
    "Vói mỗi testcase in ra giá bán đồng giá tối thiểu của $n$ hàng hóa sao cho tổng số tiền thu được sau khi bán hết hàng hóa có trong cửa hàng phải **bằng(hoặc lớn nhơn tối thiểu)** so với tổng giá hàng hóa bán với giá gốc."
   ]
  },
  {
   "cell_type": "code",
   "execution_count": 9,
   "metadata": {
    "code_folding": []
   },
   "outputs": [],
   "source": [
    "# Code problem 08"
   ]
  },
  {
   "cell_type": "markdown",
   "metadata": {},
   "source": [
    "---- \n",
    "## Problem 09. Số Amstrong\n",
    "Kiểm tra Số Armstrong (Số Armstrong là số có K chữ số và tổng lũy thừa bậc K của các chữ số bằng chính nó)\n",
    "\n",
    "**INPUT**:\n",
    "\n",
    "Một số nguyên không âm\n",
    "\n",
    "**OUTPUT**:\n",
    "\n",
    "Xuất `True` nếu số nhập vào là số Armstrong, ngược lại `False`.\n",
    "\n",
    "**Ví dụ**:\n",
    "- Input: 153\n",
    "- Output: True."
   ]
  },
  {
   "cell_type": "code",
   "execution_count": 10,
   "metadata": {},
   "outputs": [],
   "source": [
    "# Problem 09"
   ]
  },
  {
   "cell_type": "markdown",
   "metadata": {},
   "source": [
    "----\n",
    "## Problem 10. Rút gọn phân số\n",
    "Viết chương trình rút gọn phân số.\n",
    "\n",
    "**INPUT**:\n",
    "\n",
    "Dòng đầu tiên là số nguyên $n (1 <= n <= 100)$ - Số lượng phân số cần rút gọn $n$ dòng tiếp theo là hai số nguyên $a, b(a, b >= 1)$ - $a, b$ lần lượt là tử số và mẫu số.\n",
    "\n",
    "**OUTPUT**:\n",
    "\n",
    "Ứng với $n$ dòng, in ra theo thứ tự tử số và mẫu số(cách nhau một khoảng trắng) sau khi rút gọn; mẫu số chỉ được in khi lớn hơn $1$."
   ]
  },
  {
   "cell_type": "code",
   "execution_count": 11,
   "metadata": {},
   "outputs": [],
   "source": [
    "# Code problem 10"
   ]
  }
 ],
 "metadata": {
  "kernelspec": {
   "display_name": "Python 3",
   "language": "python",
   "name": "python3"
  },
  "language_info": {
   "codemirror_mode": {
    "name": "ipython",
    "version": 3
   },
   "file_extension": ".py",
   "mimetype": "text/x-python",
   "name": "python",
   "nbconvert_exporter": "python",
   "pygments_lexer": "ipython3",
   "version": "3.7.5"
  },
  "latex_envs": {
   "LaTeX_envs_menu_present": true,
   "autoclose": false,
   "autocomplete": true,
   "bibliofile": "biblio.bib",
   "cite_by": "apalike",
   "current_citInitial": 1,
   "eqLabelWithNumbers": true,
   "eqNumInitial": 1,
   "hotkeys": {
    "equation": "Ctrl-E",
    "itemize": "Ctrl-I"
   },
   "labels_anchors": false,
   "latex_user_defs": false,
   "report_style_numbering": false,
   "user_envs_cfg": false
  },
  "toc": {
   "base_numbering": 1,
   "nav_menu": {},
   "number_sections": false,
   "sideBar": true,
   "skip_h1_title": true,
   "title_cell": "Table of Contents",
   "title_sidebar": "Contents",
   "toc_cell": false,
   "toc_position": {},
   "toc_section_display": true,
   "toc_window_display": false
  }
 },
 "nbformat": 4,
 "nbformat_minor": 2
}
