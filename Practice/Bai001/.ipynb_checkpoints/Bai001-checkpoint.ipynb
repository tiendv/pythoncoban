{
 "cells": [
  {
   "cell_type": "markdown",
   "metadata": {},
   "source": [
    "# Chương 1: Lưu đồ thuật toán"
   ]
  },
  {
   "cell_type": "markdown",
   "metadata": {},
   "source": [
    "## Bài 001: Tính tổng các số nguyên từ 1 đến n.\n",
    "## $$S(n) = 1 + 2 + 3 + ... + (n-1) + n $$"
   ]
  },
  {
   "cell_type": "markdown",
   "metadata": {},
   "source": [
    "### 1. Dữ liệu vào và dữ liệu ra"
   ]
  },
  {
   "cell_type": "markdown",
   "metadata": {},
   "source": [
    "- **Dữ liệu vào**: Một số nguyên dương n được nhập từ bàn phím.\n",
    "- **Dữ liệu ra**: Giá trị của tổng các số nguyên từ 1 đến n."
   ]
  },
  {
   "cell_type": "markdown",
   "metadata": {},
   "source": [
    "### 2. Ví dụ"
   ]
  },
  {
   "cell_type": "markdown",
   "metadata": {},
   "source": [
    "### $n = 0:  S(0) = 0$\n",
    "\n",
    "### $n = 6:  S(6) = 1 + 2 + 3 + 4 + 5 + 6 = 17$\n",
    "### $n = 10:  S(10) = 1 + 2 + 3 + 4 + 5 + 6 + 7 + 8 + 9 + 10 = 55$\n",
    "\n",
    "### $n = 100:  S(100) = 1 + 2 + 3 + ... + 99 + 100 = 5050$"
   ]
  },
  {
   "cell_type": "markdown",
   "metadata": {},
   "source": [
    "### 3. Giải thuật"
   ]
  },
  {
   "cell_type": "markdown",
   "metadata": {},
   "source": [
    "- Đặt S là biến lưu trữ tổng của các giá trị từ 1 đến giá trị hiện tại.\n",
    "- Tại mỗi bước lặp cập nhật lại giá trị được lưu trong biến S bằng cách cộng S với giá trị hiện tại."
   ]
  },
  {
   "cell_type": "markdown",
   "metadata": {},
   "source": [
    "### 4. Lưu đồ"
   ]
  },
  {
   "attachments": {},
   "cell_type": "markdown",
   "metadata": {},
   "source": [
    "![Flow chart 001](Bai001.png)"
   ]
  },
  {
   "cell_type": "markdown",
   "metadata": {},
   "source": [
    "### 5. Source code"
   ]
  },
  {
   "cell_type": "markdown",
   "metadata": {},
   "source": [
    "#### Sử dụng vòng lặp while"
   ]
  },
  {
   "cell_type": "code",
   "execution_count": 1,
   "metadata": {},
   "outputs": [
    {
     "name": "stdout",
     "output_type": "stream",
     "text": [
      "Nhap n: 100\n"
     ]
    }
   ],
   "source": [
    "# Nhập giá trị nguyên dương n.\n",
    "n = int(input(\"Nhap n: \"))"
   ]
  },
  {
   "cell_type": "code",
   "execution_count": 2,
   "metadata": {},
   "outputs": [],
   "source": [
    "# Đặt S là biến lưu tổng các giá trị từ 1 đến n.\n",
    "# Đặt i là biến chạy ( i: 1-> n)\n",
    "S = 0\n",
    "i = 1"
   ]
  },
  {
   "cell_type": "code",
   "execution_count": 3,
   "metadata": {},
   "outputs": [],
   "source": [
    "# Sử dụng vòng lặp while, đi qua hết các phần tử từ 1 đến n, mỗi lần đi qua ta cập nhật giá trị được lưu trong biến S.\n",
    "while i <= n:\n",
    "    S = S + i\n",
    "    i = i + 1"
   ]
  },
  {
   "cell_type": "code",
   "execution_count": 4,
   "metadata": {},
   "outputs": [
    {
     "name": "stdout",
     "output_type": "stream",
     "text": [
      "\n",
      "Tong cac so nguyen tu 1 den 100 la:  5050\n"
     ]
    }
   ],
   "source": [
    "# Xuất kết quả ra màn hình\n",
    "print(\"\\nTong cac so nguyen tu 1 den\", n, \"la: \", S)"
   ]
  },
  {
   "cell_type": "markdown",
   "metadata": {},
   "source": [
    "#### Sử dụng vòng lặp for-in"
   ]
  },
  {
   "cell_type": "code",
   "execution_count": 5,
   "metadata": {},
   "outputs": [
    {
     "name": "stdout",
     "output_type": "stream",
     "text": [
      "Nhap n: 100\n"
     ]
    }
   ],
   "source": [
    "# Nhập giá trị nguyên dương n.\n",
    "n = int(input(\"Nhap n: \"))"
   ]
  },
  {
   "cell_type": "code",
   "execution_count": 6,
   "metadata": {},
   "outputs": [],
   "source": [
    "# Đặt S là biến lưu tổng các giá trị từ 1 đến n.\n",
    "S = 0"
   ]
  },
  {
   "cell_type": "code",
   "execution_count": 7,
   "metadata": {},
   "outputs": [],
   "source": [
    "# Sử dụng vòng lặp for-in- để đi qua tất cả các giá trị nguyên trong vùng (range) từ 1 đến (n+1) - 1\n",
    "# Mỗi lần đi qua ta cập nhật giá trị được lưu trong biến S.\n",
    "for i in range(1,n+1):\n",
    "    S = S + i"
   ]
  },
  {
   "cell_type": "code",
   "execution_count": 8,
   "metadata": {},
   "outputs": [
    {
     "name": "stdout",
     "output_type": "stream",
     "text": [
      "\n",
      "Tong cac so nguyen tu 1 den 100 la:  5050\n"
     ]
    }
   ],
   "source": [
    "# Xuất kết quả ra màn hình\n",
    "print(\"\\nTong cac so nguyen tu 1 den\", n, \"la: \", S)"
   ]
  },
  {
   "cell_type": "markdown",
   "metadata": {},
   "source": [
    "### 6. Đối sánh C/C++"
   ]
  },
  {
   "cell_type": "markdown",
   "metadata": {},
   "source": [
    "- Hãy viết lại chương trình tính tổng các số nguyên từ 1 đến n bằng ngôn ngữ C/C++.\n",
    "- Quan sát nét tương tự trong 2 ngôn ngữ."
   ]
  }
 ],
 "metadata": {
  "kernelspec": {
   "display_name": "Python 3",
   "language": "python",
   "name": "python3"
  },
  "language_info": {
   "codemirror_mode": {
    "name": "ipython",
    "version": 3
   },
   "file_extension": ".py",
   "mimetype": "text/x-python",
   "name": "python",
   "nbconvert_exporter": "python",
   "pygments_lexer": "ipython3",
   "version": "3.7.5"
  },
  "latex_envs": {
   "LaTeX_envs_menu_present": true,
   "autoclose": false,
   "autocomplete": true,
   "bibliofile": "biblio.bib",
   "cite_by": "apalike",
   "current_citInitial": 1,
   "eqLabelWithNumbers": true,
   "eqNumInitial": 1,
   "hotkeys": {
    "equation": "Ctrl-E",
    "itemize": "Ctrl-I"
   },
   "labels_anchors": false,
   "latex_user_defs": false,
   "report_style_numbering": false,
   "user_envs_cfg": false
  },
  "toc": {
   "base_numbering": 1,
   "nav_menu": {},
   "number_sections": false,
   "sideBar": true,
   "skip_h1_title": true,
   "title_cell": "Table of Contents",
   "title_sidebar": "Contents",
   "toc_cell": false,
   "toc_position": {},
   "toc_section_display": true,
   "toc_window_display": true
  }
 },
 "nbformat": 4,
 "nbformat_minor": 2
}
