{
 "cells": [
  {
   "cell_type": "markdown",
   "metadata": {
    "colab_type": "text",
    "id": "0t4-BCzPB5qa"
   },
   "source": [
    "# Bài 02. Biến và kiểu dữ liệu đơn giản"
   ]
  },
  {
   "cell_type": "markdown",
   "metadata": {
    "colab_type": "text",
    "id": "hlHKji_lB5qb"
   },
   "source": [
    "Trong chương này, chúng ta sẽ tìm về khái niệm biến và kiểu dữ liệu trong ngôn Python và cách dùng biến để biểu diễn dữ liệu trong chương trình.\n",
    "\n",
    "Kiểu dữ liệu cơ sở hay căn bản là các kiểu dữ liệu do trình biên dịch cung cấp cho người dùng."
   ]
  },
  {
   "cell_type": "markdown",
   "metadata": {
    "colab_type": "text",
    "id": "C46BZwk1B5qc"
   },
   "source": [
    "## Nội dung:\n",
    "1. **Biến là gì ?**\n",
    "2. **Kiểu dữ liệu chuỗi: Strings**\n",
    "3. **Kiểu dữ liệu số**\n",
    "4. **Comments**\n",
    "5. **The Zen of Python**"
   ]
  },
  {
   "cell_type": "markdown",
   "metadata": {
    "colab_type": "text",
    "id": "CD1mDCyYB5qe"
   },
   "source": [
    "## 1. Biến là gì ?"
   ]
  },
  {
   "cell_type": "markdown",
   "metadata": {
    "colab_type": "text",
    "id": "pOnXDbA6B5qf"
   },
   "source": [
    "Xem lại chương trình Hello World của chương 1 nhé nhưng mà cải biến một xíu."
   ]
  },
  {
   "cell_type": "code",
   "execution_count": 1,
   "metadata": {
    "colab": {},
    "colab_type": "code",
    "id": "fR6syaIoB5qg",
    "outputId": "ebe7ef86-a32c-4119-ad94-016bfa2ce036"
   },
   "outputs": [
    {
     "name": "stdout",
     "output_type": "stream",
     "text": [
      "Hello Python World !\n"
     ]
    }
   ],
   "source": [
    "message = \"Hello Python World !\"\n",
    "print(message)"
   ]
  },
  {
   "cell_type": "markdown",
   "metadata": {
    "colab_type": "text",
    "id": "ZRjeRwgpB5ql"
   },
   "source": [
    "Chúng ta thêm một **biến(variable)** có tên là **`message`**. Mỗi biến được liên kết **(connect)** với một giá trị, đó là thông tin liên quan đến biến đó. Trong trường hợp này, giá trị là \"`Hello Python World`\"."
   ]
  },
  {
   "cell_type": "markdown",
   "metadata": {
    "cell_style": "center",
    "colab_type": "text",
    "id": "wmDJVeZeB5qm"
   },
   "source": [
    "Việc thêm một biến làm cho các thao tác của trình thông dịch Python tăng thêm một chút. Khi nó xử lý dòng đầu tiên, nó **refer(tham chiếu)** biến có tên **`message`** tới \"Hello Python world!\". Khi đến dòng thứ hai, nó sẽ in giá trị được tham chiếu bởi **`message`** lên màn hình."
   ]
  },
  {
   "cell_type": "markdown",
   "metadata": {
    "colab_type": "text",
    "id": "S39GYT0GB5qn"
   },
   "source": [
    "Hãy để mở rộng chương trình này bằng cách thêm tin nhắn thứ thứ hai. Thêm một dòng trống và sau đó thêm hai dòng code mới:"
   ]
  },
  {
   "cell_type": "code",
   "execution_count": 2,
   "metadata": {
    "cell_style": "center",
    "colab": {},
    "colab_type": "code",
    "id": "a3Eb3tC5B5qo",
    "outputId": "f2e7f6aa-10eb-4293-d184-eb4eee1d0fe8"
   },
   "outputs": [
    {
     "name": "stdout",
     "output_type": "stream",
     "text": [
      "Hello Python World !\n",
      "Hello Python Crash Course world !\n"
     ]
    }
   ],
   "source": [
    "message = \"Hello Python World !\"\n",
    "print(message)\n",
    "\n",
    "message = \"Hello Python Crash Course world !\"\n",
    "print(message)"
   ]
  },
  {
   "cell_type": "markdown",
   "metadata": {
    "colab_type": "text",
    "id": "e5t8KAfFB5qr"
   },
   "source": [
    "Bạn **có thể thay đổi giá trị của một biến** trong chương trình của mình bất cứ lúc nào, và Python sẽ luôn refer đến **giá trị hiện tại của nó**."
   ]
  },
  {
   "cell_type": "markdown",
   "metadata": {
    "colab_type": "text",
    "id": "stZ_Ao5jB5qt"
   },
   "source": [
    "### Đặt tên biến và sử dụng biến"
   ]
  },
  {
   "cell_type": "markdown",
   "metadata": {
    "colab_type": "text",
    "id": "fMuZ_RFFB5qu"
   },
   "source": [
    "Khi bạn sử dụng các biến trong Python, bạn cần tuân thủ một vài quy tắc và hướng dẫn. Phá vỡ một số quy tắc này sẽ gây ra lỗi; các hướng dẫn này giúp bạn viết code dễ đọc và dễ hiểu hơn. Hãy nhớ giữ các hướng dẫn sử dụng biến sau đây trong đầu nhé:"
   ]
  },
  {
   "cell_type": "markdown",
   "metadata": {
    "colab_type": "text",
    "id": "iUoWPbLWB5qv"
   },
   "source": [
    "- **Name Variable(Tên biến)** chỉ có thể chứa chữ cái, số và dấu gạch dưới. Chúng có thể **bắt đầu bằng một chữ cái hoặc dấu gạch dưới, nhưng không phải bằng một con số**. Chẳng hạn, bạn có thể đặt tên biến là message_1 nhưng không thể đặt tên 1_message.\n",
    "- **Không được sử dụng các khoảng cách(spaces) trong tên biến**, nhưng dấu gạch dưới(underscore) có thể được sử dụng để phân tách các từ trong tên biến. Ví dụ: **`hello_message`** thì oke, nhưng **`hello message`** thì gây ra lỗi.\n",
    "- **Tránh sử dụng từ khóa** Python và **tên hàm** làm tên biến; nghĩa là, không sử dụng các từ mà Python dành riêng cho mục đích lập trình cụ thể, chẳng hạn như từ **`print`** là tên của hàm.\n",
    "- Name Variable (Tên biến) nên **ngắn gọn nhưng mô tả**. Ví dụ, *name* tốt hơn *n*, *student_name* tốt hơn *s_n* và *name_length* tốt hơn *length_of_persons_name*.\n",
    "- Cẩn thận khi sử dụng chữ cái viết thường **l** và chữ **O** viết hoa vì chúng có thể bị nhầm lẫn với các số **1** và **0**."
   ]
  },
  {
   "cell_type": "markdown",
   "metadata": {
    "colab_type": "text",
    "id": "_tucHQY4B5qw"
   },
   "source": [
    "Cần luyện tập nhiều mới biết được cách đặt tên biến sao cho tốt, đặc biệt là khi các chương trình của bạn trở nên thú vị và phức tạp hơn thì đặt tên biến có ý nghĩa rất quan trọng."
   ]
  },
  {
   "cell_type": "markdown",
   "metadata": {
    "colab_type": "text",
    "id": "LHSRRnEyB5qy"
   },
   "source": [
    "*Lưu ý: Các biến trong Python mà bạn sử dụng tại thời điểm này phải là **chữ thường**. Bạn không gặp phải lỗi nào nếu bạn sử dụng chữ in hoa, nhưng **chữ in hoa trong tên biến có ý nghĩa đặc biệt** mà chúng ta sẽ thảo luận trong các chương sau.*"
   ]
  },
  {
   "cell_type": "markdown",
   "metadata": {
    "colab_type": "text",
    "id": "KEeA1MXCB5qz"
   },
   "source": [
    "### Lỗi đặt tên biến"
   ]
  },
  {
   "cell_type": "markdown",
   "metadata": {
    "colab_type": "text",
    "id": "vBF0yL9AB5q0"
   },
   "source": [
    "Mỗi lập trình viên đều mắc lỗi (ai cũng vậy), và hầu hết đều mắc lỗi mỗi ngày (everyday). Mặc dù các lập trình viên giỏi có thể tạo ra lỗi, nhưng họ cũng biết cách **điều trị** những lỗi đó một cách hiệu quả. Hãy cùng xem xét một lỗi mà bạn có thể mắc phải sớm và tìm hiểu cách khắc phục."
   ]
  },
  {
   "cell_type": "markdown",
   "metadata": {
    "colab_type": "text",
    "id": "9g4Ys2qTB5q1"
   },
   "source": [
    "Chúng ta sẽ viết một số code tạo ra lỗi (hi vọng không gặp lại code lỗi nữa sau khi lấy code này làm ví dụ). Quan sát đoạn code sau:"
   ]
  },
  {
   "cell_type": "code",
   "execution_count": 3,
   "metadata": {
    "colab": {},
    "colab_type": "code",
    "id": "PwNW5TNqB5q2",
    "outputId": "4bf31d39-07e0-4134-942c-2b66c6eb3048"
   },
   "outputs": [
    {
     "ename": "NameError",
     "evalue": "name 'mesage' is not defined",
     "output_type": "error",
     "traceback": [
      "\u001b[1;31m---------------------------------------------------------------------------\u001b[0m",
      "\u001b[1;31mNameError\u001b[0m                                 Traceback (most recent call last)",
      "\u001b[1;32m<ipython-input-3-ccedca352163>\u001b[0m in \u001b[0;36m<module>\u001b[1;34m\u001b[0m\n\u001b[0;32m      1\u001b[0m \u001b[0mmessage\u001b[0m \u001b[1;33m=\u001b[0m \u001b[1;34m\"Hello World Crash Course Reader !\"\u001b[0m\u001b[1;33m\u001b[0m\u001b[1;33m\u001b[0m\u001b[0m\n\u001b[1;32m----> 2\u001b[1;33m \u001b[0mprint\u001b[0m\u001b[1;33m(\u001b[0m\u001b[0mmesage\u001b[0m\u001b[1;33m)\u001b[0m\u001b[1;33m\u001b[0m\u001b[1;33m\u001b[0m\u001b[0m\n\u001b[0m",
      "\u001b[1;31mNameError\u001b[0m: name 'mesage' is not defined"
     ]
    }
   ],
   "source": [
    "message = \"Hello World Crash Course Reader !\"\n",
    "print(mesage)"
   ]
  },
  {
   "cell_type": "markdown",
   "metadata": {
    "colab_type": "text",
    "id": "2k8kI9t_B5q5"
   },
   "source": [
    "Chương trình này có lỗi. Quan sát output ta thấy lỗi ở dòng thứ 2 và lỗi mắc phải ở đây là **`NameError`: name 'message' is not defined**. **Trình thông dịch (interpreter)** của Python rất hay trong việc **trackback** cho chúng ta lỗi xuất phát từ đâu."
   ]
  },
  {
   "cell_type": "markdown",
   "metadata": {
    "colab_type": "text",
    "id": "1LYLrOBgB5q7"
   },
   "source": [
    "Python không thể xác định tên biến được cung cấp. **`Name Error`** xuất hiện khi đặt tên biến trước khi sử dụng hoặc là sai chính ta.\n",
    "\n",
    "Tất nhiên, trong ví dụ này, chúng ta đã bỏ qua các chữ cái **s** trong tên biến **message** trong dòng thứ hai. Trình thông dịch Python không kiểm tra chính tả code của bạn đâu, nhưng nó đảm bảo rằng các tên biến này có refer(tham chiếu tới giá trị nào hay không)."
   ]
  },
  {
   "cell_type": "code",
   "execution_count": 4,
   "metadata": {
    "colab": {},
    "colab_type": "code",
    "id": "tu5vDSvJB5q8",
    "outputId": "f9c35ad4-2cbd-4747-feca-290c06cde863"
   },
   "outputs": [
    {
     "name": "stdout",
     "output_type": "stream",
     "text": [
      "Hello Python Crash Course reader!\n"
     ]
    }
   ],
   "source": [
    "mesage = \"Hello Python Crash Course reader!\"\n",
    "print(mesage)"
   ]
  },
  {
   "cell_type": "markdown",
   "metadata": {
    "colab_type": "text",
    "id": "CfWdOqlwB5rA"
   },
   "source": [
    "- Ngôn ngữ lập trình rất nghiêm ngặt khắc khe với chúng ta về cú pháp, nhưng chúng không quan tâm đến chính tả tốt hay xấu. Do đó, bạn không cần phải xem xét các quy tắc chính tả và ngữ pháp tiếng Anh, tiếng Việt khi bạn đang cố gắng đặt tên biến và viết code nhé. \n",
    "- Nhiều lỗi lập trình là lỗi đơn giản, một ký tự trong một dòng của chương trình. Nếu bạn mất một thời gian dài để tìm kiếm một trong những lỗi này. **Nhiều lập trình viên có kinh nghiệm và tài năng dành hàng giờ để săn lùng các loại lỗi nhỏ này**. Hãy cố gắng chấp nhận điều đó và tiếp tục, biết rằng nó sẽ xảy ra thường xuyên trong suốt cuộc đời lập trình của bạn. Slime !"
   ]
  },
  {
   "cell_type": "markdown",
   "metadata": {
    "colab_type": "text",
    "id": "KckhH2gjB5rB"
   },
   "source": [
    "Các biến thường được mô tả là các hộp mà bạn có thể lưu trữ các giá trị. Ý tưởng này có thể hữu ích trong vài lần đầu tiên bạn sử dụng một biến, nhưng đó là một cách chính xác để mô tả cách các biến được thể hiện bên trong Python. Nó tốt hơn nhiều khi nghĩ về các **biến như các nhãn mà bạn có thể gán cho các giá trị**. Bạn cũng có thể nói rằng **một biến tham chiếu một giá trị nhất định**."
   ]
  },
  {
   "cell_type": "markdown",
   "metadata": {
    "colab_type": "text",
    "id": "ulonEw-rB5rC"
   },
   "source": [
    "Sự khác biệt này có thể làm bạn bối rối trong những lần đầu, nhưng nó đáng đón nhận sớm hơn là muộn. Tại một vài thời điểm, bạn sẽ thấy cái gì đó mà không mong muốn từ một biến, lúc đấy việc hiểu chính xác về cách các biến hoạt động sẽ giúp bạn xác định những gì xảy ra trong code của bạn."
   ]
  },
  {
   "cell_type": "markdown",
   "metadata": {
    "colab_type": "text",
    "id": "rBksgMYBB5rD"
   },
   "source": [
    "Cách tốt nhất để **hiểu các khái niệm lập trình mới** là thử sử dụng chúng **(try and try)** trong các chương trình của bạn. Nếu bạn gặp khó khăn trong khi thực hiện một bài tập hay một project, hãy thử làm một cái gì đó khác sau khi tìm solution hoài mà không slove được problems. Nếu bạn vẫn còn bị mắc kẹt, hãy xem lại phần có liên quan ở nơi nào đó. Nếu bạn vẫn cần trợ giúp, hãy tra **Google**."
   ]
  },
  {
   "cell_type": "markdown",
   "metadata": {
    "colab_type": "text",
    "id": "xld84z4FB5rF"
   },
   "source": [
    "### Test yourself"
   ]
  },
  {
   "cell_type": "markdown",
   "metadata": {
    "colab_type": "text",
    "id": "dTv_dCHpB5rG"
   },
   "source": [
    "1. **Simple message**: Assign a message to a variable, and then print that message."
   ]
  },
  {
   "cell_type": "code",
   "execution_count": 5,
   "metadata": {
    "colab": {},
    "colab_type": "code",
    "id": "up1V1p4jB5rH"
   },
   "outputs": [],
   "source": [
    "# Simple message"
   ]
  },
  {
   "cell_type": "markdown",
   "metadata": {
    "colab_type": "text",
    "id": "2VIKbuCZB5rL"
   },
   "source": [
    "2. **Simple message**: Assign a message to a variable, and print that message. Then change the value of the variable to a new message, and print the new message."
   ]
  },
  {
   "cell_type": "code",
   "execution_count": 6,
   "metadata": {
    "colab": {},
    "colab_type": "code",
    "id": "A_13EPQYB5rM"
   },
   "outputs": [],
   "source": [
    "# Simple message"
   ]
  },
  {
   "cell_type": "markdown",
   "metadata": {
    "colab_type": "text",
    "id": "bg4JPxv6B5rP"
   },
   "source": [
    "## 2. Kiểu dữ liệu chuỗi: Strings"
   ]
  },
  {
   "cell_type": "markdown",
   "metadata": {
    "colab_type": "text",
    "id": "qr-xAdp3B5rQ"
   },
   "source": [
    "Hầu hết các chương trình định nghĩa và thu thập một số loại dữ liệu, và sau đó làm một cái gì đó có ý nghĩa với nó, nó phân biệt các loại dữ liệu khác nhau. Kiểu dữ liệu đầu tiên chúng ta sẽ xem xét là **`string`**. **`String`** khá đơn giản (thường là với cái nhìn đầu tiên ta nghĩ như vậy), nhưng không phải như vậy đâu."
   ]
  },
  {
   "cell_type": "markdown",
   "metadata": {
    "colab_type": "text",
    "id": "HBI17B7MB5rR"
   },
   "source": [
    "**A string(một chuỗi kí tự)** là một chuỗi các ký tự. Bất cứ điều gì **bên trong dấu nháy(quotes)** đều **được coi là một chuỗi** trong Python và bạn có thể sử dụng **dấu ngoặc đơn(single quote)** hoặc **dấu ngoặc kép(double quotes)** bao quanh chuỗi của mình như sau:"
   ]
  },
  {
   "cell_type": "markdown",
   "metadata": {
    "colab_type": "text",
    "id": "ELCWz5GTB5rS"
   },
   "source": [
    "###### `\"This is a string\"`\n",
    "###### `'This is also a string'`"
   ]
  },
  {
   "cell_type": "markdown",
   "metadata": {
    "colab_type": "text",
    "id": "x7ZV0TQ4B5rT"
   },
   "source": [
    "Tính linh hoạt này cho phép bạn sử dụng dấu nháy kép và dấu nháy đơn trong chuỗi của mình:"
   ]
  },
  {
   "cell_type": "markdown",
   "metadata": {
    "colab_type": "text",
    "id": "bzZhj5-uB5rU"
   },
   "source": [
    "###### `'I told my friend, \"Python is my favorite language!\"'`**\n",
    "###### `\"The language 'Python' is named after Monty Python, not the snake.\"`**\n",
    "###### `\"One of Python's strengths is its diverse and supportive community.\"`**"
   ]
  },
  {
   "cell_type": "markdown",
   "metadata": {
    "colab_type": "text",
    "id": "gv9P6De4B5rV"
   },
   "source": [
    "**Hãy cùng khám phá một số cách bạn có thể sử dụng chuỗi.**"
   ]
  },
  {
   "cell_type": "markdown",
   "metadata": {
    "colab_type": "text",
    "id": "xIWHKA4HB5rW"
   },
   "source": [
    "### Thay đổi kiểu chữ (hoa-thường) trong một chuỗi bằng các phương thức"
   ]
  },
  {
   "cell_type": "markdown",
   "metadata": {
    "colab_type": "text",
    "id": "vCvwkiNIB5rX"
   },
   "source": [
    "Một trong những điều đơn giản nhất bạn có thể thực hiện với chuỗi là thay đổi case của từ trong một chuỗi. Nhìn vào đoạn mã sau và thử xác định những gì xảy ra:"
   ]
  },
  {
   "cell_type": "code",
   "execution_count": 7,
   "metadata": {
    "colab": {},
    "colab_type": "code",
    "id": "tpAufRvGB5ra",
    "outputId": "3958e492-823d-4f10-c32d-3c0b6b180d14"
   },
   "outputs": [
    {
     "name": "stdout",
     "output_type": "stream",
     "text": [
      "Ada Lovelace\n"
     ]
    }
   ],
   "source": [
    "name = \"ada lovelace\"\n",
    "print(name.title())"
   ]
  },
  {
   "cell_type": "markdown",
   "metadata": {
    "colab_type": "text",
    "id": "7QqckXtCB5rd"
   },
   "source": [
    "- Trong ví dụ này, **`name`** tham chiếu đến chuỗi chữ thường \"ada lovelace \". Phương thức **title()** xuất hiện sau biến **`name`** trong lệnh gọi **print()**. Phương thức (Method) là một hành động mà Python có thể thực hiện trên một phần dữ liệu. Dấu chấm **`.`** sau **`name`** trong **name.title()** dùng để gọi thực hiện phương thức **title()** bởi biến **`name`** . **Mỗi phương thức được theo sau bởi một dấu ngoặc đơn**, bởi vì các phương thức thường cần thêm thông tin để thực hiện công việc của chúng. Thông tin đó được cung cấp bên trong dấu ngoặc đơn. Phương thức **title()** hiện không cần bất kỳ thông tin bổ sung nào, vì vậy bên trong dấu ngoặc đơn của nó để trống.\n",
    "- Phương thức **title()** thay đổi từng từ thành trường hợp tiêu đề, trong đó mỗi từ bắt đầu bằng một chữ in hoa. Điều này rất hữu ích vì bạn sẽ thường nghĩ về một cái tên như một phần thông tin. Ví dụ: bạn có thể muốn chương trình của mình nhận ra các giá trị đầu vào Ada, ADA và ada là cùng tên và hiển thị tất cả chúng dưới dạng Ada.\n",
    "- Một số phương thức hữu ích khác có sẵn để xử lý trường hợp là tốt. Ví dụ: bạn có thể thay đổi một chuỗi thành tất cả chữ hoa hoặc tất cả các chữ cái thường như thế này:"
   ]
  },
  {
   "cell_type": "code",
   "execution_count": 8,
   "metadata": {
    "colab": {},
    "colab_type": "code",
    "id": "0w3bdCZ2B5rf",
    "outputId": "00decf9c-b0cf-40f8-aa19-392a5ecf4484"
   },
   "outputs": [
    {
     "name": "stdout",
     "output_type": "stream",
     "text": [
      "ADA LOVELACE\n",
      "ada lovelace\n"
     ]
    }
   ],
   "source": [
    "name = \"Ada Lovelace\"\n",
    "print(name.upper())\n",
    "print(name.lower())"
   ]
  },
  {
   "cell_type": "markdown",
   "metadata": {
    "colab_type": "text",
    "id": "H-Dv0PkSB5rj"
   },
   "source": [
    "Phương thức **low()** đặc biệt hữu ích cho việc lưu trữ dữ liệu. Nhiêu khi bạn không muốn tin tưởng vào cách viết hoa mà người dùng của bạn cung cấp, do đó, bạn sẽ chuyển đổi chuỗi thành chữ thường trước khi lưu trữ chúng. Sau đó, khi bạn muốn hiển thị thông tin, bạn sẽ sử dụng trường hợp có ý nghĩa nhất cho mỗi chuỗi."
   ]
  },
  {
   "cell_type": "markdown",
   "metadata": {
    "colab_type": "text",
    "id": "UBbF-SHUB5rk"
   },
   "source": [
    "### Sử dụng biến trong strings"
   ]
  },
  {
   "cell_type": "markdown",
   "metadata": {
    "colab_type": "text",
    "id": "x7hy5CMGB5rl"
   },
   "source": [
    "Trong một số trường hợp, bạn sẽ muốn sử dụng giá trị của biến trong một chuỗi. Ví dụ: bạn có thể muốn hai biến tương ứng là **full_name** và **last_name**, sau đó muốn kết hợp các giá trị đó để hiển thị tên đầy đủ của ai đó:"
   ]
  },
  {
   "cell_type": "code",
   "execution_count": 9,
   "metadata": {
    "colab": {},
    "colab_type": "code",
    "id": "S1EuQ0wUB5rm",
    "outputId": "8ebf5c73-a5a1-4e3a-89da-2f56fbd095fe"
   },
   "outputs": [
    {
     "name": "stdout",
     "output_type": "stream",
     "text": [
      "ada lovelace\n"
     ]
    }
   ],
   "source": [
    "first_name = \"ada\"\n",
    "last_name = \"lovelace\"\n",
    "full_name = f\"{first_name} {last_name}\"\n",
    "print(full_name)"
   ]
  },
  {
   "cell_type": "markdown",
   "metadata": {
    "colab_type": "text",
    "id": "UOv0SPKKB5rq"
   },
   "source": [
    "- Để chèn một giá trị của một biến vào một chuỗi, đặt chữ **`f`** ngay trước dấu nháy mở **`'`**. Đặt dấu ngoặc móc **{}** xung quanh tên của bất kỳ biến nào bạn muốn sử dụng bên trong chuỗi. Python sẽ thay thế từng biến bằng giá trị của nó khi chuỗi được hiển thị.\n",
    "- Các chuỗi này được gọi là **f-string**. **f** là format(định dạng), vì Python định dạng chuỗi bằng cách thay thế tên của bất kỳ biến nào trong dấu ngoặc nhọn bằng giá trị của nó."
   ]
  },
  {
   "cell_type": "markdown",
   "metadata": {
    "colab_type": "text",
    "id": "uHt2H9taB5rs"
   },
   "source": [
    "Bạn có thể làm rất nhiều với **f-string**. Ví dụ: bạn có thể sử dụng **f-string** để soạn tin nhắn hoàn chỉnh bằng cách sử dụng thông tin được liên kết với một biến, giống như vầy đây:"
   ]
  },
  {
   "cell_type": "code",
   "execution_count": 10,
   "metadata": {
    "colab": {},
    "colab_type": "code",
    "id": "QVkFAxPPB5rt",
    "outputId": "2e26cc68-7d04-4542-e19e-f4a4b7efe96c"
   },
   "outputs": [
    {
     "name": "stdout",
     "output_type": "stream",
     "text": [
      "Hello, Ada Lovelace!\n"
     ]
    }
   ],
   "source": [
    "first_name = \"ada\"\n",
    "last_name = \"lovelace\"\n",
    "full_name = f\"{first_name} {last_name}\"\n",
    "print(f\"Hello, {full_name.title()}!\")"
   ]
  },
  {
   "cell_type": "markdown",
   "metadata": {
    "colab_type": "text",
    "id": "n2FMq8q-B5rw"
   },
   "source": [
    "**`full_name`** được sử dụng trong câu chào người dùng và phương thức *title()** thay đổi tên thành trường hợp tiêu đề. Code này trả về một lời chào đơn giản nhưng được định dạng:"
   ]
  },
  {
   "cell_type": "markdown",
   "metadata": {
    "colab_type": "text",
    "id": "OsrdZ9K8B5rx"
   },
   "source": [
    "Bạn cũng có thể sử dụng f-string để ghi tin nhắn và sau đó gán toàn bộ tin nhắn cho một biến:"
   ]
  },
  {
   "cell_type": "code",
   "execution_count": 11,
   "metadata": {
    "colab": {},
    "colab_type": "code",
    "id": "uFUmQNRuB5ry",
    "outputId": "672cb804-a150-49cd-9172-478c13b7c47b"
   },
   "outputs": [
    {
     "name": "stdout",
     "output_type": "stream",
     "text": [
      "Hello, Ada Lovelace!\n"
     ]
    }
   ],
   "source": [
    "first_name = \"ada\"\n",
    "last_name = \"lovelace\"\n",
    "full_name = f\"{first_name} {last_name}\"\n",
    "message = f\"Hello, {full_name.title()}!\"\n",
    "print(message)"
   ]
  },
  {
   "cell_type": "markdown",
   "metadata": {
    "colab_type": "text",
    "id": "fe99E0BSB5r1"
   },
   "source": [
    "* Lưu ý: **f-string** được giới thiệu lần đầu tiên trong **Python 3.6**. Nếu bạn sử dụng **Python 3.5 hoặc cũ hơn**, bạn sẽ cần sử dụng phương thức **format()** thay vì cú pháp f này. Để sử dụng phương thức **format()** hãy liệt kê các biến bạn muốn sử dụng trong chuỗi bên trong dấu ngoặc đơn theo sau **format**. Mỗi biến được gọi bằng một bộ dấu ngoặc; các dấu ngoặc sẽ được điền bởi các giá trị được liệt kê trong ngoặc đơn theo thứ tự được cung cấp *:"
   ]
  },
  {
   "cell_type": "code",
   "execution_count": 12,
   "metadata": {
    "colab": {},
    "colab_type": "code",
    "id": "q9FhuOnpB5r2",
    "outputId": "5819304e-bf56-4962-e8f9-c232df6b8289"
   },
   "outputs": [
    {
     "name": "stdout",
     "output_type": "stream",
     "text": [
      "ada lovelace\n"
     ]
    }
   ],
   "source": [
    "full_name = \"{} {}\".format(first_name, last_name)\n",
    "print(full_name)"
   ]
  },
  {
   "cell_type": "markdown",
   "metadata": {
    "colab_type": "text",
    "id": "hPzDLmHaB5r5"
   },
   "source": [
    "### Thêm khoảng trắng vào chuỗi bởi tab hoặc dòng mới"
   ]
  },
  {
   "cell_type": "markdown",
   "metadata": {
    "colab_type": "text",
    "id": "ivC0BTOKB5r6"
   },
   "source": [
    "Trong lập trình, **khoảng trắng (whitespace)** đề cập đến **bất kỳ ký tự không in** nào, chẳng hạn như **khoảng trắng, tab và ký hiệu cuối dòng (end-of-line)**. Bạn có thể sử dụng khoảng trắng để sắp xếp output của mình để người dùng dễ đọc hơn."
   ]
  },
  {
   "cell_type": "markdown",
   "metadata": {
    "colab_type": "text",
    "id": "cYra25-vB5r7"
   },
   "source": [
    "Để thêm một **tab** vào văn bản của bạn, hãy sử dụng kết hợp ký tự **`\\t`** như dưới đây:"
   ]
  },
  {
   "cell_type": "code",
   "execution_count": 13,
   "metadata": {
    "colab": {},
    "colab_type": "code",
    "id": "QyI_w2G3B5r7",
    "outputId": "561c6afe-c279-4849-eadb-2986263b7592"
   },
   "outputs": [
    {
     "name": "stdout",
     "output_type": "stream",
     "text": [
      "Python\n",
      "\tPython\n"
     ]
    }
   ],
   "source": [
    "print(\"Python\")\n",
    "print(\"\\tPython\")"
   ]
  },
  {
   "cell_type": "markdown",
   "metadata": {
    "colab_type": "text",
    "id": "e_zBOqMwB5r_"
   },
   "source": [
    "Để **thêm một dòng mới** trong một chuỗi, sử dụng kết hợp ký tự **`\\n`**:"
   ]
  },
  {
   "cell_type": "code",
   "execution_count": 14,
   "metadata": {
    "colab": {},
    "colab_type": "code",
    "id": "VYmUVG9xB5sA",
    "outputId": "85de6665-6486-423e-f43a-637b31353eb4"
   },
   "outputs": [
    {
     "name": "stdout",
     "output_type": "stream",
     "text": [
      "Languages:\n",
      "Python\n",
      "C\n",
      "JavaScript\n"
     ]
    }
   ],
   "source": [
    "print(\"Languages:\\nPython\\nC\\nJavaScript\")"
   ]
  },
  {
   "cell_type": "markdown",
   "metadata": {
    "colab_type": "text",
    "id": "p9B5PwmBB5sD"
   },
   "source": [
    "Bạn cũng có thể kết hợp các tab và dòng mới trong một chuỗi. Chuỗi\n",
    "**`\"\\n\\t\"`** bảo Python chuyển sang một dòng mới và bắt đầu dòng tiếp theo bằng một tab. Ví dụ:"
   ]
  },
  {
   "cell_type": "code",
   "execution_count": 15,
   "metadata": {
    "colab": {},
    "colab_type": "code",
    "id": "dtjPRy7BB5sF",
    "outputId": "31f6d156-e49f-4563-f290-959b491d5bda"
   },
   "outputs": [
    {
     "name": "stdout",
     "output_type": "stream",
     "text": [
      "Languages:\n",
      "\tPython\n",
      "\tC\n",
      "\tJavaScript\n"
     ]
    }
   ],
   "source": [
    "print(\"Languages:\\n\\tPython\\n\\tC\\n\\tJavaScript\")"
   ]
  },
  {
   "cell_type": "markdown",
   "metadata": {
    "colab_type": "text",
    "id": "-G4boHeiB5sK"
   },
   "source": [
    "*Các dòng và tab mới sẽ rất hữu ích trong hai chương tiếp theo khi bạn bắt đầu tạo ra nhiều dòng đầu ra chỉ từ một vài dòng code.*"
   ]
  },
  {
   "cell_type": "markdown",
   "metadata": {
    "colab_type": "text",
    "id": "FAU63iyKB5sL"
   },
   "source": [
    "### Loại bỏ khoảng trắng"
   ]
  },
  {
   "cell_type": "markdown",
   "metadata": {
    "colab_type": "text",
    "id": "kNKA3-ecB5sM"
   },
   "source": [
    "Việc dư thừa khoảng trắng có thể gây nhầm lẫn trong các chương trình của bạn. Đối với các lập trình viên **'python'** và **'python '** trông khá giống nhau. Nhưng với một chương trình, hai chuỗi này thì khác nhau. Python phát hiện có khoảng trống bên trong string **'python '** và coi xem cái khoảng trống đó là hiện hữu có nghĩa."
   ]
  },
  {
   "cell_type": "markdown",
   "metadata": {
    "colab_type": "text",
    "id": "m3iZ-eUVB5sN"
   },
   "source": [
    "KHoảng trắng cũng khá là quan trọng, bởi vì thường thì bạn sẽ muốn so sánh hai chuỗi để xác định xem chúng có giống nhau không. Ví dụ: một trường hợp quan trọng có thể liên quan đến việc kiểm tra mọi người tên người dùng khi họ đăng nhập vào trang web. Khoảng trắng thừa có thể gây nhầm lẫn trong các tình huống đơn giản. May mắn thay, Python giúp dễ dàng loại bỏ khoảng trắng bên ngoài khỏi dữ liệu mà mọi người nhập vào. Python có thể tìm kiếm khoảng trắng thừa ở bên phải và bên trái của một chuỗi. Để đảm bảo rằng không có khoảng trắng nào tồn tại ở đầu bên phải của chuỗi, hãy sử dụng phương thức **`rstrip()`**."
   ]
  },
  {
   "cell_type": "code",
   "execution_count": 16,
   "metadata": {
    "colab": {},
    "colab_type": "code",
    "id": "fRsmzFItB5sN",
    "outputId": "e68c0cc9-7c22-465e-d9c9-cd797e925a1f"
   },
   "outputs": [
    {
     "name": "stdout",
     "output_type": "stream",
     "text": [
      "python \n",
      "python \n"
     ]
    }
   ],
   "source": [
    "favorite_language = 'python '\n",
    "print(favorite_language)\n",
    "favorite_language.rstrip()\n",
    "print(favorite_language)"
   ]
  },
  {
   "cell_type": "markdown",
   "metadata": {
    "colab_type": "text",
    "id": "epeS8RN3B5sQ"
   },
   "source": [
    "Giá trị được liên kết với biến**`favorite_language`** là một chuỗi có chứa thêm khoảng trắng ở cuối chuỗi. Khi bạn **hỏi Python về giá trị này (truy cập đến giá trị này á)** trong dòng 2 thì nó sẽ xuất ra chuỗi có chữ và có một khoảng trắng(dù không thấy được). Khi phương thức **rstrip()** được gọi thực hiện bởi biến **favorite_language** tại dòng 3, khoảng trắng thừa này sẽ bị xóa. Tuy nhiên, nó chỉ được gỡ bỏ tạm thời. Nếu bạn kiểm tra lại giá trị của **favorite_language** đang tham chiếu tới, bạn có thể thấy chuỗi đó trông giống như khi được nhập (vẫn còn khoảng trắng)."
   ]
  },
  {
   "cell_type": "code",
   "execution_count": 17,
   "metadata": {
    "colab": {},
    "colab_type": "code",
    "id": "f7Ak1i_EB5sR",
    "outputId": "5d58a7a9-c837-447e-e03e-cc6eb5f9c167"
   },
   "outputs": [
    {
     "name": "stdout",
     "output_type": "stream",
     "text": [
      "python aa\n"
     ]
    }
   ],
   "source": [
    "print(f\"{favorite_language}\" +\"aa\")"
   ]
  },
  {
   "cell_type": "markdown",
   "metadata": {
    "colab_type": "text",
    "id": "XQENnE5gB5sT"
   },
   "source": [
    "Để **xóa khoảng trắng khỏi chuỗi vĩnh viễn**, bạn phải liên kết giá trị bị xóa với tên biến:"
   ]
  },
  {
   "cell_type": "code",
   "execution_count": 18,
   "metadata": {
    "colab": {},
    "colab_type": "code",
    "id": "o3nAeFBSB5sU",
    "outputId": "4cfa3a64-070b-4c39-8302-7882a3310f5a"
   },
   "outputs": [
    {
     "name": "stdout",
     "output_type": "stream",
     "text": [
      "python\n"
     ]
    }
   ],
   "source": [
    "favorite_language = 'python '\n",
    "favorite_language = favorite_language.rstrip()\n",
    "print(favorite_language)"
   ]
  },
  {
   "cell_type": "markdown",
   "metadata": {
    "colab_type": "text",
    "id": "oDPFScaDB5sX"
   },
   "source": [
    "Để xóa khoảng trắng khỏi chuỗi một cách vĩnh viễn, bạn xóa khoảng trắng từ phía bên phải của chuỗi và sau đó liên kết giá trị mới này với biến ban đầu. Việc thay đổi giá trị biến được thực hiện thường xuyên trong lập trình. Đây là cách giá trị của biến có thể được cập nhật khi chương trình được thực thi hoặc đáp ứng với đầu vào của người dùng."
   ]
  },
  {
   "cell_type": "markdown",
   "metadata": {
    "colab_type": "text",
    "id": "RHlfbwPyB5sY"
   },
   "source": [
    "Bạn cũng có thể **xóa khoảng trắng từ bên trái** của chuỗi bằng cách sử dụng Phương thức **`lstrip()`** hoặc từ **cả hai phía** cùng một lúc bằng cách sử dụng **`strip()`**:"
   ]
  },
  {
   "cell_type": "code",
   "execution_count": 19,
   "metadata": {
    "colab": {},
    "colab_type": "code",
    "id": "VuunWsKWB5sZ",
    "outputId": "3a6fd674-2e39-4d97-95ac-86b853f35d81"
   },
   "outputs": [
    {
     "name": "stdout",
     "output_type": "stream",
     "text": [
      "aaa python aaa\n",
      "aaa python aaa\n",
      "aaa python aaa\n"
     ]
    }
   ],
   "source": [
    "favorite_language = ' python '\n",
    "\n",
    "favorite_language.rstrip()\n",
    "print(\"aaa\" + favorite_language + \"aaa\")\n",
    "\n",
    "favorite_language.lstrip()\n",
    "print(\"aaa\" + favorite_language + \"aaa\")\n",
    "\n",
    "favorite_language.strip()\n",
    "print(\"aaa\" + favorite_language + \"aaa\")"
   ]
  },
  {
   "cell_type": "markdown",
   "metadata": {
    "colab_type": "text",
    "id": "XtIOYzqRB5sc"
   },
   "source": [
    "*Thử nghiệm với các phương thức **strip** này có thể giúp bạn làm quen với các thao tác chuỗi(string operations). Trong thế giới thực, các phương thức **strip** này được sử dụng thường xuyên nhất để clean input từ người dùng trước khi nó được lưu trữ trong một chương trình.*"
   ]
  },
  {
   "cell_type": "markdown",
   "metadata": {
    "colab_type": "text",
    "id": "EH9wNxN0B5sd"
   },
   "source": [
    "### Tránh lỗi cú pháp (Syntax Error) trong Strings"
   ]
  },
  {
   "cell_type": "markdown",
   "metadata": {
    "colab_type": "text",
    "id": "BGcDPipZB5se"
   },
   "source": [
    "- Một loại lỗi mà bạn có thể thấy với một số thông thường là lỗi cú pháp (syntax error). Lỗi cú pháp xảy ra là có lý do, do ở người lập trình chứ không phải tự nhiên sinh ra và cũng phải tự nhiên mất đi mà chỉ chuyển từ lỗi này sang lỗi khác(nói vui vậy thôi), **Syntax Error** xuất hiện khi Python nhận ra bất kì dòng code hay đoạn code nào của bạn không hợp lệ. Hợp lệ ở đây là phải tuân theo quy tắc cú pháp của ngôn ngữ lập trình, cụ thể ở đây là cú pháp của ngôn ngữ Python.\n",
    "- **Ví dụ**: nếu bạn sử dụng **dấu nháy đơn trong các dấu nháy đơn**, bạn sẽ tạo ra lỗi. Điều này xảy ra bởi vì Python diễn giải mọi thứ giữa trích dẫn đơn đầu tiên và dấu nháy đơn dưới dạng chuỗi. Sau đó, nó diễn giải phần còn lại của văn bản là mã Python, và điều này gây ra lỗi."
   ]
  },
  {
   "cell_type": "code",
   "execution_count": 20,
   "metadata": {
    "colab": {},
    "colab_type": "code",
    "id": "i3I5YbHkB5se",
    "outputId": "4a6287f8-3508-4156-853e-6ba439ac8b20"
   },
   "outputs": [
    {
     "name": "stdout",
     "output_type": "stream",
     "text": [
      "One of Python's strengths is its diverse community.\n"
     ]
    }
   ],
   "source": [
    "message = \"One of Python's strengths is its diverse community.\"\n",
    "print(message)"
   ]
  },
  {
   "cell_type": "markdown",
   "metadata": {
    "colab_type": "text",
    "id": "OaHjlE47B5sh"
   },
   "source": [
    "- Đoạn code trên không vi phạm lỗi cú pháp(syntax error) vì bên ngoài một string là dấu nháy kép(double quotes) cho nên dấu nháy đơn xuất hiện trong string là hợp lệ. Hãy xem xét đoạn code dưới đây:"
   ]
  },
  {
   "cell_type": "code",
   "execution_count": 21,
   "metadata": {
    "colab": {},
    "colab_type": "code",
    "id": "q4agFl6xB5sh",
    "outputId": "263b0c75-923f-4d1a-b825-616b28605e4b"
   },
   "outputs": [
    {
     "ename": "SyntaxError",
     "evalue": "invalid syntax (<ipython-input-21-a9250de55b39>, line 1)",
     "output_type": "error",
     "traceback": [
      "\u001b[1;36m  File \u001b[1;32m\"<ipython-input-21-a9250de55b39>\"\u001b[1;36m, line \u001b[1;32m1\u001b[0m\n\u001b[1;33m    message = 'One of Python's strengths is its diverse community.'\u001b[0m\n\u001b[1;37m                             ^\u001b[0m\n\u001b[1;31mSyntaxError\u001b[0m\u001b[1;31m:\u001b[0m invalid syntax\n"
     ]
    }
   ],
   "source": [
    "message = 'One of Python's strengths is its diverse community.'\n",
    "print(message)"
   ]
  },
  {
   "cell_type": "markdown",
   "metadata": {
    "colab_type": "text",
    "id": "XR_5v9DiB5sk"
   },
   "source": [
    "- Bạn có thể thấy rằng lỗi xảy ra ở **ngay sau dấu nháy đơn thứ 2**. Lỗi cú pháp này chỉ ra rằng trình thông dịch không nhận ra một cái gì đó trong đoạn code là code Python hợp lệ.\n",
    "- Lỗi có thể đến từ nhiều nguồn, nhiều lý do rất đa dạng và phong phú :) . Bạn có thể thấy lỗi cú pháp thường xuyên khi bạn học cách viết code Python. Lỗi cú pháp cũng là loại lỗi ít cụ thể nhất, vì vậy chúng có thể gây khó khăn và bực bội để xác định và sửa lỗi."
   ]
  },
  {
   "cell_type": "markdown",
   "metadata": {
    "colab_type": "text",
    "id": "TUEV6MMoB5sl"
   },
   "source": [
    "*Tính năng highlight cú pháp của editor của bạn sẽ giúp bạn nhanh chóng phát hiện ra một số lỗi cú pháp khi bạn viết chương trình của mình. Nhưng ở dây, trong Jupyter bạn không có highlight để xe đâu nhé. Nên hãy cứ thử thoải mái, có sai thì trackback lại, và **fix bug**.*"
   ]
  },
  {
   "cell_type": "markdown",
   "metadata": {
    "colab_type": "text",
    "id": "6Kw-20jiB5sm"
   },
   "source": [
    "### Test yourself"
   ]
  },
  {
   "cell_type": "markdown",
   "metadata": {
    "colab_type": "text",
    "id": "MX7X6VxcB5sn"
   },
   "source": [
    "3. **Personal Message**: Use a variable to represent a person’s name, and print a message to that person. Your message should be simple, such as, “Hello Eric, would you like to learn some Python today?”"
   ]
  },
  {
   "cell_type": "code",
   "execution_count": 22,
   "metadata": {
    "colab": {},
    "colab_type": "code",
    "id": "xh5vMNNfB5sp"
   },
   "outputs": [],
   "source": [
    "# Personal Message"
   ]
  },
  {
   "cell_type": "markdown",
   "metadata": {
    "colab_type": "text",
    "id": "Kq8dzLt8B5st"
   },
   "source": [
    "4. **Name Cases**: Use a variable to represent a person’s name, and then print that person’s name in lowercase, uppercase, and title case."
   ]
  },
  {
   "cell_type": "code",
   "execution_count": 23,
   "metadata": {
    "colab": {},
    "colab_type": "code",
    "id": "zIHpRcS8B5st"
   },
   "outputs": [],
   "source": [
    "# Name Cases"
   ]
  },
  {
   "cell_type": "markdown",
   "metadata": {
    "colab_type": "text",
    "id": "CbBHMI2xB5sx"
   },
   "source": [
    "5. **Famous Quote**: Find a quote from a famous person you admire. Print the quote and the name of its author. Your output should look something like the following, including the quotation marks: **`Albert Einstein once said, “A person who never made a mistake never tried anything new.”`**"
   ]
  },
  {
   "cell_type": "code",
   "execution_count": 24,
   "metadata": {
    "colab": {},
    "colab_type": "code",
    "id": "f6lHfW2RB5sx"
   },
   "outputs": [],
   "source": [
    "# Famous Quote"
   ]
  },
  {
   "cell_type": "markdown",
   "metadata": {
    "colab_type": "text",
    "id": "8JGJef_vB5s2"
   },
   "source": [
    "6. **Famous Quote 2**: Repeat Exercise 2-5, but this time, represent the famous person’s name using a variable called famous_person. Then compose your message and represent it with a new variable called message. Print your message."
   ]
  },
  {
   "cell_type": "code",
   "execution_count": 25,
   "metadata": {
    "colab": {},
    "colab_type": "code",
    "id": "mP73kiyXB5s3"
   },
   "outputs": [],
   "source": [
    "# Famous quote 2"
   ]
  },
  {
   "cell_type": "markdown",
   "metadata": {
    "colab_type": "text",
    "id": "ycyNNGfYB5s5"
   },
   "source": [
    "7. **Stripping Names**: Use a variable to represent a person’s name, and include some whitespace characters at the beginning and end of the name. Make sure you use each character combination, \"\\t\" and \"\\n\", at least once. Print the name once, so the whitespace around the name is displayed. Then print the name using each of the three stripping functions, lstrip(), rstrip(), and strip()."
   ]
  },
  {
   "cell_type": "code",
   "execution_count": 26,
   "metadata": {
    "colab": {},
    "colab_type": "code",
    "id": "BfMTsD32B5s5"
   },
   "outputs": [],
   "source": [
    "# Stripping Names"
   ]
  },
  {
   "cell_type": "markdown",
   "metadata": {
    "colab_type": "text",
    "id": "py_BrNgCB5s8"
   },
   "source": [
    "## 3. Kiểu dữ liệu số"
   ]
  },
  {
   "cell_type": "markdown",
   "metadata": {
    "colab_type": "text",
    "id": "84P1n-SUB5s9"
   },
   "source": [
    "**Numbers(số)** được sử dụng khá thường xuyên trong lập trình để giữ lưu trong các trò chơi, thể hiện dữ liệu trong trực quan hóa, lưu trữ thông tin trong các ứng dụng web,... Python xử lý các numbers theo nhiều cách khác nhau, tùy thuộc vào cách chúng được sử dụng. Trước tiên, hãy nhìn vào cách Python quản lý các số nguyên, bởi vì chúng là đơn giản nhất để làm việc."
   ]
  },
  {
   "cell_type": "markdown",
   "metadata": {
    "colab_type": "text",
    "id": "YQ7AfQnYB5s9"
   },
   "source": [
    "### Interger"
   ]
  },
  {
   "cell_type": "markdown",
   "metadata": {
    "colab_type": "text",
    "id": "U9AJBFKbB5s-"
   },
   "source": [
    "Bạn có thể thực hiện các phép toán cộng **`(+)`**, trừ **`(-)`**, nhân **`(*)`** và chia **`(/)`** số nguyên trong Python:"
   ]
  },
  {
   "cell_type": "code",
   "execution_count": 27,
   "metadata": {
    "colab": {},
    "colab_type": "code",
    "id": "4B1-aObeB5s-",
    "outputId": "27535fb3-2cb5-485c-cf97-b8cac81e05dc"
   },
   "outputs": [
    {
     "name": "stdout",
     "output_type": "stream",
     "text": [
      "5\n",
      "-9\n",
      "0.6666666666666666\n",
      "2.0\n"
     ]
    }
   ],
   "source": [
    "print(2 + 3)\n",
    "print(1 - 10)\n",
    "print(2/3)\n",
    "print(4/2)"
   ]
  },
  {
   "cell_type": "markdown",
   "metadata": {
    "colab_type": "text",
    "id": "TM1inyFNB5tA"
   },
   "source": [
    "Sử dụng two multiplication sysbols `**` để thực hiện phép toán **lũy thừa(exponent)**:"
   ]
  },
  {
   "cell_type": "code",
   "execution_count": 28,
   "metadata": {
    "colab": {},
    "colab_type": "code",
    "id": "GaZI8cVvB5tB",
    "outputId": "b8dfac64-6ae6-42c1-cc32-e79dd5a2d4a0"
   },
   "outputs": [
    {
     "name": "stdout",
     "output_type": "stream",
     "text": [
      "27\n",
      "100\n",
      "0.5\n"
     ]
    }
   ],
   "source": [
    "print(3**3)\n",
    "print(10**2)\n",
    "print(2**-1)"
   ]
  },
  {
   "cell_type": "markdown",
   "metadata": {
    "colab_type": "text",
    "id": "rBWrev6RB5tE"
   },
   "source": [
    "Python cũng hỗ trợ **thứ tự các thao tác**, vì vậy bạn có thể sử dụng nhiều toán tử trong một biểu thức. Bạn cũng có thể sử dụng **dấu ngoặc đơn để sửa đổi thứ tự các thao tác** để kết quả biểu thức của bạn đúng theo thứ tự bạn chỉ định. Ví dụ:"
   ]
  },
  {
   "cell_type": "code",
   "execution_count": 29,
   "metadata": {
    "colab": {},
    "colab_type": "code",
    "id": "iDIaG1MPB5tF",
    "outputId": "63d0ecbd-53e5-4de9-a0b2-49f0ff38aa53"
   },
   "outputs": [
    {
     "name": "stdout",
     "output_type": "stream",
     "text": [
      "14\n",
      "20\n"
     ]
    }
   ],
   "source": [
    "print(2+3*4)\n",
    "print((2+3)*4)"
   ]
  },
  {
   "cell_type": "markdown",
   "metadata": {
    "colab_type": "text",
    "id": "lBiF7qKRB5tH"
   },
   "source": [
    "*Khoảng cách trong các biểu thức không ảnh hưởng đến cách Python valuate các biểu thức; nó chỉ đơn giản giúp bạn nhanh chóng phát hiện ra các toán tử được ưu tiên thực hiện trước khi đọc code.*"
   ]
  },
  {
   "cell_type": "markdown",
   "metadata": {
    "colab_type": "text",
    "id": "ymon9_iUB5tH"
   },
   "source": [
    "### Floats"
   ]
  },
  {
   "cell_type": "markdown",
   "metadata": {
    "colab_type": "text",
    "id": "a5FdQiI6B5tI"
   },
   "source": [
    "Python gọi bất kỳ **số nào có dấu `decimal point(dấu chấm thập phân)`** là **`float`**. Thuật ngữ này được sử dụng trong hầu hết các ngôn ngữ lập trình và thực tế điều mà nó đề cập là một dấu chấm thập phân có thể xuất hiện ở bất kỳ vị trí nào trong một số. Mọi ngôn ngữ lập trình phải được thiết kế cẩn thận để quản lý đúng các số thập phân để các số hoạt động phù hợp cho dù dấu chấm thập phân ở đâu xuất hiện."
   ]
  },
  {
   "cell_type": "code",
   "execution_count": 30,
   "metadata": {
    "colab": {},
    "colab_type": "code",
    "id": "Kt8yWJOiB5tJ",
    "outputId": "9a827e73-52b3-4623-aead-7afa39658718"
   },
   "outputs": [
    {
     "name": "stdout",
     "output_type": "stream",
     "text": [
      "0.2\n",
      "-10.899999999999999\n",
      "0.4\n",
      "-21.0\n"
     ]
    }
   ],
   "source": [
    "print(0.1 + 0.1)\n",
    "print(0.3 - 11.2)\n",
    "print(2 * 0.2)\n",
    "print(-10.5 * 2)"
   ]
  },
  {
   "cell_type": "markdown",
   "metadata": {
    "colab_type": "text",
    "id": "KST--W0pB5tL"
   },
   "source": [
    "Đôi khi bạn sẽ thấy kết quả không như mong đợi cho lắm. Như trường hợp ở trên: $0.3 - 11.2 = -10.89999999999$, đó là chuyện bình thường nhé, kết quả cũng gần chính xác lắm rồi, còn lý do tại sao thì tự tìm hiểu nhé."
   ]
  },
  {
   "cell_type": "markdown",
   "metadata": {
    "colab_type": "text",
    "id": "hR_zuzEuB5tL"
   },
   "source": [
    "### Intergers and Floats"
   ]
  },
  {
   "cell_type": "markdown",
   "metadata": {
    "colab_type": "text",
    "id": "QD65TuByB5tM"
   },
   "source": [
    "Khi bạn **chia hai số bất kỳ**, ngay cả khi chúng là các số nguyên dẫn đến một số nguyên, bạn sẽ **luôn nhận được một số float**:"
   ]
  },
  {
   "cell_type": "code",
   "execution_count": 31,
   "metadata": {
    "colab": {},
    "colab_type": "code",
    "id": "zVoHoiTwB5tN",
    "outputId": "3cdbfed1-c29b-47b5-f3de-325290b7028a"
   },
   "outputs": [
    {
     "name": "stdout",
     "output_type": "stream",
     "text": [
      "0.5\n",
      "2.0\n",
      "7.000000000000001\n",
      "3.0\n"
     ]
    }
   ],
   "source": [
    "print(1/2)\n",
    "print(4/2)\n",
    "print(2.1/0.3)\n",
    "print(-12/-4)"
   ]
  },
  {
   "cell_type": "markdown",
   "metadata": {
    "colab_type": "text",
    "id": "m9S7P7vVB5tP"
   },
   "source": [
    "Python mặc định **kiểu dữ liệu** đầu ra là **float** trong bất kỳ phép toán nào sử dụng **float**, ngay cả khi đầu ra là một số nguyên theo cách con người tính toán."
   ]
  },
  {
   "cell_type": "markdown",
   "metadata": {
    "colab_type": "text",
    "id": "krKpWIdEB5tQ"
   },
   "source": [
    "### Underscores in Numbers"
   ]
  },
  {
   "cell_type": "markdown",
   "metadata": {
    "colab_type": "text",
    "id": "m-C03F_2B5tQ"
   },
   "source": [
    "Khi bạn **viết một số rất dài**, bạn có thể **nhóm các chữ số** bằng cách sử dụng **dấu gạch dưới(underscore)** để làm cho số lớn dễ đọc hơn:"
   ]
  },
  {
   "cell_type": "code",
   "execution_count": 32,
   "metadata": {
    "colab": {},
    "colab_type": "code",
    "id": "5_G_wlHNB5tR",
    "outputId": "22180c6c-2690-47e2-cc59-1886833ed58b"
   },
   "outputs": [
    {
     "name": "stdout",
     "output_type": "stream",
     "text": [
      "1200000000\n"
     ]
    }
   ],
   "source": [
    "my_number = 1_200_000_000\n",
    "print(my_number)"
   ]
  },
  {
   "cell_type": "markdown",
   "metadata": {
    "colab_type": "text",
    "id": "CU1Bo4a2B5tT"
   },
   "source": [
    "Python bỏ qua dấu gạch dưới(underscore) khi lưu trữ các loại giá trị này. Ngay cả khi bạn không nhóm chữ số thành 3 số một nhóm thì giá trị vẫn sẽ không bị ảnh hưởng. **Đối với Python, 1000 giống với 1_000, tương đương với 10_00. Điểm này hoạt động cho số nguyên và số float, nhưng nó chỉ có sẵn trong Python 3.6 trở lên.**"
   ]
  },
  {
   "cell_type": "markdown",
   "metadata": {
    "colab_type": "text",
    "id": "JvpsnXt7B5tT"
   },
   "source": [
    "### Multiple Assignment"
   ]
  },
  {
   "cell_type": "markdown",
   "metadata": {
    "colab_type": "text",
    "id": "sJckDW0TB5tU"
   },
   "source": [
    "Bạn có thể **gán nhiều giá trị** cho **nhiều biến** chỉ bằng một dòng code. Điều này có thể giúp rút ngắn chương trình của bạn và làm cho chúng dễ đọc hơn; bạn sẽ sử dụng kỹ thuật này thường xuyên nhất khi khởi tạo một bộ số."
   ]
  },
  {
   "cell_type": "code",
   "execution_count": 33,
   "metadata": {
    "colab": {},
    "colab_type": "code",
    "id": "H0FR6czYB5tU",
    "outputId": "09a68a7b-7018-47bd-e97e-3c651d96de94"
   },
   "outputs": [
    {
     "name": "stdout",
     "output_type": "stream",
     "text": [
      "x =  Bưởi\n",
      "y =  1\n",
      "z =  -1.2\n"
     ]
    }
   ],
   "source": [
    "x, y, z = \"Bưởi\", 1, -1.2\n",
    "print(\"x = \", x)\n",
    "print(\"y = \", y)\n",
    "print(\"z = \", z)"
   ]
  },
  {
   "cell_type": "markdown",
   "metadata": {
    "colab_type": "text",
    "id": "ykA58EAwB5tW"
   },
   "source": [
    "Bạn cần tách tên biến bằng dấu phẩy và thực hiện giống với các giá trị và Python sẽ gán từng giá trị cho biến được xác định vị tương ứng của nó. Miễn là số lượng giá trị khớp với số lượng biến, Python sẽ match chúng chính xác."
   ]
  },
  {
   "cell_type": "markdown",
   "metadata": {
    "colab_type": "text",
    "id": "4jN_O0AFB5tX"
   },
   "source": [
    "### Constants"
   ]
  },
  {
   "cell_type": "markdown",
   "metadata": {
    "colab_type": "text",
    "id": "AI4OJzRPB5tX"
   },
   "source": [
    "Một **`constant`(hằng số)** giống như một biến có giá trị bất biến trong suốt chương trình, không bị thay đổi từ lúc chạy chương trình đến lúc kết thúc. Python không có các **built-in constant types**, nhưng các lập trình viên Python sử dụng tất cả các **chữ in hoa** để chỉ ra một biến nên được coi là **một hằng và không bao giờ được thay đổi**:"
   ]
  },
  {
   "cell_type": "code",
   "execution_count": 34,
   "metadata": {
    "colab": {},
    "colab_type": "code",
    "id": "iV8XksokB5tY"
   },
   "outputs": [],
   "source": [
    "MAX_CONNECTION = 5000"
   ]
  },
  {
   "cell_type": "markdown",
   "metadata": {
    "colab_type": "text",
    "id": "sBAZHyyYB5tZ"
   },
   "source": [
    "Khi bạn muốn một biến là một hằng số trong code của mình, hãy đặt tên của biến bằng toàn bộ chữ cái in hoa."
   ]
  },
  {
   "cell_type": "markdown",
   "metadata": {
    "colab_type": "text",
    "id": "SRkJ5m-ZB5tc"
   },
   "source": [
    "### Test Yourself"
   ]
  },
  {
   "cell_type": "markdown",
   "metadata": {
    "colab_type": "text",
    "id": "rWsfYCs9B5tc"
   },
   "source": [
    "8. **Number Eight**: Write addition, subtraction, multiplication, and division operations that each result in the number 8. Be sure to enclose your operations in print() calls to see the results."
   ]
  },
  {
   "cell_type": "code",
   "execution_count": 35,
   "metadata": {
    "colab": {},
    "colab_type": "code",
    "id": "o2lZgxCEB5td"
   },
   "outputs": [],
   "source": [
    "# Number Eight"
   ]
  },
  {
   "cell_type": "markdown",
   "metadata": {
    "colab_type": "text",
    "id": "ocAFZEHPB5te"
   },
   "source": [
    "9. **Favorite Number**: Use a variable to represent your favorite number. Then, using that variable, create a message that reveals your favorite number. Print that message."
   ]
  },
  {
   "cell_type": "code",
   "execution_count": 36,
   "metadata": {
    "colab": {},
    "colab_type": "code",
    "id": "xTqlAtPLB5tf"
   },
   "outputs": [],
   "source": [
    "# Favorite Number"
   ]
  },
  {
   "cell_type": "markdown",
   "metadata": {
    "colab_type": "text",
    "id": "PboNL6IfB5tj"
   },
   "source": [
    "## 4. Comments"
   ]
  },
  {
   "cell_type": "markdown",
   "metadata": {
    "colab_type": "text",
    "id": "PaRweCryB5tj"
   },
   "source": [
    "**`Comments`** là một tính năng cực kỳ hữu ích trong hầu hết các ngôn ngữ lập trình. Mọi thứ bạn đã viết trong các chương trình của mình cho đến nay là code Python(đôi khi tôi lại commments, ví dụ như mới thì). Khi các **chương trình** của bạn trở nên **dài hơn** và **phức tạp hơn**, bạn nên **thêm các ghi chú** trong các chương trình **mô tả cách tiếp cận tổng thể của bạn** đối với vấn đề bạn giải quyết. Một **comments** cho phép bạn viết ghi chú bằng tiếng Anh trong các chương trình của bạn."
   ]
  },
  {
   "cell_type": "markdown",
   "metadata": {
    "colab_type": "text",
    "id": "SmtsTa5wB5tk"
   },
   "source": [
    "### How Do You Write Comments?"
   ]
  },
  {
   "cell_type": "markdown",
   "metadata": {
    "colab_type": "text",
    "id": "kuWSyF-kB5tl"
   },
   "source": [
    "Trong Python, **the hash mark** - `dấu thăng (#)` biểu thị một comment. Bất cứ điều gì sau hash mark trong dòng code chứa dấu `#` đều bị trình thông dịch Python bỏ qua. Ví dụ:"
   ]
  },
  {
   "cell_type": "code",
   "execution_count": 37,
   "metadata": {
    "colab": {},
    "colab_type": "code",
    "id": "MuMLCzL3B5tm",
    "outputId": "3a24f8f1-aff9-4944-f05f-8c7bc7df5d4b"
   },
   "outputs": [
    {
     "name": "stdout",
     "output_type": "stream",
     "text": [
      "Hello Python people!\n"
     ]
    }
   ],
   "source": [
    "# Say hello to everyone.\n",
    "print(\"Hello Python people!\")"
   ]
  },
  {
   "cell_type": "markdown",
   "metadata": {
    "colab_type": "text",
    "id": "IylbBCsxB5tq"
   },
   "source": [
    "Python bỏ qua dòng đầu tiên và thực thi dòng thứ hai."
   ]
  },
  {
   "cell_type": "markdown",
   "metadata": {
    "colab_type": "text",
    "id": "jBXtHxxkB5tq"
   },
   "source": [
    "### What Kind of Comments Should You Write?"
   ]
  },
  {
   "cell_type": "markdown",
   "metadata": {
    "colab_type": "text",
    "id": "TU8NLoZRB5tr"
   },
   "source": [
    "**Lý do** chính để viết comments là để **giải thích những gì code của bạn phải làm và cách bạn làm cho nó hoạt động**. Khi bạn làm việc trong một project (dự án), bạn sẽ hiểu làm thế nào tất cả các phần hòa hợp với nhau. Nhưng khi bạn quay lại một dự án sau một thời gian, bạn có thể đã quên một số chi tiết. Bạn luôn có thể nghiền ngẫm code của mình trong một thời gian và tìm hiểu cách các phân đoạn được cho là hoạt động, nhưng viết comments tốt có thể giúp bạn tiết kiệm thời gian bằng cách tóm tắt cách tiếp cận tổng thể của bạn bằng tiếng Anh một cách rõ ràng."
   ]
  },
  {
   "cell_type": "markdown",
   "metadata": {
    "colab_type": "text",
    "id": "zv4x2t-7B5tr"
   },
   "source": [
    "Nếu bạn muốn trở thành một lập trình viên chuyên nghiệp hoặc cộng tác với lập trình viên khác, bạn nên viết **`bình luận có tâm`**. Ngày nay, hầu hết các phần mềm được viết một cách cooperation, cho dù bởi một nhóm nhân viên tại một công ty hay một nhóm người làm việc cùng nhau trong một dự án mã nguồn mở. Các lập trình viên có kỹ năng pro để xem các bình luận trong code, vì vậy, tốt nhất là bắt đầu thêm các comments mô tả vào các chương trình của bạn ngay bây giờ. Viết commetns rõ ràng, súc tích trong code của bạn là một trong những thói quen có lợi nhất mà bạn có thể hình thành đối với một lập trình viên mới."
   ]
  },
  {
   "cell_type": "markdown",
   "metadata": {
    "colab_type": "text",
    "id": "AwPHOrW9B5ts"
   },
   "source": [
    "**Khi bạn xác định có nên viết comments hay không**, hãy tự hỏi mình nếu bạn đã phải xem xét một số cách tiếp cận trước khi đưa ra một cách hợp lý để làm cho một cái gì đó hoạt động; nếu vậy, viết bình luận về giải pháp của bạn. Nó dễ dàng xóa các bình luận thêm sau này hơn là quay lại và viết bình luận cho một chương trình ít comments. Từ giờ trở đi, tôi sẽ sử dụng các comments trong các ví dụ trong suốt các notebook sau (xin lỗi vì thói quen sử dụng trước rồi :), không sao mà hén)."
   ]
  },
  {
   "cell_type": "markdown",
   "metadata": {
    "colab_type": "text",
    "id": "8hhZiL26B5tt"
   },
   "source": [
    "### Test Yourself"
   ]
  },
  {
   "cell_type": "markdown",
   "metadata": {
    "colab_type": "text",
    "id": "Y0P-cqVBB5tt"
   },
   "source": [
    "10. **Adding Comments**: Choose two of the programs you’ve written, and add at least one comment to each. If you don’t have anything specific to write because your programs are too simple at this point, just add your name and the current date at the top of each program file. Then write one sentence describing what the program does."
   ]
  },
  {
   "cell_type": "markdown",
   "metadata": {
    "colab_type": "text",
    "id": "0qyiSZsKB5tu"
   },
   "source": [
    "## 5. The Zen of Python"
   ]
  },
  {
   "cell_type": "markdown",
   "metadata": {
    "colab_type": "text",
    "id": "tRjLuwX-B5tu"
   },
   "source": [
    "Các lập trình viên Python có kinh nghiệm khuyến khích bạn **tránh sự phức tạp và hướng tới sự đơn giản bất cứ khi nào có thể**. Triết lý Community của Python có trong **`The Zen of Zen`** của Python đươc tạo bởi Tim Peters. Bạn có thể tìm bộ nguyên tắc ngắn gọn này để viết code Python tốt bằng cách nhập lệnh **`import this`** vào chương trình:"
   ]
  },
  {
   "cell_type": "code",
   "execution_count": 38,
   "metadata": {
    "colab": {},
    "colab_type": "code",
    "id": "SifWh5oXB5tv",
    "outputId": "fe90f9db-0107-4449-83f2-1b08ce8a61d9"
   },
   "outputs": [
    {
     "name": "stdout",
     "output_type": "stream",
     "text": [
      "The Zen of Python, by Tim Peters\n",
      "\n",
      "Beautiful is better than ugly.\n",
      "Explicit is better than implicit.\n",
      "Simple is better than complex.\n",
      "Complex is better than complicated.\n",
      "Flat is better than nested.\n",
      "Sparse is better than dense.\n",
      "Readability counts.\n",
      "Special cases aren't special enough to break the rules.\n",
      "Although practicality beats purity.\n",
      "Errors should never pass silently.\n",
      "Unless explicitly silenced.\n",
      "In the face of ambiguity, refuse the temptation to guess.\n",
      "There should be one-- and preferably only one --obvious way to do it.\n",
      "Although that way may not be obvious at first unless you're Dutch.\n",
      "Now is better than never.\n",
      "Although never is often better than *right* now.\n",
      "If the implementation is hard to explain, it's a bad idea.\n",
      "If the implementation is easy to explain, it may be a good idea.\n",
      "Namespaces are one honking great idea -- let's do more of those!\n"
     ]
    }
   ],
   "source": [
    "import this"
   ]
  },
  {
   "cell_type": "markdown",
   "metadata": {
    "colab_type": "text",
    "id": "UMBp0wL2B5tw"
   },
   "source": [
    "### Chúng ta cùng chiêm nghiệm để hiểu một vài Zen of Python nhé:"
   ]
  },
  {
   "cell_type": "markdown",
   "metadata": {
    "colab_type": "text",
    "id": "5uTrBv3ZB5tx"
   },
   "source": [
    "#### Beautiful is better than ugly."
   ]
  },
  {
   "cell_type": "markdown",
   "metadata": {
    "colab_type": "text",
    "id": "JMbf2pJSB5tx"
   },
   "source": [
    "Các lập trình viên Python chấp nhận khái niệm rằng code có thể đẹp và thanh lịch. Trong lập trình, con người giải quyết vấn đề. Các lập trình viên luôn tôn trọng các giải pháp được thiết kế tốt, hiệu quả và thậm chí là đẹp cho các vấn đề. Khi bạn tìm hiểu thêm về Python và sử dụng nó để viết thêm code, một ngày nào đó ai đó có thể nhìn qua vai bạn và nói: `\"Wow, wow ! That's some beautiful code !\"`."
   ]
  },
  {
   "cell_type": "markdown",
   "metadata": {
    "colab_type": "text",
    "id": "cxGpqu4cB5ty"
   },
   "source": [
    "#### Simple is better than complex."
   ]
  },
  {
   "cell_type": "markdown",
   "metadata": {
    "colab_type": "text",
    "id": "g3cI-4kIB5ty"
   },
   "source": [
    "Nếu bạn có sự lựa chọn giữa một giải pháp đơn giản và phức tạp, và cả hai đều hoạt động, hãy sử dụng giải pháp đơn giản. Code của bạn sẽ dễ bảo trì hơn và bạn và những người khác sẽ dễ dàng xây dựng cái thứ khác dựa trên code của bạn hơn."
   ]
  },
  {
   "cell_type": "markdown",
   "metadata": {
    "colab_type": "text",
    "id": "7BwcFJimB5tz"
   },
   "source": [
    "#### Complex is better than complicated."
   ]
  },
  {
   "cell_type": "markdown",
   "metadata": {
    "colab_type": "text",
    "id": "ilCITN_gB5tz"
   },
   "source": [
    "Cuộc sống thực tế là lộn xộn, và đôi khi một giải pháp đơn giản cho một vấn đề là không thể đạt được. Trong trường hợp đó, sử dụng giải pháp đơn giản nhất mà code."
   ]
  },
  {
   "cell_type": "markdown",
   "metadata": {
    "colab_type": "text",
    "id": "GCE3KBoIB5t0"
   },
   "source": [
    "#### Readability counts."
   ]
  },
  {
   "cell_type": "markdown",
   "metadata": {
    "colab_type": "text",
    "id": "2dNz57tRB5t1"
   },
   "source": [
    "Ngay cả khi code của bạn phức tạp, hãy đặt mục tiêu làm cho nó dễ đọc hơn. Khi bạn làm việc trong một dự án liên quan đến các đoạn code phức tạp, hãy tập trung vào viết comments thông tin cho đoạn code đó."
   ]
  },
  {
   "cell_type": "markdown",
   "metadata": {
    "colab_type": "text",
    "id": "Z-E-CgCSB5t2"
   },
   "source": [
    "#### There should be one-- and preferably only one --obvious way to do it."
   ]
  },
  {
   "cell_type": "markdown",
   "metadata": {
    "colab_type": "text",
    "id": "t9kVN4dQB5t2"
   },
   "source": [
    "Nếu hai lập trình viên Python được yêu cầu giải quyết cùng một vấn đề, họ sẽ đưa ra các giải pháp khá tương thích. Điều này không có nghĩa là không có chỗ cho sự sáng tạo trong lập trình. Trái lại! Nhưng phần lớn lập trình bao gồm sử dụng các cách tiếp cận nhỏ, phổ biến cho các tình huống đơn giản trong một dự án lớn hơn, sáng tạo hơn. Các **đai ốc** và **bu lông** của chương trình của bạn sẽ có ý nghĩa với các lập trình viên Python khác."
   ]
  },
  {
   "cell_type": "markdown",
   "metadata": {
    "colab_type": "text",
    "id": "CeeIdq49B5t3"
   },
   "source": [
    "#### Now is better than never."
   ]
  },
  {
   "cell_type": "markdown",
   "metadata": {
    "colab_type": "text",
    "id": "ZkU6hfRbB5t5"
   },
   "source": [
    "Bạn có thể **dành phần còn lại của cuộc đời mình để học tất cả những điều phức tạp của Python và lập trình nói chung**, nhưng sau đó bạn không bao giờ hoàn thành bất kỳ dự án nào. **Đừng cố gắng viết dòng code hay đoạn code nào hoàn hảo**; viết một đoạn code hoạt động, và sau đó quyết định xem có nên improve code của bạn cho project đó hay là chuyển sang một cái gì đó mới. Khi bạn tiếp tục đến chương tiếp theo và bắt đầu đào sâu vào các chủ đề liên quan hơn, hãy **cố gắng giữ triết lý đơn giản và rõ ràng này trong tâm trí**. Các lập trình viên có kinh nghiệm sẽ tôn trọng code của bạn hơn và sẽ vui lòng cung cấp cho bạn thông tin phản hồi và cộng tác với bạn trong các project thú vị."
   ]
  },
  {
   "cell_type": "markdown",
   "metadata": {
    "colab_type": "text",
    "id": "vmjyCunYB5t5"
   },
   "source": [
    "## 6. Kết luận"
   ]
  },
  {
   "cell_type": "markdown",
   "metadata": {
    "colab_type": "text",
    "id": "PfRl1Qh-B5t6"
   },
   "source": [
    "- Trong chương này, bạn đã học **cách làm việc với các biến**.\n",
    "- Bạn đã học cách sử dụng tên biến để mô tả và cách giải quyết lỗi đặt tên và lỗi cú pháp khi chúng phát sinh. \n",
    "- Bạn đã học các **chuỗi là gì** và **cách hiển thị các chuỗi** bằng chữ thường, chữ hoa và trường hợp tiêu đề.\n",
    "- Bạn đã bắt đầu **sử dụng khoảng trắng** để sắp xếp đầu ra gọn gàng và bạn đã học cách loại bỏ khoảng trắng không cần thiết khỏi các phần khác nhau của chuỗi.\n",
    "- Bạn bắt đầu làm việc với **số nguyên** và **số thực** và học một số cách bạn có thể làm việc với dữ liệu số. Bạn cũng đã học cách viết bình luận giải thích để làm cho code của bạn dễ đọc hơn và cho người khác đọc.\n",
    "- Cuối cùng, bạn đọc về **triết lý giữ code của bạn đơn giản nhất có thể**, bất cứ khi nào có thể."
   ]
  },
  {
   "cell_type": "markdown",
   "metadata": {
    "colab_type": "text",
    "id": "S0HnWJoOB5t8"
   },
   "source": [
    "**Trong Chương 3, bạn sẽ học cách lưu trữ các bộ sưu tập thông tin trong một cấu trúc dữ liệu được gọi là `list`. Bạn sẽ học cách làm việc thông qua `list`, thao tác tác động lên thông tin trong `list`.**"
   ]
  },
  {
   "cell_type": "markdown",
   "metadata": {
    "colab_type": "text",
    "id": "XvYq9qWQB5t8"
   },
   "source": [
    "## Bài tập rèn luyện: "
   ]
  },
  {
   "cell_type": "markdown",
   "metadata": {
    "colab_type": "text",
    "id": "us5-q8-QB5t9"
   },
   "source": [
    "**Bài 01**: In ra màn hình cái họp trong giống như vầy:"
   ]
  },
  {
   "cell_type": "markdown",
   "metadata": {
    "colab_type": "text",
    "id": "Rw7w0f3QB5t9"
   },
   "source": [
    "```\n",
    "*******************************\n",
    "*******************************\n",
    "*******************************\n",
    "*******************************\n",
    "```"
   ]
  },
  {
   "cell_type": "code",
   "execution_count": 39,
   "metadata": {},
   "outputs": [],
   "source": [
    "# Code bài 01"
   ]
  },
  {
   "cell_type": "markdown",
   "metadata": {
    "colab_type": "text",
    "id": "j6bOMUGqB5t_"
   },
   "source": [
    "**Bài 02**: In ra màn hình cái họp trong giống như vầy:"
   ]
  },
  {
   "cell_type": "markdown",
   "metadata": {
    "colab_type": "text",
    "id": "wkZGLQnDB5uA"
   },
   "source": [
    "```\n",
    "*******************************\n",
    "*                             *\n",
    "*                             *\n",
    "*******************************\n",
    "```"
   ]
  },
  {
   "cell_type": "code",
   "execution_count": 40,
   "metadata": {},
   "outputs": [],
   "source": [
    "# Code bài 02"
   ]
  },
  {
   "cell_type": "markdown",
   "metadata": {
    "colab_type": "text",
    "id": "qXVplKXtB5uC"
   },
   "source": [
    "**Bài 03**: In ra hình tam giác giống như bên dưới: \n",
    "\n",
    "```\n",
    "       *\n",
    "      * *\n",
    "     *   *\n",
    "    *     *\n",
    "   *       * \n",
    "  *         * \n",
    " *           * \n",
    "* * * * * * * *\n",
    "```"
   ]
  },
  {
   "cell_type": "code",
   "execution_count": 41,
   "metadata": {},
   "outputs": [],
   "source": [
    "# Code bài 03"
   ]
  },
  {
   "cell_type": "markdown",
   "metadata": {
    "colab_type": "text",
    "id": "1wgm9MP9B5uD"
   },
   "source": [
    "**Bài 04**: Viết chương trình tính kết quả biểu thức:\n",
    "$$M = \\frac{512-282}{47*48+5}$$"
   ]
  },
  {
   "cell_type": "markdown",
   "metadata": {
    "colab_type": "text",
    "id": "ZD2EwWPnB5uE"
   },
   "source": [
    "**Bài 05**: Yêu cầu người dùng nhập một số. In ra bình phương của số vừa nhập. Output tương tự như  sau:"
   ]
  },
  {
   "cell_type": "code",
   "execution_count": 42,
   "metadata": {
    "colab_type": "text",
    "id": "PNrM5C-LB5uE"
   },
   "outputs": [],
   "source": [
    "# Code bài 05"
   ]
  },
  {
   "cell_type": "markdown",
   "metadata": {
    "colab_type": "text",
    "id": "H-RPjtkZB5uF"
   },
   "source": [
    "**Bài 06**. Yêu cầu người dùng nhập một số $x$. In ra lần lượt các giá trị sau: $2x, 3x, 4x, 5x$ mỗi giá trị cách nhau 3 dấu **`-`**"
   ]
  },
  {
   "cell_type": "code",
   "execution_count": 43,
   "metadata": {
    "colab_type": "text",
    "id": "v0wHOb78B5uG"
   },
   "outputs": [],
   "source": [
    "# Code bài 06"
   ]
  },
  {
   "cell_type": "markdown",
   "metadata": {
    "colab_type": "text",
    "id": "szQEq476B5uG"
   },
   "source": [
    "**Bài 07**: Viết chương trình yêu cầu người dùng cân nặng tính bằng kilogam và chuyển đổi nó sang đơn vị đo cân nặng là pounds, biết rằng: 2.2 pounds = 1kg"
   ]
  },
  {
   "cell_type": "code",
   "execution_count": 44,
   "metadata": {},
   "outputs": [],
   "source": [
    "# Code bài 07"
   ]
  },
  {
   "cell_type": "markdown",
   "metadata": {
    "colab_type": "text",
    "id": "nbNRRAkgB5uH"
   },
   "source": [
    "**Bài 08**: Viết chương trình yêu cầu người dùng nhập ba số (sử dụng ba câu lệnh đầu vào riêng biệt). Tạo các biến được gọi là *average* và *mean* lưu giữ tổng và trung bình của ba số và in ra các giá trị của *average* và *mean*."
   ]
  },
  {
   "cell_type": "code",
   "execution_count": 45,
   "metadata": {},
   "outputs": [],
   "source": [
    "# Code bài 08"
   ]
  },
  {
   "cell_type": "markdown",
   "metadata": {
    "colab_type": "text",
    "id": "-ecmXy6_B5uH"
   },
   "source": [
    "**Bài 09**: Rất nhiều điện thoại di động có **tip calculator**. Mô phỏng lại cái máy này. Hỏi người dùng về giá của bữa ăn và phần trăm tiền tip họ muốn để lại. Sau đó in cả số tiền tip và tổng hóa đơn với tiền tip đi kèm."
   ]
  },
  {
   "cell_type": "code",
   "execution_count": 46,
   "metadata": {},
   "outputs": [],
   "source": [
    "# Code bài 09"
   ]
  }
 ],
 "metadata": {
  "colab": {
   "name": "Chapter 02. Variables and Simple Data Types.ipynb",
   "provenance": [],
   "toc_visible": true
  },
  "kernelspec": {
   "display_name": "Python 3",
   "language": "python",
   "name": "python3"
  },
  "language_info": {
   "codemirror_mode": {
    "name": "ipython",
    "version": 3
   },
   "file_extension": ".py",
   "mimetype": "text/x-python",
   "name": "python",
   "nbconvert_exporter": "python",
   "pygments_lexer": "ipython3",
   "version": "3.7.5"
  },
  "latex_envs": {
   "LaTeX_envs_menu_present": true,
   "autoclose": false,
   "autocomplete": true,
   "bibliofile": "biblio.bib",
   "cite_by": "apalike",
   "current_citInitial": 1,
   "eqLabelWithNumbers": true,
   "eqNumInitial": 1,
   "hotkeys": {
    "equation": "Ctrl-E",
    "itemize": "Ctrl-I"
   },
   "labels_anchors": false,
   "latex_user_defs": false,
   "report_style_numbering": false,
   "user_envs_cfg": false
  },
  "toc": {
   "base_numbering": 1,
   "nav_menu": {},
   "number_sections": false,
   "sideBar": true,
   "skip_h1_title": true,
   "title_cell": "Table of Contents",
   "title_sidebar": "Contents",
   "toc_cell": false,
   "toc_position": {
    "height": "calc(100% - 180px)",
    "left": "10px",
    "top": "150px",
    "width": "273.188px"
   },
   "toc_section_display": true,
   "toc_window_display": true
  }
 },
 "nbformat": 4,
 "nbformat_minor": 1
}
