{
 "cells": [
  {
   "cell_type": "markdown",
   "metadata": {},
   "source": [
    "# Chapter 07. User Input and while loop"
   ]
  },
  {
   "cell_type": "markdown",
   "metadata": {},
   "source": [
    "Hầu hết các chương trình được viết để giải quyết vấn đề người dùng cuối(end user). Để làm như vậy, bạn thường cần lấy một số thông tin từ người dùng. Ví dụ đơn giản, hãy hỏi ai đó xem họ có đủ tuổi để bỏ phiếu hay không. Nếu bạn viết một chương trình để trả lời câu hỏi này, bạn cần biết tuổi người dùng trước khi bạn có thể đưa ra câu trả lời. Chương trình sẽ cần yêu cầu người dùng nhập hoặc nhập tuổi của họ; một khi chương trình có đầu vào này, nó có thể so sánh nó với tuổi bầu chọn để xác định xem người dùng có đủ tuổi hay không và sau đó báo cáo kết quả."
   ]
  },
  {
   "cell_type": "markdown",
   "metadata": {},
   "source": [
    "- Trong chương này, bạn sẽ học cách accept đầu vào của người dùng để chương trình của bạn sau đó có thể làm việc với nó Khi chương trình của bạn cần một cái tên, bạn sẽ có thể nhắc người dùng đặt tên. Khi chương trình của bạn cần một danh sách các tên, bạn sẽ có thể nhắc người dùng một loạt các tên. Để làm điều này, bạn sẽ sử dụng hàm **input()**.\n",
    "- Bạn cũng sẽ học cách duy trì các chương trình chạy miễn là người dùng vẫn còn muốn tiếp tục sử dụng, vì vậy chúng có thể nhập nhiều thông tin cần thiết; sau đó, chương trình của bạn có thể làm việc với thông tin đó. Bạn sẽ sử dụng vòng lặp Python trong khi giữ các chương trình chạy miễn là điều kiện lặp vẫn đúng.\n",
    "- Với khả năng làm việc với input của người dùng và khả năng kiểm soát lâu các chương trình của bạn chạy, bạn sẽ có thể viết các chương trình tương tác tạo cảm giác thích thú cho người dùng."
   ]
  },
  {
   "cell_type": "markdown",
   "metadata": {},
   "source": [
    "## Nội dung:\n",
    "#### 1. Hàm `input()` hoạt động như nào\n",
    "    Writing Clear Prompts\n",
    "    Using int() to Accept Numerical Input\n",
    "    The Modulo Operator\n",
    "#### 2. Giới thiệu về vòng lặp\n",
    "    The while loop in Action\n",
    "    Letting the User Choose When to Quit\n",
    "    Using a Flag\n",
    "    Using break to Exit a Loop\n",
    "    Using continue in a Loop\n",
    "    Avoiding Infinite Loops\n",
    "#### 3. Sử dụng vòng lặp while với List và Dictionary\n",
    "    Moving Items from One List to Another\n",
    "    Removing All Instances of Specific Values from a List\n",
    "    Filling a Dictionary with User Input\n",
    "#### 4. Tóm tắt"
   ]
  },
  {
   "cell_type": "markdown",
   "metadata": {},
   "source": [
    "----"
   ]
  },
  {
   "cell_type": "markdown",
   "metadata": {},
   "source": [
    "## 1. Hàm input() hoạt động như nào"
   ]
  },
  {
   "cell_type": "markdown",
   "metadata": {},
   "source": [
    "Hàm **`input()`** làm tạm dừng chương trình của bạn và đợi người dùng nhập vào một text. Khi Python nhận được đầu vào của người dùng, nó sẽ gán đầu vào đó cho một biến để thuận tiện cho bạn làm việc.\n",
    "- Ví dụ, chương trình sau đây yêu cầu người dùng nhập một số văn bản, sau đó hiển thị thông báo đó lại cho người dùng:"
   ]
  },
  {
   "cell_type": "code",
   "execution_count": 1,
   "metadata": {},
   "outputs": [
    {
     "name": "stdout",
     "output_type": "stream",
     "text": [
      "Tell me something, and I will repeat it back to you: It is a beautiful day !\n",
      "It is a beautiful day !\n"
     ]
    }
   ],
   "source": [
    "message = input(\"Tell me something, and I will repeat it back to you: \")\n",
    "print(message)"
   ]
  },
  {
   "cell_type": "markdown",
   "metadata": {},
   "source": [
    "- Hàm input() gọi thực hiện với đối số là *`prompt`*, hoặc là instructions, các mà chúng ta muốn hiển thị yêu cầu của chúng ta đối với việc nhập liệu của họ. Trong ví dụ này, khi chương trình chạy dòng đầu tiên, người dùng sẽ thấy lời nhắc \"Tell me something, and I will repeat it back to you: \". Chương trình chờ trong khi người dùng nhập phản hồi của họ và tiếp tục sau khi người dùng nhấn **`Enter`**. Phản hồi được gán cho thông báo biến, sau đó hàm **print(message)** được gọi thực hiện kết quả hiển thị giá trị mà người dùng vừa nhập."
   ]
  },
  {
   "cell_type": "markdown",
   "metadata": {},
   "source": [
    "*`Sublime Text` và nhiều trình soạn thảo khác hỗ trợ chương trình chạy nhắc nhở người dùng nhập liệu. Bạn có thể sử dụng các trình soạn thảo này để viết các chương trình nhắc nhở đầu vào, nhưng bạn sẽ cần chạy các chương trình này từ một thiết bị đầu cuối.*"
   ]
  },
  {
   "cell_type": "markdown",
   "metadata": {},
   "source": [
    "### *Write Clear Prompts*"
   ]
  },
  {
   "cell_type": "markdown",
   "metadata": {},
   "source": [
    "Mỗi lần bạn sử dụng hàm `input()`, bạn nên đính kèm theo một **easy-to-follow prompt** để nói cho người dùng biết chính xác loại thông tin mà bạn đang tìm kiếm. Bất kỳ câu yêu cầu nào cho người dùng biết được những gì mà họ cần phải nhập. Ví dụ:"
   ]
  },
  {
   "cell_type": "code",
   "execution_count": 2,
   "metadata": {},
   "outputs": [
    {
     "name": "stdout",
     "output_type": "stream",
     "text": [
      "Please enter your name: Tiến\n",
      "\n",
      "Hello, Tiến!\n"
     ]
    }
   ],
   "source": [
    "name = input(\"Please enter your name: \")\n",
    "print(f\"\\nHello, {name}!\")"
   ]
  },
  {
   "cell_type": "markdown",
   "metadata": {},
   "source": [
    "- Đôi khi, bạn sẽ muốn **viết một prompt mà dài hơn một dòng**. Ví dụ: bạn có thể muốn nói với người dùng lý do tại sao bạn lại yêu cầu một số đầu vào như vậy. Bạn có thể gán lời nhắc của mình cho một biến và truyền biến đó vào hàm input (). Điều này cho phép bạn xây dựng prompt của mình qua một số dòng và câu lệnh `input()` sẽ gọn gàng hơn:"
   ]
  },
  {
   "cell_type": "code",
   "execution_count": 3,
   "metadata": {},
   "outputs": [
    {
     "name": "stdout",
     "output_type": "stream",
     "text": [
      "If you tell us who you are, we can personalize the messages you see.\n",
      "What is your first name? Nguyễn\n",
      "\n",
      "Hello, Nguyễn!\n"
     ]
    }
   ],
   "source": [
    "prompt = \"If you tell us who you are, we can personalize the messages you see.\"\n",
    "prompt += \"\\nWhat is your first name? \"\n",
    "\n",
    "name = input(prompt)\n",
    "print(f\"\\nHello, {name}!\")"
   ]
  },
  {
   "cell_type": "markdown",
   "metadata": {},
   "source": [
    "### *Using int() to Accept Numerical Input*"
   ]
  },
  {
   "cell_type": "markdown",
   "metadata": {},
   "source": [
    "Khi bạn sử dụng hàm `input()`, Python diễn giải mọi thứ mà người dùng nhập dưới dạng một chuỗi. Xem ví dụ sau:"
   ]
  },
  {
   "cell_type": "code",
   "execution_count": 4,
   "metadata": {},
   "outputs": [
    {
     "name": "stdout",
     "output_type": "stream",
     "text": [
      "How old are you ?19\n"
     ]
    },
    {
     "data": {
      "text/plain": [
       "'19'"
      ]
     },
     "execution_count": 4,
     "metadata": {},
     "output_type": "execute_result"
    }
   ],
   "source": [
    "age = input(\"How old are you ?\")\n",
    "age"
   ]
  },
  {
   "cell_type": "markdown",
   "metadata": {},
   "source": [
    "- Người dùng nhập số 19, nhưng khi chúng ta hỏi Python về giá trị *age*, nó trả về '21'- biểu diễn chuỗi của giá trị số đã nhập. Chúng ta biết Python mặc định đầu vào dưới dạng một chuỗi vì số này hiện được đặt trong dấu ngoặc kép. Nếu tất cả những gì bạn muốn làm là in đầu vào, điều này không sao cả. Nhưng nếu bạn cố gắng sử dụng đầu vào dưới dạng số, bạn sẽ gặp lỗi:"
   ]
  },
  {
   "cell_type": "code",
   "execution_count": 5,
   "metadata": {},
   "outputs": [
    {
     "name": "stdout",
     "output_type": "stream",
     "text": [
      "How old are you ?19\n"
     ]
    },
    {
     "ename": "TypeError",
     "evalue": "'>=' not supported between instances of 'str' and 'int'",
     "output_type": "error",
     "traceback": [
      "\u001b[1;31m---------------------------------------------------------------------------\u001b[0m",
      "\u001b[1;31mTypeError\u001b[0m                                 Traceback (most recent call last)",
      "\u001b[1;32m<ipython-input-5-e6a4186d6bf5>\u001b[0m in \u001b[0;36m<module>\u001b[1;34m\u001b[0m\n\u001b[0;32m      1\u001b[0m \u001b[0mage\u001b[0m \u001b[1;33m=\u001b[0m \u001b[0minput\u001b[0m\u001b[1;33m(\u001b[0m\u001b[1;34m\"How old are you ?\"\u001b[0m\u001b[1;33m)\u001b[0m\u001b[1;33m\u001b[0m\u001b[1;33m\u001b[0m\u001b[0m\n\u001b[1;32m----> 2\u001b[1;33m \u001b[0mage\u001b[0m \u001b[1;33m>=\u001b[0m \u001b[1;36m18\u001b[0m\u001b[1;33m\u001b[0m\u001b[1;33m\u001b[0m\u001b[0m\n\u001b[0m",
      "\u001b[1;31mTypeError\u001b[0m: '>=' not supported between instances of 'str' and 'int'"
     ]
    }
   ],
   "source": [
    "age = input(\"How old are you ?\")\n",
    "age >= 18"
   ]
  },
  {
   "cell_type": "markdown",
   "metadata": {},
   "source": [
    "- Chúng ta có thể giải quyết vấn đề này bằng cách sử dụng hàm **`int()`**, cho biết Python để coi đầu vào là một giá trị số. **Hàm int() chuyển đổi biểu diễn chuỗi của một số thành biểu diễn số**, như dưới đây:"
   ]
  },
  {
   "cell_type": "code",
   "execution_count": 6,
   "metadata": {},
   "outputs": [
    {
     "name": "stdout",
     "output_type": "stream",
     "text": [
      "How old are you? 19\n"
     ]
    },
    {
     "data": {
      "text/plain": [
       "True"
      ]
     },
     "execution_count": 6,
     "metadata": {},
     "output_type": "execute_result"
    }
   ],
   "source": [
    "age = input(\"How old are you? \")\n",
    "age = int(age)\n",
    "\n",
    "age >= 18"
   ]
  },
  {
   "cell_type": "markdown",
   "metadata": {},
   "source": [
    "- **Làm thế nào để bạn sử dụng hàm int() trong một chương trình thực tế?** Hãy xem xét một chương trình xác định xem mọi người có đủ cao để đi tàu lượn không nhé:"
   ]
  },
  {
   "cell_type": "code",
   "execution_count": 7,
   "metadata": {},
   "outputs": [
    {
     "name": "stdout",
     "output_type": "stream",
     "text": [
      "How tall are you, in inches? 80\n",
      "\n",
      "You're tall enough to ride!\n"
     ]
    }
   ],
   "source": [
    "height = input(\"How tall are you, in inches? \")\n",
    "height = int(height)\n",
    "\n",
    "if height >= 48:\n",
    "    print(\"\\nYou're tall enough to ride!\")\n",
    "else:\n",
    "    print(\"\\nYou'll be able to ride when you're a little older.\")"
   ]
  },
  {
   "cell_type": "markdown",
   "metadata": {},
   "source": [
    "- Khi bạn sử dụng đầu vào số để thực hiện các phép tính và so sánh, trước tiên hãy chắc chắn chuyển đổi giá trị đầu vào thành biểu diễn số."
   ]
  },
  {
   "cell_type": "markdown",
   "metadata": {},
   "source": [
    "### *The Modulo Operator*"
   ]
  },
  {
   "cell_type": "markdown",
   "metadata": {},
   "source": [
    "Một công cụ hữu ích để làm việc với thông tin bằng số là toán tử modulo(%), chia một số cho một số khác và trả về phần dư còn lại:"
   ]
  },
  {
   "cell_type": "code",
   "execution_count": 8,
   "metadata": {},
   "outputs": [
    {
     "name": "stdout",
     "output_type": "stream",
     "text": [
      "4 chia 3 dư 1\n",
      "5 chia 3 dư 2\n",
      "6 chia 3 dư 0\n",
      "7 chia 3 dư 1\n"
     ]
    }
   ],
   "source": [
    "print(4, \"chia\", 3, \"dư\", 4 % 3)\n",
    "print(5, \"chia\", 3, \"dư\", 5 % 3)\n",
    "print(6, \"chia\", 3, \"dư\", 6 % 3)\n",
    "print(7, \"chia\", 3, \"dư\", 7 % 3)"
   ]
  },
  {
   "cell_type": "markdown",
   "metadata": {},
   "source": [
    "- Toán tử module không cho bạn biết phép chia của $a$ cho $b$ là bao nhiêu, nó chỉ cho bạn biết phần dư trong phép chia. Khi một số chia hết cho một số khác, tức phần dư trong phép chia bằng 0, vì vậy toán tử modulo luôn trả về 0. Bạn có thể sử dụng điều này để xác định xem một số chẵn hay lẻ:"
   ]
  },
  {
   "cell_type": "code",
   "execution_count": 9,
   "metadata": {},
   "outputs": [
    {
     "name": "stdout",
     "output_type": "stream",
     "text": [
      "Enter a number, and I'll tell you if it's even or odd: 20\n",
      "\n",
      "The number 20 is even.\n"
     ]
    }
   ],
   "source": [
    "number = input(\"Enter a number, and I'll tell you if it's even or odd: \")\n",
    "number = int(number)\n",
    "\n",
    "if number % 2 == 0:\n",
    "    print(f\"\\nThe number {number} is even.\")\n",
    "else:\n",
    "    print(f\"\\nThe number {number} is odd.\")"
   ]
  },
  {
   "cell_type": "markdown",
   "metadata": {},
   "source": [
    "### *Test Yourself*"
   ]
  },
  {
   "cell_type": "markdown",
   "metadata": {},
   "source": [
    "1. **Rental Car**: Write a program that asks the user what kind of rental car they would like. Print a message about that car, such as “Let me see if I can find you a Subaru."
   ]
  },
  {
   "cell_type": "code",
   "execution_count": 10,
   "metadata": {},
   "outputs": [],
   "source": [
    "# Code bài 1 tại đây"
   ]
  },
  {
   "cell_type": "markdown",
   "metadata": {},
   "source": [
    "2. **Restaurant Seating**: Write a program that asks the user how many people are in their dinner group. If the answer is more than eight, print a message saying they’ll have to wait for a table. Otherwise, report that their table is ready."
   ]
  },
  {
   "cell_type": "code",
   "execution_count": 11,
   "metadata": {},
   "outputs": [],
   "source": [
    "# Code bài 2 tại đây"
   ]
  },
  {
   "cell_type": "markdown",
   "metadata": {},
   "source": [
    "3. **Multiples of Ten**: Ask the user for a number, and then report whether the number is a multiple of 10 or not."
   ]
  },
  {
   "cell_type": "code",
   "execution_count": 12,
   "metadata": {},
   "outputs": [],
   "source": [
    "# Code bài 3 tại đây"
   ]
  },
  {
   "cell_type": "markdown",
   "metadata": {},
   "source": [
    "## 2. Giới thiệu về vòng lặp"
   ]
  },
  {
   "cell_type": "markdown",
   "metadata": {},
   "source": [
    "Vòng lặp **for** duyệt qua từng phần tử trong tập hợp và thực hiện một khói lệnh gì đó. Ngược lại, vòng lặp **`while`** chạy miễn là, hoặc trong khi, một điều kiện nhất định là đúng."
   ]
  },
  {
   "cell_type": "markdown",
   "metadata": {},
   "source": [
    "### *The while Loop in Action*"
   ]
  },
  {
   "cell_type": "markdown",
   "metadata": {},
   "source": [
    "Bạn có thể dùng vòng lặp while để duyệt qua các số. Dưới đây là ví dụ in ra các số lẻ không âm và nhỏ hơn 10."
   ]
  },
  {
   "cell_type": "markdown",
   "metadata": {},
   "source": [
    "![Loop](https://lh3.googleusercontent.com/Gsy3gvhT5OUjqobdPrCDaNL7B7G8I57KfjTD-cvwZNKjhm0dcHQ1VTZESRnyR3SrbOHhJUrX8UBZ_EO1uJxq3Ddlnxkn6W7F6Nxe7xjqgcqOLfuSN50PSm2vWVIiXxc9z-f_950-cI-NSp5Jd7j592c1yJ9qJySifchPwTPmdzbW2pcQfq5ZE-y3b30pmK1sZGd1U_hh9CjiiFowARUopdY7cz9xkhFg5TGusIxYChZHRmiFqf8eOgZpEDLH-aPNTygyQnArbE61YmUPjzj5-XA2yiXfqfbtS7lzPkMnQOuE5HImeaXnOzEKuJnGGBLi66k22PslajI-_RjyCh_YKsohjThxT-ocK6cw4v6mdDb3qq4etGdRePkhB3a1rlI-7NT62yWphsmbi4OHP2WSOJjpGfblOB-Ezi5irhofUIQJbUHSBDiMQ-fCzZGeJt_6xCXlg-AulJD51CuTHDd4F-sf9QCigiTfFKy0bYriXIhwq_l1MwhUGqWZ5UAamrf1H_HsVVK3UTUfwJN41s40gaH8vMI9fFr2cDlcivRFk43WaK9Ik9Nri1vYr7OeB8_tIMjp6Br2AP_2xbkCXRlyrR_5vsjgkAjuc3dgbiLYLJ37rneo2FTs1R5V48mi85oQjTN3x_Gc_mjExIGoq3tjmMI1hHLRaBWehEb-1QlGsMYo9qa1hQr9LcHcqg=w450-h300-no)"
   ]
  },
  {
   "cell_type": "markdown",
   "metadata": {},
   "source": [
    "- Các chương trình bạn sử dụng hàng ngày rất có thể chứa các vòng lặp. Ví dụ, một trò chơi cần một vòng lặp while để tiếp tục chạy miễn là bạn muốn tiếp tục chơi và do đó, trò chơi có thể ngừng chạy ngay khi bạn yêu cầu thoát. Các chương trình sẽ rất thú vị khi sử dụng nếu chúng ngừng chạy trước khi chúng ta bảo chúng hoặc tiếp tục chạy ngay cả sau khi chúng ta muốn thoát, vì vậy vòng lặp while khá hữu ích."
   ]
  },
  {
   "cell_type": "markdown",
   "metadata": {},
   "source": [
    "### *Letting the User Choose When to Quit*"
   ]
  },
  {
   "cell_type": "markdown",
   "metadata": {},
   "source": [
    "Một trò chơi nho nhỏ, ví dụ trò chơi bắn máy bay. Bạn sử dụng vòng lặp while để duy trì trò chơi. Vậy muốn thoát thì thế nào. Cách đơn giản nhất là tắt cửa sổ, nhưng ở đây chúng ta không tắt mà dừng trò chơi bằng một phím nào đó. Xem đoạn chương trình sau:"
   ]
  },
  {
   "cell_type": "code",
   "execution_count": 13,
   "metadata": {},
   "outputs": [
    {
     "name": "stdout",
     "output_type": "stream",
     "text": [
      "\n",
      "Tell me something, and I will repeat it back to you:\n",
      "Enter 'quit' to end the program. Some thing like this !\n",
      "Some thing like this !\n",
      "\n",
      "Tell me something, and I will repeat it back to you:\n",
      "Enter 'quit' to end the program. quit\n",
      "quit\n"
     ]
    }
   ],
   "source": [
    "prompt = \"\\nTell me something, and I will repeat it back to you:\"\n",
    "prompt += \"\\nEnter 'quit' to end the program. \"\n",
    "\n",
    "message = \"\"\n",
    "while message != 'quit':\n",
    "    message = input(prompt)\n",
    "    print(message)"
   ]
  },
  {
   "cell_type": "markdown",
   "metadata": {},
   "source": [
    "- Miễn là người dùng chưa nhập từ `'quit'`, lời nhắc sẽ được hiển thị lại và Python chờ thêm đầu vào. Khi người dùng nhập `'quit'`, Python dừng thực thi vòng lặp while và chương trình kết thúc."
   ]
  },
  {
   "cell_type": "markdown",
   "metadata": {},
   "source": [
    "### *Using a Flag (Kĩ thuật đặt cờ)*"
   ]
  },
  {
   "cell_type": "markdown",
   "metadata": {},
   "source": [
    "Một cách khác để dừng vòng lặp(thoát khỏi vòng lặp) đó là đặt cờ hiệu(Flag). Flag chỉ có 2 trạng thái(2 giá trị) là giương cờ hoặc hạ cờ(True or False). Giả sử ban đầu flag ở trạng thái giương cờ(True). Mỗi lần lặp vòng lặp while ta kiểm tra xem cờ có ở trạng thái giương cờ hay không, nếu cờ đã bị hạ thì dừng vòng lặp. Xem đoạn chương trình dưới đây:"
   ]
  },
  {
   "cell_type": "code",
   "execution_count": 14,
   "metadata": {},
   "outputs": [
    {
     "name": "stdout",
     "output_type": "stream",
     "text": [
      "\n",
      "Tell me something, and I will repeat it back to you:\n",
      "Enter 'quit' to end the program. Not thing !\n",
      "Not thing !\n",
      "\n",
      "Tell me something, and I will repeat it back to you:\n",
      "Enter 'quit' to end the program. quit\n"
     ]
    }
   ],
   "source": [
    "# This is a flag\n",
    "active = True\n",
    "\n",
    "while active:\n",
    "    message = input(prompt)\n",
    "    # Check flag is activate whether or not\n",
    "    if message == 'quit':\n",
    "        active = False\n",
    "    else:\n",
    "        print(message)"
   ]
  },
  {
   "cell_type": "markdown",
   "metadata": {},
   "source": [
    "- Chương trình này có output giống như ví dụ trên. Nhưng bây giờ chúng ta có một cờ để cho biết liệu chương trình tổng thể có ở trạng thái hoạt động hay không, sẽ dễ dàng thêm nhiều điều kiện kiểm tra(như câu lệnh elif) cho các sự kiện sẽ khiến hoạt động trở thành. Điều này hữu ích trong các chương trình phức tạp như các trò chơi trong đó có thể có nhiều sự kiện mà mỗi sự kiện sẽ khiến chương trình ngừng chạy. Khi bất kỳ sự kiện nào trong số này làm hạ cờ, vòng lặp trò chơi sẽ thoát, thông báo Game Over có thể được hiển thị và người chơi có thể được cung cấp tùy chọn để chơi lại."
   ]
  },
  {
   "cell_type": "markdown",
   "metadata": {},
   "source": [
    "### *Using break to Exit a Loop*"
   ]
  },
  {
   "cell_type": "markdown",
   "metadata": {},
   "source": [
    "Để thoát khỏi vòng lặp while ngay lập tức mà không chạy bất kỳ code nào còn lại trong vòng lặp, bất kể kết quả kiểm tra có đúng hay sai, hãy sử dụng câu lệnh **break**. Câu lệnh break chỉ đạo luồng chương trình của bạn; bạn có thể sử dụng nó để kiểm soát dòng code nào được thực thi, vì vậy chương trình chỉ thực thi code mà bạn muốn."
   ]
  },
  {
   "cell_type": "markdown",
   "metadata": {},
   "source": [
    "- Ví dụ, hãy xem xét một chương trình hỏi người dùng về những địa điểm họ đã ghé thăm. Chúng ta có thể dừng vòng lặp while trong chương trình này bằng cách gọi break ngay khi người dùng nhập giá trị 'quit':"
   ]
  },
  {
   "cell_type": "code",
   "execution_count": 15,
   "metadata": {},
   "outputs": [
    {
     "name": "stdout",
     "output_type": "stream",
     "text": [
      "\n",
      "Please enter the name of a city you have visited:\n",
      "(Enter 'quit' when you are finished.) Ho Chi Minh\n",
      "I'd love to go to Ho Chi Minh!\n",
      "\n",
      "Please enter the name of a city you have visited:\n",
      "(Enter 'quit' when you are finished.) Nha Trang\n",
      "I'd love to go to Nha Trang!\n",
      "\n",
      "Please enter the name of a city you have visited:\n",
      "(Enter 'quit' when you are finished.) quit\n"
     ]
    }
   ],
   "source": [
    "prompt = \"\\nPlease enter the name of a city you have visited:\"\n",
    "prompt += \"\\n(Enter 'quit' when you are finished.) \"\n",
    "while True:\n",
    "    city = input(prompt)\n",
    "    if city == 'quit':\n",
    "        break\n",
    "    else:\n",
    "        print(f\"I'd love to go to {city.title()}!\")"
   ]
  },
  {
   "cell_type": "markdown",
   "metadata": {},
   "source": [
    "*Bạn có thể sử dụng câu lệnh break trong bất kỳ vòng lặp nào. Ví dụ: bạn có thể sử dụng break để thoát khỏi vòng lặp for đang làm việc trên list hay bất kì một cấu trúc mạng nào.*"
   ]
  },
  {
   "cell_type": "markdown",
   "metadata": {},
   "source": [
    "### *Using continue in a Loop*"
   ]
  },
  {
   "cell_type": "markdown",
   "metadata": {},
   "source": [
    "Thay vì thoát ra khỏi vòng lặp hoàn toàn mà không thực hiện phần còn lại của code, bạn có thể sử dụng câu lệnh **`continue` để quay lại đầu vòng lặp dựa trên kết quả của một điều kiện kiểm tra nào đó**. Ví dụ: hãy xem xét một vòng lặp đếm từ 1 đến 10 nhưng chỉ in các số lẻ trong phạm vi đó:"
   ]
  },
  {
   "cell_type": "code",
   "execution_count": 16,
   "metadata": {},
   "outputs": [
    {
     "name": "stdout",
     "output_type": "stream",
     "text": [
      "1\n",
      "3\n",
      "5\n",
      "7\n",
      "9\n"
     ]
    }
   ],
   "source": [
    "current_number = 0\n",
    "\n",
    "while current_number < 10:\n",
    "    current_number += 1\n",
    "    if current_number % 2 == 0:\n",
    "        continue\n",
    "    print(current_number)"
   ]
  },
  {
   "cell_type": "markdown",
   "metadata": {},
   "source": [
    "### *Avoiding Infinite Loops*"
   ]
  },
  {
   "cell_type": "markdown",
   "metadata": {},
   "source": [
    "**Mỗi vòng lặp while cần một cách để ngừng nếu không nó tiếp tục chạy mãi mãi**. Ví dụ: vòng lặp này sẽ đếm các giá trị từ 1 đến 5:"
   ]
  },
  {
   "cell_type": "code",
   "execution_count": 17,
   "metadata": {},
   "outputs": [
    {
     "name": "stdout",
     "output_type": "stream",
     "text": [
      "1\n",
      "2\n",
      "3\n",
      "4\n",
      "5\n"
     ]
    }
   ],
   "source": [
    "x = 1\n",
    "while x <= 5:\n",
    "    print(x)\n",
    "    x += 1"
   ]
  },
  {
   "cell_type": "markdown",
   "metadata": {},
   "source": [
    "- Nhưng nếu bạn vô tình bỏ qua dòng `x + = 1`, vòng lặp sẽ chạy mãi mãi:"
   ]
  },
  {
   "cell_type": "code",
   "execution_count": null,
   "metadata": {},
   "outputs": [],
   "source": [
    "# This loop runs forever!\n",
    "x = 1\n",
    "while x <= 5:\n",
    "    print(x)"
   ]
  },
  {
   "cell_type": "markdown",
   "metadata": {},
   "source": [
    "- Mỗi lập trình viên đôi khi vô tình viết một vòng lặp vô hạn, đặc biệt là khi một vòng lặp chương trình có các điều kiện thoát tinh tế. Nếu chương trình của bạn bị kẹt trong một vòng lặp vô hạn, hãy nhấn cTrL-C hoặc chỉ cần đóng cửa sổ đầu cuối hiển thị đầu ra chương trình của bạn.\n",
    "- Để tránh viết các vòng lặp vô hạn, hãy kiểm tra mỗi vòng lặp while và đảm bảo vòng lặp dừng khi bạn mong đợi. Nếu bạn muốn chương trình của mình kết thúc khi người dùng nhập một giá trị đầu vào nhất định, hãy chạy chương trình và nhập giá trị đó. Nếu chương trình không kết thúc, hãy xem xét kỹ lưỡng cách chương trình của bạn xử lý giá trị sẽ khiến vòng lặp thoát ra. Đảm bảo ít nhất một phần của chương trình có thể làm cho điều kiện Vòng lặp Sai hoặc làm cho nó đạt đến một câu lệnh **break**."
   ]
  },
  {
   "cell_type": "markdown",
   "metadata": {},
   "source": [
    "*Sublime Text và một số trình soạn thảo khác có cửa sổ đầu ra được nhúng. Điều này có thể gây khó khăn cho việc dừng vòng lặp vô hạn và bạn có thể phải đóng trình chỉnh sửa để kết thúc vòng lặp. Hãy thử nhấp vào khu vực đầu ra của trình chỉnh sửa trước khi nhấn ctrl-C và bạn sẽ có thể hủy vòng lặp vô hạn.*"
   ]
  },
  {
   "cell_type": "markdown",
   "metadata": {},
   "source": [
    "### *Test Yourself*"
   ]
  },
  {
   "cell_type": "markdown",
   "metadata": {},
   "source": [
    "4. **Pizza Toppings**: Write a loop that prompts the user to enter a series of pizza toppings until they enter a 'quit' value. As they enter each topping, print a message saying you’ll add that topping to their pizza."
   ]
  },
  {
   "cell_type": "code",
   "execution_count": 18,
   "metadata": {},
   "outputs": [],
   "source": [
    "# Code bài 4 tại đây"
   ]
  },
  {
   "cell_type": "markdown",
   "metadata": {},
   "source": [
    "5. **Movie Tickets**: A movie theater charges different ticket prices depending on a person’s age. If a person is under the age of 3, the ticket is free; if they are between 3 and 12, the ticket is `$10`; and if they are over age 12, the ticket is `$15`. Write a loop in which you ask users their age, and then tell them the cost of their movie ticket."
   ]
  },
  {
   "cell_type": "code",
   "execution_count": 19,
   "metadata": {},
   "outputs": [],
   "source": [
    "# Code bài 5 tại đây"
   ]
  },
  {
   "cell_type": "markdown",
   "metadata": {},
   "source": [
    "6. **Infinity**: Write a loop that never ends, and run it. (To end the loop, press ctrl-C or close the window displaying the output.)"
   ]
  },
  {
   "cell_type": "code",
   "execution_count": 20,
   "metadata": {},
   "outputs": [],
   "source": [
    "# Code bài 6 tại đây"
   ]
  },
  {
   "cell_type": "markdown",
   "metadata": {},
   "source": [
    "## 3. Sử dụng vòng lặp while với List và Dictionary"
   ]
  },
  {
   "cell_type": "markdown",
   "metadata": {},
   "source": [
    "Cho đến nay, chúng ta đã làm việc với chỉ một phần thông tin người dùng tại một thời điểm. Chúng ta đã nhận được đầu vào của người dùng và sau đó in đầu vào hoặc phản hồi cho nó. Lần tiếp theo thông qua vòng lặp while, chúng ta sẽ nhận được một giá trị đầu vào khác và phản hồi điều đó. Nhưng để theo dõi nhiều người dùng và thông tin, chúng ta sẽ cần sử dụng list và dictionary với các vòng lặp.\n",
    "- Vòng lặp for có hiệu quả để duyệt qua list, nhưng bạn không nên sửa đổi danh sách bên trong vòng lặp for vì Python sẽ gặp khó khăn trong việc theo dõi các phần tử trong danh sách. Để sửa đổi danh sách khi bạn làm việc với nó, hãy sử dụng vòng lặp while. Sử dụng vòng lặp while với list và dictionary cho phép bạn thu thập, lưu trữ và sắp xếp nhiều đầu vào để kiểm tra và báo cáo sau này."
   ]
  },
  {
   "cell_type": "markdown",
   "metadata": {},
   "source": [
    "### *Moving Items from One List to Another*"
   ]
  },
  {
   "cell_type": "markdown",
   "metadata": {},
   "source": [
    "Xem xét danh sách những người dùng mới đăng ký nhưng chưa được xác minh của một trang web. Sau khi chúng ta xác minh những người dùng này, làm thế nào chúng ta có thể di chuyển họ đến một danh sách người dùng được xác nhận riêng biệt ? Một cách đơn giản đó là sử dụng vòng lặp while để kéo người dùng khỏi danh sách người dùng chưa được xác nhận khi chúng ta xác minh họ và sau đó thêm họ vào danh sách người dùng được xác nhận riêng biệt. Điều đó được thực hiện qua đoạn code dưới đây:"
   ]
  },
  {
   "cell_type": "code",
   "execution_count": 21,
   "metadata": {},
   "outputs": [
    {
     "name": "stdout",
     "output_type": "stream",
     "text": [
      "Verifying user: Candace\n",
      "Verifying user: Brian\n",
      "Verifying user: Alice\n",
      "\n",
      "The following users have been confirmed:\n",
      "Candace\n",
      "Brian\n",
      "Alice\n"
     ]
    }
   ],
   "source": [
    "# Start with users that need to be verified,\n",
    "# and an empty list to hold confirmed users.\n",
    "unconfirmed_users = ['alice', 'brian', 'candace']\n",
    "confirmed_users = []\n",
    "\n",
    "# Verify each user until there are no more unconfirmed users.\n",
    "# Move each verified user into the list of confirmed users.\n",
    "while unconfirmed_users:\n",
    "    current_user = unconfirmed_users.pop()\n",
    "    \n",
    "    print(f\"Verifying user: {current_user.title()}\")\n",
    "    confirmed_users.append(current_user)\n",
    "    \n",
    "# Display all confirmed users.\n",
    "print(\"\\nThe following users have been confirmed:\")\n",
    "for confirmed_user in confirmed_users:\n",
    "    print(confirmed_user.title())"
   ]
  },
  {
   "cell_type": "markdown",
   "metadata": {},
   "source": [
    "- Chúng ta mô phỏng việc xác nhận từng người dùng bằng cách in thông báo xác minh và sau đó thêm họ vào danh sách người dùng được xác nhận. Khi danh sách người dùng chưa được xác nhận thu hẹp, danh sách người dùng được xác nhận sẽ tăng lên. Khi danh sách người dùng chưa được xác nhận trống, vòng lặp sẽ dừng và danh sách người dùng được in ra."
   ]
  },
  {
   "cell_type": "markdown",
   "metadata": {},
   "source": [
    "### *Removing All Instances of Specific Values from a List*"
   ]
  },
  {
   "cell_type": "markdown",
   "metadata": {},
   "source": [
    "Trong Chương 3, chúng ta đã sử dụng **remove()** để xóa một giá trị cụ thể khỏi danh sách. Hàm **remove()** hoạt động vì giá trị chúng ta quan tâm chỉ xuất hiện một lần trong danh sách. Nhưng nếu bạn muốn xóa tất cả các phiên bản của một giá trị khỏi danh sách thì sao ?\n",
    "- Giả sử bạn có một danh sách vật nuôi có giá trị 'cat' được lặp lại nhiều lần. Để xóa tất cả các phần tử có giá trị là 'cat' bạn có thể chạy một vòng lặp while cho đến khi 'cat' không còn trong danh sách, như được hiển thị ở đây:"
   ]
  },
  {
   "cell_type": "code",
   "execution_count": 22,
   "metadata": {},
   "outputs": [
    {
     "name": "stdout",
     "output_type": "stream",
     "text": [
      "['dog', 'cat', 'dog', 'goldfish', 'cat', 'rabbit', 'cat']\n",
      "['dog', 'dog', 'goldfish', 'cat', 'rabbit', 'cat']\n",
      "['dog', 'dog', 'goldfish', 'rabbit', 'cat']\n",
      "['dog', 'dog', 'goldfish', 'rabbit']\n"
     ]
    }
   ],
   "source": [
    "pets = ['dog', 'cat', 'dog', 'goldfish', 'cat', 'rabbit', 'cat']\n",
    "print(pets)\n",
    "\n",
    "while 'cat' in pets:\n",
    "    pets.remove('cat')\n",
    "    print(pets)"
   ]
  },
  {
   "cell_type": "markdown",
   "metadata": {},
   "source": [
    "### *Filling a Dictionary with User Input*"
   ]
  },
  {
   "cell_type": "code",
   "execution_count": 23,
   "metadata": {},
   "outputs": [
    {
     "name": "stdout",
     "output_type": "stream",
     "text": [
      "\n",
      "What is your name? Tiến\n",
      "Which mountain would you like to climb someday? Mount Everest\n",
      "Would you like to let another person respond? (yes/ no) yes\n",
      "\n",
      "What is your name? Thư\n",
      "Which mountain would you like to climb someday? Mount Everest\n",
      "Would you like to let another person respond? (yes/ no) no\n",
      "\n",
      "--- Poll Results ---\n",
      "Tiến would like to climb Mount Everest.\n",
      "Thư would like to climb Mount Everest.\n"
     ]
    }
   ],
   "source": [
    "responses = {}\n",
    "\n",
    "# Set a flag to indicate that polling is active.\n",
    "polling_active = True\n",
    "while polling_active:\n",
    "    # Prompt for the person's name and response.\n",
    "    name = input(\"\\nWhat is your name? \")\n",
    "    response = input(\"Which mountain would you like to climb someday? \")\n",
    "    \n",
    "    # Store the response in the dictionary.\n",
    "    responses[name] = response\n",
    "    \n",
    "    # Find out if anyone else is going to take the poll.\n",
    "    repeat = input(\"Would you like to let another person respond? (yes/ no) \")\n",
    "    if repeat == 'no':\n",
    "        polling_active = False\n",
    "    \n",
    "# Polling is complete. Show the results.\n",
    "print(\"\\n--- Poll Results ---\")\n",
    "for name, response in responses.items():\n",
    "    print(f\"{name} would like to climb {response}.\")"
   ]
  },
  {
   "cell_type": "markdown",
   "metadata": {},
   "source": [
    "- Trước tiên, chương trình khởi tạo một từ điển trống và đặt cờ (polling_active) để chỉ ra rằng bỏ phiếu đang hoạt động. Miễn là polling_active là True, Python sẽ chạy code trong vòng lặp while. Trong vòng lặp, người dùng được nhắc nhập tên của họ và một ngọn núi mà họ muốn leo lên. Thông tin đó được lưu trữ trong *response* và người dùng được hỏi có nên duy trì cuộc thăm dò ý kiến hay không.\n",
    "- Nếu họ nhập `yes`, chương trình sẽ vào lại vòng lặp while. Nếu họ nhập `no`, cờ `polling_active` sẽ hạ cờ, vòng lặp while dừng chạy và khối mã cuối cùng sẽ được hiển thị."
   ]
  },
  {
   "cell_type": "markdown",
   "metadata": {},
   "source": [
    "### *Test yourself*"
   ]
  },
  {
   "cell_type": "markdown",
   "metadata": {},
   "source": [
    "7. **Deli**: Make a list called sandwich_orders and fill it with the names of various sandwiches. Then make an empty list called finished_sandwiches. Loop through the list of sandwich orders and print a message for each order, such as I made your tuna sandwich. As each sandwich is made, move it to the list of finished sandwiches. After all the sandwiches have been made, print a message listing each sandwich that was made."
   ]
  },
  {
   "cell_type": "code",
   "execution_count": 24,
   "metadata": {},
   "outputs": [],
   "source": [
    "# Code bài 8 "
   ]
  },
  {
   "cell_type": "markdown",
   "metadata": {},
   "source": [
    "8. **Dream Vacation**: Write a program that polls users about their dream vacation. Write a prompt similar to If you could visit one place in the world, where would you go? Include a block of code that prints the results of the poll."
   ]
  },
  {
   "cell_type": "code",
   "execution_count": 25,
   "metadata": {},
   "outputs": [],
   "source": [
    "# Code bài 8 tại đây"
   ]
  },
  {
   "cell_type": "markdown",
   "metadata": {},
   "source": [
    "## 4. Tóm tắt"
   ]
  },
  {
   "cell_type": "markdown",
   "metadata": {},
   "source": [
    "Trong chương này, bạn đã học cách sử dụng `input()` để cho phép người dùng cung cấp thông tin của riêng họ trong các chương trình của bạn. Bạn đã học cách làm việc với cả văn bản và nhập số và cách sử dụng các vòng lặp để làm cho chương trình của bạn chạy miễn là người dùng của bạn muốn chúng chưa dừng. Bạn đã thấy **một số cách để kiểm soát luồng của vòng lặp while bằng cách đặt cờ hiệu, sử dụng câu lệnh break và sử dụng câu lệnh continue**. Bạn đã học cách sử dụng vòng lặp while để di chuyển các mục từ danh sách này sang danh sách khác và cách xóa tất cả các phiên bản của một giá trị khỏi danh sách. Bạn cũng đã học được cách vòng lặp có thể được sử dụng với từ điển.\n",
    "- Trong Chương 8, bạn sẽ tìm hiểu về *`function`*. **`Function`** cho phép bạn **đập** các chương trình của bạn thành các phần nhỏ, mỗi phần thực hiện một công việc cụ thể. Bạn có thể gọi một hàm nhiều lần và bạn có thể lưu trữ hàm trong các tập tin riêng biệt. Bằng cách sử dụng các hàm, bạn sẽ có thể viếtcode hiệu quả hơn, dễ dàng khắc phục sự cố và bảo trì hơn và có thể được sử dụng lại trong nhiều chương trình khác nhau...."
   ]
  }
 ],
 "metadata": {
  "kernelspec": {
   "display_name": "Python 3",
   "language": "python",
   "name": "python3"
  },
  "language_info": {
   "codemirror_mode": {
    "name": "ipython",
    "version": 3
   },
   "file_extension": ".py",
   "mimetype": "text/x-python",
   "name": "python",
   "nbconvert_exporter": "python",
   "pygments_lexer": "ipython3",
   "version": "3.7.5"
  }
 },
 "nbformat": 4,
 "nbformat_minor": 2
}
