{
 "cells": [
  {
   "cell_type": "markdown",
   "metadata": {},
   "source": [
    "# Chapter 05. if Statements\n",
    "<p style = \"text-align: right\"><b><i>Tiến Nguyễn</p>"
   ]
  },
  {
   "cell_type": "markdown",
   "metadata": {},
   "source": [
    "**Lập trình thường trải qua quá trình kiểm tra tập hợp các điều kiện và quyết định hành động nào cần thực hiện dựa trên các điều kiện đó. `if Statement` cho phép bạn kiểm tra trạng thái hiện tại của chương trình và phản hồi thích hợp với trạng thái đó.**"
   ]
  },
  {
   "cell_type": "markdown",
   "metadata": {},
   "source": [
    "Trong chương này, bạn sẽ học cách viết các đoạn code kiểm tra điều kiện, cho phép bạn kiểm tra bất kỳ điều kiện quan tâm nào. Bạn sẽ học cách viết các câu lệnh if đơn giản và bạn sẽ học cách tạo ra **một chuỗi các câu lệnh if phức tạp hơn** để xác định khi có các điều kiện chính xác mà bạn muốn. Sau đó, bạn sẽ áp dụng khái niệm này lên cấu trúc dữ liệu **list**, do đó, bạn sẽ có thể viết một **vòng lặp for** xử lý hầu hết các phần tử trong danh sách một cách nhưng xử lý các phần tử cụ thể với các giá trị cụ thể theo một cách khác."
   ]
  },
  {
   "cell_type": "markdown",
   "metadata": {},
   "source": [
    "## Nội dung:\n",
    "1. **A simple example**\n",
    "2. **Conditional Tests**\n",
    "3. **if Statement**\n",
    "4. **Using if Statement with list**\n",
    "5. **Styling Your if Statements**\n",
    "6. **Kết luận**"
   ]
  },
  {
   "cell_type": "markdown",
   "metadata": {},
   "source": [
    "## 1. A Simple Example"
   ]
  },
  {
   "cell_type": "markdown",
   "metadata": {},
   "source": [
    "Ví dụ ngắn sau đây cho thấy cách kiểm tra cho phép bạn phản hồi chính xác với các tình huống đặc biệt. Hãy tưởng tượng bạn có một danh sách các xe và bạn muốn in tên của mỗi chiếc xe. Tên xe là tên riêng, vì vậy tên của hầu hết các xe nên được in trong trường hợp tiêu đề. Tuy nhiên, giá trị 'bmw' nên được in bằng tất cả chữ hoa. Các mã sau đây lặp qua một danh sách các tên xe và tìm giá trị 'bmw'. Bất cứ khi nào giá trị là 'bmw', nó được in bằng chữ in hoa thay vì trường hợp tiêu đề:"
   ]
  },
  {
   "cell_type": "code",
   "execution_count": 1,
   "metadata": {},
   "outputs": [
    {
     "name": "stdout",
     "output_type": "stream",
     "text": [
      "Audi\n",
      "BMW\n",
      "Subaru\n",
      "Toyota\n"
     ]
    }
   ],
   "source": [
    "cars = ['audi', 'bmw', 'subaru', 'toyota']\n",
    "\n",
    "for car in cars:\n",
    "    if car == 'bmw':\n",
    "        print(car.upper())\n",
    "    else:\n",
    "        print(car.title())"
   ]
  },
  {
   "cell_type": "markdown",
   "metadata": {},
   "source": [
    "- Vòng lặp trong ví dụ này trước tiên kiểm tra xem giá trị hiện tại của `car` có phải là `'bmw'`(dòng 4) hay không. Nếu có, giá trị được in bằng chữ in hoa. Nếu giá trị của `car` là bất cứ thứ gì khác ngoài `'bmw'`, thì nó được in trong trường hợp tiêu đề."
   ]
  },
  {
   "cell_type": "markdown",
   "metadata": {},
   "source": [
    "- Ví dụ này kết hợp một số khái niệm mà bạn sẽ tìm hiểu về trong chương này. Hãy bắt đầu bằng cách xem xét các loại kiểm tra bạn có thể sử dụng để kiểm tra các điều kiện trong chương trình của bạn."
   ]
  },
  {
   "cell_type": "markdown",
   "metadata": {},
   "source": [
    "## 2. Conditional Tests"
   ]
  },
  {
   "cell_type": "markdown",
   "metadata": {},
   "source": [
    "**Trọng tâm của mọi câu lệnh if là một biểu thức có thể được đánh giá là `Đúng(True) hoặc Sai(False)` và được gọi là kiểm tra có điều kiện**. Python sử dụng các giá trị Đúng và Sai để quyết định xem code theo sau câu lệnh if có được thực thi hay không. Nếu việc kiểm tra có điều kiện được đánh giá là True, Python sẽ thực thi code theo sau câu lệnh if. Nếu kiểm tra đánh giá là Sai, Python sẽ bỏ qua code theo sau câu lệnh if."
   ]
  },
  {
   "cell_type": "markdown",
   "metadata": {},
   "source": [
    "### Checking for Equality"
   ]
  },
  {
   "cell_type": "markdown",
   "metadata": {},
   "source": [
    "Hầu hết các thử nghiệm có điều kiện so sánh giá trị hiện tại của một biến với một giá trị quan tâm cụ thể. Thử nghiệm có điều kiện đơn giản nhất kiểm tra xem giá trị của biến có bằng giá trị ta quan tâm hay không:"
   ]
  },
  {
   "cell_type": "code",
   "execution_count": 2,
   "metadata": {},
   "outputs": [
    {
     "data": {
      "text/plain": [
       "True"
      ]
     },
     "execution_count": 2,
     "metadata": {},
     "output_type": "execute_result"
    }
   ],
   "source": [
    "car = 'bwm'\n",
    "car == 'bwm'"
   ]
  },
  {
   "cell_type": "markdown",
   "metadata": {},
   "source": [
    "- Dòng thứ 1 đặt `car` được gán giá trị là 'bmw' bằng cách sử dụng một dấu bằng duy nhất, như bạn đã thấy nhiều lần rồi. Dòng tại 2 **kiểm tra xem giá trị của car có phải là 'bmw' hay không** bằng cách sử dụng **`dấu bằng kép (==)`**. **Equality operator** này trả về True nếu các giá trị ở bên trái và bên phải của toán tử khớp và sai nếu chúng không khớp. Các giá trị trong ví dụ này khớp, vì vậy Python trả về True.\n",
    "- Khi giá trị của `car` là cái gì đó ngoại trừ 'bmw', khi thử điều kiên sẽ sai:"
   ]
  },
  {
   "cell_type": "code",
   "execution_count": 3,
   "metadata": {},
   "outputs": [
    {
     "data": {
      "text/plain": [
       "False"
      ]
     },
     "execution_count": 3,
     "metadata": {},
     "output_type": "execute_result"
    }
   ],
   "source": [
    "car = 'audi'\n",
    "car == 'bwm'"
   ]
  },
  {
   "cell_type": "markdown",
   "metadata": {},
   "source": [
    "- Một dấu bằng `=` duy nhất thực sự là **phép gán(assignment)**. Mặt khác, một dấu bằng kép là đặt ra một câu hỏi mà câu trả lời chỉ có thể là có hoặc không tương ứng với True và False: **\"Giá trị của car có bằng 'bmw' không ?**"
   ]
  },
  {
   "cell_type": "markdown",
   "metadata": {},
   "source": [
    "### Ignoring Case When Checking for Equality"
   ]
  },
  {
   "cell_type": "markdown",
   "metadata": {},
   "source": [
    "Kiểm tra sự bằng nhau phụ thuộc vào chữ hoa chữ thường nếu đối tượng ta quan tâm là sự kết hợp từ string. Ví dụ: hai giá trị có viết hoa khác nhau không được coi là bằng nhau:"
   ]
  },
  {
   "cell_type": "code",
   "execution_count": 5,
   "metadata": {},
   "outputs": [
    {
     "data": {
      "text/plain": [
       "False"
      ]
     },
     "execution_count": 5,
     "metadata": {},
     "output_type": "execute_result"
    }
   ],
   "source": [
    "car = 'Audi'\n",
    "car == 'audi'"
   ]
  },
  {
   "cell_type": "markdown",
   "metadata": {},
   "source": [
    "- Trong trường hợp cần phân biệt rõ thì điều trên rất hữu ích. Nhưng nếu trường hợp không có vấn đề và thay vào đó bạn chỉ muốn kiểm tra giá trị của một biến, bạn có thể chuyển đổi giá trị của biến thành chữ thường trước khi thực hiện so sánh:"
   ]
  },
  {
   "cell_type": "code",
   "execution_count": 7,
   "metadata": {},
   "outputs": [
    {
     "data": {
      "text/plain": [
       "True"
      ]
     },
     "execution_count": 7,
     "metadata": {},
     "output_type": "execute_result"
    }
   ],
   "source": [
    "car = 'Audi'\n",
    "car.lower() == 'audi'"
   ]
  },
  {
   "cell_type": "markdown",
   "metadata": {},
   "source": [
    "- Test này sẽ trả về True cho dù giá trị 'Audi' được định dạng như thế nào vì việc kiểm tra hiện không phân biệt chữ hoa chữ thường. Hàm **lower() không thay đổi giá trị ban đầu được lưu trữ** trong car, vì vậy bạn có thể thực hiện loại so sánh này mà không ảnh hưởng đến biến ban đầu:"
   ]
  },
  {
   "cell_type": "code",
   "execution_count": 9,
   "metadata": {},
   "outputs": [
    {
     "data": {
      "text/plain": [
       "'Audi'"
      ]
     },
     "execution_count": 9,
     "metadata": {},
     "output_type": "execute_result"
    }
   ],
   "source": [
    "car = 'Audi'\n",
    "car.lower() == 'audi'\n",
    "car"
   ]
  },
  {
   "cell_type": "markdown",
   "metadata": {},
   "source": [
    "- Cách trang web thực thi các quy tắc nhất định cho dữ liệu mà người dùng nhập vào tương tự như thế này. Ví dụ: một trang web có thể sử dụng một câu test có điều kiện như thế này để đảm bảo rằng mọi người dùng đều có tên người dùng thực sự duy nhất, không chỉ là một biến thể về cách viết hoa của tên người dùng khác. Khi ai đó gửi tên người dùng mới, tên người dùng mới đó được chuyển đổi thành chữ thường và được so sánh với các phiên bản chữ thường của tất cả tên người dùng hiện có. Trong lần kiểm tra này, tên người dùng như 'John' sẽ bị từ chối nếu bất kỳ biến thể nào của 'john' đã được sử dụng."
   ]
  },
  {
   "cell_type": "markdown",
   "metadata": {},
   "source": [
    "### Checking for Inequality"
   ]
  },
  {
   "cell_type": "markdown",
   "metadata": {},
   "source": [
    "Khi bạn muốn xác định xem hai giá trị nào đó có khác nhau hay không, bạn có thể kết hợp một dấu chấm than và dấu bằng (! =). Dấu chấm than đại diện cho không, như trong nhiều ngôn ngữ lập trình.\n",
    "- Hãy để sử dụng câu lệnh if khác để kiểm tra cách sử dụng bất đẳng thức. Chúng ta sẽ lưu trữ một chiếc bánh pizza được yêu cầu đứng đầu trong một biến và sau đó in một tin nhắn nếu người đó không đặt mua cá cơm:"
   ]
  },
  {
   "cell_type": "code",
   "execution_count": 10,
   "metadata": {},
   "outputs": [
    {
     "name": "stdout",
     "output_type": "stream",
     "text": [
      "Hold the anchovies!\n"
     ]
    }
   ],
   "source": [
    "requested_topping = 'mushrooms'\n",
    "if requested_topping != 'anchovies':\n",
    "    print(\"Hold the anchovies!\")"
   ]
  },
  {
   "cell_type": "markdown",
   "metadata": {},
   "source": [
    "- Tại *line 2, so sánh giá trị của request_topping với giá trị \"anchovies\"*. **Nếu hai giá trị này không khớp nhau, Python trả về True và thực thi mã theo câu lệnh if**. Nếu hai giá trị khớp nhau, Python trả về False và không chạy code theo sau câu lệnh if."
   ]
  },
  {
   "cell_type": "markdown",
   "metadata": {},
   "source": [
    "- Hầu hết các biểu thức điều kiện bạn viết sẽ kiểm tra sự bằng nhau, nhưng đôi khi bạn sẽ thấy hiệu quả hơn khi kiểm tra sự không bằng nhau."
   ]
  },
  {
   "cell_type": "markdown",
   "metadata": {},
   "source": [
    "### Numerical Comparisons"
   ]
  },
  {
   "cell_type": "markdown",
   "metadata": {},
   "source": [
    "- Kiểm tra các giá trị số thì khá đơn giản. Ví dụ: đoạn mã sau kiểm tra xem một người có đủ 18 tuổi không:"
   ]
  },
  {
   "cell_type": "code",
   "execution_count": 11,
   "metadata": {},
   "outputs": [
    {
     "data": {
      "text/plain": [
       "True"
      ]
     },
     "execution_count": 11,
     "metadata": {},
     "output_type": "execute_result"
    }
   ],
   "source": [
    "age = 18\n",
    "age == 18"
   ]
  },
  {
   "cell_type": "markdown",
   "metadata": {},
   "source": [
    "- Bạn cũng có thể kiểm tra xem hai số không bằng nhau. Ví dụ: đoạn mã sau in một thông báo nếu answer đã cho không đúng:"
   ]
  },
  {
   "cell_type": "code",
   "execution_count": 12,
   "metadata": {},
   "outputs": [
    {
     "name": "stdout",
     "output_type": "stream",
     "text": [
      "That is not the correct answer. Please try again!\n"
     ]
    }
   ],
   "source": [
    "answer = 17\n",
    "\n",
    "if answer != 42:\n",
    "    print(\"That is not the correct answer. Please try again!\")"
   ]
  },
  {
   "cell_type": "markdown",
   "metadata": {},
   "source": [
    "- Kiểm tra có điều kiện tại dòng 3 trả về giá trị True, vì giá trị answer không bằng 42. Vì giá trị kiểm tra điều đúng nên, khối mã thụt lề được thực thi."
   ]
  },
  {
   "cell_type": "markdown",
   "metadata": {},
   "source": [
    "- Bạn cũng có thể thêm các so sánh toán học khác nhau trong các câu điều kiện của mình, chẳng hạn như bằng(equal), lớn hơn(greater), nhỏ hơn(greater than) hoặc bằng:"
   ]
  },
  {
   "cell_type": "code",
   "execution_count": 14,
   "metadata": {},
   "outputs": [
    {
     "name": "stdout",
     "output_type": "stream",
     "text": [
      "True\n",
      "True\n",
      "False\n",
      "False\n"
     ]
    }
   ],
   "source": [
    "age = 19\n",
    "print(age < 21)\n",
    "print(age <= 21)\n",
    "print(age > 21)\n",
    "print(age >= 21)"
   ]
  },
  {
   "cell_type": "markdown",
   "metadata": {},
   "source": [
    "- Mỗi so sánh toán học có thể được sử dụng như một phần của câu lệnh if, có thể giúp bạn phát hiện các điều kiện quan tâm chính xác."
   ]
  },
  {
   "cell_type": "markdown",
   "metadata": {},
   "source": [
    "### Checking Multiple Conditions"
   ]
  },
  {
   "cell_type": "markdown",
   "metadata": {},
   "source": [
    "**Bạn có thể muốn kiểm tra nhiều điều kiện cùng một lúc**. Ví dụ: đôi khi bạn có thể cần hai điều kiện là True để thực hiện hành động. Những lần khác, bạn có thể hài lòng với chỉ một điều kiện là Đúng. Các từ khóa **`and`, `or`** có thể giúp bạn trong những tình huống này."
   ]
  },
  {
   "cell_type": "markdown",
   "metadata": {},
   "source": [
    "#### Using and to Check Multiple Conditions"
   ]
  },
  {
   "cell_type": "markdown",
   "metadata": {},
   "source": [
    "Để kiểm tra xem hai điều kiện có đồng thời đúng không, sử dụng từ khóa **`and`** kết hợp hai việc kiểm tra có điều kiện; nếu mỗi test đều đúng, biểu thức tổng thể sẽ ước tính là True. Nếu một trong hai test thất bại hoặc nếu cả hai test đều thất bại, biểu thức sẽ tổng thể sẽ sai."
   ]
  },
  {
   "cell_type": "markdown",
   "metadata": {},
   "source": [
    "- Ví dụ: bạn có thể kiểm tra xem hai người có trên 21 tuổi hay không bằng cách sử dụng bài kiểm tra sau:"
   ]
  },
  {
   "cell_type": "code",
   "execution_count": 16,
   "metadata": {},
   "outputs": [
    {
     "name": "stdout",
     "output_type": "stream",
     "text": [
      "False\n",
      "False\n"
     ]
    }
   ],
   "source": [
    "age_0 = 22\n",
    "age_1 = 18\n",
    "print(age_0 >= 21 and age_1 >= 21)\n",
    "\n",
    "age_0 = 22\n",
    "age_1 = 18\n",
    "print(age_0 >= 21 and age_1 >= 21)"
   ]
  },
  {
   "cell_type": "markdown",
   "metadata": {},
   "source": [
    "- Tại dòng 1 và dòng 2, chúng ta khởi tạo hai giá trị, age_0 và age_1. Tại dòng 3 chúng ta kiểm tra xem cả hai độ tuổi có  từ 21 trở lên hay không. **Phép thử bên trái thành công, nhưng phép thử bên trái thất bại, vì vậy biểu thức điều kiện tổng thể đánh giá là Sai**. Tại dòng 5 và 6, chúng ta thay đổi age_1 thành 22. Giá trị của age_1 hiện lớn hơn 21, vì vậy **cả hai phép kiểm tra riêng lẻ đúng, khiến biểu thức điều kiện tổng thể được đánh giá là True**. Để cải thiện khả năng đọc, bạn có thể **sử dụng dấu ngoặc đơn xung quanh, nhưng chúng không bắt buộc**. Nếu bạn sử dụng dấu ngoặc đơn, biểu thức điều kiện của bạn sẽ như vầy:"
   ]
  },
  {
   "cell_type": "code",
   "execution_count": 17,
   "metadata": {},
   "outputs": [
    {
     "data": {
      "text/plain": [
       "False"
      ]
     },
     "execution_count": 17,
     "metadata": {},
     "output_type": "execute_result"
    }
   ],
   "source": [
    "(age_0 >= 21) and (age_1 >= 21)"
   ]
  },
  {
   "cell_type": "markdown",
   "metadata": {},
   "source": [
    "#### Using `or` to Check Multiple Conditions"
   ]
  },
  {
   "cell_type": "markdown",
   "metadata": {},
   "source": [
    "Từ khóa **`or`** cho phép bạn kiểm tra nhiều điều kiện là đúng, nhưng nó đúng khi một hoặc cả hai biểu thức điều kiện con đúng. Nó chỉ sai khi toàn bộ những điều kiện con của nó mang giá trị False.\n",
    "- Xem xét ví dụ lúc nảy, nhưng lần này chúng ta sẽ chỉ tìm một người trên 21 tuổi:"
   ]
  },
  {
   "cell_type": "code",
   "execution_count": 19,
   "metadata": {},
   "outputs": [
    {
     "name": "stdout",
     "output_type": "stream",
     "text": [
      "True\n",
      "False\n"
     ]
    }
   ],
   "source": [
    "age_0 = 22\n",
    "age_1 = 18\n",
    "print(age_0 >= 21 or age_1 >= 21)\n",
    "\n",
    "age_0 = 18\n",
    "print(age_0 >= 21 or age_1 >= 21)"
   ]
  },
  {
   "cell_type": "markdown",
   "metadata": {},
   "source": [
    "- Chúng ta bắt đầu với hai biến age_0 và age_1 lần nữa. Bởi vì **age_0 $\\geq21$ là đúng** nên **biểu thức tổng thể đánh giá là True** dù cho **age_1 $\\geq21$ sai**. Sau đó, chúng ta giảm age_0 xuống còn 18. Thử lại thì cả 2 biểu thức điều kiện con điều sai cả, nên tổng thể sai."
   ]
  },
  {
   "cell_type": "markdown",
   "metadata": {},
   "source": [
    "### Checking Whether a Value Is in a List"
   ]
  },
  {
   "cell_type": "markdown",
   "metadata": {},
   "source": [
    "**Thường việc kiểm tra xem một danh sách có chứa một giá trị xác định nào đó hay không trước khi thực hiện một thao tác gì đó rất quan trọng**. Ví dụ: bạn có thể muốn kiểm tra xem tên người dùng mới đã tồn tại trong danh sách tên người dùng hiện tại hay chưa trước khi hoàn thành việc đăng ký tài khoảng cho ai đó trên một trang web. Trong dự án lập bản đồ, bạn có thể muốn kiểm tra xem vị trí đã gửi đã tồn tại trong danh sách các vị trí đã biết chưa. \n",
    "- Để tìm hiểu xem một giá trị cụ thể đã có trong danh sách chưa, hãy sử dụng từ khóa **`in`**. Hãy xem xét một số code bạn có thể viết cho một cửa hàng bánh pizza. Chúng ta sẽ lập một danh sách các loại toppings mà khách hàng đã yêu cầu cho một chiếc bánh pizza và sau đó kiểm tra xem một số toppings có trong danh sách hay không."
   ]
  },
  {
   "cell_type": "code",
   "execution_count": 21,
   "metadata": {},
   "outputs": [
    {
     "name": "stdout",
     "output_type": "stream",
     "text": [
      "True\n",
      "False\n"
     ]
    }
   ],
   "source": [
    "requested_toppings = ['mushrooms', 'onions', 'pineapple']\n",
    "print('mushrooms' in requested_toppings)\n",
    "print('pepperoni' in requested_toppings)"
   ]
  },
  {
   "cell_type": "markdown",
   "metadata": {},
   "source": [
    "- Tại dòng 2 và 3, từ khóa **`in`** báo cho Python kiểm tra sự tồn tại của 'mushrooms' và 'pepperoni' trong danh sách Request_toppings. Kỹ thuật này khá hay vì bạn có thể tạo một danh sách các giá trị thiết yếu, sau đó dễ dàng kiểm tra xem giá trị bạn thử nghiệm có match với một trong các giá trị trong danh sách hay không."
   ]
  },
  {
   "cell_type": "markdown",
   "metadata": {},
   "source": [
    "### Checking Whether a Value Is Not in a List"
   ]
  },
  {
   "cell_type": "markdown",
   "metadata": {},
   "source": [
    "Ngoài ra, điều quan trọng là phải biết nếu một giá trị không xuất hiện trong danh sách. Bạn có thể sử dụng từ khóa **`not`** trong tình huống này. Ví dụ, hãy xem xét một danh sách người dùng bị cấm bình luận trong một diễn đàn. Bạn có thể kiểm tra xem người dùng có bị cấm hay không trước khi cho phép người đó gửi nhận xét:"
   ]
  },
  {
   "cell_type": "code",
   "execution_count": 22,
   "metadata": {},
   "outputs": [
    {
     "name": "stdout",
     "output_type": "stream",
     "text": [
      "Marie, you can post a response if you wish.\n"
     ]
    }
   ],
   "source": [
    "banned_users = ['andrew', 'carolina', 'david']\n",
    "user = 'marie'\n",
    "\n",
    "if user not in banned_users:\n",
    "    print(f\"{user.title()}, you can post a response if you wish.\")"
   ]
  },
  {
   "cell_type": "markdown",
   "metadata": {},
   "source": [
    "- Rõ ràng tại dòng 4, nếu người dùng không có trong danh sách **banned_users*, Python trả về True và thực thi dòng thụt lề. Người dùng 'marie' không có trong danh sách bị cấm, vì vậy cô ấy thấy một thông báo mời cô ấy gửi phản hồi."
   ]
  },
  {
   "cell_type": "markdown",
   "metadata": {},
   "source": [
    "### Boolean Expressions"
   ]
  },
  {
   "cell_type": "markdown",
   "metadata": {},
   "source": [
    "Khi bạn tìm hiểu thêm về lập trình, bạn sẽ nghe thấy thuật ngữ **`Boolean expression`** tại một số điểm. Biểu thức Boolean chỉ là một tên khác cho biểu thức điều kiện. **Giá trị Boolean là Đúng hoặc Sai**, giống như giá trị của biểu thức điều kiện sau khi được đánh giá.\n",
    "- Các giá trị Boolean thường được sử dụng để theo dõi các điều kiện nhất định, chẳng hạn như liệu trò chơi có đang chạy hay người dùng có thể chỉnh sửa nội dung nhất định trên trang web hay không:"
   ]
  },
  {
   "cell_type": "code",
   "execution_count": 23,
   "metadata": {},
   "outputs": [],
   "source": [
    "game_active = True\n",
    "can_edit = False"
   ]
  },
  {
   "cell_type": "markdown",
   "metadata": {},
   "source": [
    "- Các giá trị Boolean cung cấp một cách hiệu quả để theo dõi trạng thái của chương trình hoặc một điều kiện cụ thể quan trọng trong chương trình của bạn."
   ]
  },
  {
   "cell_type": "markdown",
   "metadata": {},
   "source": [
    "### Test Yourself"
   ]
  },
  {
   "cell_type": "markdown",
   "metadata": {},
   "source": [
    "1. **Conditional Tests**: Write a series of conditional tests. Print a statement describing each test and your prediction for the results of each test. Your code should look something like this:"
   ]
  },
  {
   "attachments": {
    "image.png": {
     "image/png": "[encoded data removed]"
    }
   },
   "cell_type": "markdown",
   "metadata": {},
   "source": [
    "![image.png](attachment:image.png)"
   ]
  },
  {
   "cell_type": "markdown",
   "metadata": {},
   "source": [
    "    + Look closely at your results, and make sure you understand why each line evaluates to True or False.\n",
    "    + Create at least ten tests. Have at least five tests evaluate to True and another five tests evaluate to False."
   ]
  },
  {
   "cell_type": "code",
   "execution_count": 25,
   "metadata": {},
   "outputs": [],
   "source": [
    "# Code bài 1"
   ]
  },
  {
   "cell_type": "markdown",
   "metadata": {},
   "source": [
    "2. **More Conditional Tests**: You don’t have to limit the number of tests you create to ten. If you want to try more comparisons, write more tests and add them to conditional_tests.py. Have at least one True and one False result for each of the following:\n",
    "    + Tests for equality and inequality with strings\n",
    "    + Tests using the lower() method\n",
    "    + Numerical tests involving equality and inequality, greater than and less than, greater than or equal to, and less than or equal to\n",
    "    + Tests using the and keyword and the or keyword\n",
    "    + Test whether an item is in a list\n",
    "    + Test whether an item is not in a list"
   ]
  },
  {
   "cell_type": "code",
   "execution_count": 26,
   "metadata": {},
   "outputs": [],
   "source": [
    "# Code bài 2"
   ]
  },
  {
   "cell_type": "markdown",
   "metadata": {},
   "source": [
    "## 3. if Statements"
   ]
  },
  {
   "cell_type": "markdown",
   "metadata": {},
   "source": [
    "**Khi bạn hiểu các câu lệnh kiểm có điều kiện, bạn có thể bắt đầu viết if Statement**. Một số loại câu lệnh if khác nhau tồn tại và việc bạn chọn sử dụng tùy thuộc vào số lượng điều kiện bạn cần kiểm tra. Bạn đã thấy một số ví dụ về các câu lệnh if trong cuộc thảo luận về các kiểm tra có điều kiện, nhưng bây giờ hãy để sâu đào sâu vào chủ đề."
   ]
  },
  {
   "cell_type": "markdown",
   "metadata": {},
   "source": [
    "### Simple if Statements"
   ]
  },
  {
   "cell_type": "markdown",
   "metadata": {},
   "source": [
    "Loại câu lệnh if đơn giản nhất có một kiểm tra và một hành động:"
   ]
  },
  {
   "attachments": {
    "image.png": {
     "image/png": "[encoded data removed]"
    }
   },
   "cell_type": "markdown",
   "metadata": {},
   "source": [
    "![image.png](attachment:image.png)"
   ]
  },
  {
   "cell_type": "markdown",
   "metadata": {},
   "source": [
    "- Nếu **conditional_test** được đánh giá **đúng** thì thực hiện câu lệnh do_somthing theo sau câu lệnh if. Ngược lại, nếu **conditional_test sai** thì **bỏ qua lệnh theo sau câu lệnh if**."
   ]
  },
  {
   "cell_type": "markdown",
   "metadata": {},
   "source": [
    "- Hãy nói rằng chúng ta có một biến đại diện cho tuổi của một người và chúng tôi muốn biết liệu người đó có đủ tuổi để bỏ phiếu bầu cử hay không. Code sau đây kiểm tra xem người đó có thể bỏ phiếu:"
   ]
  },
  {
   "cell_type": "code",
   "execution_count": null,
   "metadata": {},
   "outputs": [],
   "source": [
    "age = 19\n",
    "if age >= 18:\n",
    "    print(\"You are old enough to vote!\")"
   ]
  },
  {
   "cell_type": "markdown",
   "metadata": {},
   "source": [
    "- Sự thụt lề đóng vai trò tương tự trong các câu lệnh if tương tự trong các vòng lặp. **Tất cả các dòng thụt vào sau một câu lệnh if sẽ được thực thi nếu conditional_test đúng và toàn bộ khối các dòng thụt lề sẽ bị bỏ qua nếu kiểm tra không đúng(sai)**.\n",
    "- Bạn có thể có nhiều dòng code nếu bạn muốn trong khối theo sau câu lệnh if. Hãy thêm một dòng đầu ra khác nếu người đó đủ tuổi để bỏ phiếu, hỏi xem cá nhân đó đã đăng ký bỏ phiếu chưa:"
   ]
  },
  {
   "cell_type": "code",
   "execution_count": 29,
   "metadata": {},
   "outputs": [
    {
     "name": "stdout",
     "output_type": "stream",
     "text": [
      "You are old enough to vote!\n",
      "Have you registered to vote yet?\n"
     ]
    }
   ],
   "source": [
    "age = 19\n",
    "if age >= 18:\n",
    "    print(\"You are old enough to vote!\")\n",
    "    print(\"Have you registered to vote yet?\")"
   ]
  },
  {
   "cell_type": "markdown",
   "metadata": {},
   "source": [
    "### if-else Statements"
   ]
  },
  {
   "cell_type": "markdown",
   "metadata": {},
   "source": [
    "Thông thường, bạn sẽ muốn thực hiện một hành động khi kiểm tra có điều kiện trả về giá trị đúng và một hành động khác trong tất cả các trường hợp ngược lại. Cú pháp **`if-else`** của Python giải quyết điều này. Một khối **if-else** tương tự như một câu lệnh if đơn giản, nhưng câu lệnh khác cho phép bạn xác định một hành động hoặc tập hợp các hành động được thực thi khi việc kiểm tra điều kiện trả về giá trị False."
   ]
  },
  {
   "cell_type": "markdown",
   "metadata": {},
   "source": [
    "- Chúng ta sẽ hiển thị cùng một thông điệp mà chúng ta đã có trước đây nếu người đó đủ tuổi để bỏ phiếu, nhưng lần này chúng ta sẽ thêm một tin nhắn cho bất cứ ai chưa đủ tuổi để bỏ phiếu:"
   ]
  },
  {
   "cell_type": "code",
   "execution_count": 30,
   "metadata": {},
   "outputs": [
    {
     "name": "stdout",
     "output_type": "stream",
     "text": [
      "Sorry, you are too young to vote.\n",
      "Please register to vote as soon as you turn 18!\n"
     ]
    }
   ],
   "source": [
    "age = 17\n",
    "if age >= 18:\n",
    "    print(\"You are old enough to vote!\")\n",
    "    print(\"Have you registered to vote yet?\")\n",
    "else:\n",
    "    print(\"Sorry, you are too young to vote.\")\n",
    "    print(\"Please register to vote as soon as you turn 18!\")"
   ]
  },
  {
   "cell_type": "markdown",
   "metadata": {},
   "source": [
    "- **Nếu biểu thức điều kiện trả về giá trị True, thì khối lệnh được thụt lề theo sau câu lệnh if được thực hiện. Ngược lại, nếu biểu thức điều kiện trả về giá trị False thì khối lệnh được thụt lề theo sau câu lệnh else sẽ được thực thi**. Vì age $<18$, giá trị biểu thức điều kiện là False nên khối lệnh else được thực hiện."
   ]
  },
  {
   "cell_type": "markdown",
   "metadata": {},
   "source": [
    "- Code này hoạt động vì nó chỉ có hai tình huống có thể đánh giá: một người đủ tuổi để bỏ phiếu hoặc không đủ tuổi để bỏ phiếu. Cấu trúc **if-else** hoạt động tốt trong các tình huống mà bạn muốn Python **luôn thực thi một trong hai hành động có thể**. Trong một chuỗi if-else đơn giản như thế này, một trong hai hành động sẽ luôn được thực thi."
   ]
  },
  {
   "cell_type": "markdown",
   "metadata": {},
   "source": [
    "### The if-elif-else Chain"
   ]
  },
  {
   "cell_type": "markdown",
   "metadata": {},
   "source": [
    "Thông thường, bạn sẽ cần kiểm tra nhiều hơn hai tình huống có thể và để đánh giá những tình huống này, bạn có thể sử dụng cú pháp **`if-elif-else`** của Python. Python **chỉ thực thi một khối trong chuỗi if-elif-else**. Nó chạy từng biểu thức điều kiện và đánh giá theo thứ tự cho đến khi bắt gặp biểu thức điều kiện đúng. Khi biểu thức điều kiện được kiểm tra là đúng, code theo sau biểu thức điều kiện đó được thực thi và Python bỏ qua phần còn lại.\n",
    "- Nhiều tình huống trong thế giới thực liên quan đến nhiều hơn hai điều kiện có thể. Ví dụ: hãy xem xét một công viên giải trí tính phí khác nhau cho các nhóm tuổi khác nhau:\n",
    "    + Admission for anyone under age 4 is free.\n",
    "    + Admission for anyone between the ages of 4 and 18 is `25$`.\n",
    "    + Admission for anyone age 18 or older is `$40`."
   ]
  },
  {
   "cell_type": "markdown",
   "metadata": {},
   "source": [
    "- Làm thế nào chúng ta có thể sử dụng một câu lệnh if để xác định tỉ lệ admission của một người ? Đoạn code sau đây kiểm tra nhóm tuổi của một người và sau đó in thông báo giá vào cổng:"
   ]
  },
  {
   "cell_type": "code",
   "execution_count": 33,
   "metadata": {},
   "outputs": [
    {
     "name": "stdout",
     "output_type": "stream",
     "text": [
      "Your admission cost is $25.\n"
     ]
    }
   ],
   "source": [
    "age = 12\n",
    "\n",
    "if age < 4:\n",
    "    print(\"Your admission cost is $0.\")\n",
    "elif age < 18:\n",
    "    print(\"Your admission cost is $25.\")\n",
    "else:\n",
    "    print(\"Your admission cost is $40.\")"
   ]
  },
  {
   "cell_type": "markdown",
   "metadata": {},
   "source": [
    "- Một cách làm khác:"
   ]
  },
  {
   "cell_type": "code",
   "execution_count": 3,
   "metadata": {},
   "outputs": [
    {
     "name": "stdout",
     "output_type": "stream",
     "text": [
      "Your admission cost is $25.\n"
     ]
    }
   ],
   "source": [
    "age = 12\n",
    "\n",
    "if age < 4:\n",
    "    price = 0\n",
    "elif age < 18:\n",
    "    price = 25\n",
    "else:\n",
    "    price = 40\n",
    "    \n",
    "print(f\"Your admission cost is ${price}.\")"
   ]
  },
  {
   "cell_type": "markdown",
   "metadata": {},
   "source": [
    "- Đoạn code này cho output giống như output của ví dụ trên, nhưng mục đích của chuỗi if-elif-else hẹp hơn. Thay vì xác định giá và hiển thị một thông báo, nó chỉ đơn giản là xác định giá *price*. Ngoài việc hiệu quả hơn, đoạn code này này dễ sửa đổi hơn so với cách tiếp cận ban đầu. Để thay đổi văn bản của thông báo đầu ra, bạn chỉ cần thay đổi một lời gọi hàm print() thay vì ba lời gọi hàm print() riêng biệt."
   ]
  },
  {
   "cell_type": "markdown",
   "metadata": {},
   "source": [
    "### *Using Multiple elif Blocks*"
   ]
  },
  {
   "cell_type": "markdown",
   "metadata": {},
   "source": [
    "**Bạn có thể sử dụng bao nhiêu khối elif trong mã của mình tùy thích**. Ví dụ: nếu công viên giải trí thực hiện giảm giá cho người cao niên, bạn có thể thêm một điều kiện kiểm tra vào your code để xác định xem ai đó có đủ điều kiện để được giảm giá cao cấp hay không. Cho là bất cứ ai từ 65 tuổi trở lên trả một nửa số tiền vào cổng thông thường, hoặc $20:"
   ]
  },
  {
   "cell_type": "code",
   "execution_count": 4,
   "metadata": {},
   "outputs": [
    {
     "name": "stdout",
     "output_type": "stream",
     "text": [
      "Your admission cost is $25.\n"
     ]
    }
   ],
   "source": [
    "age = 12\n",
    "\n",
    "if age < 4:\n",
    "    price = 0\n",
    "elif age < 18:\n",
    "    price = 25\n",
    "elif age < 65:\n",
    "    price = 40\n",
    "else:\n",
    "    price = 20\n",
    "    \n",
    "print(f\"Your admission cost is ${price}.\")"
   ]
  },
  {
   "cell_type": "markdown",
   "metadata": {},
   "source": [
    "### *Omitting the else Block*"
   ]
  },
  {
   "cell_type": "markdown",
   "metadata": {},
   "source": [
    "- Khối lệnh if-elif-else không nhất thiết có cần phải có else."
   ]
  },
  {
   "cell_type": "code",
   "execution_count": 3,
   "metadata": {},
   "outputs": [
    {
     "name": "stdout",
     "output_type": "stream",
     "text": [
      "Your admission cost is $25.\n"
     ]
    }
   ],
   "source": [
    "age = 12\n",
    "\n",
    "if age < 4:\n",
    "    price = 0\n",
    "elif age < 18:\n",
    "    price = 25\n",
    "elif age < 65:\n",
    "    price = 40\n",
    "elif age >= 65:\n",
    "    price = 20\n",
    "    \n",
    "print(f\"Your admission cost is ${price}.\")"
   ]
  },
  {
   "cell_type": "markdown",
   "metadata": {},
   "source": [
    "- Khi đấy khối lệnh trở thành if-elif block. Nó chỉ ra điều kiện cụ thể để thực hiện code, do không còn khói else nữa. Vì vậy khối này đây là điều thuận lợi khi ta muốn thực thi lệnh nào đó cho một điều kiện duy nhất cụ thể."
   ]
  },
  {
   "cell_type": "markdown",
   "metadata": {},
   "source": [
    "### *Testing Multiple Conditions*"
   ]
  },
  {
   "cell_type": "markdown",
   "metadata": {},
   "source": [
    "- Ở trên ta đã bàn về cách sử dụng khối lệnh if-elif-else, if-elif. Phần này ta sẽ tìm hiểu về câu lệnh if đơn thuần, nhưng mà với số lượng câu lệnh if nhiều để kiểm tra các điều kiện không phụ thuộc, liên quan với nhau."
   ]
  },
  {
   "cell_type": "code",
   "execution_count": 6,
   "metadata": {},
   "outputs": [
    {
     "name": "stdout",
     "output_type": "stream",
     "text": [
      "Adding mushrooms.\n",
      "Adding extra cheese.\n",
      "\n",
      "Finished making your pizza!\n"
     ]
    }
   ],
   "source": [
    "requested_toppings = ['mushrooms', 'extra cheese']\n",
    "\n",
    "if 'mushrooms' in requested_toppings:\n",
    "    print(\"Adding mushrooms.\")\n",
    "if 'pepperoni' in requested_toppings:\n",
    "    print(\"Adding pepperoni.\")\n",
    "if 'extra cheese' in requested_toppings:\n",
    "    print(\"Adding extra cheese.\")\n",
    "\n",
    "print(\"\\nFinished making your pizza!\")"
   ]
  },
  {
   "cell_type": "markdown",
   "metadata": {},
   "source": [
    "- Hãy so sánh đoạn code vừa rồi với đoạn code dưới đây về ý nghĩa và giá trị đầu ra:"
   ]
  },
  {
   "cell_type": "code",
   "execution_count": 7,
   "metadata": {},
   "outputs": [
    {
     "name": "stdout",
     "output_type": "stream",
     "text": [
      "Adding mushrooms.\n",
      "\n",
      "Finished making your pizza!\n"
     ]
    }
   ],
   "source": [
    "requested_toppings = ['mushrooms', 'extra cheese']\n",
    "\n",
    "if 'mushrooms' in requested_toppings:\n",
    "    print(\"Adding mushrooms.\")\n",
    "elif 'pepperoni' in requested_toppings:\n",
    "    print(\"Adding pepperoni.\")\n",
    "elif 'extra cheese' in requested_toppings:\n",
    "    print(\"Adding extra cheese.\")\n",
    "    \n",
    "print(\"\\nFinished making your pizza!\")"
   ]
  },
  {
   "cell_type": "markdown",
   "metadata": {},
   "source": [
    "- Nếu bạn chỉ muốn thực thi một đoạn code nào đó thì sử dụng if-elif-else block. Còn nếu muốn chạy nhiều hơn thì hãy chạy đọc lâp với nhau qua các câu lệnh if đọc lập với nhau."
   ]
  },
  {
   "cell_type": "markdown",
   "metadata": {},
   "source": [
    "### *Test Yourself*"
   ]
  },
  {
   "cell_type": "markdown",
   "metadata": {},
   "source": [
    "3. **Alien Colors**: Imagine an alien was just shot down in a game. Create a variable called alien_color and assign it a value of 'green' , 'yellow' , or 'red' .\n",
    "    - Write an if statement to test whether the alien’s color is green. If it is, print a message that the player just earned 5 points.\n",
    "    - Write one version of this program that passes the if test and another that fails. (The version that fails will have no output.)"
   ]
  },
  {
   "cell_type": "code",
   "execution_count": 8,
   "metadata": {},
   "outputs": [],
   "source": [
    "# Code bài 3 tại đây"
   ]
  },
  {
   "cell_type": "markdown",
   "metadata": {},
   "source": [
    "4. **Alien Colors**: Choose a color for an alien as you did in Exercise 3(abow), and write an if - else chain.\n",
    "    - If the alien’s color is green, print a statement that the player just earned 5 points for shooting the alien.\n",
    "    - If the alien’s color isn’t green, print a statement that the player just earned 10 points.\n",
    "    - Write one version of this program that runs the if block and another that runs the else block."
   ]
  },
  {
   "cell_type": "code",
   "execution_count": 9,
   "metadata": {},
   "outputs": [],
   "source": [
    "# Code bài 04 tại đây"
   ]
  },
  {
   "cell_type": "markdown",
   "metadata": {},
   "source": [
    "5. **Alien Colors**: Turn your if - else chain from Exercise 5-4 into an if - elif - else chain. \n",
    "    - If the alien is green, print a message that the player earned 5 points.\n",
    "    - If the alien is yellow, print a message that the player earned 10 points.\n",
    "    - If the alien is red, print a message that the player earned 15 points.\n",
    "    - Write three versions of this program, making sure each message is printed for the appropriate color alien."
   ]
  },
  {
   "cell_type": "code",
   "execution_count": 10,
   "metadata": {},
   "outputs": [],
   "source": [
    "# Code bài 5"
   ]
  },
  {
   "cell_type": "markdown",
   "metadata": {},
   "source": [
    "6. **Stages of Life**: Write an if - elif - else chain that determines a person’s stage of life. Set a value for the variable age , and then:\n",
    "    - If the person is less than 2 years old, print a message that the person is a baby.\n",
    "    - If the person is at least 2 years old but less than 4, print a message that the person is a toddler.\n",
    "    - If the person is at least 4 years old but less than 13, print a message that the person is a kid.\n",
    "    - If the person is at least 13 years old but less than 20, print a message that the person is a teenager.\n",
    "    - If the person is at least 20 years old but less than 65, print a message that the person is an adult.\n",
    "    - If the person is age 65 or older, print a message that the person is an elder."
   ]
  },
  {
   "cell_type": "code",
   "execution_count": 11,
   "metadata": {},
   "outputs": [],
   "source": [
    "# Code bài 6 tại đây"
   ]
  },
  {
   "cell_type": "markdown",
   "metadata": {},
   "source": [
    "7. **Favorite Fruit**: Make a list of your favorite fruits, and then write a series of independent if statements that check for certain fruits in your list.\n",
    "    - Make a list of your three favorite fruits and call it favorite_fruits.\n",
    "    - Write five if statements. Each should check whether a certain kind of fruit is in your list. If the fruit is in your list, the if block should print a statement, such as You really like bananas!"
   ]
  },
  {
   "cell_type": "markdown",
   "metadata": {},
   "source": [
    "## 4. Using if Statements with Lists"
   ]
  },
  {
   "cell_type": "markdown",
   "metadata": {},
   "source": [
    "You can do some interesting work when you combine lists and if statements. You can watch for special values that need to be treated differently than other values in the list. You can manage changing conditions efficiently, such as the availability of certain items in a restaurant throughout a shift. You can also begin to prove that your code works as you expect it to in all possible situations."
   ]
  },
  {
   "cell_type": "markdown",
   "metadata": {},
   "source": [
    "### *Checking for Special Items*"
   ]
  },
  {
   "cell_type": "markdown",
   "metadata": {},
   "source": [
    "This chapter began with a simple example that showed how to handle a special value like 'bmw' , which needed to be printed in a different format than other values in the list. Now that you have a basic understanding of conditional tests and if statements, let’s take a closer look at how you can watch for special values in a list and handle those values appropriately. \n",
    "- Let’s continue with the pizzeria example. The pizzeria displays a message whenever a topping is added to your pizza, as it’s being made. The code for this action can be written very efficiently by making a list of toppings the customer has requested and using a loop to announce each topping as it’s added to the pizza:"
   ]
  },
  {
   "cell_type": "code",
   "execution_count": 12,
   "metadata": {},
   "outputs": [
    {
     "name": "stdout",
     "output_type": "stream",
     "text": [
      "Adding mushrooms.\n",
      "Adding green peppers.\n",
      "Adding extra cheese.\n",
      "\n",
      "Finished making your pizza!\n"
     ]
    }
   ],
   "source": [
    "requested_toppings = ['mushrooms', 'green peppers', 'extra cheese']\n",
    "\n",
    "for requested_topping in requested_toppings:\n",
    "    print(f\"Adding {requested_topping}.\")\n",
    "    \n",
    "print(\"\\nFinished making your pizza!\")"
   ]
  },
  {
   "cell_type": "markdown",
   "metadata": {},
   "source": [
    "- But what if the pizzeria runs out of green peppers? An if statement inside the for loop can handle this situation appropriately:"
   ]
  },
  {
   "cell_type": "code",
   "execution_count": 13,
   "metadata": {},
   "outputs": [
    {
     "name": "stdout",
     "output_type": "stream",
     "text": [
      "Adding mushrooms.\n",
      "Sorry, we are out of green peppers right now.\n",
      "Adding extra cheese.\n",
      "\n",
      "Finished making your pizza!\n"
     ]
    }
   ],
   "source": [
    "requested_toppings = ['mushrooms', 'green peppers', 'extra cheese']\n",
    "\n",
    "for requested_topping in requested_toppings:\n",
    "    if requested_topping == 'green peppers':\n",
    "        print(\"Sorry, we are out of green peppers right now.\")\n",
    "    else:\n",
    "        print(f\"Adding {requested_topping}.\")\n",
    "        \n",
    "print(\"\\nFinished making your pizza!\")"
   ]
  },
  {
   "cell_type": "markdown",
   "metadata": {},
   "source": [
    "### *Checking That a List Is Not Empty*"
   ]
  },
  {
   "cell_type": "markdown",
   "metadata": {},
   "source": [
    "We’ve made a simple assumption about every list we’ve worked with so far; we’ve assumed that each list has at least one item in it. Soon we’ll let users provide the information that’s stored in a list, so we won’t be able to assume that a list has any items in it each time a loop is run. In this situation, it’s useful to check whether a list is empty before running a for loop.\n",
    "- As an example, let’s check whether the list of requested toppings is empty before building the pizza. If the list is empty, we’ll prompt the user and make sure they want a plain pizza. If the list is not empty, we’ll build the pizza just as we did in the previous examples:"
   ]
  },
  {
   "cell_type": "code",
   "execution_count": 16,
   "metadata": {},
   "outputs": [
    {
     "name": "stdout",
     "output_type": "stream",
     "text": [
      "Are you sure you want a plain pizza?\n"
     ]
    }
   ],
   "source": [
    "requested_toppings = []\n",
    "\n",
    "if requested_toppings:\n",
    "    for requested_topping in requested_toppings:\n",
    "        print(f\"Adding {requested_topping}.\")\n",
    "    print(\"\\nFinished making your pizza!\")\n",
    "else:\n",
    "    print(\"Are you sure you want a plain pizza?\")"
   ]
  },
  {
   "cell_type": "markdown",
   "metadata": {},
   "source": [
    "- Python returns True if the list contains at least one item; an empty list evaluates to False."
   ]
  },
  {
   "cell_type": "code",
   "execution_count": 18,
   "metadata": {},
   "outputs": [
    {
     "name": "stdout",
     "output_type": "stream",
     "text": [
      "Adding green peppers.\n",
      "Adding extra cheese.\n",
      "\n",
      "Finished making your pizza!\n"
     ]
    }
   ],
   "source": [
    "requested_toppings = ['green peppers', 'extra cheese']\n",
    "\n",
    "if requested_toppings:\n",
    "    for requested_topping in requested_toppings:\n",
    "        print(f\"Adding {requested_topping}.\")\n",
    "    print(\"\\nFinished making your pizza!\")\n",
    "else:\n",
    "    print(\"Are you sure you want a plain pizza?\")"
   ]
  },
  {
   "cell_type": "markdown",
   "metadata": {},
   "source": [
    "### *Using Multiple Lists*"
   ]
  },
  {
   "cell_type": "markdown",
   "metadata": {},
   "source": [
    "People will ask for just about anything, especially when it comes to pizza toppings. What if a customer actually wants french fries on their pizza? You can use lists and if statements to make sure your input makes sense before you act on it.\n",
    "- Let’s watch out for unusual topping requests before we build a pizza. The following example defines two lists. The first is a list of available toppings at the pizzeria, and the second is the list of toppings that the user has requested. This time, each item in requested_toppings is checked against the list of available toppings before it’s added to the pizza:"
   ]
  },
  {
   "cell_type": "code",
   "execution_count": 19,
   "metadata": {},
   "outputs": [
    {
     "name": "stdout",
     "output_type": "stream",
     "text": [
      "Adding mushrooms.\n",
      "Sorry, we don't have french fries.\n",
      "Adding extra cheese.\n",
      "\n",
      "Finished making your pizza!\n"
     ]
    }
   ],
   "source": [
    "available_toppings = ['mushrooms', 'olives', 'green peppers','pepperoni', 'pineapple', 'extra cheese']\n",
    "requested_toppings = ['mushrooms', 'french fries', 'extra cheese']\n",
    "\n",
    "for requested_topping in requested_toppings:\n",
    "    if requested_topping in available_toppings:\n",
    "        print(f\"Adding {requested_topping}.\")\n",
    "    else:\n",
    "        print(f\"Sorry, we don't have {requested_topping}.\")\n",
    "        \n",
    "print(\"\\nFinished making your pizza!\")"
   ]
  },
  {
   "cell_type": "markdown",
   "metadata": {},
   "source": [
    "*In just a few lines of code, we’ve managed a real-world situation pretty effectively!*"
   ]
  },
  {
   "cell_type": "markdown",
   "metadata": {},
   "source": [
    "### *Test Yourself*"
   ]
  },
  {
   "cell_type": "markdown",
   "metadata": {},
   "source": [
    "8. **Hello Admin**: Make a list of five or more usernames, including the name 'admin' . Imagine you are writing code that will print a greeting to each user after they log in to a website. Loop through the list, and print a greeting to each user:\n",
    "    - If the username is 'admin' , print a special greeting, such as Hello admin, would you like to see a status report?\n",
    "    - Otherwise, print a generic greeting, such as Hello Jaden, thank you for logging in again."
   ]
  },
  {
   "cell_type": "code",
   "execution_count": 20,
   "metadata": {},
   "outputs": [],
   "source": [
    "# Code bài 8 tại đây"
   ]
  },
  {
   "cell_type": "markdown",
   "metadata": {},
   "source": [
    "9. **No Users**: Add an if test to hello_admin.py to make sure the list of users is not empty.\n",
    "    - If the list is empty, print the message We need to find some users!- \n",
    "    - Remove all of the usernames from your list, and make sure the correct message is printed."
   ]
  },
  {
   "cell_type": "code",
   "execution_count": 21,
   "metadata": {},
   "outputs": [],
   "source": [
    "# Code bài 9 tại đây"
   ]
  },
  {
   "cell_type": "markdown",
   "metadata": {},
   "source": [
    "10. **Checking Usernames**: Do the following to create a program that simulates how websites ensure that everyone has a unique username. \n",
    "    - Make a list of five or more usernames called current_users .\n",
    "    - Make another list of five usernames called new_users . Make sure one or two of the new usernames are also in the current_users list. \n",
    "    - Loop through the new_users list to see if each new username has already been used. If it has, print a message that the person will need to enter a new username. If a username has not been used, print a message saying that the username is available. \n",
    "    -  Make sure your comparison is case insensitive. If 'John' has been used, 'JOHN' should not be accepted. (To do this, you’ll need to make a copy of current_users containing the lowercase versions of all existing users.)"
   ]
  },
  {
   "cell_type": "code",
   "execution_count": 22,
   "metadata": {},
   "outputs": [],
   "source": [
    "# COde bài 10"
   ]
  },
  {
   "cell_type": "markdown",
   "metadata": {},
   "source": [
    "11. **Ordinal Numbers**: Ordinal numbers indicate their position in a list, such as 1st or 2nd. Most ordinal numbers end in th, except 1, 2, and 3.\n",
    "    + Store the numbers 1 through 9 in a list.\n",
    "    + Loop through the list.\n",
    "    + Use an if - elif - else chain inside the loop to print the proper ordinal ending for each number. Your output should read \"1st 2nd 3rd 4th 5th 6th 7th 8th 9th\" , and each result should be on a separate line."
   ]
  },
  {
   "cell_type": "markdown",
   "metadata": {},
   "source": [
    "## 5. Styling Your if Statements"
   ]
  },
  {
   "cell_type": "markdown",
   "metadata": {},
   "source": [
    "In every example in this chapter, you’ve seen good styling habits. The only recommendation PEP 8 provides for styling conditional tests is to use a single space around comparison operators, such as == , >= , <= . For example:"
   ]
  },
  {
   "cell_type": "markdown",
   "metadata": {},
   "source": [
    "```\n",
    "if age < 4:\n",
    "-----------\n",
    "better than\n",
    "-----------\n",
    "if age<4:\n",
    "```"
   ]
  },
  {
   "cell_type": "markdown",
   "metadata": {},
   "source": [
    "- Such spacing does not affect the way Python interprets your code; it just makes your code easier for you and others to read."
   ]
  },
  {
   "cell_type": "markdown",
   "metadata": {},
   "source": [
    "### *Test Yourself*"
   ]
  },
  {
   "cell_type": "markdown",
   "metadata": {},
   "source": [
    "12. **Styling if statements**: *Review the programs you wrote in this chapter, and make sure you styled your conditional tests appropriately.*"
   ]
  },
  {
   "cell_type": "markdown",
   "metadata": {},
   "source": [
    "13. **Your Ideas**: At this point, you’re a more capable programmer than you were when you started this book. Now that you have a better sense of how real-world situations are modeled in programs, you might be thinking of some problems you could solve with your own programs. Record any new ideas you have about problems you might want to solve as your programming skills continue to improve. Consider games you might want to write, data sets you might want to explore, and web applications you’d like to create."
   ]
  },
  {
   "cell_type": "markdown",
   "metadata": {},
   "source": [
    "## 6. Kết luận"
   ]
  },
  {
   "cell_type": "markdown",
   "metadata": {},
   "source": [
    "In this chapter you learned how to write conditional tests, which always evaluate to True or False . You learned to write simple if statements, if - else chains, and if - elif - else chains. You began using these structures to identify particular conditions you needed to test and to know when those conditions have been met in your programs. You learned to handle certain items in a list differently than all other items while continuing to utilize the efficiency of a for loop. You also revisited Python’s style recommendations to ensure that your increasingly complex programs are still relatively easy to read and understand.\n",
    "- In Chapter 6 you’ll learn about Python’s **dictionaries**. A dictionary is similar to a list, but it allows you to connect pieces of information. You’ll learn to build dictionaries, loop through them, and use them in combination with lists and if statements. Learning about dictionaries will enable you to model an even wider variety of real-world situations."
   ]
  },
  {
   "cell_type": "markdown",
   "metadata": {},
   "source": [
    "## Bài tập"
   ]
  },
  {
   "cell_type": "markdown",
   "metadata": {},
   "source": [
    "**Bài 01**. Write a program that asks the user to enter a length in centimeters. If the user enters a negative length, the program should tell the user that the entry is invalid. Otherwise, the program should convert the length to inches and print out the result. There are 2.54 centimeters in an inch."
   ]
  },
  {
   "cell_type": "code",
   "execution_count": 23,
   "metadata": {},
   "outputs": [],
   "source": [
    "# Code bài 01"
   ]
  },
  {
   "cell_type": "markdown",
   "metadata": {},
   "source": [
    "**Bài 02**. Ask the user for a temperature. Then ask them what units, Celsius or Fahrenheit, the temperature is in. Your program should convert the temperature to the other unit. The conversions are F = 95 C + 32 and C = 9 5 (F − 32) ."
   ]
  },
  {
   "cell_type": "code",
   "execution_count": 24,
   "metadata": {},
   "outputs": [],
   "source": [
    "# Code bài 02"
   ]
  },
  {
   "cell_type": "markdown",
   "metadata": {},
   "source": [
    "**Bài 03**. Ask the user to enter a temperature in Celsius. The program should print a message based on the temperature:\n",
    "    + If the temperature is less than -273.15, print that the temperature is invalid because it is below absolute zero.\n",
    "    + If it is exactly -273.15, print that the temperature is absolute 0.\n",
    "    + If the temperature is between -273.15 and 0, print that the temperature is below freezing.\n",
    "    + If it is 0, print that the temperature is at the freezing point.\n",
    "    + If it is between 0 and 100, print that the temperature is in the normal range.\n",
    "    + If it is 100, print that the temperature is at the boiling point.\n",
    "    + If it is above 100, print that the temperature is above the boiling point."
   ]
  },
  {
   "cell_type": "code",
   "execution_count": 25,
   "metadata": {},
   "outputs": [],
   "source": [
    "# Code bài 03"
   ]
  },
  {
   "cell_type": "markdown",
   "metadata": {},
   "source": [
    "**Bài 04**. Write a program that asks the user how many credits they have taken. If they have taken 23 or less, print that the student is a freshman. If they have taken between 24 and 53, print that they are a sophomore. The range for juniors is 54 to 83, and for seniors it is 84 and over."
   ]
  },
  {
   "cell_type": "code",
   "execution_count": 26,
   "metadata": {},
   "outputs": [],
   "source": [
    "# Code bài 04"
   ]
  },
  {
   "cell_type": "markdown",
   "metadata": {},
   "source": [
    "**Bài 05**. Generate a random number between 1 and 10. Ask the user to guess the number and print a message based on whether they get it right or not."
   ]
  },
  {
   "cell_type": "code",
   "execution_count": 27,
   "metadata": {},
   "outputs": [],
   "source": [
    "# Code bài 05"
   ]
  },
  {
   "cell_type": "markdown",
   "metadata": {},
   "source": [
    "**Bài 06**. A store charges `$12$` per item if you buy less than 10 items. If you buy between `$10$` and `$99$` items, the cost is `$10$` per item. If you buy 100 or more items, the cost is `$7$` per item. Write a program that asks the user how many items they are buying and prints the total cost."
   ]
  },
  {
   "cell_type": "code",
   "execution_count": 28,
   "metadata": {},
   "outputs": [],
   "source": [
    "# Code bài 06"
   ]
  },
  {
   "cell_type": "markdown",
   "metadata": {},
   "source": [
    "**Bài 07**. A year is a **`leap year`** if it is divisible by 4, except that years divisible by 100 are not leap years unless they are also divisible by 400. Write a program that asks the user for a year and prints out whether it is a leap year or not."
   ]
  },
  {
   "cell_type": "code",
   "execution_count": 29,
   "metadata": {},
   "outputs": [],
   "source": [
    "# Code bài 07"
   ]
  },
  {
   "cell_type": "markdown",
   "metadata": {},
   "source": [
    "**Bài 08**. A jar of Halloween candy contains an unknown amount of candy and if you can guess exactly how much candy is in the bowl, then you win all the candy. You ask the person in charge the following: If the candy is divided evenly among 5 people, how many pieces would be left over? The answer is 2 pieces. You then ask about dividing the candy evenly among 6 people, and the amount left over is 3 pieces. Finally, you ask about dividing the candy evenly among 7 people, and the amount left over is 2 pieces. By looking at the bowl, you can tell that there are less than 200 pieces. Write a program to determine how many pieces are in the bowl."
   ]
  },
  {
   "cell_type": "code",
   "execution_count": 30,
   "metadata": {},
   "outputs": [],
   "source": [
    "# Code bài 08"
   ]
  }
 ],
 "metadata": {
  "kernelspec": {
   "display_name": "Python 3",
   "language": "python",
   "name": "python3"
  },
  "language_info": {
   "codemirror_mode": {
    "name": "ipython",
    "version": 3
   },
   "file_extension": ".py",
   "mimetype": "text/x-python",
   "name": "python",
   "nbconvert_exporter": "python",
   "pygments_lexer": "ipython3",
   "version": "3.7.5"
  },
  "latex_envs": {
   "LaTeX_envs_menu_present": true,
   "autoclose": false,
   "autocomplete": true,
   "bibliofile": "biblio.bib",
   "cite_by": "apalike",
   "current_citInitial": 1,
   "eqLabelWithNumbers": true,
   "eqNumInitial": 1,
   "hotkeys": {
    "equation": "Ctrl-E",
    "itemize": "Ctrl-I"
   },
   "labels_anchors": false,
   "latex_user_defs": false,
   "report_style_numbering": false,
   "user_envs_cfg": false
  },
  "toc": {
   "base_numbering": 1,
   "nav_menu": {
    "height": "416px",
    "width": "462px"
   },
   "number_sections": true,
   "sideBar": true,
   "skip_h1_title": true,
   "title_cell": "Table of Contents",
   "title_sidebar": "Contents",
   "toc_cell": false,
   "toc_position": {},
   "toc_section_display": true,
   "toc_window_display": false
  }
 },
 "nbformat": 4,
 "nbformat_minor": 2
}
