{
 "cells": [
  {
   "cell_type": "markdown",
   "metadata": {
    "colab_type": "text",
    "id": "IoddIXo5CxWz"
   },
   "source": [
    "# Chapter 03. Introduction Lists"
   ]
  },
  {
   "cell_type": "markdown",
   "metadata": {
    "colab_type": "text",
    "id": "Gr2vZOjgCxW0"
   },
   "source": [
    "Trong chương này và chương tiếp theo(chương 04), bạn sẽ tìm hiểu **list là gì** và cách bắt đầu làm việc với các phần tử trong list. List cho phép bạn **lưu trữ tập hợp các thông tin dữ liệu** ở một nơi nào đó, dù cho số lượng thông tin nhiều hay là ít. **List là một trong những đặc trưng mạnh mẽ nhất của Python**, dễ dàng tiếp cận đối với các lập trình viên mới và chúng có liên quan đến nhiều khái niệm quan trọng trong lập trình."
   ]
  },
  {
   "cell_type": "markdown",
   "metadata": {
    "colab_type": "text",
    "id": "3c-2T1TFCxW1"
   },
   "source": [
    "![List in Python](images\\chapter03\\pythonlist.png)"
   ]
  },
  {
   "cell_type": "markdown",
   "metadata": {
    "colab_type": "text",
    "id": "LHT7bN9pCxW2"
   },
   "source": [
    "## Nội dung:\n",
    "1. **What is a list ?**\n",
    "2. **Changing, Adding, and Removing Elements**\n",
    "3. **Organizing a list**\n",
    "4. **Avoiding Index Error When Working with Lists**\n",
    "5. **Summary**"
   ]
  },
  {
   "cell_type": "markdown",
   "metadata": {
    "colab_type": "text",
    "id": "e8rLe8NdCxW3"
   },
   "source": [
    "## 1. What is a list ?"
   ]
  },
  {
   "cell_type": "markdown",
   "metadata": {
    "colab_type": "text",
    "id": "x6pUpc5ECxW5"
   },
   "source": [
    "**`A list`(danh sách) là một bộ sưu tập các phần tử có thứ tự nhất định**. Bạn có thể tạo một list(danh sách) chứa các chữ cái trong bảng chữ cái, các chữ số từ 0 đến 9 hoặc tên của tất cả những người trong gia đình bạn. Bạn có thể đặt bất cứ thứ gì bạn muốn vào một danh sách, các phần tử trong danh sách của bạn không phải nhất thiếu có đặc điểm như nhau. Bởi vì một danh sách thường chứa nhiều hơn một thành phần, nên một ý tưởng hay là đặt tên của danh sách của bạn ở dạng số nhiều, chẳng hạn như *letters*, *numbers*, *names*."
   ]
  },
  {
   "cell_type": "markdown",
   "metadata": {
    "colab_type": "text",
    "id": "FHIHQCu-CxW6"
   },
   "source": [
    "Trong Python, **dấu ngoặc vuông (`[]`)** cho biết danh sách và **các thành phần riêng lẻ** trong danh sách **được phân tách bằng dấu phẩy**. Dưới đây, một ví dụ đơn giản về danh sách chứa một vài loại bicycle:"
   ]
  },
  {
   "cell_type": "code",
   "execution_count": 0,
   "metadata": {
    "colab": {},
    "colab_type": "code",
    "id": "gMjM8NweCxW7",
    "outputId": "014b87eb-3e0d-4835-edf8-66c7e06abf22"
   },
   "outputs": [
    {
     "name": "stdout",
     "output_type": "stream",
     "text": [
      "['trek', 'cannondale', 'redline', 'specialized']\n"
     ]
    }
   ],
   "source": [
    "bicycles = ['trek', 'cannondale', 'redline', 'specialized']\n",
    "print(bicycles)"
   ]
  },
  {
   "cell_type": "markdown",
   "metadata": {
    "colab_type": "text",
    "id": "iauKdmseCxW_"
   },
   "source": [
    "- Nếu bạn yêu cầu Python in list, Python trả về dạng biểu diễn của danh sách, bao gồm cả dấu ngoặc vuông như trên.\n",
    "- Bởi vì đây không phải là đầu ra mà bạn muốn người dùng của mình nhìn thấy, hãy tìm hiểu cách truy cập vào các elements(phần tử) trong danh sách."
   ]
  },
  {
   "cell_type": "markdown",
   "metadata": {
    "colab_type": "text",
    "id": "XCIRKiV4CxXA"
   },
   "source": [
    "### Accessing Elements in List"
   ]
  },
  {
   "cell_type": "markdown",
   "metadata": {
    "colab_type": "text",
    "id": "VzYoDJIpCxXB"
   },
   "source": [
    "List là các **bộ sưu tập có thứ tự**, vì vậy bạn có thể **truy cập(accessing) bất kỳ phần tử nào trong danh sách bằng cách cho Python biết `vị trí` hoặc `chỉ mục` của phần tử mong muốn**. Để truy cập một phần tử trong danh sách, hãy viết tên của danh sách và theo sau là chỉ mục của phần tử được đặt trong dấu ngoặc vuông.\n",
    "- Ví dụ: từ danh sách bicycles ở trên ta sẽ lấy ra phần tử đầu tiên trong danh sách xe đạp:"
   ]
  },
  {
   "cell_type": "code",
   "execution_count": 0,
   "metadata": {
    "colab": {},
    "colab_type": "code",
    "id": "PfADlj0tCxXC",
    "outputId": "1f4e538d-ceb2-47ea-9d17-280546285a71"
   },
   "outputs": [
    {
     "name": "stdout",
     "output_type": "stream",
     "text": [
      "trek\n"
     ]
    }
   ],
   "source": [
    "bicycles = ['trek', 'cannondale', 'redline', 'specialized']\n",
    "print(bicycles[0])"
   ]
  },
  {
   "cell_type": "markdown",
   "metadata": {
    "colab_type": "text",
    "id": "XVuSp6a-CxXF"
   },
   "source": [
    "- Cú pháp thực hiện là dòng 2. Khi chúng ta yêu cầu một phần tử duy nhất từ danh sách, Python chỉ trả về phần tử đó mà không có dấu ngoặc vuông như trên.\n",
    "- Đây là kết quả mà bạn muốn người dùng chương trình thấy, vì nó được định dạng gọn gàng.\n",
    "- Bạn cũng có thể sử dụng các **phương thức string** trong *Chương 2* đối với bất kỳ phần tử nào trong danh sách này. Ví dụ: bạn có thể định dạng phần tử 'trek' tốt hơn bằng cách sử dụng **phương thức `title()`**:"
   ]
  },
  {
   "cell_type": "code",
   "execution_count": 0,
   "metadata": {
    "colab": {},
    "colab_type": "code",
    "id": "wjXWmJlhCxXG",
    "outputId": "5c6593a2-f3e3-405d-c5d8-1d736d8ca3d3"
   },
   "outputs": [
    {
     "name": "stdout",
     "output_type": "stream",
     "text": [
      "Trek\n"
     ]
    }
   ],
   "source": [
    "bicycles = ['trek', 'cannondale', 'redline', 'specialized']\n",
    "print(bicycles[0].title())"
   ]
  },
  {
   "cell_type": "markdown",
   "metadata": {
    "colab_type": "text",
    "id": "s1Ln-cMJCxXK"
   },
   "source": [
    "- Ví dụ này tạo ra cùng kết quả như ví dụ trước ngoại trừ 'Trek' đã được viết hoa chữ cái đầu."
   ]
  },
  {
   "cell_type": "markdown",
   "metadata": {
    "colab_type": "text",
    "id": "YC7nLjPdCxXL"
   },
   "source": [
    "### Index Positions Start at 0, Not 1"
   ]
  },
  {
   "cell_type": "markdown",
   "metadata": {
    "colab_type": "text",
    "id": "NeQz_ibzCxXM"
   },
   "source": [
    "Python coi phần tử đầu tiên trong danh sách là ở vị trí 0, không phải vị trí 1. Điều này đúng với hầu hết các ngôn ngữ lập trình. Nếu bạn nhận được kết quả không mong muốn, hãy xác định xem bạn có đang gây ra lỗi với việc sử dụng chỉ mục:"
   ]
  },
  {
   "cell_type": "markdown",
   "metadata": {
    "colab_type": "text",
    "id": "9HZZrmlcCxXN"
   },
   "source": [
    "- Mục thứ hai trong danh sách có chỉ số là 1. Sử dụng hệ thống đếm này, bạn có thể lấy bất kỳ yếu tố nào bạn muốn từ danh sách bằng cách trừ đi một mục từ vị trí của nó trong danh sách. Các phần tử trong list được đánh chỉ số, chỉ mục bắt đầu từ 0. Ví dụ, tôi muốn xem phần tử có index là 0, 1, 3:"
   ]
  },
  {
   "cell_type": "code",
   "execution_count": 0,
   "metadata": {
    "colab": {},
    "colab_type": "code",
    "id": "y-eUPoDXCxXN",
    "outputId": "0b11f95e-771e-442b-b004-b6c1f2ab59e3"
   },
   "outputs": [
    {
     "name": "stdout",
     "output_type": "stream",
     "text": [
      "trek\n",
      "cannondale\n",
      "specialized\n"
     ]
    }
   ],
   "source": [
    "bicycles = ['trek', 'cannondale', 'redline', 'specialized']\n",
    "print(bicycles[0])\n",
    "print(bicycles[1])\n",
    "print(bicycles[3])"
   ]
  },
  {
   "cell_type": "markdown",
   "metadata": {
    "colab_type": "text",
    "id": "GhSwLsaKCxXR"
   },
   "source": [
    "- Python có một cú pháp đặc biệt để truy cập phần tử cuối cùng trong danh sách. Bằng cách truy cập chỉ mục -1, Python luôn trả về phần tử cuối cùng trong danh sách:"
   ]
  },
  {
   "cell_type": "code",
   "execution_count": 0,
   "metadata": {
    "colab": {},
    "colab_type": "code",
    "id": "J0qx4aqeCxXS",
    "outputId": "e07db088-f0b3-455c-8587-78a7a664dd84"
   },
   "outputs": [
    {
     "name": "stdout",
     "output_type": "stream",
     "text": [
      "specialized\n"
     ]
    }
   ],
   "source": [
    "bicycles = ['trek', 'cannondale', 'redline', 'specialized']\n",
    "print(bicycles[-1])"
   ]
  },
  {
   "cell_type": "markdown",
   "metadata": {
    "colab_type": "text",
    "id": "dOrqbm5nCxXV"
   },
   "source": [
    "- Code này trả về giá trị 'Specialized'. Cú pháp này khá hữu ích, bởi vì bạn sẽ thường truy cập vào các phần tử cuối cùng trong danh sách mà không biết chính xác danh sách đó dài bao nhiêu. Quy ước này cũng mở rộng cho các giá trị chỉ số âm khác. Chỉ mục -2 trả về mục thứ hai từ cuối danh sách, chỉ mục -3 trả về mục thứ ba từ cuối, vân vân và mây mây."
   ]
  },
  {
   "cell_type": "markdown",
   "metadata": {
    "colab_type": "text",
    "id": "sCjdjBAfCxXX"
   },
   "source": [
    "### Using Individual Values from a List"
   ]
  },
  {
   "cell_type": "markdown",
   "metadata": {
    "colab_type": "text",
    "id": "bOiKAQSlCxXY"
   },
   "source": [
    "Bạn có thể sử dụng các giá trị riêng lẻ từ một danh sách giống như bất kỳ các biến nào khác. Ví dụ: bạn có thể sử dụng **f-string** để tạo tin nhắn dựa trên giá trị từ danh sách."
   ]
  },
  {
   "cell_type": "markdown",
   "metadata": {
    "colab_type": "text",
    "id": "ZQ1rn2GWCxXZ"
   },
   "source": [
    "-  Hãy truy cập vào phần tử đàu tiên từ danh sách bicycles ở trên và viết một thông điệp với giá trị đó."
   ]
  },
  {
   "cell_type": "code",
   "execution_count": 0,
   "metadata": {
    "colab": {},
    "colab_type": "code",
    "id": "0SPvlnFCCxXa",
    "outputId": "e11bab75-0abd-4d16-9c58-ba09fd2e10a8"
   },
   "outputs": [
    {
     "name": "stdout",
     "output_type": "stream",
     "text": [
      "My first bicycle was a Trek.\n"
     ]
    }
   ],
   "source": [
    "bicycles = ['trek', 'cannondale', 'redline', 'specialized']\n",
    "message = f\"My first bicycle was a {bicycles[0].title()}.\"\n",
    "print(message)"
   ]
  },
  {
   "cell_type": "markdown",
   "metadata": {
    "colab_type": "text",
    "id": "pCo2hK1pCxXd"
   },
   "source": [
    "- Chúng ta xây dựng một câu bằng cách sử dụng giá trị tại **`bicycles[0]`** và gán nó cho biến message."
   ]
  },
  {
   "cell_type": "markdown",
   "metadata": {},
   "source": [
    "List có thể chứa các phần tử có kiểu dữ liệu khác nhau. Xem ví dụ dưới đây:"
   ]
  },
  {
   "cell_type": "code",
   "execution_count": 1,
   "metadata": {},
   "outputs": [
    {
     "name": "stdout",
     "output_type": "stream",
     "text": [
      "['Tiến', 'Nguyễn', 1, True]\n"
     ]
    }
   ],
   "source": [
    "mixed_list = ['Tiến','Nguyễn',1,True]\n",
    "print(mixed_list)"
   ]
  },
  {
   "cell_type": "markdown",
   "metadata": {
    "colab_type": "text",
    "id": "yJvxVkG7CxXe"
   },
   "source": [
    "### Test Yourself"
   ]
  },
  {
   "cell_type": "markdown",
   "metadata": {
    "colab_type": "text",
    "id": "oDrmozHtCxXf"
   },
   "source": [
    "1. **Names**: Store the names of a few of your friends in a list called names. Print each person’s name by accessing each element in the list, one at a time."
   ]
  },
  {
   "cell_type": "code",
   "execution_count": 0,
   "metadata": {
    "colab": {},
    "colab_type": "code",
    "id": "F6b-LsnyCxXg"
   },
   "outputs": [],
   "source": [
    "# Code bài 1"
   ]
  },
  {
   "cell_type": "markdown",
   "metadata": {
    "colab_type": "text",
    "id": "-7Rv2-PUCxXj"
   },
   "source": [
    "2. **Greetings**: Start with the list you used in Exercise 3-1, but instead of just printing each person’s name, print a message to them. The text of each message should be the same, but each message should be personalized with the person’s name."
   ]
  },
  {
   "cell_type": "code",
   "execution_count": 0,
   "metadata": {
    "colab": {},
    "colab_type": "code",
    "id": "hhubUiznCxXk"
   },
   "outputs": [],
   "source": [
    "# Code bài 2"
   ]
  },
  {
   "cell_type": "markdown",
   "metadata": {
    "colab_type": "text",
    "id": "euwYgY5TCxXn"
   },
   "source": [
    "3. **Your Own List**: Think of your favorite mode of transportation, such as a motorcycle or a car, and make a list that stores several examples. Use your list to print a series of statements about these items, such as “I would like to own a Honda motorcycle."
   ]
  },
  {
   "cell_type": "code",
   "execution_count": 0,
   "metadata": {
    "colab": {},
    "colab_type": "code",
    "id": "d9szWXnbCxXo"
   },
   "outputs": [],
   "source": [
    "# Code bài 3"
   ]
  },
  {
   "cell_type": "markdown",
   "metadata": {
    "colab_type": "text",
    "id": "igbCMyiOCxXr"
   },
   "source": [
    "## 2. Changing, Adding, and Removing Elements"
   ]
  },
  {
   "cell_type": "markdown",
   "metadata": {
    "colab_type": "text",
    "id": "lL91sY_VCxXs"
   },
   "source": [
    "Hầu hết **các danh sách bạn tạo** sẽ là **dynamic(động)**, có nghĩa là bạn sẽ xây dựng một danh sách và sau đó thêm và xóa các thành phần khỏi nó khi chương trình của bạn chạy. \n",
    "\n",
    "Ví dụ: bạn có thể tạo một trò chơi trong đó người chơi phải bắn người ngoài hành tinh lên trời. Bạn có thể lưu trữ tập hợp người ngoài hành tinh ban đầu trong một danh sách và sau đó loại bỏ một người ngoài hành tinh khỏi danh sách mỗi khi bị bắn hạ. Mỗi khi có một người ngoài hành tinh mới xuất hiện trên màn hình, bạn thêm nó vào danh sách. Danh sách người ngoài hành tinh của bạn sẽ tăng và giảm chiều dài trong suốt quá trình của trò chơi."
   ]
  },
  {
   "cell_type": "markdown",
   "metadata": {
    "colab_type": "text",
    "id": "_VPMJhHZCxXt"
   },
   "source": [
    "### Modifying Elements in a List"
   ]
  },
  {
   "cell_type": "markdown",
   "metadata": {
    "colab_type": "text",
    "id": "orhv2CCUCxXu"
   },
   "source": [
    "Cú pháp sửa đổi một phần tử tương tự như cú pháp để truy cập một phần tử trong danh sách. Để thay đổi một phần tử, sử dụng tên của danh sách theo sau là chỉ mục của phần tử bạn muốn thay đổi, sau đó cung cấp giá trị mới mà bạn muốn phần tử đó có."
   ]
  },
  {
   "cell_type": "markdown",
   "metadata": {
    "colab_type": "text",
    "id": "hyCkV139CxXv"
   },
   "source": [
    "- Ví dụ: giả sử chúng ta có một danh sách motorcycles và phần tử đầu tiên trong danh sách là 'honda'. Làm thế nào chúng ta thay đổi giá trị của phần tử đầu tiên này ?"
   ]
  },
  {
   "cell_type": "code",
   "execution_count": 0,
   "metadata": {
    "colab": {},
    "colab_type": "code",
    "id": "Cu75o5CdCxXx",
    "outputId": "92d5ad29-174d-470a-baf3-1603373e90ce"
   },
   "outputs": [
    {
     "name": "stdout",
     "output_type": "stream",
     "text": [
      "['honda', 'yamaha', 'suzuki']\n",
      "['ducati', 'yamaha', 'suzuki']\n"
     ]
    }
   ],
   "source": [
    "motorcycles = ['honda', 'yamaha', 'suzuki']\n",
    "print(motorcycles)\n",
    "\n",
    "motorcycles[0] = 'ducati'\n",
    "print(motorcycles)"
   ]
  },
  {
   "cell_type": "markdown",
   "metadata": {
    "colab_type": "text",
    "id": "iJU07thtCxX1"
   },
   "source": [
    "- Dòng code đầu tiên xác định danh sách ban đầu, với 'honda' là thành phần đầu tiên. Dòng code thứ 4 thay đổi giá trị của phần tử đầu tiên thành 'ducati'. Đầu ra cho thấy phần tử đầu tiên thực sự đã được thay đổi và phần còn lại của danh sách vẫn giữ nguyên:"
   ]
  },
  {
   "cell_type": "markdown",
   "metadata": {
    "colab_type": "text",
    "id": "Wvqp98pBCxX2"
   },
   "source": [
    "- Bạn có thể thay đổi giá trị của bất kỳ mục nào trong danh sách, không chỉ mục đầu tiên."
   ]
  },
  {
   "cell_type": "markdown",
   "metadata": {
    "colab_type": "text",
    "id": "hX7ozTOQCxX3"
   },
   "source": [
    "### Adding Elements to a List"
   ]
  },
  {
   "cell_type": "markdown",
   "metadata": {
    "colab_type": "text",
    "id": "jd6mP7tyCxX4"
   },
   "source": [
    "Bạn có thể muốn thêm một phần tử mới vào danh sách vì nhiều lý do. Ví dụ: bạn có thể muốn làm cho người ngoài hành tinh mới xuất hiện trong trò chơi, thêm dữ liệu mới vào visualization hoặc thêm người dùng đã đăng ký mới vào trang web mà bạn đã xây dựng. Python cung cấp một số cách để thêm dữ liệu mới vào danh sách hiện có."
   ]
  },
  {
   "cell_type": "markdown",
   "metadata": {
    "colab_type": "text",
    "id": "0z3V1rKYCxX5"
   },
   "source": [
    "#### Appending Elements to the End of a List"
   ]
  },
  {
   "cell_type": "markdown",
   "metadata": {
    "colab_type": "text",
    "id": "ys7y9H0vCxX6"
   },
   "source": [
    "Cách đơn giản nhất để thêm một phần tử mới vào danh sách là nối nó vào danh sách. Khi bạn thêm một phần tử vào danh sách, phần tử mới này sẽ được thêm vào cuối danh sách. Sử dụng cùng một danh sách mà chúng ta đã có trong ví dụ trước, chúng ta sẽ thêm phần tử mới có tên là 'ducati' vào cuối danh sách:"
   ]
  },
  {
   "cell_type": "code",
   "execution_count": 0,
   "metadata": {
    "colab": {},
    "colab_type": "code",
    "id": "tJmBF799CxX8",
    "outputId": "41d8f90b-d6ac-49ea-f778-240306d8c436"
   },
   "outputs": [
    {
     "name": "stdout",
     "output_type": "stream",
     "text": [
      "['honda', 'yamaha', 'suzuki']\n",
      "['honda', 'yamaha', 'suzuki', 'ducati']\n"
     ]
    }
   ],
   "source": [
    "motorcycles = ['honda', 'yamaha', 'suzuki']\n",
    "print(motorcycles)\n",
    "\n",
    "motorcycles.append('ducati')\n",
    "print(motorcycles)"
   ]
  },
  {
   "cell_type": "markdown",
   "metadata": {
    "colab_type": "text",
    "id": "s0ZkRzUkCxYC"
   },
   "source": [
    "- Phương thức **append()** tại dòng 4 thêm phần tử có giá trị là 'ducati' vào cuối danh sách mà không ảnh hưởng đến bất kỳ phần tử nào khác trong danh sách."
   ]
  },
  {
   "cell_type": "markdown",
   "metadata": {
    "colab_type": "text",
    "id": "bpPfTzAYCxYD"
   },
   "source": [
    "- Phương thức **`append()`** giúp dễ dàng xây dựng **danh sách động(dynamic list)**. Ví dụ: bạn có thể bắt đầu với một danh sách trống và sau đó thêm các mục vào danh sách bằng một loạt các lời gọi hàm **append()**. Sử dụng một danh sách trống, hãy thêm các phần tử 'honda', 'yamaha' và 'suzuki' vào danh sách:"
   ]
  },
  {
   "cell_type": "code",
   "execution_count": 0,
   "metadata": {
    "colab": {},
    "colab_type": "code",
    "id": "zz1rffSFCxYE",
    "outputId": "4db387ee-84dd-4c37-85da-0a42d153638c"
   },
   "outputs": [
    {
     "name": "stdout",
     "output_type": "stream",
     "text": [
      "['honda', 'yamaha', 'suzuki']\n"
     ]
    }
   ],
   "source": [
    "motorcycles = []\n",
    "\n",
    "motorcycles.append('honda')\n",
    "motorcycles.append('yamaha')\n",
    "motorcycles.append('suzuki')\n",
    "\n",
    "print(motorcycles)"
   ]
  },
  {
   "cell_type": "markdown",
   "metadata": {
    "colab_type": "text",
    "id": "CjIhImfJCxYG"
   },
   "source": [
    "- Xây dựng danh sách theo cách này rất phổ biến, bởi vì bạn thường không biết dữ liệu người dùng của bạn muốn lưu trữ trong một chương trình cho đến khi chương trình đang chạy. Để kiểm soát người dùng của bạn, hãy bắt đầu bằng cách khởi tạo một danh sách trống sẽ giữ các giá trị của người dùng. Sau đó nối thêm từng giá trị mới được cung cấp vào danh sách bạn vừa tạo."
   ]
  },
  {
   "cell_type": "markdown",
   "metadata": {
    "colab_type": "text",
    "id": "yy1GqYEwCxYH"
   },
   "source": [
    "#### Inserting Elements into a List"
   ]
  },
  {
   "cell_type": "markdown",
   "metadata": {
    "colab_type": "text",
    "id": "dKyM83lYCxYI"
   },
   "source": [
    "Bạn có thể thêm một phần tử mới tại bất kỳ vị trí nào trong danh sách của bạn bằng cách sử dụng phương thức **`insert()`**. Bạn làm điều này bằng cách chỉ định chỉ mục của phần tử mới và giá trị của mục mới."
   ]
  },
  {
   "cell_type": "code",
   "execution_count": 0,
   "metadata": {
    "colab": {},
    "colab_type": "code",
    "id": "BJNoGO6xCxYJ",
    "outputId": "56484c74-f1f5-4644-8e59-77d1ce6f7450"
   },
   "outputs": [
    {
     "name": "stdout",
     "output_type": "stream",
     "text": [
      "['ducati', 'honda', 'yamaha', 'suzuki']\n"
     ]
    }
   ],
   "source": [
    "motorcycles = ['honda', 'yamaha', 'suzuki']\n",
    "\n",
    "motorcycles.insert(0, 'ducati')\n",
    "print(motorcycles)"
   ]
  },
  {
   "cell_type": "markdown",
   "metadata": {
    "colab_type": "text",
    "id": "4m0tclI0CxYM"
   },
   "source": [
    "- Trong ví dụ này, tại dòng 3, ta chèn giá trị 'ducati' vào đầu danh sách. Phương thức **insert()** mở một khoảng trắng ở vị trí 0 và lưu trữ giá trị 'ducati' tại vị trí đó. **Thao tác này dịch chuyển mọi giá trị khác trong danh sách một vị trí sang phải.**"
   ]
  },
  {
   "cell_type": "markdown",
   "metadata": {
    "colab_type": "text",
    "id": "6VQBotNlCxYN"
   },
   "source": [
    "### Removing Elements from a List"
   ]
  },
  {
   "cell_type": "markdown",
   "metadata": {
    "colab_type": "text",
    "id": "ChhVzlWrCxYN"
   },
   "source": [
    "Thông thường, bạn sẽ muốn xóa một phần tử hoặc một nhóm các phần tử khỏi danh sách. Ví dụ, khi người chơi bắn hạ một người ngoài hành tinh từ trên trời, rất có thể bạn sẽ muốn xóa nó khỏi danh sách những người ngoài hành tinh đang hoạt động. Hoặc khi người dùng quyết định hủy tài khoản của một user trên ứng dụng web bạn đã tạo, bạn sẽ muốn xóa người dùng đó khỏi danh sách người dùng đang hoạt động. Bạn có thể xóa một phần tử theo vị trí của nó trong danh sách hoặc theo giá trị mà nó chứa."
   ]
  },
  {
   "cell_type": "markdown",
   "metadata": {
    "colab_type": "text",
    "id": "Wz6XwiFxCxYO"
   },
   "source": [
    "#### Removing an Item Using the del Statement"
   ]
  },
  {
   "cell_type": "markdown",
   "metadata": {
    "colab_type": "text",
    "id": "fNPowGtqCxYP"
   },
   "source": [
    "Nếu bạn biết vị trí của mục bạn muốn xóa khỏi danh sách, bạn có thể sử dụng câu lệnh **`del`**."
   ]
  },
  {
   "cell_type": "code",
   "execution_count": 0,
   "metadata": {
    "colab": {},
    "colab_type": "code",
    "id": "Am_D8kN6CxYQ",
    "outputId": "7eb65de6-fadf-429d-9a76-9fd7175d82c7"
   },
   "outputs": [
    {
     "name": "stdout",
     "output_type": "stream",
     "text": [
      "['honda', 'yamaha', 'suzuki']\n",
      "['yamaha', 'suzuki']\n"
     ]
    }
   ],
   "source": [
    "motorcycles = ['honda', 'yamaha', 'suzuki']\n",
    "print(motorcycles)\n",
    "\n",
    "del motorcycles[0]\n",
    "print(motorcycles)"
   ]
  },
  {
   "cell_type": "markdown",
   "metadata": {
    "colab_type": "text",
    "id": "r3FVpYgwCxYS"
   },
   "source": [
    "- Bạn có thể xóa một phần tử khỏi bất kỳ vị trí nào trong danh sách bằng cách sử dụng câu lệnh **del** nếu bạn biết chỉ mục của nó. Ví dụ: ở đây, cách loại bỏ phần tử thứ hai, 'yamaha', trong danh sách:"
   ]
  },
  {
   "cell_type": "code",
   "execution_count": 0,
   "metadata": {
    "colab": {},
    "colab_type": "code",
    "id": "OKXCdBYkCxYT",
    "outputId": "6e007815-95c9-44f6-c4cc-b9ba71dc8c96"
   },
   "outputs": [
    {
     "name": "stdout",
     "output_type": "stream",
     "text": [
      "['honda', 'yamaha', 'suzuki']\n",
      "['honda', 'suzuki']\n"
     ]
    }
   ],
   "source": [
    "motorcycles = ['honda', 'yamaha', 'suzuki']\n",
    "print(motorcycles)\n",
    "\n",
    "del motorcycles[1]\n",
    "print(motorcycles)"
   ]
  },
  {
   "cell_type": "markdown",
   "metadata": {
    "colab_type": "text",
    "id": "I9pjtlk0CxYW"
   },
   "source": [
    "- Trong cả hai ví dụ, bạn không thể truy cập giá trị đã bị xóa khỏi danh sách sau khi sử dụng câu lệnh **del**."
   ]
  },
  {
   "cell_type": "markdown",
   "metadata": {
    "colab_type": "text",
    "id": "eqqILJuuCxYX"
   },
   "source": [
    "#### Removing an Item Using the `pop()` Method"
   ]
  },
  {
   "cell_type": "markdown",
   "metadata": {
    "colab_type": "text",
    "id": "3kSC_F4dCxYY"
   },
   "source": [
    "Đôi khi, bạn sẽ muốn sử dụng giá trị của một mặt hàng sau khi bạn xóa nó khỏi danh sách. Ví dụ, bạn có thể muốn có được vị trí x và y của người ngoài hành tinh vừa bị bắn hạ, vì vậy bạn có thể tạo ra vụ nổ tại vị trí đó. Trong một ứng dụng web, bạn có thể muốn xóa người dùng khỏi danh sách các thành viên đang hoạt động và sau đó thêm người dùng đó vào danh sách các thành viên không hoạt động."
   ]
  },
  {
   "cell_type": "markdown",
   "metadata": {
    "colab_type": "text",
    "id": "GbxBNWo0CxYY"
   },
   "source": [
    "- Phương thức pop () loại bỏ mục cuối cùng trong danh sách, nhưng nó cho phép bạn làm việc với phần tử đó sau khi xóa nó. **Thuật ngữ `pop`** xuất phát từ việc nghĩ ra một danh sách như một chồng các phần tử(ngăn xếp -stack) và lấy phần tử đầu tiên ra khỏi ngăn xếp. Trong sự tương tự này, đầu của một ngăn xếp tương ứng với vị trí cuối danh sách.\n",
    "- Hãy lấy phần tử cuối cùng của danh sách motorcycles:"
   ]
  },
  {
   "cell_type": "code",
   "execution_count": 0,
   "metadata": {
    "colab": {},
    "colab_type": "code",
    "id": "K1fD07W-CxYZ",
    "outputId": "7991bc03-ab9b-4ddf-f92a-7d81925770e4"
   },
   "outputs": [
    {
     "name": "stdout",
     "output_type": "stream",
     "text": [
      "['honda', 'yamaha', 'suzuki']\n",
      "['honda', 'yamaha']\n",
      "suzuki\n"
     ]
    }
   ],
   "source": [
    "motorcycles = ['honda', 'yamaha', 'suzuki']\n",
    "print(motorcycles)\n",
    "\n",
    "popped_motorcycle = motorcycles.pop()\n",
    "print(motorcycles)\n",
    "print(popped_motorcycle)"
   ]
  },
  {
   "cell_type": "markdown",
   "metadata": {
    "colab_type": "text",
    "id": "qLWEOiyuCxYc"
   },
   "source": [
    "- Chúng ta bắt đầu bằng cách khởi tạo danh sách **motorcycles** và in danh sách này ra màn hình. Tại dòng 4 chúng ta lấy giá trị cuối cùng từ danh sách và lưu trữ giá trị đó trong biến **popped_motor Motorcycle**. Chúng ta in danh sách tại dòng 5 để cho thấy rằng một giá trị đã bị xóa khỏi danh sách. Sau đó, chúng ta in giá trị được lấy ra tại dòng 6 để chứng minh rằng chúng ta vẫn có quyền truy cập vào giá trị đã bị xóa. \n",
    "- Output cho thấy giá trị 'suzuki' đã bị xóa khỏi danh sách và hiện được gán cho biến popped_motorclycle:"
   ]
  },
  {
   "cell_type": "markdown",
   "metadata": {
    "colab_type": "text",
    "id": "ttj7Pi5kCxYc"
   },
   "source": [
    "- Phương thức pop() hữu ích như thế nào ? Hãy tưởng tượng rằng những chiếc xe máy trong danh sách được lưu theo thứ tự thời gian theo thời gian chúng ta sở hữu chúng. Nếu đây là trường hợp, chúng ta có thể sử dụng phương thức pop() để in một điều khẳng định về chiếc xe máy cuối cùng chúng ta đã mua:"
   ]
  },
  {
   "cell_type": "code",
   "execution_count": 0,
   "metadata": {
    "colab": {},
    "colab_type": "code",
    "id": "Hf2wBrkLCxYd",
    "outputId": "3916f62b-7b3a-4449-a675-eb4b026b475e"
   },
   "outputs": [
    {
     "name": "stdout",
     "output_type": "stream",
     "text": [
      "The last motorcycle I owned was a Suzuki.\n"
     ]
    }
   ],
   "source": [
    "motorcycles = ['honda', 'yamaha', 'suzuki']\n",
    "last_owned = motorcycles.pop()\n",
    "    \n",
    "print(f\"The last motorcycle I owned was a {last_owned.title()}.\")"
   ]
  },
  {
   "cell_type": "markdown",
   "metadata": {
    "colab_type": "text",
    "id": "iBfwZXDhCxYg"
   },
   "source": [
    "#### Popping Items from any Position in a List"
   ]
  },
  {
   "cell_type": "markdown",
   "metadata": {
    "colab_type": "text",
    "id": "PJvaYmZGCxYh"
   },
   "source": [
    "Bạn có thể sử dụng **pop()** để **xóa một phần tử tại vị trí bất kì** trong danh sách bằng cách **chỉ ra chỉ mục** của phần tử bạn muốn xóa và đặt trong ngoặc đơn."
   ]
  },
  {
   "cell_type": "code",
   "execution_count": 0,
   "metadata": {
    "colab": {},
    "colab_type": "code",
    "id": "hCQr5L8ACxYi",
    "outputId": "682f0cc9-d3d0-411a-f630-fa4c3dbfab2f"
   },
   "outputs": [
    {
     "name": "stdout",
     "output_type": "stream",
     "text": [
      "The first motorcycle I owned was a Honda.\n"
     ]
    }
   ],
   "source": [
    "motorcycles = ['honda', 'yamaha', 'suzuki']\n",
    "\n",
    "first_owned = motorcycles.pop(0)\n",
    "print(f\"The first motorcycle I owned was a {first_owned.title()}.\")"
   ]
  },
  {
   "cell_type": "markdown",
   "metadata": {
    "colab_type": "text",
    "id": "5qZOgoNECxYm"
   },
   "source": [
    "- Chúng tôi bắt đầu bằng việc lấy đi phần tử đầu tiên trong danh sách, và sau đó chúng ta in một thông điệp về chiếc xe máy đó tại dòng 4. Output là một câu đơn giản mô tả chiếc xe máy đầu tiên ta từng sở hữu."
   ]
  },
  {
   "cell_type": "markdown",
   "metadata": {
    "colab_type": "text",
    "id": "Vqtili39CxYn"
   },
   "source": [
    "- Hãy nhớ rằng mỗi lần bạn sử dụng **pop()**, phần tử mà bạn lấy ra sẽ không còn trong danh sách nữa.\n",
    "- Nếu bạn phân vân, không biết nên sử dụng câu lệnh **del** hay **pop()** thì hãy dựa vào đây để quyết định: **khi bạn muốn xóa phần tử khỏi danh sách và không sử dụng phần tử đó nữa, hãy sử dụng câu lệnh del; nếu bạn muốn xóa phần tử đó trong danh sách nhưng lại dùng nó trong một việc gì đó, hãy sử dụng phương thức pop().**"
   ]
  },
  {
   "cell_type": "markdown",
   "metadata": {
    "colab_type": "text",
    "id": "F_j4tpVtCxYo"
   },
   "source": [
    "#### Removing an Item by Value"
   ]
  },
  {
   "cell_type": "markdown",
   "metadata": {
    "colab_type": "text",
    "id": "g4R2xDK3CxYp"
   },
   "source": [
    "Đôi khi bạn đã không biết vị trí của giá trị bạn muốn xóa khỏi danh sách. Nếu bạn **chỉ biết giá trị của phần tử bạn muốn xóa**, bạn có thể sử dụng phương thức **remove()**."
   ]
  },
  {
   "cell_type": "markdown",
   "metadata": {
    "colab_type": "text",
    "id": "hFcCzZFACxYq"
   },
   "source": [
    "- Ví dụ: giả sử chúng tôi muốn xóa giá trị 'ducati' khỏi danh sách motorcycles."
   ]
  },
  {
   "cell_type": "code",
   "execution_count": 0,
   "metadata": {
    "colab": {},
    "colab_type": "code",
    "id": "B0kkO6s0CxYr",
    "outputId": "a8934963-8179-4d7b-87d1-8b5aa90f37dd"
   },
   "outputs": [
    {
     "name": "stdout",
     "output_type": "stream",
     "text": [
      "['honda', 'yamaha', 'suzuki', 'ducati']\n",
      "['honda', 'yamaha', 'suzuki']\n"
     ]
    }
   ],
   "source": [
    "motorcycles = ['honda', 'yamaha', 'suzuki', 'ducati']\n",
    "print(motorcycles)\n",
    "\n",
    "motorcycles.remove('ducati')\n",
    "print(motorcycles)"
   ]
  },
  {
   "cell_type": "markdown",
   "metadata": {
    "colab_type": "text",
    "id": "4G0x6u-ZCxYu"
   },
   "source": [
    "- Bạn cũng có thể **sử dụng phương thức remove() để làm việc với một giá trị mà bị xóa khỏi danh sách**. Hãy loại bỏ giá trị 'ducati' và in một lý do mà ta loại bỏ nó khỏi danh sách:"
   ]
  },
  {
   "cell_type": "code",
   "execution_count": 0,
   "metadata": {
    "colab": {},
    "colab_type": "code",
    "id": "GjQlQRPhCxYv",
    "outputId": "a59f0ae3-638a-490c-a76d-4b0c98aaa9f9"
   },
   "outputs": [
    {
     "name": "stdout",
     "output_type": "stream",
     "text": [
      "['honda', 'yamaha', 'suzuki', 'ducati']\n",
      "['honda', 'yamaha', 'suzuki']\n",
      "\n",
      "A Ducati is too expensive for me.\n"
     ]
    }
   ],
   "source": [
    " motorcycles = ['honda', 'yamaha', 'suzuki', 'ducati']\n",
    "print(motorcycles)\n",
    "\n",
    "too_expensive = 'ducati'\n",
    "motorcycles.remove(too_expensive)\n",
    "print(motorcycles)\n",
    "print(f\"\\nA {too_expensive.title()} is too expensive for me.\")"
   ]
  },
  {
   "cell_type": "markdown",
   "metadata": {
    "colab_type": "text",
    "id": "SyXyv_NnCxYx"
   },
   "source": [
    "*Phương thức remove () chỉ xóa lần xuất hiện đầu tiên của giá trị bạn chỉ định. Nếu có một khả năng thì giá trị xuất hiện nhiều hơn một lần trong danh sách, bạn sẽ cần sử dụng một vòng lặp để đảm bảo tất cả các lần xuất hiện của giá trị đều bị xóa. Bạn sẽ học cách làm điều này trong Chương 7.*"
   ]
  },
  {
   "cell_type": "markdown",
   "metadata": {
    "colab_type": "text",
    "id": "DernDUs-CxYy"
   },
   "source": [
    "### Test Yourself"
   ]
  },
  {
   "cell_type": "markdown",
   "metadata": {
    "colab_type": "text",
    "id": "2-DirNg7CxYz"
   },
   "source": [
    "4. **Guest List**: If you could invite anyone, living or deceased, to dinner, who would you invite? Make a list that includes at least three people you’d like to invite to dinner. Then use your list to print a message to each person, inviting them to dinner."
   ]
  },
  {
   "cell_type": "code",
   "execution_count": 0,
   "metadata": {
    "colab": {},
    "colab_type": "code",
    "id": "kE3ujRGICxY0"
   },
   "outputs": [],
   "source": [
    "# Code bài 4"
   ]
  },
  {
   "cell_type": "markdown",
   "metadata": {
    "colab_type": "text",
    "id": "BypHFG9vCxY4"
   },
   "source": [
    "5. **Changing Guest List**: You just heard that one of your guests can’t make the dinner, so you need to send out a new set of invitations. You’ll have to think of someone else to invite.\n",
    "    + Start with your program from Exercise 3-4. Add a print() call at the end of your program stating the name of the guest who can’t make it.\n",
    "    + Modify your list, replacing the name of the guest who can’t make it with the name of the new person you are inviting.\n",
    "    + Print a second set of invitation messages, one for each person who is still in your list."
   ]
  },
  {
   "cell_type": "code",
   "execution_count": 0,
   "metadata": {
    "colab": {},
    "colab_type": "code",
    "id": "i2eNkZwBCxY5"
   },
   "outputs": [],
   "source": [
    "# Code bài 5"
   ]
  },
  {
   "cell_type": "markdown",
   "metadata": {
    "colab_type": "text",
    "id": "KVVE8OufCxZA"
   },
   "source": [
    "6. **More Guests**: You just found a bigger dinner table, so now more space is available. Think of three more guests to invite to dinner.\n",
    "    + Start with your program from Exercise 3-4 or Exercise 3-5. Add a print() call to the end of your program informing people that you found a bigger dinner table.\n",
    "    + Use `insert()` to add one new guest to the beginning of your list.\n",
    "    + Use `insert()` to add one new guest to the middle of your list.\n",
    "    + Use `append()` to add one new guest to the end of your list.\n",
    "    + Print a new set of invitation messages, one for each person in your list."
   ]
  },
  {
   "cell_type": "code",
   "execution_count": 0,
   "metadata": {
    "colab": {},
    "colab_type": "code",
    "id": "CkaZXMnFCxZB"
   },
   "outputs": [],
   "source": [
    "# Code bài 6"
   ]
  },
  {
   "cell_type": "markdown",
   "metadata": {
    "colab_type": "text",
    "id": "RQOC9IurCxZG"
   },
   "source": [
    "7. **Shrinking Guest List**: You just found out that your new dinner table won’t arrive in time for the dinner, and you have space for only two guests.\n",
    "    + Start with your program from Exercise 3-6. Add a new line that prints a message saying that you can invite only two people for dinner.\n",
    "    + Use pop() to remove guests from your list one at a time until only two names remain in your list. Each time you pop a name from your list, print a message to that person letting them know you’re sorry you can’t invite them to dinner.\n",
    "    + Print a message to each of the two people still on your list, letting them know they’re still invited.\n",
    "    + Use del to remove the last two names from your list, so you have an empty list. Print your list to make sure you actually have an empty list at the end of your program."
   ]
  },
  {
   "cell_type": "markdown",
   "metadata": {
    "colab_type": "text",
    "id": "Lu5ju7EHCxZG"
   },
   "source": [
    "## 4. Organizing a List"
   ]
  },
  {
   "cell_type": "markdown",
   "metadata": {
    "colab_type": "text",
    "id": "cYa8LYnXCxZH"
   },
   "source": [
    "Thông thường, list của bạn sẽ được tạo theo thứ tự không thể đoán trước, bởi vì bạn không thể luôn luôn kiểm soát thứ tự mà người dùng của bạn cung cấp dữ liệu của họ. Mặc dù điều này là không thể phòng tránh trong hầu hết các trường hợp, nhưng bạn sẽ thường xuyên muốn trình bày thông tin của mình theo một thứ tự cụ thể. Đôi khi, bạn sẽ muốn giữ nguyên thứ tự ban đầu của danh sách và những lần khác bạn muốn thay đổi thứ tự ban đầu. Python cung cấp một số cách khác nhau để sắp xếp danh sách của bạn, tùy thuộc vào tình huống."
   ]
  },
  {
   "cell_type": "markdown",
   "metadata": {
    "colab_type": "text",
    "id": "0PhwEwFbCxZI"
   },
   "source": [
    "### Sorting a List Permanently with the sort() Method"
   ]
  },
  {
   "cell_type": "markdown",
   "metadata": {
    "colab_type": "text",
    "id": "trNpJHBDCxZJ"
   },
   "source": [
    "Phương thức **sort()** của Python hỗ trợ cho **việc sắp xếp một danh sách** tương đối dễ dàng. Hãy tưởng tượng chúng ta có một danh sách những chiếc xe và muốn thay đổi thứ tự của danh sách để lưu trữ chúng theo thứ tự anphabe."
   ]
  },
  {
   "cell_type": "code",
   "execution_count": 0,
   "metadata": {
    "colab": {},
    "colab_type": "code",
    "id": "XDhMoeJ2CxZK",
    "outputId": "8b56d26d-0290-49b0-c96e-fb644e234a61"
   },
   "outputs": [
    {
     "name": "stdout",
     "output_type": "stream",
     "text": [
      "['audi', 'bmw', 'subaru', 'toyota']\n"
     ]
    }
   ],
   "source": [
    "cars = ['bmw', 'audi', 'toyota', 'subaru']\n",
    "cars.sort()\n",
    "print(cars)"
   ]
  },
  {
   "cell_type": "markdown",
   "metadata": {
    "colab_type": "text",
    "id": "JJ-l2jTACxZO"
   },
   "source": [
    "- Phương thức **sort()** tại dòng 2 thay đổi thứ tự của danh sách vĩnh viễn. Những chiếc xe hiện đang theo thứ tự bảng chữ cái và chúng ta không bao giờ có thể trở lại trật tự ban đầu."
   ]
  },
  {
   "cell_type": "markdown",
   "metadata": {
    "colab_type": "text",
    "id": "kIbar5U-CxZP"
   },
   "source": [
    "- Bạn cũng có thể sắp xếp danh sách này theo thứ tự bảng chữ cái ngược bằng cách đặt đối số **reverse = True** đối với phương thức **sort()**. Ví dụ sau đây sắp xếp danh sách các xe theo thứ tự bảng chữ cái ngược:"
   ]
  },
  {
   "cell_type": "code",
   "execution_count": 0,
   "metadata": {
    "colab": {},
    "colab_type": "code",
    "id": "mD048DcgCxZQ",
    "outputId": "f96e5ca6-5cb7-41fb-8575-6e8ef04a5ba0"
   },
   "outputs": [
    {
     "name": "stdout",
     "output_type": "stream",
     "text": [
      "['toyota', 'subaru', 'bmw', 'audi']\n"
     ]
    }
   ],
   "source": [
    "cars = ['bmw', 'audi', 'toyota', 'subaru']\n",
    "cars.sort(reverse=True)\n",
    "print(cars)"
   ]
  },
  {
   "cell_type": "markdown",
   "metadata": {
    "colab_type": "text",
    "id": "7wZOk_OFCxZS"
   },
   "source": [
    "### Sorting a List Temporarily with the sorted() Function"
   ]
  },
  {
   "cell_type": "markdown",
   "metadata": {
    "colab_type": "text",
    "id": "FD-cMFcACxZS"
   },
   "source": [
    "Để duy trì thứ tự ban đầu của danh sách nhưng trình bày nó theo thứ tự được sắp xếp, bạn có thể sử dụng hàm sort(). Hàm sort() cho phép bạn hiển thị danh sách của mình theo một thứ tự cụ thể nhưng không ảnh hưởng đến thứ tự thực sự của các phần tử trong danh sách."
   ]
  },
  {
   "cell_type": "markdown",
   "metadata": {
    "colab_type": "text",
    "id": "fX5qfK_kCxZT"
   },
   "source": [
    "- Sử dụng hàm này lên danh sách cars:"
   ]
  },
  {
   "cell_type": "code",
   "execution_count": 0,
   "metadata": {
    "colab": {},
    "colab_type": "code",
    "id": "uFAqqM65CxZT",
    "outputId": "12f70312-5008-420a-fb6f-9f4caffa2371"
   },
   "outputs": [
    {
     "name": "stdout",
     "output_type": "stream",
     "text": [
      "Here is the original list:\n",
      "['bmw', 'audi', 'toyota', 'subaru']\n",
      "\n",
      "Here is the sorted list:\n",
      "['audi', 'bmw', 'subaru', 'toyota']\n",
      "\n",
      "Here is the original list again:\n",
      "['bmw', 'audi', 'toyota', 'subaru']\n"
     ]
    }
   ],
   "source": [
    "cars = ['bmw', 'audi', 'toyota', 'subaru']\n",
    "\n",
    "print(\"Here is the original list:\")\n",
    "print(cars)\n",
    "\n",
    "print(\"\\nHere is the sorted list:\")\n",
    "print(sorted(cars))\n",
    "\n",
    "print(\"\\nHere is the original list again:\")\n",
    "print(cars)"
   ]
  },
  {
   "cell_type": "markdown",
   "metadata": {
    "colab_type": "text",
    "id": "GePShUD6CxZV"
   },
   "source": [
    "-  Đầu tiên chúng ta in danh sách theo thứ tự ban đầu tại dòng 3 và sau đó sắp theo thứ tự bảng chữ cái tại dòng 7. Sau khi danh sách được hiển thị theo thứ tự mới, chúng ta thấy rằng danh sách vẫn được lưu theo thứ tự ban đầu tại dòng 10."
   ]
  },
  {
   "cell_type": "markdown",
   "metadata": {
    "colab_type": "text",
    "id": "wH3g5cq7CxZW"
   },
   "source": [
    "- Lưu ý rằng danh sách vẫn tồn tại theo thứ tự ban đầu tại dòng 10 sau khi phương thức sorted() thực hiện. Hàm **sorted()** cũng có thể nhận đối số **reverse = True** nếu bạn muốn hiển thị danh sách theo thứ tự bảng chữ cái ngược."
   ]
  },
  {
   "cell_type": "markdown",
   "metadata": {
    "colab_type": "text",
    "id": "8Xdf3BDFCxZX"
   },
   "source": [
    "*Sắp xếp danh sách theo thứ tự bảng chữ cái phức tạp hơn một chút khi tất cả các giá trị không được viết thường. Có một số cách để giải thích chữ in hoa khi xác định thứ tự sắp xếp và chỉ định thứ tự chính xác có thể phức tạp hơn chúng ta muốn xử lý tại thời điểm này. Tuy nhiên, hầu hết các cách tiếp cận để sắp xếp sẽ dựa trên những gì bạn đã học trong phần này*"
   ]
  },
  {
   "cell_type": "markdown",
   "metadata": {
    "colab_type": "text",
    "id": "VwpxxypXCxZX"
   },
   "source": [
    "### Printing a List in Reverse Order"
   ]
  },
  {
   "cell_type": "markdown",
   "metadata": {
    "colab_type": "text",
    "id": "00DYMgtlCxZY"
   },
   "source": [
    "Để **đảo ngược thứ tự ban đầu của danh sách**, bạn có thể sử dụng phương thức **`reverse()`**. Nếu ban đầu chúng ta lưu trữ danh sách xe theo thứ tự thời gian chúng ta sở hữu chúng, chúng ta có thể dễ dàng sắp xếp lại danh sách theo thứ tự thời gian đảo ngược:"
   ]
  },
  {
   "cell_type": "code",
   "execution_count": 0,
   "metadata": {
    "colab": {},
    "colab_type": "code",
    "id": "zWdtNOeACxZa",
    "outputId": "b8c53354-c482-4f3d-c1f2-1a953ae751e8"
   },
   "outputs": [
    {
     "name": "stdout",
     "output_type": "stream",
     "text": [
      "['bmw', 'audi', 'toyota', 'subaru']\n",
      "['subaru', 'toyota', 'audi', 'bmw']\n"
     ]
    }
   ],
   "source": [
    "cars = ['bmw', 'audi', 'toyota', 'subaru']\n",
    "print(cars)\n",
    "\n",
    "cars.reverse()\n",
    "print(cars)"
   ]
  },
  {
   "cell_type": "markdown",
   "metadata": {
    "colab_type": "text",
    "id": "pJaaQ3CWCxZd"
   },
   "source": [
    "- Lưu ý rằng **reverse()** không sắp xếp ngược lại theo thứ tự abc; Nó đơn giản chỉ là đảo ngược thứ tự của danh sách."
   ]
  },
  {
   "cell_type": "markdown",
   "metadata": {
    "colab_type": "text",
    "id": "QNJ31elvCxZd"
   },
   "source": [
    "- Phương thức **reverse()** thay đổi thứ tự của danh sách vĩnh viễn, nhưng bạn có thể trở lại trật tự ban đầu bất cứ lúc nào bằng cách áp dụng **reverse()** cho cùng một danh sách lần thứ hai. (**`Phủ định của phủ định là khẳng định`**)"
   ]
  },
  {
   "cell_type": "markdown",
   "metadata": {
    "colab_type": "text",
    "id": "Addc3_s9CxZe"
   },
   "source": [
    "### Finding the Length of a List"
   ]
  },
  {
   "cell_type": "markdown",
   "metadata": {
    "colab_type": "text",
    "id": "dR-cBzksCxZf"
   },
   "source": [
    "Bạn có thể nhanh chóng tìm thấy độ dài của danh sách bằng cách sử dụng hàm **len()**. Danh sách trong ví dụ này có bốn phần tử, vì vậy độ dài của nó là 4:"
   ]
  },
  {
   "cell_type": "code",
   "execution_count": 0,
   "metadata": {
    "colab": {},
    "colab_type": "code",
    "id": "rtzWSaZQCxZg",
    "outputId": "d00b300b-566e-4f44-dcf5-54b0f166a76d"
   },
   "outputs": [
    {
     "name": "stdout",
     "output_type": "stream",
     "text": [
      "4\n"
     ]
    }
   ],
   "source": [
    "cars = ['bmw', 'audi', 'toyota', 'subaru']\n",
    "print(len(cars))"
   ]
  },
  {
   "cell_type": "markdown",
   "metadata": {
    "colab_type": "text",
    "id": "RwQeVMQiCxZj"
   },
   "source": [
    "- Bạn sẽ thấy len() hữu ích khi bạn cần xác định số lượng người ngoài hành tinh vẫn cần phải bị bắn hạ trong trò chơi, xác định lượng dữ liệu bạn phải quản lý trong một hình ảnh hóa hoặc tìm ra số lượng người dùng đã đăng ký trên một trang web, và trong số các task khác."
   ]
  },
  {
   "cell_type": "markdown",
   "metadata": {
    "colab_type": "text",
    "id": "RpbW9BTLCxZk"
   },
   "source": [
    "*Python đếm các phần tử trong một danh sách bắt đầu bằng một, vì vậy bạn không nên chạy vào bất kỳ lỗi nào khi xác định độ dài của danh sách.*"
   ]
  },
  {
   "cell_type": "markdown",
   "metadata": {
    "colab_type": "text",
    "id": "5V_DgnASCxZl"
   },
   "source": [
    "### Test Yourself"
   ]
  },
  {
   "cell_type": "markdown",
   "metadata": {
    "colab_type": "text",
    "id": "nPd0tRfpCxZm"
   },
   "source": [
    "8. **Seeing the World**: Think of at least five places in the world you’d like to visit.\n",
    "    + Store the locations in a list. Make sure the list is not in alphabetical order.\n",
    "    + Print your list in its original order. Don’t worry about printing the list neatly, just print it as a raw Python list.\n",
    "    + Use `sorted()` to print your list in alphabetical order without modifying the actual list.\n",
    "    + Show that your list is still in its original order by printing it.\n",
    "    + Use `sorted()` to print your list in reverse alphabetical order without changing the order of the original list.\n",
    "    + Show that your list is still in its original order by printing it again.\n",
    "    + Use `reverse()` to change the order of your list. Print the list to show that its order has changed.\n",
    "    + Use `reverse()` to change the order of your list again. Print the list to show it’s back to its original order.\n",
    "    + Use `sort()` to change your list so it’s stored in alphabetical order. Print the list to show that its order has been changed.\n",
    "    + Use `sort()` to change your list so it’s stored in reverse alphabetical order. Print the list to show that its order has changed."
   ]
  },
  {
   "cell_type": "code",
   "execution_count": 0,
   "metadata": {
    "colab": {},
    "colab_type": "code",
    "id": "PtE48fpCCxZn"
   },
   "outputs": [],
   "source": [
    "# Code bài 8"
   ]
  },
  {
   "cell_type": "markdown",
   "metadata": {
    "colab_type": "text",
    "id": "LJ7prN0cCxZq"
   },
   "source": [
    "9. **Every Function**: Think of something you could store in a list. For example, you could make a list of mountains, rivers, countries, cities, languages, or anything else you’d like. Write a program that creates a list containing these items and then uses each function introduced in this chapter at least once."
   ]
  },
  {
   "cell_type": "code",
   "execution_count": 0,
   "metadata": {
    "colab": {},
    "colab_type": "code",
    "id": "SrcBqSR_CxZq"
   },
   "outputs": [],
   "source": [
    "# Code bài 9"
   ]
  },
  {
   "cell_type": "markdown",
   "metadata": {
    "colab_type": "text",
    "id": "4WSe3V1JCxZu"
   },
   "source": [
    "## 4. Avoiding Index Errors When Working with Lists"
   ]
  },
  {
   "cell_type": "markdown",
   "metadata": {
    "colab_type": "text",
    "id": "VbjAg2SWCxZv"
   },
   "source": [
    "Một loại lỗi thường gặp khi bạn làm việc với list lần đầu tiên. Cho rằng bạn có một list với ba phần tử và bạn yêu cầu phần tử thứ 4. Điều này gây ra **`index error`**:"
   ]
  },
  {
   "cell_type": "code",
   "execution_count": 0,
   "metadata": {
    "colab": {},
    "colab_type": "code",
    "id": "S6b7FVJhCxZw",
    "outputId": "304c834c-613a-4b7d-f3af-601d89b79e25"
   },
   "outputs": [
    {
     "ename": "IndexError",
     "evalue": "list index out of range",
     "output_type": "error",
     "traceback": [
      "\u001b[1;31m---------------------------------------------------------------------------\u001b[0m",
      "\u001b[1;31mIndexError\u001b[0m                                Traceback (most recent call last)",
      "\u001b[1;32m<ipython-input-31-9811709cfb18>\u001b[0m in \u001b[0;36m<module>\u001b[1;34m\u001b[0m\n\u001b[0;32m      1\u001b[0m \u001b[0mmotorcycles\u001b[0m \u001b[1;33m=\u001b[0m \u001b[1;33m[\u001b[0m\u001b[1;34m'honda'\u001b[0m\u001b[1;33m,\u001b[0m \u001b[1;34m'yamaha'\u001b[0m\u001b[1;33m,\u001b[0m \u001b[1;34m'suzuki'\u001b[0m\u001b[1;33m]\u001b[0m\u001b[1;33m\u001b[0m\u001b[1;33m\u001b[0m\u001b[0m\n\u001b[1;32m----> 2\u001b[1;33m \u001b[0mprint\u001b[0m\u001b[1;33m(\u001b[0m\u001b[0mmotorcycles\u001b[0m\u001b[1;33m[\u001b[0m\u001b[1;36m3\u001b[0m\u001b[1;33m]\u001b[0m\u001b[1;33m)\u001b[0m\u001b[1;33m\u001b[0m\u001b[1;33m\u001b[0m\u001b[0m\n\u001b[0m",
      "\u001b[1;31mIndexError\u001b[0m: list index out of range"
     ]
    }
   ],
   "source": [
    "motorcycles = ['honda', 'yamaha', 'suzuki']\n",
    "print(motorcycles[3])"
   ]
  },
  {
   "cell_type": "markdown",
   "metadata": {
    "colab_type": "text",
    "id": "BFVIXOuMCxZy"
   },
   "source": [
    "- Python cố gắng cung cấp cho bạn mục ở chỉ mục 3. Nhưng khi nó tìm kiếm trong danh sách, không có mục nào trong motorcycles có chỉ số là 3. Vì tính chất lập chỉ mục trong danh sách, lỗi này là điển hình. Mọi người nghĩ rằng mục thứ ba là mục số 3, vì họ bắt đầu đếm từ 1. Nhưng trong Python mục thứ ba là số 2, vì nó bắt đầu lập chỉ mục ở mức 0.\n",
    "- Lỗi index có nghĩa là Python có thể tìm thấy một index tại chỉ mục bạn yêu cầu. Nếu xảy ra index error trong chương trình của bạn, hãy thử điều chỉnh chỉ mục mà bạn yêu cầu. Sau đó chạy lại chương trình để xem kết quả có đúng không.\n",
    "- Hãy nhớ rằng bất cứ khi nào bạn muốn truy cập vào phần tử cuối cùng trong danh sách, hãy sử dụng chỉ mục -1. Điều này sẽ luôn không sai, ngay cả khi danh sách của bạn đã thay đổi kích thước kể từ lần cuối bạn truy cập nó:"
   ]
  },
  {
   "cell_type": "code",
   "execution_count": 0,
   "metadata": {
    "colab": {},
    "colab_type": "code",
    "id": "iBiLPGLlCxZz",
    "outputId": "57efc408-bdd0-4812-9b29-b89187cd248f"
   },
   "outputs": [
    {
     "name": "stdout",
     "output_type": "stream",
     "text": [
      "suzuki\n"
     ]
    }
   ],
   "source": [
    "motorcycles = ['honda', 'yamaha', 'suzuki']\n",
    "print(motorcycles[-1])"
   ]
  },
  {
   "cell_type": "markdown",
   "metadata": {
    "colab_type": "text",
    "id": "akO8kP-8CxZ1"
   },
   "source": [
    "- Lần duy nhất cái cách này sẽ gây ra lỗi là khi bạn yêu cầu phần cuối cùng từ danh sách trống:"
   ]
  },
  {
   "cell_type": "code",
   "execution_count": 0,
   "metadata": {
    "colab": {},
    "colab_type": "code",
    "id": "L8uDUaVZCxZ2",
    "outputId": "e161f9a6-6125-4dc6-fddd-5a19c2e0ddbe"
   },
   "outputs": [
    {
     "ename": "IndexError",
     "evalue": "list index out of range",
     "output_type": "error",
     "traceback": [
      "\u001b[1;31m---------------------------------------------------------------------------\u001b[0m",
      "\u001b[1;31mIndexError\u001b[0m                                Traceback (most recent call last)",
      "\u001b[1;32m<ipython-input-33-08e14d7d6f1a>\u001b[0m in \u001b[0;36m<module>\u001b[1;34m\u001b[0m\n\u001b[0;32m      1\u001b[0m \u001b[0mmotorcycles\u001b[0m \u001b[1;33m=\u001b[0m \u001b[1;33m[\u001b[0m\u001b[1;33m]\u001b[0m\u001b[1;33m\u001b[0m\u001b[1;33m\u001b[0m\u001b[0m\n\u001b[1;32m----> 2\u001b[1;33m \u001b[0mprint\u001b[0m\u001b[1;33m(\u001b[0m\u001b[0mmotorcycles\u001b[0m\u001b[1;33m[\u001b[0m\u001b[1;33m-\u001b[0m\u001b[1;36m1\u001b[0m\u001b[1;33m]\u001b[0m\u001b[1;33m)\u001b[0m\u001b[1;33m\u001b[0m\u001b[1;33m\u001b[0m\u001b[0m\n\u001b[0m",
      "\u001b[1;31mIndexError\u001b[0m: list index out of range"
     ]
    }
   ],
   "source": [
    "motorcycles = []\n",
    "print(motorcycles[-1])"
   ]
  },
  {
   "cell_type": "markdown",
   "metadata": {
    "colab_type": "text",
    "id": "m1a-nbbvCxZ3"
   },
   "source": [
    "*Nếu xảy ra lỗi chỉ mục và bạn có thể tìm ra cách giải quyết nó, hãy thử in danh sách của bạn hoặc chỉ in độ dài của danh sách. Danh sách của bạn có thể trông khác nhiều so với bạn nghĩ, đặc biệt là nếu nó được quản lý linh hoạt bởi chương trình của bạn. Xem danh sách thực tế hoặc số phân tử chính xác trong danh sách của bạn, có thể giúp bạn sort out (slove problem) các lỗi logic như vậy.*"
   ]
  },
  {
   "cell_type": "markdown",
   "metadata": {
    "colab_type": "text",
    "id": "5pV6dOWNCxZ4"
   },
   "source": [
    "### Test Yourself"
   ]
  },
  {
   "cell_type": "markdown",
   "metadata": {
    "colab_type": "text",
    "id": "6nUQRnDgCxZ6"
   },
   "source": [
    "10. **Intentional Error**: If you haven’t received an index error in one of your programs yet, try to make one happen. Change an index in one of your programs to produce an index error. Make sure you correct the error before closing the program."
   ]
  },
  {
   "cell_type": "code",
   "execution_count": 0,
   "metadata": {
    "colab": {},
    "colab_type": "code",
    "id": "eTlNG8M2CxZ7"
   },
   "outputs": [],
   "source": [
    "# Code bài 10"
   ]
  },
  {
   "cell_type": "markdown",
   "metadata": {
    "colab_type": "text",
    "id": "GLvXGG24CxZ-"
   },
   "source": [
    "## 5. Summary"
   ]
  },
  {
   "cell_type": "markdown",
   "metadata": {
    "colab_type": "text",
    "id": "DjpYeX7KCxZ-"
   },
   "source": [
    "- Trong chương này, bạn đã học được **list là gì** và **cách làm việc với các phần tử riêng lẻ** trong danh sách. Bạn đã học cách khởi tạo danh sách, cách thêm và xóa các phần tử. Bạn đã học cách sắp xếp danh sách một cách vĩnh viễn và một cách tạm thời cho mục đích hiển thị. Bạn cũng đã học cách tìm độ dài của danh sách và cách tránh lỗi chỉ mục(index error) khi bạn làm việc với list.\n",
    "\n",
    "- **Trong Chương 4, bạn sẽ học cách làm việc với các phần tử trong danh sách hiệu quả hơn. Bằng cách looping qua từng phần tử trong danh sách chỉ bằng một vài dòng code, bạn sẽ có thể làm việc hiệu quả, ngay cả khi danh sách của bạn chứa hàng ngàn hoặc hàng triệu phần tử.\n**",
    "- Nên tham khảo thêm documents vê List trong Python có sẵn [tại đây](https://docs.python.org/3/tutorial/datastructures.html)."
   ]
  }
 ],
 "metadata": {
  "colab": {
   "collapsed_sections": [
    "YC7nLjPdCxXL",
    "sCjdjBAfCxXX",
    "yJvxVkG7CxXe",
    "_VPMJhHZCxXt",
    "hX7ozTOQCxX3",
    "0z3V1rKYCxX5",
    "yy1GqYEwCxYH",
    "6VQBotNlCxYN",
    "Wz6XwiFxCxYO",
    "eqqILJuuCxYX",
    "iBfwZXDhCxYg",
    "F_j4tpVtCxYo",
    "DernDUs-CxYy",
    "0PhwEwFbCxZI",
    "7wZOk_OFCxZS",
    "VwpxxypXCxZX",
    "Addc3_s9CxZe",
    "5V_DgnASCxZl",
    "5pV6dOWNCxZ4"
   ],
   "name": "Chapter 03. Introduction Lists.ipynb",
   "provenance": []
  },
  "kernelspec": {
   "display_name": "Python 3",
   "language": "python",
   "name": "python3"
  },
  "language_info": {
   "codemirror_mode": {
    "name": "ipython",
    "version": 3
   },
   "file_extension": ".py",
   "mimetype": "text/x-python",
   "name": "python",
   "nbconvert_exporter": "python",
   "pygments_lexer": "ipython3",
   "version": "3.7.5"
  },
  "latex_envs": {
   "LaTeX_envs_menu_present": true,
   "autoclose": false,
   "autocomplete": true,
   "bibliofile": "biblio.bib",
   "cite_by": "apalike",
   "current_citInitial": 1,
   "eqLabelWithNumbers": true,
   "eqNumInitial": 1,
   "hotkeys": {
    "equation": "Ctrl-E",
    "itemize": "Ctrl-I"
   },
   "labels_anchors": false,
   "latex_user_defs": false,
   "report_style_numbering": false,
   "user_envs_cfg": false
  },
  "toc": {
   "base_numbering": 1,
   "nav_menu": {},
   "number_sections": false,
   "sideBar": true,
   "skip_h1_title": true,
   "title_cell": "Table of Contents",
   "title_sidebar": "Contents",
   "toc_cell": false,
   "toc_position": {},
   "toc_section_display": true,
   "toc_window_display": true
  }
 },
 "nbformat": 4,
 "nbformat_minor": 1
}
