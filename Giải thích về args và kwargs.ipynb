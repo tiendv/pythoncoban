{
 "cells": [
  {
   "cell_type": "markdown",
   "metadata": {},
   "source": [
    "# Giải thích về \\*args và \\**kwargs\n",
    "\n",
    "Trong bài này Nhi sẽ giải thích về 2 arguments kì lạ là \\*args và \\**kwargs mà bạn hay gặp khi đọc hướng dẫn sử dụng functions trong các packages (Khi đọc lên nghe như tiếng vịt kêu :) ). Chúng là gì và có công dụng gì ?\n",
    "\n",
    "Trước hết, ta chú ý về 2 kí tự * (đọc là asterisk) và ** (double asterisk), đây thực ra là 2 toán tử dùng để mở gói (unpacking) những objects có thể truy nhập tuần tự (iterable). Những unpacking operator này đã có từ thời Python 2.\n",
    "\n",
    "Toán tử * dùng được tất cả loại object, bao gồm list, tuple, set, dictionary và strings; nhưng toán tử ** chỉ dành riêng cho dictionary. Cách dùng là đặt * trước iterable object hay ** trước dictionary object. Việc mở gói sẽ xuất ra rất cả phần tử chứa bên trong object theo đúng trình tự, sau đó gán vào các biến rời hay sử dụng trong các hàm.\n",
    "\n",
    "Thí dụ mở gói 1 tuple: "
   ]
  },
  {
   "cell_type": "code",
   "execution_count": 17,
   "metadata": {},
   "outputs": [
    {
     "name": "stdout",
     "output_type": "stream",
     "text": [
      "(1, 2, 3, 4, 5)\n",
      "1 2 3 4 5\n"
     ]
    }
   ],
   "source": [
    "tpl = 1,2,3,4,5\n",
    "\n",
    "print(tpl)\n",
    "\n",
    "print(*tpl)"
   ]
  },
  {
   "cell_type": "markdown",
   "metadata": {},
   "source": [
    "Nếu làm như sau sẽ đóng gói trở lại:"
   ]
  },
  {
   "cell_type": "code",
   "execution_count": 18,
   "metadata": {},
   "outputs": [
    {
     "data": {
      "text/plain": [
       "(1, 2, 3, 4, 5)"
      ]
     },
     "execution_count": 18,
     "metadata": {},
     "output_type": "execute_result"
    }
   ],
   "source": [
    "*tpl,"
   ]
  },
  {
   "cell_type": "markdown",
   "metadata": {},
   "source": [
    "Có thể gán vào variables rời:"
   ]
  },
  {
   "cell_type": "code",
   "execution_count": 20,
   "metadata": {},
   "outputs": [
    {
     "name": "stdout",
     "output_type": "stream",
     "text": [
      "1 2 3 4 5\n"
     ]
    }
   ],
   "source": [
    "a,b,c,d,e = *tpl,\n",
    "\n",
    "print(a,b,c,d,e)"
   ]
  },
  {
   "cell_type": "markdown",
   "metadata": {},
   "source": [
    "Đóng gói vào list:"
   ]
  },
  {
   "cell_type": "code",
   "execution_count": 21,
   "metadata": {},
   "outputs": [
    {
     "data": {
      "text/plain": [
       "[1, 2, 3, 4, 5]"
      ]
     },
     "execution_count": 21,
     "metadata": {},
     "output_type": "execute_result"
    }
   ],
   "source": [
    "[*tpl]"
   ]
  },
  {
   "cell_type": "markdown",
   "metadata": {},
   "source": [
    "Làm tương tự cho list"
   ]
  },
  {
   "cell_type": "code",
   "execution_count": 22,
   "metadata": {
    "run_control": {
     "marked": false
    }
   },
   "outputs": [
    {
     "name": "stdout",
     "output_type": "stream",
     "text": [
      "[1, 2, 3, 4, 5]\n",
      "1 2 3 4 5\n"
     ]
    }
   ],
   "source": [
    "lst = [1,2,3,4,5]\n",
    "\n",
    "print(lst)\n",
    "\n",
    "print(*lst)"
   ]
  },
  {
   "cell_type": "markdown",
   "metadata": {},
   "source": [
    "Làm như sau sẽ đóng gói vào tuple"
   ]
  },
  {
   "cell_type": "code",
   "execution_count": 23,
   "metadata": {},
   "outputs": [
    {
     "data": {
      "text/plain": [
       "(1, 2, 3, 4, 5)"
      ]
     },
     "execution_count": 23,
     "metadata": {},
     "output_type": "execute_result"
    }
   ],
   "source": [
    "*lst,"
   ]
  },
  {
   "cell_type": "markdown",
   "metadata": {},
   "source": [
    "Gán vào biến rời"
   ]
  },
  {
   "cell_type": "code",
   "execution_count": 25,
   "metadata": {},
   "outputs": [
    {
     "name": "stdout",
     "output_type": "stream",
     "text": [
      "1 2 3 4 5\n"
     ]
    }
   ],
   "source": [
    "a,b,c,d,e = *lst,\n",
    "\n",
    "print(a,b,c,d,e)"
   ]
  },
  {
   "cell_type": "markdown",
   "metadata": {},
   "source": [
    "Tương tự cho dict: sau khi mở gói ta xuất ra keys"
   ]
  },
  {
   "cell_type": "code",
   "execution_count": 62,
   "metadata": {},
   "outputs": [
    {
     "name": "stdout",
     "output_type": "stream",
     "text": [
      "{'A': 1, 'B': 2, 'C': 3, 'D': 4, 'E': 5}\n",
      "A B C D E\n"
     ]
    }
   ],
   "source": [
    "dct = {'A':1, 'B':2, 'C':3, 'D':4, 'E':5}\n",
    "print(dct)\n",
    "print(*dct)"
   ]
  },
  {
   "cell_type": "markdown",
   "metadata": {},
   "source": [
    "Tương tự cho strings"
   ]
  },
  {
   "cell_type": "code",
   "execution_count": 8,
   "metadata": {},
   "outputs": [
    {
     "name": "stdout",
     "output_type": "stream",
     "text": [
      "abcde\n",
      "a b c d e\n"
     ]
    }
   ],
   "source": [
    "st= \"abcde\"\n",
    "\n",
    "print(st)\n",
    "print(*st)"
   ]
  },
  {
   "cell_type": "markdown",
   "metadata": {},
   "source": [
    "Hay cho set:"
   ]
  },
  {
   "cell_type": "code",
   "execution_count": 11,
   "metadata": {},
   "outputs": [
    {
     "name": "stdout",
     "output_type": "stream",
     "text": [
      "{1, 2, 3, 4, 5}\n",
      "1 2 3 4 5\n"
     ]
    }
   ],
   "source": [
    "a_set = {1,2,3,4,5}\n",
    "print(a_set)\n",
    "print(*a_set)"
   ]
  },
  {
   "cell_type": "markdown",
   "metadata": {},
   "source": [
    "Bây giờ ta bàn một chút về hàm (function), một function có thể không cần argument nào cả, như:"
   ]
  },
  {
   "cell_type": "code",
   "execution_count": 69,
   "metadata": {},
   "outputs": [
    {
     "name": "stdout",
     "output_type": "stream",
     "text": [
      "Đây là hàm không có arguments\n"
     ]
    }
   ],
   "source": [
    "def func():\n",
    "    print('Đây là hàm không có arguments')\n",
    "    \n",
    "func()"
   ]
  },
  {
   "cell_type": "markdown",
   "metadata": {},
   "source": [
    "Function cũng có thể chứa 1 hay nhiều arguments. Các arguments có thể xác định bằng Vị trí hoặc từ khóa:"
   ]
  },
  {
   "cell_type": "code",
   "execution_count": 71,
   "metadata": {},
   "outputs": [
    {
     "name": "stdout",
     "output_type": "stream",
     "text": [
      "Đây là hàm dùng positional arguments\n",
      "Tổng 3 số là 60\n"
     ]
    }
   ],
   "source": [
    "def add_3_numbers(a,b,c):\n",
    "    print('Đây là hàm dùng positional arguments')\n",
    "    print(f'Tổng 3 số là {a+b+c}')\n",
    "    \n",
    "add_3_numbers(10,20,30)"
   ]
  },
  {
   "cell_type": "markdown",
   "metadata": {},
   "source": [
    "Arguments cũng có thể được xác định bằng từ khóa (keywords), thí dụ:"
   ]
  },
  {
   "cell_type": "code",
   "execution_count": 77,
   "metadata": {},
   "outputs": [
    {
     "name": "stdout",
     "output_type": "stream",
     "text": [
      "Hàm này có 2 arguments với keyword là lst và num\n",
      "lst = [1, 2, 3, 4, 5] và num = 10\n",
      "Kết quả là [11, 12, 13, 14, 15]\n"
     ]
    }
   ],
   "source": [
    "def add_a_number_to_list(lst=None, num=None):\n",
    "    print('Hàm này có 2 arguments với keyword là lst và num')\n",
    "    print(f'lst = {lst} và num = {num}')\n",
    "    print(f'Kết quả là {[i + num for i in lst]}')\n",
    "    \n",
    "lst = [1,2,3,4,5]\n",
    "\n",
    "add_a_number_to_list(lst=lst, num=10)"
   ]
  },
  {
   "cell_type": "markdown",
   "metadata": {},
   "source": [
    "Trong những thí dụ trên, số lượng và nội dung của các arguments là cố định cũng như bị giới hạn bởi định nghĩa khi ta viết hàm. Chúng cũng là các argument bắt buộc cần phải có khi sử dụng hàm. \n",
    "Thí dụ: Ta cần phải dùng đúng 3 giá trị cho hàm add_3_numbers nhưng không thể chỉ dùng 2 giá trị, hoặc đưa thêm con số thứ 4.\n",
    "\n",
    "Trên thực tế, ta cần sự linh hoạt hơn thế này, bằng cách dùng những argument tùy chọn (không có cũng được, không giới hạn về số lượng, nội dung hay bản chất ...).\n",
    "\n",
    "Để đưa nhiều arguments vào hàm một cách tùy thích mà không cần khai báo khi tạo hàm, ta có thể đóng gói chúng bằng 1 list, thí dụ:"
   ]
  },
  {
   "cell_type": "code",
   "execution_count": 95,
   "metadata": {},
   "outputs": [],
   "source": [
    "def func_with_packaged_args(pack_args):\n",
    "    print(f'Hàm này dùng arguments đóng gói trong list: {pack_args}')\n",
    "    print('Mở gói tuần tự:')\n",
    "    for _ in pack_args:\n",
    "        print(_)"
   ]
  },
  {
   "cell_type": "code",
   "execution_count": 96,
   "metadata": {},
   "outputs": [
    {
     "name": "stdout",
     "output_type": "stream",
     "text": [
      "Hàm này dùng arguments đóng gói trong list: [1, 2, 3, 4, 5]\n",
      "Mở gói tuần tự:\n",
      "1\n",
      "2\n",
      "3\n",
      "4\n",
      "5\n"
     ]
    }
   ],
   "source": [
    "func_with_packaged_args([1,2,3,4,5])"
   ]
  },
  {
   "cell_type": "markdown",
   "metadata": {},
   "source": [
    "Tuy nhiên một cách khác linh động hơn, ta có thể dùng 2 công cụ có sẵn là \\*args và \\**kwargs\n",
    "\n",
    "Khi tạo hàm, ta có thể dùng 3 keywords sau đây, lần lượt:\n",
    "\n",
    "required : tương ứng với arguments bắt buộc phải có\n",
    "\n",
    "\\*args : tương ứng với arguments kiểu positional tùy chọn, có bản chất là tuple\n",
    "\n",
    "\\**kwargs : tương ứng với arguments kiểu keyword tùy chọn, có bản chất là dictionary\n",
    "\n",
    "Thí dụ sau đây sẽ cho phép hình dung về vai trò của 3 loại keywords này:"
   ]
  },
  {
   "cell_type": "code",
   "execution_count": 119,
   "metadata": {},
   "outputs": [],
   "source": [
    "def a_flexible_func(required, *args, **kwargs):\n",
    "    print(f'Đây là một hàm linh động, với:')\n",
    "    print(f'argument bắt buộc là {required}')\n",
    "    if args:\n",
    "        print(f'argument nối dài tùy chọn *args là {args}')\n",
    "    if kwargs:\n",
    "        print(f'keyword argument tùy chọn **kwargs là {kwargs}')"
   ]
  },
  {
   "cell_type": "markdown",
   "metadata": {},
   "source": [
    "Nếu ta không khai báo required, là 1 positional argument bắt buộc, hàm sẽ không chạy và báo lỗi:"
   ]
  },
  {
   "cell_type": "code",
   "execution_count": 80,
   "metadata": {},
   "outputs": [
    {
     "ename": "TypeError",
     "evalue": "a_flexible_func() missing 1 required positional argument: 'mandatory_arg'",
     "output_type": "error",
     "traceback": [
      "\u001b[1;31m---------------------------------------------------------------------------\u001b[0m",
      "\u001b[1;31mTypeError\u001b[0m                                 Traceback (most recent call last)",
      "\u001b[1;32m<ipython-input-80-a12edf5de15a>\u001b[0m in \u001b[0;36m<module>\u001b[1;34m\u001b[0m\n\u001b[1;32m----> 1\u001b[1;33m \u001b[0ma_flexible_func\u001b[0m\u001b[1;33m(\u001b[0m\u001b[1;33m)\u001b[0m\u001b[1;33m\u001b[0m\u001b[1;33m\u001b[0m\u001b[0m\n\u001b[0m",
      "\u001b[1;31mTypeError\u001b[0m: a_flexible_func() missing 1 required positional argument: 'mandatory_arg'"
     ]
    }
   ],
   "source": [
    "a_flexible_func()"
   ]
  },
  {
   "cell_type": "markdown",
   "metadata": {},
   "source": [
    "Khi chỉ có argument bắt buộc, hàm chạy bất chấp bản chất nội dung của argument này là gì:"
   ]
  },
  {
   "cell_type": "code",
   "execution_count": 85,
   "metadata": {},
   "outputs": [
    {
     "name": "stdout",
     "output_type": "stream",
     "text": [
      "Đây là một hàm linh động, với:\n",
      "argument bắt buộc là ABCD\n"
     ]
    }
   ],
   "source": [
    "a_flexible_func('ABCD')"
   ]
  },
  {
   "cell_type": "code",
   "execution_count": 86,
   "metadata": {},
   "outputs": [
    {
     "name": "stdout",
     "output_type": "stream",
     "text": [
      "Đây là một hàm linh động, với:\n",
      "argument bắt buộc là [1, 2, 3, 4, 5]\n"
     ]
    }
   ],
   "source": [
    "a_flexible_func([1,2,3,4,5])"
   ]
  },
  {
   "cell_type": "code",
   "execution_count": 98,
   "metadata": {},
   "outputs": [
    {
     "name": "stdout",
     "output_type": "stream",
     "text": [
      "Đây là một hàm linh động, với:\n",
      "argument bắt buộc là ['A', '100', None, True, 2.5]\n"
     ]
    }
   ],
   "source": [
    "a_flexible_func(['A','100', None, True, 2.5])"
   ]
  },
  {
   "cell_type": "markdown",
   "metadata": {},
   "source": [
    "Đi sau argument bắt buộc (ngăn cách bằng dấu phẩy đầu tiên), *args có bản chất là tuple, \n",
    "\n",
    "toán tử * có nghĩa là ta sẽ mở gói một iterable object đưa vào hàm trong hình thức một tuple\n",
    "\n",
    "Ta tạm không quan tâm đến kí tự *, chỉ cần biết rằng tất cả giá trị nào sau dấu phẩy đầu tiên đều sẽ được đóng gói và đưa vào hàm trong phần *args là 1 tuple:"
   ]
  },
  {
   "cell_type": "code",
   "execution_count": 99,
   "metadata": {},
   "outputs": [
    {
     "name": "stdout",
     "output_type": "stream",
     "text": [
      "Đây là một hàm linh động, với:\n",
      "argument bắt buộc là 1\n",
      "argument nối dài tùy chọn *args là (2, 3, 4, 5)\n"
     ]
    }
   ],
   "source": [
    "a_flexible_func(1,2,3,4,5)"
   ]
  },
  {
   "cell_type": "code",
   "execution_count": 103,
   "metadata": {},
   "outputs": [
    {
     "name": "stdout",
     "output_type": "stream",
     "text": [
      "Đây là một hàm linh động, với:\n",
      "argument bắt buộc là ABCD\n",
      "argument nối dài tùy chọn *args là (1, 2, 3, 4, 5)\n"
     ]
    }
   ],
   "source": [
    "a_flexible_func('ABCD', 1,2,3,4,5, )"
   ]
  },
  {
   "cell_type": "code",
   "execution_count": 104,
   "metadata": {},
   "outputs": [
    {
     "name": "stdout",
     "output_type": "stream",
     "text": [
      "Đây là một hàm linh động, với:\n",
      "argument bắt buộc là [1, 2, 3, 4, 5]\n",
      "argument nối dài tùy chọn *args là (6, 10.5, None, True)\n"
     ]
    }
   ],
   "source": [
    "lst = [1,2,3,4,5]\n",
    "\n",
    "a_flexible_func(lst, 6,10.5, None, True, )"
   ]
  },
  {
   "cell_type": "markdown",
   "metadata": {},
   "source": [
    "Bây giờ, thay vì đưa rời rạc từng phần tử, ta dùng trực tiếp * để mở gói bất cứ iterable object nào:"
   ]
  },
  {
   "cell_type": "code",
   "execution_count": 108,
   "metadata": {},
   "outputs": [
    {
     "name": "stdout",
     "output_type": "stream",
     "text": [
      "Đây là một hàm linh động, với:\n",
      "argument bắt buộc là ABC\n",
      "argument nối dài tùy chọn *args là (1, 2, 3, 4, 5)\n"
     ]
    }
   ],
   "source": [
    "a_flexible_func('ABC', *lst)"
   ]
  },
  {
   "cell_type": "code",
   "execution_count": 109,
   "metadata": {},
   "outputs": [
    {
     "name": "stdout",
     "output_type": "stream",
     "text": [
      "Đây là một hàm linh động, với:\n",
      "argument bắt buộc là 1\n",
      "argument nối dài tùy chọn *args là (2, 3, 1, 2, 3, 4, 5)\n"
     ]
    }
   ],
   "source": [
    "a_flexible_func(1,2,3, *tpl)"
   ]
  },
  {
   "cell_type": "code",
   "execution_count": 112,
   "metadata": {},
   "outputs": [
    {
     "name": "stdout",
     "output_type": "stream",
     "text": [
      "Đây là một hàm linh động, với:\n",
      "argument bắt buộc là 1\n",
      "argument nối dài tùy chọn *args là (2, 3, 1, 2, 3, 4, 5)\n"
     ]
    }
   ],
   "source": [
    "a_flexible_func(1,2,3, *a_set)"
   ]
  },
  {
   "cell_type": "code",
   "execution_count": 113,
   "metadata": {},
   "outputs": [
    {
     "name": "stdout",
     "output_type": "stream",
     "text": [
      "Đây là một hàm linh động, với:\n",
      "argument bắt buộc là 1\n",
      "argument nối dài tùy chọn *args là (2, 3, 'A', 'B', 'C', 'D', 'E')\n"
     ]
    }
   ],
   "source": [
    "a_flexible_func(1,2,3, *dct)"
   ]
  },
  {
   "cell_type": "markdown",
   "metadata": {},
   "source": [
    "\\**kwargs có cơ chế tương tự *args, nhưng nó dùng cho các keyword arguments thay vì positional arguments\n",
    "\n",
    "và vì 1 keyword argument là 1 cặp key:value, \\**kwargs tương đương với 1 dictionary:\n",
    "\n",
    "Tương tự như trên, những keyword argument đi sau *args sẽ được đóng gói vào 1 dict và chuyển vào hàm"
   ]
  },
  {
   "cell_type": "code",
   "execution_count": 120,
   "metadata": {},
   "outputs": [
    {
     "name": "stdout",
     "output_type": "stream",
     "text": [
      "Đây là một hàm linh động, với:\n",
      "argument bắt buộc là ABC\n",
      "keyword argument tùy chọn **kwargs là {'kw1': 123, 'kw2': None, 'kw3': True}\n"
     ]
    }
   ],
   "source": [
    "a_flexible_func('ABC',kw1 = 123, kw2=None, kw3 = True)"
   ]
  },
  {
   "cell_type": "markdown",
   "metadata": {},
   "source": [
    "Thực ra, tên gọi args và kwargs chỉ là cho dễ nhớ, khi đã hiểu cơ chế đằng sau thì ta có thể dùng bất cứ từ nào tùy thích, thí dụ:"
   ]
  },
  {
   "cell_type": "code",
   "execution_count": 129,
   "metadata": {},
   "outputs": [],
   "source": [
    "def complex_func(mandatory, *args_list, **keywords):\n",
    "    print(f'Đây là một hàm linh động, với:')\n",
    "    print(f'argument bắt buộc là {mandatory}')\n",
    "    if args_list:\n",
    "        print(f'argument nối dài tùy chọn *args là {args_list}')\n",
    "    if keywords:\n",
    "        print(f'keyword argument tùy chọn **kwargs là {keywords}')"
   ]
  },
  {
   "cell_type": "code",
   "execution_count": 130,
   "metadata": {},
   "outputs": [
    {
     "name": "stdout",
     "output_type": "stream",
     "text": [
      "Đây là một hàm linh động, với:\n",
      "argument bắt buộc là 0\n",
      "argument nối dài tùy chọn *args là (1, 2, 3, 4, 5)\n",
      "keyword argument tùy chọn **kwargs là {'A': 1, 'B': 2, 'C': 3, 'D': 4, 'E': 5}\n"
     ]
    }
   ],
   "source": [
    "complex_func(0, *lst,**dct)"
   ]
  },
  {
   "cell_type": "markdown",
   "metadata": {},
   "source": [
    "Sau khi được đóng gói đưa vào hàm, các phần tử bên trong tuple args và dict kwargs có thể được sử dụng tùy thích, thí dụ tính toán hàng loạt trên iterable object hay mở gói để lấy từng phần tử ra dùng riêng"
   ]
  },
  {
   "cell_type": "code",
   "execution_count": 138,
   "metadata": {},
   "outputs": [],
   "source": [
    "def power(order, *numlist, **numdict):\n",
    "    if numlist:\n",
    "        print([i**order for i in numlist])\n",
    "    if numdict:\n",
    "        print([i**order for i in numdict.values()])"
   ]
  },
  {
   "cell_type": "code",
   "execution_count": 139,
   "metadata": {},
   "outputs": [
    {
     "name": "stdout",
     "output_type": "stream",
     "text": [
      "[9, 25, 49, 81, 100]\n"
     ]
    }
   ],
   "source": [
    "power(2, *[3,5,7,9,10])"
   ]
  },
  {
   "cell_type": "code",
   "execution_count": 140,
   "metadata": {},
   "outputs": [
    {
     "name": "stdout",
     "output_type": "stream",
     "text": [
      "[9, 25, 81]\n"
     ]
    }
   ],
   "source": [
    "power(2, **{'A':3, 'B':5, 'C':9})"
   ]
  },
  {
   "cell_type": "markdown",
   "metadata": {},
   "source": [
    "Cơ chế mà ta vừa thấy có thể áp dụng được cho cả hàm lambda:"
   ]
  },
  {
   "cell_type": "code",
   "execution_count": 142,
   "metadata": {},
   "outputs": [
    {
     "data": {
      "text/plain": [
       "6"
      ]
     },
     "execution_count": 142,
     "metadata": {},
     "output_type": "execute_result"
    }
   ],
   "source": [
    "(lambda *args: sum(args))(1,2,3)"
   ]
  },
  {
   "cell_type": "code",
   "execution_count": 143,
   "metadata": {},
   "outputs": [
    {
     "data": {
      "text/plain": [
       "6"
      ]
     },
     "execution_count": 143,
     "metadata": {},
     "output_type": "execute_result"
    }
   ],
   "source": [
    "(lambda **kwargs: sum(kwargs.values()))(one=1, two=2, three=3)"
   ]
  },
  {
   "cell_type": "code",
   "execution_count": 148,
   "metadata": {},
   "outputs": [
    {
     "data": {
      "text/plain": [
       "15"
      ]
     },
     "execution_count": 148,
     "metadata": {},
     "output_type": "execute_result"
    }
   ],
   "source": [
    "(lambda *args: sum(args))(*lst)"
   ]
  },
  {
   "cell_type": "code",
   "execution_count": 146,
   "metadata": {},
   "outputs": [
    {
     "data": {
      "text/plain": [
       "15"
      ]
     },
     "execution_count": 146,
     "metadata": {},
     "output_type": "execute_result"
    }
   ],
   "source": [
    "(lambda **kwargs: sum(kwargs.values()))(**dct)"
   ]
  },
  {
   "cell_type": "code",
   "execution_count": null,
   "metadata": {},
   "outputs": [],
   "source": []
  }
 ],
 "metadata": {
  "hide_input": false,
  "kernelspec": {
   "display_name": "Python 3",
   "language": "python",
   "name": "python3"
  },
  "language_info": {
   "codemirror_mode": {
    "name": "ipython",
    "version": 3
   },
   "file_extension": ".py",
   "mimetype": "text/x-python",
   "name": "python",
   "nbconvert_exporter": "python",
   "pygments_lexer": "ipython3",
   "version": "3.7.5"
  },
  "latex_envs": {
   "LaTeX_envs_menu_present": true,
   "autoclose": false,
   "autocomplete": true,
   "bibliofile": "biblio.bib",
   "cite_by": "apalike",
   "current_citInitial": 1,
   "eqLabelWithNumbers": true,
   "eqNumInitial": 1,
   "hotkeys": {
    "equation": "Ctrl-E",
    "itemize": "Ctrl-I"
   },
   "labels_anchors": false,
   "latex_user_defs": false,
   "report_style_numbering": false,
   "user_envs_cfg": false
  },
  "toc": {
   "base_numbering": 1,
   "nav_menu": {},
   "number_sections": false,
   "sideBar": true,
   "skip_h1_title": false,
   "title_cell": "Table of Contents",
   "title_sidebar": "Contents",
   "toc_cell": false,
   "toc_position": {
    "height": "calc(100% - 180px)",
    "left": "10px",
    "top": "150px",
    "width": "273.188px"
   },
   "toc_section_display": true,
   "toc_window_display": true
  }
 },
 "nbformat": 4,
 "nbformat_minor": 2
}
