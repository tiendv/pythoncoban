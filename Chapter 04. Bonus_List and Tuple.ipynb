{
 "cells": [
  {
   "cell_type": "markdown",
   "metadata": {},
   "source": [
    "# Lists and Tuples - Phần 1"
   ]
  },
  {
   "cell_type": "markdown",
   "metadata": {},
   "source": [
    "#### *Ngoài các kiểu dữ liệu cơ sở trong python như number (float, int), string, bool thì trong python còn có hỗ trợ các kiểu dữ liệu khác. Trong phần này ta sẽ bàn về kiểu dữ liệu list và kiểu dữ liệu tuple. Chúng ta sẽ đi qua các khái niệm cơ bản trải nghiêm những ví dụ nền tảng.*"
   ]
  },
  {
   "cell_type": "markdown",
   "metadata": {},
   "source": [
    "## 1. Lists"
   ]
  },
  {
   "cell_type": "markdown",
   "metadata": {},
   "source": [
    "### 1.1 Định nghĩa ?"
   ]
  },
  {
   "cell_type": "markdown",
   "metadata": {},
   "source": [
    "- **Lists** trong Python biểu diễn dãy các giá trị có thứ tự. Các giá trị trong dãy này có thể khác kiểu dữ liệu hay cùng kiểu dữ liệu tùy ý.\n",
    "- 1 list là một **tập hợp có thứ tự** và **có thể thay đổi giá trị**.\n",
    "- Trong Python, để khai báo một list ta sử dụng **dấu ngoặc vuông** (square brackets)."
   ]
  },
  {
   "cell_type": "markdown",
   "metadata": {},
   "source": [
    "###### Ví dụ:"
   ]
  },
  {
   "cell_type": "code",
   "execution_count": 2,
   "metadata": {},
   "outputs": [
    {
     "data": {
      "text/plain": [
       "list"
      ]
     },
     "execution_count": 2,
     "metadata": {},
     "output_type": "execute_result"
    }
   ],
   "source": [
    "# Ví dụ 1:\n",
    "l1 = [1, 3, 2, -31]\n",
    "type(l1)"
   ]
  },
  {
   "cell_type": "code",
   "execution_count": 3,
   "metadata": {},
   "outputs": [
    {
     "data": {
      "text/plain": [
       "list"
      ]
     },
     "execution_count": 3,
     "metadata": {},
     "output_type": "execute_result"
    }
   ],
   "source": [
    "# Ví dụ 2\n",
    "l2 = ['buoi', True, 10, 'Tien']\n",
    "type(l2)"
   ]
  },
  {
   "cell_type": "code",
   "execution_count": 4,
   "metadata": {},
   "outputs": [
    {
     "data": {
      "text/plain": [
       "list"
      ]
     },
     "execution_count": 4,
     "metadata": {},
     "output_type": "execute_result"
    }
   ],
   "source": [
    "# Ví dụ 3\n",
    "l3 = [[1,3],['buoi','tao',1],['Cartoon','Comedy','Romantic']]\n",
    "type(l3)"
   ]
  },
  {
   "cell_type": "markdown",
   "metadata": {},
   "source": [
    "**Remind**: List là một cấu trúc dữ liệu biểu diễn một dãy các giá trị được đặt trong nó, mỗi giá trị có một kiểu dữ liệu không nhất thiết phải giống nhau hoàn toàn."
   ]
  },
  {
   "cell_type": "markdown",
   "metadata": {},
   "source": [
    "### 1.2 Truy cập các phần tử trong list"
   ]
  },
  {
   "cell_type": "markdown",
   "metadata": {},
   "source": [
    "- Các phần tử trong list **được đánh chỉ số (index)** là **một số nguyên bắt đầu từ 0** (tại vị trí phần tử đầu tiên trong danh sách).\n",
    "- Chúng ta có thể **truy cập (access)** vào **một phần tử** trong list bằng cách sử dụng **toán tử (operator) []**."
   ]
  },
  {
   "cell_type": "markdown",
   "metadata": {},
   "source": [
    "##### Ví dụ"
   ]
  },
  {
   "cell_type": "code",
   "execution_count": 5,
   "metadata": {},
   "outputs": [
    {
     "name": "stdout",
     "output_type": "stream",
     "text": [
      "l2: ['buoi', True, 10, 'Tien']\n",
      "\n",
      "Gia tri cua phan tu thu 2 trong l2 la: 10\n"
     ]
    }
   ],
   "source": [
    "print(\"l2:\", l2)\n",
    "print(\"\\nGia tri cua phan tu thu 2 trong l2 la:\", l2[2])"
   ]
  },
  {
   "cell_type": "markdown",
   "metadata": {},
   "source": [
    "#### Nhận xét: một list mà có **n phần tử** thì:\n",
    "        + Chỉ số đầu tiên được đánh là 0.\n",
    "        + Chỉ số cuối cùng được đánh là n-1.\n",
    "        + Nếu ta vượt biên thì sẽ có lỗi (error)."
   ]
  },
  {
   "cell_type": "markdown",
   "metadata": {},
   "source": [
    "#### *Ngoài ra, ta còn có thể sử dụng chỉ số âm để truy cập môt phần tử nào đó trong list. Nói cách khác, các phần tử cũng được đánh chỉ số âm (negative index)*."
   ]
  },
  {
   "cell_type": "code",
   "execution_count": 6,
   "metadata": {},
   "outputs": [
    {
     "name": "stdout",
     "output_type": "stream",
     "text": [
      "Talk\n"
     ]
    }
   ],
   "source": [
    "# Ví dụ 1: truy cập phần tử trong list bằng chỉ số âm (negative index)\n",
    "l4 = [\"We\", \"Don't\", \"Talk\", \"Any\", \"More\"]\n",
    "print(l4[-3])"
   ]
  },
  {
   "cell_type": "code",
   "execution_count": 7,
   "metadata": {},
   "outputs": [
    {
     "name": "stdout",
     "output_type": "stream",
     "text": [
      "T\n"
     ]
    }
   ],
   "source": [
    "# Ví dụ 2: truy cập phần tử trong list bằng chỉ số âm (negative index)\n",
    "l5 = [\"P\", \"Y\", \"T\", \"H\", \"O\", \"N\"]\n",
    "print(l5[-4])"
   ]
  },
  {
   "cell_type": "markdown",
   "metadata": {},
   "source": [
    "**Nhận xét**:\n",
    "    - Tại vị trí thứ 0 là vị trí -6\n",
    "    - Tại vị trí thứ 1 là vị trí -6 + 1 = -5\n",
    "    - Tại vị trí thứ 2 là vị trí -6 + 2 = -4\n",
    "    - .........\n",
    "    - Tại vị trí thứ i là vị trí -6 + i\n",
    "    - .........\n",
    "    - Tại vị trí n-2 là vị trí -6 + (6 - 2) = -2 \n",
    "    - Tại vị trí n-1 là vị trí -6 + (6 - 1) = -1 "
   ]
  },
  {
   "attachments": {
    "temp2.png": {
     "image/png": "[encoded data removed]"
    }
   },
   "cell_type": "markdown",
   "metadata": {},
   "source": [
    "![temp2.png](attachment:temp2.png)"
   ]
  },
  {
   "cell_type": "markdown",
   "metadata": {},
   "source": [
    "- Ta có thể truy cập một vùng các phần từ bằng **toán tử :** và **toán từ []**."
   ]
  },
  {
   "cell_type": "code",
   "execution_count": 8,
   "metadata": {},
   "outputs": [
    {
     "name": "stdout",
     "output_type": "stream",
     "text": [
      "['We', \"Don't\", 'Talk', 'Any', 'More']\n",
      "Cac phan duoc danh chi so trong doan tu 0 den (3 - 1):  ['We', \"Don't\", 'Talk']\n"
     ]
    }
   ],
   "source": [
    "print(l4)\n",
    "print(\"Cac phan duoc danh chi so trong doan tu 0 den (3 - 1): \", l4[0:3])"
   ]
  },
  {
   "cell_type": "code",
   "execution_count": 9,
   "metadata": {},
   "outputs": [
    {
     "name": "stdout",
     "output_type": "stream",
     "text": [
      "Cac phan tu duoc danh chi so trong doan tu 0 den (3 - 1): ['We', \"Don't\", 'Talk']\n"
     ]
    }
   ],
   "source": [
    "print(\"Cac phan tu duoc danh chi so trong doan tu 0 den (3 - 1):\", l4[:3])"
   ]
  },
  {
   "cell_type": "code",
   "execution_count": 10,
   "metadata": {},
   "outputs": [
    {
     "name": "stdout",
     "output_type": "stream",
     "text": [
      "Cac phan tu duoc danh chi so trong doan tu 1 den (4 - 1):  [\"Don't\", 'Talk', 'Any']\n"
     ]
    }
   ],
   "source": [
    "print(\"Cac phan tu duoc danh chi so trong doan tu 1 den (4 - 1): \", l4[1:4])"
   ]
  },
  {
   "cell_type": "code",
   "execution_count": 11,
   "metadata": {},
   "outputs": [
    {
     "name": "stdout",
     "output_type": "stream",
     "text": [
      "Cac phan tu duoc danh chi so trong doan tu 1 den (5 - 1):  [\"Don't\", 'Talk', 'Any', 'More']\n"
     ]
    }
   ],
   "source": [
    "print(\"Cac phan tu duoc danh chi so trong doan tu 1 den (5 - 1): \",l4[1:])"
   ]
  },
  {
   "cell_type": "markdown",
   "metadata": {},
   "source": [
    "### 1.3 Thay đổi các giá trị của list"
   ]
  },
  {
   "cell_type": "markdown",
   "metadata": {},
   "source": [
    "- List là một cấu trúc dữ liệu có thể thay đổi giá trị các phần tử bên trong nó được.\n",
    "- Để thay đổi giá trị của 1 phần tử hay 1 vùng các phần tử ta sử dụng toán từ gán (assignment operator)."
   ]
  },
  {
   "cell_type": "markdown",
   "metadata": {},
   "source": [
    "##### Ví dụ:"
   ]
  },
  {
   "cell_type": "code",
   "execution_count": 12,
   "metadata": {},
   "outputs": [
    {
     "name": "stdout",
     "output_type": "stream",
     "text": [
      "['buoi', True, 10, 'Tien']\n"
     ]
    }
   ],
   "source": [
    "print(l2)"
   ]
  },
  {
   "cell_type": "code",
   "execution_count": 13,
   "metadata": {},
   "outputs": [
    {
     "name": "stdout",
     "output_type": "stream",
     "text": [
      "['buoi', True, -1.21, 'Tien']\n"
     ]
    }
   ],
   "source": [
    "# Thay đổi (change) giá trị phần tử có chỉ số (index) là 2:\n",
    "l2[2] = -1.21\n",
    "\n",
    "print(l2)"
   ]
  },
  {
   "cell_type": "code",
   "execution_count": 14,
   "metadata": {},
   "outputs": [
    {
     "name": "stdout",
     "output_type": "stream",
     "text": [
      "['buoi', True, 'Apple', 'Tien']\n"
     ]
    }
   ],
   "source": [
    "# Thay đổi (change) giá trị phần tử có chỉ số (index) là 2:\n",
    "l2[2] = \"Apple\"\n",
    "\n",
    "print(l2)"
   ]
  },
  {
   "cell_type": "code",
   "execution_count": 15,
   "metadata": {},
   "outputs": [
    {
     "name": "stdout",
     "output_type": "stream",
     "text": [
      "['Turning', 'Hercules', 'Zeus', 'Tien']\n"
     ]
    }
   ],
   "source": [
    "# Thay đổi (change) các giá trị trong vùng có chỉ số từ 0 đến 3 - 1 = 2 \n",
    "l2[0:3] = ['Turning','Hercules',\"Zeus\"]\n",
    "\n",
    "print(l2)"
   ]
  },
  {
   "cell_type": "markdown",
   "metadata": {},
   "source": [
    "### 1.4 Các hàm làm việc với list"
   ]
  },
  {
   "cell_type": "markdown",
   "metadata": {},
   "source": [
    "#### Chúng ta sẽ discover một số hàm thông dụng xử lí trên list, cụ thể\n",
    "    - len() function.\n",
    "    - sorted() function.\n",
    "    - sum() function.\n",
    "    - max() and min() function.\n",
    "    - delete một object bên trong một list\n",
    "#### Ngoài ra chúng ta còn tìm hiểu một phương thức bên trong một đối tượng thuộc về lớp đối tượng list, cụ thể:\n",
    "    - list.append() method\n",
    "    - list.clear() method\n",
    "    - list.copy() method\n",
    "    - list.count() method\n",
    "    - list.extend() moethod\n",
    "    - list.index() medthod\n",
    "    - list.pop() method\n",
    "    - list.remove() method\n",
    "    - list.reverse() method\n",
    "    "
   ]
  },
  {
   "cell_type": "markdown",
   "metadata": {},
   "source": [
    "#### *len() function* : trả về độ dài của list"
   ]
  },
  {
   "cell_type": "code",
   "execution_count": 16,
   "metadata": {},
   "outputs": [
    {
     "name": "stdout",
     "output_type": "stream",
     "text": [
      "[[1, 3], ['buoi', 'tao', 1], ['Cartoon', 'Comedy', 'Romantic']]\n"
     ]
    }
   ],
   "source": [
    "print(l3)"
   ]
  },
  {
   "cell_type": "code",
   "execution_count": 17,
   "metadata": {},
   "outputs": [
    {
     "name": "stdout",
     "output_type": "stream",
     "text": [
      "Do dai cua l3: 3\n"
     ]
    }
   ],
   "source": [
    "# Hàm len() được gọi thực hiện với đối số l3\n",
    "print(\"Do dai cua l3:\", len(l3))"
   ]
  },
  {
   "cell_type": "code",
   "execution_count": 18,
   "metadata": {},
   "outputs": [
    {
     "name": "stdout",
     "output_type": "stream",
     "text": [
      "Do dai cua phan tu tai vi tri co chi so 1: 3\n"
     ]
    }
   ],
   "source": [
    "# Hàm len() được gọi thực hiên với đối số l3[1]\n",
    "print(\"Do dai cua phan tu tai vi tri co chi so 1:\", len(l3[1]))"
   ]
  },
  {
   "cell_type": "markdown",
   "metadata": {},
   "source": [
    "#### *sum() function* : trả  về tổng các giá trị trong list\n",
    "*Lưu ý: các giá trị trong list phải là kiểu dữ liệu number*"
   ]
  },
  {
   "cell_type": "code",
   "execution_count": 19,
   "metadata": {},
   "outputs": [
    {
     "name": "stdout",
     "output_type": "stream",
     "text": [
      "[1, 3, 2, -31]\n"
     ]
    }
   ],
   "source": [
    "print(l1)"
   ]
  },
  {
   "cell_type": "code",
   "execution_count": 20,
   "metadata": {},
   "outputs": [
    {
     "name": "stdout",
     "output_type": "stream",
     "text": [
      "Tong cac gia tri trong l1:  -25\n"
     ]
    }
   ],
   "source": [
    "print(\"Tong cac gia tri trong l1: \", sum(l1))"
   ]
  },
  {
   "cell_type": "code",
   "execution_count": 21,
   "metadata": {},
   "outputs": [
    {
     "name": "stdout",
     "output_type": "stream",
     "text": [
      "['Turning', 'Hercules', 'Zeus', 'Tien']\n"
     ]
    }
   ],
   "source": [
    "print(l2)"
   ]
  },
  {
   "cell_type": "code",
   "execution_count": 22,
   "metadata": {},
   "outputs": [
    {
     "ename": "TypeError",
     "evalue": "unsupported operand type(s) for +: 'int' and 'str'",
     "output_type": "error",
     "traceback": [
      "\u001b[1;31m---------------------------------------------------------------------------\u001b[0m",
      "\u001b[1;31mTypeError\u001b[0m                                 Traceback (most recent call last)",
      "\u001b[1;32m<ipython-input-22-f535a41e4e0d>\u001b[0m in \u001b[0;36m<module>\u001b[1;34m\u001b[0m\n\u001b[1;32m----> 1\u001b[1;33m \u001b[0mprint\u001b[0m\u001b[1;33m(\u001b[0m\u001b[1;34m\"Tong cac gia tri trong l2: \"\u001b[0m\u001b[1;33m,\u001b[0m \u001b[0msum\u001b[0m\u001b[1;33m(\u001b[0m\u001b[0ml2\u001b[0m\u001b[1;33m)\u001b[0m\u001b[1;33m)\u001b[0m\u001b[1;33m\u001b[0m\u001b[1;33m\u001b[0m\u001b[0m\n\u001b[0m",
      "\u001b[1;31mTypeError\u001b[0m: unsupported operand type(s) for +: 'int' and 'str'"
     ]
    }
   ],
   "source": [
    "print(\"Tong cac gia tri trong l2: \", sum(l2))"
   ]
  },
  {
   "cell_type": "markdown",
   "metadata": {},
   "source": [
    "#### *sorted() function* : thực hiện thao tác sắp xếp lại các phần tử trong list theo thứ tự từ điển"
   ]
  },
  {
   "cell_type": "code",
   "execution_count": 23,
   "metadata": {},
   "outputs": [
    {
     "name": "stdout",
     "output_type": "stream",
     "text": [
      "[1, 3, 2, -31]\n",
      "Phien ban cua l1 sau khi duoc sap tang:  [-31, 1, 2, 3]\n"
     ]
    }
   ],
   "source": [
    "print(l1)\n",
    "# Hàm sorted được gọi thực hiện với đối số l1.\n",
    "# Giá trị trả về của hàm sorted(l1) là một đối tượng cùng thuộc lớp đối tượng với đối tượng được truyền (passing) vào hàm\n",
    "print(\"Phien ban cua l1 sau khi duoc sap tang: \", sorted(l1))"
   ]
  },
  {
   "cell_type": "markdown",
   "metadata": {},
   "source": [
    "*Vậy l1 có thay đổi hay không ?*"
   ]
  },
  {
   "cell_type": "code",
   "execution_count": 24,
   "metadata": {},
   "outputs": [
    {
     "name": "stdout",
     "output_type": "stream",
     "text": [
      "[1, 3, 2, -31]\n"
     ]
    }
   ],
   "source": [
    "# l1 không thay đổi\n",
    "print(l1)"
   ]
  },
  {
   "cell_type": "markdown",
   "metadata": {},
   "source": [
    "* Ta có thể thay đổi quan hệ trong việc sắp, thay vì *sắp tăng (ascending)* thì có thể *sắp giảm (descending)*, bằng cách thay **giá trị của đối số mặc nhiên (default argument)** reverse từ False trở thành True.\n",
    "* Nếu muốn biết cách sử dụng sorted() như nào thì cứ tra cứu bằng **help(name_function)**."
   ]
  },
  {
   "cell_type": "code",
   "execution_count": 25,
   "metadata": {},
   "outputs": [
    {
     "name": "stdout",
     "output_type": "stream",
     "text": [
      "Phien ban cua l1 sau khi duoc sap giam:  [3, 2, 1, -31]\n"
     ]
    }
   ],
   "source": [
    "# Sắp giảm list l1 \n",
    "# Giá trị trả về của hàm sorted(l1) là một đối tượng cùng thuộc lớp đối tượng với đối tượng được truyền (passing) vào hàm\n",
    "print(\"Phien ban cua l1 sau khi duoc sap giam: \", sorted(l1, reverse=True))"
   ]
  },
  {
   "cell_type": "code",
   "execution_count": 26,
   "metadata": {},
   "outputs": [
    {
     "name": "stdout",
     "output_type": "stream",
     "text": [
      "['Turning', 'Hercules', 'Zeus', 'Tien']\n"
     ]
    }
   ],
   "source": [
    "# Ví dụ sắp xếp các phần tử có kiểu dữ liệu là string trong list\n",
    "print(l2)"
   ]
  },
  {
   "cell_type": "code",
   "execution_count": 27,
   "metadata": {},
   "outputs": [
    {
     "name": "stdout",
     "output_type": "stream",
     "text": [
      "Phien ban cua l2 sau khi duoc sap giam theo thu tu tu dien:  ['Zeus', 'Turning', 'Tien', 'Hercules']\n"
     ]
    }
   ],
   "source": [
    "print(\"Phien ban cua l2 sau khi duoc sap giam theo thu tu tu dien: \", sorted(l2, reverse=True))"
   ]
  },
  {
   "cell_type": "markdown",
   "metadata": {},
   "source": [
    "#### *max()- min() function* : trả về phần tử có giá trị  lớn nhất - nhỏ nhất trong list"
   ]
  },
  {
   "cell_type": "code",
   "execution_count": 28,
   "metadata": {},
   "outputs": [
    {
     "name": "stdout",
     "output_type": "stream",
     "text": [
      "[1, 3, 2, -31]\n"
     ]
    }
   ],
   "source": [
    "print(l1)"
   ]
  },
  {
   "cell_type": "code",
   "execution_count": 29,
   "metadata": {},
   "outputs": [
    {
     "name": "stdout",
     "output_type": "stream",
     "text": [
      "Gia tri phan tu co gia tri nho nhat trong l1:  -31\n",
      "Gia tri phan tu co gia tri lon nhat trong l1:  3\n"
     ]
    }
   ],
   "source": [
    "print(\"Gia tri phan tu co gia tri nho nhat trong l1: \", min(l1))\n",
    "print(\"Gia tri phan tu co gia tri lon nhat trong l1: \", max(l1))"
   ]
  },
  {
   "cell_type": "code",
   "execution_count": 30,
   "metadata": {},
   "outputs": [
    {
     "name": "stdout",
     "output_type": "stream",
     "text": [
      "['Turning', 'Hercules', 'Zeus', 'Tien']\n"
     ]
    }
   ],
   "source": [
    "print(l2)"
   ]
  },
  {
   "cell_type": "code",
   "execution_count": 31,
   "metadata": {},
   "outputs": [
    {
     "name": "stdout",
     "output_type": "stream",
     "text": [
      "Gia tri phan tu co gia tri nho nhat trong l2:  Hercules\n",
      "Gia tri phan tu co gia tri lon nhat trong l2:  Zeus\n"
     ]
    }
   ],
   "source": [
    "print(\"Gia tri phan tu co gia tri nho nhat trong l2: \", min(l2))\n",
    "print(\"Gia tri phan tu co gia tri lon nhat trong l2: \", max(l2))"
   ]
  },
  {
   "cell_type": "markdown",
   "metadata": {},
   "source": [
    "#### *Các phương thức được hỗ trợ trong lớp đối tượng list*"
   ]
  },
  {
   "cell_type": "markdown",
   "metadata": {},
   "source": [
    "**+ append() method**: thay đổi list bằng việc thêm vào **một item** ở phía list"
   ]
  },
  {
   "cell_type": "code",
   "execution_count": 32,
   "metadata": {},
   "outputs": [
    {
     "name": "stdout",
     "output_type": "stream",
     "text": [
      "['Turning', 'Hercules', 'Zeus', 'Tien']\n"
     ]
    }
   ],
   "source": [
    "print(l2)"
   ]
  },
  {
   "cell_type": "code",
   "execution_count": 33,
   "metadata": {},
   "outputs": [
    {
     "name": "stdout",
     "output_type": "stream",
     "text": [
      "['Turning', 'Hercules', 'Zeus', 'Tien', 'Pereus']\n"
     ]
    }
   ],
   "source": [
    "# Thêm vào sau list tên của một anh hùng nữa:\n",
    "l2.append(\"Pereus\")\n",
    "print(l2)"
   ]
  },
  {
   "cell_type": "code",
   "execution_count": 34,
   "metadata": {},
   "outputs": [
    {
     "name": "stdout",
     "output_type": "stream",
     "text": [
      "['Turning', 'Hercules', 'Zeus', 'Tien', 'Pereus', 2019]\n"
     ]
    }
   ],
   "source": [
    "# Thêm vào sau list số 2019\n",
    "l2.append(2019)\n",
    "print(l2)"
   ]
  },
  {
   "cell_type": "markdown",
   "metadata": {},
   "source": [
    "**+ clear() method**: Xóa toàn bộ các phần tử trong list -> list rỗng"
   ]
  },
  {
   "cell_type": "code",
   "execution_count": 35,
   "metadata": {},
   "outputs": [
    {
     "name": "stdout",
     "output_type": "stream",
     "text": [
      "['We', \"Don't\", 'Talk', 'Any', 'More']\n",
      "[]\n"
     ]
    }
   ],
   "source": [
    "print(l4)\n",
    "l4.clear()\n",
    "print(l4)"
   ]
  },
  {
   "cell_type": "markdown",
   "metadata": {},
   "source": [
    "**+ copy() method**: Chúng ta không thể copy list1 cho list2 bằng cú pháp(syntax): **list2 = list1**,\n",
    "Bởi vì: lệnh này chỉ làm cho list2 **reference** vào object mà list1 đang reference tới, điều này dẫn đến **2 object cùng reference** tới cùng 1 vùng nhớ (warning)"
   ]
  },
  {
   "cell_type": "code",
   "execution_count": 36,
   "metadata": {},
   "outputs": [
    {
     "name": "stdout",
     "output_type": "stream",
     "text": [
      "List l2: ['Turning', 'Hercules', 'Zeus', 'Tien', 'Pereus', 2019]\n",
      "List l3: [[1, 3], ['buoi', 'tao', 1], ['Cartoon', 'Comedy', 'Romantic']]\n"
     ]
    }
   ],
   "source": [
    "print(\"List l2:\", l2)\n",
    "print(\"List l3:\", l3)"
   ]
  },
  {
   "cell_type": "code",
   "execution_count": 37,
   "metadata": {},
   "outputs": [
    {
     "name": "stdout",
     "output_type": "stream",
     "text": [
      "List l2: ['Turning', 'Hercules', 'Zeus', 'Tien', 'Pereus', 2019]\n",
      "List l3: ['Turning', 'Hercules', 'Zeus', 'Tien', 'Pereus', 2019]\n",
      "Buoi\n"
     ]
    }
   ],
   "source": [
    "# chứng minh (concentrate) l3 = l2 chỉ là một phép thay đổi địa chỉ ô nhớ của vùng nhớ là biến list2 đang giữ\n",
    "l3 = l2\n",
    "\n",
    "# Xuất các phần tử của 2 list sau khi thực hiện phép gán\n",
    "print(\"List l2:\", l2)\n",
    "print(\"List l3:\", l3)\n",
    "\n",
    "# Thay đổi giá trị của phần tử thứ 3 trong l2\n",
    "l2[3] = \"Buoi\"\n",
    "\n",
    "# Nhưng l3[3] lại thay đổi theo\n",
    "print(l3[3])"
   ]
  },
  {
   "cell_type": "code",
   "execution_count": 38,
   "metadata": {},
   "outputs": [],
   "source": [
    "# Bạn tự thử nếu ta thay đổi l3 thì l2 có thay đổi không nhé ...\n",
    "# Tự code nhé.. đừng copy"
   ]
  },
  {
   "cell_type": "markdown",
   "metadata": {},
   "source": [
    "**Cách khắc phục ở đây là sử dụng copy() method của lớp đối tượng list**\n",
    "**Hàm này trả về một bản sau của đối tượng gọi thực hiện phương thức ( ông nào học hướng đối tượng rồi sẽ biết)"
   ]
  },
  {
   "cell_type": "code",
   "execution_count": 39,
   "metadata": {},
   "outputs": [
    {
     "name": "stdout",
     "output_type": "stream",
     "text": [
      "List l2: ['Turning', 'Hercules', 'Zeus', 'Buoi', 'Pereus', 2019]\n",
      "List l4: []\n"
     ]
    }
   ],
   "source": [
    "print(\"List l2:\", l2)\n",
    "print(\"List l4:\", l4)"
   ]
  },
  {
   "cell_type": "code",
   "execution_count": 40,
   "metadata": {},
   "outputs": [],
   "source": [
    "# Đối tượng l2 gọi thực hiện phương thức copy() tạo ra một bản sao.. bản sao này lưu giữ địa chỉ đến một đối tượng riêng biệt với đối tượng được l2 reference\n",
    "l4 = l2.copy()"
   ]
  },
  {
   "cell_type": "code",
   "execution_count": 41,
   "metadata": {},
   "outputs": [
    {
     "name": "stdout",
     "output_type": "stream",
     "text": [
      "List l2: ['Turning', 'Hercules', 'Zeus', 'Buoi', 'Pereus', 2019]\n",
      "List l4: ['Turning', 'Hercules', 'Zeus', 'Buoi', 'Pereus', 2019]\n"
     ]
    }
   ],
   "source": [
    "print(\"List l2:\", l2)\n",
    "print(\"List l4:\", l4)"
   ]
  },
  {
   "cell_type": "code",
   "execution_count": 42,
   "metadata": {},
   "outputs": [
    {
     "name": "stdout",
     "output_type": "stream",
     "text": [
      "List l2: ['Turning', 'Hercules', 'Titan', 'Buoi', 'Pereus', 2019]\n",
      "List l4: ['Turning', 'Hercules', 'Zeus', 'Buoi', 'Pereus', 2019]\n"
     ]
    }
   ],
   "source": [
    "# Thay đổi giá trị l2 xem l4 có bị ảnh hưởng gì hay không\n",
    "l2[2] = 'Titan'\n",
    "print(\"List l2:\", l2)\n",
    "print(\"List l4:\", l4)"
   ]
  },
  {
   "cell_type": "markdown",
   "metadata": {},
   "source": [
    "**+ count() method**: Đếm xem số lần xuất hiện của một giá trị cụ thể trong list"
   ]
  },
  {
   "cell_type": "code",
   "execution_count": 43,
   "metadata": {},
   "outputs": [
    {
     "name": "stdout",
     "output_type": "stream",
     "text": [
      "So lan xuat hien cua gia tri 1 trong l6 la: 3\n"
     ]
    }
   ],
   "source": [
    "l6 = [1,2,3,-31,30,1,3,1]\n",
    "print(\"So lan xuat hien cua gia tri 1 trong l6 la:\", l6.count(1))"
   ]
  },
  {
   "cell_type": "code",
   "execution_count": 44,
   "metadata": {},
   "outputs": [
    {
     "name": "stdout",
     "output_type": "stream",
     "text": [
      "So lan xuat hien cua gia tri 'Buoi' trong l6 la: 0\n"
     ]
    }
   ],
   "source": [
    "print(\"So lan xuat hien cua gia tri 'Buoi' trong l6 la:\", l6.count('Buoi'))"
   ]
  },
  {
   "cell_type": "markdown",
   "metadata": {},
   "source": [
    "**+ extend() method**: B.extend(A) -> Thêm tất cả các phần tử của list A vào list B"
   ]
  },
  {
   "cell_type": "code",
   "execution_count": 45,
   "metadata": {},
   "outputs": [
    {
     "name": "stdout",
     "output_type": "stream",
     "text": [
      "List l2:  ['Turning', 'Hercules', 'Titan', 'Buoi', 'Pereus', 2019]\n",
      "List l5:  ['P', 'Y', 'T', 'H', 'O', 'N']\n"
     ]
    }
   ],
   "source": [
    "print(\"List l2: \", l2)\n",
    "print(\"List l5: \", l5)"
   ]
  },
  {
   "cell_type": "code",
   "execution_count": 46,
   "metadata": {},
   "outputs": [
    {
     "name": "stdout",
     "output_type": "stream",
     "text": [
      "List l5:  ['P', 'Y', 'T', 'H', 'O', 'N']\n",
      "List l2 sau khi them l5 vào:  ['Turning', 'Hercules', 'Titan', 'Buoi', 'Pereus', 2019, 'P', 'Y', 'T', 'H', 'O', 'N']\n"
     ]
    }
   ],
   "source": [
    "# Thêm tất cả các phần tử của l5 vào l2\n",
    "l2.extend(l5)\n",
    "print(\"List l5: \", l5)\n",
    "print(\"List l2 sau khi them l5 vào: \", l2)"
   ]
  },
  {
   "cell_type": "markdown",
   "metadata": {},
   "source": [
    "**+ index() method**: trả về vị trí đầu tiên của một giá trị cần tìm kiếm. Nếu giá trị đó không \n",
    "    có mặt trong list thì dẫn đến lỗi"
   ]
  },
  {
   "cell_type": "code",
   "execution_count": 47,
   "metadata": {},
   "outputs": [
    {
     "name": "stdout",
     "output_type": "stream",
     "text": [
      "List l6:  [1, 2, 3, -31, 30, 1, 3, 1]\n"
     ]
    }
   ],
   "source": [
    "print(\"List l6: \", l6)"
   ]
  },
  {
   "cell_type": "code",
   "execution_count": 48,
   "metadata": {},
   "outputs": [
    {
     "name": "stdout",
     "output_type": "stream",
     "text": [
      "Vi tri xuat hien dau tien cua gia tri 1 trong l6:  0\n"
     ]
    }
   ],
   "source": [
    "# Tìm vị trí xuất hiện đầu tiên của giá trị 1\n",
    "print(\"Vi tri xuat hien dau tien cua gia tri 1 trong l6: \", l6.index(1))"
   ]
  },
  {
   "cell_type": "code",
   "execution_count": 49,
   "metadata": {},
   "outputs": [
    {
     "ename": "ValueError",
     "evalue": "'buoi' is not in list",
     "output_type": "error",
     "traceback": [
      "\u001b[1;31m---------------------------------------------------------------------------\u001b[0m",
      "\u001b[1;31mValueError\u001b[0m                                Traceback (most recent call last)",
      "\u001b[1;32m<ipython-input-49-dd288364031b>\u001b[0m in \u001b[0;36m<module>\u001b[1;34m\u001b[0m\n\u001b[0;32m      1\u001b[0m \u001b[1;31m# Tìm vị trí xuất hiện đầu tiên của giá trị 'buoi' trong l6\u001b[0m\u001b[1;33m\u001b[0m\u001b[1;33m\u001b[0m\u001b[1;33m\u001b[0m\u001b[0m\n\u001b[1;32m----> 2\u001b[1;33m \u001b[0mprint\u001b[0m\u001b[1;33m(\u001b[0m\u001b[1;34m\"Vi tri xuat hien dau tien cua gia tri 'buoi' trong l6:\"\u001b[0m\u001b[1;33m,\u001b[0m \u001b[0ml6\u001b[0m\u001b[1;33m.\u001b[0m\u001b[0mindex\u001b[0m\u001b[1;33m(\u001b[0m\u001b[1;34m'buoi'\u001b[0m\u001b[1;33m)\u001b[0m\u001b[1;33m)\u001b[0m\u001b[1;33m\u001b[0m\u001b[1;33m\u001b[0m\u001b[0m\n\u001b[0m",
      "\u001b[1;31mValueError\u001b[0m: 'buoi' is not in list"
     ]
    }
   ],
   "source": [
    "# Tìm vị trí xuất hiện đầu tiên của giá trị 'buoi' trong l6\n",
    "print(\"Vi tri xuat hien dau tien cua gia tri 'buoi' trong l6:\", l6.index('buoi'))"
   ]
  },
  {
   "cell_type": "markdown",
   "metadata": {},
   "source": [
    "**+ insert() method**: chèn một giá trị vào một vị trí cụ thể trong list"
   ]
  },
  {
   "cell_type": "code",
   "execution_count": 50,
   "metadata": {},
   "outputs": [
    {
     "name": "stdout",
     "output_type": "stream",
     "text": [
      "List l6:  [1, 2, 3, -31, 30, 1, 3, 1]\n"
     ]
    }
   ],
   "source": [
    "print(\"List l6: \", l6)"
   ]
  },
  {
   "cell_type": "code",
   "execution_count": 51,
   "metadata": {},
   "outputs": [
    {
     "name": "stdout",
     "output_type": "stream",
     "text": [
      "List l6 sau khi chen gia tri 'buoi' vao vi tri thu 3: [1, 2, 3, 'buoi', -31, 30, 1, 3, 1]\n"
     ]
    }
   ],
   "source": [
    "# Chèn giá trị 'buoi' vào trong l6 tại vị trí thứ 3\n",
    "l6.insert(3, 'buoi')\n",
    "print(\"List l6 sau khi chen gia tri 'buoi' vao vi tri thu 3:\", l6)"
   ]
  },
  {
   "cell_type": "code",
   "execution_count": 52,
   "metadata": {},
   "outputs": [
    {
     "name": "stdout",
     "output_type": "stream",
     "text": [
      "List l6 sau khi chen gia tri 'buoi' vao vi tri thu 100: [1, 2, 3, 'buoi', -31, 30, 1, 3, 1, 'buoi']\n"
     ]
    }
   ],
   "source": [
    "# Chèn giá trị 'buoi' vào trong l6 tại vị trí thứ 100\n",
    "l6.insert(100, 'buoi')\n",
    "print(\"List l6 sau khi chen gia tri 'buoi' vao vi tri thu 100:\", l6)\n",
    "# Bạn đọc tự suy nghĩ cơ chế chỗ này khi mà vị trí insert không nằm trong phạm vi được đánh chỉ số nhé"
   ]
  },
  {
   "cell_type": "code",
   "execution_count": 53,
   "metadata": {},
   "outputs": [
    {
     "name": "stdout",
     "output_type": "stream",
     "text": [
      "List l6 sau khi chen gia tri 'buoi' vao vi tri thu -100: ['buoi', 1, 2, 3, 'buoi', -31, 30, 1, 3, 1, 'buoi']\n"
     ]
    }
   ],
   "source": [
    "# Chèn giá trị 'buoi' vào trong l6 tại vị trí thứ 100\n",
    "l6.insert(-100, 'buoi')\n",
    "print(\"List l6 sau khi chen gia tri 'buoi' vao vi tri thu -100:\", l6)\n",
    "# Bạn đọc tự suy nghĩ cơ chế chỗ này khi mà vị trí insert không nằm trong phạm vi được đánh chỉ số nhé"
   ]
  },
  {
   "cell_type": "markdown",
   "metadata": {},
   "source": [
    "**+ pop() method**: Lấy ra một giá trị tại vị trí cụ thể trong list, sau khi lấy list bị thay đổi"
   ]
  },
  {
   "cell_type": "code",
   "execution_count": 54,
   "metadata": {},
   "outputs": [
    {
     "name": "stdout",
     "output_type": "stream",
     "text": [
      "List l2: ['Turning', 'Hercules', 'Titan', 'Buoi', 'Pereus', 2019, 'P', 'Y', 'T', 'H', 'O', 'N']\n"
     ]
    }
   ],
   "source": [
    "print(\"List l2:\", l2)"
   ]
  },
  {
   "cell_type": "code",
   "execution_count": 55,
   "metadata": {},
   "outputs": [
    {
     "name": "stdout",
     "output_type": "stream",
     "text": [
      "List l2 sau khi lay gia tri tai vi tri thu 2:  ['Turning', 'Hercules', 'Buoi', 'Pereus', 2019, 'P', 'Y', 'T', 'H', 'O', 'N']\n"
     ]
    }
   ],
   "source": [
    "# Xóa giá trị tại vị trí thứ 2 trong list l2\n",
    "l2.pop(2)\n",
    "print(\"List l2 sau khi lay gia tri tai vi tri thu 2: \", l2)"
   ]
  },
  {
   "cell_type": "markdown",
   "metadata": {},
   "source": [
    "*Chú ý*: Nếu **không chỉ định vị trí cụ thể** thì đối số mặc định ***pos sẽ nhận giá trị là -1*** nghĩa là luôn pop phần tử cuối cùng ra... y như cơ chế của **stack**"
   ]
  },
  {
   "cell_type": "code",
   "execution_count": 56,
   "metadata": {},
   "outputs": [
    {
     "name": "stdout",
     "output_type": "stream",
     "text": [
      "List l2: ['Turning', 'Hercules', 'Buoi', 'Pereus', 2019, 'P', 'Y', 'T', 'H', 'O', 'N']\n",
      "List l2 sau khi lay gia tri cuoi cung ra: ['Turning', 'Hercules', 'Buoi', 'Pereus', 2019, 'P', 'Y', 'T', 'H', 'O']\n"
     ]
    }
   ],
   "source": [
    "# Lấy giá trị cuối cùng trong list ra\n",
    "print(\"List l2:\", l2)\n",
    "l2.pop()\n",
    "print(\"List l2 sau khi lay gia tri cuoi cung ra:\", l2)"
   ]
  },
  {
   "cell_type": "markdown",
   "metadata": {},
   "source": [
    "**+ remove() method**: Xóa giá trị **đầu tiên** có cùng giá trị với giá trị chỉ định được tìm thấy trong list. NẾu không tìm thấy giá trị nào giống với giá trị ta cần xóa thì phát sinh ra ValueError"
   ]
  },
  {
   "cell_type": "code",
   "execution_count": 57,
   "metadata": {},
   "outputs": [
    {
     "name": "stdout",
     "output_type": "stream",
     "text": [
      "List l3: ['Turning', 'Hercules', 'Buoi', 'Pereus', 2019, 'P', 'Y', 'T', 'H', 'O']\n"
     ]
    }
   ],
   "source": [
    "print(\"List l3:\", l3)"
   ]
  },
  {
   "cell_type": "code",
   "execution_count": 58,
   "metadata": {},
   "outputs": [],
   "source": [
    "# Xóa phần tử đầu tiên có giá trị bằng 'Buoi'\n",
    "l3.remove('Buoi')"
   ]
  },
  {
   "cell_type": "code",
   "execution_count": 59,
   "metadata": {},
   "outputs": [
    {
     "name": "stdout",
     "output_type": "stream",
     "text": [
      "List l3 sau khi xoa phan tu dau tien co gia tri bang 2019 la ['Turning', 'Hercules', 'Pereus', 'P', 'Y', 'T', 'H', 'O']\n"
     ]
    }
   ],
   "source": [
    "# Xóa phần tử đầu tiên có giá trị bằng 2019\n",
    "l3.remove(2019)\n",
    "print(\"List l3 sau khi xoa phan tu dau tien co gia tri bang 2019 la\", l3)"
   ]
  },
  {
   "cell_type": "markdown",
   "metadata": {},
   "source": [
    "**+ reverse() method**: Đảo ngược list"
   ]
  },
  {
   "cell_type": "code",
   "execution_count": 60,
   "metadata": {},
   "outputs": [
    {
     "name": "stdout",
     "output_type": "stream",
     "text": [
      "List l2 truoc khi dao nguoc: ['Turning', 'Hercules', 'Pereus', 'P', 'Y', 'T', 'H', 'O']\n"
     ]
    }
   ],
   "source": [
    "print(\"List l2 truoc khi dao nguoc:\", l2)"
   ]
  },
  {
   "cell_type": "code",
   "execution_count": 61,
   "metadata": {},
   "outputs": [
    {
     "name": "stdout",
     "output_type": "stream",
     "text": [
      "List l2 sau khi dao nguoc: ['O', 'H', 'T', 'Y', 'P', 'Pereus', 'Hercules', 'Turning']\n"
     ]
    }
   ],
   "source": [
    "l2.reverse()\n",
    "print(\"List l2 sau khi dao nguoc:\", l2)"
   ]
  },
  {
   "cell_type": "markdown",
   "metadata": {},
   "source": [
    "**+ sort() method**: Sắp xếp các phần tử trong list theo thứ tự (**order**)"
   ]
  },
  {
   "cell_type": "code",
   "execution_count": 62,
   "metadata": {},
   "outputs": [
    {
     "name": "stdout",
     "output_type": "stream",
     "text": [
      "List l1: [1, 3, 2, -31]\n"
     ]
    }
   ],
   "source": [
    "print(\"List l1:\", l1)"
   ]
  },
  {
   "cell_type": "code",
   "execution_count": 63,
   "metadata": {},
   "outputs": [
    {
     "name": "stdout",
     "output_type": "stream",
     "text": [
      "List l1 sau khi sap tang:  [-31, 1, 2, 3]\n"
     ]
    }
   ],
   "source": [
    "l1.sort()\n",
    "print(\"List l1 sau khi sap tang: \",l1)"
   ]
  },
  {
   "cell_type": "code",
   "execution_count": 64,
   "metadata": {},
   "outputs": [
    {
     "name": "stdout",
     "output_type": "stream",
     "text": [
      "List l1 sau khi sap giam:  [3, 2, 1, -31]\n"
     ]
    }
   ],
   "source": [
    "l1.sort(reverse=True)\n",
    "print(\"List l1 sau khi sap giam: \",l1)"
   ]
  },
  {
   "cell_type": "markdown",
   "metadata": {},
   "source": [
    "*Đến đây mình xin dừng lại việc giới thiệu các cơ bản về list data type. Dĩ nhiên kiểu dữ liệu này còn nhiều khía cạnh, các phương thức (method) trên không chỉ dừng lại với việc truyền đối số như vậy. Để rõ hơn thì các bạn nên xem chi tiết hàm đấy có bao nhiêu đối số, ý nghĩa của từng đối số và giá trị trả về của từng phương thức. Hint: Sử dụng phương thức help().*"
   ]
  },
  {
   "cell_type": "markdown",
   "metadata": {},
   "source": [
    "## 2. Tuples"
   ]
  },
  {
   "cell_type": "markdown",
   "metadata": {},
   "source": [
    "*Khi các bạn đã hiểu được **cơ bản** của về kiểu dữ liệu **list** thì chuyển sang kiểu dữ liệu tuple sẽ tương tự. Tương tự thôi !!!*"
   ]
  },
  {
   "cell_type": "markdown",
   "metadata": {},
   "source": [
    "### Tuple chỉ khác list ở 2 điểm:"
   ]
  },
  {
   "cell_type": "markdown",
   "metadata": {},
   "source": [
    "#### -Thứ 1:  Để tạo ra một tuple thì cú pháp khai báo đương nhiên phải khác :) \n",
    "Ta dùng dấu ngoặc tròn **(parentheses)** thay vì dấu ngoặc vuông []**(square brackets)** để khai báo kiểu dữ liệu tuple."
   ]
  },
  {
   "cell_type": "code",
   "execution_count": 65,
   "metadata": {},
   "outputs": [
    {
     "data": {
      "text/plain": [
       "tuple"
      ]
     },
     "execution_count": 65,
     "metadata": {},
     "output_type": "execute_result"
    }
   ],
   "source": [
    "# Ví dụ khai báo biến a có kiểu dữ liệu là tuple\n",
    "a = (1, 2, 3)\n",
    "type(a)"
   ]
  },
  {
   "cell_type": "code",
   "execution_count": 66,
   "metadata": {},
   "outputs": [
    {
     "data": {
      "text/plain": [
       "tuple"
      ]
     },
     "execution_count": 66,
     "metadata": {},
     "output_type": "execute_result"
    }
   ],
   "source": [
    "# Ví dụ khai báo biến b có kiểu dữ liệu là tuple\n",
    "b = (1, 'Buoi', True, \"Hercules\")\n",
    "type(b)"
   ]
  },
  {
   "cell_type": "markdown",
   "metadata": {},
   "source": [
    "#### - Thứ 2: List có tính chất mutable còn Tuple có tính chất immutable nghĩa là không thể thay đổi đối tượng thuộc lớp đối tượng tuple"
   ]
  },
  {
   "cell_type": "code",
   "execution_count": 67,
   "metadata": {},
   "outputs": [
    {
     "ename": "TypeError",
     "evalue": "'tuple' object does not support item assignment",
     "output_type": "error",
     "traceback": [
      "\u001b[1;31m---------------------------------------------------------------------------\u001b[0m",
      "\u001b[1;31mTypeError\u001b[0m                                 Traceback (most recent call last)",
      "\u001b[1;32m<ipython-input-67-9f0373b9512d>\u001b[0m in \u001b[0;36m<module>\u001b[1;34m\u001b[0m\n\u001b[0;32m      1\u001b[0m \u001b[1;31m# Phép gán dưới đây sẽ gây ra lỗi !!\u001b[0m\u001b[1;33m\u001b[0m\u001b[1;33m\u001b[0m\u001b[1;33m\u001b[0m\u001b[0m\n\u001b[1;32m----> 2\u001b[1;33m \u001b[0ma\u001b[0m\u001b[1;33m[\u001b[0m\u001b[1;36m2\u001b[0m\u001b[1;33m]\u001b[0m \u001b[1;33m=\u001b[0m \u001b[1;34m'Buoi'\u001b[0m\u001b[1;33m\u001b[0m\u001b[1;33m\u001b[0m\u001b[0m\n\u001b[0m",
      "\u001b[1;31mTypeError\u001b[0m: 'tuple' object does not support item assignment"
     ]
    }
   ],
   "source": [
    "# Phép gán dưới đây sẽ gây ra lỗi !!\n",
    "a[2] = 'Buoi'"
   ]
  },
  {
   "cell_type": "markdown",
   "metadata": {},
   "source": [
    "*Chú ý*: Tuple thường được dùng trong việc trả về cùng lúc nhiều giá trị của một hàm (function)\n"
   ]
  },
  {
   "cell_type": "code",
   "execution_count": 68,
   "metadata": {},
   "outputs": [
    {
     "name": "stdout",
     "output_type": "stream",
     "text": [
      "Gia tri sau khi hoan doi:  5    10\n"
     ]
    }
   ],
   "source": [
    "# Ví dụ về việc trả về nhiều giá trị của một hàm, ta có thể dùng kiểu dữ liệu để kiểm thử\n",
    "def swap(a,b):\n",
    "    return (b, a)\n",
    "\n",
    "a = 10\n",
    "b = 5\n",
    "a,b = swap(a,b)\n",
    "print(\"Gia tri sau khi hoan doi: \",a,\"  \",b)"
   ]
  },
  {
   "cell_type": "code",
   "execution_count": 69,
   "metadata": {},
   "outputs": [
    {
     "name": "stdout",
     "output_type": "stream",
     "text": [
      "10 5\n"
     ]
    }
   ],
   "source": [
    "# Một cái trick trong việc hoán đổi 2 giá trị một cách nhanh chóng\n",
    "a,b = b, a\n",
    "print(a, b)"
   ]
  },
  {
   "cell_type": "markdown",
   "metadata": {},
   "source": [
    "### Kết luận:"
   ]
  },
  {
   "cell_type": "markdown",
   "metadata": {},
   "source": [
    "- Qua quá trình chiêm nghiệm ở trên chúng ta đã thấy được một số điều cơ bản về 2 kiểu dữ liệu cơ bản trong python: **list** and **tuple**.\n",
    "- *Qua phần 2 ta sẽ luyện tập một số bài tập liên quan đến list và tuple, chỉ yếu là list.*\n",
    "### Đón xem phần 2 nhé !!"
   ]
  }
 ],
 "metadata": {
  "kernelspec": {
   "display_name": "Python 3",
   "language": "python",
   "name": "python3"
  },
  "language_info": {
   "codemirror_mode": {
    "name": "ipython",
    "version": 3
   },
   "file_extension": ".py",
   "mimetype": "text/x-python",
   "name": "python",
   "nbconvert_exporter": "python",
   "pygments_lexer": "ipython3",
   "version": "3.7.5"
  }
 },
 "nbformat": 4,
 "nbformat_minor": 2
}
