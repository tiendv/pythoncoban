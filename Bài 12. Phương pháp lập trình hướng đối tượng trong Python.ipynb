{
 "cells": [
  {
   "cell_type": "markdown",
   "metadata": {},
   "source": [
    "# Bài 11. Phương pháp lập trình hướng đối tượng trong Python"
   ]
  },
  {
   "cell_type": "markdown",
   "metadata": {},
   "source": [
    "**OVERVIEW:**"
   ]
  },
  {
   "cell_type": "markdown",
   "metadata": {},
   "source": [
    "- Ngoài cách lập trình theo **hướng đơn thể**, **hướng thủ tục hàm** thì hầu hết các ngôn ngữ lập trình hiện nay đều hỗ trợ cho **chiến lược** `lập trình hướng đối tượng` (Object oriented Programming).\n",
    "- Trong chiến lược này thì người lập trình xem các **sự vật hiện tượng** xuất hiện trong bài toán cần giải quyết là các **đối tượng** (object). Bài toán trở thành việc giải các sự kiện liên quan đến đối tượng mà ta đã **trừu tượng hóa**(`abstraction`).\n",
    "- Trừu tượng hóa dữ liệu **(abstraction data)** là phương pháp tích hợp các kiểu dữ liệu đơn và dữ liệu để xây dựng một kiểu dữ liệu phức mới nhằm biểu diễn một sự vật hiện tượng trong thực tế.\n",
    "- Để đạt được cảnh giới xem các sự vật, sự việc là đối tượng thì Programmer phải trừu tượng hóa các sự vật, sự việc trong thế giới thực. Chỉ xem xét các **đặc điểm chung nhất** mà đối tượng nào thuộc về lớp đó đều có và **bỏ qua các chi tiết không cần thiết**."
   ]
  },
  {
   "cell_type": "markdown",
   "metadata": {},
   "source": [
    "![OOP](https://miro.medium.com/max/500/1*-dmHYcAiphpWe6m0pcd-AA.png)"
   ]
  },
  {
   "cell_type": "markdown",
   "metadata": {},
   "source": [
    "**WHY we should use OOP in programming:**"
   ]
  },
  {
   "cell_type": "markdown",
   "metadata": {},
   "source": [
    "- Với việc trừu tượng hóa các đối tượng trong thới giới thực, OOP đem đến việc thuận tiện, đơn giản hóa các bài toán phức tạp, liên quan đến nhiều thực thể, nhiều thể hiện trong bài toán.\n",
    "- Bên cạnh đó OOP còn hiện thực hóa thế giới thực, ứng dụng vào các bài toán thực tế mà sự vật hiện tượng chính là dữ liệu làm việc trong suốt chương trình.\n",
    "- Tính tái sử dụng code: không phải viết đi viết lại một hàm cho các sự vật có chung đặc điểm.\n",
    "- Dễ bảo trì và nâng cấp."
   ]
  },
  {
   "cell_type": "markdown",
   "metadata": {},
   "source": [
    "**Trong Python, tất cả mọi thứ đều là đối tượng (object)**"
   ]
  },
  {
   "cell_type": "markdown",
   "metadata": {},
   "source": [
    "## Nội dung:\n",
    "1. Lớp (Class) và đối tượng (Object)\n",
    "2. Các thành phần trong một lớp đối tượng (class)\n",
    "3. Ví dụ về lớp đối tượng Cat.\n",
    "4. Phạm vi truy xuất của các phần bên trong lớp.\n",
    "5. Tính đóng gói (Encapsulation)\n",
    "6. Tính kế thừa (Inheritance)\n",
    "7. Tính đa hình (Polymorphism)\n",
    "8. Conclusion\n",
    "---"
   ]
  },
  {
   "cell_type": "markdown",
   "metadata": {},
   "source": [
    "## 1. Lớp (Class) và đối tượng (Object)"
   ]
  },
  {
   "cell_type": "markdown",
   "metadata": {},
   "source": [
    "- Lớp `(Class)` là lớp các đối tượng có cùng các đặc điểm mà ta đang hướng đến, hay là khuôn mẫu cho các đối tượng thuộc lớp đó.\n",
    "\n",
    "- Đối tượng `(Object)` là một thể hiện `(instance)` của lớp đối tượng mà nó thuộc về."
   ]
  },
  {
   "cell_type": "markdown",
   "metadata": {},
   "source": [
    "- Để khai báo một lớp đối tượng ta sử dụng từ khóa `class` theo sau đó là tên của lớp mà ta muốn khai báo."
   ]
  },
  {
   "cell_type": "markdown",
   "metadata": {},
   "source": [
    "*Ví dụ khai báo một lớp đối tượng có tên là `TraiCay`*"
   ]
  },
  {
   "cell_type": "code",
   "execution_count": 1,
   "metadata": {},
   "outputs": [],
   "source": [
    "class TraiCay:\n",
    "    soluong = 0\n",
    "    \n",
    "    def __init__(self, ten, mau):\n",
    "        self.ten = ten\n",
    "        self.mau = mau\n",
    "        TraiCay.soluong += 1"
   ]
  },
  {
   "cell_type": "markdown",
   "metadata": {},
   "source": [
    "Tạo một đối tượng thuộc lớp đối tượng TraiCay"
   ]
  },
  {
   "cell_type": "code",
   "execution_count": 2,
   "metadata": {},
   "outputs": [
    {
     "data": {
      "text/plain": [
       "__main__.TraiCay"
      ]
     },
     "execution_count": 2,
     "metadata": {},
     "output_type": "execute_result"
    }
   ],
   "source": [
    "A = TraiCay(\"Xoài\", \"Xanh\")\n",
    "type(A)"
   ]
  },
  {
   "cell_type": "markdown",
   "metadata": {},
   "source": [
    "## 2. Các thành phần trong một lớp đối tượng (class)"
   ]
  },
  {
   "cell_type": "markdown",
   "metadata": {},
   "source": [
    "- Các đối tượng nói riêng hay lớp đối tượng chung đều có 2 thành phần: thành phần thông tin (`information`) và thành phần ứng xử (`behavior`)"
   ]
  },
  {
   "cell_type": "markdown",
   "metadata": {},
   "source": [
    "- Một lớp đối tượng có `2 thành phần`:\n",
    "    + **Thuộc tính (`Abtribute`)**: mang thông tin chi tiết của đối tượng, ngoài ra có 2 loại thuộc tính là `class attribute` và `instance attribute`:\n",
    "        + `Class attribute`: là các thuộc tính dùng chung cho tất cả đối tượng thuộc về lớp.\n",
    "        + `Instance attribute`: là các thuộc tính mã mỗi đối tượng đều có nhưng là độc lập với nhau. **Đây chính là điểm để phân biệt được hai đối tượng cùng thuộc về một lớp.**\n",
    "    + **Phương thức (`Method`)** : giúp cho đối tượng có thể tương tác với thế giới bên ngoài đối tượng."
   ]
  },
  {
   "cell_type": "markdown",
   "metadata": {},
   "source": [
    "Trong một đối tượng có một số thuộc tính và phương thức mặc định kèm theo đó là các thuộc tính và phương thức người dung định nghĩa. Để xem các thuộc tính và phương thức của một lớp ta sử dụng hàm dựng sẵn `dir`."
   ]
  },
  {
   "cell_type": "code",
   "execution_count": 3,
   "metadata": {
    "scrolled": true
   },
   "outputs": [
    {
     "data": {
      "text/plain": [
       "['__class__',\n",
       " '__delattr__',\n",
       " '__dict__',\n",
       " '__dir__',\n",
       " '__doc__',\n",
       " '__eq__',\n",
       " '__format__',\n",
       " '__ge__',\n",
       " '__getattribute__',\n",
       " '__gt__',\n",
       " '__hash__',\n",
       " '__init__',\n",
       " '__init_subclass__',\n",
       " '__le__',\n",
       " '__lt__',\n",
       " '__module__',\n",
       " '__ne__',\n",
       " '__new__',\n",
       " '__reduce__',\n",
       " '__reduce_ex__',\n",
       " '__repr__',\n",
       " '__setattr__',\n",
       " '__sizeof__',\n",
       " '__str__',\n",
       " '__subclasshook__',\n",
       " '__weakref__',\n",
       " 'soluong']"
      ]
     },
     "execution_count": 3,
     "metadata": {},
     "output_type": "execute_result"
    }
   ],
   "source": [
    "dir(TraiCay)"
   ]
  },
  {
   "cell_type": "code",
   "execution_count": 4,
   "metadata": {
    "scrolled": true
   },
   "outputs": [
    {
     "data": {
      "text/plain": [
       "['__class__',\n",
       " '__delattr__',\n",
       " '__dict__',\n",
       " '__dir__',\n",
       " '__doc__',\n",
       " '__eq__',\n",
       " '__format__',\n",
       " '__ge__',\n",
       " '__getattribute__',\n",
       " '__gt__',\n",
       " '__hash__',\n",
       " '__init__',\n",
       " '__init_subclass__',\n",
       " '__le__',\n",
       " '__lt__',\n",
       " '__module__',\n",
       " '__ne__',\n",
       " '__new__',\n",
       " '__reduce__',\n",
       " '__reduce_ex__',\n",
       " '__repr__',\n",
       " '__setattr__',\n",
       " '__sizeof__',\n",
       " '__str__',\n",
       " '__subclasshook__',\n",
       " '__weakref__',\n",
       " 'mau',\n",
       " 'soluong',\n",
       " 'ten']"
      ]
     },
     "execution_count": 4,
     "metadata": {},
     "output_type": "execute_result"
    }
   ],
   "source": [
    "A = TraiCay(\"Buoi\", \"Xanh\")\n",
    "dir(A)"
   ]
  },
  {
   "cell_type": "markdown",
   "metadata": {},
   "source": [
    "**Ví dụ**"
   ]
  },
  {
   "cell_type": "code",
   "execution_count": 5,
   "metadata": {},
   "outputs": [],
   "source": [
    "class People:\n",
    "    \n",
    "    count = 0\n",
    "    \n",
    "    def __init__(self, name, age):\n",
    "        self.name =  name\n",
    "        self.age = age\n",
    "        People.count += 1\n",
    "    \n",
    "    def display(self):\n",
    "        print(f\"Tên: {self.name}\")\n",
    "        print(f\"Tuổi: {self.age}\")"
   ]
  },
  {
   "cell_type": "code",
   "execution_count": 6,
   "metadata": {},
   "outputs": [
    {
     "name": "stdout",
     "output_type": "stream",
     "text": [
      "Tên: Tiến\n",
      "Tuổi: 19\n",
      "Tên: Duy\n",
      "Tuổi: 20\n"
     ]
    }
   ],
   "source": [
    "A = People(\"Tiến\", 19)\n",
    "A.display()\n",
    "B = People(\"Duy\", 20)\n",
    "B.display()"
   ]
  },
  {
   "cell_type": "code",
   "execution_count": 7,
   "metadata": {},
   "outputs": [
    {
     "name": "stdout",
     "output_type": "stream",
     "text": [
      "Số người: 2\n"
     ]
    }
   ],
   "source": [
    "print(f\"Số người: {People.count}\")"
   ]
  },
  {
   "cell_type": "markdown",
   "metadata": {},
   "source": [
    "## 3. Ví dụ lớp đối tượng Cat "
   ]
  },
  {
   "cell_type": "markdown",
   "metadata": {},
   "source": [
    "- Trong ví dụ này ta sẽ định nghĩa lớp đối tượng có tên là Cat (con mèo)"
   ]
  },
  {
   "cell_type": "code",
   "execution_count": 8,
   "metadata": {},
   "outputs": [],
   "source": [
    "class Cat:\n",
    "    \n",
    "    \"\"\"This is a class to model cat\"\"\"\n",
    "    \n",
    "    count = 0\n",
    "    \n",
    "    def __init__(self,name,age):\n",
    "        \"\"\"Initialize name and age attributes.\"\"\"\n",
    "        self.name = name\n",
    "        self.age = age\n",
    "        Cat.count += 1\n",
    "        \n",
    "    def sit(self):\n",
    "        \"\"\"Simulate a cat sitting in\n",
    "        response to a command.\"\"\"\n",
    "        print(f\"{self.name} is sitting now !\")\n",
    "        \n",
    "    def roll_over(self):\n",
    "        \"\"\"Simulate rolling over in\n",
    "        response to a command.\"\"\"\n",
    "        print(f\"{self.name} roll over !\")"
   ]
  },
  {
   "cell_type": "code",
   "execution_count": 9,
   "metadata": {},
   "outputs": [
    {
     "data": {
      "text/plain": [
       "['__class__',\n",
       " '__delattr__',\n",
       " '__dict__',\n",
       " '__dir__',\n",
       " '__doc__',\n",
       " '__eq__',\n",
       " '__format__',\n",
       " '__ge__',\n",
       " '__getattribute__',\n",
       " '__gt__',\n",
       " '__hash__',\n",
       " '__init__',\n",
       " '__init_subclass__',\n",
       " '__le__',\n",
       " '__lt__',\n",
       " '__module__',\n",
       " '__ne__',\n",
       " '__new__',\n",
       " '__reduce__',\n",
       " '__reduce_ex__',\n",
       " '__repr__',\n",
       " '__setattr__',\n",
       " '__sizeof__',\n",
       " '__str__',\n",
       " '__subclasshook__',\n",
       " '__weakref__',\n",
       " 'age',\n",
       " 'count',\n",
       " 'name',\n",
       " 'roll_over',\n",
       " 'sit']"
      ]
     },
     "execution_count": 9,
     "metadata": {},
     "output_type": "execute_result"
    }
   ],
   "source": [
    "A = Cat(\"Lili\", 10)\n",
    "dir(A)"
   ]
  },
  {
   "cell_type": "markdown",
   "metadata": {},
   "source": [
    "- Trong đoạn code trên: chúng ta đã khai báo ( ở dòng 1) và định nghĩa một lớp đối tượng có tên là `Cat`.\n",
    "- Lớp Cat có 3 phương thức (method) là:\n",
    "    + `__init__`(self,name,age)\n",
    "    + `sit`(self)\n",
    "    + `roll_over`(self)\n",
    "- Các thuộc tính (attribute) của lớp Cat là:\n",
    "    + `Class attribute`: count\n",
    "    + `Object attribute`: name, age"
   ]
  },
  {
   "cell_type": "markdown",
   "metadata": {},
   "source": [
    "- Đoạn code trên chỉ khai báo và định nghĩa lớp đối tượng có tên là Cat chứ không có tạo ra một đối tượng thuộc lớp đối tượng Cat\n",
    "- Trong hàm main ta sẽ tạo ra một đối tượng Cat thực sự."
   ]
  },
  {
   "cell_type": "code",
   "execution_count": 10,
   "metadata": {},
   "outputs": [],
   "source": [
    "# Tạo ra một đối tượng thuộc lớp đối tượng Cat\n",
    "my_cat = Cat(\"Lili\",7)"
   ]
  },
  {
   "cell_type": "markdown",
   "metadata": {},
   "source": [
    "- Ta vừa mới tạo ra một đối tượng thực sự (`thể hiện`) của lớp đối tượng Cat.\n",
    "- Đối tượng này có được refer bởi biến có tên là `my_cat`.\n",
    "- Hàm *`init(self,name,age)`* được tự động gọi thực hiện để khởi tạo các giá trị thuộc tính ban đầu cho đối tượng vừa mới tạo ra."
   ]
  },
  {
   "cell_type": "markdown",
   "metadata": {},
   "source": [
    "**TRUY CẬP vào các thuộc tính trong của một đối tượng sử dụng toán tử `dot` `.`**"
   ]
  },
  {
   "cell_type": "code",
   "execution_count": 11,
   "metadata": {},
   "outputs": [
    {
     "name": "stdout",
     "output_type": "stream",
     "text": [
      "\n",
      "The name of my cat: Lili\n",
      "She is 7 year old\n"
     ]
    }
   ],
   "source": [
    "# truy cập thuộc tính của một đối tượng\n",
    "# thuộc lớp đối tượng Cat.\n",
    "print(\"\\nThe name of my cat:\", my_cat.name)\n",
    "print(f\"She is {my_cat.age} year old\")"
   ]
  },
  {
   "cell_type": "markdown",
   "metadata": {},
   "source": [
    "**Ta còn có thể THAY ĐỔI GIÁ TRỊ các THUỘC TÍNH**"
   ]
  },
  {
   "cell_type": "code",
   "execution_count": 12,
   "metadata": {
    "scrolled": true
   },
   "outputs": [
    {
     "name": "stdout",
     "output_type": "stream",
     "text": [
      "She is 10 year old\n"
     ]
    }
   ],
   "source": [
    "# Thay đổi tuổi của mèo LiLi từ 7 tuổi lên 10 tuổi\n",
    "my_cat.age = 10\n",
    "print(f\"She is {my_cat.age} year old\")"
   ]
  },
  {
   "cell_type": "markdown",
   "metadata": {},
   "source": [
    "**ĐỐI TƯỢNG GỌI THỰC HIÊN PHƯƠNG THỨC: Các phương thức trong `lớp đối tượng` Cat nói chung hay `đối tượng` my_cat nói riêng, nếu muốn gọi thực hiện thì sử dụng toán tử `dot.`**."
   ]
  },
  {
   "cell_type": "code",
   "execution_count": 13,
   "metadata": {},
   "outputs": [
    {
     "name": "stdout",
     "output_type": "stream",
     "text": [
      "Help on method __init__ in module __main__:\n",
      "\n",
      "__init__(name, age) method of __main__.Cat instance\n",
      "    Initialize name and age attributes.\n",
      "\n"
     ]
    }
   ],
   "source": [
    "# Xem mô tả phương thức khởi tạo\n",
    "# của lớp đối tượng Cat\n",
    "help(my_cat.__init__)"
   ]
  },
  {
   "cell_type": "code",
   "execution_count": 14,
   "metadata": {},
   "outputs": [
    {
     "name": "stdout",
     "output_type": "stream",
     "text": [
      "Lili is sitting now !\n"
     ]
    }
   ],
   "source": [
    "# Chúng ta require mèo LiLi ngồi (sit)\n",
    "my_cat.sit()"
   ]
  },
  {
   "cell_type": "code",
   "execution_count": 15,
   "metadata": {},
   "outputs": [
    {
     "name": "stdout",
     "output_type": "stream",
     "text": [
      "Lili roll over !\n"
     ]
    }
   ],
   "source": [
    "# Chúng ta require mèo LiLi cuộn\n",
    "my_cat.roll_over()"
   ]
  },
  {
   "cell_type": "markdown",
   "metadata": {},
   "source": [
    "**Phương thức `__init__(self, name, age):`**"
   ]
  },
  {
   "cell_type": "markdown",
   "metadata": {},
   "source": [
    "- Phương thức này là môt phương thức đặc biệt của lớp đối tượng Cat.\n",
    "- Phương thức này được tự động gọi thực hiện khi ta tạo ra một đối tượng (thể hiện) của lớp đối tượng Cat.\n",
    "- Theo quy ước (convention) thì phương thức này phải được đặc tên như vậy (có 2 dấu gạch dưới ở trước, hai dấu gạch dưới ở đằng sau), nếu đặt tên không theo quy ước thì sẽ trở thành một phương thức bình thường trong lớp đối tượng Cat và không được tự động gọi thực hiện khi đối tượng được khởi tạo."
   ]
  },
  {
   "cell_type": "markdown",
   "metadata": {},
   "source": [
    "- Phương thức này khi gọi thực hiện nhận vào 3 đối số là `self`, `name`, `age`, nhưng lúc gọi hàm thực sự chỉ cần truyền 2 đối số là `name` và `age`. **`self` là đối số được tự động truyền vào khi đối tượng gọi thực hiện phương thức của đối tượng đó nhằm phân biệt đối tượng nào gọi thực hiện phương thức**."
   ]
  },
  {
   "cell_type": "markdown",
   "metadata": {},
   "source": [
    "**`self` là gì**\n",
    "- `self` là một reference đến đối tượng đang gọi thực hiện phương thức.\n",
    "- Được truyền vào lời gọi hàm khi đối tượng gọi thực hiện phương thức của nó.\n",
    "- Các biến có prefix là từ khóa `self` ở trước đều được xem như là các thuộc tính của lớp đối tượng và có thể sử dụng trong thân của các phương thức."
   ]
  },
  {
   "cell_type": "markdown",
   "metadata": {},
   "source": [
    "**Đương nhiên ta có thể tạo ra nhiều đối tượng cùng thuộc về lớp 1 đối tượng**"
   ]
  },
  {
   "cell_type": "code",
   "execution_count": 16,
   "metadata": {},
   "outputs": [],
   "source": [
    "your_cat = Cat(\"Lala\", 20)"
   ]
  },
  {
   "cell_type": "code",
   "execution_count": 17,
   "metadata": {},
   "outputs": [
    {
     "name": "stdout",
     "output_type": "stream",
     "text": [
      "My cat is 10 old\n",
      "Your cat is 20 old\n"
     ]
    }
   ],
   "source": [
    "print(f\"My cat is {my_cat.age} old\")\n",
    "print(f\"Your cat is {your_cat.age} old\")"
   ]
  },
  {
   "cell_type": "markdown",
   "metadata": {},
   "source": [
    "## 4. Phạm vi truy xuất các phần phần bên trong lớp."
   ]
  },
  {
   "cell_type": "markdown",
   "metadata": {},
   "source": [
    "- Nhằm đảm bảo vấn đề bảo mật thông tin bên trong lớp đối tượng, nên phương pháp lập trình hướng đối tượng cho phép ta điều khiển việc truy xuất đến các thành phần bên trong lớp.\n",
    "- Trong Python (cũng như các ngôn ngữ khác), phạm vi truy xuất (**Access Modifier**) các thành phần trong một lớp được chia thành 3 loại:\n",
    "    - **Private member**\n",
    "    - **Protected member**\n",
    "    - **Public member**"
   ]
  },
  {
   "cell_type": "markdown",
   "metadata": {},
   "source": [
    "**Private Member**"
   ]
  },
  {
   "cell_type": "markdown",
   "metadata": {},
   "source": [
    "- Thành phần được khai báo là thành phần thuộc phạm vi truy xuất private của lớp thì chỉ được truy xuất bên trong các phương thức thuộc về lớp, không cho thế giới bên ngoài truy cập.\n",
    "- Để khai báo một thành phần bên trong lớp có phạm vi truy xuất là private ta đặt 2 dấu `__ (𝑢𝑛𝑑𝑒𝑟𝑠𝑐𝑜𝑟𝑒)` đặt trước tên của thành phần."
   ]
  },
  {
   "cell_type": "code",
   "execution_count": 18,
   "metadata": {},
   "outputs": [
    {
     "ename": "AttributeError",
     "evalue": "'Cat' object has no attribute '__Color'",
     "output_type": "error",
     "traceback": [
      "\u001b[1;31m---------------------------------------------------------------------------\u001b[0m",
      "\u001b[1;31mAttributeError\u001b[0m                            Traceback (most recent call last)",
      "\u001b[1;32m<ipython-input-18-e4aa5a656660>\u001b[0m in \u001b[0;36m<module>\u001b[1;34m\u001b[0m\n\u001b[0;32m     13\u001b[0m \u001b[1;33m\u001b[0m\u001b[0m\n\u001b[0;32m     14\u001b[0m \u001b[1;31m# Truy xuất đến thuộc tính protected của đối tượng.\u001b[0m\u001b[1;33m\u001b[0m\u001b[1;33m\u001b[0m\u001b[1;33m\u001b[0m\u001b[0m\n\u001b[1;32m---> 15\u001b[1;33m \u001b[0mprint\u001b[0m\u001b[1;33m(\u001b[0m\u001b[0mmy_cat\u001b[0m\u001b[1;33m.\u001b[0m\u001b[0m__Color\u001b[0m\u001b[1;33m)\u001b[0m\u001b[1;33m\u001b[0m\u001b[1;33m\u001b[0m\u001b[0m\n\u001b[0m",
      "\u001b[1;31mAttributeError\u001b[0m: 'Cat' object has no attribute '__Color'"
     ]
    }
   ],
   "source": [
    "class Cat:\n",
    "    \n",
    "    \"\"\"This class atempt describe Cat in real\"\"\"\n",
    "    count = 0\n",
    "    \n",
    "    def __init__(self):\n",
    "        self.__Color = \"White\"\n",
    "        self.__Hobby = \"Eat\"\n",
    "        Cat.count += 1\n",
    "\n",
    "# Tạo một thể hiện thuộc về lớp đối tượng Cat\n",
    "my_cat = Cat()\n",
    "\n",
    "# Truy xuất đến thuộc tính protected của đối tượng.\n",
    "print(my_cat.__Color)"
   ]
  },
  {
   "cell_type": "markdown",
   "metadata": {},
   "source": [
    "**Protected Member**"
   ]
  },
  {
   "cell_type": "markdown",
   "metadata": {},
   "source": [
    "- Thành phần thuộc phạm vi truy xuất protect của lớp không cho truy xuất từ package khác, chỉ được truy xuất bên trong package, bên trong thân của các phương thức thuộc về lớp và bên trong các lớp dẫn suất (derived class) của lớp đó.\n",
    "- Để khai báo một thành phần bên trong lớp có phạm vi truy xuất là protected ta đặt 1 dấu `_ (𝑢𝑛𝑑𝑒𝑟𝑠𝑐𝑜𝑟𝑒)` đặt trước tên của thành phần."
   ]
  },
  {
   "cell_type": "code",
   "execution_count": 19,
   "metadata": {},
   "outputs": [
    {
     "name": "stdout",
     "output_type": "stream",
     "text": [
      "White\n",
      "Black\n"
     ]
    }
   ],
   "source": [
    "class Cat:\n",
    "    \"\"\"This class atempt describe Cat in real\"\"\"\n",
    "    \n",
    "    count = 0\n",
    "    \n",
    "    def __init__(self):\n",
    "        self._Color = \"White\"\n",
    "        self._Hobby = \"Eat\"\n",
    "        Cat.count += 1\n",
    "\n",
    "# Tạo một thể hiện thuộc về lớp đối tượng Cat\n",
    "my_cat = Cat()\n",
    "\n",
    "# Truy xuất đến thuộc tính protected của đối tượng.\n",
    "print(my_cat._Color)\n",
    "my_cat._Color = \"Black\"\n",
    "print(my_cat._Color)"
   ]
  },
  {
   "cell_type": "markdown",
   "metadata": {},
   "source": [
    "**Public member**"
   ]
  },
  {
   "cell_type": "markdown",
   "metadata": {},
   "source": [
    "- Thành phần thuộc phạm vi truy xuất public được xem là **interface** của một lớp cho phép lớp phản hồi thông tin với thế giới bên ngoài (có thể truy xuất tại bất cứ nơi đâu).\n",
    "- Để khai báo một thành phần bên trong lớp có phạm vi truy xuất là public ta chỉ ghi tên của thành phần mà không có dấu underscore nào cả."
   ]
  },
  {
   "cell_type": "code",
   "execution_count": 20,
   "metadata": {},
   "outputs": [
    {
     "name": "stdout",
     "output_type": "stream",
     "text": [
      "The skin color of baby is White\n"
     ]
    }
   ],
   "source": [
    "class Baby:\n",
    "    \"\"\"This class atempt describe Cat in real\"\"\"\n",
    "    \n",
    "    def __init__(self):\n",
    "        self.Weight = 3\n",
    "        self.Color = \"White\"\n",
    "        \n",
    "\n",
    "# Tạo một thể hiện thuộc về lớp đối tượng Baby\n",
    "my_baby = Baby()\n",
    "\n",
    "# Truy xuất đến thuộc tính private của đối tượng.\n",
    "print(\"The skin color of baby is {}\".format(my_baby.Color))"
   ]
  },
  {
   "cell_type": "markdown",
   "metadata": {},
   "source": [
    "## 5. Tính đóng gói (Encapsulation)"
   ]
  },
  {
   "cell_type": "markdown",
   "metadata": {},
   "source": [
    "- Các thông tin và phương thức của một sự vật hiện tượng được gom lại vào trong một lớp.\n",
    "- Nhờ vào đấy, ta có thể điều khiển việc truy cập vào các thành phần nằm bên trong đối tượng bao gồm các `thuộc tính` và `phương thức`, không cho thế giới bên ngoài truy  xuất dễ dàng.\n",
    "- Để khai báo một thuộc tính chỉ được truy xuất bên trong lớp (private) ta đặt `__ (double underscore)` trước tên thuộc tính, hoặc nếu muốn thuộc tính đó chỉ được truy xuất trong package thì ta đặt `__ (double underscore)` trước tên thuộc tính."
   ]
  },
  {
   "cell_type": "markdown",
   "metadata": {},
   "source": [
    "**Ví dụ tính đóng gói**"
   ]
  },
  {
   "cell_type": "code",
   "execution_count": 21,
   "metadata": {},
   "outputs": [],
   "source": [
    "# Định nghĩa lớp đối tượng Student\n",
    "# với các thuộc tính nằm trong phạm vi truy cập private\n",
    "class Student:\n",
    "    def __init__(self):\n",
    "        self.__name = \"Unknow\"\n",
    "        self.__age = 18\n",
    "        self.__point = 5\n",
    "    def __init__(self,name,age,point):\n",
    "        self.__name = name\n",
    "        self.__age = age\n",
    "        self.__point = point\n",
    "        \n",
    "    def update_name(self,name):\n",
    "        self.__name = name\n",
    "        \n",
    "    def update_age(self,age):\n",
    "        self.__age = age\n",
    "        \n",
    "    def display(self):\n",
    "        print(\"The name: {}\".format(self.__name))\n",
    "        print(\"The age:\",self.__age)\n",
    "        print(\"The point:\",self.__point)"
   ]
  },
  {
   "cell_type": "code",
   "execution_count": 22,
   "metadata": {},
   "outputs": [
    {
     "name": "stdout",
     "output_type": "stream",
     "text": [
      "The name: Tien\n",
      "The age: 10\n",
      "The point: 10\n"
     ]
    }
   ],
   "source": [
    "# Tạo ra một thể hiện của lớp đối tượng Student\n",
    "my_student = Student(\"Tien\",10,10)\n",
    "# Xuất thông tin của sinh viên\n",
    "my_student.display()"
   ]
  },
  {
   "cell_type": "code",
   "execution_count": 23,
   "metadata": {},
   "outputs": [
    {
     "name": "stdout",
     "output_type": "stream",
     "text": [
      "The name: Tien\n",
      "The age: 10\n",
      "The point: 10\n",
      "20\n"
     ]
    }
   ],
   "source": [
    "# Cập nhật thông tin trực tiếp \n",
    "my_student.__age = 20\n",
    "my_student.display()\n",
    "print(my_student.__age)"
   ]
  },
  {
   "cell_type": "code",
   "execution_count": 24,
   "metadata": {},
   "outputs": [
    {
     "name": "stdout",
     "output_type": "stream",
     "text": [
      "The name: Tien\n",
      "The age: 20\n",
      "The point: 10\n"
     ]
    }
   ],
   "source": [
    "# Cập nhật thông tin gián tiếp \n",
    "# qua phương thức update_age()\n",
    "my_student.update_age(20)\n",
    "my_student.display()"
   ]
  },
  {
   "cell_type": "markdown",
   "metadata": {},
   "source": [
    "## 6. Tính kế thừa (Inheritance)"
   ]
  },
  {
   "cell_type": "markdown",
   "metadata": {},
   "source": [
    "- Trong thực tế giữa các lớp đối tượng khác nhau sẽ có nhưng mỗi quan hệ với nhau. Các quan hệ này thường gặp dưới dạng:\n",
    "    + 1-1 : 1 vợ - 1 chồng,... \n",
    "    + Has-a (`1 - Nhiều`): 1 công ty - nhiều công nhân,...\n",
    "    + `Nhiều - Nhiều` : nhiều bác sĩ - nhiều bệnh nhân,..."
   ]
  },
  {
   "cell_type": "markdown",
   "metadata": {},
   "source": [
    "- Ngoài ra còn có quan hệ `tổng quát hóa - đặc biệt hóa`: \n",
    "    + Hình vuông là trường hợp **đặc biệt** của hình chữ nhật hay nói cách khác hình chữ nhật là trường hợp tổng quát của hình vuông.\n",
    "    + Lớp gà là trường hợp **đặc biệt** của lớp chim hay nói cách khác lớp chim là trường hợp **tổng quát** của lớp gà."
   ]
  },
  {
   "cell_type": "markdown",
   "metadata": {},
   "source": [
    "- Trong lập trình hướng đối tượng, ta quan tâm đến quan hệ đặc biệt hóa, tổng quát hóa giữa các lớp đối tượng (**`IS-A relation`**).\n",
    "- Trong Python nói chung và các **ngôn ngữ lập trình hướng đối tượng**: C++, Java, C#, ... cho phép ta xây dựng một lớp mới từ một hay nhiều lớp đã có sẵn.\n",
    "- Lớp được kế thừa gọi là lớp **cở sở** (`base class`), lớp kế thừa từ lớp có sẵn được gọi là lớp **dẫn suất** (`derived class`).\n",
    "- Lớp dẫn suất thừa kế tất cả các thuộc tính và phương thức của lớp cở sở, đồng thời **có thể có thêm các thuộc tính mới, phương thức mới, hay định nghĩa lại phương thức ở lớp cơ sở sao cho phù hợp với lớp đối tượng.**"
   ]
  },
  {
   "cell_type": "markdown",
   "metadata": {},
   "source": [
    "**Ví dụ về tính kế thừa**"
   ]
  },
  {
   "cell_type": "code",
   "execution_count": 25,
   "metadata": {},
   "outputs": [],
   "source": [
    "# Khai báo và định nghĩa lớp cơ sở\n",
    "class Xe4Banh:\n",
    "    def __init__(self):\n",
    "        self.Tenxe = \"Unknow\"\n",
    "        self.Bienso = \"00000\"\n",
    "        self.Chongoi = 4\n",
    "        \n",
    "    def __init__(self, tenxe, bienso, chongoi):\n",
    "        self.Tenxe = tenxe\n",
    "        self.Bienso = bienso\n",
    "        self.Chongoi = chongoi\n",
    "        \n",
    "    def display(self):\n",
    "        print(\"Ten xe:\", self.Tenxe)\n",
    "        print(\"Bien so:\", self.Bienso)\n",
    "        print(\"So cho ngoi:\", self.Chongoi)"
   ]
  },
  {
   "cell_type": "code",
   "execution_count": 26,
   "metadata": {},
   "outputs": [],
   "source": [
    "# Khai báo và định nghĩa lớp dẫn suất\n",
    "class Benz(Xe4Banh):\n",
    "    def __init__(self):\n",
    "        super.__init__(self)\n",
    "        self.Tenxe = \"Benz\"\n",
    "        self.Price = 2000\n",
    "        \n",
    "    def __init__(self, bienso, chongoi):\n",
    "        tenxe = \"Benz\"\n",
    "        super(Benz, self).__init__(tenxe, bienso, chongoi)"
   ]
  },
  {
   "cell_type": "code",
   "execution_count": 27,
   "metadata": {},
   "outputs": [],
   "source": [
    "# Tạo một đối tượng thuộc lớp dẫn suất \n",
    "child_object = Benz(9999,4)"
   ]
  },
  {
   "cell_type": "code",
   "execution_count": 28,
   "metadata": {},
   "outputs": [
    {
     "name": "stdout",
     "output_type": "stream",
     "text": [
      "Ten xe: Benz\n",
      "Bien so: 9999\n",
      "So cho ngoi: 4\n"
     ]
    }
   ],
   "source": [
    "# Xuất thông tin của đối tượng thuộc lớp dẫn suất\n",
    "child_object.display()"
   ]
  },
  {
   "cell_type": "markdown",
   "metadata": {},
   "source": [
    "## 7. Tính đa hình  (Polymorphism)"
   ]
  },
  {
   "cell_type": "markdown",
   "metadata": {},
   "source": [
    "- Đa hình là việc các đối tượng cùng nhập một thông điệp như nhau nhưng có các cách ứng xử khác nhau.\n",
    "- Đa hình cùng với kế thừa giúp cho mã nguồn chương trình tùy biến.\n",
    "- Sử dụng lớp cơ sở có thể thực hiện các hành động của lớp dẫn suất."
   ]
  },
  {
   "cell_type": "code",
   "execution_count": 29,
   "metadata": {},
   "outputs": [],
   "source": [
    "# The base class\n",
    "class Bird:\n",
    "    \n",
    "    \"\"\"The class atempt describe the Bird in real\"\"\"\n",
    "    def __init__(self):\n",
    "        self.name = \"Unknow\"\n",
    "        \n",
    "    def fly(self):\n",
    "        print(\"Bird usually can fly !\")\n",
    "    \n",
    "    def swim(self):\n",
    "        print(\"Bird usually can't swim !\")"
   ]
  },
  {
   "cell_type": "code",
   "execution_count": 30,
   "metadata": {},
   "outputs": [],
   "source": [
    "# Derived class\n",
    "class Parrot(Bird):\n",
    "    def fly(self):\n",
    "        print(\"Parrot can fly\")\n",
    "    \n",
    "    def swim(self):\n",
    "        print(\"Parrot can't swim\")\n",
    "\n",
    "# Derived class        \n",
    "class Penguin(Bird):\n",
    "\n",
    "    def fly(self):\n",
    "        print(\"Penguin can't fly\")\n",
    "    \n",
    "    def swim(self):\n",
    "        print(\"Penguin can swim\")"
   ]
  },
  {
   "cell_type": "code",
   "execution_count": 31,
   "metadata": {},
   "outputs": [
    {
     "name": "stdout",
     "output_type": "stream",
     "text": [
      "Parrot can fly\n",
      "Penguin can't fly\n"
     ]
    }
   ],
   "source": [
    "#instantiate objects\n",
    "blu = Parrot()\n",
    "peggy = Penguin()\n",
    "\n",
    "# passing the object\n",
    "blu.fly()\n",
    "peggy.fly()"
   ]
  },
  {
   "cell_type": "markdown",
   "metadata": {},
   "source": [
    "## 8. Conclusion"
   ]
  },
  {
   "cell_type": "markdown",
   "metadata": {},
   "source": [
    "![Summary concepts of OOP](images/chapter09/oopsystem.png)\n",
    "- Lợi ích của phương pháp lập trình hướng đối tượng (OOP):\n",
    "    + Chương trình dễ hiểu, dễ xây dựng.\n",
    "    + Tái sử dụng code.\n",
    "    + Thể hiện mối quan hệ giữa các sự vật hiện tượng trong thế giới thực\n",
    "    + Kế thừa và đa hình là 2 kĩ thuật quan trọng giúp phát triển các project lớn.\n",
    "    + Dễ bảo trì code và nâng cấp.\n",
    "- Trong Python, mỗi thứ đều là `đối tượng`. Nên Python là ngôn ngữ cực mạnh trong việc lập trình theo hướng xem thế là toàn là các đối tượng."
   ]
  },
  {
   "cell_type": "markdown",
   "metadata": {},
   "source": [
    "## 9. Bài tập rèn luyện:"
   ]
  },
  {
   "cell_type": "markdown",
   "metadata": {},
   "source": [
    "#### Bài 1: Định nghĩa lớp `CSoPhuc` gồm 2 thuộc tính là phần thực và phần ảo. Bên trong lớp định nghĩa hàm nhập, xuất, tính module của số phức, tính module giữa 2 số phức."
   ]
  },
  {
   "cell_type": "code",
   "execution_count": 32,
   "metadata": {},
   "outputs": [],
   "source": [
    "# Code bài 01"
   ]
  },
  {
   "cell_type": "markdown",
   "metadata": {},
   "source": [
    "#### Bài 2: Định nghĩa lớp CPoint trong hệ tọa độ Oxy "
   ]
  },
  {
   "cell_type": "code",
   "execution_count": 33,
   "metadata": {},
   "outputs": [],
   "source": [
    "# Code bài 02"
   ]
  }
 ],
 "metadata": {
  "kernelspec": {
   "display_name": "Python 3",
   "language": "python",
   "name": "python3"
  },
  "language_info": {
   "codemirror_mode": {
    "name": "ipython",
    "version": 3
   },
   "file_extension": ".py",
   "mimetype": "text/x-python",
   "name": "python",
   "nbconvert_exporter": "python",
   "pygments_lexer": "ipython3",
   "version": "3.7.5"
  },
  "latex_envs": {
   "LaTeX_envs_menu_present": true,
   "autoclose": false,
   "autocomplete": true,
   "bibliofile": "biblio.bib",
   "cite_by": "apalike",
   "current_citInitial": 1,
   "eqLabelWithNumbers": true,
   "eqNumInitial": 1,
   "hotkeys": {
    "equation": "Ctrl-E",
    "itemize": "Ctrl-I"
   },
   "labels_anchors": false,
   "latex_user_defs": false,
   "report_style_numbering": false,
   "user_envs_cfg": false
  },
  "toc": {
   "base_numbering": 1,
   "nav_menu": {},
   "number_sections": false,
   "sideBar": true,
   "skip_h1_title": true,
   "title_cell": "Table of Contents",
   "title_sidebar": "Contents",
   "toc_cell": false,
   "toc_position": {
    "height": "calc(100% - 180px)",
    "left": "10px",
    "top": "150px",
    "width": "273.188px"
   },
   "toc_section_display": true,
   "toc_window_display": true
  }
 },
 "nbformat": 4,
 "nbformat_minor": 2
}
