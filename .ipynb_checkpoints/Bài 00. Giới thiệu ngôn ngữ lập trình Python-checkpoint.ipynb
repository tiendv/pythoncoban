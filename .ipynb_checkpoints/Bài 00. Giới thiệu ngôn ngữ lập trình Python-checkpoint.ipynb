{
 "cells": [
  {
   "cell_type": "markdown",
   "metadata": {},
   "source": [
    "# Bài 00. Giới thiệu ngôn ngữ lập trình Python"
   ]
  },
  {
   "cell_type": "markdown",
   "metadata": {},
   "source": [
    "## 1. Tại sao bạn lại chọn ngôn ngữ lập trình `X` để theo học"
   ]
  },
  {
   "cell_type": "markdown",
   "metadata": {},
   "source": [
    "Có nhiều lý do khiến bạn chọn một ngôn ngữ lập trình để theo học, điểm qua một số tiêu biểu như:\n",
    "- Do `\"hoàn cảnh ép buộc\"`, trường học bắt bạn phải học.\n",
    "- Do `\"nghe nói\"` là ngôn ngữ đó hiện giờ đang kiếm được nhiều tiền.\n",
    "- Do \"bạn bè `\"lôi kéo\"` đi học.\n",
    "- Xu thế của thời đại là phải ngôn ngữ ABC, XYZ, ... nên mình nghĩ nếu không học sẽ trở thành tối cổ mất.\n",
    "\n",
    "![Why do you choose](images/chapter00/whydoyouchoose.png)\n"
   ]
  },
  {
   "cell_type": "markdown",
   "metadata": {},
   "source": []
  },
  {
   "cell_type": "markdown",
   "metadata": {},
   "source": []
  },
  {
   "cell_type": "markdown",
   "metadata": {},
   "source": [
    "## 2. Sự phát triển của Python"
   ]
  },
  {
   "cell_type": "markdown",
   "metadata": {},
   "source": [
    "Python là ngôn ngữ lập trình cấp cao, đa mục đích được sử dụng rộng rãi. Nó ban đầu được thiết kế bởi [Guido van Rossum](https://twitter.com/gvanrossum?ref_src=twsrc%5Egoogle%7Ctwcamp%5Eserp%7Ctwgr%5Eauthor) vào năm 1991 và được phát triển bởi [Python Software Foundation](https://www.python.org/psf/). Nó chủ yếu được phát triển để nhấn mạnh vào khả năng đọc mã và cú pháp của nó cho phép các lập trình viên thể hiện các khái niệm trong ít dòng code hơn.\n",
    "\n",
    "*Vào cuối những năm 1980, lịch sử sắp được viết*. Đó là thời gian khi làm việc trên Python bắt đầu. Ngay sau đó, Guido Van Rossum bắt đầu thực hiện công việc dựa trên ứng dụng của mình vào tháng 12 năm 1989 bởi tại Centrum Wiskunde & Informatica (CWI) nằm ở Netherland. Trước hết, như một project sở thích bởi vì anh ấy đang tìm kiếm một project thú vị để giữ anh ấy ở lại trong Giáng sinh. Ngôn ngữ lập trình Python được kế thừa từ ngôn ngữ lập trình [ABC](https://homepages.cwi.nl/~steven/abc/), có giao diện với Hệ điều hành Amoeba và có tính năng xử lý ngoại lệ.\n",
    "\n",
    "Anh ấy đã tạo ra ABC sớm hơn trong sự nghiệp của mình và anh ấy đã thấy một số vấn đề với ABC nhưng anh vẫn thích hầu hết các tính năng mà ABC mang lại. Sau đó, những gì anh ấy làm thực sự rất thông minh. Ông đã sử dụng cú pháp của ABC và một số tính năng hay của nó. Nó cũng đi kèm với rất nhiều lời phàn nàn, vì vậy anh ấy đã khắc phục hoàn toàn những vấn đề đó và đã tạo ra một ngôn ngữ kịch bản tốt, nó loại bỏ tất cả các sai sót. \n",
    "\n",
    "Cảm hứng cho cái tên đến từ Chương trình truyền hình BBC từ - **`Monty Python, Flying Circus Circus`**, vì anh là một fan hâm mộ lớn của chương trình truyền hình và anh cũng muốn một cái tên ngắn, độc đáo và hơi bí ẩn cho phát minh của mình và do đó anh đặt tên cho nó là Python!\n",
    "\n",
    "Anh ta là nhà độc tài của Ben Benololent cho cuộc sống của mình (BDFL) cho đến khi anh ta rời khỏi vị trí lãnh đạo vào ngày 12 tháng 7 năm 2018. Trong một thời gian, anh ta đã từng làm việc cho Google, nhưng hiện tại, anh ta đang làm việc tại Dropbox.\n",
    "Ngôn ngữ cuối cùng đã được phát hành vào năm 1991. Khi được phát hành, nó đã sử dụng ít mã hơn để diễn đạt các khái niệm, khi chúng ta so sánh nó với Java, C ++ & C. Triết lý thiết kế của nó cũng khá tốt. Mục tiêu chính của nó là cung cấp khả năng đọc mã và năng suất của nhà phát triển nâng cao. Khi được phát hành, nó có quá nhiều khả năng để cung cấp các lớp kế thừa, một số chức năng và xử lý ngoại lệ của các loại dữ liệu cốt lõi."
   ]
  },
  {
   "cell_type": "markdown",
   "metadata": {},
   "source": [
    "Hiện tại, năm 2019 Python đã ra phiên bản 3.8. Bạn có thể đọc thêm tại trang web chính thức phát hành ngôn ngữ Python tại http://python.org/."
   ]
  },
  {
   "cell_type": "markdown",
   "metadata": {},
   "source": [
    "## 3. Python với với thế giới"
   ]
  },
  {
   "cell_type": "markdown",
   "metadata": {},
   "source": [
    "![Kaggle](images/chapter00/kaggle2018.png)"
   ]
  },
  {
   "cell_type": "markdown",
   "metadata": {},
   "source": [
    "![Stackoverflow](images/chapter00/Stackoverflow.png)"
   ]
  },
  {
   "cell_type": "markdown",
   "metadata": {},
   "source": [
    "![Companies using Python](images/chapter00/companiespython.png)"
   ]
  },
  {
   "cell_type": "markdown",
   "metadata": {},
   "source": [
    "![Face using Python](images/chapter00/facebook.png)"
   ]
  },
  {
   "cell_type": "markdown",
   "metadata": {},
   "source": [
    "## 4. Các đặc điểm của Python"
   ]
  },
  {
   "cell_type": "markdown",
   "metadata": {},
   "source": [
    "![The features of Python Programming Language](images/chapter00/featuresofpython.png)"
   ]
  },
  {
   "cell_type": "markdown",
   "metadata": {},
   "source": [
    "## 5. Học Python thì học điều gì ?"
   ]
  },
  {
   "cell_type": "markdown",
   "metadata": {},
   "source": [
    "![Fundamentals](images/chapter00/fundamentals.png)"
   ]
  },
  {
   "cell_type": "markdown",
   "metadata": {},
   "source": [
    "## 6. Kết luận\n",
    "\n",
    "### Có thể bạn đang muốn học nhưng không biết tại sao mình lại học ?\n",
    "Trả lời điều bạn mong muốn, bạn sẽ có được điều gì sau khi học được ngôn ngữ Python một ngôn ngữ bất kỳ khác như C/C++, Java, Go Lang, Java Script,... Liệu điều mong muốn đó có thực sự là điều sẽ giúp bạn giữ vững niềm tin để đi tiếp không ?\n",
    "\n",
    "### Có thể bạn đã xác định việc học nhưng chưa biết nên học như thế nào ?\n",
    "Học những điều căn bản trước sau đó phát triển lên cao. Nên nhớ điều phức tạp tinh đều do kết tinh của hàng loạt điều giản đơn. Hãy follow theo các tutorials(hướng dẫn) ở đây nếu bạn thích, hoặc bất cứ website lập trình nổi tiếng chất lượng như [W3 School](https://www.w3schools.com/python/), [The Python Tutorial](https://docs.python.org/3/tutorial/), [Python for Every Body](https://www.coursera.org/specializations/python), ... cùng với đó là đọc thêm các textbook về Python."
   ]
  }
 ],
 "metadata": {
  "kernelspec": {
   "display_name": "Python 3",
   "language": "python",
   "name": "python3"
  },
  "language_info": {
   "codemirror_mode": {
    "name": "ipython",
    "version": 3
   },
   "file_extension": ".py",
   "mimetype": "text/x-python",
   "name": "python",
   "nbconvert_exporter": "python",
   "pygments_lexer": "ipython3",
   "version": "3.7.5"
  },
  "latex_envs": {
   "LaTeX_envs_menu_present": true,
   "autoclose": false,
   "autocomplete": true,
   "bibliofile": "biblio.bib",
   "cite_by": "apalike",
   "current_citInitial": 1,
   "eqLabelWithNumbers": true,
   "eqNumInitial": 1,
   "hotkeys": {
    "equation": "Ctrl-E",
    "itemize": "Ctrl-I"
   },
   "labels_anchors": false,
   "latex_user_defs": false,
   "report_style_numbering": false,
   "user_envs_cfg": false
  },
  "toc": {
   "base_numbering": 1,
   "nav_menu": {},
   "number_sections": false,
   "sideBar": true,
   "skip_h1_title": true,
   "title_cell": "Table of Contents",
   "title_sidebar": "Contents",
   "toc_cell": false,
   "toc_position": {
    "height": "calc(100% - 180px)",
    "left": "10px",
    "top": "150px",
    "width": "273.188px"
   },
   "toc_section_display": true,
   "toc_window_display": true
  }
 },
 "nbformat": 4,
 "nbformat_minor": 2
}
