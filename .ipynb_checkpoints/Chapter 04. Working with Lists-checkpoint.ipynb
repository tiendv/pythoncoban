{
 "cells": [
  {
   "cell_type": "markdown",
   "metadata": {},
   "source": [
    "# Chapter 04. Working with Lists"
   ]
  },
  {
   "cell_type": "markdown",
   "metadata": {},
   "source": [
    "Trong Chương 3, bạn đã học cách tạo một list đơn giản và cách làm việc với các phần tử riêng lẻ trong một danh sách. Trong chương này, bạn sẽ học cách đi qua toàn bộ danh sách chỉ bằng một vài dòng code bất kể list của bạn dài hay ngắn. Loop (vòng lặp) cho phép bạn thực hiện cùng một hành động hoặc tập hợp các hành động với toàn bộ phần tử trong danh sách. Kết quả là, bạn có thể làm việc hiệu quả với các danh sách có độ dài bất kỳ, kể cả list có hàng ngàn hoặc thậm chí hàng triệu phần tử."
   ]
  },
  {
   "cell_type": "markdown",
   "metadata": {},
   "source": [
    "## Nội dung:\n",
    "1. **Looping Through an Entire List**\n",
    "2. **Avoiding Indentation Errors**\n",
    "3. **Making Numerical Lists**\n",
    "4. **Working with Part of a List**\n",
    "5. **Tuples**\n",
    "6. **Styling Your Code**\n",
    "7. **Kết luận**"
   ]
  },
  {
   "cell_type": "markdown",
   "metadata": {},
   "source": [
    "## 1. Looping Through an Entire List"
   ]
  },
  {
   "cell_type": "markdown",
   "metadata": {},
   "source": [
    "**Bạn có thể thường duyệt qua tất cả các phần tử trong danh sách, thực hiện cùng một task với từng phần tử**. Ví dụ: trong trò chơi, bạn muốn di chuyển mọi yếu tố trên màn hình với cùng một độ dời hoặc trong danh sách các số bạn có thể muốn thực hiện cùng một thao tác thống kê trên mọi giá trị. Hoặc có lẽ bạn sẽ muốn hiển thị từng tiêu đề từ một danh sách các bài viết trên một trang web. Khi bạn muốn thực hiện cùng một hành động với mọi phần tử trong danh sách, bạn có thể sử dụng vòng lặp **`for`** trong Python."
   ]
  },
  {
   "cell_type": "markdown",
   "metadata": {},
   "source": [
    "- Giả sử chúng ta có một danh sách tên của các nhà ảo thuật, và chúng ta muốn in ra các tên trong danh sách. Chúng ta có thể làm điều này bằng cách **lấy từng tên trong danh sách một cách riêng lẻ**, nhưng cách tiếp cận này có thể gây ra một số vấn đề. Đầu tiên, nó sẽ được **lặp đi lặp lại việc in ra màn hình** với số lần lặp là độ dài danh sách(số lượng tên trong danh sách). Ngoài ra, chúng ta phải thay đổi code mỗi lần thay đổi độ dài của danh sách. Vòng lặp **`for`** tránh cả hai vấn đề này bằng cách để Python quản lý các vấn đề này một cách nội bộ\n",
    "- Sử dụng một **vòng lặp for** để in ra tất cả tên trong danh sách các nhà ảo thuật:"
   ]
  },
  {
   "cell_type": "code",
   "execution_count": 1,
   "metadata": {},
   "outputs": [
    {
     "name": "stdout",
     "output_type": "stream",
     "text": [
      "alice\n",
      "david\n",
      "carolina\n"
     ]
    }
   ],
   "source": [
    "magicians = ['alice', 'david', 'carolina']\n",
    "for magician in magicians:\n",
    "    print(magician)"
   ]
  },
  {
   "cell_type": "markdown",
   "metadata": {},
   "source": [
    "- Chúng ta bắt đầu bằng cách định nghĩa một list ở *line 1*.\n",
    "- Tại *line 2*, chúng ta **định nghĩa một vòng lặp for**. Dòng này bảo Python lấy từng giá trị trong list **magicians** và gán lần lượt từng giá trị được lấy đó vào biến **magician**. \n",
    "- Tại *line 3*, chúng ta bảo Python in ra giá trị mà ta vừa gán cho biến **magician**.\n",
    "- Python sau đó **lặp lại các dòng 2 và 3**, mỗi lần một giá trị trong danh sách. Nếu chưa thông bạn có thể đọc ra thành văn xuôi kiểu như vầy: **\"For every magician in the list, print the magician's name .\"**"
   ]
  },
  {
   "cell_type": "markdown",
   "metadata": {},
   "source": [
    "### A Closer Look at Looping"
   ]
  },
  {
   "cell_type": "markdown",
   "metadata": {},
   "source": [
    "**Khái niệm về vòng lặp(concept of looping)** rất quan trọng bởi vì nó là một trong những cách phổ biến nhất mà máy tính **tự động hóa các tác vụ lặp đi lặp lại**.Ví dụ đối với chương trình vừa rồi, Python ban đầu đọc dòng đầu tiên của vòng lặp:"
   ]
  },
  {
   "cell_type": "markdown",
   "metadata": {},
   "source": [
    "![Loop](images/chapter04/loop0.png)"
   ]
  },
  {
   "cell_type": "markdown",
   "metadata": {},
   "source": [
    "- Dòng này bảo Python **lấy giá trị đầu tiên từ danh sách magicians**\n",
    "và **liên kết(connect)** nó với biến có tên là **magician**. Giá trị đầu tiên này là \"alice\". Sau đó, python đọc dòng tiếp theo:"
   ]
  },
  {
   "cell_type": "markdown",
   "metadata": {},
   "source": [
    "![Loop](images/chapter04/loop1.png)"
   ]
  },
  {
   "cell_type": "markdown",
   "metadata": {},
   "source": [
    "- Python **in giá trị hiện tại của magician**, đó là 'alice'. Vì danh sách chứa nhiều giá trị, Python **trở về dòng đầu tiên của vòng lặp**:"
   ]
  },
  {
   "cell_type": "markdown",
   "metadata": {},
   "source": [
    "![Loop](images/chapter04/loop0.png)"
   ]
  },
  {
   "cell_type": "markdown",
   "metadata": {},
   "source": [
    "- Python lấy tên tiếp theo trong danh sách, 'david' và liên kết giá trị này với biến **magician**. Python sau đó thực thi dòng lệnh:"
   ]
  },
  {
   "cell_type": "markdown",
   "metadata": {},
   "source": [
    "![Loop](images/chapter04/loop1.png)"
   ]
  },
  {
   "cell_type": "markdown",
   "metadata": {},
   "source": [
    "- Python in lại **giá trị hiện tại của magician**, đó là 'david'. Python lặp lại toàn bộ vòng lặp một lần nữa với giá trị cuối cùng trong danh sách là 'carolina'. Vì không có nhiều giá trị trong danh sách, Python chuyển sang dòng tiếp theo trong chương trình. Trong trường hợp này, không có gì xuất hiện sau vòng lặp for, vì vậy chương trình kết thúc."
   ]
  },
  {
   "cell_type": "markdown",
   "metadata": {},
   "source": [
    "- Khi bạn sử dụng vòng lặp lần đầu tiên, hãy nhớ rằng tập hợp các bước sẽ được lặp lại một lần cho mỗi phần tử trong danh sách, bất kể có bao nhiêu phần tử trong danh sách. Nếu bạn có **một triệu phần tử** trong danh sách của mình, Python sẽ **lặp lại các bước này một triệu lần** và **thường rất nhanh**.\n",
    "- Ngoài ra, hãy ghi nhớ rằng khi bạn viết vòng lặp **`for`** thì bạn có thể đặt tên bất kì cho biến tạm thời sẽ được liên kết với từng giá trị trong danh sách. Tuy nhiên, hãy chọn một tên có ý nghĩa đại diện cho một phần tử duy nhất từ danh sách. Ví dụ, ở đây, một cách tốt để **bắt đầu một vòng lặp for** cho một danh sách a list of cats, a list of dogs, a general list of items:"
   ]
  },
  {
   "cell_type": "markdown",
   "metadata": {},
   "source": [
    "![Loop](images/chapter04/for-example0.png)"
   ]
  },
  {
   "cell_type": "markdown",
   "metadata": {},
   "source": [
    "- Những **quy ước đặt tên(naming conventions)** này có thể giúp bạn theo dõi hành động đang được thực hiện trên mỗi phần tử trong một vòng lặp for. Sử dụng tên số ít và số nhiều có thể giúp bạn xác định xem một phần của code có hoạt động với một phần tử trong danh sách hoặc toàn bộ danh sách."
   ]
  },
  {
   "cell_type": "markdown",
   "metadata": {},
   "source": [
    "### Doing More Work Within a for Loop"
   ]
  },
  {
   "cell_type": "markdown",
   "metadata": {},
   "source": [
    "- Bạn có thể làm bất cứ điều gì với từng phần tử trong một vòng lặp for. Xét ví dụ trước, bây giờ ta in một thông điệp cho mỗi magician, nói với họ rằng họ đã thực hiện một mà trình diễn rất hay:"
   ]
  },
  {
   "cell_type": "code",
   "execution_count": 2,
   "metadata": {},
   "outputs": [
    {
     "name": "stdout",
     "output_type": "stream",
     "text": [
      "Alice, that was a great performance!\n",
      "David, that was a great performance!\n",
      "Carolina, that was a great performance!\n"
     ]
    }
   ],
   "source": [
    "magicians = ['alice', 'david', 'carolina']\n",
    "for magician in magicians:\n",
    "    print(f\"{magician.title()}, that was a great performance!\")"
   ]
  },
  {
   "cell_type": "markdown",
   "metadata": {},
   "source": [
    "- Sự khác biệt duy nhất trong code này là ở chỗ chúng ta soạn thông điệp cho mỗi magician, bắt đầu bằng the name's magician. Lần đầu tiên thông qua vòng lặp, giá trị của magician là 'alice', vì vậy Python bắt đầu tin nhắn đầu tiên với tên 'Alice'. Lần thứ hai, vòng lặp sẽ bắt đầu bằng 'David' và lần thứ ba thông qua thông điệp sẽ bắt đầu bằng 'Carolina'. Đầu ra hiển thị một thông báo được cá nhân hóa cho mỗi magician trong danh sách:"
   ]
  },
  {
   "cell_type": "markdown",
   "metadata": {},
   "source": [
    "- Bạn cũng có thể viết **bao nhiêu dòng code tùy thích trong vòng lặp for**. **Mỗi dòng thụt vào** bên dưới dòng **`for` magician `in` magicians** được coi là nội dung bên trong vòng lặp và mỗi dòng thụt lề được thực hiện một lần cho mỗi giá trị trong danh sách. Do đó, bạn có thể làm nhiều việc mà bạn muốn với từng giá trị trong danh sách."
   ]
  },
  {
   "cell_type": "markdown",
   "metadata": {},
   "source": [
    "- Hãy thêm vào một dòng nữa thể hiện thông điệp của chúng ta, nói với nhà ảo thuật rằng chúng ta mong chờ thủ thuật tiếp theo của họ:"
   ]
  },
  {
   "cell_type": "code",
   "execution_count": 3,
   "metadata": {},
   "outputs": [
    {
     "name": "stdout",
     "output_type": "stream",
     "text": [
      "Alice, that was a great trick!\n",
      "I can't wait to see your next trick, Alice.\n",
      "\n",
      "David, that was a great trick!\n",
      "I can't wait to see your next trick, David.\n",
      "\n",
      "Carolina, that was a great trick!\n",
      "I can't wait to see your next trick, Carolina.\n",
      "\n"
     ]
    }
   ],
   "source": [
    "magicians = ['alice', 'david', 'carolina']\n",
    "for magician in magicians:\n",
    "    print(f\"{magician.title()}, that was a great trick!\")\n",
    "    print(f\"I can't wait to see your next trick, {magician.title()}.\\n\")"
   ]
  },
  {
   "cell_type": "markdown",
   "metadata": {},
   "source": [
    "- Bởi vì chúng ta đã thụt cả **hai lệnh print()**, mỗi dòng sẽ được thực thi một lần cho mỗi ảo thuật gia trong danh sách. Newline(\"`\\n`\") trong lệnh **print() thứ 2** chèn một dòng trống sau mỗi lần đi qua vòng lặp. Điều này tạo ra một tập hợp các thông điệp được nhóm gọn gàng cho mỗi người trong danh sách."
   ]
  },
  {
   "cell_type": "markdown",
   "metadata": {},
   "source": [
    "- Bạn có thể **sử dụng bao nhiêu dòng tùy thích trong các vòng lặp** của bạn. Trong thực tế, bạn sẽ thấy hữu ích khi thực hiện một số thao tác khác nhau với mỗi phần tử trong danh sách khi bạn sử dụng vòng lặp for."
   ]
  },
  {
   "cell_type": "markdown",
   "metadata": {},
   "source": [
    "### Doing Something After a for Loop"
   ]
  },
  {
   "cell_type": "markdown",
   "metadata": {},
   "source": [
    "**Điều gì xảy ra khi một vòng lặp for đã thực hiện xong ?** Thông thường, bạn sẽ muốn tóm tắt một khối đầu ra hoặc chuyển sang công việc khác mà chương trình của bạn phải hoàn thành."
   ]
  },
  {
   "cell_type": "markdown",
   "metadata": {},
   "source": [
    "- **Bất kỳ dòng code nào sau vòng lặp for không được thụt lề đều được thực thi một lần mà không lặp lại**. Chúng ta viết một lời cảm ơn đến toàn bộ nhóm nhà ảo thuật, cảm ơn họ vì đã biểu diễn một chương trình xuất sắc. Để hiển thị lời cảm ơn này, sau khi tất cả các thông điệp của mỗi nhà ảo thuật đã được in, chúng ta đặt tin nhắn cảm ơn sau vòng lặp for mà không thụt lề, giống như bên dưới:"
   ]
  },
  {
   "cell_type": "code",
   "execution_count": 4,
   "metadata": {},
   "outputs": [
    {
     "name": "stdout",
     "output_type": "stream",
     "text": [
      "Alice, that was a great trick!\n",
      "I can't wait to see your next trick, Alice.\n",
      "\n",
      "David, that was a great trick!\n",
      "I can't wait to see your next trick, David.\n",
      "\n",
      "Carolina, that was a great trick!\n",
      "I can't wait to see your next trick, Carolina.\n",
      "\n",
      "Thank you, everyone. That was a great magic show!\n"
     ]
    }
   ],
   "source": [
    "magicians = ['alice', 'david', 'carolina']\n",
    "for magician in magicians:\n",
    "    print(f\"{magician.title()}, that was a great trick!\")\n",
    "    print(f\"I can't wait to see your next trick, {magician.title()}.\\n\")\n",
    "    \n",
    "print(\"Thank you, everyone. That was a great magic show!\")"
   ]
  },
  {
   "cell_type": "markdown",
   "metadata": {},
   "source": [
    "- **Hai lời gọi hàm print() đầu tiên** được lặp lại một lần cho mỗi ảo thuật gia trong danh sách, như bạn đã thấy trước đó. Tuy nhiên, vì dòng tại cuối cùng không được thụt lề, nên nó chỉ được in một lần."
   ]
  },
  {
   "cell_type": "markdown",
   "metadata": {},
   "source": [
    "- Khi bạn xử lý dữ liệu bằng vòng lặp for, bạn sẽ thấy rằng đây là một cách tốt để tóm tắt một hoạt động được thực hiện trên toàn bộ tập dữ liệu. Ví dụ: bạn có thể sử dụng vòng lặp for để khởi tạo trò chơi bằng cách chạy qua danh sách các ký tự và hiển thị từng ký tự trên màn hình. Sau đó, bạn có thể viết một số code bổ sung sau vòng lặp này hiển thị button **Play Now** khi tất cả các ký tự đã được in lên màn hình."
   ]
  },
  {
   "cell_type": "markdown",
   "metadata": {},
   "source": [
    "## 2. Avoiding Indentation Errors"
   ]
  },
  {
   "cell_type": "markdown",
   "metadata": {},
   "source": [
    "**Python sử dụng `thụt lề(identation)` để xác định cách một dòng hoặc nhóm dòng có liên quan đến phần còn lại của chương trình**. Trong các ví dụ trước, các dòng in thông điệp cho các nhà ảo thuật riêng lẻ là một phần của vòng lặp for vì chúng được thụt lề. Python sử dụng việc thụt lề làm cho code rất dễ đọc. Về cơ bản, nó sử dụng khoảng trắng để buộc bạn viết code được định dạng gọn gàng với cấu trúc hình ảnh rõ ràng. Trong các chương trình Python dài hơn, bạn sẽ nhận thấy các codebocks được thụt vào ở một vài cấp độ khác nhau. **Các cấp độ thụt đầu dòng này giúp bạn có được ý thức chung về tổ chức chương trình tổng thể.**"
   ]
  },
  {
   "cell_type": "markdown",
   "metadata": {},
   "source": [
    "- Khi bạn bắt đầu viết code dựa vào việc thụt lề thích hợp, bạn sẽ cần xem một vài lỗi thụt đầu dòng phổ biến. Ví dụ, khi dòng code đó cần thụt lề thì lại không thụt, dòng code không cần thụt lề thì lại thụt lề. Xem các ví dụ về các lỗi này ngay bây giờ sẽ giúp bạn tránh chúng trong tương lai và sửa chúng khi chúng xuất hiện trong các chương trình của riêng bạn."
   ]
  },
  {
   "cell_type": "markdown",
   "metadata": {},
   "source": [
    "- Dưới đây là một số lỗi liên quan đến thụt lề thường gặp:"
   ]
  },
  {
   "cell_type": "markdown",
   "metadata": {},
   "source": [
    "### Forgeting to Intend"
   ]
  },
  {
   "cell_type": "markdown",
   "metadata": {},
   "source": [
    "Luôn thụt dòng sau câu lệnh for trong một vòng lặp. Nếu bạn quên, Python sẽ nhắc bạn:"
   ]
  },
  {
   "cell_type": "code",
   "execution_count": 5,
   "metadata": {},
   "outputs": [
    {
     "ename": "IndentationError",
     "evalue": "expected an indented block (<ipython-input-5-bc3e0c643e2b>, line 3)",
     "output_type": "error",
     "traceback": [
      "\u001b[1;36m  File \u001b[1;32m\"<ipython-input-5-bc3e0c643e2b>\"\u001b[1;36m, line \u001b[1;32m3\u001b[0m\n\u001b[1;33m    print(magician)\u001b[0m\n\u001b[1;37m        ^\u001b[0m\n\u001b[1;31mIndentationError\u001b[0m\u001b[1;31m:\u001b[0m expected an indented block\n"
     ]
    }
   ],
   "source": [
    "magicians = ['alice', 'david', 'carolina']\n",
    "for magician in magicians:\n",
    "print(magician)"
   ]
  },
  {
   "cell_type": "markdown",
   "metadata": {},
   "source": [
    "- Lời gọi hàm print() ở dòng 3 nên được thụt lề, nhưng nó không như vậy. Khi Python mong đợi một khối thụt lề và không tìm thấy một khối, nó cho bạn biết nó có vấn đề với dòng nào. Ở đây là dòng 3. Bạn thường có thể giải quyết loại lỗi thụt lề này bằng cách **thụt lề một dòng dòng hoặc các dòng ngay sau câu lệnh for**."
   ]
  },
  {
   "cell_type": "markdown",
   "metadata": {},
   "source": [
    "### Forgetting to Indent Additional Lines"
   ]
  },
  {
   "cell_type": "markdown",
   "metadata": {},
   "source": [
    "**Đôi khi vòng lặp của bạn sẽ chạy mà không có bất kỳ lỗi nào nhưng không tạo ra kết quả mong đợi**. Điều này có thể xảy ra khi bạn đang cố gắng thực hiện một số nhiệm vụ trong một vòng lặp và bạn quên thụt lề một số dòng của nó. \n",
    "- Ví dụ, đây là những gì xảy ra khi chúng ta quên thụt dòng thứ hai trong vòng lặp cái dòng mà chúng ta nói với họ là chúng ta muốn thấy những thủ thuật tiếp theo của họ:"
   ]
  },
  {
   "cell_type": "code",
   "execution_count": 6,
   "metadata": {},
   "outputs": [
    {
     "name": "stdout",
     "output_type": "stream",
     "text": [
      "Alice, that was a great trick!\n",
      "David, that was a great trick!\n",
      "Carolina, that was a great trick!\n",
      "I can't wait to see your next trick, Carolina.\n",
      "\n"
     ]
    }
   ],
   "source": [
    "magicians = ['alice', 'david', 'carolina']\n",
    "for magician in magicians:\n",
    "    print(f\"{magician.title()}, that was a great trick!\")\n",
    "print(f\"I can't wait to see your next trick, {magician.title()}.\\n\")"
   ]
  },
  {
   "cell_type": "markdown",
   "metadata": {},
   "source": [
    "- Lời gọi hàm print() thứ hai không được thụt lề, nhưng vì Python tìm thấy **ít nhất một dòng thụt vào sau câu lệnh for, nó không báo lỗi**. Kết quả là, lệnh print() đầu tiên được thực hiện một lần cho mỗi tên trong danh sách vì nó được thụt lề. **Lời gọi hàm print() thứ hai không được thụt lề**, vì vậy nó **chỉ được thực hiện một lần sau khi vòng lặp chạy xong**. Bởi vì giá trị cuối cùng được gán cho magician là 'carolina', chỉ có tên người này mới nhận được thông điệp chờ đợi thủ thuật tiếp theo của chúng ta."
   ]
  },
  {
   "cell_type": "markdown",
   "metadata": {},
   "source": [
    "- Đây là một **lỗi logic(logical erroe)**. Cú pháp thì hợp lệ, nhưng code này không tạo ra kết quả mong muốn vì **một vấn đề xảy ra trong logic của nó**. Nếu bạn muốn thấy một hành động nhất định được lặp lại một lần cho mỗi phần tử trong danh sách và nó chỉ thực hiện một lần, hãy xác định xem bạn chỉ cần thụt dòng hay là một nhóm dòng."
   ]
  },
  {
   "cell_type": "markdown",
   "metadata": {},
   "source": [
    "### Indenting Unnecessarily"
   ]
  },
  {
   "cell_type": "markdown",
   "metadata": {},
   "source": [
    "Nếu bạn **vô tình thụt lề một dòng mà đáng ra dòng đó không cần thụt lề**, Python sẽ thông báo cho bạn về sự thụt lề bất ngờ:"
   ]
  },
  {
   "cell_type": "code",
   "execution_count": 7,
   "metadata": {},
   "outputs": [
    {
     "ename": "IndentationError",
     "evalue": "unexpected indent (<ipython-input-7-e744c47c5d20>, line 2)",
     "output_type": "error",
     "traceback": [
      "\u001b[1;36m  File \u001b[1;32m\"<ipython-input-7-e744c47c5d20>\"\u001b[1;36m, line \u001b[1;32m2\u001b[0m\n\u001b[1;33m    print(message)\u001b[0m\n\u001b[1;37m    ^\u001b[0m\n\u001b[1;31mIndentationError\u001b[0m\u001b[1;31m:\u001b[0m unexpected indent\n"
     ]
    }
   ],
   "source": [
    "message = \"Hello Python world!\"\n",
    "    print(message)"
   ]
  },
  {
   "cell_type": "markdown",
   "metadata": {},
   "source": [
    "Chúng tôi **không cần phải thụt lề lời gọi hàm print()** ở dòng 2, vì đó không phải là một phần của vòng lặp; do đó, Python báo cáo lỗi như trên. Bạn có thể tránh các lỗi thụt đầu dòng bất ngờ bằng cách chỉ thụt lề khi bạn có một lý do cụ thể để làm như vậy. Trong các chương trình bạn viết vào thời điểm này, các dòng duy nhất bạn nên thụt lề là các hành động bạn muốn lặp lại cho mỗi mục trong một vòng lặp for."
   ]
  },
  {
   "cell_type": "markdown",
   "metadata": {},
   "source": [
    "### Indenting Unnecessarily After the Loop"
   ]
  },
  {
   "cell_type": "markdown",
   "metadata": {},
   "source": [
    "Nếu bạn vô tình thụt lề dòng code đáng lẽ ra là chạy sau khi vòng lặp kết thúc, code đó sẽ được lặp lại một lần cho mỗi phần tử trong danh sách. Đôi khi điều này nhắc Python báo lỗi, nhưng thường thì điều này sẽ dẫn đến lỗi logic.\n",
    "- Ví dụ, hãy để xem điều gì xảy ra khi chúng ta vô tình thụt lề dòng lời cảm ơn các nhà ảo thuật như một nhóm đã thể hiện một chương trình tốt:"
   ]
  },
  {
   "cell_type": "code",
   "execution_count": 8,
   "metadata": {},
   "outputs": [
    {
     "name": "stdout",
     "output_type": "stream",
     "text": [
      "Alice, that was a great trick!\n",
      "I can't wait to see your next trick, Alice.\n",
      "\n",
      "Thank you everyone, that was a great magic show!\n",
      "David, that was a great trick!\n",
      "I can't wait to see your next trick, David.\n",
      "\n",
      "Thank you everyone, that was a great magic show!\n",
      "Carolina, that was a great trick!\n",
      "I can't wait to see your next trick, Carolina.\n",
      "\n",
      "Thank you everyone, that was a great magic show!\n"
     ]
    }
   ],
   "source": [
    "magicians = ['alice', 'david', 'carolina']\n",
    "for magician in magicians:\n",
    "    print(f\"{magician.title()}, that was a great trick!\")\n",
    "    print(f\"I can't wait to see your next trick, {magician.title()}.\\n\")\n",
    "    \n",
    "    print(\"Thank you everyone, that was a great magic show!\")"
   ]
  },
  {
   "cell_type": "markdown",
   "metadata": {},
   "source": [
    "- Đây là một lỗi logic khác, tương tự như lỗi quên thụt lề. Vì Python không biết những gì bạn đang thực hiện với code của bạn, nên nó sẽ chạy tất cả các code được viết theo cú pháp hợp lệ. Nếu một hành động được lặp đi lặp lại nhiều lần khi nó chỉ được thực hiện một lần, có lẽ bạn cần hủy bỏ việc thụt dòng cho hành động đó."
   ]
  },
  {
   "cell_type": "markdown",
   "metadata": {},
   "source": [
    "### Forgetting the Colon"
   ]
  },
  {
   "cell_type": "markdown",
   "metadata": {},
   "source": [
    "- **Colon (dấu hai chấm)** ở **cuối câu lệnh for** bảo Python xem các dòng tiếp theo là bắt đầu của một vòng lặp."
   ]
  },
  {
   "cell_type": "code",
   "execution_count": 9,
   "metadata": {},
   "outputs": [
    {
     "ename": "SyntaxError",
     "evalue": "invalid syntax (<ipython-input-9-0b84a6ab73bd>, line 2)",
     "output_type": "error",
     "traceback": [
      "\u001b[1;36m  File \u001b[1;32m\"<ipython-input-9-0b84a6ab73bd>\"\u001b[1;36m, line \u001b[1;32m2\u001b[0m\n\u001b[1;33m    for magician in magicians\u001b[0m\n\u001b[1;37m                             ^\u001b[0m\n\u001b[1;31mSyntaxError\u001b[0m\u001b[1;31m:\u001b[0m invalid syntax\n"
     ]
    }
   ],
   "source": [
    "magicians = ['alice', 'david', 'carolina']\n",
    "for magician in magicians\n",
    "    print(magician)"
   ]
  },
  {
   "cell_type": "markdown",
   "metadata": {},
   "source": [
    "- Nếu bạn vô tình quên dấu hai chấm, như dòng 2, bạn sẽ nhận được một lỗi cú pháp vì Python không biết những gì bạn đang cố gắng làm. Mặc dầu đây là một lỗi dễ sửa, nó không phải lúc nào cũng dễ tìm lỗi. Bạn đã rất ngạc nhiên bởi lượng thời gian mà các lập trình viên dành để săn lùng các **lỗi singlecharacter** như thế này. Những lỗi như vậy rất khó tìm vì chúng ta thường chỉ nhìn thấy những gì chúng ta mong đợi."
   ]
  },
  {
   "cell_type": "markdown",
   "metadata": {},
   "source": [
    "### Test Yourself"
   ]
  },
  {
   "cell_type": "markdown",
   "metadata": {},
   "source": [
    "1. **Pizzas**: Think of at least three kinds of your favorite pizza. Store these pizza names in a list, and then use a for loop to print the name of each pizza.\n",
    "    + Modify your for loop to print a sentence using the name of the pizza instead of printing just the name of the pizza. For each pizza you should have one line of output containing a simple statement like I like pepperoni pizza.\n",
    "    + Add a line at the end of your program, outside the for loop, that states how much you like pizza. The output should consist of three or more lines about the kinds of pizza you like and then an additional sentence, such as I really love pizza!"
   ]
  },
  {
   "cell_type": "code",
   "execution_count": 10,
   "metadata": {},
   "outputs": [],
   "source": [
    "# Code bài 1"
   ]
  },
  {
   "cell_type": "markdown",
   "metadata": {},
   "source": [
    "2. **Animals**: Think of at least three different animals that have a common characteristic. Store the names of these animals in a list, and then use a for loop to print out the name of each animal.\n",
    "    + Modify your program to print a statement about each animal, such as A dog would make a great pet.\n",
    "    + Add a line at the end of your program stating what these animals have in common. You could print a sentence such as Any of these animals would make a great pet!"
   ]
  },
  {
   "cell_type": "markdown",
   "metadata": {},
   "source": [
    "## 3. Making Numerical Lists "
   ]
  },
  {
   "cell_type": "markdown",
   "metadata": {},
   "source": [
    "Nhiều lý do tồn tại để lưu trữ một bộ số. Ví dụ, bạn sẽ cần theo dõi vị trí của từng nhân vật trong trò chơi và bạn cũng có thể muốn theo dõi điểm số cao của người chơi. Trong trực quan hóa dữ liệu, bạn hầu như luôn luôn làm việc với các bộ số, chẳng hạn như nhiệt độ, khoảng cách, kích thước dân số hoặc giá trị vĩ độ và kinh độ, trong số các loại bộ số khác. \n",
    "- Danh sách là nơi lý tưởng để lưu trữ các bộ số và Python cung cấp nhiều công cụ để giúp bạn làm việc hiệu quả với **danh sách các số**. Khi bạn hiểu cách sử dụng các công cụ này một cách hiệu quả, code của bạn sẽ hoạt động tốt ngay cả khi danh sách của bạn chứa hàng triệu phần tử."
   ]
  },
  {
   "cell_type": "markdown",
   "metadata": {},
   "source": [
    "### Using range() function"
   ]
  },
  {
   "cell_type": "markdown",
   "metadata": {},
   "source": [
    "Hàm **`range()`** giúp dễ dàng tạo ra một chuỗi số. Ví dụ: bạn có thể sử dụng hàm range() để in một chuỗi các số như thế này:"
   ]
  },
  {
   "cell_type": "code",
   "execution_count": 11,
   "metadata": {
    "scrolled": true
   },
   "outputs": [
    {
     "name": "stdout",
     "output_type": "stream",
     "text": [
      "1\n",
      "2\n",
      "3\n",
      "4\n"
     ]
    }
   ],
   "source": [
    "for value in range(1, 5):\n",
    "    print(value)"
   ]
  },
  {
   "cell_type": "markdown",
   "metadata": {},
   "source": [
    "- Mặc dù code này có vẻ như sẽ in các số từ 1 đến 5, nhưng nó không in số 5:"
   ]
  },
  {
   "cell_type": "markdown",
   "metadata": {},
   "source": [
    "- Trong ví dụ này, **range()** chỉ in các số từ 1 đến 4. Đây là một kết quả khác của hành vi off-by-one mà bạn sẽ thấy thường xuyên trong các ngôn ngữ lập trình. Hàm range() khiến Python bắt đầu đếm ở giá trị đầu tiên bạn cung cấp và nó dừng khi đạt đến giá trị thứ hai mà bạn cung cấp. Bởi vì nó dừng ở giá trị thứ hai đó, đầu ra không bao giờ chứa giá trị cuối, trong trường hợp này là giá trị 5."
   ]
  },
  {
   "cell_type": "markdown",
   "metadata": {},
   "source": [
    "- Để in các số từ 1 đến 5, bạn sẽ sử dụng range(1, 6):"
   ]
  },
  {
   "cell_type": "code",
   "execution_count": 12,
   "metadata": {},
   "outputs": [
    {
     "name": "stdout",
     "output_type": "stream",
     "text": [
      "1\n",
      "2\n",
      "3\n",
      "4\n",
      "5\n"
     ]
    }
   ],
   "source": [
    "for value in range(1, 6):\n",
    "    print(value)"
   ]
  },
  {
   "cell_type": "markdown",
   "metadata": {},
   "source": [
    "- Nếu output của bạn khác với những gì bạn mong đợi khi bạn sử dụng range(), hãy thử điều chỉnh giá trị cuối của bạn bằng 1. \n",
    "- **Bạn cũng có thể truyền vào hàm range() chỉ một đối số và nó sẽ bắt đầu dãy số ở 0**. Ví dụ, range(6) sẽ trả về các số từ 0 đến 5."
   ]
  },
  {
   "cell_type": "markdown",
   "metadata": {},
   "source": [
    "### Using range() to Make a List of Numbers"
   ]
  },
  {
   "cell_type": "markdown",
   "metadata": {},
   "source": [
    "Nếu bạn muốn tạo một danh sách các số, bạn có thể chuyển đổi kết quả của range() trực tiếp thành một danh sách bằng cách sử dụng hàm **list()**. Khi bạn **bọc list() xung quanh một lời gọi hàm range()**, đầu ra sẽ là một danh sách các số."
   ]
  },
  {
   "cell_type": "markdown",
   "metadata": {},
   "source": [
    "- Trong ví dụ trong phần trước, chúng ta chỉ cần in ra một loạt các số. Chúng ta có thể sử dụng phương thức list() để chuyển đổi cùng một bộ số đó thành một danh sách:"
   ]
  },
  {
   "cell_type": "code",
   "execution_count": 13,
   "metadata": {},
   "outputs": [
    {
     "name": "stdout",
     "output_type": "stream",
     "text": [
      "[1, 2, 3, 4, 5]\n"
     ]
    }
   ],
   "source": [
    "numbers = list(range(1, 6))\n",
    "print(numbers)"
   ]
  },
  {
   "cell_type": "markdown",
   "metadata": {},
   "source": [
    "- Chúng ta cũng có thể sử dụng hàm range() để báo cho Python bỏ qua các số trong một phạm vi nhất định. Nếu bạn truyền một đối số thứ ba cho hàm range(), Python sẽ sử dụng giá trị đó làm bước nhảy khi tạo số. Ví dụ, ở đây, cách liệt kê các số chẵn từ 1 đến 10:"
   ]
  },
  {
   "cell_type": "code",
   "execution_count": 14,
   "metadata": {},
   "outputs": [
    {
     "name": "stdout",
     "output_type": "stream",
     "text": [
      "[2, 4, 6, 8, 10]\n"
     ]
    }
   ],
   "source": [
    "even_numbers = list(range(2, 11, 2))\n",
    "print(even_numbers)"
   ]
  },
  {
   "cell_type": "markdown",
   "metadata": {},
   "source": [
    "- Trong ví dụ này, hàm range() bắt đầu bằng giá trị 2 và sau đó thêm 2 vào giá trị đó. Nó lần lượt tăng thêm 2 để đạt hoặc vượt qua giá trị cuối, cụ thể dừng tại giá trị 11."
   ]
  },
  {
   "cell_type": "markdown",
   "metadata": {},
   "source": [
    "- Bạn có thể tạo hầu hết mọi tập hợp số bạn muốn sử dụng hàm range(). Ví dụ, hãy xem xét cách bạn có thể lập danh sách 10 số chính phương đầu tiên (nghĩa là bình phương của mỗi số nguyên từ 1 đến 10). Trong Python, hai dấu sao `(**)` đại diện cho số toán tử exponent. Dưới đây, cách bạn có thể đạt 10 số chính phương đầu tiên vào danh sách:"
   ]
  },
  {
   "cell_type": "code",
   "execution_count": 15,
   "metadata": {},
   "outputs": [
    {
     "name": "stdout",
     "output_type": "stream",
     "text": [
      "[0, 1, 4, 9, 16, 25, 36, 49, 64, 81]\n"
     ]
    }
   ],
   "source": [
    "squares = []\n",
    "for value in range(0, 10):\n",
    "    square = value ** 2\n",
    "    squares.append(square)\n",
    "    \n",
    "print(squares)"
   ]
  },
  {
   "cell_type": "markdown",
   "metadata": {},
   "source": [
    "- Ta có thể rút ngấn đoạn code trên bằng cách kết hợp phương thức apppend() và phép toán lũy thừa."
   ]
  },
  {
   "cell_type": "code",
   "execution_count": 16,
   "metadata": {},
   "outputs": [
    {
     "name": "stdout",
     "output_type": "stream",
     "text": [
      "[0, 1, 4, 9, 16, 25, 36, 49, 64, 81]\n"
     ]
    }
   ],
   "source": [
    "squares = []\n",
    "for value in range(0, 10):\n",
    "    squares.append(value**2)\n",
    "    \n",
    "print(squares)"
   ]
  },
  {
   "cell_type": "markdown",
   "metadata": {},
   "source": [
    "- Bạn có thể sử dụng một trong hai cách tiếp cận này khi bạn tạo ra các danh sách phức tạp hơn. Đôi khi sử dụng một biến tạm thời làm cho code của bạn dễ đọc hơn; măc khác, nó làm cho code dài một cách không cần thiết. Tập trung đầu tiên vào việc viết code mà bạn hiểu rõ, đó là những gì bạn muốn nó làm. Sau đó tìm kiếm các cách tiếp cận hiệu quả hơn khi bạn xem lại code của mình (optimization)."
   ]
  },
  {
   "cell_type": "markdown",
   "metadata": {},
   "source": [
    "### Simple Statistics with a List of Numbers"
   ]
  },
  {
   "cell_type": "markdown",
   "metadata": {},
   "source": [
    "Một vài hàm Python rất hữu ích khi làm việc với danh sách các số. Ví dụ: bạn có thể dễ dàng tìm thấy các giá trị *min*, *max* và *sum* của danh sách các số:"
   ]
  },
  {
   "cell_type": "code",
   "execution_count": 17,
   "metadata": {},
   "outputs": [
    {
     "name": "stdout",
     "output_type": "stream",
     "text": [
      "0\n",
      "9\n",
      "45\n"
     ]
    }
   ],
   "source": [
    "digits = [1, 2, 3, 4, 5, 6, 7, 8, 9, 0]\n",
    "print(min(digits))\n",
    "\n",
    "print(max(digits))\n",
    "\n",
    "print(sum(digits))"
   ]
  },
  {
   "cell_type": "markdown",
   "metadata": {},
   "source": [
    "*Các ví dụ trong phần này sử dụng danh sách các số ngắn để dễ dàng phù hợp trên các cell. Chúng cũng hoạt động tốt nếu danh sách của bạn chứa một triệu hoặc nhiều số*"
   ]
  },
  {
   "cell_type": "markdown",
   "metadata": {},
   "source": [
    "### List Comprehensions"
   ]
  },
  {
   "cell_type": "markdown",
   "metadata": {},
   "source": [
    "Cách tiếp cận được mô tả trước đó để tạo danh sách các giá trị bình phương mà chỉ sử dụng ba hoặc bốn dòng code. Việc hiểu list cho phép bạn tạo cùng một danh sách này chỉ trong một dòng code. Việc hiểu **danh sách kết hợp vòng lặp for** và **tạo các phần tử mới thành một dòng và tự động nối thêm từng phần tử mới**. Việc hiểu danh sách không phải lúc nào cũng được trình bày cho người mới bắt đầu, nhưng tôi đã đưa chúng vào đây bởi vì bạn rất có thể sẽ nhìn thấy chúng ngay khi bạn bắt đầu nhìn vào code người khác."
   ]
  },
  {
   "cell_type": "markdown",
   "metadata": {},
   "source": [
    "- Ví dụ sau đây xây dựng cùng một danh sách các số bình phương mà bạn đã thấy trước đó nhưng sử dụng cách list comprehensive:"
   ]
  },
  {
   "cell_type": "code",
   "execution_count": 18,
   "metadata": {
    "scrolled": true
   },
   "outputs": [
    {
     "name": "stdout",
     "output_type": "stream",
     "text": [
      "[1, 4, 9, 16, 25, 36, 49, 64, 81]\n"
     ]
    }
   ],
   "source": [
    "squares = [value**2 for value in range(1,10)]\n",
    "print(squares)"
   ]
  },
  {
   "cell_type": "markdown",
   "metadata": {},
   "source": [
    "- Để sử dụng cú pháp này, hãy bắt đầu bằng một tên mô tả danh sách(biến), chẳng hạn như **squares**. Tiếp theo, mở một dấu ngoặc vuông và xác định biểu thức cho các giá trị bạn muốn lưu trữ trong danh sách mới. \n",
    "- Trong ví dụ này, biểu thức là *`value**2`*, làm tăng giá trị lên lũy thừa hai. \n",
    "- Sau đó, viết một **vòng lặp for** để tạo các số bạn muốn đưa vào biểu thức và đóng dấu ngoặc vuông. Vòng lặp for trong ví dụ này là cho giá trị trong phạm vi (1, 11), cung cấp các giá trị từ 1 đến 10 vào giá trị biểu thức ** 2. Lưu ý rằng không có dấu hai chấm được sử dụng ở cuối câu lệnh for."
   ]
  },
  {
   "cell_type": "markdown",
   "metadata": {},
   "source": [
    "- Cần thực hành để viết các list comprehensive của riêng bạn, nhưng bạn sẽ nhận thấy chúng đáng giá một khi bạn trở nên thoải mái tạo danh sách thông thường. Khi bạn viết ba hoặc bốn dòng code để tạo danh sách và nó bắt đầu cảm thấy lặp đi lặp lại, hãy xem xét việc viết list comprehensive cho riêng bạn."
   ]
  },
  {
   "cell_type": "markdown",
   "metadata": {},
   "source": [
    "### Test Yourself"
   ]
  },
  {
   "cell_type": "markdown",
   "metadata": {},
   "source": [
    "3. **Counting to Twenty**: Use a for loop to print the numbers from 1 to 20, inclusive."
   ]
  },
  {
   "cell_type": "code",
   "execution_count": 19,
   "metadata": {},
   "outputs": [],
   "source": [
    "# Code bài 3"
   ]
  },
  {
   "cell_type": "markdown",
   "metadata": {},
   "source": [
    "4. **One Million**: Make a list of the numbers from one to one million, and then use a for loop to print the numbers."
   ]
  },
  {
   "cell_type": "code",
   "execution_count": 20,
   "metadata": {},
   "outputs": [],
   "source": [
    "# Code bài 4"
   ]
  },
  {
   "cell_type": "markdown",
   "metadata": {},
   "source": [
    "5. **Summing a Million**: Make a list of the numbers from one to one million, and then use min() and max() to make sure your list actually starts at one and ends at one million. Also, use the sum() function to see how quickly Python can add a million numbers."
   ]
  },
  {
   "cell_type": "code",
   "execution_count": 21,
   "metadata": {},
   "outputs": [],
   "source": [
    "# Code bài 5"
   ]
  },
  {
   "cell_type": "markdown",
   "metadata": {},
   "source": [
    "6. **Odd Numbers**: Use the third argument of the range() function to make a list of the odd numbers from 1 to 20. Use a for loop to print each number."
   ]
  },
  {
   "cell_type": "code",
   "execution_count": 22,
   "metadata": {},
   "outputs": [],
   "source": [
    "# Code bài 6"
   ]
  },
  {
   "cell_type": "markdown",
   "metadata": {},
   "source": [
    "7. **Threes**: Make a list of the multiples of 3 from 3 to 30. Use a for loop to print the numbers in your list"
   ]
  },
  {
   "cell_type": "code",
   "execution_count": 23,
   "metadata": {},
   "outputs": [],
   "source": [
    "# Code bài 7"
   ]
  },
  {
   "cell_type": "markdown",
   "metadata": {},
   "source": [
    "8. **Cubes**: A number raised to the third power is called a cube. For example, the cube of 2 is written as 2**3 in Python. Make a list of the first 10 cubes (that is, the cube of each integer from 1 through 10), and use a for loop to print out the value of each cube."
   ]
  },
  {
   "cell_type": "code",
   "execution_count": 24,
   "metadata": {},
   "outputs": [],
   "source": [
    "# Code bài 8"
   ]
  },
  {
   "cell_type": "markdown",
   "metadata": {},
   "source": [
    "9. **Cube Comprehension**: Use a list comprehension to generate a list of the first 10 cubes."
   ]
  },
  {
   "cell_type": "code",
   "execution_count": 25,
   "metadata": {},
   "outputs": [],
   "source": [
    "# Code bài 9"
   ]
  },
  {
   "cell_type": "markdown",
   "metadata": {},
   "source": [
    "## 4. Working with Part of a List"
   ]
  },
  {
   "cell_type": "markdown",
   "metadata": {},
   "source": [
    "Trong Chương 3, bạn đã học cách truy cập các phần tử đơn lẻ trong danh sách và trong chương này, bạn đã học cách làm việc thông qua tất cả các phần tử trong danh sách. Bạn cũng có thể làm việc với một nhóm các phần tử cụ thể trong danh sách, mà Python gọi là một **slice**."
   ]
  },
  {
   "cell_type": "markdown",
   "metadata": {},
   "source": [
    "### Slicing a List"
   ]
  },
  {
   "cell_type": "markdown",
   "metadata": {},
   "source": [
    "Để tạo một slice(lát), bạn chỉ định index của phần tử đầu tiên và cuối cùng mà bạn muốn làm việc với nhóm đó. Đối với hàm **range()**, Python sẽ dừng lại trước khi đến phần tử thứ 2 mà ta chỉ ra index lúc nảy.  Để xuất ba phần tử đầu tiên trong danh sách, bạn sẽ yêu cầu các chỉ số từ 0 đến 3, sẽ trả về các phần tử tại chỉ mục 0, 1 và 2.\n",
    "- Ví dụ sau liên quan đến danh sách người chơi:"
   ]
  },
  {
   "cell_type": "code",
   "execution_count": 26,
   "metadata": {},
   "outputs": [
    {
     "name": "stdout",
     "output_type": "stream",
     "text": [
      "['charles', 'martina', 'michael']\n"
     ]
    }
   ],
   "source": [
    "players = ['charles', 'martina', 'michael', 'florence', 'eli']\n",
    "print(players[0:3])"
   ]
  },
  {
   "cell_type": "markdown",
   "metadata": {},
   "source": [
    "- Code tại dòng 2 in một lát của danh sách này, chỉ bao gồm ba người chơi bầu tiên. Đầu ra giữ lại cấu trúc của danh sách và bao gồm ba người chơi đầu tiên trong danh sách."
   ]
  },
  {
   "cell_type": "markdown",
   "metadata": {},
   "source": [
    "- Bạn có thể tạo bất kỳ tập hợp con nào từ danh sách. Ví dụ: nếu bạn muốn các mục thứ hai, thứ ba và thứ tư trong danh sách, bạn sẽ bắt đầu cắt lát ở chỉ số 1 và kết thúc ở chỉ số 4:"
   ]
  },
  {
   "cell_type": "code",
   "execution_count": 27,
   "metadata": {},
   "outputs": [
    {
     "name": "stdout",
     "output_type": "stream",
     "text": [
      "['martina', 'michael', 'florence']\n"
     ]
    }
   ],
   "source": [
    "players = ['charles', 'martina', 'michael', 'florence', 'eli']\n",
    "print(players[1:4])"
   ]
  },
  {
   "cell_type": "markdown",
   "metadata": {},
   "source": [
    "- Lần này, lát cắt bắt đầu bằng 'martina' và kết thúc bằng 'florence'."
   ]
  },
  {
   "cell_type": "markdown",
   "metadata": {},
   "source": [
    "- Nếu bạn bỏ qua chỉ mục đầu tiên trong một lát, Python sẽ tự động khởi động lát ở đầu danh sách:"
   ]
  },
  {
   "cell_type": "code",
   "execution_count": 28,
   "metadata": {},
   "outputs": [
    {
     "name": "stdout",
     "output_type": "stream",
     "text": [
      "['charles', 'martina', 'michael', 'florence']\n"
     ]
    }
   ],
   "source": [
    "players = ['charles', 'martina', 'michael', 'florence', 'eli']\n",
    "print(players[:4])"
   ]
  },
  {
   "cell_type": "markdown",
   "metadata": {},
   "source": [
    "- Không có chỉ mục bắt đầu, Python bắt đầu ở đầu danh sách."
   ]
  },
  {
   "cell_type": "markdown",
   "metadata": {},
   "source": [
    "- Một cú pháp hoạt động tương tự nếu bạn muốn một lát bao gồm phần cuối của danh sách. Ví dụ: nếu bạn muốn tất cả các phần tử từ mục thứ ba đến mục cuối cùng, bạn có thể đặt chỉ mục đầu tiên là 2 và bỏ qua chỉ mục thứ hai:"
   ]
  },
  {
   "cell_type": "code",
   "execution_count": 29,
   "metadata": {},
   "outputs": [
    {
     "name": "stdout",
     "output_type": "stream",
     "text": [
      "['michael', 'florence', 'eli']\n"
     ]
    }
   ],
   "source": [
    "players = ['charles', 'martina', 'michael', 'florence', 'eli']\n",
    "print(players[2:])"
   ]
  },
  {
   "cell_type": "markdown",
   "metadata": {},
   "source": [
    "- Python trả về tất cả các phần tử từ mục thứ ba cho đến cuối danh sách."
   ]
  },
  {
   "cell_type": "markdown",
   "metadata": {},
   "source": [
    "- Cú pháp này cho phép bạn xuất tất cả các thành phần từ bất kỳ điểm nào trong danh sách của bạn đến cuối bất kể độ dài của danh sách. Hãy nhớ lại rằng một chỉ số âm trả về một phần tử một khoảng cách nhất định từ cuối danh sách; do đó, bạn có thể xuất bất kỳ lát cắt nào từ cuối danh sách. Ví dụ: nếu chúng tôi muốn xuất ba người chơi cuối cùng trong danh sách, chúng tôi có thể sử dụng trình phát lát [-3:] như sau:"
   ]
  },
  {
   "cell_type": "code",
   "execution_count": 30,
   "metadata": {},
   "outputs": [
    {
     "name": "stdout",
     "output_type": "stream",
     "text": [
      "['michael', 'florence', 'eli']\n"
     ]
    }
   ],
   "source": [
    "players = ['charles', 'martina', 'michael', 'florence', 'eli']\n",
    "print(players[-3:])"
   ]
  },
  {
   "cell_type": "markdown",
   "metadata": {},
   "source": [
    "- Điều này in tên của ba người chơi cuối cùng và sẽ tiếp tục làm việc khi danh sách người chơi thay đổi kích thước."
   ]
  },
  {
   "cell_type": "markdown",
   "metadata": {},
   "source": [
    "*Bạn có thể bao gồm một giá trị thứ ba trong ngoặc chỉ ra một lát. Nếu bao gồm một giá trị thứ ba, điều này sẽ cho Python biết có bao nhiêu phầ để bỏ qua giữa các mục trong phạm vi được chỉ định.*"
   ]
  },
  {
   "cell_type": "markdown",
   "metadata": {},
   "source": [
    "### Looping Through a Slice"
   ]
  },
  {
   "cell_type": "markdown",
   "metadata": {},
   "source": [
    "Bạn có thể sử dụng một slice trong vòng lặp for nếu bạn muốn lặp qua một tập hợp con của\n",
    "các phần tử trong một danh sách. Trong ví dụ tiếp theo, chúng ta lặp qua ba người chơi đầu tiên và in tên của họ như một phần của danh sách một cách đơn giản:"
   ]
  },
  {
   "cell_type": "code",
   "execution_count": 31,
   "metadata": {},
   "outputs": [
    {
     "name": "stdout",
     "output_type": "stream",
     "text": [
      "Here are the first three players on my team:\n",
      "Charles\n",
      "Martina\n",
      "Michael\n"
     ]
    }
   ],
   "source": [
    "players = ['charles', 'martina', 'michael', 'florence', 'eli']\n",
    "print(\"Here are the first three players on my team:\")\n",
    "\n",
    "for player in players[:3]:\n",
    "    print(player.title())"
   ]
  },
  {
   "cell_type": "markdown",
   "metadata": {},
   "source": [
    "- Thay vì lặp qua toàn bộ danh sách người chơi, vòng lặp Python chỉ qua ba tên đầu tiên."
   ]
  },
  {
   "cell_type": "markdown",
   "metadata": {},
   "source": [
    "- Slice rất hữu ích trong một số tình huống. Chẳng hạn, khi bạn đang tạo một trò chơi, bạn có thể thêm điểm số cuối cùng của người chơi vào danh sách mỗi khi làm việc với người chơi kết thúc khi chơi. Sau đó, bạn có thể nhận được ba điểm số cao nhất của người chơi bằng cách sắp xếp danh sách theo thứ tự giảm dần và lấy một slice chỉ bao gồm ba điểm đầu tiên. Khi bạn làm việc với dữ liệu, bạn có thể sử dụng các lát cắt để xử lý dữ liệu của mình theo từng khối có kích thước cụ thể. Hoặc, khi bạn xây dựng một ứng dụng web, bạn có thể sử dụng các lát để hiển thị thông tin trong một loạt các trang với một lượng thông tin phù hợp trên mỗi trang."
   ]
  },
  {
   "cell_type": "markdown",
   "metadata": {},
   "source": [
    "### Copying a List"
   ]
  },
  {
   "cell_type": "markdown",
   "metadata": {},
   "source": [
    "Thông thường, bạn sẽ muốn bắt đầu với một danh sách hiện có và tạo một danh sách hoàn toàn mới dựa trên danh sách đầu tiên. Hãy cùng khám phá cách sao chép danh sách hoạt động và kiểm tra một tình huống trong đó sao chép danh sách là hữu ích.\n",
    "- Để sao chép danh sách, bạn có thể **tạo một slice(lát) bao gồm toàn bộ danh sách gốc bằng cách bỏ qua chỉ mục đầu tiên và chỉ mục thứ hai (`[:]`)**. Điều này bảo Python tạo một lát cắt bắt đầu từ mục đầu tiên và kết thúc bằng mục cuối cùng, **tạo ra một bản sao của toàn bộ danh sách**.\n",
    "- Ví dụ, hãy tưởng tượng chúng ta có một danh sách các loại thực phẩm yêu thích của chúng ta và muốn lập một danh sách riêng các loại thực phẩm mà một người bạn thích. Người bạn này thích mọi thứ trong danh sách của chúng ta, vì vậy chúng ta có thể tạo danh sách của họ bằng cách sao chép danh sách của chúng ta."
   ]
  },
  {
   "cell_type": "code",
   "execution_count": 32,
   "metadata": {},
   "outputs": [
    {
     "name": "stdout",
     "output_type": "stream",
     "text": [
      "My favorite foods are:\n",
      "['pizza', 'falafel', 'carrot cake']\n",
      "\n",
      "My friend's favorite foods are:\n",
      "['pizza', 'falafel', 'carrot cake']\n"
     ]
    }
   ],
   "source": [
    "my_foods = ['pizza', 'falafel', 'carrot cake']\n",
    "friend_foods = my_foods[:]\n",
    "\n",
    "print(\"My favorite foods are:\")\n",
    "print(my_foods)\n",
    "\n",
    "print(\"\\nMy friend's favorite foods are:\")\n",
    "print(friend_foods)"
   ]
  },
  {
   "cell_type": "markdown",
   "metadata": {},
   "source": [
    "- Tại dòng 1, chúng ta khởi tạo một danh sách các loại thực phẩm chúng ta thích gọi là my_foods. \n",
    "- Tại dòng 2, chúng ta tạo một danh sách mới gọi là friend_foods. Chúng ta tạo một bản sao của my_foods bằng cách lấy một lát cắt(slice) của my_foods mà không chỉ định bất kỳ chỉ số nào và lưu trữ bản sao trong friend_foods.\n",
    "- Khi chúng ta in từng danh sách, chúng ta thấy rằng cả hai đều chứa cùng một loại thực phẩm."
   ]
  },
  {
   "cell_type": "markdown",
   "metadata": {},
   "source": [
    "- Để chứng minh rằng chúng ta thực sự có hai danh sách riêng biệt, chúng ta sẽ thêm một loại thực phẩm mới đến từng danh sách và cho thấy rằng mỗi danh sách lưu trữ phù hợp những món ăn yêu thích của mỗi người."
   ]
  },
  {
   "cell_type": "code",
   "execution_count": 33,
   "metadata": {},
   "outputs": [
    {
     "name": "stdout",
     "output_type": "stream",
     "text": [
      "My favorite foods are:\n",
      "['pizza', 'falafel', 'carrot cake', 'cannoli']\n",
      "\n",
      "My friend's favorite foods are:\n",
      "['pizza', 'falafel', 'carrot cake', 'ice cream']\n"
     ]
    }
   ],
   "source": [
    "my_foods = ['pizza', 'falafel', 'carrot cake']\n",
    "friend_foods = my_foods[:]\n",
    "\n",
    "my_foods.append('cannoli')\n",
    "friend_foods.append('ice cream')\n",
    "\n",
    "print(\"My favorite foods are:\")\n",
    "print(my_foods)\n",
    "\n",
    "print(\"\\nMy friend's favorite foods are:\")\n",
    "print(friend_foods)"
   ]
  },
  {
   "cell_type": "markdown",
   "metadata": {},
   "source": [
    "- Tại dòng 2, chúng ta sao chép các phần tử gốc trong my_foods vào danh sách mới friend_foods, như chúng ta đã làm trong ví dụ trước. Tiếp theo, chúng ta thêm một loại thực phẩm mới vào mỗi danh sách: tại dòng 4 chúng ta thêm 'cannoli' vào my_foods và tại dong 5 chúng ta thêm 'kem' vào friend_foods. Sau đó chúng ta in hai danh sách để xem liệu mỗi loại thực phẩm này có nằm trong danh sách phù hợp hay không."
   ]
  },
  {
   "cell_type": "markdown",
   "metadata": {},
   "source": [
    "- Output cho thấy 'cannoli' hiện xuất hiện trong danh sách yêu thích của chúng ta, nhưng 'ice cream' thì không. Chúng ta có thể thấy rằng 'ice cream' bây giờ xuất hiện trong danh sách bạn bè của chúng tôi nhưng 'cannoli' thì không. Nếu chúng ta chỉ đơn giản là gán friend_foods bằng my_foods, chúng ta sẽ không tạo hai danh sách riêng biệt. Ví dụ, ở đây, điều gì xảy ra khi bạn cố gắng sao chép danh sách mà không sử dụng một slice:"
   ]
  },
  {
   "cell_type": "code",
   "execution_count": 34,
   "metadata": {},
   "outputs": [
    {
     "name": "stdout",
     "output_type": "stream",
     "text": [
      "My favorite foods are:\n",
      "['pizza', 'falafel', 'carrot cake', 'cannoli', 'ice cream']\n",
      "\n",
      "My friend's favorite foods are:\n",
      "['pizza', 'falafel', 'carrot cake', 'cannoli', 'ice cream']\n"
     ]
    }
   ],
   "source": [
    "my_foods = ['pizza', 'falafel', 'carrot cake']\n",
    "\n",
    "# This doesn't work:\n",
    "friend_foods = my_foods\n",
    "\n",
    "my_foods.append('cannoli')\n",
    "friend_foods.append('ice cream')\n",
    "print(\"My favorite foods are:\")\n",
    "print(my_foods)\n",
    "print(\"\\nMy friend's favorite foods are:\")\n",
    "print(friend_foods)"
   ]
  },
  {
   "cell_type": "markdown",
   "metadata": {},
   "source": [
    "- Thay vì lưu trữ một bản sao của my_foods trong friend_foods tại dòng 2, chúng ta gán  friend_foods bằng với my_foods. **Cú pháp này thực sự bảo Python liên kết biến có tên là friend_foods với giá trị (trường hợp ở đây là một list) đã được liên kết với biến my_foods, vì vậy bây giờ cả hai biến đều trỏ đến cùng một danh sách**. Kết quả là, khi chúng ta thêm 'cannoli' vào my_foods, nó cũng sẽ xuất hiện trong friend_foods. Tương tự như vậy, 'ice cream' sẽ xuất hiện trong cả hai danh sách, mặc dù dường như nó chỉ được thêm vào friend_foods."
   ]
  },
  {
   "cell_type": "markdown",
   "metadata": {},
   "source": [
    "*Đừng lo lắng về các chi tiết trong ví dụ này. Về cơ bản, nếu bạn đang cố gắng làm việc với một bản sao của danh sách và bạn thấy hành vi không mong muốn, hãy đảm bảo rằng bạn đang sao chép danh sách bằng một lát cắt, như chúng ta đã làm trong ví dụ đầu tiên.*"
   ]
  },
  {
   "cell_type": "markdown",
   "metadata": {},
   "source": [
    "### Test Yourself"
   ]
  },
  {
   "cell_type": "markdown",
   "metadata": {},
   "source": [
    "10. **Slices**: Using one of the programs you wrote in this chapter, add several lines to the end of the program that do the following:\n",
    "    + Print the message The first three items in the list are:. Then use a slice to print the first three items from that program’s list.\n",
    "    + Print the message Three items from the middle of the list are:. Use a slice to print three items from the middle of the list.\n",
    "    + Print the message The last three items in the list are:. Use a slice to print the last three items in the list."
   ]
  },
  {
   "cell_type": "code",
   "execution_count": 35,
   "metadata": {},
   "outputs": [],
   "source": [
    "# Code bài 10"
   ]
  },
  {
   "cell_type": "markdown",
   "metadata": {},
   "source": [
    "## 5. Tuples (Bộ)"
   ]
  },
  {
   "cell_type": "markdown",
   "metadata": {},
   "source": [
    "**List** hoạt động tốt khi lưu trữ bộ sưu tập các mặt hàng có thể thay đổi trong suốt vòng đời của chương trình. Khả năng sửa đổi danh sách trở nên đặc biệt quan trọng khi bạn làm việc với danh sách người dùng trên trang web hoặc danh sách các nhân vật trong trò chơi. Tuy nhiên, đôi khi bạn sẽ muốn tạo một danh sách có các phần tử không thể thay đổi. **`Tuples`** cho phép bạn làm điều đó. Python đề cập đến các giá trị không thể thay đổi là **bất biến(immutable)** và một **danh sách bất biến** được gọi là một **tuple**."
   ]
  },
  {
   "cell_type": "markdown",
   "metadata": {},
   "source": [
    "### Defining a Tuple"
   ]
  },
  {
   "cell_type": "markdown",
   "metadata": {},
   "source": [
    "**Một `tuple` trông giống như một **list**, ngoại trừ bạn sử dụng dấu ngoặc đơn thay vì dấu ngoặc vuông**. Khi bạn xác định một tuple, bạn có thể truy cập các phần tử riêng lẻ bằng cách sử dụng từng index của các phần tử, giống như bạn thao tác trên một danh sách."
   ]
  },
  {
   "cell_type": "markdown",
   "metadata": {},
   "source": [
    "- Ví dụ: nếu chúng ta có một hình chữ nhật phải luôn có kích thước nhất định, chúng ta có thể đảm bảo rằng kích thước của nó không thay đổi bằng cách đặt kích thước vào một tuple:"
   ]
  },
  {
   "cell_type": "code",
   "execution_count": 36,
   "metadata": {},
   "outputs": [
    {
     "name": "stdout",
     "output_type": "stream",
     "text": [
      "200\n",
      "50\n"
     ]
    }
   ],
   "source": [
    "dimensions = (200, 50)\n",
    "print(dimensions[0])\n",
    "print(dimensions[1])"
   ]
  },
  {
   "cell_type": "markdown",
   "metadata": {},
   "source": [
    "- Chúng ta xác định kích thước tuple tại dòng 1, sử dụng **dấu ngoặc đơn(single parentheses)** thay vì **dấu ngoặc vuông(square brackets)**. Tại dòng 2, chúng ta in riêng từng phần tử trong bộ dữ liệu, sử dụng cùng một cú pháp mà chúng ta đã sử dụng để truy cập các phần tử trong danh sách."
   ]
  },
  {
   "cell_type": "markdown",
   "metadata": {},
   "source": [
    "- Hãy xem điều gì sẽ xảy ra nếu chúng ta **cố gắng thay đổi một trong các phần tử** trong tuple:"
   ]
  },
  {
   "cell_type": "code",
   "execution_count": 37,
   "metadata": {},
   "outputs": [
    {
     "ename": "TypeError",
     "evalue": "'tuple' object does not support item assignment",
     "output_type": "error",
     "traceback": [
      "\u001b[1;31m---------------------------------------------------------------------------\u001b[0m",
      "\u001b[1;31mTypeError\u001b[0m                                 Traceback (most recent call last)",
      "\u001b[1;32m<ipython-input-37-258c8b06eee2>\u001b[0m in \u001b[0;36m<module>\u001b[1;34m\u001b[0m\n\u001b[0;32m      1\u001b[0m \u001b[0mdimensions\u001b[0m \u001b[1;33m=\u001b[0m \u001b[1;33m(\u001b[0m\u001b[1;36m200\u001b[0m\u001b[1;33m,\u001b[0m \u001b[1;36m50\u001b[0m\u001b[1;33m)\u001b[0m\u001b[1;33m\u001b[0m\u001b[1;33m\u001b[0m\u001b[0m\n\u001b[1;32m----> 2\u001b[1;33m \u001b[0mdimensions\u001b[0m\u001b[1;33m[\u001b[0m\u001b[1;36m0\u001b[0m\u001b[1;33m]\u001b[0m \u001b[1;33m=\u001b[0m \u001b[1;36m250\u001b[0m\u001b[1;33m\u001b[0m\u001b[1;33m\u001b[0m\u001b[0m\n\u001b[0m",
      "\u001b[1;31mTypeError\u001b[0m: 'tuple' object does not support item assignment"
     ]
    }
   ],
   "source": [
    "dimensions = (200, 50)\n",
    "dimensions[0] = 250"
   ]
  },
  {
   "cell_type": "markdown",
   "metadata": {},
   "source": [
    "- Code tại dòng 2 cố gắng thay đổi giá trị của thứ nguyên đầu tiên, nhưng Python trả về một loại lỗi. **Về cơ bản, vì chúng ta đang cố gắng thay đổi một bộ dữ liệu, không thể thực hiện đối với kiểu đối tượng đó**, Python cho chúng ta biết rằng chúng ta không thể gán một giá trị mới cho một phần tử trong tuple."
   ]
  },
  {
   "cell_type": "markdown",
   "metadata": {},
   "source": [
    "- Điều này có lợi vì chúng ta muốn Python sinh ra lỗi khi một dòng code cố gắng thay đổi kích thước của hình chữ nhật."
   ]
  },
  {
   "cell_type": "markdown",
   "metadata": {},
   "source": [
    "*Các bộ dữ liệu được xác định về mặt kỹ thuật bởi **sự hiện diện của dấu phẩy**; các dấu ngoặc đơn làm cho chúng trông gọn gàng hơn và dễ đọc hơn. Nếu bạn muốn xác định một tuple với một phần tử, bạn cần bao gồm dấu phẩy.*"
   ]
  },
  {
   "cell_type": "code",
   "execution_count": 38,
   "metadata": {},
   "outputs": [],
   "source": [
    "my_t = (3,)"
   ]
  },
  {
   "cell_type": "markdown",
   "metadata": {},
   "source": [
    "*Nó không có ý nghĩa khi xây dựng một bộ dữ liệu(tuple) với **một phần tử**, nhưng điều này có thể xảy ra khi các bộ dữ liệu được tạo tự động.*"
   ]
  },
  {
   "cell_type": "markdown",
   "metadata": {},
   "source": [
    "### Looping Through All Values in a Tuple"
   ]
  },
  {
   "cell_type": "markdown",
   "metadata": {},
   "source": [
    "Bạn có thể loop qua tất cả các giá trị trong một tuple bằng **vòng lặp for**, giống như bạn đã làm với một list:"
   ]
  },
  {
   "cell_type": "code",
   "execution_count": 39,
   "metadata": {},
   "outputs": [
    {
     "name": "stdout",
     "output_type": "stream",
     "text": [
      "200\n",
      "50\n"
     ]
    }
   ],
   "source": [
    "dimensions = (200, 50)\n",
    "for dimension in dimensions:\n",
    "    print(dimension)"
   ]
  },
  {
   "cell_type": "markdown",
   "metadata": {},
   "source": [
    "- Python trả về tất cả các phần tử trong bộ dữ liệu, giống như trong danh sách."
   ]
  },
  {
   "cell_type": "markdown",
   "metadata": {},
   "source": [
    "### Writing over a Tuple"
   ]
  },
  {
   "cell_type": "markdown",
   "metadata": {},
   "source": [
    "Mặc dù bạn không thể sửa đổi một tuple, nhưng bạn có thể gán một giá trị mới cho một biến đại diện cho một tuple. Vì vậy, nếu chúng ta muốn thay đổi kích thước, chúng ta có thể xác định lại toàn bộ bộ dữ liệu:"
   ]
  },
  {
   "cell_type": "code",
   "execution_count": 40,
   "metadata": {},
   "outputs": [
    {
     "name": "stdout",
     "output_type": "stream",
     "text": [
      "Original dimensions:\n",
      "200\n",
      "50\n",
      "\n",
      "Modified dimensions:\n",
      "400\n",
      "100\n"
     ]
    }
   ],
   "source": [
    "dimensions = (200, 50)\n",
    "print(\"Original dimensions:\")\n",
    "for dimension in dimensions:\n",
    "    print(dimension)\n",
    "\n",
    "dimensions = (400, 100)\n",
    "print(\"\\nModified dimensions:\")\n",
    "for dimension in dimensions:\n",
    "    print(dimension)"
   ]
  },
  {
   "cell_type": "markdown",
   "metadata": {},
   "source": [
    "- Các dòng bắt đầu tại dòng 1 khởi tao tuple gốc và in chữ kích thước ban đầu. Tại dòng 6, chúng ta tham chiếu đến một tuple mới với kích thước mới. Sau đó chúng ta in các kích thước mới tại dòng 9. Lần này Python không đưa ra bất kỳ lỗi nào, bởi vì việc gán lại một biến là hợp lệ."
   ]
  },
  {
   "cell_type": "markdown",
   "metadata": {},
   "source": [
    "- **Khi so sánh với list**, **tuple** là cấu trúc dữ liệu đơn giản. Sử dụng chúng khi bạn muốn lưu trữ một tập hợp các giá trị không thay đổi trong suốt life-time của chương trình."
   ]
  },
  {
   "cell_type": "markdown",
   "metadata": {},
   "source": [
    "### Test Yourself"
   ]
  },
  {
   "cell_type": "markdown",
   "metadata": {},
   "source": [
    "11. **Buffet**: A buffet-style restaurant offers only five basic foods. Think of five simple foods, and store them in a tuple.\n",
    "    + Use a for loop to print each food the restaurant offers.\n",
    "    + Try to modify one of the items, and make sure that Python rejects the change.\n",
    "    + The restaurant changes its menu, replacing two of the items with different foods. Add a line that rewrites the tuple, and then use a for loop to print each of the items on the revised menu."
   ]
  },
  {
   "cell_type": "code",
   "execution_count": 41,
   "metadata": {},
   "outputs": [],
   "source": [
    "# Code bài 11"
   ]
  },
  {
   "cell_type": "markdown",
   "metadata": {},
   "source": [
    "## 6. Styling Your Code"
   ]
  },
  {
   "cell_type": "markdown",
   "metadata": {},
   "source": [
    "Bây giờ bạn đã viết các chương trình dài hơn, các ý tưởng về cách tạo phong cách code của bạn\n",
    "đáng để dành thời gian ra bàn luận với mục đích làm cho code của bạn dễ đọc nhất có thể. Viết code dễ đọc giúp bạn theo dõi những gì chương trình của bạn đang làm và cũng giúp người khác hiểu code của bạn.\n",
    "- Các lập trình viên Python đã đồng ý về một số quy ước tạo kiểu để đảm bảo rằng tất cả code của mọi người đều được cấu trúc theo cùng một cách. Khi bạn đã học cách viết code Python sạch, bạn sẽ có thể hiểu cấu trúc tổng thể của bất kỳ code Python của ai khác, miễn là chúng tuân theo các nguyên tắc tương tự. **Nếu bạn hy vọng trở thành một lập trình viên chuyên nghiệp vào một lúc nào đó, bạn nên bắt đầu làm theo các hướng dẫn này càng sớm càng tốt để phát triển các thói quen tốt.**"
   ]
  },
  {
   "cell_type": "markdown",
   "metadata": {},
   "source": [
    "### The Style Guide"
   ]
  },
  {
   "cell_type": "markdown",
   "metadata": {},
   "source": [
    "Khi ai đó muốn tạo ra sự thay đổi ngôn ngữ Python, họ viết **Python Enhancement Proposal(PEP)**. Một trong những PEP lâu đời nhất là **PEP 8**, hướng dẫn các lập trình viên Python về cách tạo code style của họ. **PEP 8 khá dài, nhưng phần lớn liên quan đến các cấu trúc code phức tạp hơn so với những gì bạn đã thấy cho đến nay**.\n",
    "- **The Python style guide** được viết với sự hiểu biết về code đó được đọc thường xuyên hơn nó được viết. Bạn sẽ viết code của mình một lần và sau đó bắt đầu đọc nó khi bạn bắt đầu gỡ lỗi. Khi bạn thêm các tính năng vào một chương trình, bạn sẽ dành nhiều thời gian hơn để đọc mã của mình. Khi bạn chia sẻ mã của mình với các lập trình viên khác, họ cũng sẽ đọc mã của bạn.\n",
    "- Đưa ra lựa chọn giữa việc viết code dễ viết hay là viết code dễ đọc thì các lập trình viên Python hầu như sẽ luôn khuyến khích bạn viết code dễ đọc hơn. Các hướng dẫn sau đây sẽ giúp bạn viết code rõ ràng ngay từ đầu."
   ]
  },
  {
   "cell_type": "markdown",
   "metadata": {},
   "source": [
    "### Indentation"
   ]
  },
  {
   "cell_type": "markdown",
   "metadata": {},
   "source": [
    "PEP 8 khuyên bạn **nên sử dụng bốn khoảng trống** cho mỗi cấp độ thụt đầu dòng. Sử dụng bốn spaces giúp cải thiện khả năng đọc trong khi chừa chỗ cho nhiều cấp độ thụt vào mỗi dòng. \n",
    "- **Trong một tài liệu xử lý văn bản, mọi người thường sử dụng các tab thay vì khoảng trắng để thụt lề**. Điều này hoạt động tốt cho các tài liệu xử lý văn bản, nhưng trình thông dịch Python bị lẫn lộn khi các tab được trộn lẫn với khoảng trắng. Mỗi editor cung cấp một cài đặt cho phép bạn sử dụng phím `Tab` nhưng sau đó chuyển đổi từng tab thành một số khoảng trắng đã đặt. Để chắc chắn, bạn nên sử dụng phím Tab của mình, nhưng cũng đảm bảo rằng trình chỉnh sửa của bạn được cài đặt để chèn khoảng trắng thay vì các Tab vào tài liệu của bạn. \n",
    "- **Trộn các tab và khoảng trắng trong tệp của bạn có thể gây ra các vấn đề rất khó chẩn đoán**. Nếu bạn nghĩ rằng bạn có sự kết hợp giữa các tab và khoảng trắng, bạn có thể chuyển đổi tất cả các tab trong một tệp thành khoảng trắng trong hầu hết các editor."
   ]
  },
  {
   "cell_type": "markdown",
   "metadata": {},
   "source": [
    "### Line length"
   ]
  },
  {
   "cell_type": "markdown",
   "metadata": {},
   "source": [
    "Nhiều lập trình viên Python khuyên rằng mỗi dòng nên nhỏ hơn\n",
    "80 ký tự. Trong lịch sử, hướng dẫn này được phát triển bởi vì hầu hết các máy tính chỉ có thể chứa 79 ký tự trên một dòng trong cửa sổ đầu cuối.\n",
    "Hiện tại, mọi người có thể điều chỉnh các dòng dài hơn nhiều trên màn hình của họ, nhưng các lý do khác tồn tại để tuân thủ độ dài dòng tiêu chuẩn 79 ký tự. Các lập trình viên chuyên nghiệp thường có một vài tệp được mở trên cùng một màn hình và sử dụng độ dài dòng tiêu chuẩn cho phép họ nhìn thấy toàn bộ các dòng trong hai hoặc ba tệp được mở cạnh nhau trên màn hình. PEP 8 cũng khuyên bạn nên giới hạn tất cả các nhận xét của mình ở mức 72 ký tự trên mỗi dòng, vì một số công cụ tạo tài liệu tự động cho các dự án lớn hơn thêm các ký tự định dạng ở đầu mỗi dòng nhận xét. \n",
    "- Hướng dẫn PEP 8 về độ dài dòng không được đặt trong đá và một số đội thích giới hạn 99 ký tự. Don Tiết lo lắng quá nhiều về độ dài dòng trong mã của bạn khi bạn học, nhưng lưu ý rằng những người đang làm việc cộng tác hầu như luôn tuân theo các nguyên tắc PEP 8. Hầu hết các biên tập viên cho phép bạn thiết lập một dấu hiệu trực quan, thường là một đường thẳng đứng trên màn hình của bạn, cho bạn biết những giới hạn này nằm ở đâu."
   ]
  },
  {
   "cell_type": "markdown",
   "metadata": {},
   "source": [
    "### Blank Lines"
   ]
  },
  {
   "cell_type": "markdown",
   "metadata": {},
   "source": [
    "Để nhóm các phần của chương trình của bạn một cách trực quan, hãy sử dụng các dòng trống. Bạn nên sử dụng các dòng trống để sắp xếp các tệp của bạn, nhưng don không làm quá nhiều. Bằng cách làm theo các ví dụ được cung cấp trong cuốn sách này, bạn nên đạt được sự cân bằng phù hợp. Ví dụ: nếu bạn có năm dòng mã xây dựng một danh sách, và sau đó ba dòng khác làm một cái gì đó với danh sách đó, thì nó phù hợp để đặt một dòng trống giữa hai phần. Tuy nhiên, bạn không nên đặt ba hoặc bốn dòng trống giữa hai phần, ...\n",
    "- Các dòng trống giành được ảnh hưởng đến cách mã của bạn chạy, nhưng chúng sẽ ảnh hưởng đến khả năng đọc mã của bạn. Trình thông dịch Python sử dụng thụt lề ngang để diễn giải ý nghĩa của mã của bạn, nhưng nó bỏ qua khoảng cách dọc."
   ]
  },
  {
   "cell_type": "markdown",
   "metadata": {},
   "source": [
    "### Other Style Guidelines"
   ]
  },
  {
   "cell_type": "markdown",
   "metadata": {},
   "source": [
    "PEP 8 có nhiều khuyến nghị về kiểu dáng bổ sung, nhưng hầu hết các hướng dẫn đều đề cập đến các chương trình phức tạp hơn so với những gì bạn viết lúc này. Khi bạn tìm hiểu các cấu trúc Python phức tạp hơn, tôi sẽ chia sẻ các phần có liên quan của hướng dẫn PEP 8."
   ]
  },
  {
   "cell_type": "markdown",
   "metadata": {},
   "source": [
    "## 7. Kết luận"
   ]
  },
  {
   "cell_type": "markdown",
   "metadata": {},
   "source": [
    "Trong chương này, bạn đã học cách làm việc hiệu quả với các phần tử trong danh sách. Bạn đã học cách làm việc thông qua một danh sách bằng **vòng lặp for**, cách Python sử dụng thụt lề để cấu trúc chương trình và cách tránh một số lỗi thụt đầu dòng phổ biến. Bạn đã học cách lập danh sách số đơn giản, cũng như một vài thao tác bạn có thể thực hiện trên danh sách số. Bạn đã học cách **cắt lát(slicing)** một danh sách để làm việc với một tập hợp con các mục và cách sao chép danh sách đúng cách bằng cách sử dụng một lát(slice). Bạn cũng đã tìm hiểu về tuples, cung cấp một mức độ bảo vệ cho một tập hợp các giá trị không nên thay đổi và tác phong code đúng đắn.\n",
    "- Trong Chương 5, bạn sẽ học xử lí các điều kiện khác nhau bằng cách sử dụng các câu lệnh if. Bạn có thể học cách kết hợp các bộ kiểm tra có điều kiện tương đối phức tạp để đáp ứng một cách thích hợp chính xác tình huống hoặc thông tin mà bạn đang tìm kiếm. Bạn cũng sẽ học cách sử dụng các câu lệnh if trong khi loop qua danh sách để thực hiện các hành động cụ thể với các thành phần được chọn từ danh sách."
   ]
  },
  {
   "cell_type": "markdown",
   "metadata": {},
   "source": [
    "## Bài tập"
   ]
  },
  {
   "cell_type": "markdown",
   "metadata": {},
   "source": [
    "#### Bài 01. Write a program that asks the user to enter a list of integers. Do the following:\n",
    "    + (a) Print the total number of items in the list.\n",
    "    + (b) Print the last item in the list.\n",
    "    + (c) Print the list in reverse order.\n",
    "    + (d) Remove the first and last items from the list, sort the remaining items, and print the result."
   ]
  },
  {
   "cell_type": "code",
   "execution_count": 42,
   "metadata": {},
   "outputs": [],
   "source": [
    "# Code bài 01 tại đây"
   ]
  },
  {
   "cell_type": "markdown",
   "metadata": {},
   "source": [
    "**Bài 02**: Write a program that uses a for loop to print the numbers 8, 11, 14, 17, 20, . . . , 83, 86, 89."
   ]
  },
  {
   "cell_type": "code",
   "execution_count": 43,
   "metadata": {},
   "outputs": [],
   "source": [
    "# Code bài 02 tại đây"
   ]
  },
  {
   "cell_type": "markdown",
   "metadata": {},
   "source": [
    "**Bài 03**:  The **Fibonacci numbers** are the sequence below, where the first two numbers are 1, and each\n",
    "number thereafter is the sum of the two preceding numbers. Write a program that asks the\n",
    "user how many Fibonacci numbers to print and then prints that many.\n",
    "$$1, 1,2, 3,5, 8,13,21, 34,55, 89,...$$"
   ]
  },
  {
   "cell_type": "markdown",
   "metadata": {},
   "source": [
    "**Bài 04**: Use a for loop to print a box like the one below. Allow the user to specify how wide and how\n",
    "high the box should be. **(Hint: `print('*'*10)` prints ten asterisks)**."
   ]
  },
  {
   "cell_type": "markdown",
   "metadata": {},
   "source": [
    "![Loop](images/chapter04/exercise4.png)"
   ]
  },
  {
   "cell_type": "code",
   "execution_count": 44,
   "metadata": {},
   "outputs": [],
   "source": [
    "# Code bài 04 tại đây"
   ]
  },
  {
   "cell_type": "markdown",
   "metadata": {},
   "source": [
    "**Bài 05**: Write a program that generates a list of 20 random numbers between 1 and 100.\n",
    "    + (a) Print the list.\n",
    "    + (b) Print the average of the elements in the list.\n",
    "    + (c) Print the largest and smallest values in the list.\n",
    "    + (d) Print the second largest and second smallest entries in the list"
   ]
  },
  {
   "cell_type": "code",
   "execution_count": 45,
   "metadata": {},
   "outputs": [],
   "source": [
    "# Code bài 05 tại đây"
   ]
  },
  {
   "cell_type": "markdown",
   "metadata": {},
   "source": [
    "**Bài 06**: Start with the list [8,9,10]. Do the following:\n",
    "    + (a) Set the second entry (index 1) to 17\n",
    "    + (b) Add 4, 5, and 6 to the end of the list\n",
    "    + (c) Remove the first entry from the list\n",
    "    + (d) Sort the list\n",
    "    + (e) Double the list\n",
    "    + (f) Insert 25 at index 3\n",
    "*The final list should equal $[4,5,6,25,10,17,4,5,6,10,17]$*"
   ]
  },
  {
   "cell_type": "code",
   "execution_count": 46,
   "metadata": {},
   "outputs": [],
   "source": [
    "# Code bài 06 tại đây"
   ]
  },
  {
   "cell_type": "markdown",
   "metadata": {},
   "source": [
    "**Bài 07**: Write a program that takes any two lists L and M of the same size and adds their elements together to form a new list N whose elements are sums of the corresponding elements in L and M. For instance, if L=$[3,1,4]$ and M=$[1,5,9]$, then N should equal $[4,6,13]$."
   ]
  },
  {
   "cell_type": "code",
   "execution_count": 47,
   "metadata": {},
   "outputs": [],
   "source": [
    "# Code bài 07 tại đây"
   ]
  },
  {
   "cell_type": "markdown",
   "metadata": {},
   "source": [
    "**Bài 08**: Write a program that rotates the elements of a list so that the element at the first index moves to the second index, the element in the second index moves to the third index, etc., and the element in the last index moves to the first index."
   ]
  },
  {
   "cell_type": "code",
   "execution_count": 48,
   "metadata": {},
   "outputs": [],
   "source": [
    "# Code bài 08 tại đây"
   ]
  },
  {
   "cell_type": "markdown",
   "metadata": {},
   "source": [
    "**Bài 09**: Write a program that counts how many of the squares of the numbers from 1 to 100 end in a list."
   ]
  },
  {
   "cell_type": "code",
   "execution_count": 49,
   "metadata": {},
   "outputs": [],
   "source": [
    "# Code bài 09 tại đây"
   ]
  },
  {
   "cell_type": "markdown",
   "metadata": {},
   "source": [
    "**Bài 10**. Write a program that asks the user to enter a value n, and then computes $(1+ \\frac{1}{2} + \\frac{1}{3} +...+ \\frac{1}{n})− ln(n)$. The ln(n) function is *log* in the math module."
   ]
  },
  {
   "cell_type": "code",
   "execution_count": 50,
   "metadata": {},
   "outputs": [],
   "source": [
    "# Code bài 10 tại đây"
   ]
  },
  {
   "cell_type": "markdown",
   "metadata": {},
   "source": [
    "**Bài 11**. Write a program to compute the sum \n",
    "$$S = 1 − 2 + 3 − 4 + · · · + 2017 -2018+2019-2020$$"
   ]
  },
  {
   "cell_type": "code",
   "execution_count": 51,
   "metadata": {},
   "outputs": [],
   "source": [
    "# Code bài 11 tại đây"
   ]
  },
  {
   "cell_type": "markdown",
   "metadata": {},
   "source": [
    "**Bài 12**:  Write a program that computes the factorial of a number. The factorial, n!, of a number n is the\n",
    "product of all the integers between 1 and n, including n. For instance, $5! = 1\\times2\\times3\\times4\\times5=120$. `[Hint: Try using a multiplicative equivalent of the summing technique.]`"
   ]
  },
  {
   "cell_type": "code",
   "execution_count": 52,
   "metadata": {},
   "outputs": [],
   "source": [
    "# Code bài 12 tại đây"
   ]
  }
 ],
 "metadata": {
  "kernelspec": {
   "display_name": "Python 3",
   "language": "python",
   "name": "python3"
  },
  "language_info": {
   "codemirror_mode": {
    "name": "ipython",
    "version": 3
   },
   "file_extension": ".py",
   "mimetype": "text/x-python",
   "name": "python",
   "nbconvert_exporter": "python",
   "pygments_lexer": "ipython3",
   "version": "3.7.5"
  },
  "latex_envs": {
   "LaTeX_envs_menu_present": true,
   "autoclose": false,
   "autocomplete": true,
   "bibliofile": "biblio.bib",
   "cite_by": "apalike",
   "current_citInitial": 1,
   "eqLabelWithNumbers": true,
   "eqNumInitial": 1,
   "hotkeys": {
    "equation": "Ctrl-E",
    "itemize": "Ctrl-I"
   },
   "labels_anchors": false,
   "latex_user_defs": false,
   "report_style_numbering": false,
   "user_envs_cfg": false
  },
  "toc": {
   "base_numbering": 1,
   "nav_menu": {},
   "number_sections": false,
   "sideBar": true,
   "skip_h1_title": true,
   "title_cell": "Table of Contents",
   "title_sidebar": "Contents",
   "toc_cell": false,
   "toc_position": {},
   "toc_section_display": true,
   "toc_window_display": true
  }
 },
 "nbformat": 4,
 "nbformat_minor": 2
}
