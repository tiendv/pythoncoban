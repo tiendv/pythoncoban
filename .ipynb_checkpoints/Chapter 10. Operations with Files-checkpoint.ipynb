{
 "cells": [
  {
   "cell_type": "markdown",
   "metadata": {},
   "source": [
    "# Chapter 10. Operations with Files\n",
    "<p style = \"text-align: right\"><i><b>Tiến Nguyễn</p>"
   ]
  },
  {
   "cell_type": "markdown",
   "metadata": {},
   "source": [
    "**Trong phần này ta sẽ tìm hiểu về các thao tác `nhập`, `xuất`, `xử lí` dữ liệu trên file và ví dụ cụ thể.**"
   ]
  },
  {
   "cell_type": "markdown",
   "metadata": {},
   "source": [
    "**Khi làm việc với đối tượng file ( file object), quá trình trải qua các giai đoạn sau**:\n",
    "- Mở file (`open file`)\n",
    "- Xử lí dữ liệu( `processing`)\n",
    "- Đóng file (`close file`)\n",
    "\n",
    "Trong đó bước xử lý dữ liệu file tùy thuộc vào bài toán cần xử lý sẽ có các thao tác thích hợp."
   ]
  },
  {
   "cell_type": "markdown",
   "metadata": {},
   "source": [
    "## 1. Mở file và đóng file"
   ]
  },
  {
   "cell_type": "markdown",
   "metadata": {},
   "source": [
    "### Cách 1: `open(filename, mode)`"
   ]
  },
  {
   "cell_type": "markdown",
   "metadata": {},
   "source": [
    "- Ta sử dụng phương thức `open()` được xây dựng sẵn để `mở file` cần xử lí.\n",
    "- Phương thức `open()` trả về giá trị là một đối tượng file.\n",
    "- Cú pháp (syntax): `open(filename, mode)`"
   ]
  },
  {
   "cell_type": "markdown",
   "metadata": {},
   "source": [
    "- Trong đó: \n",
    "    + `filename` là **đường dẫn** của file được lưu trong máy.\n",
    "    + `mode` là **chế độ làm việc** sau khi mở file ( mở để đọc dữ liệu từ file hay là để ghi dữ liệu lên file).\n",
    "- Có nhiều cho ta lựa chọn:\n",
    "    + Chế độ mở file và chỉ đọc dữ liệu từ tập tin: `open(filename, 'r')`\n",
    "    + Chế độ mở file và chỉ ghi dữ liệu lên file, trước đó nó xóa tất cả dữ liệu trên file: `open(filename, 'w')`\n",
    "    + Chế độ mở file và chỉ ghi tiếp tục dữ liệu lên file, không làm mất dữ liệu trước đó: `open(filename, 'a')`\n",
    "    + Chế độ mở cho cả đọc và viết: `open(filename, 'r+')`\n",
    "- *Nếu không chỉ rõ chế độ, chương trình sẽ mặc định mode là `'r'`.*"
   ]
  },
  {
   "cell_type": "markdown",
   "metadata": {},
   "source": [
    "- Normally, files are opened in text mode, that means, you read and write strings from and to the file, which are encoded in a specific encoding. \n",
    "- If encoding is not specified, the default is platform dependent (see open()).\n",
    "- 'b' appended to the mode opens the file in binary mode: now the data is read and written in the form of bytes objects.\n",
    "- This mode should be used for all files that don’t contain text."
   ]
  },
  {
   "cell_type": "markdown",
   "metadata": {},
   "source": [
    "**Ví dụ đọc một file:**"
   ]
  },
  {
   "cell_type": "code",
   "execution_count": 2,
   "metadata": {},
   "outputs": [
    {
     "ename": "FileNotFoundError",
     "evalue": "[Errno 2] No such file or directory: 'images/input.txt'",
     "output_type": "error",
     "traceback": [
      "\u001b[1;31m---------------------------------------------------------------------------\u001b[0m",
      "\u001b[1;31mFileNotFoundError\u001b[0m                         Traceback (most recent call last)",
      "\u001b[1;32m<ipython-input-2-4365eed80d6b>\u001b[0m in \u001b[0;36m<module>\u001b[1;34m\u001b[0m\n\u001b[0;32m      1\u001b[0m \u001b[1;31m# Mở file\u001b[0m\u001b[1;33m\u001b[0m\u001b[1;33m\u001b[0m\u001b[1;33m\u001b[0m\u001b[0m\n\u001b[0;32m      2\u001b[0m \u001b[0mfilename\u001b[0m \u001b[1;33m=\u001b[0m \u001b[1;34m\"\"\"images/input.txt\"\"\"\u001b[0m\u001b[1;33m\u001b[0m\u001b[1;33m\u001b[0m\u001b[0m\n\u001b[1;32m----> 3\u001b[1;33m \u001b[0mf\u001b[0m \u001b[1;33m=\u001b[0m \u001b[0mopen\u001b[0m\u001b[1;33m(\u001b[0m\u001b[0mfilename\u001b[0m\u001b[1;33m,\u001b[0m \u001b[1;34m'r'\u001b[0m\u001b[1;33m)\u001b[0m\u001b[1;33m\u001b[0m\u001b[1;33m\u001b[0m\u001b[0m\n\u001b[0m",
      "\u001b[1;31mFileNotFoundError\u001b[0m: [Errno 2] No such file or directory: 'images/input.txt'"
     ]
    }
   ],
   "source": [
    "# Mở file\n",
    "filename = \"\"\"images/input.txt\"\"\"\n",
    "f = open(filename, 'r')"
   ]
  },
  {
   "cell_type": "code",
   "execution_count": 2,
   "metadata": {},
   "outputs": [
    {
     "name": "stdout",
     "output_type": "stream",
     "text": [
      "r\n"
     ]
    }
   ],
   "source": [
    "# Xem chế độ mở file\n",
    "print(f.mode)"
   ]
  },
  {
   "cell_type": "code",
   "execution_count": 3,
   "metadata": {},
   "outputs": [
    {
     "name": "stdout",
     "output_type": "stream",
     "text": [
      "input.txt\n"
     ]
    }
   ],
   "source": [
    "# Xem tên tập tin \n",
    "print(f.name)"
   ]
  },
  {
   "cell_type": "code",
   "execution_count": 4,
   "metadata": {},
   "outputs": [
    {
     "data": {
      "text/plain": [
       "False"
      ]
     },
     "execution_count": 4,
     "metadata": {},
     "output_type": "execute_result"
    }
   ],
   "source": [
    "# Kiểm tra xem file đã đóng chưa\n",
    "f.closed"
   ]
  },
  {
   "cell_type": "code",
   "execution_count": 5,
   "metadata": {},
   "outputs": [
    {
     "data": {
      "text/plain": [
       "True"
      ]
     },
     "execution_count": 5,
     "metadata": {},
     "output_type": "execute_result"
    }
   ],
   "source": [
    "# Đóng file\n",
    "f.close()\n",
    "f.closed"
   ]
  },
  {
   "cell_type": "markdown",
   "metadata": {},
   "source": [
    "### Cách 2: an toàn hơn"
   ]
  },
  {
   "cell_type": "code",
   "execution_count": 6,
   "metadata": {},
   "outputs": [
    {
     "data": {
      "text/plain": [
       "True"
      ]
     },
     "execution_count": 6,
     "metadata": {},
     "output_type": "execute_result"
    }
   ],
   "source": [
    "filename = \"input.txt\"\n",
    "with open(filename,'r') as rf:\n",
    "    pass\n",
    "\n",
    "rf.closed"
   ]
  },
  {
   "cell_type": "markdown",
   "metadata": {},
   "source": [
    "## 2. Các phương thức trong quá trình nhập xuất"
   ]
  },
  {
   "cell_type": "markdown",
   "metadata": {},
   "source": [
    "### Đọc dữ liệu từ file `(read from file)`"
   ]
  },
  {
   "cell_type": "markdown",
   "metadata": {},
   "source": [
    "**`read()`**"
   ]
  },
  {
   "cell_type": "code",
   "execution_count": 7,
   "metadata": {},
   "outputs": [
    {
     "name": "stdout",
     "output_type": "stream",
     "text": [
      "Danh sách động vật cần bảo tồn:\n",
      "1. Chim cánh cụt\n",
      "2. Sếu đầu đỏ\n",
      "3. Gấu trắng Bắc Cực\n",
      "4. Cá Voi\n",
      "5. Tiến Nguyễn\n"
     ]
    }
   ],
   "source": [
    "filename = \"input.txt\"\n",
    "with open(filename,'r', encoding = 'utf8') as rf:\n",
    "    contents = rf.read()\n",
    "    print(contents)"
   ]
  },
  {
   "cell_type": "markdown",
   "metadata": {},
   "source": [
    "**`readline()`**"
   ]
  },
  {
   "cell_type": "code",
   "execution_count": 8,
   "metadata": {},
   "outputs": [
    {
     "name": "stdout",
     "output_type": "stream",
     "text": [
      "Danh sách động vật cần bảo tồn:\n",
      "1. Chim cánh cụt\n"
     ]
    }
   ],
   "source": [
    "filename = \"input.txt\"\n",
    "with open(filename,'r', encoding = 'utf8') as rf:\n",
    "    contents = rf.readline()\n",
    "    print(contents,end=\"\")\n",
    "    contents = rf.readline()\n",
    "    print(contents,end=\"\")"
   ]
  },
  {
   "cell_type": "code",
   "execution_count": 9,
   "metadata": {},
   "outputs": [
    {
     "name": "stdout",
     "output_type": "stream",
     "text": [
      "Danh sách động vật cần bảo tồn:\n",
      "1. Chim cánh cụt\n",
      "2. Sếu đầu đỏ\n",
      "3. Gấu trắng Bắc Cực\n",
      "4. Cá Voi\n",
      "5. Tiến Nguyễn"
     ]
    }
   ],
   "source": [
    "filename = \"input.txt\"\n",
    "with open(filename,'r', encoding = 'utf8') as rf:\n",
    "    for line in rf:\n",
    "        print(line,end=\"\")"
   ]
  },
  {
   "cell_type": "markdown",
   "metadata": {},
   "source": [
    "**`read(size)`**"
   ]
  },
  {
   "cell_type": "code",
   "execution_count": 10,
   "metadata": {},
   "outputs": [
    {
     "name": "stdout",
     "output_type": "stream",
     "text": [
      "Danh sách "
     ]
    }
   ],
   "source": [
    "filename = \"input.txt\"\n",
    "with open(filename,'r', encoding = 'utf8') as rf:\n",
    "    content = rf.read(10)\n",
    "    print(content,end=\"\")"
   ]
  },
  {
   "cell_type": "code",
   "execution_count": 11,
   "metadata": {},
   "outputs": [
    {
     "name": "stdout",
     "output_type": "stream",
     "text": [
      "Danh sách động vật cần bảo tồn:\n",
      "1. Chim cá"
     ]
    }
   ],
   "source": [
    "filename = \"input.txt\"\n",
    "with open(filename,'r', encoding = 'utf8') as rf:\n",
    "    content = rf.readline()\n",
    "    print(content,end=\"\")\n",
    "    content = rf.read(10)\n",
    "    print(content,end=\"\")"
   ]
  },
  {
   "cell_type": "code",
   "execution_count": 12,
   "metadata": {},
   "outputs": [
    {
     "name": "stdout",
     "output_type": "stream",
     "text": [
      "Danh sách động vật cần bảo tồn:\n",
      "1. Chim cánh cụt\n",
      "2. Sếu đầu đỏ\n",
      "3. Gấu trắng Bắc Cực\n",
      "4. Cá Voi\n",
      "5. Tiến Nguyễn"
     ]
    }
   ],
   "source": [
    "filename = \"input.txt\"\n",
    "with open(filename,'r', encoding = 'utf8') as rf:\n",
    "    size_of_read = 10\n",
    "    while len(contents) > 0:\n",
    "        contents = rf.read(size_of_read)\n",
    "        print(contents,end=\"\")"
   ]
  },
  {
   "cell_type": "markdown",
   "metadata": {},
   "source": [
    "**`tell()`**: xem vị trí con trỏ trong file đang ở đâu"
   ]
  },
  {
   "cell_type": "code",
   "execution_count": 13,
   "metadata": {},
   "outputs": [
    {
     "name": "stdout",
     "output_type": "stream",
     "text": [
      "0\n",
      "11\n",
      "44\n"
     ]
    }
   ],
   "source": [
    "filename = \"input.txt\"\n",
    "with open(filename,'r', encoding = 'utf8') as rf:\n",
    "    print(rf.tell())\n",
    "    \n",
    "    rf.read(10)\n",
    "    print(rf.tell())\n",
    "    \n",
    "    rf.readline()\n",
    "    print(rf.tell())"
   ]
  },
  {
   "cell_type": "markdown",
   "metadata": {},
   "source": [
    "### Viết dữ liệu lên file `(write to file)`"
   ]
  },
  {
   "cell_type": "markdown",
   "metadata": {},
   "source": [
    "- Mở trong chế độ `write to file` cho thao tác ghi lên file, nếu file không có sẵn (không tồn tại) thì tự động tạo một file có tên y chang vậy mà rỗng."
   ]
  },
  {
   "cell_type": "code",
   "execution_count": 14,
   "metadata": {},
   "outputs": [],
   "source": [
    "filename = \"input2.txt\"\n",
    "with open(filename,'w') as wf:\n",
    "    pass"
   ]
  },
  {
   "cell_type": "markdown",
   "metadata": {},
   "source": [
    "**`write()`**"
   ]
  },
  {
   "cell_type": "code",
   "execution_count": 15,
   "metadata": {},
   "outputs": [],
   "source": [
    "# Viết lên file\n",
    "filename = \"input2.txt\"\n",
    "with open(filename,'w') as wf:\n",
    "    wf.write(\"Gods of Egypt\")\n",
    "    wf.write(\"\\nHorus: the main character\")"
   ]
  },
  {
   "cell_type": "markdown",
   "metadata": {},
   "source": [
    "**`seek()`**"
   ]
  },
  {
   "cell_type": "code",
   "execution_count": 16,
   "metadata": {},
   "outputs": [],
   "source": [
    "# Viết dữ liệu lên file nhưng chọn vị trí viết\n",
    "filename = \"input2.txt\"\n",
    "with open(filename,'w') as wf:\n",
    "    wf.write(\"Mua xuan dep vi co em o ben anh\")\n",
    "    wf.seek(4)\n",
    "    wf.write(\"dong\")"
   ]
  },
  {
   "cell_type": "markdown",
   "metadata": {},
   "source": [
    "### Sao chép dữ liệu từ file này lên file khác"
   ]
  },
  {
   "cell_type": "code",
   "execution_count": 17,
   "metadata": {},
   "outputs": [],
   "source": [
    "# Copy nội dung của file sang file khác\n",
    "filename = \"input.txt\"\n",
    "filename_copy=\"copy.txt\"\n",
    "with open(filename,'r', encoding = 'utf8') as rf:\n",
    "    with open(filename_copy,'w', encoding = 'utf8') as wf:\n",
    "        for line in rf:\n",
    "            wf.write(line)"
   ]
  },
  {
   "cell_type": "markdown",
   "metadata": {},
   "source": [
    "## 3. Copy 1 ảnh"
   ]
  },
  {
   "cell_type": "code",
   "execution_count": 18,
   "metadata": {},
   "outputs": [],
   "source": [
    "filename = \"dog.png\"\n",
    "filename_copy = \"copy_dog.png\"\n",
    "with open(filename,'rb') as rf:\n",
    "    with open(filename_copy,'wb') as wf:\n",
    "        contents = rf.read()\n",
    "        wf.write(contents)"
   ]
  },
  {
   "cell_type": "code",
   "execution_count": 19,
   "metadata": {},
   "outputs": [],
   "source": [
    "filename = \"dog.png\"\n",
    "filename_copy = \"copy_dog2.png\"\n",
    "with open(filename,'rb') as rf:\n",
    "    with open(filename_copy,'wb') as wf:\n",
    "        for line in rf:\n",
    "            wf.write(rf.readline())"
   ]
  },
  {
   "cell_type": "markdown",
   "metadata": {},
   "source": [
    "## 4. Xóa tập tin"
   ]
  },
  {
   "cell_type": "markdown",
   "metadata": {},
   "source": [
    "Thay vì bạn vào trực tiếp nơi lưu trữ các tập tin bạn cần xóa để xóa folder hay tập tin đó, bạn cũng có thể **lập trình để xóa folder hay tập tin đó**."
   ]
  },
  {
   "cell_type": "markdown",
   "metadata": {},
   "source": [
    "### Xóa folder\n",
    "\n",
    "Cú pháp:\n",
    "```python\n",
    "import os\n",
    "os.rmdir(\"path of folder\")\n",
    "```\n",
    "\n",
    "`rmdir()` viết tắt của cụm từ **remove directory**(xóa đường dẫn)."
   ]
  },
  {
   "cell_type": "markdown",
   "metadata": {},
   "source": [
    "Giả sử chúng ta có một tập tin có đường dẫn là `D:\\google-drive\\Java\\example` như hình bên dưới. \n",
    "\n",
    "![remove folder](images\\chapter10\\remove-folder.png)"
   ]
  },
  {
   "cell_type": "markdown",
   "metadata": {},
   "source": [
    "Để xóa folder example ta thực thi lệnh sau:"
   ]
  },
  {
   "cell_type": "code",
   "execution_count": null,
   "metadata": {},
   "outputs": [],
   "source": [
    "import os\n",
    "os.rmdir(\"D:\\google-drive\\Java\\example\")"
   ]
  },
  {
   "cell_type": "markdown",
   "metadata": {},
   "source": [
    "Kiểm tra lại ta thấy folder ta muốn xóa đã được xóa hoàn toàn.\n",
    "\n",
    "![test remove folder successfully](images\\chapter10\\remove-folder1.png)"
   ]
  },
  {
   "cell_type": "markdown",
   "metadata": {},
   "source": [
    "### Xóa tập tin"
   ]
  },
  {
   "cell_type": "markdown",
   "metadata": {},
   "source": [
    "Tương tự như cách xóa folder, xóa file ta cũng cần đường dẫn cụ thể của file. Ở đây, chúng ta tạo một file có tên là example.py có đường dẫn lưu trong máy là: `F:\\Documents\\example.py` như hình bên dưới\n",
    "\n",
    "![Remove File](images\\chapter10\\remove-file.png)\n",
    "\n",
    "Thực thi đoạn lệnh sau để xóa tập tin này như sau:"
   ]
  },
  {
   "cell_type": "code",
   "execution_count": null,
   "metadata": {},
   "outputs": [],
   "source": [
    "import os\n",
    "if os.path.exists(\"F:\\Documents\\example.py\"):\n",
    "  os.remove(\"F:\\Documents\\example.py\")\n",
    "else:\n",
    "  print(\"The file does not exist\")"
   ]
  },
  {
   "cell_type": "markdown",
   "metadata": {},
   "source": [
    "Kiểm tra lại ta thấy tác vụ đã thực hiện thành công.\n",
    "\n",
    "![Test remove file](images\\chapter10\\test-remove-file.png)"
   ]
  },
  {
   "cell_type": "markdown",
   "metadata": {},
   "source": [
    "Document tham khảo từ:\n",
    "- [Python Tutorial: File Objects - Reading and Writing to Files](https://www.youtube.com/watch?v=Uh2ebFW8OYM)\n",
    "- [Python Delete File](https://www.w3schools.com/python/python_file_remove.asp)"
   ]
  }
 ],
 "metadata": {
  "kernelspec": {
   "display_name": "Python 3",
   "language": "python",
   "name": "python3"
  },
  "language_info": {
   "codemirror_mode": {
    "name": "ipython",
    "version": 3
   },
   "file_extension": ".py",
   "mimetype": "text/x-python",
   "name": "python",
   "nbconvert_exporter": "python",
   "pygments_lexer": "ipython3",
   "version": "3.7.5"
  },
  "latex_envs": {
   "LaTeX_envs_menu_present": true,
   "autoclose": false,
   "autocomplete": true,
   "bibliofile": "biblio.bib",
   "cite_by": "apalike",
   "current_citInitial": 1,
   "eqLabelWithNumbers": true,
   "eqNumInitial": 1,
   "hotkeys": {
    "equation": "Ctrl-E",
    "itemize": "Ctrl-I"
   },
   "labels_anchors": false,
   "latex_user_defs": false,
   "report_style_numbering": false,
   "user_envs_cfg": false
  },
  "toc": {
   "base_numbering": 1,
   "nav_menu": {},
   "number_sections": false,
   "sideBar": true,
   "skip_h1_title": true,
   "title_cell": "Table of Contents",
   "title_sidebar": "Contents",
   "toc_cell": false,
   "toc_position": {},
   "toc_section_display": true,
   "toc_window_display": true
  }
 },
 "nbformat": 4,
 "nbformat_minor": 2
}
