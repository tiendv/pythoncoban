{
 "cells": [
  {
   "cell_type": "markdown",
   "metadata": {
    "colab_type": "text",
    "id": "jPoLJ-qoWNnc"
   },
   "source": [
    "# Bài 20. Hướng dẫn Tensorflow"
   ]
  },
  {
   "cell_type": "markdown",
   "metadata": {
    "colab_type": "text",
    "id": "FykbCFqrWNng"
   },
   "source": [
    "## Nội dung\n",
    "1. **Giới thiệu TensorFlow**\n",
    "2. **Quá trình làm việc của TensorFlow**\n",
    "3. **Mạng neuron và Tensorflow.**\n",
    "4. **Một số ứng dụng.**\n",
    "5. **Kết luận.**\n",
    "----"
   ]
  },
  {
   "cell_type": "markdown",
   "metadata": {
    "colab_type": "text",
    "id": "e1j2fhtRWNni"
   },
   "source": [
    "## 1. Giới thiệu TensorFlow"
   ]
  },
  {
   "cell_type": "markdown",
   "metadata": {
    "colab_type": "text",
    "id": "A3Cz0j0XWNnj"
   },
   "source": [
    "TensorFlow là một thư viện mã nguồn mở cho việc cài đặt các models lớn trong Machine Learning. Nó giúp cho việc tạo ra sản phẩm và nghiên cứu dễ dàng hơn.\n",
    "\n",
    "Nó cũng làm framework được ưa chuộng nhất trong Machine Learng.\n",
    "\n",
    "![So sánh phổ dụng giữa các framework machine learning](images/bai20/tensorflow18.png)"
   ]
  },
  {
   "cell_type": "markdown",
   "metadata": {
    "colab_type": "text",
    "id": "cpY4powBWNnl"
   },
   "source": [
    "Với Tensorflow, chúng ta có thể xây dựng được cái kiến trúc hay chính xác hơn là các models trong Deep Learning dễ dàng.\n",
    "![TensorFlow working eassy](images/bai20/tfeasy.png)"
   ]
  },
  {
   "cell_type": "markdown",
   "metadata": {
    "colab_type": "text",
    "id": "_L_vRiyVWNnm"
   },
   "source": [
    "Ngày này, các doanh nghiệp, tổ chức như Dropbox, Google,... đều dùng Tensorflow như là công cụ để cài đặt các tính năng thông minh cho sản phẩm.\n",
    "\n",
    "![TensorFlow in Companies](images/bai20/tfwithcom.png)"
   ]
  },
  {
   "cell_type": "markdown",
   "metadata": {
    "colab_type": "text",
    "id": "wjoH7S_NWNnp"
   },
   "source": [
    "Tensorflow hỗ trợ không chỉ trên máy tính mà còn cả trên di động, từ đấy chúng ta có thể xây dựng các ứng dụng hữu ích và thực tế.\n",
    "\n",
    "![Tensorflow in mobile](images/bai20/rtobjectdetection.gif)"
   ]
  },
  {
   "cell_type": "markdown",
   "metadata": {
    "colab_type": "text",
    "id": "18-m_42gWNnq"
   },
   "source": [
    "## 2. Tư tưởng của TensorFlow"
   ]
  },
  {
   "cell_type": "markdown",
   "metadata": {
    "colab_type": "text",
    "id": "crQbSI-3WNns"
   },
   "source": [
    "TensorFlow là framework được dùng cho việc xây dựng một số mô hình Machine Learning. Nó hoạt động dựa trên ý tưởng thực thi các phép toán không phụ thuộc nhau đồng thời được biểu diễn qua đồ thị vô hướng. Để nắm bắt rõ cách các TensorFlow làm việc, chúng ta nhìn lại một xíu về đồ thị tính toán."
   ]
  },
  {
   "cell_type": "markdown",
   "metadata": {
    "colab_type": "text",
    "id": "hvs5CifBWNnu"
   },
   "source": [
    "### Đồ thị tính toán"
   ]
  },
  {
   "cell_type": "markdown",
   "metadata": {
    "colab_type": "text",
    "id": "QAxI-2IfWNnv"
   },
   "source": [
    "Giả sử ta có đoạn chương trình dưới đây:"
   ]
  },
  {
   "cell_type": "code",
   "execution_count": 1,
   "metadata": {
    "colab": {},
    "colab_type": "code",
    "id": "V2fejVWRWNnw"
   },
   "outputs": [
    {
     "name": "stdout",
     "output_type": "stream",
     "text": [
      "3.0\n"
     ]
    }
   ],
   "source": [
    "a = 15\n",
    "b = 5\n",
    "proc = a * b\n",
    "add = a + b\n",
    "res = a / b\n",
    "print(res)"
   ]
  },
  {
   "cell_type": "markdown",
   "metadata": {
    "colab_type": "text",
    "id": "8OS5aI7nWNn0"
   },
   "source": [
    "Từ chương trình trên, ta có thể dùng một đồ thị có hướng để mô tả lại quá trình tính toán như sau:\n",
    "![Example of working flow](https://miro.medium.com/max/1497/1*vPb9E0Yd1QUAD0oFmAgaOw.png)"
   ]
  },
  {
   "cell_type": "markdown",
   "metadata": {
    "colab_type": "text",
    "id": "Y3oRbhreWNn1"
   },
   "source": [
    "**Do đồ thị này mô tả lại quá trình tính toán của chương trình nên ta gọi là đồ thị tính toán(Computational Graph)** với hai thành phần là `Vertices` và `Edges`:\n",
    "- **Vertices** hay còn gọi là Nodes trong đồ thị lưu trữ một phép toán hay một thao tác bất kì, nhận đầu vào là các giá trị và cho ra các giá trị sau quá trình thực hiện phép toán mà nó đang lưu trữ.\n",
    "- **Edges** là cạnh của đồ thị, trong ngữ cảnh này nó dùng để lưu trữ liệu đầu ra của nodes trước nó và là dữ liệu đầu vào của nodes nằm sau. Những cạnh này còn được gọi là các Tensor.\n",
    "\n",
    "Quá trình tính toán có thể hình dung rất đơn giản, bắt đầu từ trái qua phải, đi theo hướng của các cung để tính toán ra được giá trị sau cùng."
   ]
  },
  {
   "cell_type": "markdown",
   "metadata": {
    "colab_type": "text",
    "id": "TwVjYZqmWNn2"
   },
   "source": [
    "**Nếu ta thực hiện phép cộng và phép nhân song song với nhau thì thế nào nhỉ ?**\n",
    "\n",
    "-> **Tiết kiệm được thời gian tính toán**: thay vì thực hiện phép nhân hai số a và b, rồi đến phép cộng hai số a, b, rồi mới lấy hai kết quả vừa tìm được chia cho nhau thì trong lúc thực hiện phép nhân ta có thể thực thi cả phép cộng để sau khi phép nhân hoàn thành thì ta có sẵn kết quả của phép cộng mà đem đi chia ngay lập tức."
   ]
  },
  {
   "cell_type": "markdown",
   "metadata": {
    "colab_type": "text",
    "id": "qfu4dTOVWNn3"
   },
   "source": [
    "*Quá trình làm việc của TensorFlow dựa trên ý tưởng của việc tối ưu trong đồ thị tính toán nhằm `thực hiện các quá trình tính toán độc lập một cách song song` và cho phép `dùng nhiều máy tính, nhiều CPU, nhiều GPU, TPU` để xử lý các thao tác tính toán độc lập nhau rồi ghép lại để cho ra output mong muốn.*\n",
    "\n",
    "**Cái tên TensorFlow được ghép từ hai từ `Tensor` + `Flow`, thể hiện rõ quá trình toán bên trong của framework này.**"
   ]
  },
  {
   "cell_type": "markdown",
   "metadata": {
    "colab_type": "text",
    "id": "P3p3UdheWNn5"
   },
   "source": [
    "### Một số khái niệm cơ bản trong TensorFlow Graph"
   ]
  },
  {
   "cell_type": "markdown",
   "metadata": {
    "colab_type": "text",
    "id": "_5ER5MfYWNn6"
   },
   "source": [
    "**Variables**: giống như biến bình thường trong lập trình cơ bản, trong các mạng neuron nó chính là các tham số liên tục thay đổi khi ta huấn luyện mô hình.\n",
    "\n",
    "**Placeholders**: lưu trữ dữ liệu, node rỗng trong đồ thị.\n",
    "\n",
    "**Constants**: tham số không thể thay đổi.\n",
    "\n",
    "**Operations**: các phép toán biểu diễn bên trong các node của đồ thị, thực thi các thao tác lên các Tensor(dữ liệu).\n",
    "\n",
    "**Graph**: kết nối các Variables, Placeholders, Constants, Operations lại với nhau để cho ra một đồ thị tính toán hoàn chỉnh.\n",
    "\n",
    "**Session**: tạo ra việc thực thi thực sự trên đồ thị, chính xác là nhờ Session đồ thị tính toán của TensorFlow mới được khởi được, khi đó máy tính mới cấp phát vùng nhớ cho việc thực thi tính toán."
   ]
  },
  {
   "cell_type": "markdown",
   "metadata": {
    "colab_type": "text",
    "id": "-YzzEXwFWNn7"
   },
   "source": [
    "*Chú ý: Working flow của TensorFlow được kết hợp từ hai giai đoạn:*\n",
    "- Graph: xây dựng đồ thị tính toán, trong đó gồm có việc xác định số layer, số node, số liên kết từ node này đến node kia,...\n",
    "- Session: thực thi đồ thị tính toán.\n",
    "\n",
    "**Lợi ích của việc kết hợp hai phần `Graph` và `Session` là xây dựng các biểu thức rất phức tạp mà không cần trực tiếp đánh giá chúng và cấp phát bộ nhớ cần thiết cho việc tính toán**."
   ]
  },
  {
   "cell_type": "markdown",
   "metadata": {
    "colab_type": "text",
    "id": "7SZTnkM7WNn8"
   },
   "source": [
    "### Ví dụ"
   ]
  },
  {
   "cell_type": "code",
   "execution_count": 2,
   "metadata": {
    "colab": {},
    "colab_type": "code",
    "id": "v1axJhyJWNn_"
   },
   "outputs": [
    {
     "name": "stderr",
     "output_type": "stream",
     "text": [
      "C:\\Users\\PC\\Anaconda3\\envs\\OpenCV_env\\lib\\site-packages\\tensorboard\\compat\\tensorflow_stub\\dtypes.py:541: FutureWarning: Passing (type, 1) or '1type' as a synonym of type is deprecated; in a future version of numpy, it will be understood as (type, (1,)) / '(1,)type'.\n",
      "  _np_qint8 = np.dtype([(\"qint8\", np.int8, 1)])\n",
      "C:\\Users\\PC\\Anaconda3\\envs\\OpenCV_env\\lib\\site-packages\\tensorboard\\compat\\tensorflow_stub\\dtypes.py:542: FutureWarning: Passing (type, 1) or '1type' as a synonym of type is deprecated; in a future version of numpy, it will be understood as (type, (1,)) / '(1,)type'.\n",
      "  _np_quint8 = np.dtype([(\"quint8\", np.uint8, 1)])\n",
      "C:\\Users\\PC\\Anaconda3\\envs\\OpenCV_env\\lib\\site-packages\\tensorboard\\compat\\tensorflow_stub\\dtypes.py:543: FutureWarning: Passing (type, 1) or '1type' as a synonym of type is deprecated; in a future version of numpy, it will be understood as (type, (1,)) / '(1,)type'.\n",
      "  _np_qint16 = np.dtype([(\"qint16\", np.int16, 1)])\n",
      "C:\\Users\\PC\\Anaconda3\\envs\\OpenCV_env\\lib\\site-packages\\tensorboard\\compat\\tensorflow_stub\\dtypes.py:544: FutureWarning: Passing (type, 1) or '1type' as a synonym of type is deprecated; in a future version of numpy, it will be understood as (type, (1,)) / '(1,)type'.\n",
      "  _np_quint16 = np.dtype([(\"quint16\", np.uint16, 1)])\n",
      "C:\\Users\\PC\\Anaconda3\\envs\\OpenCV_env\\lib\\site-packages\\tensorboard\\compat\\tensorflow_stub\\dtypes.py:545: FutureWarning: Passing (type, 1) or '1type' as a synonym of type is deprecated; in a future version of numpy, it will be understood as (type, (1,)) / '(1,)type'.\n",
      "  _np_qint32 = np.dtype([(\"qint32\", np.int32, 1)])\n",
      "C:\\Users\\PC\\Anaconda3\\envs\\OpenCV_env\\lib\\site-packages\\tensorboard\\compat\\tensorflow_stub\\dtypes.py:550: FutureWarning: Passing (type, 1) or '1type' as a synonym of type is deprecated; in a future version of numpy, it will be understood as (type, (1,)) / '(1,)type'.\n",
      "  np_resource = np.dtype([(\"resource\", np.ubyte, 1)])\n"
     ]
    },
    {
     "name": "stdout",
     "output_type": "stream",
     "text": [
      "3.75\n"
     ]
    }
   ],
   "source": [
    "import tensorflow as tf\n",
    "\n",
    "with tf.Session() as sess:\n",
    "    # Giai đoạn 1: xây dựng đồ thị tính toán\n",
    "    a = tf.constant(15, name=\"a\")\n",
    "    b = tf.constant(5, name=\"b\")\n",
    "    prod = tf.multiply(a, b, name=\"Multiply\")\n",
    "    sum = tf.add(a, b, name=\"Add\")\n",
    "    res = tf.divide(prod, sum, name=\"Divide\")\n",
    "    \n",
    "    # Giai đoạn hai: thực thi session\n",
    "    out = sess.run(res)\n",
    "    print(out)\n",
    "    sess.close()"
   ]
  },
  {
   "cell_type": "markdown",
   "metadata": {
    "colab_type": "text",
    "id": "dGvJ6rHUWNoC"
   },
   "source": [
    "Ở đâu chúng ta đã dùng tensorflow để cài đặt lại đoạn chương trình ở đầu bài, chúng ta chia ra làm hai giai đoạn là Graph và Session như đã bàn ở trên.\n",
    "![Ví dụ về đồ thị tính toán](images/bai20/comgraph.png)"
   ]
  },
  {
   "cell_type": "markdown",
   "metadata": {
    "colab_type": "text",
    "id": "TjC2lDeYWNoD"
   },
   "source": [
    "## 3. Hướng dẫn cài đặt TensorFlow"
   ]
  },
  {
   "cell_type": "markdown",
   "metadata": {
    "colab_type": "text",
    "id": "qWCfX3bYWNoE"
   },
   "source": [
    "Hiện tại TensorFlow có hai version là $1.x$ và $2.0$. Chúng ta sẽ cùng tìm hiểu các cài đặt TF 2.0, việc cài đặt các version khác cũng tương tự như vậy.\n",
    "\n",
    "![TensorFlow 1.0 and 2.0](images/bai20/tf1and2.png)"
   ]
  },
  {
   "cell_type": "markdown",
   "metadata": {
    "colab_type": "text",
    "id": "yERSpKQMWNoF"
   },
   "source": [
    "#### Bước 1: Cài đặt Anaconda.\n",
    "Tham khảo cách cài đặt theo hệ điều hành mà máy tính đang dùng:\n",
    "- Ubuntu: [How to Install Anaconda on Ubuntu 18.04\n",
    "](https://linuxize.com/post/how-to-install-anaconda-on-ubuntu-18-04/)\n",
    "- Windows: [Installing Anaconda on Windows\n",
    "](https://problemsolvingwithpython.com/01-Orientation/01.03-Installing-Anaconda-on-Windows/)"
   ]
  },
  {
   "cell_type": "markdown",
   "metadata": {
    "colab_type": "text",
    "id": "-kD5CujfWNoG"
   },
   "source": [
    "#### Bước 2: Upgrade pip\n",
    "\n",
    "Vào Command line(trên Windows) hoặc Terminal(trên Ubuntu) gõ lệnh:\n",
    "```\n",
    "pip install --upgrade pip\n",
    "```"
   ]
  },
  {
   "cell_type": "markdown",
   "metadata": {
    "colab_type": "text",
    "id": "YnFrR3XfWNoH"
   },
   "source": [
    "#### Bước 3: Tạo môi trường ảo\n",
    "\n",
    "Tiếp tục gõ các lệnh sau:\n",
    "```\n",
    "conda create -n tf_env python==3.7.5\n",
    "conda activate tf_env\n",
    "conda update --all\n",
    "```"
   ]
  },
  {
   "cell_type": "markdown",
   "metadata": {
    "colab_type": "text",
    "id": "OniPrC5OWNoI"
   },
   "source": [
    "#### Bước 4: Tải và cài đặt TensorFlow"
   ]
  },
  {
   "cell_type": "markdown",
   "metadata": {
    "colab_type": "text",
    "id": "vvA38TN4WNoJ"
   },
   "source": [
    "Có hai loại TensorFlow packages, một là TensorFlow chạy trên CPU, hai là TensorFlow chạy trên GPU. Tùy vào máy tính mà cài đặt packages phù hợp bằng một trong hai lệnh sau:\n",
    "```\n",
    "pip install tensorflow\n",
    "```\n",
    "hoặc là:\n",
    "```\n",
    "pip install tensorflow-gpu\n",
    "```"
   ]
  },
  {
   "cell_type": "markdown",
   "metadata": {
    "colab_type": "text",
    "id": "LZOeVwgLWNoK"
   },
   "source": [
    "Sau khi quá trình tải và cài đặt các packages diễn ra hoàn tất, chúng ta có thể bắt đầu xây dựng các mạng neuron, các thuật toán máy học dựa bằng tensorflow.\n",
    "\n",
    "*Một điều cần lưu ý, **version của Python trong môi trường đang làm việc sẽ quyết định xem bạn có thể cài đặt được TensorFlow version nào**.* "
   ]
  },
  {
   "cell_type": "markdown",
   "metadata": {
    "colab_type": "text",
    "id": "-K3UGxbbWNoL"
   },
   "source": [
    "## 3. Ví dụ đầu tiên"
   ]
  },
  {
   "cell_type": "markdown",
   "metadata": {
    "colab_type": "text",
    "id": "BAIPsm1GWNoM"
   },
   "source": [
    "Trong phần này, chúng ta sẽ **dùng TensorFlow để xâu dựng một mô hình Machine Learning thực sự, cụ thể là trên tập dữ liệu [MNIST](https://www.tensorflow.org/datasets/catalog/mnist), chúng ta sẽ đi huấn luyện một mô hình có khả năng nhận dạng chữ viết tay**. Trước hết, chúng ta hãy xem qua flow làm việc trong Machine Learning.\n",
    "\n",
    "![Flow working in Machine Learning](images/bai20/flowml.png)"
   ]
  },
  {
   "cell_type": "markdown",
   "metadata": {
    "colab_type": "text",
    "id": "BJtzALAkWNoN"
   },
   "source": [
    "### Import các thư viện cần thiết"
   ]
  },
  {
   "cell_type": "code",
   "execution_count": 3,
   "metadata": {
    "colab": {
     "base_uri": "https://localhost:8080/",
     "height": 63
    },
    "colab_type": "code",
    "executionInfo": {
     "elapsed": 3460,
     "status": "ok",
     "timestamp": 1576342808552,
     "user": {
      "displayName": "Tien Nguyen Van",
      "photoUrl": "",
      "userId": "00501859579560902113"
     },
     "user_tz": -420
    },
    "id": "z2CsknZgWNoO",
    "outputId": "80419cfb-4a65-4d22-8e09-c37ed19d1a50"
   },
   "outputs": [],
   "source": [
    "from __future__ import absolute_import, division, print_function, unicode_literals\n",
    "import os\n",
    "\n",
    "import tensorflow as tf\n",
    "\n",
    "# Thư viện/ công cụ dùng để visualize(trực quan hóa) dữ liệu\n",
    "import matplotlib.pyplot as plt"
   ]
  },
  {
   "cell_type": "markdown",
   "metadata": {
    "colab_type": "text",
    "id": "siR2qzDZWNoR"
   },
   "source": [
    "### Load dữ liệu vào chương trình"
   ]
  },
  {
   "cell_type": "code",
   "execution_count": 4,
   "metadata": {
    "colab": {
     "base_uri": "https://localhost:8080/",
     "height": 51
    },
    "colab_type": "code",
    "executionInfo": {
     "elapsed": 1845,
     "status": "ok",
     "timestamp": 1576342822778,
     "user": {
      "displayName": "Tien Nguyen Van",
      "photoUrl": "",
      "userId": "00501859579560902113"
     },
     "user_tz": -420
    },
    "id": "1e27HO6dWNoS",
    "outputId": "5c751f0b-faee-4233-b17d-18bb51a54e52"
   },
   "outputs": [],
   "source": [
    "mnist = tf.keras.datasets.mnist\n",
    "\n",
    "(x_train, y_train), (x_test, y_test) = mnist.load_data()\n",
    "x_train, x_test = x_train / 255.0, x_test /255"
   ]
  },
  {
   "cell_type": "code",
   "execution_count": 5,
   "metadata": {
    "colab": {},
    "colab_type": "code",
    "id": "rdCvvEsQWNoV"
   },
   "outputs": [
    {
     "data": {
      "image/png": "[encoded data removed]",
      "text/plain": [
       "<Figure size 432x288 with 1 Axes>"
      ]
     },
     "metadata": {
      "needs_background": "light"
     },
     "output_type": "display_data"
    },
    {
     "data": {
      "image/png": "[encoded data removed]",
      "text/plain": [
       "<Figure size 432x288 with 1 Axes>"
      ]
     },
     "metadata": {
      "needs_background": "light"
     },
     "output_type": "display_data"
    },
    {
     "data": {
      "image/png": "[encoded data removed]",
      "text/plain": [
       "<Figure size 432x288 with 1 Axes>"
      ]
     },
     "metadata": {
      "needs_background": "light"
     },
     "output_type": "display_data"
    }
   ],
   "source": [
    "# Xem thử 3 training datapoint đầu tiên.\n",
    "for image in x_train[:3]:\n",
    "    plt.figure()\n",
    "    plt.imshow(image)"
   ]
  },
  {
   "cell_type": "markdown",
   "metadata": {
    "colab_type": "text",
    "id": "Lnfq-03mWNoZ"
   },
   "source": [
    "### Bắt đầu xâu dựng mạng sử dụng Keras Sequential API"
   ]
  },
  {
   "cell_type": "markdown",
   "metadata": {
    "colab_type": "text",
    "id": "ujnlBXccWNoa"
   },
   "source": [
    "Chúng ta cùng nhìn lại các kiến trúc mạng để ANNs, sau đó đi vào code sẽ dễ dàng hơn, chúng ta sẽ dùng TensorFlow thêm lần lượt các Layer từ lower-level layer liên tiếp nhau,... cho đến tầng output của mạng.\n",
    "\n"
   ]
  },
  {
   "cell_type": "code",
   "execution_count": 6,
   "metadata": {
    "colab": {},
    "colab_type": "code",
    "id": "CKRdl5mhWNod"
   },
   "outputs": [
    {
     "name": "stderr",
     "output_type": "stream",
     "text": [
      "WARNING: Logging before flag parsing goes to stderr.\n",
      "W1215 15:07:17.295490  9868 deprecation.py:506] From C:\\Users\\PC\\Anaconda3\\envs\\OpenCV_env\\lib\\site-packages\\tensorflow_core\\python\\ops\\resource_variable_ops.py:1630: calling BaseResourceVariable.__init__ (from tensorflow.python.ops.resource_variable_ops) with constraint is deprecated and will be removed in a future version.\n",
      "Instructions for updating:\n",
      "If using Keras pass *_constraint arguments to layers.\n"
     ]
    }
   ],
   "source": [
    "model = tf.keras.models.Sequential([\n",
    "    tf.keras.layers.Flatten(input_shape=(28, 28)),\n",
    "    tf.keras.layers.Dense(128, activation='relu'),\n",
    "    tf.keras.layers.Dropout(0.2),\n",
    "    tf.keras.layers.Dense(10, activation='softmax'),\n",
    "    \n",
    "])\n",
    "\n",
    "model.compile(optimizer='adam',\n",
    "             loss='sparse_categorical_crossentropy',\n",
    "             metrics=['accuracy'])"
   ]
  },
  {
   "cell_type": "code",
   "execution_count": 7,
   "metadata": {
    "colab": {},
    "colab_type": "code",
    "id": "4JTy30_SWNog",
    "scrolled": true
   },
   "outputs": [
    {
     "name": "stdout",
     "output_type": "stream",
     "text": [
      "Train on 60000 samples\n",
      "Epoch 1/5\n",
      "60000/60000 [==============================] - 4s 66us/sample - loss: 0.2918 - acc: 0.9145\n",
      "Epoch 2/5\n",
      "60000/60000 [==============================] - 4s 61us/sample - loss: 0.1395 - acc: 0.9572\n",
      "Epoch 3/5\n",
      "60000/60000 [==============================] - 4s 64us/sample - loss: 0.1087 - acc: 0.9666\n",
      "Epoch 4/5\n",
      "60000/60000 [==============================] - 4s 64us/sample - loss: 0.0896 - acc: 0.9723\n",
      "Epoch 5/5\n",
      "60000/60000 [==============================] - 4s 61us/sample - loss: 0.0770 - acc: 0.9761\n"
     ]
    },
    {
     "data": {
      "text/plain": [
       "<tensorflow.python.keras.callbacks.History at 0x26e15ed9688>"
      ]
     },
     "execution_count": 7,
     "metadata": {},
     "output_type": "execute_result"
    }
   ],
   "source": [
    "model.fit(x_train, y_train, epochs = 5)"
   ]
  },
  {
   "cell_type": "markdown",
   "metadata": {
    "colab_type": "text",
    "id": "VX3wTtNDWNoj"
   },
   "source": [
    "### Kiểm thử"
   ]
  },
  {
   "cell_type": "code",
   "execution_count": 8,
   "metadata": {
    "colab": {},
    "colab_type": "code",
    "id": "r1Dv_A02WNok"
   },
   "outputs": [
    {
     "name": "stdout",
     "output_type": "stream",
     "text": [
      "10000/10000 [==============================] - 0s 34us/sample - loss: 0.0758 - acc: 0.9766\n",
      "\n",
      "Test accuracy: 0.9766\n"
     ]
    }
   ],
   "source": [
    "test_loss, test_acc = model.evaluate(x_test, y_test)\n",
    "\n",
    "print('\\nTest accuracy:', test_acc)"
   ]
  },
  {
   "cell_type": "markdown",
   "metadata": {
    "colab_type": "text",
    "id": "wTULvce5WNop"
   },
   "source": [
    "## 4. Cài đặt CNNs bằng TensorFlow"
   ]
  },
  {
   "cell_type": "markdown",
   "metadata": {
    "colab_type": "text",
    "id": "Aet-EZ4bWNor"
   },
   "source": [
    "Bây giờ chúng ta cũng đã có một nền tảng cơ bản về cách thức xây dựng một pipeline cho quá trình end-to-end Machine Learning. Trong phần này chúng ta sẽ implement thêm một kiến trúc mạng rất phổ biến trong thị giác máy tính, được xem là xương sống(backbone) của các kiến trúc mạng hiện nay, đó là [CNN](http://cs231n.github.io/convolutional-networks/).\n",
    "\n",
    "Tập dữ liệu mà chúng ta sử dụng là [CIFAR dataset](https://www.cs.toronto.edu/~kriz/cifar.html) với 10 class. Nhiệm vụ là xây dựng mô hình có thể dự đoán được bên trong một tấm ảnh bất kì chứa đối tượng thuộc về class nào mà đã được huấn luyên.\n"
   ]
  },
  {
   "cell_type": "markdown",
   "metadata": {},
   "source": [
    "### Import thư viện"
   ]
  },
  {
   "cell_type": "code",
   "execution_count": 9,
   "metadata": {},
   "outputs": [],
   "source": [
    "from __future__ import absolute_import, division, print_function, unicode_literals\n",
    "\n",
    "import tensorflow as tf\n",
    "\n",
    "from tensorflow.keras import datasets, layers, models\n",
    "import matplotlib.pyplot as plt"
   ]
  },
  {
   "cell_type": "markdown",
   "metadata": {},
   "source": [
    "### Tải và chuẩn bị dữ liệu"
   ]
  },
  {
   "cell_type": "markdown",
   "metadata": {},
   "source": [
    "Tập dữ liệu CIFAR10 chứa 60000 tấm ảnh màu, mỗi ảnh chứa một đối tượng thuộc về 1 trong 10 class, như vậy ta có một class sẽ có 6000 ảnh. Chúng ta chia tập dữ liệu thành hai phần: training dataset và testing dataset với tỉ lệ là $5:1$. "
   ]
  },
  {
   "cell_type": "code",
   "execution_count": 10,
   "metadata": {},
   "outputs": [],
   "source": [
    "(train_images, train_labels), (test_images, test_labels) = datasets.cifar10.load_data()\n",
    "\n",
    "# Chuẩn hóa các giá trị pixel về ý nghĩa xác suất\n",
    "train_images, test_images = train_images / 255.0, test_images / 255.0"
   ]
  },
  {
   "cell_type": "markdown",
   "metadata": {},
   "source": [
    "### Kiểm tra dữ liệu"
   ]
  },
  {
   "cell_type": "markdown",
   "metadata": {},
   "source": [
    "Chúng ta hiển thị 25 tấm ảnh đầu tiên trong tập dữ liệu huấn luyện để xem có vấn đề gì xảy ra hay không."
   ]
  },
  {
   "cell_type": "code",
   "execution_count": 11,
   "metadata": {
    "scrolled": true
   },
   "outputs": [
    {
     "data": {
      "image/png": "[encoded data removed]",
      "text/plain": [
       "<Figure size 720x720 with 25 Axes>"
      ]
     },
     "metadata": {},
     "output_type": "display_data"
    }
   ],
   "source": [
    "class_names = ['airplane', 'automobile', 'bird', 'cat', 'deer',\n",
    "               'dog', 'frog', 'horse', 'ship', 'truck']\n",
    "\n",
    "plt.figure(figsize=(10,10))\n",
    "for i in range(25):\n",
    "    plt.subplot(5,5,i+1)\n",
    "    plt.xticks([])\n",
    "    plt.yticks([])\n",
    "    plt.grid(False)\n",
    "    plt.imshow(train_images[i], cmap=plt.cm.binary)\n",
    "    # The CIFAR labels happen to be arrays, \n",
    "    # which is why you need the extra index\n",
    "    plt.xlabel(class_names[train_labels[i][0]])\n",
    "plt.show()"
   ]
  },
  {
   "cell_type": "markdown",
   "metadata": {},
   "source": [
    "### Định nghĩa kiến trúc mạng"
   ]
  },
  {
   "cell_type": "markdown",
   "metadata": {},
   "source": [
    "Ở đây, ta sẽ chọn kiến trúc mạng như hình bên bên dưới để ánh xạ sang model được cài đặt.\n",
    "\n",
    "![CNN with CIFAR10 dataset](images/bai20/cnncifar.png)"
   ]
  },
  {
   "cell_type": "code",
   "execution_count": 12,
   "metadata": {},
   "outputs": [
    {
     "name": "stdout",
     "output_type": "stream",
     "text": [
      "Model: \"sequential_1\"\n",
      "_________________________________________________________________\n",
      "Layer (type)                 Output Shape              Param #   \n",
      "=================================================================\n",
      "conv2d (Conv2D)              (None, 30, 30, 32)        896       \n",
      "_________________________________________________________________\n",
      "max_pooling2d (MaxPooling2D) (None, 15, 15, 32)        0         \n",
      "_________________________________________________________________\n",
      "conv2d_1 (Conv2D)            (None, 13, 13, 64)        18496     \n",
      "_________________________________________________________________\n",
      "max_pooling2d_1 (MaxPooling2 (None, 6, 6, 64)          0         \n",
      "_________________________________________________________________\n",
      "conv2d_2 (Conv2D)            (None, 4, 4, 64)          36928     \n",
      "_________________________________________________________________\n",
      "flatten_1 (Flatten)          (None, 1024)              0         \n",
      "_________________________________________________________________\n",
      "dense_2 (Dense)              (None, 64)                65600     \n",
      "_________________________________________________________________\n",
      "dense_3 (Dense)              (None, 10)                650       \n",
      "=================================================================\n",
      "Total params: 122,570\n",
      "Trainable params: 122,570\n",
      "Non-trainable params: 0\n",
      "_________________________________________________________________\n"
     ]
    }
   ],
   "source": [
    "model = tf.keras.models.Sequential([\n",
    "    tf.keras.layers.Conv2D(32, (3, 3), activation='relu', input_shape=(32, 32, 3)),\n",
    "    tf.keras.layers.MaxPooling2D((2, 2)),\n",
    "    tf.keras.layers.Conv2D(64, (3, 3), activation='relu'),\n",
    "    tf.keras.layers.MaxPooling2D((2, 2)),\n",
    "    tf.keras.layers.Conv2D(64, (3, 3), activation='relu'),\n",
    "    tf.keras.layers.Flatten(),\n",
    "    tf.keras.layers.Dense(64, activation='relu'),\n",
    "    tf.keras.layers.Dense(10, activation='softmax')\n",
    "])\n",
    "\n",
    "# Tóm tắt model của chúng ta\n",
    "model.summary()"
   ]
  },
  {
   "cell_type": "markdown",
   "metadata": {},
   "source": [
    "### Compile và train model"
   ]
  },
  {
   "cell_type": "code",
   "execution_count": 13,
   "metadata": {},
   "outputs": [
    {
     "name": "stdout",
     "output_type": "stream",
     "text": [
      "Train on 50000 samples, validate on 10000 samples\n",
      "Epoch 1/10\n",
      "50000/50000 [==============================] - 53s 1ms/sample - loss: 1.5145 - acc: 0.4473 - val_loss: 1.3182 - val_acc: 0.5180\n",
      "Epoch 2/10\n",
      "50000/50000 [==============================] - 51s 1ms/sample - loss: 1.1509 - acc: 0.5911 - val_loss: 1.0507 - val_acc: 0.6310\n",
      "Epoch 3/10\n",
      "50000/50000 [==============================] - 53s 1ms/sample - loss: 1.0014 - acc: 0.6498 - val_loss: 0.9833 - val_acc: 0.6556\n",
      "Epoch 4/10\n",
      "50000/50000 [==============================] - 53s 1ms/sample - loss: 0.9070 - acc: 0.6852 - val_loss: 0.9416 - val_acc: 0.6732\n",
      "Epoch 5/10\n",
      "50000/50000 [==============================] - 50s 991us/sample - loss: 0.8320 - acc: 0.7090 - val_loss: 1.0338 - val_acc: 0.6360\n",
      "Epoch 6/10\n",
      "50000/50000 [==============================] - 54s 1ms/sample - loss: 0.7775 - acc: 0.7275 - val_loss: 0.8971 - val_acc: 0.6896\n",
      "Epoch 7/10\n",
      "50000/50000 [==============================] - 52s 1ms/sample - loss: 0.7257 - acc: 0.7466 - val_loss: 0.9017 - val_acc: 0.6903\n",
      "Epoch 8/10\n",
      "50000/50000 [==============================] - 56s 1ms/sample - loss: 0.6822 - acc: 0.7606 - val_loss: 0.8532 - val_acc: 0.7095\n",
      "Epoch 9/10\n",
      "50000/50000 [==============================] - 53s 1ms/sample - loss: 0.6424 - acc: 0.7732 - val_loss: 0.8947 - val_acc: 0.7005\n",
      "Epoch 10/10\n",
      "50000/50000 [==============================] - 54s 1ms/sample - loss: 0.6095 - acc: 0.7849 - val_loss: 0.8934 - val_acc: 0.7082\n"
     ]
    }
   ],
   "source": [
    "# Chọn phương pháp tối ưu Adam\n",
    "# Chọn hàm mất mát là crossentropy\n",
    "# Chọn độ đo là acuuracy\n",
    "\n",
    "model.compile(optimizer='adam', \n",
    "             loss='sparse_categorical_crossentropy',\n",
    "             metrics=['accuracy'])\n",
    "\n",
    "history = model.fit(train_images, train_labels, epochs=10, validation_data=(test_images, test_labels))"
   ]
  },
  {
   "cell_type": "markdown",
   "metadata": {},
   "source": [
    "### Kiểm thử -> đánh giá model"
   ]
  },
  {
   "cell_type": "code",
   "execution_count": 14,
   "metadata": {
    "scrolled": true
   },
   "outputs": [
    {
     "name": "stdout",
     "output_type": "stream",
     "text": [
      "10000/10000 - 3s - loss: 0.8934 - acc: 0.7082\n"
     ]
    },
    {
     "data": {
      "image/png": "[encoded data removed]",
      "text/plain": [
       "<Figure size 432x288 with 1 Axes>"
      ]
     },
     "metadata": {
      "needs_background": "light"
     },
     "output_type": "display_data"
    }
   ],
   "source": [
    "plt.plot(history.history['acc'], label='Accuracy')\n",
    "plt.plot(history.history['val_acc'], label = 'Validation Accuracy')\n",
    "plt.xlabel('Epoch')\n",
    "plt.ylabel('Accuracy')\n",
    "plt.ylim([0.5, 1])\n",
    "plt.legend(loc='lower right')\n",
    "plt.savefig('images/bai20/training_cnn.png')\n",
    "test_loss, test_acc = model.evaluate(test_images,  test_labels, verbose=2)"
   ]
  },
  {
   "cell_type": "markdown",
   "metadata": {},
   "source": [
    "Như vậy, ta đã huấn luyện được một mô hình CNNs cho bài toán phân lớp đối tượng trong ảnh(Image Classification). \n",
    "\n",
    "**Chú ý: Đây chỉ là một phong cách sử dụng TensorFlow để hiện thực hóa bài toán cần giải quyết, quan trọng nhất là chúng ta phải hiểu được lý thuyết về kiến trúc mạng cũng như các kiến thức liên quan như tối ưu bằng Gradient Descent,..., độ đo cho từng bài toán,... sau đó ánh xạ chúng thành những dòng code. Sau khi đã có mô hình hoàn chỉnh và như ý, chúng ta lưu lại để sau này cần dùng thì load lên mà dùng thôi.**"
   ]
  },
  {
   "cell_type": "markdown",
   "metadata": {},
   "source": [
    "### Lưu model"
   ]
  },
  {
   "cell_type": "code",
   "execution_count": 15,
   "metadata": {},
   "outputs": [],
   "source": [
    "model.save('./images/bai20/model/cnn-model.h5')"
   ]
  },
  {
   "cell_type": "markdown",
   "metadata": {},
   "source": [
    "### Load model\n",
    "Mục đích của việc save model chính là để sau này dùng mà không cần phải train lại lần nữa, có thể chuyển tiếp cho các việc huấn luyện các mạng khác(Transfer Learning). Sau đây chúng ta sẽ load model đã được lưu với cái tên là `cnn-model.h5` đã được lưu ở trên."
   ]
  },
  {
   "cell_type": "code",
   "execution_count": 16,
   "metadata": {},
   "outputs": [
    {
     "name": "stderr",
     "output_type": "stream",
     "text": [
      "W1215 15:16:32.760895  9868 deprecation.py:506] From C:\\Users\\PC\\Anaconda3\\envs\\OpenCV_env\\lib\\site-packages\\tensorflow_core\\python\\ops\\init_ops.py:97: calling GlorotUniform.__init__ (from tensorflow.python.ops.init_ops) with dtype is deprecated and will be removed in a future version.\n",
      "Instructions for updating:\n",
      "Call initializer instance with the dtype argument instead of passing it to the constructor\n",
      "W1215 15:16:32.763888  9868 deprecation.py:506] From C:\\Users\\PC\\Anaconda3\\envs\\OpenCV_env\\lib\\site-packages\\tensorflow_core\\python\\ops\\init_ops.py:97: calling Zeros.__init__ (from tensorflow.python.ops.init_ops) with dtype is deprecated and will be removed in a future version.\n",
      "Instructions for updating:\n",
      "Call initializer instance with the dtype argument instead of passing it to the constructor\n"
     ]
    },
    {
     "name": "stdout",
     "output_type": "stream",
     "text": [
      "Model: \"sequential_1\"\n",
      "_________________________________________________________________\n",
      "Layer (type)                 Output Shape              Param #   \n",
      "=================================================================\n",
      "conv2d (Conv2D)              (None, 30, 30, 32)        896       \n",
      "_________________________________________________________________\n",
      "max_pooling2d (MaxPooling2D) (None, 15, 15, 32)        0         \n",
      "_________________________________________________________________\n",
      "conv2d_1 (Conv2D)            (None, 13, 13, 64)        18496     \n",
      "_________________________________________________________________\n",
      "max_pooling2d_1 (MaxPooling2 (None, 6, 6, 64)          0         \n",
      "_________________________________________________________________\n",
      "conv2d_2 (Conv2D)            (None, 4, 4, 64)          36928     \n",
      "_________________________________________________________________\n",
      "flatten_1 (Flatten)          (None, 1024)              0         \n",
      "_________________________________________________________________\n",
      "dense_2 (Dense)              (None, 64)                65600     \n",
      "_________________________________________________________________\n",
      "dense_3 (Dense)              (None, 10)                650       \n",
      "=================================================================\n",
      "Total params: 122,570\n",
      "Trainable params: 122,570\n",
      "Non-trainable params: 0\n",
      "_________________________________________________________________\n"
     ]
    }
   ],
   "source": [
    "new_model = tf.keras.models.load_model('./images/bai20/model/cnn-model.h5')\n",
    "new_model.summary()"
   ]
  },
  {
   "cell_type": "markdown",
   "metadata": {},
   "source": [
    "### Dùng model để đưa ra dự đoán"
   ]
  },
  {
   "cell_type": "code",
   "execution_count": null,
   "metadata": {},
   "outputs": [],
   "source": []
  },
  {
   "cell_type": "markdown",
   "metadata": {
    "colab_type": "text",
    "id": "KionqPzNWNpX"
   },
   "source": [
    "## 5. Kĩ thuật đặt checkpoint trong quá trình huấn luyện"
   ]
  },
  {
   "cell_type": "markdown",
   "metadata": {},
   "source": [
    "### Tại sao cần ckeckpoint ?"
   ]
  },
  {
   "cell_type": "markdown",
   "metadata": {},
   "source": [
    "Quá trình huấn luyện mô hình là việc cập nhật dần các trọng số của mạng sao cho hàm mất mát có giá trị càng nhỏ càng tốt. Vì vậy, chúng nếu mỗi lần cập nhật toàn bộ tham số cho mạng, thì ta lại bỏ mất đi bộ tham số trước đó, kết quả là ta chỉ lưu trữ lại được model với bộ tham số là lần cập nhật cuối cùng. \n",
    "\n",
    "Có một điều cần nhớ là không phải model cuối cùng là model tốt nhất, thậm chí ở bài toán bên trên trong quá trình huấn luyện mạng CNN trên tập dữ liệu CIFAR10, ta thấy rõ ràng ở epoch thứ 8 thì model của chúng ta đạt performance tốt nhất, tuy nhiên ta chỉ lưu được model ở lần cập nhật sau cùng là epoch thứ 10. \n",
    "\n",
    "![CNN model training](images/bai20/training_cnn.png)\n",
    "\n",
    "Một điều hữu ích nữa đó là rất có thể trong quá trình huấn luyện, chúng ta gặp sự cố làm cho chương trình gián đoạn, nếu có thể lưu giữ trọng số thì có thể dùng nó để tiếp tục huấn luyện mô hình với thời gian ít hơn. Vì vậy lưu giữ lại giá trị của bộ tham số trong mỗi lần cập nhật là điều cần thiết. \n",
    "\n",
    "**`tf.keras.callbacks.ModelCheckpoint`** cho phép chúng ta lưu trữ liên tiếp trọng số của mô hình trong suốt quá trình huấn luyện và trọng số cuối cùng của mô hình huấn luyện."
   ]
  },
  {
   "cell_type": "markdown",
   "metadata": {},
   "source": [
    "### Sử dụng `tf.keras.callbacks.ModelCheckpoint`"
   ]
  },
  {
   "cell_type": "code",
   "execution_count": 17,
   "metadata": {
    "scrolled": true
   },
   "outputs": [
    {
     "name": "stderr",
     "output_type": "stream",
     "text": [
      "W1215 15:16:33.534479  9868 callbacks.py:864] `period` argument is deprecated. Please use `save_freq` to specify the frequency in number of samples seen.\n"
     ]
    },
    {
     "name": "stdout",
     "output_type": "stream",
     "text": [
      "Train on 50000 samples, validate on 10000 samples\n",
      "Epoch 1/8\n",
      "49952/50000 [============================>.] - ETA: 0s - loss: 0.5735 - acc: 0.7990\n",
      "Epoch 00001: saving model to images/bai20/trainingcnn/cp-0001.ckpt\n",
      "50000/50000 [==============================] - 53s 1ms/sample - loss: 0.5734 - acc: 0.7990 - val_loss: 0.9773 - val_acc: 0.6883\n",
      "Epoch 2/8\n",
      "49952/50000 [============================>.] - ETA: 0s - loss: 0.5399 - acc: 0.8087\n",
      "Epoch 00002: saving model to images/bai20/trainingcnn/cp-0002.ckpt\n",
      "50000/50000 [==============================] - 55s 1ms/sample - loss: 0.5399 - acc: 0.8087 - val_loss: 0.9009 - val_acc: 0.7083\n",
      "Epoch 3/8\n",
      "49952/50000 [============================>.] - ETA: 0s - loss: 0.5113 - acc: 0.8200\n",
      "Epoch 00003: saving model to images/bai20/trainingcnn/cp-0003.ckpt\n",
      "50000/50000 [==============================] - 54s 1ms/sample - loss: 0.5114 - acc: 0.8199 - val_loss: 0.9139 - val_acc: 0.7065\n",
      "Epoch 4/8\n",
      "49952/50000 [============================>.] - ETA: 0s - loss: 0.4836 - acc: 0.8278\n",
      "Epoch 00004: saving model to images/bai20/trainingcnn/cp-0004.ckpt\n",
      "50000/50000 [==============================] - 55s 1ms/sample - loss: 0.4839 - acc: 0.8276 - val_loss: 0.9669 - val_acc: 0.7080\n",
      "Epoch 5/8\n",
      "49952/50000 [============================>.] - ETA: 0s - loss: 0.4531 - acc: 0.8397\n",
      "Epoch 00005: saving model to images/bai20/trainingcnn/cp-0005.ckpt\n",
      "50000/50000 [==============================] - 55s 1ms/sample - loss: 0.4532 - acc: 0.8396 - val_loss: 1.0110 - val_acc: 0.7046\n",
      "Epoch 6/8\n",
      "49952/50000 [============================>.] - ETA: 0s - loss: 0.4316 - acc: 0.8472\n",
      "Epoch 00006: saving model to images/bai20/trainingcnn/cp-0006.ckpt\n",
      "50000/50000 [==============================] - 55s 1ms/sample - loss: 0.4318 - acc: 0.8471 - val_loss: 0.9925 - val_acc: 0.7040\n",
      "Epoch 7/8\n",
      "49984/50000 [============================>.] - ETA: 0s - loss: 0.4061 - acc: 0.8565\n",
      "Epoch 00007: saving model to images/bai20/trainingcnn/cp-0007.ckpt\n",
      "50000/50000 [==============================] - 53s 1ms/sample - loss: 0.4061 - acc: 0.8565 - val_loss: 1.0780 - val_acc: 0.6990\n",
      "Epoch 8/8\n",
      "49984/50000 [============================>.] - ETA: 0s - loss: 0.3814 - acc: 0.8640\n",
      "Epoch 00008: saving model to images/bai20/trainingcnn/cp-0008.ckpt\n",
      "50000/50000 [==============================] - 57s 1ms/sample - loss: 0.3815 - acc: 0.8639 - val_loss: 1.0431 - val_acc: 0.7035\n"
     ]
    },
    {
     "data": {
      "text/plain": [
       "<tensorflow.python.keras.callbacks.History at 0x26e16fded48>"
      ]
     },
     "execution_count": 17,
     "metadata": {},
     "output_type": "execute_result"
    }
   ],
   "source": [
    "checkpoint_path = \"images/bai20/trainingcnn/cp-{epoch:04d}.ckpt\"\n",
    "checkpoint_dir = os.path.dirname(checkpoint_path)\n",
    "\n",
    "times_saving = 1 # Sau bao nhiêu epoch thì ta save mô hình một lần.\n",
    "cp_callback = tf.keras.callbacks.ModelCheckpoint(\n",
    "    filepath=checkpoint_path, \n",
    "    verbose=1, \n",
    "    save_weights_only=True,\n",
    "    period=times_saving) \n",
    "\n",
    "model.fit(train_images, \n",
    "          train_labels,  \n",
    "          epochs=8,\n",
    "          validation_data=(test_images,test_labels),\n",
    "          callbacks=[cp_callback])"
   ]
  },
  {
   "cell_type": "markdown",
   "metadata": {},
   "source": [
    "Quá trình huấn luyện kết thúc, vào trong folder ta sẽ thấy được các model từ $1$ đến $8$ được lưu trong thư mục như hình dưới đây:\n",
    "\n",
    "![Concentrate](images/bai20/ccheckpoint.png)"
   ]
  },
  {
   "cell_type": "markdown",
   "metadata": {},
   "source": [
    "**Các file này có nghĩa là gì ?**\n",
    "- File có tên dạng **`cp-000x.ckpt.index`** là file...\n",
    "\n",
    "- File có tên dạng **`cp-000x.ckpt.data-00001-of-00002`** là...\n",
    "\n",
    "- File có tên dạng **`cp.000x.ckpt.data-00000-of-00002`** là .....\n",
    "\n",
    "- File có tên **`checkpoint`** là file\n"
   ]
  },
  {
   "cell_type": "markdown",
   "metadata": {},
   "source": [
    "### Load model có checkpoint"
   ]
  },
  {
   "cell_type": "markdown",
   "metadata": {},
   "source": [
    "Chúng ta có thể load một trong các model đã lưu để sử dụng, có thể là model đầu tiên, cũng có thể là model sau cùng, hoặc các model ở giữa. Dưới đây, chúng ta sẽ load model được lưu lại ở epoch thứ 3."
   ]
  },
  {
   "cell_type": "code",
   "execution_count": null,
   "metadata": {},
   "outputs": [],
   "source": [
    "path = 'images/bai20/trainingcnn/'\n",
    "new_model =  tf.keras.models.load_model(path)\n",
    "\n",
    "new_model.summary()"
   ]
  },
  {
   "cell_type": "markdown",
   "metadata": {},
   "source": [
    "## 7. Kết luận"
   ]
  },
  {
   "cell_type": "markdown",
   "metadata": {},
   "source": [
    "Trong phần này, chúng ta đã tìm hiểu sơ lược về Framework được dùng nhiều nhất trong Machine Learning, đó là TensorFlow. TensorFlow giúp cho chúng ta dễ dàng cài đặt các thuật toán trong Deep Learning end-to-end, mô tả lại flow làm việc của Machine Leanring từ lúc bất đầu nhập dữ liệu cho đến lúc có được model dùng trong thực tế. Nếu có hứng thú với việc cài đặt xem quá trình huấn luyện như thế nào đặc biệt là với lập trình viên thì framework TensorFlow là điều căn bản nhất."
   ]
  }
 ],
 "metadata": {
  "colab": {
   "name": "Bài 20. Hướng dẫn Tensorflow.ipynb",
   "provenance": [],
   "toc_visible": true
  },
  "kernelspec": {
   "display_name": "Python 3",
   "language": "python",
   "name": "python3"
  },
  "language_info": {
   "codemirror_mode": {
    "name": "ipython",
    "version": 3
   },
   "file_extension": ".py",
   "mimetype": "text/x-python",
   "name": "python",
   "nbconvert_exporter": "python",
   "pygments_lexer": "ipython3",
   "version": "3.7.5"
  },
  "latex_envs": {
   "LaTeX_envs_menu_present": true,
   "autoclose": false,
   "autocomplete": true,
   "bibliofile": "biblio.bib",
   "cite_by": "apalike",
   "current_citInitial": 1,
   "eqLabelWithNumbers": true,
   "eqNumInitial": 1,
   "hotkeys": {
    "equation": "Ctrl-E",
    "itemize": "Ctrl-I"
   },
   "labels_anchors": false,
   "latex_user_defs": false,
   "report_style_numbering": false,
   "user_envs_cfg": false
  },
  "toc": {
   "base_numbering": 1,
   "nav_menu": {},
   "number_sections": false,
   "sideBar": true,
   "skip_h1_title": true,
   "title_cell": "Table of Contents",
   "title_sidebar": "Contents",
   "toc_cell": false,
   "toc_position": {
    "height": "calc(100% - 180px)",
    "left": "10px",
    "top": "150px",
    "width": "165px"
   },
   "toc_section_display": true,
   "toc_window_display": true
  }
 },
 "nbformat": 4,
 "nbformat_minor": 1
}
