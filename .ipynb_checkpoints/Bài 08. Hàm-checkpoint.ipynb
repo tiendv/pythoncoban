{
 "cells": [
  {
   "cell_type": "markdown",
   "metadata": {},
   "source": [
    "# Bài 08. Hàm"
   ]
  },
  {
   "cell_type": "markdown",
   "metadata": {},
   "source": [
    "*Hàm hay lập trình hàm sẽ không xa lạ với chúng ta nữa nếu chúng ta đọc xong bài viết này.*\n",
    "\n",
    "Trước khi đến với lập trình hàm, chúng ta hoàn toàn lập trình một cách `từ trên xuống`, chúng ta xử lý chương trình tuần tự, dòng này thực thi rồi đến dòng kế tiếp.\n",
    "\n",
    "**Tuy nhiên cách lập trình này có các khuyết điểm rất lớn**:\n",
    "- Thứ nhất, nếu bạn muốn lặp đi lập lại một nhiệm vụ(task) nào đó thì phải code lại đoạn code đó bấy nhiêu lần tương ứng. Ví dụ, bạn muốn kiểm tra 10 số nguyên mà bạn nhập vào có là số nguyên tố hay không. Khi đó, bạn phải viết 10 lần đoạn chương trình kiểm tra số nguyên tố ?\n",
    "- Thứ 2 đó việc khó sửa chữa và bảo trì: khi chương trình ngày càng lớn, việc bảo trì code hay nâng cấp, fix các lỗi là điều dĩ nhiên, nhưng do chúng ta lập trình một cách `từ trên xuống` nên sai ở chỗ này, thay đổi ở chỗ này có thể tác động, ảnh hưởng đến các đoạn chương trình bên dưới.\n",
    "- Khi bạn viết một đoạn chương trình nhỏ thực hiện một tác vụ cho một chương trình lớn, mong muốn có thể dùng nó lại cho chương trình khác thì làm sao ? Chúng ta lại phải bắt đầu viết lại đoạn chương trình đó lại một lần nữa !!"
   ]
  },
  {
   "cell_type": "markdown",
   "metadata": {},
   "source": [
    "Các bất lợi trong việc lập trình hướng đơn thể(cách lập trình trình bày phía trên) sớm được nhận ra và được khắc phục bởi **phương pháp lập trình hàm**.\n",
    "\n",
    "![](images/chapter08/function-programming.png)\n",
    "Tư duy của **phương pháp lập trình hàm** là chúng break(chia nhỏ) chương trình của bạn thành từng phần nhỏ, mỗi phần nhỏ thực hiện một chức năng được cụ thể hóa bằng khái niệm function(hàm). Với việc break down như vậy, ta dễ dàng theo theo sát chương trình của mình trong quá trình phát triển hay chính xác hơn là chia ra để trị. Ngoài ra, một hàm sau khi viết ra không chỉ có phạm vi sử dụng trong tập tin đang chứa hàm đó mà còn có thể dùng trong nhiều mã nguồn khác bằng cách sử dụng câu lệnh **`import`**."
   ]
  },
  {
   "cell_type": "markdown",
   "metadata": {},
   "source": [
    "## Nội dung\n",
    "1. **Hàm là gì ?**\n",
    "2. **Cú pháp của hàm**.\n",
    "3. **Lời gọi hàm**.\n",
    "4. **Docstring**.\n",
    "5. **Câu lệnh `returrn`**.\n",
    "6. **Phạm vi và thời gian tồn tại của biến**.\n",
    "7. **Các loại hàm**.\n",
    "8. **Từ khóa `global`**.\n",
    "9. **Hàm lambda**.\n",
    "9. **Python modules**.\n",
    "10. Kết luận.\n",
    "\n",
    "------"
   ]
  },
  {
   "cell_type": "markdown",
   "metadata": {},
   "source": [
    "## 1. Hàm là gì ?\n",
    "\n",
    "- Hàm là một khối các chỉ thị thực hiện một tác vụ cụ thể nào đó.\n",
    "\n",
    "- Ví dụ: \n",
    "    + Hàm thực hiện tác vụ kiểm tra một số có là số nguyên tố.\n",
    "    + Hàm thực hiên tác vụ in giá trị các số lẻ trong đoạn từ 1 đến n.\n",
    "    \n",
    "- Hàm trong giải tích toán học với hàm trong lập trình có mối liên hệ chặt chẽ, chúng đều nhận giá trị input đầu vào(hoặc chẳng quan tâm) sau quá trình xử lý bên trong thân hàm với dữ liệu được cung cấp cho ra output đầu ra mà ta đang quan tâm(hoặc không cho ra gì cả).\n",
    "\n",
    "![Function in programming and math](images/bai08/what-is-function.png)"
   ]
  },
  {
   "cell_type": "markdown",
   "metadata": {},
   "source": [
    "## 2. Cú pháp của hàm"
   ]
  },
  {
   "cell_type": "markdown",
   "metadata": {},
   "source": [
    "Tùy vào ngôn ngữ khác nhau mà cách khai báo hàm của ngôn ngữ đó sẽ có các thông tin yêu cầu khác nhau. Ở đây, cú pháp định nghĩa một hàm trong Python như sau:\n",
    "\n",
    "``` python\n",
    "def name_of_function(list_parameter):\n",
    "    statement1\n",
    "    statement2\n",
    "    .........\n",
    "    \n",
    "```\n",
    "\n",
    "Ví dụ, quan hàm hàm đơn giản dưới đây:"
   ]
  },
  {
   "cell_type": "code",
   "execution_count": 1,
   "metadata": {},
   "outputs": [],
   "source": [
    "def myfunction(a, b):\n",
    "    if a > b:\n",
    "        print(a)\n",
    "    else:\n",
    "        print(b)"
   ]
  },
  {
   "cell_type": "markdown",
   "metadata": {},
   "source": [
    "Khi khai báo một hàm ta cần quan tâm các yếu tố sau đây:\n",
    "- Từ khóa *`def`* là từ khóa bắt buộc, đã là một hàm thì bắt buộc phải đặt từ khóa này ở đầu(chỉ trong python).\n",
    "- **Tên hàm**.\n",
    "- **Danh sách đối số**.\n",
    "- **Dấu hai chấm `:`**.\n",
    "- **Giá trị trả về của hàm**\n",
    "\n",
    "Ở ví dụ trên, ta biết được các thông tin cơ bản về hàm(nó là hàm vì nó key word `def`) này như sau:\n",
    "- Tên hàm là `myfunction`.\n",
    "- Hàm này nhận đầu vào gồm 2 đối số là `a, b`.\n",
    "- Hàm này thực hiện chức năng là cho ra giá trị lớn nhất trong 2 giá trị đầu vào là a và b.\n",
    "- Hàm này không có giá trị trả về hay nói cách khác giá trị trả về của hàm `None`."
   ]
  },
  {
   "cell_type": "markdown",
   "metadata": {},
   "source": [
    "## 3. Lời gọi hàm"
   ]
  },
  {
   "cell_type": "markdown",
   "metadata": {},
   "source": [
    "*Làm sao để dùng hàm mà mình vừa định nghĩa ??*\n",
    "\n",
    "Để dùng hàm mà chúng ta định nghĩa thì ta phải gọi nó hay nói cách khác là thực hiện lời gọi hàm.\n",
    "Quan sát ví dụ sau đây:"
   ]
  },
  {
   "cell_type": "code",
   "execution_count": 2,
   "metadata": {},
   "outputs": [
    {
     "name": "stdout",
     "output_type": "stream",
     "text": [
      "10\n",
      "11\n",
      "11\n"
     ]
    }
   ],
   "source": [
    "c = int(input())\n",
    "d = int(input())\n",
    "myfunction(c, d)"
   ]
  },
  {
   "cell_type": "markdown",
   "metadata": {},
   "source": [
    "**Hàm `myfunction()` được gọi thực hiện với 2 đối số là c và d**. Hàm này thực hiện tác vụ so sánh hai số rồi in ra giá trị của số lớn hơn như ta đã định nghĩa ở trên. \n",
    "\n",
    "Đây là một hàm đơn giản khi ta không chỉ ra giá trị trả về cho hàm, chỉ đơn giản thực hiện tác vụ so sánh và in ra số lớn hơn."
   ]
  },
  {
   "cell_type": "markdown",
   "metadata": {},
   "source": [
    "Thông thường ta dùng hai tham số được đặt tên là `*args` và `**kwargs` để passing(truyền) vào định nghĩa hàm cũng như lời gọi hàm."
   ]
  },
  {
   "cell_type": "code",
   "execution_count": 3,
   "metadata": {},
   "outputs": [
    {
     "name": "stdout",
     "output_type": "stream",
     "text": [
      "Nguyễn Tiến 2000 \n",
      "\n",
      "Đỗ Tiến \n",
      "\n"
     ]
    }
   ],
   "source": [
    "def myfunction(*args):\n",
    "    for i in args:\n",
    "        print(i, end = \" \")\n",
    "    print(\"\\n\") \n",
    "\n",
    "myfunction(\"Nguyễn\", \"Tiến\", 2000)\n",
    "myfunction(\"Đỗ\", \"Tiến\")"
   ]
  },
  {
   "cell_type": "code",
   "execution_count": 4,
   "metadata": {},
   "outputs": [
    {
     "name": "stdout",
     "output_type": "stream",
     "text": [
      "Key: first, Value: 100\n",
      "Key: second, Value: UIT\n",
      "Key: three, Value: True\n"
     ]
    }
   ],
   "source": [
    "def myfunction1(**kwargs):\n",
    "    for key, value in kwargs.items():\n",
    "        print(f\"Key: {key}, Value: {value}\")\n",
    "\n",
    "mydict  = {\"first\":100 , \"second\":\"UIT\", \"three\":True}\n",
    "myfunction1(**mydict)"
   ]
  },
  {
   "cell_type": "markdown",
   "metadata": {},
   "source": [
    "Kết hợp cả `*args` và `**kwargs`:"
   ]
  },
  {
   "cell_type": "code",
   "execution_count": 5,
   "metadata": {},
   "outputs": [
    {
     "name": "stdout",
     "output_type": "stream",
     "text": [
      "arg1: Geeks\n",
      "arg2: for\n",
      "arg3: Geeks\n",
      "arg1: Geeks\n",
      "arg2: for\n",
      "arg3: Geeks\n"
     ]
    }
   ],
   "source": [
    "def myFun(arg1, arg2, arg3): \n",
    "    print(\"arg1:\", arg1) \n",
    "    print(\"arg2:\", arg2) \n",
    "    print(\"arg3:\", arg3) \n",
    "      \n",
    "# Now we can use *args or **kwargs to \n",
    "# pass arguments to this function :  \n",
    "args = (\"Geeks\", \"for\", \"Geeks\") \n",
    "myFun(*args) \n",
    "  \n",
    "kwargs = {\"arg1\" : \"Geeks\", \"arg2\" : \"for\", \"arg3\" : \"Geeks\"} \n",
    "myFun(**kwargs) "
   ]
  },
  {
   "cell_type": "markdown",
   "metadata": {},
   "source": [
    "## 4. Docstring"
   ]
  },
  {
   "cell_type": "markdown",
   "metadata": {},
   "source": [
    "Dostring là một tập hợp các commend được viết ở phần đầu của một hàm nhằm giúp cho người đọc chương trình biết được các thông về hàm đó.\n",
    "\n",
    "Cú pháp:\n",
    "```python\n",
    "def name_function(list_of_parameter):\n",
    "    \"\"\"\n",
    "    # Đây là một tài liệu tóm tắt thông tin hàm này.\n",
    "    \"\"\"\n",
    "    statement1\n",
    "    ..........\n",
    "```\n",
    "\n",
    "**Docstring rất hiệu quả vì người sử dụng mã nguồn chỉ cần đọc phần tóm tắt này để biết cách dùng cho đúng và hiểu nhanh chóng hàm này hoạt động ra sau, cần truyền danh sách đối số như thế nào, giá trị trả về của hàm này là gì, ...**\n",
    "\n",
    "Xem ví dụ dưới đây:"
   ]
  },
  {
   "cell_type": "code",
   "execution_count": 6,
   "metadata": {},
   "outputs": [],
   "source": [
    "def check_prime_number(n):\n",
    "    \"\"\"\n",
    "    # Day: 17/11/2019\n",
    "    # Author: TienN\n",
    "    # Summary: This function aim to check the integer whether number is prime number or not\n",
    "    # Parameters: n (int) is integer number we want to check\n",
    "    # Return values: True or False, True if n is prime number, otherwise is False. \n",
    "    \"\"\"\n",
    "    if n <= 1:\n",
    "        return False\n",
    "    if n == 2:\n",
    "        return True\n",
    "    for i in range(3, int(math.sqrt(n)+0.5)):\n",
    "        if i*i == n:\n",
    "            return False\n",
    "    return True"
   ]
  },
  {
   "cell_type": "markdown",
   "metadata": {},
   "source": [
    "Rõ ràng chúng ta có thể thấy được tóm tắt nội dung của hàm này, từ đó sử dụng dễ dàng hơn. Kiểu chú thích như vầy đều có trong các ngôn ngữ lập trình.\n",
    "\n",
    "Khi bạn sử dụng hàm mà không biết nó dùng để làm gì hay là không biết sử dụng đối số như nào thì có thể check nó bằng việc sử dụng hàm `help()`."
   ]
  },
  {
   "cell_type": "code",
   "execution_count": 7,
   "metadata": {},
   "outputs": [
    {
     "name": "stdout",
     "output_type": "stream",
     "text": [
      "Help on function check_prime_number in module __main__:\n",
      "\n",
      "check_prime_number(n)\n",
      "    # Day: 17/11/2019\n",
      "    # Author: TienN\n",
      "    # Summary: This function aim to check the integer whether number is prime number or not\n",
      "    # Parameters: n (int) is integer number we want to check\n",
      "    # Return values: True or False, True if n is prime number, otherwise is False.\n",
      "\n"
     ]
    }
   ],
   "source": [
    "help(check_prime_number)"
   ]
  },
  {
   "cell_type": "code",
   "execution_count": 8,
   "metadata": {},
   "outputs": [
    {
     "name": "stdout",
     "output_type": "stream",
     "text": [
      "Help on built-in function sqrt in module math:\n",
      "\n",
      "sqrt(x, /)\n",
      "    Return the square root of x.\n",
      "\n"
     ]
    }
   ],
   "source": [
    "import math\n",
    "help(math.sqrt)"
   ]
  },
  {
   "cell_type": "markdown",
   "metadata": {},
   "source": [
    "## 5. Câu lệnh `return`"
   ]
  },
  {
   "cell_type": "markdown",
   "metadata": {},
   "source": [
    "Chức năng của hàm là đảm nhận một công việc cụ thể, nhận input đầu vào và cho ra kết quả mà ta quan tâm. \n",
    "\n",
    "Để cho ra ouput, hay nói đúng hơn là trả về giá trị mà ta mong muốn từ một hàm, ta dùng câu lệnh `return` theo sau đó là giá trị mà ta mong muốn trả về.\n",
    "\n",
    "Xem lại hàm `check_prime_number`, ta có thể thấy rằng hàm này trả về giá trị là True hoặc False tương ứng với số nguyên tố hay không là số nguyên tố.\n",
    "\n",
    "Các chú ý:\n",
    "- **Khi câu lệnh `return` được gọi thực hiện**, giá trị sau `return` sẽ được gán cho một biến tạm(do cơ chế) hàm đã hoàn thành nhiệm vụ của mình nên sẽ dừng dù bên dưới(đoạn code trong thân hàm tiếp theo) còn hay không.\n",
    "- **Biến tạm** mà ta vừa lưu sẽ được đẩy về lời gọi hàm mà ta gọi ở một nơi nào đó lúc trước.\n",
    "- **Không chỉ trả về đơn giá trị, đơn kiểu dữ liệu** mà **Python trả về một list các giá trị**, mà đã là list thì các kiểu dữ liệu của các giá trị trả về có thể khác nhau hay giống nhau tùy ý."
   ]
  },
  {
   "cell_type": "code",
   "execution_count": 9,
   "metadata": {},
   "outputs": [
    {
     "name": "stdout",
     "output_type": "stream",
     "text": [
      "Yes 97 is the prime number !\n"
     ]
    }
   ],
   "source": [
    "n= 97\n",
    "# This is where we call function\n",
    "# Giá trị trả về của hàm check_prime_number được gán cho biến result\n",
    "result = check_prime_number(n)\n",
    "\n",
    "if result == True:\n",
    "    print(f\"Yes {n} is the prime number !\")\n",
    "else:\n",
    "    print(f\"No {n} is not the prime number !!\")"
   ]
  },
  {
   "cell_type": "markdown",
   "metadata": {},
   "source": [
    "Ví dụ sau đây nói về việc ưu việc hơn của Python trong cách cho ra giá trị trả về, **thực sự Python trả về một danh sách(list)các giá trị các bạn à**:"
   ]
  },
  {
   "cell_type": "code",
   "execution_count": 10,
   "metadata": {},
   "outputs": [],
   "source": [
    "def sum_even_odd(array):\n",
    "    \"\"\"\n",
    "    This function aim to calculate sum of even elements and sum of odd elements in array.\n",
    "    Arguments: array(list / dictionary / ...) is a list of integer numbers.\n",
    "    Return values: two values\n",
    "        - the first values is sum of even numbers in array\n",
    "        - the remain values is sum of odd numbers in array\n",
    "    \"\"\"\n",
    "    even_sum = 0\n",
    "    odd_sum = 0\n",
    "    for element in array:\n",
    "        if element & 1 == 0:\n",
    "            even_sum += element\n",
    "        else:\n",
    "            odd_sum += element\n",
    "    return even_sum, odd_sum"
   ]
  },
  {
   "cell_type": "code",
   "execution_count": 11,
   "metadata": {},
   "outputs": [
    {
     "name": "stdout",
     "output_type": "stream",
     "text": [
      "The sum of even elements in my_array is 14\n",
      "The sum of odd elements in my_array is 4\n"
     ]
    }
   ],
   "source": [
    "my_array = [1, 10, 3, 4, 1, -1]\n",
    "even_sum, odd_sum = sum_even_odd(my_array)\n",
    "print(f\"The sum of even elements in my_array is {even_sum}\")\n",
    "print(f\"The sum of odd elements in my_array is {odd_sum}\")"
   ]
  },
  {
   "cell_type": "markdown",
   "metadata": {},
   "source": [
    "## 6. Phạm vi và thời gian tồn tại của biến"
   ]
  },
  {
   "cell_type": "markdown",
   "metadata": {},
   "source": [
    "Vì chương trình của ta được `\"ngắt\"` thành cách nhiệm vụ nhỏ hơn được cụ thể hóa dưới khái niệm hàm(chiến lược chia để trị) nên trong mỗi hàm sẽ có các biến dùng bên trong các hàm được khai báo. Vì vậy, một số các câu hỏi được đặt ra:\n",
    "- Biến này được khai báo ở đoạn này liệu có thể sử dụng ở đoạn kia không ?\n",
    "- Khi mình thay đổi giá trị của biến ở đoạn này liệu ở đoạn chương trình khác có xuất hiện của biến đó có bị ảnh hưởng(thay đổi) hay không ?\n",
    "- ...."
   ]
  },
  {
   "cell_type": "code",
   "execution_count": 12,
   "metadata": {},
   "outputs": [
    {
     "name": "stdout",
     "output_type": "stream",
     "text": [
      "11 > 10\n",
      "NO, 13 is not divible for 10\n"
     ]
    }
   ],
   "source": [
    "global_var = 10\n",
    "\n",
    "def myfunction(a):\n",
    "    if a > global_var:\n",
    "        print(f\"{a} > {global_var}\")\n",
    "    else:\n",
    "        print(f\"{a} <= {global_var}\")\n",
    "\n",
    "def yourfunction(b):\n",
    "    if b % global_var == 0:\n",
    "        print(f\"YES, {b} is divible for {global_var}\")\n",
    "    else:\n",
    "        print(f\"NO, {b} is not divible for {global_var}\")\n",
    "        \n",
    "# Call functions\n",
    "myfunction(11)\n",
    "yourfunction(13)"
   ]
  },
  {
   "cell_type": "markdown",
   "metadata": {},
   "source": [
    "Với ví dụ trên, biến có tên là `global_var` được khai báo bên ngoài cả hai hàm là `myfunction()` và `yourfunction()`, vì vậy nó được gọi là biến toàn cục so với các biến bên trong các hàm `myfunction()` và `yourfunction()`.\n",
    "- Có hai loại biến mà ta thường quan tâm là biến toàn cục(global variables) và biến cục bộ(local variables):\n",
    "    - Biến cục bộ là biến được khai báo bên trong một khối và chỉ được dùng bên trong khối đó, khi ra ngoài khối chứa biến đó thì biến đó sẽ được thu hồi bộ nhớ và `bốc hơi`.\n",
    "    - Biến toàn cục là biến được khai báo bên ngoài của một khối có thể được sử dụng bên trong một vài khối, khi bị ảnh hưởng bởi các tác động như thay đổi giá trị thì biến sẽ bị tác động trực tiếp.\n",
    "    - **Lưu ý**: *một biến có vai trò là biến cục bộ của một khối, có thể là biến toàn cục bộ đối với các khối khác, ngược lại ột biến có vai trò là biến toàn cục cũng có thể là biến cục bộ của khối mà nó đang thuộc về**.\n",
    "    \n",
    "Một điều nữa là bạn sẽ hiểu lầm việc như ví dụ bên dưới đây: "
   ]
  },
  {
   "cell_type": "code",
   "execution_count": 13,
   "metadata": {},
   "outputs": [
    {
     "name": "stdout",
     "output_type": "stream",
     "text": [
      "10\n",
      "Giá trị của biến global_value là: 11\n",
      "10\n"
     ]
    }
   ],
   "source": [
    "global_value = 10\n",
    "\n",
    "def example():\n",
    "    global_value = 11\n",
    "    print(f\"Giá trị của biến global_value là: {global_value}\")\n",
    "\n",
    "print(global_value)\n",
    "example()\n",
    "print(global_value)"
   ]
  },
  {
   "cell_type": "markdown",
   "metadata": {},
   "source": [
    "*Bạn suy nghĩ sẽ ra được sự nhẫm lần này nhé !*"
   ]
  },
  {
   "cell_type": "markdown",
   "metadata": {},
   "source": [
    "## 6. Các loại hàm"
   ]
  },
  {
   "cell_type": "markdown",
   "metadata": {},
   "source": [
    "Có hai loại hàm mà ta quan tâm, `loại(type)` ở đây ám chỉ cách mà hàm có dựng sẵn hay không:\n",
    "- **Hàm dựng sẵn(built-in functions)** là những hàm do Python hỗ trợ sẵn cho người dùng như: `math.sqrt()`, `np.array()`, `help()`, ...\n",
    "- **Hàm do người dùng viết(user functions)** là những hàm mà do nhu cầu của bài toàn cần giải quyết mà người dùng phải lập trình cụ thể."
   ]
  },
  {
   "cell_type": "markdown",
   "metadata": {},
   "source": [
    "### Hàm dựng sẵn - built-in function"
   ]
  },
  {
   "cell_type": "code",
   "execution_count": 14,
   "metadata": {},
   "outputs": [
    {
     "name": "stdout",
     "output_type": "stream",
     "text": [
      "Square root of 10 is 3.1622776601683795\n",
      "Help on built-in function array in module numpy:\n",
      "\n",
      "array(...)\n",
      "    array(object, dtype=None, copy=True, order='K', subok=False, ndmin=0)\n",
      "    \n",
      "    Create an array.\n",
      "    \n",
      "    Parameters\n",
      "    ----------\n",
      "    object : array_like\n",
      "        An array, any object exposing the array interface, an object whose\n",
      "        __array__ method returns an array, or any (nested) sequence.\n",
      "    dtype : data-type, optional\n",
      "        The desired data-type for the array.  If not given, then the type will\n",
      "        be determined as the minimum type required to hold the objects in the\n",
      "        sequence.  This argument can only be used to 'upcast' the array.  For\n",
      "        downcasting, use the .astype(t) method.\n",
      "    copy : bool, optional\n",
      "        If true (default), then the object is copied.  Otherwise, a copy will\n",
      "        only be made if __array__ returns a copy, if obj is a nested sequence,\n",
      "        or if a copy is needed to satisfy any of the other requirements\n",
      "        (`dtype`, `order`, etc.).\n",
      "    order : {'K', 'A', 'C', 'F'}, optional\n",
      "        Specify the memory layout of the array. If object is not an array, the\n",
      "        newly created array will be in C order (row major) unless 'F' is\n",
      "        specified, in which case it will be in Fortran order (column major).\n",
      "        If object is an array the following holds.\n",
      "    \n",
      "        ===== ========= ===================================================\n",
      "        order  no copy                     copy=True\n",
      "        ===== ========= ===================================================\n",
      "        'K'   unchanged F & C order preserved, otherwise most similar order\n",
      "        'A'   unchanged F order if input is F and not C, otherwise C order\n",
      "        'C'   C order   C order\n",
      "        'F'   F order   F order\n",
      "        ===== ========= ===================================================\n",
      "    \n",
      "        When ``copy=False`` and a copy is made for other reasons, the result is\n",
      "        the same as if ``copy=True``, with some exceptions for `A`, see the\n",
      "        Notes section. The default order is 'K'.\n",
      "    subok : bool, optional\n",
      "        If True, then sub-classes will be passed-through, otherwise\n",
      "        the returned array will be forced to be a base-class array (default).\n",
      "    ndmin : int, optional\n",
      "        Specifies the minimum number of dimensions that the resulting\n",
      "        array should have.  Ones will be pre-pended to the shape as\n",
      "        needed to meet this requirement.\n",
      "    \n",
      "    Returns\n",
      "    -------\n",
      "    out : ndarray\n",
      "        An array object satisfying the specified requirements.\n",
      "    \n",
      "    See Also\n",
      "    --------\n",
      "    empty_like : Return an empty array with shape and type of input.\n",
      "    ones_like : Return an array of ones with shape and type of input.\n",
      "    zeros_like : Return an array of zeros with shape and type of input.\n",
      "    full_like : Return a new array with shape of input filled with value.\n",
      "    empty : Return a new uninitialized array.\n",
      "    ones : Return a new array setting values to one.\n",
      "    zeros : Return a new array setting values to zero.\n",
      "    full : Return a new array of given shape filled with value.\n",
      "    \n",
      "    \n",
      "    Notes\n",
      "    -----\n",
      "    When order is 'A' and `object` is an array in neither 'C' nor 'F' order,\n",
      "    and a copy is forced by a change in dtype, then the order of the result is\n",
      "    not necessarily 'C' as expected. This is likely a bug.\n",
      "    \n",
      "    Examples\n",
      "    --------\n",
      "    >>> np.array([1, 2, 3])\n",
      "    array([1, 2, 3])\n",
      "    \n",
      "    Upcasting:\n",
      "    \n",
      "    >>> np.array([1, 2, 3.0])\n",
      "    array([ 1.,  2.,  3.])\n",
      "    \n",
      "    More than one dimension:\n",
      "    \n",
      "    >>> np.array([[1, 2], [3, 4]])\n",
      "    array([[1, 2],\n",
      "           [3, 4]])\n",
      "    \n",
      "    Minimum dimensions 2:\n",
      "    \n",
      "    >>> np.array([1, 2, 3], ndmin=2)\n",
      "    array([[1, 2, 3]])\n",
      "    \n",
      "    Type provided:\n",
      "    \n",
      "    >>> np.array([1, 2, 3], dtype=complex)\n",
      "    array([ 1.+0.j,  2.+0.j,  3.+0.j])\n",
      "    \n",
      "    Data-type consisting of more than one element:\n",
      "    \n",
      "    >>> x = np.array([(1,2),(3,4)],dtype=[('a','<i4'),('b','<i4')])\n",
      "    >>> x['a']\n",
      "    array([1, 3])\n",
      "    \n",
      "    Creating an array from sub-classes:\n",
      "    \n",
      "    >>> np.array(np.mat('1 2; 3 4'))\n",
      "    array([[1, 2],\n",
      "           [3, 4]])\n",
      "    \n",
      "    >>> np.array(np.mat('1 2; 3 4'), subok=True)\n",
      "    matrix([[1, 2],\n",
      "            [3, 4]])\n",
      "\n"
     ]
    }
   ],
   "source": [
    "import math\n",
    "import numpy as np\n",
    "\n",
    "print(f\"Square root of {10} is {math.sqrt(10)}\")\n",
    "help(np.array)"
   ]
  },
  {
   "cell_type": "markdown",
   "metadata": {},
   "source": [
    "### Hàm do người dùng viết"
   ]
  },
  {
   "cell_type": "markdown",
   "metadata": {},
   "source": [
    "```python\n",
    "def check_prime_number(a):\n",
    "    ..........\n",
    "    ..........\n",
    "    return anything\n",
    "    \n",
    "def processing(path):\n",
    "    ..........\n",
    "    ..........\n",
    "    return anything\n",
    "```"
   ]
  },
  {
   "cell_type": "markdown",
   "metadata": {},
   "source": [
    "## 8. Từ khóa `global`"
   ]
  },
  {
   "cell_type": "markdown",
   "metadata": {},
   "source": [
    "Từ khóa `global` là từ khóa giúp chúng ta có thể lấy được giá trị của một biến toàn cục bên ngoài phạm vị của khối."
   ]
  },
  {
   "cell_type": "code",
   "execution_count": 15,
   "metadata": {},
   "outputs": [
    {
     "name": "stdout",
     "output_type": "stream",
     "text": [
      "10\n",
      "Giá trị của biến global_value là: 11\n",
      "11\n"
     ]
    }
   ],
   "source": [
    "global_value = 10\n",
    "\n",
    "def example():\n",
    "    global global_value\n",
    "    global_value = global_value + 1\n",
    "    print(f\"Giá trị của biến global_value là: {global_value}\")\n",
    "\n",
    "print(global_value)\n",
    "example()\n",
    "print(global_value)"
   ]
  },
  {
   "cell_type": "markdown",
   "metadata": {},
   "source": [
    "Lấy lại ví dụ bên trên, chúng ta sẽ không thể truy cập(vì vậy không thể thay đổi) giá trị của một biến nằm bên ngoài định nghĩa hàm. Nhưng với từ khóa `global` ta đã truy cập đến được giá trị `global_value` ở dòng *4* đống vai trò là biến toàn cục của chương trình và thay đổi giá trị của nó. Chúng ta chứng minh điều đó qua 3 dòng xuất giá trị $8, 9, 10$."
   ]
  },
  {
   "cell_type": "markdown",
   "metadata": {},
   "source": [
    "<p style = \"text-align: center\"><b>Khi nào ta dùng từ khóa global ?</p>"
   ]
  },
  {
   "cell_type": "markdown",
   "metadata": {},
   "source": [
    "Khi ta muốn truy xuất đến giá trị của biến toàn cục bên ngoài phạm vi của định nghĩa hàm ta dùng từ khóa global. Trong trường hợp nhất định ta phải dùng từ khóa `global` mới có thể xử lý bài toán được nên cần chú ý."
   ]
  },
  {
   "cell_type": "markdown",
   "metadata": {},
   "source": [
    "## 9. Hàm `lambda`"
   ]
  },
  {
   "cell_type": "markdown",
   "metadata": {},
   "source": [
    "**Cú pháp**:\n",
    "```python\n",
    "lambda arguments: expression\n",
    "```\n",
    "\n",
    "**Ví dụ**:"
   ]
  },
  {
   "cell_type": "code",
   "execution_count": 16,
   "metadata": {},
   "outputs": [
    {
     "name": "stdout",
     "output_type": "stream",
     "text": [
      "15\n"
     ]
    }
   ],
   "source": [
    "x = lambda a: a + 10\n",
    "print(x(5))"
   ]
  },
  {
   "cell_type": "markdown",
   "metadata": {},
   "source": [
    "Phân tích đoạn chương trình trên:\n",
    "- *Dòng 1*: định nghĩa một hàm lambda, với giá trị trả về được lưu vào biến x.\n",
    "- *Dòng 2*: x(5) có nghĩa là x gọi thực hiện hàm lambda được định nghĩa ở phía trên với đối số là $5$, tức lúc này $a = 5$.\n",
    "- Sau đó biểu thức `a + 10` được tính toán và giá trị trả về được gán vào biến x."
   ]
  },
  {
   "cell_type": "markdown",
   "metadata": {},
   "source": [
    "Một ví dụ khác về việc sử dụng `lambda function`:"
   ]
  },
  {
   "cell_type": "code",
   "execution_count": 17,
   "metadata": {},
   "outputs": [
    {
     "name": "stdout",
     "output_type": "stream",
     "text": [
      "True\n"
     ]
    }
   ],
   "source": [
    "x = lambda a, b: a % b == 0\n",
    "print(x(40,20))"
   ]
  },
  {
   "cell_type": "markdown",
   "metadata": {},
   "source": [
    "Một lần nữa, chúng ta định nghĩa hàm lambda với giá trị trả về được lưu trong biến x và hàm này cần truyền vào hai đối số là $a, b$. Dòng 2 gọi thực hiện với hai đối số là 40, và 20.\n",
    "<p style = \"text-align: center\"><b>Khi nào thì dùng hàm `lambda` ? </p>"
   ]
  },
  {
   "cell_type": "markdown",
   "metadata": {},
   "source": [
    "Sử dụng các hàm lambda khi cần một hàm ẩn danh trong một khoảng thời gian ngắn."
   ]
  },
  {
   "cell_type": "code",
   "execution_count": 18,
   "metadata": {},
   "outputs": [
    {
     "name": "stdout",
     "output_type": "stream",
     "text": [
      "33\n",
      "66\n"
     ]
    }
   ],
   "source": [
    "def myfunc(n):\n",
    "  return lambda a : a * n\n",
    "\n",
    "mytripler = myfunc(3)\n",
    "\n",
    "print(mytripler(11))\n",
    "print(mytripler(22))"
   ]
  },
  {
   "cell_type": "markdown",
   "metadata": {},
   "source": [
    "## 9. Python Modules"
   ]
  },
  {
   "cell_type": "markdown",
   "metadata": {},
   "source": [
    "Từ đầu đến giờ chúng ta đã tìm hiểu các chi tiết trong lập trình hàm, cụ thể là cách định nghĩa, cách gọi hàm, các sử dụng biến trong và ngoài hàm và một số vấn đề liên quan.\n",
    "\n",
    "Bây giờ giả sử ta có rất nhiều hàm, rất nhiều câu lệnh, đoạn chương trình được viết trong một file, ta muốn đem các hàm này vào một chương trình khác để **tái sử dụng lại** thì làm thế nào ? Không thể nào mà đi viết lại(hoặc là copy rồi paste) vì quá tốn thời gian và dễ có lỗi. Python nói riêng cũng như các ngôn ngữ lập trình nói chung hỗ trợ cơ chế gôm chung các hàm, các giá trị bên trong một tập tin và **đóng gói lại** tạo thành một package hay còn gọi là module hay cũng được gọi là thư viện.\n",
    "\n",
    "Khi ta cần sử dụng module(thư viện) thì chỉ cần import nó vào chương trình qua câu lệnh:\n",
    "```python\n",
    "import name_of_module\n",
    "```\n",
    "hoặc là:\n",
    "```python\n",
    "import name_of_module as alias_name\n",
    "```\n",
    "hoặc là:\n",
    "```python\n",
    "from name_of_module import name_of_function/name_of_class/attribute\n",
    "```\n",
    "hoặc là\n",
    "```python\n",
    "from name_of_module import name_of_function/name_of_class/attribute as alias_name\n",
    "```\n",
    "\n",
    "Quan sát ví dụ dưới đây về cách sử dụng thư viện có tên `numpy`, viết tắt của từ **`numerical python`** đây là thư viện hỗ trợ cho việc tính toán khoa học, thao tác trên ma trận, biến đối Fourier:"
   ]
  },
  {
   "cell_type": "code",
   "execution_count": 19,
   "metadata": {},
   "outputs": [
    {
     "name": "stdout",
     "output_type": "stream",
     "text": [
      "[1 2 3 4]\n"
     ]
    }
   ],
   "source": [
    "import numpy\n",
    "myarray = numpy.array([1,2,3,4])\n",
    "print(myarray)"
   ]
  },
  {
   "cell_type": "code",
   "execution_count": 20,
   "metadata": {},
   "outputs": [
    {
     "name": "stdout",
     "output_type": "stream",
     "text": [
      "[[ 1  2  3]\n",
      " [ 1  2  1]\n",
      " [ 0  1 -1]]\n"
     ]
    }
   ],
   "source": [
    "import numpy as np\n",
    "myarray = np.array([[1,2,3],[1,2,1],[0,1,-1]])\n",
    "print(myarray)"
   ]
  },
  {
   "cell_type": "code",
   "execution_count": 21,
   "metadata": {},
   "outputs": [
    {
     "name": "stdout",
     "output_type": "stream",
     "text": [
      "24\n"
     ]
    }
   ],
   "source": [
    "from numpy import random\n",
    "my_number = random.randint(1,100)\n",
    "print(my_number)"
   ]
  },
  {
   "cell_type": "code",
   "execution_count": 22,
   "metadata": {},
   "outputs": [
    {
     "name": "stdout",
     "output_type": "stream",
     "text": [
      "[[0.44032955 0.93195172 0.57411319 0.58187282 0.50746011 0.83950875\n",
      "  0.78902717 0.67518136 0.34650113 0.49937866 0.43855673 0.87826032\n",
      "  0.29461516 0.12158298 0.07405452 0.73871098 0.33712302 0.64722165\n",
      "  0.23485841 0.38324333 0.87294159 0.7742667  0.51456635 0.25184372\n",
      "  0.77268939 0.42976653 0.18673541 0.66176704 0.81619838 0.32908954\n",
      "  0.17954338 0.03370928 0.26695609 0.33293813 0.19447081 0.19671881\n",
      "  0.46660525 0.97524432 0.59842189 0.94497272 0.54963186 0.6140537\n",
      "  0.88741325 0.45334328 0.8451715  0.4429926  0.62812691 0.82611243\n",
      "  0.55446503 0.47750378 0.37482331 0.26296625 0.29279595 0.936352\n",
      "  0.31139966 0.28038612 0.11785194 0.80175708 0.65600837 0.59756676\n",
      "  0.41433025 0.44600834 0.77310388 0.9331467  0.57127386 0.63972659\n",
      "  0.46235685 0.31111081 0.99982152 0.40330165 0.40151621 0.8886819\n",
      "  0.17576846 0.41841985 0.01110485 0.09945188 0.69604711 0.30356908\n",
      "  0.17950243 0.02531306 0.1061494  0.98247283 0.81297763 0.23918134\n",
      "  0.65563476 0.66503496 0.34725922 0.8651111  0.59554878 0.40034763\n",
      "  0.45910361 0.5609     0.78048649 0.79744803 0.98365437 0.36516284\n",
      "  0.39998061 0.73110299 0.41064061 0.20091846]]\n"
     ]
    }
   ],
   "source": [
    "from numpy import random as rd\n",
    "my_number = random.rand(1,100)\n",
    "print(my_number)"
   ]
  },
  {
   "cell_type": "markdown",
   "metadata": {},
   "source": [
    "Các module mà ta đã thường dùng trong lập trình cơ bản là: `math`, `sys`, `os`, ...\n",
    "Thường khi dùng một package/thư viện mà đã được cung cấp sắn ta thường dùng hàm `help()` để xem chi tiết bên trong hàm."
   ]
  },
  {
   "cell_type": "code",
   "execution_count": 23,
   "metadata": {},
   "outputs": [
    {
     "name": "stdout",
     "output_type": "stream",
     "text": [
      "Help on module random:\n",
      "\n",
      "NAME\n",
      "    random - Random variable generators.\n",
      "\n",
      "DESCRIPTION\n",
      "        integers\n",
      "        --------\n",
      "               uniform within range\n",
      "    \n",
      "        sequences\n",
      "        ---------\n",
      "               pick random element\n",
      "               pick random sample\n",
      "               pick weighted random sample\n",
      "               generate random permutation\n",
      "    \n",
      "        distributions on the real line:\n",
      "        ------------------------------\n",
      "               uniform\n",
      "               triangular\n",
      "               normal (Gaussian)\n",
      "               lognormal\n",
      "               negative exponential\n",
      "               gamma\n",
      "               beta\n",
      "               pareto\n",
      "               Weibull\n",
      "    \n",
      "        distributions on the circle (angles 0 to 2pi)\n",
      "        ---------------------------------------------\n",
      "               circular uniform\n",
      "               von Mises\n",
      "    \n",
      "    General notes on the underlying Mersenne Twister core generator:\n",
      "    \n",
      "    * The period is 2**19937-1.\n",
      "    * It is one of the most extensively tested generators in existence.\n",
      "    * The random() method is implemented in C, executes in a single Python step,\n",
      "      and is, therefore, threadsafe.\n",
      "\n",
      "CLASSES\n",
      "    _random.Random(builtins.object)\n",
      "        Random\n",
      "            SystemRandom\n",
      "    \n",
      "    class Random(_random.Random)\n",
      "     |  Random(x=None)\n",
      "     |  \n",
      "     |  Random number generator base class used by bound module functions.\n",
      "     |  \n",
      "     |  Used to instantiate instances of Random to get generators that don't\n",
      "     |  share state.\n",
      "     |  \n",
      "     |  Class Random can also be subclassed if you want to use a different basic\n",
      "     |  generator of your own devising: in that case, override the following\n",
      "     |  methods:  random(), seed(), getstate(), and setstate().\n",
      "     |  Optionally, implement a getrandbits() method so that randrange()\n",
      "     |  can cover arbitrarily large ranges.\n",
      "     |  \n",
      "     |  Method resolution order:\n",
      "     |      Random\n",
      "     |      _random.Random\n",
      "     |      builtins.object\n",
      "     |  \n",
      "     |  Methods defined here:\n",
      "     |  \n",
      "     |  __getstate__(self)\n",
      "     |      # Issue 17489: Since __reduce__ was defined to fix #759889 this is no\n",
      "     |      # longer called; we leave it here because it has been here since random was\n",
      "     |      # rewritten back in 2001 and why risk breaking something.\n",
      "     |  \n",
      "     |  __init__(self, x=None)\n",
      "     |      Initialize an instance.\n",
      "     |      \n",
      "     |      Optional argument x controls seeding, as for Random.seed().\n",
      "     |  \n",
      "     |  __reduce__(self)\n",
      "     |      Helper for pickle.\n",
      "     |  \n",
      "     |  __setstate__(self, state)\n",
      "     |  \n",
      "     |  betavariate(self, alpha, beta)\n",
      "     |      Beta distribution.\n",
      "     |      \n",
      "     |      Conditions on the parameters are alpha > 0 and beta > 0.\n",
      "     |      Returned values range between 0 and 1.\n",
      "     |  \n",
      "     |  choice(self, seq)\n",
      "     |      Choose a random element from a non-empty sequence.\n",
      "     |  \n",
      "     |  choices(self, population, weights=None, *, cum_weights=None, k=1)\n",
      "     |      Return a k sized list of population elements chosen with replacement.\n",
      "     |      \n",
      "     |      If the relative weights or cumulative weights are not specified,\n",
      "     |      the selections are made with equal probability.\n",
      "     |  \n",
      "     |  expovariate(self, lambd)\n",
      "     |      Exponential distribution.\n",
      "     |      \n",
      "     |      lambd is 1.0 divided by the desired mean.  It should be\n",
      "     |      nonzero.  (The parameter would be called \"lambda\", but that is\n",
      "     |      a reserved word in Python.)  Returned values range from 0 to\n",
      "     |      positive infinity if lambd is positive, and from negative\n",
      "     |      infinity to 0 if lambd is negative.\n",
      "     |  \n",
      "     |  gammavariate(self, alpha, beta)\n",
      "     |      Gamma distribution.  Not the gamma function!\n",
      "     |      \n",
      "     |      Conditions on the parameters are alpha > 0 and beta > 0.\n",
      "     |      \n",
      "     |      The probability distribution function is:\n",
      "     |      \n",
      "     |                  x ** (alpha - 1) * math.exp(-x / beta)\n",
      "     |        pdf(x) =  --------------------------------------\n",
      "     |                    math.gamma(alpha) * beta ** alpha\n",
      "     |  \n",
      "     |  gauss(self, mu, sigma)\n",
      "     |      Gaussian distribution.\n",
      "     |      \n",
      "     |      mu is the mean, and sigma is the standard deviation.  This is\n",
      "     |      slightly faster than the normalvariate() function.\n",
      "     |      \n",
      "     |      Not thread-safe without a lock around calls.\n",
      "     |  \n",
      "     |  getstate(self)\n",
      "     |      Return internal state; can be passed to setstate() later.\n",
      "     |  \n",
      "     |  lognormvariate(self, mu, sigma)\n",
      "     |      Log normal distribution.\n",
      "     |      \n",
      "     |      If you take the natural logarithm of this distribution, you'll get a\n",
      "     |      normal distribution with mean mu and standard deviation sigma.\n",
      "     |      mu can have any value, and sigma must be greater than zero.\n",
      "     |  \n",
      "     |  normalvariate(self, mu, sigma)\n",
      "     |      Normal distribution.\n",
      "     |      \n",
      "     |      mu is the mean, and sigma is the standard deviation.\n",
      "     |  \n",
      "     |  paretovariate(self, alpha)\n",
      "     |      Pareto distribution.  alpha is the shape parameter.\n",
      "     |  \n",
      "     |  randint(self, a, b)\n",
      "     |      Return random integer in range [a, b], including both end points.\n",
      "     |  \n",
      "     |  randrange(self, start, stop=None, step=1, _int=<class 'int'>)\n",
      "     |      Choose a random item from range(start, stop[, step]).\n",
      "     |      \n",
      "     |      This fixes the problem with randint() which includes the\n",
      "     |      endpoint; in Python this is usually not what you want.\n",
      "     |  \n",
      "     |  sample(self, population, k)\n",
      "     |      Chooses k unique random elements from a population sequence or set.\n",
      "     |      \n",
      "     |      Returns a new list containing elements from the population while\n",
      "     |      leaving the original population unchanged.  The resulting list is\n",
      "     |      in selection order so that all sub-slices will also be valid random\n",
      "     |      samples.  This allows raffle winners (the sample) to be partitioned\n",
      "     |      into grand prize and second place winners (the subslices).\n",
      "     |      \n",
      "     |      Members of the population need not be hashable or unique.  If the\n",
      "     |      population contains repeats, then each occurrence is a possible\n",
      "     |      selection in the sample.\n",
      "     |      \n",
      "     |      To choose a sample in a range of integers, use range as an argument.\n",
      "     |      This is especially fast and space efficient for sampling from a\n",
      "     |      large population:   sample(range(10000000), 60)\n",
      "     |  \n",
      "     |  seed(self, a=None, version=2)\n",
      "     |      Initialize internal state from hashable object.\n",
      "     |      \n",
      "     |      None or no argument seeds from current time or from an operating\n",
      "     |      system specific randomness source if available.\n",
      "     |      \n",
      "     |      If *a* is an int, all bits are used.\n",
      "     |      \n",
      "     |      For version 2 (the default), all of the bits are used if *a* is a str,\n",
      "     |      bytes, or bytearray.  For version 1 (provided for reproducing random\n",
      "     |      sequences from older versions of Python), the algorithm for str and\n",
      "     |      bytes generates a narrower range of seeds.\n",
      "     |  \n",
      "     |  setstate(self, state)\n",
      "     |      Restore internal state from object returned by getstate().\n",
      "     |  \n",
      "     |  shuffle(self, x, random=None)\n",
      "     |      Shuffle list x in place, and return None.\n",
      "     |      \n",
      "     |      Optional argument random is a 0-argument function returning a\n",
      "     |      random float in [0.0, 1.0); if it is the default None, the\n",
      "     |      standard random.random will be used.\n",
      "     |  \n",
      "     |  triangular(self, low=0.0, high=1.0, mode=None)\n",
      "     |      Triangular distribution.\n",
      "     |      \n",
      "     |      Continuous distribution bounded by given lower and upper limits,\n",
      "     |      and having a given mode value in-between.\n",
      "     |      \n",
      "     |      http://en.wikipedia.org/wiki/Triangular_distribution\n",
      "     |  \n",
      "     |  uniform(self, a, b)\n",
      "     |      Get a random number in the range [a, b) or [a, b] depending on rounding.\n",
      "     |  \n",
      "     |  vonmisesvariate(self, mu, kappa)\n",
      "     |      Circular data distribution.\n",
      "     |      \n",
      "     |      mu is the mean angle, expressed in radians between 0 and 2*pi, and\n",
      "     |      kappa is the concentration parameter, which must be greater than or\n",
      "     |      equal to zero.  If kappa is equal to zero, this distribution reduces\n",
      "     |      to a uniform random angle over the range 0 to 2*pi.\n",
      "     |  \n",
      "     |  weibullvariate(self, alpha, beta)\n",
      "     |      Weibull distribution.\n",
      "     |      \n",
      "     |      alpha is the scale parameter and beta is the shape parameter.\n",
      "     |  \n",
      "     |  ----------------------------------------------------------------------\n",
      "     |  Data descriptors defined here:\n",
      "     |  \n",
      "     |  __dict__\n",
      "     |      dictionary for instance variables (if defined)\n",
      "     |  \n",
      "     |  __weakref__\n",
      "     |      list of weak references to the object (if defined)\n",
      "     |  \n",
      "     |  ----------------------------------------------------------------------\n",
      "     |  Data and other attributes defined here:\n",
      "     |  \n",
      "     |  VERSION = 3\n",
      "     |  \n",
      "     |  ----------------------------------------------------------------------\n",
      "     |  Methods inherited from _random.Random:\n",
      "     |  \n",
      "     |  __getattribute__(self, name, /)\n",
      "     |      Return getattr(self, name).\n",
      "     |  \n",
      "     |  getrandbits(...)\n",
      "     |      getrandbits(k) -> x.  Generates an int with k random bits.\n",
      "     |  \n",
      "     |  random(...)\n",
      "     |      random() -> x in the interval [0, 1).\n",
      "     |  \n",
      "     |  ----------------------------------------------------------------------\n",
      "     |  Static methods inherited from _random.Random:\n",
      "     |  \n",
      "     |  __new__(*args, **kwargs) from builtins.type\n",
      "     |      Create and return a new object.  See help(type) for accurate signature.\n",
      "    \n",
      "    class SystemRandom(Random)\n",
      "     |  SystemRandom(x=None)\n",
      "     |  \n",
      "     |  Alternate random number generator using sources provided\n",
      "     |  by the operating system (such as /dev/urandom on Unix or\n",
      "     |  CryptGenRandom on Windows).\n",
      "     |  \n",
      "     |   Not available on all systems (see os.urandom() for details).\n",
      "     |  \n",
      "     |  Method resolution order:\n",
      "     |      SystemRandom\n",
      "     |      Random\n",
      "     |      _random.Random\n",
      "     |      builtins.object\n",
      "     |  \n",
      "     |  Methods defined here:\n",
      "     |  \n",
      "     |  getrandbits(self, k)\n",
      "     |      getrandbits(k) -> x.  Generates an int with k random bits.\n",
      "     |  \n",
      "     |  getstate = _notimplemented(self, *args, **kwds)\n",
      "     |  \n",
      "     |  random(self)\n",
      "     |      Get the next random number in the range [0.0, 1.0).\n",
      "     |  \n",
      "     |  seed(self, *args, **kwds)\n",
      "     |      Stub method.  Not used for a system random number generator.\n",
      "     |  \n",
      "     |  setstate = _notimplemented(self, *args, **kwds)\n",
      "     |  \n",
      "     |  ----------------------------------------------------------------------\n",
      "     |  Methods inherited from Random:\n",
      "     |  \n",
      "     |  __getstate__(self)\n",
      "     |      # Issue 17489: Since __reduce__ was defined to fix #759889 this is no\n",
      "     |      # longer called; we leave it here because it has been here since random was\n",
      "     |      # rewritten back in 2001 and why risk breaking something.\n",
      "     |  \n",
      "     |  __init__(self, x=None)\n",
      "     |      Initialize an instance.\n",
      "     |      \n",
      "     |      Optional argument x controls seeding, as for Random.seed().\n",
      "     |  \n",
      "     |  __reduce__(self)\n",
      "     |      Helper for pickle.\n",
      "     |  \n",
      "     |  __setstate__(self, state)\n",
      "     |  \n",
      "     |  betavariate(self, alpha, beta)\n",
      "     |      Beta distribution.\n",
      "     |      \n",
      "     |      Conditions on the parameters are alpha > 0 and beta > 0.\n",
      "     |      Returned values range between 0 and 1.\n",
      "     |  \n",
      "     |  choice(self, seq)\n",
      "     |      Choose a random element from a non-empty sequence.\n",
      "     |  \n",
      "     |  choices(self, population, weights=None, *, cum_weights=None, k=1)\n",
      "     |      Return a k sized list of population elements chosen with replacement.\n",
      "     |      \n",
      "     |      If the relative weights or cumulative weights are not specified,\n",
      "     |      the selections are made with equal probability.\n",
      "     |  \n",
      "     |  expovariate(self, lambd)\n",
      "     |      Exponential distribution.\n",
      "     |      \n",
      "     |      lambd is 1.0 divided by the desired mean.  It should be\n",
      "     |      nonzero.  (The parameter would be called \"lambda\", but that is\n",
      "     |      a reserved word in Python.)  Returned values range from 0 to\n",
      "     |      positive infinity if lambd is positive, and from negative\n",
      "     |      infinity to 0 if lambd is negative.\n",
      "     |  \n",
      "     |  gammavariate(self, alpha, beta)\n",
      "     |      Gamma distribution.  Not the gamma function!\n",
      "     |      \n",
      "     |      Conditions on the parameters are alpha > 0 and beta > 0.\n",
      "     |      \n",
      "     |      The probability distribution function is:\n",
      "     |      \n",
      "     |                  x ** (alpha - 1) * math.exp(-x / beta)\n",
      "     |        pdf(x) =  --------------------------------------\n",
      "     |                    math.gamma(alpha) * beta ** alpha\n",
      "     |  \n",
      "     |  gauss(self, mu, sigma)\n",
      "     |      Gaussian distribution.\n",
      "     |      \n",
      "     |      mu is the mean, and sigma is the standard deviation.  This is\n",
      "     |      slightly faster than the normalvariate() function.\n",
      "     |      \n",
      "     |      Not thread-safe without a lock around calls.\n",
      "     |  \n",
      "     |  lognormvariate(self, mu, sigma)\n",
      "     |      Log normal distribution.\n",
      "     |      \n",
      "     |      If you take the natural logarithm of this distribution, you'll get a\n",
      "     |      normal distribution with mean mu and standard deviation sigma.\n",
      "     |      mu can have any value, and sigma must be greater than zero.\n",
      "     |  \n",
      "     |  normalvariate(self, mu, sigma)\n",
      "     |      Normal distribution.\n",
      "     |      \n",
      "     |      mu is the mean, and sigma is the standard deviation.\n",
      "     |  \n",
      "     |  paretovariate(self, alpha)\n",
      "     |      Pareto distribution.  alpha is the shape parameter.\n",
      "     |  \n",
      "     |  randint(self, a, b)\n",
      "     |      Return random integer in range [a, b], including both end points.\n",
      "     |  \n",
      "     |  randrange(self, start, stop=None, step=1, _int=<class 'int'>)\n",
      "     |      Choose a random item from range(start, stop[, step]).\n",
      "     |      \n",
      "     |      This fixes the problem with randint() which includes the\n",
      "     |      endpoint; in Python this is usually not what you want.\n",
      "     |  \n",
      "     |  sample(self, population, k)\n",
      "     |      Chooses k unique random elements from a population sequence or set.\n",
      "     |      \n",
      "     |      Returns a new list containing elements from the population while\n",
      "     |      leaving the original population unchanged.  The resulting list is\n",
      "     |      in selection order so that all sub-slices will also be valid random\n",
      "     |      samples.  This allows raffle winners (the sample) to be partitioned\n",
      "     |      into grand prize and second place winners (the subslices).\n",
      "     |      \n",
      "     |      Members of the population need not be hashable or unique.  If the\n",
      "     |      population contains repeats, then each occurrence is a possible\n",
      "     |      selection in the sample.\n",
      "     |      \n",
      "     |      To choose a sample in a range of integers, use range as an argument.\n",
      "     |      This is especially fast and space efficient for sampling from a\n",
      "     |      large population:   sample(range(10000000), 60)\n",
      "     |  \n",
      "     |  shuffle(self, x, random=None)\n",
      "     |      Shuffle list x in place, and return None.\n",
      "     |      \n",
      "     |      Optional argument random is a 0-argument function returning a\n",
      "     |      random float in [0.0, 1.0); if it is the default None, the\n",
      "     |      standard random.random will be used.\n",
      "     |  \n",
      "     |  triangular(self, low=0.0, high=1.0, mode=None)\n",
      "     |      Triangular distribution.\n",
      "     |      \n",
      "     |      Continuous distribution bounded by given lower and upper limits,\n",
      "     |      and having a given mode value in-between.\n",
      "     |      \n",
      "     |      http://en.wikipedia.org/wiki/Triangular_distribution\n",
      "     |  \n",
      "     |  uniform(self, a, b)\n",
      "     |      Get a random number in the range [a, b) or [a, b] depending on rounding.\n",
      "     |  \n",
      "     |  vonmisesvariate(self, mu, kappa)\n",
      "     |      Circular data distribution.\n",
      "     |      \n",
      "     |      mu is the mean angle, expressed in radians between 0 and 2*pi, and\n",
      "     |      kappa is the concentration parameter, which must be greater than or\n",
      "     |      equal to zero.  If kappa is equal to zero, this distribution reduces\n",
      "     |      to a uniform random angle over the range 0 to 2*pi.\n",
      "     |  \n",
      "     |  weibullvariate(self, alpha, beta)\n",
      "     |      Weibull distribution.\n",
      "     |      \n",
      "     |      alpha is the scale parameter and beta is the shape parameter.\n",
      "     |  \n",
      "     |  ----------------------------------------------------------------------\n",
      "     |  Data descriptors inherited from Random:\n",
      "     |  \n",
      "     |  __dict__\n",
      "     |      dictionary for instance variables (if defined)\n",
      "     |  \n",
      "     |  __weakref__\n",
      "     |      list of weak references to the object (if defined)\n",
      "     |  \n",
      "     |  ----------------------------------------------------------------------\n",
      "     |  Data and other attributes inherited from Random:\n",
      "     |  \n",
      "     |  VERSION = 3\n",
      "     |  \n",
      "     |  ----------------------------------------------------------------------\n",
      "     |  Methods inherited from _random.Random:\n",
      "     |  \n",
      "     |  __getattribute__(self, name, /)\n",
      "     |      Return getattr(self, name).\n",
      "     |  \n",
      "     |  ----------------------------------------------------------------------\n",
      "     |  Static methods inherited from _random.Random:\n",
      "     |  \n",
      "     |  __new__(*args, **kwargs) from builtins.type\n",
      "     |      Create and return a new object.  See help(type) for accurate signature.\n",
      "\n",
      "FUNCTIONS\n",
      "    betavariate(alpha, beta) method of Random instance\n",
      "        Beta distribution.\n",
      "        \n",
      "        Conditions on the parameters are alpha > 0 and beta > 0.\n",
      "        Returned values range between 0 and 1.\n",
      "    \n",
      "    choice(seq) method of Random instance\n",
      "        Choose a random element from a non-empty sequence.\n",
      "    \n",
      "    choices(population, weights=None, *, cum_weights=None, k=1) method of Random instance\n",
      "        Return a k sized list of population elements chosen with replacement.\n",
      "        \n",
      "        If the relative weights or cumulative weights are not specified,\n",
      "        the selections are made with equal probability.\n",
      "    \n",
      "    expovariate(lambd) method of Random instance\n",
      "        Exponential distribution.\n",
      "        \n",
      "        lambd is 1.0 divided by the desired mean.  It should be\n",
      "        nonzero.  (The parameter would be called \"lambda\", but that is\n",
      "        a reserved word in Python.)  Returned values range from 0 to\n",
      "        positive infinity if lambd is positive, and from negative\n",
      "        infinity to 0 if lambd is negative.\n",
      "    \n",
      "    gammavariate(alpha, beta) method of Random instance\n",
      "        Gamma distribution.  Not the gamma function!\n",
      "        \n",
      "        Conditions on the parameters are alpha > 0 and beta > 0.\n",
      "        \n",
      "        The probability distribution function is:\n",
      "        \n",
      "                    x ** (alpha - 1) * math.exp(-x / beta)\n",
      "          pdf(x) =  --------------------------------------\n",
      "                      math.gamma(alpha) * beta ** alpha\n",
      "    \n",
      "    gauss(mu, sigma) method of Random instance\n",
      "        Gaussian distribution.\n",
      "        \n",
      "        mu is the mean, and sigma is the standard deviation.  This is\n",
      "        slightly faster than the normalvariate() function.\n",
      "        \n",
      "        Not thread-safe without a lock around calls.\n",
      "    \n",
      "    getrandbits(...) method of Random instance\n",
      "        getrandbits(k) -> x.  Generates an int with k random bits.\n",
      "    \n",
      "    getstate() method of Random instance\n",
      "        Return internal state; can be passed to setstate() later.\n",
      "    \n",
      "    lognormvariate(mu, sigma) method of Random instance\n",
      "        Log normal distribution.\n",
      "        \n",
      "        If you take the natural logarithm of this distribution, you'll get a\n",
      "        normal distribution with mean mu and standard deviation sigma.\n",
      "        mu can have any value, and sigma must be greater than zero.\n",
      "    \n",
      "    normalvariate(mu, sigma) method of Random instance\n",
      "        Normal distribution.\n",
      "        \n",
      "        mu is the mean, and sigma is the standard deviation.\n",
      "    \n",
      "    paretovariate(alpha) method of Random instance\n",
      "        Pareto distribution.  alpha is the shape parameter.\n",
      "    \n",
      "    randint(a, b) method of Random instance\n",
      "        Return random integer in range [a, b], including both end points.\n",
      "    \n",
      "    random(...) method of Random instance\n",
      "        random() -> x in the interval [0, 1).\n",
      "    \n",
      "    randrange(start, stop=None, step=1, _int=<class 'int'>) method of Random instance\n",
      "        Choose a random item from range(start, stop[, step]).\n",
      "        \n",
      "        This fixes the problem with randint() which includes the\n",
      "        endpoint; in Python this is usually not what you want.\n",
      "    \n",
      "    sample(population, k) method of Random instance\n",
      "        Chooses k unique random elements from a population sequence or set.\n",
      "        \n",
      "        Returns a new list containing elements from the population while\n",
      "        leaving the original population unchanged.  The resulting list is\n",
      "        in selection order so that all sub-slices will also be valid random\n",
      "        samples.  This allows raffle winners (the sample) to be partitioned\n",
      "        into grand prize and second place winners (the subslices).\n",
      "        \n",
      "        Members of the population need not be hashable or unique.  If the\n",
      "        population contains repeats, then each occurrence is a possible\n",
      "        selection in the sample.\n",
      "        \n",
      "        To choose a sample in a range of integers, use range as an argument.\n",
      "        This is especially fast and space efficient for sampling from a\n",
      "        large population:   sample(range(10000000), 60)\n",
      "    \n",
      "    seed(a=None, version=2) method of Random instance\n",
      "        Initialize internal state from hashable object.\n",
      "        \n",
      "        None or no argument seeds from current time or from an operating\n",
      "        system specific randomness source if available.\n",
      "        \n",
      "        If *a* is an int, all bits are used.\n",
      "        \n",
      "        For version 2 (the default), all of the bits are used if *a* is a str,\n",
      "        bytes, or bytearray.  For version 1 (provided for reproducing random\n",
      "        sequences from older versions of Python), the algorithm for str and\n",
      "        bytes generates a narrower range of seeds.\n",
      "    \n",
      "    setstate(state) method of Random instance\n",
      "        Restore internal state from object returned by getstate().\n",
      "    \n",
      "    shuffle(x, random=None) method of Random instance\n",
      "        Shuffle list x in place, and return None.\n",
      "        \n",
      "        Optional argument random is a 0-argument function returning a\n",
      "        random float in [0.0, 1.0); if it is the default None, the\n",
      "        standard random.random will be used.\n",
      "    \n",
      "    triangular(low=0.0, high=1.0, mode=None) method of Random instance\n",
      "        Triangular distribution.\n",
      "        \n",
      "        Continuous distribution bounded by given lower and upper limits,\n",
      "        and having a given mode value in-between.\n",
      "        \n",
      "        http://en.wikipedia.org/wiki/Triangular_distribution\n",
      "    \n",
      "    uniform(a, b) method of Random instance\n",
      "        Get a random number in the range [a, b) or [a, b] depending on rounding.\n",
      "    \n",
      "    vonmisesvariate(mu, kappa) method of Random instance\n",
      "        Circular data distribution.\n",
      "        \n",
      "        mu is the mean angle, expressed in radians between 0 and 2*pi, and\n",
      "        kappa is the concentration parameter, which must be greater than or\n",
      "        equal to zero.  If kappa is equal to zero, this distribution reduces\n",
      "        to a uniform random angle over the range 0 to 2*pi.\n",
      "    \n",
      "    weibullvariate(alpha, beta) method of Random instance\n",
      "        Weibull distribution.\n",
      "        \n",
      "        alpha is the scale parameter and beta is the shape parameter.\n",
      "\n",
      "DATA\n",
      "    __all__ = ['Random', 'seed', 'random', 'uniform', 'randint', 'choice',...\n",
      "\n",
      "FILE\n",
      "    c:\\users\\pc\\anaconda3\\envs\\opencv_env\\lib\\random.py\n",
      "\n",
      "\n"
     ]
    }
   ],
   "source": [
    "import random\n",
    "help(random)"
   ]
  },
  {
   "cell_type": "markdown",
   "metadata": {},
   "source": [
    "## 10. Kết luận"
   ]
  },
  {
   "cell_type": "markdown",
   "metadata": {},
   "source": [
    "Chúng ta đã tìm hiểu phần hàm trong Python qua tài liệu này, hàm là một khái niệm quen thuộc trong toán học cũng như lập trình. Nó là đối tượng được đặt tên và thực hiện một nhiệm vụ cụ thể nào đó và cho ra giá trị mà ta mong muốn. Đôi khi chúng được gôm chung lại và đóng gói thành một modules hay packages để dùng cho các chương trình khác(tính tái sử dụng code).\n",
    "\n",
    "Ngoài ra, phương pháp lập trình hàm còn có một vài khuyết điểm nhưng đã được phương pháp lập trình hướng đối tượng bổ xung. Lập trình hướng đối tượng sẽ được giới thiệu vào các phần sau."
   ]
  },
  {
   "cell_type": "markdown",
   "metadata": {},
   "source": [
    "## Một số bài tập tham khảo\n",
    "\n",
    "*Chú ý: viết tất cả các chương trình theo tư duy lập trình hàm.*"
   ]
  },
  {
   "cell_type": "markdown",
   "metadata": {},
   "source": [
    "**Bài 01**. Viết chương trình nhập mảng một chiều các số nguyên và in ra các phần tử lẽ trong mảng.\n",
    "\n",
    "*Ví dụ*:\n",
    "\n",
    "input: \n",
    "```python\n",
    "10\n",
    "1 2 3 4 5 6 7 8 10 9\n",
    "```\n",
    "output:\n",
    "```python\n",
    "1 3 5 7 9\n",
    "```"
   ]
  },
  {
   "cell_type": "code",
   "execution_count": 24,
   "metadata": {},
   "outputs": [],
   "source": [
    "# Code bài 01"
   ]
  },
  {
   "cell_type": "markdown",
   "metadata": {},
   "source": [
    "**Bài 02.** Viết chương trình nhập vào một ma trận vuông có kích thước là `n`, sau đó tính vết của ma trận và in ra màn hình.\n",
    " \n",
    " *Chú ý: vết(trace) của một ma trận vuông là tổng các phần tử nằm trên đường chéo chính của ma trận vuông đó.*\n",
    " \n",
    " *Ví dụ*:\n",
    " input:\n",
    " ```python\n",
    "4\n",
    "1 2 3 4\n",
    "-1 2 3 4\n",
    "0 1 2 3\n",
    "1 10 1 -9\n",
    " ```\n",
    " output:\n",
    " ```python\n",
    "-4\n",
    "```"
   ]
  },
  {
   "cell_type": "code",
   "execution_count": 25,
   "metadata": {},
   "outputs": [],
   "source": [
    "# Code bài 02"
   ]
  },
  {
   "cell_type": "markdown",
   "metadata": {},
   "source": [
    "**Bài 03**. Tìm mảng con tổng của các phần tử trong mảng con đó là lớn nhất trong các tổng của các mảng con trong mảng một chiều các số thực được nhập từ bàn phím.\n",
    "\n",
    "*Chú ý: mảng con của một mảng là dãy các phần tử liên tiếp nhau.*\n",
    "\n",
    "*Ví dụ*:\n",
    "\n",
    "input:\n",
    "```python\n",
    "5\n",
    "-1 2 3 -3 5\n",
    "```\n",
    "output;\n",
    "```python\n",
    "\n",
    "```\n",
    "*Giải thích*:\n",
    "Các dãy con trong mảng là:\n",
    "```python\n",
    "Mảng con có độ dài là 1:\n",
    "    -1\n",
    "    2\n",
    "    3\n",
    "    -3\n",
    "    5\n",
    "Mảng con có độ dài là 2:\n",
    "    -1 2\n",
    "    2 3\n",
    "    3 -3\n",
    "    -3 5\n",
    "Mảng con có độ dài là 3:\n",
    "    -1 2 3\n",
    "    2 3 -3\n",
    "    3 -3 5\n",
    "Mảng con có độ dài là 4:\n",
    "    -1 2 3 -3\n",
    "    2 3 -3 5\n",
    "Mảng con có độ dài là 5:\n",
    "    -1 2 3 -3 5\n",
    "```\n",
    "Sau quá trình list ra các mảng con ta dễ dàng tính được tổng của từng mảng con, so sánh các giá trị tổng này ta tìm được giá trị lớn nhất là:\n",
    "```python\n",
    "2 3 -3 5 tương ứng với tổng là 7.\n",
    "```"
   ]
  },
  {
   "cell_type": "code",
   "execution_count": 26,
   "metadata": {},
   "outputs": [
    {
     "name": "stdout",
     "output_type": "stream",
     "text": [
      "5\n",
      "-1 2 3 -3 5\n",
      "[-1, 2, 3, -3, 5]\n",
      "The max sum we find is 7\n"
     ]
    }
   ],
   "source": [
    "def input_array():\n",
    "    \"\"\"\n",
    "    This function aim to input the array\n",
    "    The return values:\n",
    "        - The array we enter.\n",
    "    \"\"\"\n",
    "    arr = []\n",
    "    n = int(input())\n",
    "    elements = input()\n",
    "    elements = elements.split()\n",
    "    for element in elements:\n",
    "        arr.append(int(element))\n",
    "    print(arr)\n",
    "    return arr\n",
    "    \n",
    "def sum_subarray(arr, pos, length):\n",
    "    \"\"\"\n",
    "    This function aim to calculate the sum of subarray having started possition is pos and length\n",
    "    Arguments:\n",
    "        - arr(list/array): array of integer number.\n",
    "        - pos(int): the start possition of subarray\n",
    "        - length(int): the length of subarray\n",
    "    Return values:\n",
    "        - The integer s is the sum of elements in subarray\n",
    "    \"\"\"\n",
    "    s = 0\n",
    "    for i in range(0, length+1):\n",
    "        s = s + arr[int(i)+int(pos)]\n",
    "    return s\n",
    "\n",
    "def find_max_sum(arr):\n",
    "    \"\"\"\n",
    "    This function aim to find the max sum subarray in array.\n",
    "    Arguments:\n",
    "        - arr(list/array): arrray we want to survey.\n",
    "    Return values:\n",
    "        - the integer s is the max sum we need to find.\n",
    "    \"\"\"\n",
    "    sum_max = arr[0]\n",
    "    for l in range(1, len(arr)+1):\n",
    "        for pos in range(0, len(arr)-l):\n",
    "            current_sum = sum_subarray(arr, pos, l)\n",
    "            if current_sum > sum_max:\n",
    "                sum_max = current_sum\n",
    "    return sum_max\n",
    "\n",
    "if __name__ == '__main__':\n",
    "    arr = input_array()\n",
    "    sum_max = find_max_sum(arr)\n",
    "    print(f\"The max sum we find is {sum_max}\")"
   ]
  }
 ],
 "metadata": {
  "kernelspec": {
   "display_name": "Python 3",
   "language": "python",
   "name": "python3"
  },
  "language_info": {
   "codemirror_mode": {
    "name": "ipython",
    "version": 3
   },
   "file_extension": ".py",
   "mimetype": "text/x-python",
   "name": "python",
   "nbconvert_exporter": "python",
   "pygments_lexer": "ipython3",
   "version": "3.7.5"
  },
  "latex_envs": {
   "LaTeX_envs_menu_present": true,
   "autoclose": false,
   "autocomplete": true,
   "bibliofile": "biblio.bib",
   "cite_by": "apalike",
   "current_citInitial": 1,
   "eqLabelWithNumbers": true,
   "eqNumInitial": 1,
   "hotkeys": {
    "equation": "Ctrl-E",
    "itemize": "Ctrl-I"
   },
   "labels_anchors": false,
   "latex_user_defs": false,
   "report_style_numbering": false,
   "user_envs_cfg": false
  },
  "toc": {
   "base_numbering": 1,
   "nav_menu": {},
   "number_sections": false,
   "sideBar": true,
   "skip_h1_title": true,
   "title_cell": "Table of Contents",
   "title_sidebar": "Contents",
   "toc_cell": false,
   "toc_position": {},
   "toc_section_display": true,
   "toc_window_display": true
  }
 },
 "nbformat": 4,
 "nbformat_minor": 2
}
